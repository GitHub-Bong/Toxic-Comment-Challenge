{
  "nbformat": 4,
  "nbformat_minor": 0,
  "metadata": {
    "colab": {
      "name": "0408-translated-to-various-language.ipynb",
      "provenance": [],
      "collapsed_sections": [
        "PJKuztz9syCt",
        "aKlhAXOxs5Le",
        "U7B_lZwBtCQB",
        "CjsqxP-KtLjN"
      ],
      "toc_visible": true,
      "authorship_tag": "ABX9TyMa/gBKRD2z1BnblOHj4wZq",
      "include_colab_link": true
    },
    "kernelspec": {
      "name": "python3",
      "display_name": "Python 3"
    },
    "language_info": {
      "name": "python"
    },
    "accelerator": "GPU"
  },
  "cells": [
    {
      "cell_type": "markdown",
      "metadata": {
        "id": "view-in-github",
        "colab_type": "text"
      },
      "source": [
        "<a href=\"https://colab.research.google.com/github/GitHub-Bong/Toxic-Comment-Challenge/blob/master/0408_translated_to_various_language.ipynb\" target=\"_parent\"><img src=\"https://colab.research.google.com/assets/colab-badge.svg\" alt=\"Open In Colab\"/></a>"
      ]
    },
    {
      "cell_type": "markdown",
      "metadata": {
        "id": "M7uYd2oUCiMj"
      },
      "source": [
        "# Mount, Import"
      ]
    },
    {
      "cell_type": "code",
      "metadata": {
        "colab": {
          "base_uri": "https://localhost:8080/"
        },
        "id": "85Ku_oY5CLBq",
        "outputId": "92e4edd6-711b-4e05-d28b-c93f4e717617"
      },
      "source": [
        "from google.colab import drive\n",
        "drive.mount('/content/drive')"
      ],
      "execution_count": null,
      "outputs": [
        {
          "output_type": "stream",
          "text": [
            "Mounted at /content/drive\n"
          ],
          "name": "stdout"
        }
      ]
    },
    {
      "cell_type": "code",
      "metadata": {
        "id": "wDxTdEjmCpNk"
      },
      "source": [
        "import tensorflow as tf\n",
        "from tensorflow import keras\n",
        "import sys, os, re, string, csv, codecs, numpy as np, pandas as pd\n",
        "import matplotlib.pyplot as plt\n",
        "%matplotlib inline\n",
        "from tensorflow.keras.preprocessing.text import Tokenizer\n",
        "from tensorflow.keras.preprocessing.sequence import pad_sequences\n",
        "from tensorflow.keras.layers import Dense, Input, LSTM, Embedding, Dropout, Activation, SpatialDropout1D, concatenate, add\n",
        "from tensorflow.keras.layers import Conv1D, GRU, Bidirectional, GlobalMaxPooling1D, GlobalAveragePooling1D\n",
        "from tensorflow.keras.models import Model, load_model\n",
        "from tensorflow.keras import initializers, regularizers, constraints, optimizers, layers"
      ],
      "execution_count": null,
      "outputs": []
    },
    {
      "cell_type": "markdown",
      "metadata": {
        "id": "1iOXw8OeCwAS"
      },
      "source": [
        "----"
      ]
    },
    {
      "cell_type": "markdown",
      "metadata": {
        "id": "rs041I--CxFb"
      },
      "source": [
        "# Load Data"
      ]
    },
    {
      "cell_type": "markdown",
      "metadata": {
        "id": "SWSth5FNC1Er"
      },
      "source": [
        "__현재__       \n",
        "\n",
        "'1-pre' : 1차 전처리 거친 데이터 길이 0인 애들은 기존 데이터로 대체\n",
        "\n",
        "\n",
        "'2-trans' : 1-pre 에서 길이가 0이 된 애들 번역한 데이터"
      ]
    },
    {
      "cell_type": "code",
      "metadata": {
        "id": "i8oGsp0nCvHC"
      },
      "source": [
        "train = pd.read_csv('/content/drive/Shareddrives/SOGANG Parrot/Ho-colab/0407-add-len-translated_train.csv')"
      ],
      "execution_count": null,
      "outputs": []
    },
    {
      "cell_type": "code",
      "metadata": {
        "id": "2U2oeEiivEtJ"
      },
      "source": [
        "test = pd.read_csv('/content/drive/Shareddrives/SOGANG Parrot/Ho-colab/0407-add-len-translated_test.csv')"
      ],
      "execution_count": null,
      "outputs": []
    },
    {
      "cell_type": "code",
      "metadata": {
        "colab": {
          "base_uri": "https://localhost:8080/",
          "height": 207
        },
        "id": "3a4WdW9cC0JL",
        "outputId": "5ae19cb5-40a2-4798-e5b5-fc2e1ab6bcba"
      },
      "source": [
        "train.head(2)"
      ],
      "execution_count": null,
      "outputs": [
        {
          "output_type": "execute_result",
          "data": {
            "text/html": [
              "<div>\n",
              "<style scoped>\n",
              "    .dataframe tbody tr th:only-of-type {\n",
              "        vertical-align: middle;\n",
              "    }\n",
              "\n",
              "    .dataframe tbody tr th {\n",
              "        vertical-align: top;\n",
              "    }\n",
              "\n",
              "    .dataframe thead th {\n",
              "        text-align: right;\n",
              "    }\n",
              "</style>\n",
              "<table border=\"1\" class=\"dataframe\">\n",
              "  <thead>\n",
              "    <tr style=\"text-align: right;\">\n",
              "      <th></th>\n",
              "      <th>id</th>\n",
              "      <th>comment_text</th>\n",
              "      <th>toxic</th>\n",
              "      <th>severe_toxic</th>\n",
              "      <th>obscene</th>\n",
              "      <th>threat</th>\n",
              "      <th>insult</th>\n",
              "      <th>identity_hate</th>\n",
              "      <th>1-pre</th>\n",
              "      <th>2-trans</th>\n",
              "      <th>len-2-trans</th>\n",
              "    </tr>\n",
              "  </thead>\n",
              "  <tbody>\n",
              "    <tr>\n",
              "      <th>0</th>\n",
              "      <td>0000997932d777bf</td>\n",
              "      <td>Explanation\\nWhy the edits made under my usern...</td>\n",
              "      <td>0</td>\n",
              "      <td>0</td>\n",
              "      <td>0</td>\n",
              "      <td>0</td>\n",
              "      <td>0</td>\n",
              "      <td>0</td>\n",
              "      <td>explanation edits made username hardcore metal...</td>\n",
              "      <td>explanation edits made username hardcore metal...</td>\n",
              "      <td>27</td>\n",
              "    </tr>\n",
              "    <tr>\n",
              "      <th>1</th>\n",
              "      <td>000103f0d9cfb60f</td>\n",
              "      <td>D'aww! He matches this background colour I'm s...</td>\n",
              "      <td>0</td>\n",
              "      <td>0</td>\n",
              "      <td>0</td>\n",
              "      <td>0</td>\n",
              "      <td>0</td>\n",
              "      <td>0</td>\n",
              "      <td>aww matches background colour seemingly stuck ...</td>\n",
              "      <td>aww matches background colour seemingly stuck ...</td>\n",
              "      <td>14</td>\n",
              "    </tr>\n",
              "  </tbody>\n",
              "</table>\n",
              "</div>"
            ],
            "text/plain": [
              "                 id  ... len-2-trans\n",
              "0  0000997932d777bf  ...          27\n",
              "1  000103f0d9cfb60f  ...          14\n",
              "\n",
              "[2 rows x 11 columns]"
            ]
          },
          "metadata": {
            "tags": []
          },
          "execution_count": 5
        }
      ]
    },
    {
      "cell_type": "code",
      "metadata": {
        "colab": {
          "base_uri": "https://localhost:8080/",
          "height": 106
        },
        "id": "gD3MdynmC7KK",
        "outputId": "e133c937-4ca7-4b0d-eda5-da4b12d36c13"
      },
      "source": [
        "test.head(2)"
      ],
      "execution_count": null,
      "outputs": [
        {
          "output_type": "execute_result",
          "data": {
            "text/html": [
              "<div>\n",
              "<style scoped>\n",
              "    .dataframe tbody tr th:only-of-type {\n",
              "        vertical-align: middle;\n",
              "    }\n",
              "\n",
              "    .dataframe tbody tr th {\n",
              "        vertical-align: top;\n",
              "    }\n",
              "\n",
              "    .dataframe thead th {\n",
              "        text-align: right;\n",
              "    }\n",
              "</style>\n",
              "<table border=\"1\" class=\"dataframe\">\n",
              "  <thead>\n",
              "    <tr style=\"text-align: right;\">\n",
              "      <th></th>\n",
              "      <th>id</th>\n",
              "      <th>comment_text</th>\n",
              "      <th>1-pre</th>\n",
              "      <th>2-trans</th>\n",
              "      <th>len-2-trans</th>\n",
              "    </tr>\n",
              "  </thead>\n",
              "  <tbody>\n",
              "    <tr>\n",
              "      <th>0</th>\n",
              "      <td>00001cee341fdb12</td>\n",
              "      <td>Yo bitch Ja Rule is more succesful then you'll...</td>\n",
              "      <td>yo bitch ja rule succesful ever hating sad mof...</td>\n",
              "      <td>yo bitch ja rule succesful ever hating sad mof...</td>\n",
              "      <td>42</td>\n",
              "    </tr>\n",
              "    <tr>\n",
              "      <th>1</th>\n",
              "      <td>0000247867823ef7</td>\n",
              "      <td>== From RfC == \\n\\n The title is fine as it is...</td>\n",
              "      <td>rfc title fine going</td>\n",
              "      <td>rfc title fine going</td>\n",
              "      <td>4</td>\n",
              "    </tr>\n",
              "  </tbody>\n",
              "</table>\n",
              "</div>"
            ],
            "text/plain": [
              "                 id  ... len-2-trans\n",
              "0  00001cee341fdb12  ...          42\n",
              "1  0000247867823ef7  ...           4\n",
              "\n",
              "[2 rows x 5 columns]"
            ]
          },
          "metadata": {
            "tags": []
          },
          "execution_count": 6
        }
      ]
    },
    {
      "cell_type": "markdown",
      "metadata": {
        "id": "E_qrdNNDE4bK"
      },
      "source": [
        "# Extract Toxic Data"
      ]
    },
    {
      "cell_type": "code",
      "metadata": {
        "colab": {
          "base_uri": "https://localhost:8080/",
          "height": 190
        },
        "id": "4D7HbdjNC70S",
        "outputId": "1533e2ff-0b3b-45f7-80b5-44d4130d3371"
      },
      "source": [
        "toxic = train[train.iloc[:, 2:8].sum(1) != 0]\n",
        "toxic.head(2)"
      ],
      "execution_count": null,
      "outputs": [
        {
          "output_type": "execute_result",
          "data": {
            "text/html": [
              "<div>\n",
              "<style scoped>\n",
              "    .dataframe tbody tr th:only-of-type {\n",
              "        vertical-align: middle;\n",
              "    }\n",
              "\n",
              "    .dataframe tbody tr th {\n",
              "        vertical-align: top;\n",
              "    }\n",
              "\n",
              "    .dataframe thead th {\n",
              "        text-align: right;\n",
              "    }\n",
              "</style>\n",
              "<table border=\"1\" class=\"dataframe\">\n",
              "  <thead>\n",
              "    <tr style=\"text-align: right;\">\n",
              "      <th></th>\n",
              "      <th>id</th>\n",
              "      <th>comment_text</th>\n",
              "      <th>toxic</th>\n",
              "      <th>severe_toxic</th>\n",
              "      <th>obscene</th>\n",
              "      <th>threat</th>\n",
              "      <th>insult</th>\n",
              "      <th>identity_hate</th>\n",
              "      <th>1-pre</th>\n",
              "      <th>2-trans</th>\n",
              "      <th>len-2-trans</th>\n",
              "    </tr>\n",
              "  </thead>\n",
              "  <tbody>\n",
              "    <tr>\n",
              "      <th>6</th>\n",
              "      <td>0002bcb3da6cb337</td>\n",
              "      <td>COCKSUCKER BEFORE YOU PISS AROUND ON MY WORK</td>\n",
              "      <td>1</td>\n",
              "      <td>1</td>\n",
              "      <td>1</td>\n",
              "      <td>0</td>\n",
              "      <td>1</td>\n",
              "      <td>0</td>\n",
              "      <td>cocksucker piss around work</td>\n",
              "      <td>cocksucker piss around work</td>\n",
              "      <td>4</td>\n",
              "    </tr>\n",
              "    <tr>\n",
              "      <th>12</th>\n",
              "      <td>0005c987bdfc9d4b</td>\n",
              "      <td>Hey... what is it..\\n@ | talk .\\nWhat is it......</td>\n",
              "      <td>1</td>\n",
              "      <td>0</td>\n",
              "      <td>0</td>\n",
              "      <td>0</td>\n",
              "      <td>0</td>\n",
              "      <td>0</td>\n",
              "      <td>hey talk exclusive group wp talibans good dest...</td>\n",
              "      <td>hey talk exclusive group wp talibans good dest...</td>\n",
              "      <td>29</td>\n",
              "    </tr>\n",
              "  </tbody>\n",
              "</table>\n",
              "</div>"
            ],
            "text/plain": [
              "                  id  ... len-2-trans\n",
              "6   0002bcb3da6cb337  ...           4\n",
              "12  0005c987bdfc9d4b  ...          29\n",
              "\n",
              "[2 rows x 11 columns]"
            ]
          },
          "metadata": {
            "tags": []
          },
          "execution_count": 24
        }
      ]
    },
    {
      "cell_type": "code",
      "metadata": {
        "colab": {
          "base_uri": "https://localhost:8080/",
          "height": 297
        },
        "id": "Jb0gUj0nKCgj",
        "outputId": "e599b93a-27d0-4bd1-83fd-06985e1ced2d"
      },
      "source": [
        "toxic['3-trans'] = 'toxic'\n",
        "toxic.head(2)"
      ],
      "execution_count": null,
      "outputs": [
        {
          "output_type": "stream",
          "text": [
            "/usr/local/lib/python3.7/dist-packages/ipykernel_launcher.py:1: SettingWithCopyWarning: \n",
            "A value is trying to be set on a copy of a slice from a DataFrame.\n",
            "Try using .loc[row_indexer,col_indexer] = value instead\n",
            "\n",
            "See the caveats in the documentation: https://pandas.pydata.org/pandas-docs/stable/user_guide/indexing.html#returning-a-view-versus-a-copy\n",
            "  \"\"\"Entry point for launching an IPython kernel.\n"
          ],
          "name": "stderr"
        },
        {
          "output_type": "execute_result",
          "data": {
            "text/html": [
              "<div>\n",
              "<style scoped>\n",
              "    .dataframe tbody tr th:only-of-type {\n",
              "        vertical-align: middle;\n",
              "    }\n",
              "\n",
              "    .dataframe tbody tr th {\n",
              "        vertical-align: top;\n",
              "    }\n",
              "\n",
              "    .dataframe thead th {\n",
              "        text-align: right;\n",
              "    }\n",
              "</style>\n",
              "<table border=\"1\" class=\"dataframe\">\n",
              "  <thead>\n",
              "    <tr style=\"text-align: right;\">\n",
              "      <th></th>\n",
              "      <th>id</th>\n",
              "      <th>comment_text</th>\n",
              "      <th>toxic</th>\n",
              "      <th>severe_toxic</th>\n",
              "      <th>obscene</th>\n",
              "      <th>threat</th>\n",
              "      <th>insult</th>\n",
              "      <th>identity_hate</th>\n",
              "      <th>1-pre</th>\n",
              "      <th>2-trans</th>\n",
              "      <th>len-2-trans</th>\n",
              "      <th>3-trans</th>\n",
              "    </tr>\n",
              "  </thead>\n",
              "  <tbody>\n",
              "    <tr>\n",
              "      <th>6</th>\n",
              "      <td>0002bcb3da6cb337</td>\n",
              "      <td>COCKSUCKER BEFORE YOU PISS AROUND ON MY WORK</td>\n",
              "      <td>1</td>\n",
              "      <td>1</td>\n",
              "      <td>1</td>\n",
              "      <td>0</td>\n",
              "      <td>1</td>\n",
              "      <td>0</td>\n",
              "      <td>cocksucker piss around work</td>\n",
              "      <td>cocksucker piss around work</td>\n",
              "      <td>4</td>\n",
              "      <td>toxic</td>\n",
              "    </tr>\n",
              "    <tr>\n",
              "      <th>12</th>\n",
              "      <td>0005c987bdfc9d4b</td>\n",
              "      <td>Hey... what is it..\\n@ | talk .\\nWhat is it......</td>\n",
              "      <td>1</td>\n",
              "      <td>0</td>\n",
              "      <td>0</td>\n",
              "      <td>0</td>\n",
              "      <td>0</td>\n",
              "      <td>0</td>\n",
              "      <td>hey talk exclusive group wp talibans good dest...</td>\n",
              "      <td>hey talk exclusive group wp talibans good dest...</td>\n",
              "      <td>29</td>\n",
              "      <td>toxic</td>\n",
              "    </tr>\n",
              "  </tbody>\n",
              "</table>\n",
              "</div>"
            ],
            "text/plain": [
              "                  id  ... 3-trans\n",
              "6   0002bcb3da6cb337  ...   toxic\n",
              "12  0005c987bdfc9d4b  ...   toxic\n",
              "\n",
              "[2 rows x 12 columns]"
            ]
          },
          "metadata": {
            "tags": []
          },
          "execution_count": 41
        }
      ]
    },
    {
      "cell_type": "markdown",
      "metadata": {
        "id": "q8dH71KfF2EE"
      },
      "source": [
        "# Translate Toxic Comment"
      ]
    },
    {
      "cell_type": "markdown",
      "metadata": {
        "id": "HwcIEtNiOyah"
      },
      "source": [
        "![image.png](data:image/png;base64,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)\n",
        "[참고](https://www.kaggle.com/c/jigsaw-toxic-comment-classification-challenge/discussion/48038)"
      ]
    },
    {
      "cell_type": "code",
      "metadata": {
        "id": "ITulkdrUMIH7"
      },
      "source": [
        "!pip install google_trans_new\n",
        "from google_trans_new import google_translator\n",
        "translator = google_translator()\n",
        "\n",
        "toxic_es = toxic.copy()\n",
        "toxic_de = toxic.copy()\n",
        "toxic_fr = toxic.copy()\n",
        "toxic_es['3-trans'] = toxic_es['3-trans'].apply(lambda x: \n",
        "                                             translator.translate(translator.translate(x,lang_tgt='es'), lang_tgt='en'))\n",
        "toxic_de['3-trans'] = toxic_de['3-trans'].apply(lambda x: \n",
        "                                             translator.translate(translator.translate(x,lang_tgt='de'), lang_tgt='en'))\n",
        "toxic_fr['3-trans'] = toxic_fr['3-trans'].apply(lambda x: \n",
        "                                             translator.translate(translator.translate(x,lang_tgt='fr'), lang_tgt='en'))"
      ],
      "execution_count": null,
      "outputs": []
    },
    {
      "cell_type": "markdown",
      "metadata": {
        "id": "GPBlnpTCczQc"
      },
      "source": [
        "---------"
      ]
    },
    {
      "cell_type": "markdown",
      "metadata": {
        "id": "g-JqYpY4rXbN"
      },
      "source": [
        "# Preprocessing Augumented data"
      ]
    },
    {
      "cell_type": "markdown",
      "metadata": {
        "id": "PJKuztz9syCt"
      },
      "source": [
        "## English -> French -> English"
      ]
    },
    {
      "cell_type": "code",
      "metadata": {
        "colab": {
          "base_uri": "https://localhost:8080/",
          "height": 76
        },
        "id": "XyxsxpodPq5k",
        "outputId": "55a74540-a406-4cef-f34c-5aba84e9a679"
      },
      "source": [
        "train_fr = pd.read_csv('/content/drive/Shareddrives/SOGANG Parrot/Ho-colab/train_fr.csv')\n",
        "train_fr.head(1)"
      ],
      "execution_count": null,
      "outputs": [
        {
          "output_type": "execute_result",
          "data": {
            "text/html": [
              "<div>\n",
              "<style scoped>\n",
              "    .dataframe tbody tr th:only-of-type {\n",
              "        vertical-align: middle;\n",
              "    }\n",
              "\n",
              "    .dataframe tbody tr th {\n",
              "        vertical-align: top;\n",
              "    }\n",
              "\n",
              "    .dataframe thead th {\n",
              "        text-align: right;\n",
              "    }\n",
              "</style>\n",
              "<table border=\"1\" class=\"dataframe\">\n",
              "  <thead>\n",
              "    <tr style=\"text-align: right;\">\n",
              "      <th></th>\n",
              "      <th>id</th>\n",
              "      <th>comment_text</th>\n",
              "      <th>toxic</th>\n",
              "      <th>severe_toxic</th>\n",
              "      <th>obscene</th>\n",
              "      <th>threat</th>\n",
              "      <th>insult</th>\n",
              "      <th>identity_hate</th>\n",
              "    </tr>\n",
              "  </thead>\n",
              "  <tbody>\n",
              "    <tr>\n",
              "      <th>0</th>\n",
              "      <td>0000997932d777bf</td>\n",
              "      <td>Explanation\\nWhy have the changes made under m...</td>\n",
              "      <td>0</td>\n",
              "      <td>0</td>\n",
              "      <td>0</td>\n",
              "      <td>0</td>\n",
              "      <td>0</td>\n",
              "      <td>0</td>\n",
              "    </tr>\n",
              "  </tbody>\n",
              "</table>\n",
              "</div>"
            ],
            "text/plain": [
              "                 id  ... identity_hate\n",
              "0  0000997932d777bf  ...             0\n",
              "\n",
              "[1 rows x 8 columns]"
            ]
          },
          "metadata": {
            "tags": []
          },
          "execution_count": 63
        }
      ]
    },
    {
      "cell_type": "code",
      "metadata": {
        "colab": {
          "base_uri": "https://localhost:8080/",
          "height": 93
        },
        "id": "Rr8UJMtic6ck",
        "outputId": "6e57bb56-e723-41dd-fc0c-bbf7ef434454"
      },
      "source": [
        "train_fr['2-trans'] = train_fr['comment_text']\n",
        "train_fr.head(1)"
      ],
      "execution_count": null,
      "outputs": [
        {
          "output_type": "execute_result",
          "data": {
            "text/html": [
              "<div>\n",
              "<style scoped>\n",
              "    .dataframe tbody tr th:only-of-type {\n",
              "        vertical-align: middle;\n",
              "    }\n",
              "\n",
              "    .dataframe tbody tr th {\n",
              "        vertical-align: top;\n",
              "    }\n",
              "\n",
              "    .dataframe thead th {\n",
              "        text-align: right;\n",
              "    }\n",
              "</style>\n",
              "<table border=\"1\" class=\"dataframe\">\n",
              "  <thead>\n",
              "    <tr style=\"text-align: right;\">\n",
              "      <th></th>\n",
              "      <th>id</th>\n",
              "      <th>comment_text</th>\n",
              "      <th>toxic</th>\n",
              "      <th>severe_toxic</th>\n",
              "      <th>obscene</th>\n",
              "      <th>threat</th>\n",
              "      <th>insult</th>\n",
              "      <th>identity_hate</th>\n",
              "      <th>2-trans</th>\n",
              "    </tr>\n",
              "  </thead>\n",
              "  <tbody>\n",
              "    <tr>\n",
              "      <th>0</th>\n",
              "      <td>0000997932d777bf</td>\n",
              "      <td>Explanation\\nWhy have the changes made under m...</td>\n",
              "      <td>0</td>\n",
              "      <td>0</td>\n",
              "      <td>0</td>\n",
              "      <td>0</td>\n",
              "      <td>0</td>\n",
              "      <td>0</td>\n",
              "      <td>Explanation\\nWhy have the changes made under m...</td>\n",
              "    </tr>\n",
              "  </tbody>\n",
              "</table>\n",
              "</div>"
            ],
            "text/plain": [
              "                 id  ...                                            2-trans\n",
              "0  0000997932d777bf  ...  Explanation\\nWhy have the changes made under m...\n",
              "\n",
              "[1 rows x 9 columns]"
            ]
          },
          "metadata": {
            "tags": []
          },
          "execution_count": 64
        }
      ]
    },
    {
      "cell_type": "code",
      "metadata": {
        "colab": {
          "base_uri": "https://localhost:8080/"
        },
        "id": "TIV5a3kZnsH1",
        "outputId": "b11f935f-0624-4f78-8c73-848aa032027e"
      },
      "source": [
        "# 1. Capitalization / Lower case\n",
        "train_fr['2-trans'] = train_fr['2-trans'].apply(lambda x: x.lower())\n",
        "# 2. Remove ~.jpg , (UTC)\n",
        "train_fr['2-trans'] = train_fr['2-trans'].apply(lambda x: re.sub(r\"\\S+\\.jpg|\\(UTC\\)\", \" \", x))\n",
        "# 3. Expand the Contractions\n",
        "!pip install contractions\n",
        "import contractions\n",
        "train_fr['2-trans'] = train_fr['2-trans'].apply(lambda x: contractions.fix(x))\n",
        "# 4. Remove URLs\n",
        "train_fr['2-trans'] = train_fr['2-trans'].apply(lambda x: re.sub(r\"https?://\\S+|www\\.\\S+\", \" \", x))\n",
        "# 5. Remove HTML tags\n",
        "train_fr['2-trans'] = train_fr['2-trans'].apply(lambda x: re.sub(r\"<.*?>|&([a-z0-9]+|#[0-9]{1,6}|#x[0-9a-f]{1,6});\", \" \", x))\n",
        "# 6. Remove Non-ASCI\n",
        "train_fr['2-trans'] = train_fr['2-trans'].apply(lambda x: re.sub(r'[^\\x00-\\x7f]',' ', x))\n",
        "# 7. Remove punctuations\n",
        "train_fr['2-trans'] = train_fr['2-trans'].apply(lambda x: re.sub(r'[]!\"$%&\\'()*+,./:;=#@?[\\\\^_`{|}~-]+', \" \", x))\n",
        "# 8. Capitalization / Lower case\n",
        "train_fr['2-trans'] = train_fr['2-trans'].apply(lambda x: x.lower())\n",
        "# Remove stopwords\n",
        "import nltk\n",
        "nltk.download('stopwords')\n",
        "from nltk.corpus import stopwords\n",
        "stop = stopwords.words('english')\n",
        "train_fr['2-trans'] = train_fr['2-trans'].apply(lambda x: ' '.join([word for word in x.split() if word not in (stop)]))"
      ],
      "execution_count": null,
      "outputs": [
        {
          "output_type": "stream",
          "text": [
            "Requirement already satisfied: contractions in /usr/local/lib/python3.7/dist-packages (0.0.48)\n",
            "Requirement already satisfied: textsearch>=0.0.21 in /usr/local/lib/python3.7/dist-packages (from contractions) (0.0.21)\n",
            "Requirement already satisfied: anyascii in /usr/local/lib/python3.7/dist-packages (from textsearch>=0.0.21->contractions) (0.1.7)\n",
            "Requirement already satisfied: pyahocorasick in /usr/local/lib/python3.7/dist-packages (from textsearch>=0.0.21->contractions) (1.4.2)\n",
            "[nltk_data] Downloading package stopwords to /root/nltk_data...\n",
            "[nltk_data]   Package stopwords is already up-to-date!\n"
          ],
          "name": "stdout"
        }
      ]
    },
    {
      "cell_type": "code",
      "metadata": {
        "colab": {
          "base_uri": "https://localhost:8080/"
        },
        "id": "nIMFx2KRoB41",
        "outputId": "98c2c13d-9528-4f28-8b59-340b11a933bf"
      },
      "source": [
        "# Find zero len comment\n",
        "zerolen_t = list()\n",
        "num = 0\n",
        "for i in train_fr['2-trans']:\n",
        "  if not re.search('\\S',i):\n",
        "    zerolen_t.append(num)\n",
        "  num += 1\n",
        "print(len(zerolen_t))  # 전처리 되어서 ''된 갯수 \n",
        "\n",
        "# 기존 comment_text 로 교체\n",
        "for i in zerolen_t:\n",
        "  train_fr['2-trans'][i] = train_fr['comment_text'][i] # 기본 데이터로 대체"
      ],
      "execution_count": null,
      "outputs": [
        {
          "output_type": "stream",
          "text": [
            "57\n"
          ],
          "name": "stdout"
        },
        {
          "output_type": "stream",
          "text": [
            "/usr/local/lib/python3.7/dist-packages/ipykernel_launcher.py:12: SettingWithCopyWarning: \n",
            "A value is trying to be set on a copy of a slice from a DataFrame\n",
            "\n",
            "See the caveats in the documentation: https://pandas.pydata.org/pandas-docs/stable/user_guide/indexing.html#returning-a-view-versus-a-copy\n",
            "  if sys.path[0] == '':\n"
          ],
          "name": "stderr"
        }
      ]
    },
    {
      "cell_type": "markdown",
      "metadata": {
        "id": "aKlhAXOxs5Le"
      },
      "source": [
        "## English -> Deutsch -> English"
      ]
    },
    {
      "cell_type": "code",
      "metadata": {
        "colab": {
          "base_uri": "https://localhost:8080/",
          "height": 76
        },
        "id": "o2hjHUMPdEHS",
        "outputId": "467deac8-aacd-4f6a-b2bc-1d60fd465b46"
      },
      "source": [
        "train_de = pd.read_csv('/content/drive/Shareddrives/SOGANG Parrot/Ho-colab/train_de.csv')\n",
        "train_de.head(1)"
      ],
      "execution_count": null,
      "outputs": [
        {
          "output_type": "execute_result",
          "data": {
            "text/html": [
              "<div>\n",
              "<style scoped>\n",
              "    .dataframe tbody tr th:only-of-type {\n",
              "        vertical-align: middle;\n",
              "    }\n",
              "\n",
              "    .dataframe tbody tr th {\n",
              "        vertical-align: top;\n",
              "    }\n",
              "\n",
              "    .dataframe thead th {\n",
              "        text-align: right;\n",
              "    }\n",
              "</style>\n",
              "<table border=\"1\" class=\"dataframe\">\n",
              "  <thead>\n",
              "    <tr style=\"text-align: right;\">\n",
              "      <th></th>\n",
              "      <th>id</th>\n",
              "      <th>comment_text</th>\n",
              "      <th>toxic</th>\n",
              "      <th>severe_toxic</th>\n",
              "      <th>obscene</th>\n",
              "      <th>threat</th>\n",
              "      <th>insult</th>\n",
              "      <th>identity_hate</th>\n",
              "    </tr>\n",
              "  </thead>\n",
              "  <tbody>\n",
              "    <tr>\n",
              "      <th>0</th>\n",
              "      <td>0000997932d777bf</td>\n",
              "      <td>explanation\\nWhy have the edits been undone un...</td>\n",
              "      <td>0</td>\n",
              "      <td>0</td>\n",
              "      <td>0</td>\n",
              "      <td>0</td>\n",
              "      <td>0</td>\n",
              "      <td>0</td>\n",
              "    </tr>\n",
              "  </tbody>\n",
              "</table>\n",
              "</div>"
            ],
            "text/plain": [
              "                 id  ... identity_hate\n",
              "0  0000997932d777bf  ...             0\n",
              "\n",
              "[1 rows x 8 columns]"
            ]
          },
          "metadata": {
            "tags": []
          },
          "execution_count": 82
        }
      ]
    },
    {
      "cell_type": "code",
      "metadata": {
        "colab": {
          "base_uri": "https://localhost:8080/",
          "height": 93
        },
        "id": "uA8pY69Vdhza",
        "outputId": "033ed521-1617-4585-caf2-466753ba4e4c"
      },
      "source": [
        "train_de['2-trans'] = train_de['comment_text']\n",
        "train_de.head(1)"
      ],
      "execution_count": null,
      "outputs": [
        {
          "output_type": "execute_result",
          "data": {
            "text/html": [
              "<div>\n",
              "<style scoped>\n",
              "    .dataframe tbody tr th:only-of-type {\n",
              "        vertical-align: middle;\n",
              "    }\n",
              "\n",
              "    .dataframe tbody tr th {\n",
              "        vertical-align: top;\n",
              "    }\n",
              "\n",
              "    .dataframe thead th {\n",
              "        text-align: right;\n",
              "    }\n",
              "</style>\n",
              "<table border=\"1\" class=\"dataframe\">\n",
              "  <thead>\n",
              "    <tr style=\"text-align: right;\">\n",
              "      <th></th>\n",
              "      <th>id</th>\n",
              "      <th>comment_text</th>\n",
              "      <th>toxic</th>\n",
              "      <th>severe_toxic</th>\n",
              "      <th>obscene</th>\n",
              "      <th>threat</th>\n",
              "      <th>insult</th>\n",
              "      <th>identity_hate</th>\n",
              "      <th>2-trans</th>\n",
              "    </tr>\n",
              "  </thead>\n",
              "  <tbody>\n",
              "    <tr>\n",
              "      <th>0</th>\n",
              "      <td>0000997932d777bf</td>\n",
              "      <td>explanation\\nWhy have the edits been undone un...</td>\n",
              "      <td>0</td>\n",
              "      <td>0</td>\n",
              "      <td>0</td>\n",
              "      <td>0</td>\n",
              "      <td>0</td>\n",
              "      <td>0</td>\n",
              "      <td>explanation\\nWhy have the edits been undone un...</td>\n",
              "    </tr>\n",
              "  </tbody>\n",
              "</table>\n",
              "</div>"
            ],
            "text/plain": [
              "                 id  ...                                            2-trans\n",
              "0  0000997932d777bf  ...  explanation\\nWhy have the edits been undone un...\n",
              "\n",
              "[1 rows x 9 columns]"
            ]
          },
          "metadata": {
            "tags": []
          },
          "execution_count": 83
        }
      ]
    },
    {
      "cell_type": "code",
      "metadata": {
        "id": "XqFhKDBRp67v"
      },
      "source": [
        "# 1. Capitalization / Lower case\n",
        "train_de['2-trans'] = train_de['2-trans'].apply(lambda x: x.lower())\n",
        "# 2. Remove ~.jpg , (UTC)\n",
        "train_de['2-trans'] = train_de['2-trans'].apply(lambda x: re.sub(r\"\\S+\\.jpg|\\(UTC\\)\", \" \", x))\n",
        "# 3. Expand the Contractions\n",
        "train_de['2-trans'] = train_de['2-trans'].apply(lambda x: contractions.fix(x))\n",
        "# 4. Remove URLs\n",
        "train_de['2-trans'] = train_de['2-trans'].apply(lambda x: re.sub(r\"https?://\\S+|www\\.\\S+\", \" \", x))\n",
        "# 5. Remove HTML tags\n",
        "train_de['2-trans'] = train_de['2-trans'].apply(lambda x: re.sub(r\"<.*?>|&([a-z0-9]+|#[0-9]{1,6}|#x[0-9a-f]{1,6});\", \" \", x))\n",
        "# 6. Remove Non-ASCI\n",
        "train_de['2-trans'] = train_de['2-trans'].apply(lambda x: re.sub(r'[^\\x00-\\x7f]',' ', x))\n",
        "# 7. Remove punctuations\n",
        "train_de['2-trans'] = train_de['2-trans'].apply(lambda x: re.sub(r'[]!\"$%&\\'()*+,./:;=#@?[\\\\^_`{|}~-]+', \" \", x))\n",
        "# 8. Capitalization / Lower case\n",
        "train_de['2-trans'] = train_de['2-trans'].apply(lambda x: x.lower())\n",
        "# Remove stopwords\n",
        "train_de['2-trans'] = train_de['2-trans'].apply(lambda x: ' '.join([word for word in x.split() if word not in (stop)]))"
      ],
      "execution_count": null,
      "outputs": []
    },
    {
      "cell_type": "code",
      "metadata": {
        "colab": {
          "base_uri": "https://localhost:8080/"
        },
        "id": "2kZNuHFoqG1k",
        "outputId": "43cafa33-1faa-4352-ac99-398eabb4bd92"
      },
      "source": [
        "# Find zero len comment\n",
        "zerolen_t = list()\n",
        "num = 0\n",
        "for i in train_de['2-trans']:\n",
        "  if not re.search('\\S',i):\n",
        "    zerolen_t.append(num)\n",
        "  num += 1\n",
        "print(len(zerolen_t))  # 전처리 되어서 ''된 갯수 \n",
        "\n",
        "# 기존 comment_text 로 교체\n",
        "for i in zerolen_t:\n",
        "  train_de['2-trans'][i] = train_de['comment_text'][i] # 기본 데이터로 대체"
      ],
      "execution_count": null,
      "outputs": [
        {
          "output_type": "stream",
          "text": [
            "57\n"
          ],
          "name": "stdout"
        },
        {
          "output_type": "stream",
          "text": [
            "/usr/local/lib/python3.7/dist-packages/ipykernel_launcher.py:12: SettingWithCopyWarning: \n",
            "A value is trying to be set on a copy of a slice from a DataFrame\n",
            "\n",
            "See the caveats in the documentation: https://pandas.pydata.org/pandas-docs/stable/user_guide/indexing.html#returning-a-view-versus-a-copy\n",
            "  if sys.path[0] == '':\n"
          ],
          "name": "stderr"
        }
      ]
    },
    {
      "cell_type": "markdown",
      "metadata": {
        "id": "U7B_lZwBtCQB"
      },
      "source": [
        "## English -> Espanol -> English"
      ]
    },
    {
      "cell_type": "code",
      "metadata": {
        "colab": {
          "base_uri": "https://localhost:8080/",
          "height": 76
        },
        "id": "IVl03sGndlIy",
        "outputId": "55106343-b3be-4b98-f3c8-5e1688a81c6b"
      },
      "source": [
        "train_es = pd.read_csv('/content/drive/Shareddrives/SOGANG Parrot/Ho-colab/train_es.csv')\n",
        "train_es.head(1)"
      ],
      "execution_count": null,
      "outputs": [
        {
          "output_type": "execute_result",
          "data": {
            "text/html": [
              "<div>\n",
              "<style scoped>\n",
              "    .dataframe tbody tr th:only-of-type {\n",
              "        vertical-align: middle;\n",
              "    }\n",
              "\n",
              "    .dataframe tbody tr th {\n",
              "        vertical-align: top;\n",
              "    }\n",
              "\n",
              "    .dataframe thead th {\n",
              "        text-align: right;\n",
              "    }\n",
              "</style>\n",
              "<table border=\"1\" class=\"dataframe\">\n",
              "  <thead>\n",
              "    <tr style=\"text-align: right;\">\n",
              "      <th></th>\n",
              "      <th>id</th>\n",
              "      <th>comment_text</th>\n",
              "      <th>toxic</th>\n",
              "      <th>severe_toxic</th>\n",
              "      <th>obscene</th>\n",
              "      <th>threat</th>\n",
              "      <th>insult</th>\n",
              "      <th>identity_hate</th>\n",
              "    </tr>\n",
              "  </thead>\n",
              "  <tbody>\n",
              "    <tr>\n",
              "      <th>0</th>\n",
              "      <td>0000997932d777bf</td>\n",
              "      <td>Explanation\\nWhy were the changes made under m...</td>\n",
              "      <td>0</td>\n",
              "      <td>0</td>\n",
              "      <td>0</td>\n",
              "      <td>0</td>\n",
              "      <td>0</td>\n",
              "      <td>0</td>\n",
              "    </tr>\n",
              "  </tbody>\n",
              "</table>\n",
              "</div>"
            ],
            "text/plain": [
              "                 id  ... identity_hate\n",
              "0  0000997932d777bf  ...             0\n",
              "\n",
              "[1 rows x 8 columns]"
            ]
          },
          "metadata": {
            "tags": []
          },
          "execution_count": 42
        }
      ]
    },
    {
      "cell_type": "code",
      "metadata": {
        "colab": {
          "base_uri": "https://localhost:8080/",
          "height": 93
        },
        "id": "DzwZAkIldr0b",
        "outputId": "60eadeec-b6fc-4abc-a5b0-54db0c5512d0"
      },
      "source": [
        "train_es['2-trans'] = train_es['comment_text']\n",
        "train_es.head(1)"
      ],
      "execution_count": null,
      "outputs": [
        {
          "output_type": "execute_result",
          "data": {
            "text/html": [
              "<div>\n",
              "<style scoped>\n",
              "    .dataframe tbody tr th:only-of-type {\n",
              "        vertical-align: middle;\n",
              "    }\n",
              "\n",
              "    .dataframe tbody tr th {\n",
              "        vertical-align: top;\n",
              "    }\n",
              "\n",
              "    .dataframe thead th {\n",
              "        text-align: right;\n",
              "    }\n",
              "</style>\n",
              "<table border=\"1\" class=\"dataframe\">\n",
              "  <thead>\n",
              "    <tr style=\"text-align: right;\">\n",
              "      <th></th>\n",
              "      <th>id</th>\n",
              "      <th>comment_text</th>\n",
              "      <th>toxic</th>\n",
              "      <th>severe_toxic</th>\n",
              "      <th>obscene</th>\n",
              "      <th>threat</th>\n",
              "      <th>insult</th>\n",
              "      <th>identity_hate</th>\n",
              "      <th>2-trans</th>\n",
              "    </tr>\n",
              "  </thead>\n",
              "  <tbody>\n",
              "    <tr>\n",
              "      <th>0</th>\n",
              "      <td>0000997932d777bf</td>\n",
              "      <td>Explanation\\nWhy were the changes made under m...</td>\n",
              "      <td>0</td>\n",
              "      <td>0</td>\n",
              "      <td>0</td>\n",
              "      <td>0</td>\n",
              "      <td>0</td>\n",
              "      <td>0</td>\n",
              "      <td>Explanation\\nWhy were the changes made under m...</td>\n",
              "    </tr>\n",
              "  </tbody>\n",
              "</table>\n",
              "</div>"
            ],
            "text/plain": [
              "                 id  ...                                            2-trans\n",
              "0  0000997932d777bf  ...  Explanation\\nWhy were the changes made under m...\n",
              "\n",
              "[1 rows x 9 columns]"
            ]
          },
          "metadata": {
            "tags": []
          },
          "execution_count": 43
        }
      ]
    },
    {
      "cell_type": "code",
      "metadata": {
        "id": "bXkMTwYtqTLH"
      },
      "source": [
        "# 1. Capitalization / Lower case\n",
        "train_es['2-trans'] = train_es['2-trans'].apply(lambda x: x.lower())\n",
        "# 2. Remove ~.jpg , (UTC)\n",
        "train_es['2-trans'] = train_es['2-trans'].apply(lambda x: re.sub(r\"\\S+\\.jpg|\\(UTC\\)\", \" \", x))\n",
        "# 3. Expand the Contractions\n",
        "train_es['2-trans'] = train_es['2-trans'].apply(lambda x: contractions.fix(x))\n",
        "# 4. Remove URLs\n",
        "train_es['2-trans'] = train_es['2-trans'].apply(lambda x: re.sub(r\"https?://\\S+|www\\.\\S+\", \" \", x))\n",
        "# 5. Remove HTML tags\n",
        "train_es['2-trans'] = train_es['2-trans'].apply(lambda x: re.sub(r\"<.*?>|&([a-z0-9]+|#[0-9]{1,6}|#x[0-9a-f]{1,6});\", \" \", x))\n",
        "# 6. Remove Non-ASCI\n",
        "train_es['2-trans'] = train_es['2-trans'].apply(lambda x: re.sub(r'[^\\x00-\\x7f]',' ', x))\n",
        "# 7. Remove punctuations\n",
        "train_es['2-trans'] = train_es['2-trans'].apply(lambda x: re.sub(r'[]!\"$%&\\'()*+,./:;=#@?[\\\\^_`{|}~-]+', \" \", x))\n",
        "# 8. Capitalization / Lower case\n",
        "train_es['2-trans'] = train_es['2-trans'].apply(lambda x: x.lower())\n",
        "# Remove stopwords\n",
        "train_es['2-trans'] = train_es['2-trans'].apply(lambda x: ' '.join([word for word in x.split() if word not in (stop)]))"
      ],
      "execution_count": null,
      "outputs": []
    },
    {
      "cell_type": "code",
      "metadata": {
        "colab": {
          "base_uri": "https://localhost:8080/"
        },
        "id": "ZyslKAERqdnk",
        "outputId": "789720d3-2a4e-4a71-d779-8c8cec420180"
      },
      "source": [
        "# Find zero len comment\n",
        "zerolen_t = list()\n",
        "num = 0\n",
        "for i in train_es['2-trans']:\n",
        "  if not re.search('\\S',i):\n",
        "    zerolen_t.append(num)\n",
        "  num += 1\n",
        "print(len(zerolen_t))  # 전처리 되어서 ''된 갯수 \n",
        "\n",
        "# 기존 comment_text 로 교체\n",
        "for i in zerolen_t:\n",
        "  train_es['2-trans'][i] = train_es['comment_text'][i] # 기본 데이터로 대체"
      ],
      "execution_count": null,
      "outputs": [
        {
          "output_type": "stream",
          "text": [
            "51\n"
          ],
          "name": "stdout"
        },
        {
          "output_type": "stream",
          "text": [
            "/usr/local/lib/python3.7/dist-packages/ipykernel_launcher.py:12: SettingWithCopyWarning: \n",
            "A value is trying to be set on a copy of a slice from a DataFrame\n",
            "\n",
            "See the caveats in the documentation: https://pandas.pydata.org/pandas-docs/stable/user_guide/indexing.html#returning-a-view-versus-a-copy\n",
            "  if sys.path[0] == '':\n"
          ],
          "name": "stderr"
        }
      ]
    },
    {
      "cell_type": "markdown",
      "metadata": {
        "id": "CjsqxP-KtLjN"
      },
      "source": [
        "# Train Data Augumentation"
      ]
    },
    {
      "cell_type": "code",
      "metadata": {
        "colab": {
          "base_uri": "https://localhost:8080/"
        },
        "id": "l2MqZCWeeAYz",
        "outputId": "02e4a1fd-24c6-4660-914f-b6461247f750"
      },
      "source": [
        "toxic_train = pd.concat([train_de,train_es,train_fr])\n",
        "toxic_train.shape"
      ],
      "execution_count": null,
      "outputs": [
        {
          "output_type": "execute_result",
          "data": {
            "text/plain": [
              "(478713, 9)"
            ]
          },
          "metadata": {
            "tags": []
          },
          "execution_count": 91
        }
      ]
    },
    {
      "cell_type": "code",
      "metadata": {
        "id": "h9Su1QKTexKC"
      },
      "source": [
        "del train_de, train_es, train_fr"
      ],
      "execution_count": null,
      "outputs": []
    },
    {
      "cell_type": "code",
      "metadata": {
        "id": "AGy3Y73trn4y"
      },
      "source": [
        "train_augumented = pd.concat([toxic_train, train])\n",
        "\n",
        "from sklearn.utils import shuffle\n",
        "train_augumented = shuffle(train_augumented)"
      ],
      "execution_count": null,
      "outputs": []
    },
    {
      "cell_type": "code",
      "metadata": {
        "colab": {
          "base_uri": "https://localhost:8080/",
          "height": 333
        },
        "id": "IEvBujVdr1Le",
        "outputId": "6837b6e9-db29-49b3-e00e-16cf18380dce"
      },
      "source": [
        "train_augumented.head(4)"
      ],
      "execution_count": null,
      "outputs": [
        {
          "output_type": "execute_result",
          "data": {
            "text/html": [
              "<div>\n",
              "<style scoped>\n",
              "    .dataframe tbody tr th:only-of-type {\n",
              "        vertical-align: middle;\n",
              "    }\n",
              "\n",
              "    .dataframe tbody tr th {\n",
              "        vertical-align: top;\n",
              "    }\n",
              "\n",
              "    .dataframe thead th {\n",
              "        text-align: right;\n",
              "    }\n",
              "</style>\n",
              "<table border=\"1\" class=\"dataframe\">\n",
              "  <thead>\n",
              "    <tr style=\"text-align: right;\">\n",
              "      <th></th>\n",
              "      <th>id</th>\n",
              "      <th>comment_text</th>\n",
              "      <th>toxic</th>\n",
              "      <th>severe_toxic</th>\n",
              "      <th>obscene</th>\n",
              "      <th>threat</th>\n",
              "      <th>insult</th>\n",
              "      <th>identity_hate</th>\n",
              "      <th>2-trans</th>\n",
              "      <th>1-pre</th>\n",
              "      <th>len-2-trans</th>\n",
              "    </tr>\n",
              "  </thead>\n",
              "  <tbody>\n",
              "    <tr>\n",
              "      <th>133199</th>\n",
              "      <td>c8ac1676caea78ae</td>\n",
              "      <td>I'm sure it's a mistake to say categorically, ...</td>\n",
              "      <td>0</td>\n",
              "      <td>0</td>\n",
              "      <td>0</td>\n",
              "      <td>0</td>\n",
              "      <td>0</td>\n",
              "      <td>0</td>\n",
              "      <td>sure mistake say categorically without detaili...</td>\n",
              "      <td>NaN</td>\n",
              "      <td>NaN</td>\n",
              "    </tr>\n",
              "    <tr>\n",
              "      <th>114933</th>\n",
              "      <td>669b953280018dac</td>\n",
              "      <td>\"\\n\\nLast warning\\n\\nThis is the last warning ...</td>\n",
              "      <td>0</td>\n",
              "      <td>0</td>\n",
              "      <td>0</td>\n",
              "      <td>0</td>\n",
              "      <td>0</td>\n",
              "      <td>0</td>\n",
              "      <td>last warning last warning receive disruptive e...</td>\n",
              "      <td>NaN</td>\n",
              "      <td>NaN</td>\n",
              "    </tr>\n",
              "    <tr>\n",
              "      <th>1446</th>\n",
              "      <td>03defcf604c604cf</td>\n",
              "      <td>It does not matter what I think. I am a big re...</td>\n",
              "      <td>1</td>\n",
              "      <td>0</td>\n",
              "      <td>0</td>\n",
              "      <td>0</td>\n",
              "      <td>0</td>\n",
              "      <td>0</td>\n",
              "      <td>matter think big retarded anti semite throw fr...</td>\n",
              "      <td>NaN</td>\n",
              "      <td>NaN</td>\n",
              "    </tr>\n",
              "    <tr>\n",
              "      <th>96669</th>\n",
              "      <td>050f4d0797a9965b</td>\n",
              "      <td>I agree with your assessment, especially after...</td>\n",
              "      <td>0</td>\n",
              "      <td>0</td>\n",
              "      <td>0</td>\n",
              "      <td>0</td>\n",
              "      <td>0</td>\n",
              "      <td>0</td>\n",
              "      <td>agree assessment especially mentioning 1 site ...</td>\n",
              "      <td>agree assessment especially mentioning 1 site ...</td>\n",
              "      <td>19.0</td>\n",
              "    </tr>\n",
              "  </tbody>\n",
              "</table>\n",
              "</div>"
            ],
            "text/plain": [
              "                      id  ... len-2-trans\n",
              "133199  c8ac1676caea78ae  ...         NaN\n",
              "114933  669b953280018dac  ...         NaN\n",
              "1446    03defcf604c604cf  ...         NaN\n",
              "96669   050f4d0797a9965b  ...        19.0\n",
              "\n",
              "[4 rows x 11 columns]"
            ]
          },
          "metadata": {
            "tags": []
          },
          "execution_count": 101
        }
      ]
    },
    {
      "cell_type": "code",
      "metadata": {
        "colab": {
          "base_uri": "https://localhost:8080/"
        },
        "id": "W9SeyAANslU-",
        "outputId": "0de1c909-6d92-4516-c9d5-a2e7c08d5dcc"
      },
      "source": [
        "train_augumented.shape"
      ],
      "execution_count": null,
      "outputs": [
        {
          "output_type": "execute_result",
          "data": {
            "text/plain": [
              "(638284, 11)"
            ]
          },
          "metadata": {
            "tags": []
          },
          "execution_count": 103
        }
      ]
    },
    {
      "cell_type": "markdown",
      "metadata": {
        "id": "dind33JQvJsw"
      },
      "source": [
        "# New Train Data"
      ]
    },
    {
      "cell_type": "code",
      "metadata": {
        "id": "AIGM67uSsRPe"
      },
      "source": [
        "train_augumented.to_csv('/content/drive/Shareddrives/SOGANG Parrot/Ho-colab/0408-train_augumented.csv',index=False)"
      ],
      "execution_count": null,
      "outputs": []
    },
    {
      "cell_type": "code",
      "metadata": {
        "id": "7RSWGpB-tWdd"
      },
      "source": [
        "train_augumented = pd.read_csv('/content/drive/Shareddrives/SOGANG Parrot/Ho-colab/0408-train_augumented.csv')"
      ],
      "execution_count": null,
      "outputs": []
    },
    {
      "cell_type": "markdown",
      "metadata": {
        "id": "P0e6dr0usr2K"
      },
      "source": [
        "-------------"
      ]
    },
    {
      "cell_type": "markdown",
      "metadata": {
        "id": "sN79Hfgtthx1"
      },
      "source": [
        "# Tokenization"
      ]
    },
    {
      "cell_type": "code",
      "metadata": {
        "id": "iHAZp9_Csg-e"
      },
      "source": [
        "list_sentences_train = train_augumented['2-trans'] # (638284,)\n",
        "list_sentences_test = test['2-trans'] # (153164,)"
      ],
      "execution_count": null,
      "outputs": []
    },
    {
      "cell_type": "code",
      "metadata": {
        "colab": {
          "base_uri": "https://localhost:8080/"
        },
        "id": "xArdxKsYtpH3",
        "outputId": "ae03e294-a17b-406e-f977-3c3ea3f6db3c"
      },
      "source": [
        "max_features = 100000\n",
        "tokenizer = Tokenizer(num_words=max_features)\n",
        "tokenizer.fit_on_texts(list_sentences_train)\n",
        "list_tokenized_train = tokenizer.texts_to_sequences(list_sentences_train)\n",
        "# list_tokenized_train[:1] = [[688,75,1,126,130, ,,, ]]\n",
        "list_tokenized_test = tokenizer.texts_to_sequences(list_sentences_test)\n",
        "# list_tokenized_test[:1] = [[2665,655,8849,656, ,,, ]]\n",
        "\n",
        "# tokenizer.word_counts = OrderedDict([('explanation', 1771),('why', 17818),('the', 496540),('edits', 9957), ,,, ])\n",
        "# tokenizer.word_index = {'the': 1,'to': 2,'of': 3,'and': 4, ,,, }\n",
        "len(tokenizer.word_index)"
      ],
      "execution_count": null,
      "outputs": [
        {
          "output_type": "execute_result",
          "data": {
            "text/plain": [
              "206241"
            ]
          },
          "metadata": {
            "tags": []
          },
          "execution_count": 7
        }
      ]
    },
    {
      "cell_type": "markdown",
      "metadata": {
        "id": "BSxWSLwhttFp"
      },
      "source": [
        "----------"
      ]
    },
    {
      "cell_type": "markdown",
      "metadata": {
        "id": "gNWwjZL0tu6V"
      },
      "source": [
        "# Padding"
      ]
    },
    {
      "cell_type": "code",
      "metadata": {
        "colab": {
          "base_uri": "https://localhost:8080/"
        },
        "id": "uzdkHKKetsDV",
        "outputId": "f2f39756-3b20-4cc2-ea60-d9c4e3540ad3"
      },
      "source": [
        "maxlen = 50\n",
        "X_t = pad_sequences(list_tokenized_train, maxlen=maxlen) # (638284, 50)\n",
        "X_te = pad_sequences(list_tokenized_test, maxlen=maxlen) # (153164, 50)\n",
        "\n",
        "X_t.shape"
      ],
      "execution_count": null,
      "outputs": [
        {
          "output_type": "execute_result",
          "data": {
            "text/plain": [
              "(638284, 50)"
            ]
          },
          "metadata": {
            "tags": []
          },
          "execution_count": 8
        }
      ]
    },
    {
      "cell_type": "code",
      "metadata": {
        "colab": {
          "base_uri": "https://localhost:8080/"
        },
        "id": "C596Wmtzt1zo",
        "outputId": "5938d65c-48a9-48b9-e313-b781839bba79"
      },
      "source": [
        "list_classes = [\"toxic\", \"severe_toxic\", \"obscene\", \"threat\", \"insult\", \"identity_hate\"]\n",
        "y = train_augumented[list_classes].values # y.shape (159571, 6)\n",
        "y.shape"
      ],
      "execution_count": null,
      "outputs": [
        {
          "output_type": "execute_result",
          "data": {
            "text/plain": [
              "(638284, 6)"
            ]
          },
          "metadata": {
            "tags": []
          },
          "execution_count": 9
        }
      ]
    },
    {
      "cell_type": "markdown",
      "metadata": {
        "id": "w5pqOLwIt3a_"
      },
      "source": [
        "-----------"
      ]
    },
    {
      "cell_type": "markdown",
      "metadata": {
        "id": "GvSLdgadt6LY"
      },
      "source": [
        "# Pretrained-Embedding-matrix"
      ]
    },
    {
      "cell_type": "code",
      "metadata": {
        "colab": {
          "base_uri": "https://localhost:8080/"
        },
        "id": "zVSRN8fnt31F",
        "outputId": "5078b080-fc79-4b1b-f2d3-5c035bd0eb44"
      },
      "source": [
        "embedding_dict = dict()\n",
        "f = open('/content/drive/Shareddrives/SOGANG Parrot/Pretrained-Embedding-Vector/glove.twitter.27B.200d.txt/glove.twitter.27B.200d.txt', encoding=\"utf8\")\n",
        "\n",
        "for line in f:\n",
        "    word_vector = line.split()\n",
        "    word = word_vector[0]\n",
        "    word_vector_arr = np.asarray(word_vector[1:], dtype='float32') # 200\n",
        "    embedding_dict[word] = word_vector_arr\n",
        "f.close()\n",
        "print('There are %s Embedding Vectors\\n' % len(embedding_dict))\n",
        "\n",
        "print(embedding_dict['respectable'])\n",
        "print(len(embedding_dict['respectable']))\n",
        "\n",
        "embedding_matrix = np.zeros((len(tokenizer.word_index)+1, 200)) # will delete first row\n",
        "\n",
        "for word, i in tokenizer.word_index.items(): \n",
        "    temp = embedding_dict.get(word) \n",
        "    if temp is not None:\n",
        "        embedding_matrix[i] = temp \n",
        "\n",
        "print(embedding_matrix.shape)\n",
        "embedding_matrix = np.delete(embedding_matrix,0,axis=0) # delete first row\n",
        "print(embedding_matrix.shape)"
      ],
      "execution_count": null,
      "outputs": [
        {
          "output_type": "stream",
          "text": [
            "There are 1193514 Embedding Vectors\n",
            "\n",
            "[-6.4748e-01 -3.7296e-01 -3.6128e-01  7.9975e-01 -2.1890e-01  7.6152e-01\n",
            " -7.3698e-02  2.2635e-01 -7.5429e-02  6.3600e-01 -6.5914e-01 -5.1787e-01\n",
            " -6.4411e-02 -3.0796e-01  4.4071e-01  1.4543e-01 -9.9792e-02 -2.3253e-01\n",
            "  2.0882e-01 -9.3256e-02 -2.9659e-01 -1.6643e-01 -1.3184e-01 -5.5247e-01\n",
            " -6.0625e-01  9.6745e-01  3.8410e-01 -1.4236e-02  2.8774e-01  7.5652e-01\n",
            "  1.1552e-01 -4.9894e-01 -9.2585e-02 -6.7708e-02  3.1373e-01  5.6426e-01\n",
            "  1.9797e-01  4.0703e-02  2.7106e-01 -3.3045e-01  3.9652e-01  1.3718e-01\n",
            "  5.0194e-01  3.7811e-01  2.9139e-01  2.6001e-01  2.9927e-01  3.6737e-01\n",
            "  1.0638e-01  3.7086e-01  2.3767e-02  6.4266e-01 -2.4067e-01 -3.1749e-01\n",
            " -3.4070e-01  9.3053e-01  1.8900e-01 -2.7260e-01 -3.5132e-01  1.4086e-01\n",
            " -1.6232e-01  8.7983e-03 -8.7401e-02 -1.2887e-01  2.5303e-01  9.0737e-01\n",
            " -3.3149e-01  5.8059e-02 -2.3855e-01  3.5351e-01 -3.8560e-01 -4.6745e-01\n",
            " -2.2487e-01 -1.9058e-01  3.4685e-02  4.1231e-01  9.3602e-02  2.0409e-01\n",
            " -2.4806e-01  1.3415e-01 -3.3103e-02 -1.3584e-01 -2.3476e-01 -8.4288e-02\n",
            "  4.6286e-01  3.8784e-01  4.4430e-01 -2.8609e-01 -2.7041e-01 -1.9235e-01\n",
            " -1.5831e-01  9.8357e-01 -2.6385e-01  5.4559e-01  3.3843e-01  3.2157e-01\n",
            "  7.3296e-01  1.0803e-01  6.5516e-01 -3.0074e-01  2.4091e-01 -2.8064e-02\n",
            " -3.1438e-01  2.2706e-01  6.0407e-01 -1.7941e-01  3.4237e-01 -8.2516e-02\n",
            "  6.8829e-02  1.9141e-01 -3.7076e-03  1.6319e-01  5.8710e-01  9.7778e-02\n",
            " -2.8883e-02 -1.4038e-01 -4.6740e-01  5.2499e-01  2.3336e-01  5.9216e-01\n",
            " -2.7878e-02  2.9111e-01 -6.0881e-01  1.0899e-01 -4.5522e-02  2.3117e-01\n",
            "  5.4563e-01 -5.5960e-01  2.9627e-01 -3.6436e-02 -6.6415e-01  7.2335e-02\n",
            "  2.1310e-01 -4.0450e-01 -2.6190e-02  3.4587e-01  8.3901e-02 -2.2964e-01\n",
            "  2.6786e-01  2.4783e-01  3.5687e-01  7.0495e-01  1.3507e-01 -5.8846e-02\n",
            "  2.4553e-01  2.3232e-01  3.1930e-01 -1.6204e-01  4.9869e-01 -7.8123e-02\n",
            " -8.7849e-02  2.2856e-01 -1.3048e+00  1.1218e-01  4.2665e-01 -3.1402e-01\n",
            " -3.2848e-02 -1.4033e-01 -1.8119e-01  8.1331e-01  2.2846e-02  2.2617e-01\n",
            " -2.1585e-01  1.7529e-02  1.8789e-01 -3.3444e-01 -4.4278e-01 -1.8998e-01\n",
            "  2.8810e-01 -4.6224e-02  1.0201e+00 -5.7756e-01 -2.7032e-01  3.2498e-02\n",
            " -2.1147e-01  1.8717e-01  1.5862e-01 -6.0124e-01 -2.0705e-01  8.3816e-02\n",
            " -4.2300e-01 -1.5713e-01 -1.6955e-01 -4.6085e-01 -2.1368e-01  2.4863e-01\n",
            " -4.2403e-01 -1.9565e-01 -3.7347e-01 -1.8980e-01  3.9056e-04  1.1618e-01\n",
            "  5.5893e-01 -3.8291e-01  2.1319e-01 -6.4864e-01  1.2915e-01  5.3299e-02\n",
            "  5.7116e-02 -1.1572e+00]\n",
            "200\n",
            "(206242, 200)\n",
            "(206241, 200)\n"
          ],
          "name": "stdout"
        }
      ]
    },
    {
      "cell_type": "code",
      "metadata": {
        "id": "NJ44lkKruBul"
      },
      "source": [
        "np.save('/content/drive/Shareddrives/SOGANG Parrot/Pretrained-Embedding-Vector/0408-augumentated-200d-pretrained-embed-Glove.npy',embedding_matrix)"
      ],
      "execution_count": null,
      "outputs": []
    },
    {
      "cell_type": "code",
      "metadata": {
        "colab": {
          "base_uri": "https://localhost:8080/"
        },
        "id": "AWJo6Wi9uKJA",
        "outputId": "efcd3c40-8209-44d2-e2ca-72c80327e104"
      },
      "source": [
        "embedding_matrix = np.load('/content/drive/Shareddrives/SOGANG Parrot/Pretrained-Embedding-Vector/0408-augumentated-200d-pretrained-embed-Glove.npy')\n",
        "embedding_matrix.shape"
      ],
      "execution_count": null,
      "outputs": [
        {
          "output_type": "execute_result",
          "data": {
            "text/plain": [
              "(206241, 200)"
            ]
          },
          "metadata": {
            "tags": []
          },
          "execution_count": 10
        }
      ]
    },
    {
      "cell_type": "markdown",
      "metadata": {
        "id": "_MeJ2zqwuT61"
      },
      "source": [
        "--------------------"
      ]
    },
    {
      "cell_type": "markdown",
      "metadata": {
        "id": "m0laVTL1uWSV"
      },
      "source": [
        "# Model"
      ]
    },
    {
      "cell_type": "code",
      "metadata": {
        "id": "nAJQUrJXuS8R"
      },
      "source": [
        "inp = Input(shape=(maxlen, )) #maxlen=50\n",
        "x = Embedding(len(tokenizer.word_index), embedding_matrix.shape[1],\n",
        "              weights=[embedding_matrix],trainable=False)(inp)\n",
        "x = SpatialDropout1D(0.2)(x)\n",
        "x = Bidirectional(GRU(128, return_sequences=True))(x)\n",
        "x = Conv1D(64, 3, padding='valid', kernel_initializer='glorot_uniform')(x)\n",
        "avg_pool = GlobalMaxPooling1D()(x)\n",
        "max_pool = GlobalAveragePooling1D()(x)\n",
        "conc = concatenate([avg_pool, max_pool])\n",
        "x = Dense(128, activation=\"relu\")(conc)\n",
        "x = Dropout(0.1)(x)\n",
        "x = Dense(6, activation=\"sigmoid\")(x)"
      ],
      "execution_count": null,
      "outputs": []
    },
    {
      "cell_type": "code",
      "metadata": {
        "colab": {
          "base_uri": "https://localhost:8080/"
        },
        "id": "xX0KfwSJulH1",
        "outputId": "f80f1c54-d8e4-4a49-cc24-72e6a468a49e"
      },
      "source": [
        "model = Model(inputs=inp, outputs=x)\n",
        "model.compile(loss='binary_crossentropy',\n",
        "                  optimizer='adam',\n",
        "                  metrics=['accuracy'])\n",
        "\n",
        "model.summary()"
      ],
      "execution_count": null,
      "outputs": [
        {
          "output_type": "stream",
          "text": [
            "Model: \"model\"\n",
            "__________________________________________________________________________________________________\n",
            "Layer (type)                    Output Shape         Param #     Connected to                     \n",
            "==================================================================================================\n",
            "input_1 (InputLayer)            [(None, 50)]         0                                            \n",
            "__________________________________________________________________________________________________\n",
            "embedding (Embedding)           (None, 50, 200)      41248200    input_1[0][0]                    \n",
            "__________________________________________________________________________________________________\n",
            "spatial_dropout1d (SpatialDropo (None, 50, 200)      0           embedding[0][0]                  \n",
            "__________________________________________________________________________________________________\n",
            "bidirectional (Bidirectional)   (None, 50, 256)      253440      spatial_dropout1d[0][0]          \n",
            "__________________________________________________________________________________________________\n",
            "conv1d (Conv1D)                 (None, 48, 64)       49216       bidirectional[0][0]              \n",
            "__________________________________________________________________________________________________\n",
            "global_max_pooling1d (GlobalMax (None, 64)           0           conv1d[0][0]                     \n",
            "__________________________________________________________________________________________________\n",
            "global_average_pooling1d (Globa (None, 64)           0           conv1d[0][0]                     \n",
            "__________________________________________________________________________________________________\n",
            "concatenate (Concatenate)       (None, 128)          0           global_max_pooling1d[0][0]       \n",
            "                                                                 global_average_pooling1d[0][0]   \n",
            "__________________________________________________________________________________________________\n",
            "dense (Dense)                   (None, 128)          16512       concatenate[0][0]                \n",
            "__________________________________________________________________________________________________\n",
            "dropout (Dropout)               (None, 128)          0           dense[0][0]                      \n",
            "__________________________________________________________________________________________________\n",
            "dense_1 (Dense)                 (None, 6)            774         dropout[0][0]                    \n",
            "==================================================================================================\n",
            "Total params: 41,568,142\n",
            "Trainable params: 319,942\n",
            "Non-trainable params: 41,248,200\n",
            "__________________________________________________________________________________________________\n"
          ],
          "name": "stdout"
        }
      ]
    },
    {
      "cell_type": "code",
      "metadata": {
        "colab": {
          "base_uri": "https://localhost:8080/"
        },
        "id": "lu0-W7HnumKV",
        "outputId": "38b03e56-c436-46e4-963c-84149466eceb"
      },
      "source": [
        "tf.keras.backend.clear_session()\n",
        "\n",
        "from tensorflow.keras.callbacks import ModelCheckpoint\n",
        "#checkpoint\n",
        "checkpoint = ModelCheckpoint(filepath='/content/drive/Shareddrives/SOGANG Parrot/Trained-Model/0408-augumentated-pretrained-embed-Glove.hdf5', monitor='val_loss', verbose=1, save_best_only=True)\n",
        "\n",
        "batch_size = 128\n",
        "epochs = 10\n",
        "hist = model.fit(X_t,y, batch_size=batch_size, epochs=epochs, callbacks=[checkpoint], validation_split=0.1)"
      ],
      "execution_count": null,
      "outputs": [
        {
          "output_type": "stream",
          "text": [
            "Epoch 1/10\n",
            "4488/4488 [==============================] - 184s 34ms/step - loss: 0.0925 - accuracy: 0.9136 - val_loss: 0.0572 - val_accuracy: 0.9942\n",
            "\n",
            "Epoch 00001: val_loss improved from inf to 0.05721, saving model to /content/drive/Shareddrives/SOGANG Parrot/Trained-Model/0408-augumentated-pretrained-embed-Glove.hdf5\n",
            "Epoch 2/10\n",
            "4488/4488 [==============================] - 150s 33ms/step - loss: 0.0579 - accuracy: 0.9870 - val_loss: 0.0505 - val_accuracy: 0.9933\n",
            "\n",
            "Epoch 00002: val_loss improved from 0.05721 to 0.05047, saving model to /content/drive/Shareddrives/SOGANG Parrot/Trained-Model/0408-augumentated-pretrained-embed-Glove.hdf5\n",
            "Epoch 3/10\n",
            "4488/4488 [==============================] - 149s 33ms/step - loss: 0.0511 - accuracy: 0.9878 - val_loss: 0.0473 - val_accuracy: 0.9939\n",
            "\n",
            "Epoch 00003: val_loss improved from 0.05047 to 0.04726, saving model to /content/drive/Shareddrives/SOGANG Parrot/Trained-Model/0408-augumentated-pretrained-embed-Glove.hdf5\n",
            "Epoch 4/10\n",
            "4488/4488 [==============================] - 149s 33ms/step - loss: 0.0467 - accuracy: 0.9868 - val_loss: 0.0475 - val_accuracy: 0.9927\n",
            "\n",
            "Epoch 00004: val_loss did not improve from 0.04726\n",
            "Epoch 5/10\n",
            "4488/4488 [==============================] - 149s 33ms/step - loss: 0.0428 - accuracy: 0.9834 - val_loss: 0.0441 - val_accuracy: 0.9938\n",
            "\n",
            "Epoch 00005: val_loss improved from 0.04726 to 0.04405, saving model to /content/drive/Shareddrives/SOGANG Parrot/Trained-Model/0408-augumentated-pretrained-embed-Glove.hdf5\n",
            "Epoch 6/10\n",
            "4488/4488 [==============================] - 149s 33ms/step - loss: 0.0411 - accuracy: 0.9796 - val_loss: 0.0427 - val_accuracy: 0.9938\n",
            "\n",
            "Epoch 00006: val_loss improved from 0.04405 to 0.04268, saving model to /content/drive/Shareddrives/SOGANG Parrot/Trained-Model/0408-augumentated-pretrained-embed-Glove.hdf5\n",
            "Epoch 7/10\n",
            "4488/4488 [==============================] - 150s 33ms/step - loss: 0.0394 - accuracy: 0.9779 - val_loss: 0.0433 - val_accuracy: 0.9770\n",
            "\n",
            "Epoch 00007: val_loss did not improve from 0.04268\n",
            "Epoch 8/10\n",
            "4488/4488 [==============================] - 149s 33ms/step - loss: 0.0380 - accuracy: 0.9394 - val_loss: 0.0418 - val_accuracy: 0.9830\n",
            "\n",
            "Epoch 00008: val_loss improved from 0.04268 to 0.04180, saving model to /content/drive/Shareddrives/SOGANG Parrot/Trained-Model/0408-augumentated-pretrained-embed-Glove.hdf5\n",
            "Epoch 9/10\n",
            "4488/4488 [==============================] - 149s 33ms/step - loss: 0.0369 - accuracy: 0.9525 - val_loss: 0.0408 - val_accuracy: 0.9918\n",
            "\n",
            "Epoch 00009: val_loss improved from 0.04180 to 0.04075, saving model to /content/drive/Shareddrives/SOGANG Parrot/Trained-Model/0408-augumentated-pretrained-embed-Glove.hdf5\n",
            "Epoch 10/10\n",
            "4488/4488 [==============================] - 150s 33ms/step - loss: 0.0361 - accuracy: 0.9593 - val_loss: 0.0395 - val_accuracy: 0.9897\n",
            "\n",
            "Epoch 00010: val_loss improved from 0.04075 to 0.03953, saving model to /content/drive/Shareddrives/SOGANG Parrot/Trained-Model/0408-augumentated-pretrained-embed-Glove.hdf5\n"
          ],
          "name": "stdout"
        }
      ]
    },
    {
      "cell_type": "code",
      "metadata": {
        "id": "49P3VHJnuumq"
      },
      "source": [
        "sample_submission = pd.read_csv(\"/content/drive/Shareddrives/SOGANG Parrot/sample_submission.csv/sample_submission.csv\")\n",
        "\n",
        "sample_submission[list_classes] = model.predict(X_te)\n",
        "\n",
        "sample_submission.to_csv(\"/content/drive/Shareddrives/SOGANG Parrot/All-submission/0408-augumentated-pretrained-embed-Glove.csv\", index=False)"
      ],
      "execution_count": null,
      "outputs": []
    },
    {
      "cell_type": "markdown",
      "metadata": {
        "id": "m3Y1dwH93UVR"
      },
      "source": [
        "![image.png](data:image/png;base64,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)"
      ]
    },
    {
      "cell_type": "markdown",
      "metadata": {
        "id": "kB_XY3n6RpUq"
      },
      "source": [
        "# Model 2\n",
        "epochs 10 -> 20"
      ]
    },
    {
      "cell_type": "code",
      "metadata": {
        "id": "MX9SI0GMwI81"
      },
      "source": [
        "inp = Input(shape=(maxlen, )) #maxlen=50\n",
        "x = Embedding(len(tokenizer.word_index), embedding_matrix.shape[1],\n",
        "              weights=[embedding_matrix],trainable=False)(inp)\n",
        "x = SpatialDropout1D(0.2)(x)\n",
        "x = Bidirectional(GRU(128, return_sequences=True))(x)\n",
        "x = Conv1D(64, 3, padding='valid', kernel_initializer='glorot_uniform')(x)\n",
        "avg_pool = GlobalMaxPooling1D()(x)\n",
        "max_pool = GlobalAveragePooling1D()(x)\n",
        "conc = concatenate([avg_pool, max_pool])\n",
        "x = Dense(128, activation=\"relu\")(conc)\n",
        "x = Dropout(0.1)(x)\n",
        "x = Dense(6, activation=\"sigmoid\")(x)"
      ],
      "execution_count": null,
      "outputs": []
    },
    {
      "cell_type": "code",
      "metadata": {
        "colab": {
          "base_uri": "https://localhost:8080/"
        },
        "id": "1haAny8mRynD",
        "outputId": "d14c5431-ff9d-44cf-c3f7-f62f46d3ec77"
      },
      "source": [
        "model = Model(inputs=inp, outputs=x)\n",
        "model.compile(loss='binary_crossentropy',\n",
        "                  optimizer='adam',\n",
        "                  metrics=['accuracy'])\n",
        "\n",
        "model.summary()"
      ],
      "execution_count": null,
      "outputs": [
        {
          "output_type": "stream",
          "text": [
            "Model: \"model\"\n",
            "__________________________________________________________________________________________________\n",
            "Layer (type)                    Output Shape         Param #     Connected to                     \n",
            "==================================================================================================\n",
            "input_1 (InputLayer)            [(None, 50)]         0                                            \n",
            "__________________________________________________________________________________________________\n",
            "embedding (Embedding)           (None, 50, 200)      41248200    input_1[0][0]                    \n",
            "__________________________________________________________________________________________________\n",
            "spatial_dropout1d (SpatialDropo (None, 50, 200)      0           embedding[0][0]                  \n",
            "__________________________________________________________________________________________________\n",
            "bidirectional (Bidirectional)   (None, 50, 256)      253440      spatial_dropout1d[0][0]          \n",
            "__________________________________________________________________________________________________\n",
            "conv1d (Conv1D)                 (None, 48, 64)       49216       bidirectional[0][0]              \n",
            "__________________________________________________________________________________________________\n",
            "global_max_pooling1d (GlobalMax (None, 64)           0           conv1d[0][0]                     \n",
            "__________________________________________________________________________________________________\n",
            "global_average_pooling1d (Globa (None, 64)           0           conv1d[0][0]                     \n",
            "__________________________________________________________________________________________________\n",
            "concatenate (Concatenate)       (None, 128)          0           global_max_pooling1d[0][0]       \n",
            "                                                                 global_average_pooling1d[0][0]   \n",
            "__________________________________________________________________________________________________\n",
            "dense (Dense)                   (None, 128)          16512       concatenate[0][0]                \n",
            "__________________________________________________________________________________________________\n",
            "dropout (Dropout)               (None, 128)          0           dense[0][0]                      \n",
            "__________________________________________________________________________________________________\n",
            "dense_1 (Dense)                 (None, 6)            774         dropout[0][0]                    \n",
            "==================================================================================================\n",
            "Total params: 41,568,142\n",
            "Trainable params: 319,942\n",
            "Non-trainable params: 41,248,200\n",
            "__________________________________________________________________________________________________\n"
          ],
          "name": "stdout"
        }
      ]
    },
    {
      "cell_type": "code",
      "metadata": {
        "colab": {
          "base_uri": "https://localhost:8080/"
        },
        "id": "1ie66ObqRzx0",
        "outputId": "527a2337-00f4-4991-b6cd-54f824a61a8a"
      },
      "source": [
        "tf.keras.backend.clear_session()\n",
        "\n",
        "from tensorflow.keras.callbacks import ModelCheckpoint\n",
        "#checkpoint\n",
        "checkpoint = ModelCheckpoint(filepath='/content/drive/Shareddrives/SOGANG Parrot/Trained-Model/0408-ver2-augumentated-pretrained-embed-Glove.hdf5', monitor='val_loss', verbose=1, save_best_only=True)\n",
        "\n",
        "batch_size = 128\n",
        "epochs = 20\n",
        "hist = model.fit(X_t,y, batch_size=batch_size, epochs=epochs, callbacks=[checkpoint], validation_split=0.1)"
      ],
      "execution_count": null,
      "outputs": [
        {
          "output_type": "stream",
          "text": [
            "Epoch 1/20\n",
            "4488/4488 [==============================] - 184s 34ms/step - loss: 0.0925 - accuracy: 0.9253 - val_loss: 0.0563 - val_accuracy: 0.9932\n",
            "\n",
            "Epoch 00001: val_loss improved from inf to 0.05625, saving model to /content/drive/Shareddrives/SOGANG Parrot/Trained-Model/0408-ver2-augumentated-pretrained-embed-Glove.hdf5\n",
            "Epoch 2/20\n",
            "4488/4488 [==============================] - 150s 33ms/step - loss: 0.0571 - accuracy: 0.9924 - val_loss: 0.0512 - val_accuracy: 0.9925\n",
            "\n",
            "Epoch 00002: val_loss improved from 0.05625 to 0.05120, saving model to /content/drive/Shareddrives/SOGANG Parrot/Trained-Model/0408-ver2-augumentated-pretrained-embed-Glove.hdf5\n",
            "Epoch 3/20\n",
            "4488/4488 [==============================] - 149s 33ms/step - loss: 0.0507 - accuracy: 0.9848 - val_loss: 0.0477 - val_accuracy: 0.9941\n",
            "\n",
            "Epoch 00003: val_loss improved from 0.05120 to 0.04769, saving model to /content/drive/Shareddrives/SOGANG Parrot/Trained-Model/0408-ver2-augumentated-pretrained-embed-Glove.hdf5\n",
            "Epoch 4/20\n",
            "4488/4488 [==============================] - 149s 33ms/step - loss: 0.0461 - accuracy: 0.9836 - val_loss: 0.0452 - val_accuracy: 0.9936\n",
            "\n",
            "Epoch 00004: val_loss improved from 0.04769 to 0.04521, saving model to /content/drive/Shareddrives/SOGANG Parrot/Trained-Model/0408-ver2-augumentated-pretrained-embed-Glove.hdf5\n",
            "Epoch 5/20\n",
            "4488/4488 [==============================] - 150s 33ms/step - loss: 0.0430 - accuracy: 0.9822 - val_loss: 0.0434 - val_accuracy: 0.9866\n",
            "\n",
            "Epoch 00005: val_loss improved from 0.04521 to 0.04339, saving model to /content/drive/Shareddrives/SOGANG Parrot/Trained-Model/0408-ver2-augumentated-pretrained-embed-Glove.hdf5\n",
            "Epoch 6/20\n",
            "4488/4488 [==============================] - 154s 34ms/step - loss: 0.0406 - accuracy: 0.9716 - val_loss: 0.0418 - val_accuracy: 0.9924\n",
            "\n",
            "Epoch 00006: val_loss improved from 0.04339 to 0.04181, saving model to /content/drive/Shareddrives/SOGANG Parrot/Trained-Model/0408-ver2-augumentated-pretrained-embed-Glove.hdf5\n",
            "Epoch 7/20\n",
            "4488/4488 [==============================] - 154s 34ms/step - loss: 0.0390 - accuracy: 0.9575 - val_loss: 0.0427 - val_accuracy: 0.9927\n",
            "\n",
            "Epoch 00007: val_loss did not improve from 0.04181\n",
            "Epoch 8/20\n",
            "4488/4488 [==============================] - 154s 34ms/step - loss: 0.0378 - accuracy: 0.9640 - val_loss: 0.0416 - val_accuracy: 0.9797\n",
            "\n",
            "Epoch 00008: val_loss improved from 0.04181 to 0.04156, saving model to /content/drive/Shareddrives/SOGANG Parrot/Trained-Model/0408-ver2-augumentated-pretrained-embed-Glove.hdf5\n",
            "Epoch 9/20\n",
            "4488/4488 [==============================] - 154s 34ms/step - loss: 0.0367 - accuracy: 0.9505 - val_loss: 0.0418 - val_accuracy: 0.9915\n",
            "\n",
            "Epoch 00009: val_loss did not improve from 0.04156\n",
            "Epoch 10/20\n",
            "4488/4488 [==============================] - 153s 34ms/step - loss: 0.0360 - accuracy: 0.9580 - val_loss: 0.0406 - val_accuracy: 0.9481\n",
            "\n",
            "Epoch 00010: val_loss improved from 0.04156 to 0.04059, saving model to /content/drive/Shareddrives/SOGANG Parrot/Trained-Model/0408-ver2-augumentated-pretrained-embed-Glove.hdf5\n",
            "Epoch 11/20\n",
            "4488/4488 [==============================] - 153s 34ms/step - loss: 0.0355 - accuracy: 0.9316 - val_loss: 0.0393 - val_accuracy: 0.9905\n",
            "\n",
            "Epoch 00011: val_loss improved from 0.04059 to 0.03933, saving model to /content/drive/Shareddrives/SOGANG Parrot/Trained-Model/0408-ver2-augumentated-pretrained-embed-Glove.hdf5\n",
            "Epoch 12/20\n",
            "4488/4488 [==============================] - 153s 34ms/step - loss: 0.0348 - accuracy: 0.9148 - val_loss: 0.0400 - val_accuracy: 0.8978\n",
            "\n",
            "Epoch 00012: val_loss did not improve from 0.03933\n",
            "Epoch 13/20\n",
            "4488/4488 [==============================] - 153s 34ms/step - loss: 0.0340 - accuracy: 0.9113 - val_loss: 0.0395 - val_accuracy: 0.9912\n",
            "\n",
            "Epoch 00013: val_loss did not improve from 0.03933\n",
            "Epoch 14/20\n",
            "4488/4488 [==============================] - 154s 34ms/step - loss: 0.0339 - accuracy: 0.9089 - val_loss: 0.0399 - val_accuracy: 0.9815\n",
            "\n",
            "Epoch 00014: val_loss did not improve from 0.03933\n",
            "Epoch 15/20\n",
            "4488/4488 [==============================] - 153s 34ms/step - loss: 0.0333 - accuracy: 0.9385 - val_loss: 0.0410 - val_accuracy: 0.9808\n",
            "\n",
            "Epoch 00015: val_loss did not improve from 0.03933\n",
            "Epoch 16/20\n",
            "4488/4488 [==============================] - 151s 34ms/step - loss: 0.0334 - accuracy: 0.9215 - val_loss: 0.0397 - val_accuracy: 0.9488\n",
            "\n",
            "Epoch 00016: val_loss did not improve from 0.03933\n",
            "Epoch 17/20\n",
            "4488/4488 [==============================] - 150s 33ms/step - loss: 0.0330 - accuracy: 0.8904 - val_loss: 0.0403 - val_accuracy: 0.9419\n",
            "\n",
            "Epoch 00017: val_loss did not improve from 0.03933\n",
            "Epoch 18/20\n",
            "4488/4488 [==============================] - 150s 33ms/step - loss: 0.0328 - accuracy: 0.9037 - val_loss: 0.0388 - val_accuracy: 0.9312\n",
            "\n",
            "Epoch 00018: val_loss improved from 0.03933 to 0.03881, saving model to /content/drive/Shareddrives/SOGANG Parrot/Trained-Model/0408-ver2-augumentated-pretrained-embed-Glove.hdf5\n",
            "Epoch 19/20\n",
            "4488/4488 [==============================] - 150s 33ms/step - loss: 0.0323 - accuracy: 0.9013 - val_loss: 0.0386 - val_accuracy: 0.9673\n",
            "\n",
            "Epoch 00019: val_loss improved from 0.03881 to 0.03856, saving model to /content/drive/Shareddrives/SOGANG Parrot/Trained-Model/0408-ver2-augumentated-pretrained-embed-Glove.hdf5\n",
            "Epoch 20/20\n",
            "4488/4488 [==============================] - 153s 34ms/step - loss: 0.0319 - accuracy: 0.8991 - val_loss: 0.0390 - val_accuracy: 0.9805\n",
            "\n",
            "Epoch 00020: val_loss did not improve from 0.03856\n"
          ],
          "name": "stdout"
        }
      ]
    },
    {
      "cell_type": "code",
      "metadata": {
        "id": "5oZ3KGrqR3ei"
      },
      "source": [
        "sample_submission = pd.read_csv(\"/content/drive/Shareddrives/SOGANG Parrot/sample_submission.csv/sample_submission.csv\")\n",
        "\n",
        "sample_submission[list_classes] = model.predict(X_te)\n",
        "\n",
        "sample_submission.to_csv(\"/content/drive/Shareddrives/SOGANG Parrot/All-submission/0408-ver2-augumentated-pretrained-embed-Glove.csv\", index=False)"
      ],
      "execution_count": null,
      "outputs": []
    },
    {
      "cell_type": "markdown",
      "metadata": {
        "id": "6p3kmCQweqiF"
      },
      "source": [
        "![image.png](data:image/png;base64,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)"
      ]
    },
    {
      "cell_type": "code",
      "metadata": {
        "id": "hptai8UWR6EX"
      },
      "source": [
        ""
      ],
      "execution_count": null,
      "outputs": []
    }
  ]
}