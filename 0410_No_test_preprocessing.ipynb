{
  "nbformat": 4,
  "nbformat_minor": 0,
  "metadata": {
    "colab": {
      "name": "0410-No-test-preprocessing.ipynb",
      "provenance": [],
      "collapsed_sections": [],
      "toc_visible": true,
      "authorship_tag": "ABX9TyNKmwklZVrFdenQaSP+LJJz",
      "include_colab_link": true
    },
    "kernelspec": {
      "name": "python3",
      "display_name": "Python 3"
    },
    "language_info": {
      "name": "python"
    },
    "accelerator": "GPU"
  },
  "cells": [
    {
      "cell_type": "markdown",
      "metadata": {
        "id": "view-in-github",
        "colab_type": "text"
      },
      "source": [
        "<a href=\"https://colab.research.google.com/github/GitHub-Bong/Toxic-Comment-Challenge/blob/master/0410_No_test_preprocessing.ipynb\" target=\"_parent\"><img src=\"https://colab.research.google.com/assets/colab-badge.svg\" alt=\"Open In Colab\"/></a>"
      ]
    },
    {
      "cell_type": "markdown",
      "metadata": {
        "id": "vts66tLzjbwC"
      },
      "source": [
        "# Mount, Import"
      ]
    },
    {
      "cell_type": "code",
      "metadata": {
        "colab": {
          "base_uri": "https://localhost:8080/"
        },
        "id": "en6uUCTGjZT1",
        "outputId": "2b12bb3a-50f7-4b31-980c-af1ee120362b"
      },
      "source": [
        "from google.colab import drive\n",
        "drive.mount('/content/drive')"
      ],
      "execution_count": null,
      "outputs": [
        {
          "output_type": "stream",
          "text": [
            "Mounted at /content/drive\n"
          ],
          "name": "stdout"
        }
      ]
    },
    {
      "cell_type": "code",
      "metadata": {
        "id": "4JEPkjR_jeOA"
      },
      "source": [
        "import tensorflow as tf\n",
        "from tensorflow import keras\n",
        "import sys, os, re, string, csv, codecs, numpy as np, pandas as pd\n",
        "import matplotlib.pyplot as plt\n",
        "%matplotlib inline\n",
        "from tensorflow.keras.preprocessing.text import Tokenizer\n",
        "from tensorflow.keras.preprocessing.sequence import pad_sequences\n",
        "from tensorflow.keras.layers import Dense, Input, LSTM, Embedding, Dropout, Activation, SpatialDropout1D, concatenate, add\n",
        "from tensorflow.keras.layers import Conv1D, GRU, Bidirectional, GlobalMaxPooling1D, GlobalAveragePooling1D\n",
        "from tensorflow.keras.models import Model, load_model\n",
        "from tensorflow.keras import initializers, regularizers, constraints, optimizers, layers"
      ],
      "execution_count": null,
      "outputs": []
    },
    {
      "cell_type": "markdown",
      "metadata": {
        "id": "oWRSnohYjf-z"
      },
      "source": [
        "# Load Data"
      ]
    },
    {
      "cell_type": "code",
      "metadata": {
        "id": "GYoxxVz6jfiK"
      },
      "source": [
        "train = pd.read_csv('/content/drive/Shareddrives/SOGANG Parrot/train.csv/train.csv')\n",
        "test = pd.read_csv('/content/drive/Shareddrives/SOGANG Parrot/test.csv/test.csv')"
      ],
      "execution_count": null,
      "outputs": []
    },
    {
      "cell_type": "code",
      "metadata": {
        "id": "fx46iBwXjkSk"
      },
      "source": [
        "train_fr = pd.read_csv('/content/drive/Shareddrives/SOGANG Parrot/Ho-colab/train_fr.csv')\n",
        "train_de = pd.read_csv('/content/drive/Shareddrives/SOGANG Parrot/Ho-colab/train_de.csv')\n",
        "train_es = pd.read_csv('/content/drive/Shareddrives/SOGANG Parrot/Ho-colab/train_es.csv')"
      ],
      "execution_count": null,
      "outputs": []
    },
    {
      "cell_type": "code",
      "metadata": {
        "id": "thvVpG4rlefF"
      },
      "source": [
        "train_fr_toxic = train_fr[train_fr.iloc[:, 2:8].sum(1) != 0]\n",
        "train_de_toxic = train_de[train_de.iloc[:, 2:8].sum(1) != 0]\n",
        "train_es_toxic = train_es[train_es.iloc[:, 2:8].sum(1) != 0]"
      ],
      "execution_count": null,
      "outputs": []
    },
    {
      "cell_type": "code",
      "metadata": {
        "colab": {
          "base_uri": "https://localhost:8080/",
          "height": 211
        },
        "id": "b_tqDOTAlfay",
        "outputId": "870d4c1c-cb89-466b-9ea4-2505666eac88"
      },
      "source": [
        "train_fr_toxic.head(2)"
      ],
      "execution_count": null,
      "outputs": [
        {
          "output_type": "execute_result",
          "data": {
            "text/html": [
              "<div>\n",
              "<style scoped>\n",
              "    .dataframe tbody tr th:only-of-type {\n",
              "        vertical-align: middle;\n",
              "    }\n",
              "\n",
              "    .dataframe tbody tr th {\n",
              "        vertical-align: top;\n",
              "    }\n",
              "\n",
              "    .dataframe thead th {\n",
              "        text-align: right;\n",
              "    }\n",
              "</style>\n",
              "<table border=\"1\" class=\"dataframe\">\n",
              "  <thead>\n",
              "    <tr style=\"text-align: right;\">\n",
              "      <th></th>\n",
              "      <th>id</th>\n",
              "      <th>comment_text</th>\n",
              "      <th>toxic</th>\n",
              "      <th>severe_toxic</th>\n",
              "      <th>obscene</th>\n",
              "      <th>threat</th>\n",
              "      <th>insult</th>\n",
              "      <th>identity_hate</th>\n",
              "    </tr>\n",
              "  </thead>\n",
              "  <tbody>\n",
              "    <tr>\n",
              "      <th>6</th>\n",
              "      <td>0002bcb3da6cb337</td>\n",
              "      <td>COCKSUCKER BEFORE YOU MISS IN MY WORK</td>\n",
              "      <td>1</td>\n",
              "      <td>1</td>\n",
              "      <td>1</td>\n",
              "      <td>0</td>\n",
              "      <td>1</td>\n",
              "      <td>0</td>\n",
              "    </tr>\n",
              "    <tr>\n",
              "      <th>12</th>\n",
              "      <td>0005c987bdfc9d4b</td>\n",
              "      <td>Hey ... what is it ..\\n@ | speak .\\nWhat is it...</td>\n",
              "      <td>1</td>\n",
              "      <td>0</td>\n",
              "      <td>0</td>\n",
              "      <td>0</td>\n",
              "      <td>0</td>\n",
              "      <td>0</td>\n",
              "    </tr>\n",
              "  </tbody>\n",
              "</table>\n",
              "</div>"
            ],
            "text/plain": [
              "                  id  ... identity_hate\n",
              "6   0002bcb3da6cb337  ...             0\n",
              "12  0005c987bdfc9d4b  ...             0\n",
              "\n",
              "[2 rows x 8 columns]"
            ]
          },
          "metadata": {
            "tags": []
          },
          "execution_count": 6
        }
      ]
    },
    {
      "cell_type": "code",
      "metadata": {
        "id": "neNEzYLolgqQ"
      },
      "source": [
        "train_augumented = pd.concat([train, train_fr_toxic, train_de_toxic, train_es_toxic],ignore_index=True)"
      ],
      "execution_count": null,
      "outputs": []
    },
    {
      "cell_type": "code",
      "metadata": {
        "colab": {
          "base_uri": "https://localhost:8080/"
        },
        "id": "-KeAFpGGliCD",
        "outputId": "4f993c40-0c2e-443b-98e9-9f48090634c2"
      },
      "source": [
        "train_augumented.shape"
      ],
      "execution_count": null,
      "outputs": [
        {
          "output_type": "execute_result",
          "data": {
            "text/plain": [
              "(208246, 8)"
            ]
          },
          "metadata": {
            "tags": []
          },
          "execution_count": 8
        }
      ]
    },
    {
      "cell_type": "markdown",
      "metadata": {
        "id": "ve3vzViHljFW"
      },
      "source": [
        "# Preprocessing"
      ]
    },
    {
      "cell_type": "code",
      "metadata": {
        "id": "geJEHoaplkJK"
      },
      "source": [
        "train_augumented['preprocessed'] = train_augumented['comment_text']"
      ],
      "execution_count": null,
      "outputs": []
    },
    {
      "cell_type": "markdown",
      "metadata": {
        "id": "6g9yhldUlmUN"
      },
      "source": [
        "## Train data"
      ]
    },
    {
      "cell_type": "code",
      "metadata": {
        "colab": {
          "base_uri": "https://localhost:8080/"
        },
        "id": "gqfCgr3ylnLv",
        "outputId": "34cd2f24-da57-4cd6-eea0-a4befbe93bf3"
      },
      "source": [
        "# 1. Capitalization / Lower case'\n",
        "train_augumented['preprocessed'] = train_augumented['preprocessed'].apply(lambda x: x.lower())\n",
        "# 2. Remove ~.jpg , (UTC)\n",
        "train_augumented['preprocessed'] = train_augumented['preprocessed'].apply(lambda x: re.sub(r\"\\S+\\.jpg|\\(UTC\\)\", \" \", x))\n",
        "# 3. Expand the Contractions\n",
        "!pip install contractions\n",
        "import contractions\n",
        "train_augumented['preprocessed'] = train_augumented['preprocessed'].apply(lambda x: contractions.fix(x))\n",
        "# 4. Remove URLs\n",
        "train_augumented['preprocessed'] = train_augumented['preprocessed'].apply(lambda x: re.sub(r\"https?://\\S+|www\\.\\S+\", \" \", x))\n",
        "# 5. Remove HTML tags\n",
        "train_augumented['preprocessed'] = train_augumented['preprocessed'].apply(lambda x: re.sub(r\"<.*?>|&([a-z0-9]+|#[0-9]{1,6}|#x[0-9a-f]{1,6});\", \" \", x))\n",
        "# 6. Remove Non-ASCI\n",
        "train_augumented['preprocessed'] = train_augumented['preprocessed'].apply(lambda x: re.sub(r'[^\\x00-\\x7f]',' ', x))\n",
        "# 7. Remove punctuations\n",
        "train_augumented['preprocessed'] = train_augumented['preprocessed'].apply(lambda x: re.sub(r'[]!\"$%&\\'()*+,./:;=#@?[\\\\^_`{|}~-]+', \" \", x))\n",
        "# 8. Capitalization / Lower case\n",
        "train_augumented['preprocessed'] = train_augumented['preprocessed'].apply(lambda x: x.lower())\n",
        "# # Remove stopwords\n",
        "import nltk\n",
        "nltk.download('stopwords')\n",
        "from nltk.corpus import stopwords\n",
        "stop = stopwords.words('english')\n",
        "train_augumented['preprocessed'] = train_augumented['preprocessed'].apply(lambda x: ' '.join([word for word in x.split() if word not in (stop)]))"
      ],
      "execution_count": null,
      "outputs": [
        {
          "output_type": "stream",
          "text": [
            "Collecting contractions\n",
            "  Downloading https://files.pythonhosted.org/packages/0a/04/d5e0bb9f2cef5d15616ebf68087a725c5dbdd71bd422bcfb35d709f98ce7/contractions-0.0.48-py2.py3-none-any.whl\n",
            "Collecting textsearch>=0.0.21\n",
            "  Downloading https://files.pythonhosted.org/packages/d3/fe/021d7d76961b5ceb9f8d022c4138461d83beff36c3938dc424586085e559/textsearch-0.0.21-py2.py3-none-any.whl\n",
            "Collecting anyascii\n",
            "\u001b[?25l  Downloading https://files.pythonhosted.org/packages/09/c7/61370d9e3c349478e89a5554c1e5d9658e1e3116cc4f2528f568909ebdf1/anyascii-0.1.7-py3-none-any.whl (260kB)\n",
            "\u001b[K     |████████████████████████████████| 266kB 4.2MB/s \n",
            "\u001b[?25hCollecting pyahocorasick\n",
            "\u001b[?25l  Downloading https://files.pythonhosted.org/packages/7f/c2/eae730037ae1cbbfaa229d27030d1d5e34a1e41114b21447d1202ae9c220/pyahocorasick-1.4.2.tar.gz (321kB)\n",
            "\u001b[K     |████████████████████████████████| 327kB 17.7MB/s \n",
            "\u001b[?25hBuilding wheels for collected packages: pyahocorasick\n",
            "  Building wheel for pyahocorasick (setup.py) ... \u001b[?25l\u001b[?25hdone\n",
            "  Created wheel for pyahocorasick: filename=pyahocorasick-1.4.2-cp37-cp37m-linux_x86_64.whl size=85399 sha256=df35980521fd88c677bee41b1ee1eb976e0de2d62363c6744dc393a683a314c4\n",
            "  Stored in directory: /root/.cache/pip/wheels/3a/03/34/77e3ece0bba8b86bfac88a79f923b36d805cad63caeba38842\n",
            "Successfully built pyahocorasick\n",
            "Installing collected packages: anyascii, pyahocorasick, textsearch, contractions\n",
            "Successfully installed anyascii-0.1.7 contractions-0.0.48 pyahocorasick-1.4.2 textsearch-0.0.21\n",
            "[nltk_data] Downloading package stopwords to /root/nltk_data...\n",
            "[nltk_data]   Unzipping corpora/stopwords.zip.\n"
          ],
          "name": "stdout"
        }
      ]
    },
    {
      "cell_type": "code",
      "metadata": {
        "colab": {
          "base_uri": "https://localhost:8080/"
        },
        "id": "BePdhGnkng3B",
        "outputId": "766ea8e2-befd-456b-f326-1b612d64eb34"
      },
      "source": [
        "# Find zero len comment\n",
        "zerolen_t = list()\n",
        "num = 0\n",
        "for i in train_augumented['preprocessed']:\n",
        "  if not re.search('\\S',i):\n",
        "    zerolen_t.append(num)\n",
        "  num += 1\n",
        "print(len(zerolen_t))  # 전처리 되어서 ' ' 형태된 갯수 "
      ],
      "execution_count": null,
      "outputs": [
        {
          "output_type": "stream",
          "text": [
            "51\n"
          ],
          "name": "stdout"
        }
      ]
    },
    {
      "cell_type": "code",
      "metadata": {
        "colab": {
          "base_uri": "https://localhost:8080/",
          "height": 1000
        },
        "id": "NEJbgBR4nh_O",
        "outputId": "cdc41414-52d2-44bd-b4f9-187cacd68219"
      },
      "source": [
        "pd.set_option('max_colwidth', 200)\n",
        "pd.set_option(\"max_rows\", None)\n",
        "train_augumented.iloc[zerolen_t,1:]"
      ],
      "execution_count": null,
      "outputs": [
        {
          "output_type": "execute_result",
          "data": {
            "text/html": [
              "<div>\n",
              "<style scoped>\n",
              "    .dataframe tbody tr th:only-of-type {\n",
              "        vertical-align: middle;\n",
              "    }\n",
              "\n",
              "    .dataframe tbody tr th {\n",
              "        vertical-align: top;\n",
              "    }\n",
              "\n",
              "    .dataframe thead th {\n",
              "        text-align: right;\n",
              "    }\n",
              "</style>\n",
              "<table border=\"1\" class=\"dataframe\">\n",
              "  <thead>\n",
              "    <tr style=\"text-align: right;\">\n",
              "      <th></th>\n",
              "      <th>comment_text</th>\n",
              "      <th>toxic</th>\n",
              "      <th>severe_toxic</th>\n",
              "      <th>obscene</th>\n",
              "      <th>threat</th>\n",
              "      <th>insult</th>\n",
              "      <th>identity_hate</th>\n",
              "      <th>preprocessed</th>\n",
              "    </tr>\n",
              "  </thead>\n",
              "  <tbody>\n",
              "    <tr>\n",
              "      <th>2407</th>\n",
              "      <td>Here, here and here.</td>\n",
              "      <td>0</td>\n",
              "      <td>0</td>\n",
              "      <td>0</td>\n",
              "      <td>0</td>\n",
              "      <td>0</td>\n",
              "      <td>0</td>\n",
              "      <td></td>\n",
              "    </tr>\n",
              "    <tr>\n",
              "      <th>9395</th>\n",
              "      <td>They do too.  their ... -</td>\n",
              "      <td>0</td>\n",
              "      <td>0</td>\n",
              "      <td>0</td>\n",
              "      <td>0</td>\n",
              "      <td>0</td>\n",
              "      <td>0</td>\n",
              "      <td></td>\n",
              "    </tr>\n",
              "    <tr>\n",
              "      <th>12414</th>\n",
              "      <td>You're just at it again!</td>\n",
              "      <td>0</td>\n",
              "      <td>0</td>\n",
              "      <td>0</td>\n",
              "      <td>0</td>\n",
              "      <td>0</td>\n",
              "      <td>0</td>\n",
              "      <td></td>\n",
              "    </tr>\n",
              "    <tr>\n",
              "      <th>19815</th>\n",
              "      <td>(www.ebenefits.va.gov)</td>\n",
              "      <td>0</td>\n",
              "      <td>0</td>\n",
              "      <td>0</td>\n",
              "      <td>0</td>\n",
              "      <td>0</td>\n",
              "      <td>0</td>\n",
              "      <td></td>\n",
              "    </tr>\n",
              "    <tr>\n",
              "      <th>23095</th>\n",
              "      <td>Where was it before?</td>\n",
              "      <td>0</td>\n",
              "      <td>0</td>\n",
              "      <td>0</td>\n",
              "      <td>0</td>\n",
              "      <td>0</td>\n",
              "      <td>0</td>\n",
              "      <td></td>\n",
              "    </tr>\n",
              "    <tr>\n",
              "      <th>26401</th>\n",
              "      <td>than just on/off such as on/off/</td>\n",
              "      <td>0</td>\n",
              "      <td>0</td>\n",
              "      <td>0</td>\n",
              "      <td>0</td>\n",
              "      <td>0</td>\n",
              "      <td>0</td>\n",
              "      <td></td>\n",
              "    </tr>\n",
              "    <tr>\n",
              "      <th>31072</th>\n",
              "      <td>!!!!!\\nWhat is all of this.</td>\n",
              "      <td>0</td>\n",
              "      <td>0</td>\n",
              "      <td>0</td>\n",
              "      <td>0</td>\n",
              "      <td>0</td>\n",
              "      <td>0</td>\n",
              "      <td></td>\n",
              "    </tr>\n",
              "    <tr>\n",
              "      <th>32019</th>\n",
              "      <td>\"\\nNo, they DON'T!    \"</td>\n",
              "      <td>0</td>\n",
              "      <td>0</td>\n",
              "      <td>0</td>\n",
              "      <td>0</td>\n",
              "      <td>0</td>\n",
              "      <td>0</td>\n",
              "      <td></td>\n",
              "    </tr>\n",
              "    <tr>\n",
              "      <th>36755</th>\n",
              "      <td>I wont do it again</td>\n",
              "      <td>0</td>\n",
              "      <td>0</td>\n",
              "      <td>0</td>\n",
              "      <td>0</td>\n",
              "      <td>0</td>\n",
              "      <td>0</td>\n",
              "      <td></td>\n",
              "    </tr>\n",
              "    <tr>\n",
              "      <th>38313</th>\n",
              "      <td>what \\n\\nwhy did you do that!!</td>\n",
              "      <td>0</td>\n",
              "      <td>0</td>\n",
              "      <td>0</td>\n",
              "      <td>0</td>\n",
              "      <td>0</td>\n",
              "      <td>0</td>\n",
              "      <td></td>\n",
              "    </tr>\n",
              "    <tr>\n",
              "      <th>41648</th>\n",
              "      <td>[   ]\\nhttp://www.smallholder.co.uk/news/878983.honey_storage/</td>\n",
              "      <td>0</td>\n",
              "      <td>0</td>\n",
              "      <td>0</td>\n",
              "      <td>0</td>\n",
              "      <td>0</td>\n",
              "      <td>0</td>\n",
              "      <td></td>\n",
              "    </tr>\n",
              "    <tr>\n",
              "      <th>58603</th>\n",
              "      <td>\"\\n\\nAnd so what's this?\\n\"</td>\n",
              "      <td>0</td>\n",
              "      <td>0</td>\n",
              "      <td>0</td>\n",
              "      <td>0</td>\n",
              "      <td>0</td>\n",
              "      <td>0</td>\n",
              "      <td></td>\n",
              "    </tr>\n",
              "    <tr>\n",
              "      <th>63104</th>\n",
              "      <td>http://www.everytopicintheuniverseexceptchickens.com/ !!!!</td>\n",
              "      <td>0</td>\n",
              "      <td>0</td>\n",
              "      <td>0</td>\n",
              "      <td>0</td>\n",
              "      <td>0</td>\n",
              "      <td>0</td>\n",
              "      <td></td>\n",
              "    </tr>\n",
              "    <tr>\n",
              "      <th>64304</th>\n",
              "      <td>WHAT DID I D!!!!!!!!!!!!!!!!!!!!!O</td>\n",
              "      <td>0</td>\n",
              "      <td>0</td>\n",
              "      <td>0</td>\n",
              "      <td>0</td>\n",
              "      <td>0</td>\n",
              "      <td>0</td>\n",
              "      <td></td>\n",
              "    </tr>\n",
              "    <tr>\n",
              "      <th>64904</th>\n",
              "      <td>http://en.wikipedia.org/wiki/Wikipedia_talk:No_original_research/archive15#YouTube_art_as_primary_source</td>\n",
              "      <td>0</td>\n",
              "      <td>0</td>\n",
              "      <td>0</td>\n",
              "      <td>0</td>\n",
              "      <td>0</td>\n",
              "      <td>0</td>\n",
              "      <td></td>\n",
              "    </tr>\n",
              "    <tr>\n",
              "      <th>68469</th>\n",
              "      <td>http://en.wikipedia.org/wiki/Towns_in_the_Former_RSK\\nhttp://en.wikipedia.org/wiki/Wikipedia:Articles_for_deletion/Geography_of_the_Former_Republic_of_Serbian_Krajina (  ).</td>\n",
              "      <td>0</td>\n",
              "      <td>0</td>\n",
              "      <td>0</td>\n",
              "      <td>0</td>\n",
              "      <td>0</td>\n",
              "      <td>0</td>\n",
              "      <td></td>\n",
              "    </tr>\n",
              "    <tr>\n",
              "      <th>71720</th>\n",
              "      <td>No, they are not.</td>\n",
              "      <td>0</td>\n",
              "      <td>0</td>\n",
              "      <td>0</td>\n",
              "      <td>0</td>\n",
              "      <td>0</td>\n",
              "      <td>0</td>\n",
              "      <td></td>\n",
              "    </tr>\n",
              "    <tr>\n",
              "      <th>76037</th>\n",
              "      <td>http://finance.yahoo.com/news/7-fascinating-nuggets-another-bewildering-150348488.html</td>\n",
              "      <td>0</td>\n",
              "      <td>0</td>\n",
              "      <td>0</td>\n",
              "      <td>0</td>\n",
              "      <td>0</td>\n",
              "      <td>0</td>\n",
              "      <td></td>\n",
              "    </tr>\n",
              "    <tr>\n",
              "      <th>78063</th>\n",
              "      <td>http://www.wwedaily.com/wp-content/uploads/2007/08/naughtymickie.jpg - isn't this her??</td>\n",
              "      <td>0</td>\n",
              "      <td>0</td>\n",
              "      <td>0</td>\n",
              "      <td>0</td>\n",
              "      <td>0</td>\n",
              "      <td>0</td>\n",
              "      <td></td>\n",
              "    </tr>\n",
              "    <tr>\n",
              "      <th>82232</th>\n",
              "      <td>have\\n               with them.</td>\n",
              "      <td>0</td>\n",
              "      <td>0</td>\n",
              "      <td>0</td>\n",
              "      <td>0</td>\n",
              "      <td>0</td>\n",
              "      <td>0</td>\n",
              "      <td></td>\n",
              "    </tr>\n",
              "    <tr>\n",
              "      <th>93867</th>\n",
              "      <td>, we all have our own,</td>\n",
              "      <td>0</td>\n",
              "      <td>0</td>\n",
              "      <td>0</td>\n",
              "      <td>0</td>\n",
              "      <td>0</td>\n",
              "      <td>0</td>\n",
              "      <td></td>\n",
              "    </tr>\n",
              "    <tr>\n",
              "      <th>93983</th>\n",
              "      <td>SHE IS SUCH A WHORE!!!!!!!!!!!!!!!!!!!!!!!</td>\n",
              "      <td>1</td>\n",
              "      <td>1</td>\n",
              "      <td>1</td>\n",
              "      <td>0</td>\n",
              "      <td>1</td>\n",
              "      <td>0</td>\n",
              "      <td></td>\n",
              "    </tr>\n",
              "    <tr>\n",
              "      <th>94038</th>\n",
              "      <td>http://wikipediawehaveaproblem.com/evidence-of-cyberbullying-wp-editors-and-admins/  http://wikipediawehaveaproblem.com/evidence-of-cyberbullying-wp-editors-and-admins/</td>\n",
              "      <td>0</td>\n",
              "      <td>0</td>\n",
              "      <td>0</td>\n",
              "      <td>0</td>\n",
              "      <td>0</td>\n",
              "      <td>0</td>\n",
              "      <td></td>\n",
              "    </tr>\n",
              "    <tr>\n",
              "      <th>96375</th>\n",
              "      <td>To \\nhttp://national-express-malaysia.blogspot.com/2010/11/chinese-and-indians-not-patriotic.html</td>\n",
              "      <td>0</td>\n",
              "      <td>0</td>\n",
              "      <td>0</td>\n",
              "      <td>0</td>\n",
              "      <td>0</td>\n",
              "      <td>0</td>\n",
              "      <td></td>\n",
              "    </tr>\n",
              "    <tr>\n",
              "      <th>106891</th>\n",
              "      <td>http://en.wikipedia.org/wiki/Wikipedia:ELYES</td>\n",
              "      <td>0</td>\n",
              "      <td>0</td>\n",
              "      <td>0</td>\n",
              "      <td>0</td>\n",
              "      <td>0</td>\n",
              "      <td>0</td>\n",
              "      <td></td>\n",
              "    </tr>\n",
              "    <tr>\n",
              "      <th>109581</th>\n",
              "      <td>There, now will you D</td>\n",
              "      <td>0</td>\n",
              "      <td>0</td>\n",
              "      <td>0</td>\n",
              "      <td>0</td>\n",
              "      <td>0</td>\n",
              "      <td>0</td>\n",
              "      <td></td>\n",
              "    </tr>\n",
              "    <tr>\n",
              "      <th>109944</th>\n",
              "      <td>http://www.newswire.ca/fr/story/358197/domaine-pinnacle-ice-cider-now-available-in-new-european-and-asian-markets .</td>\n",
              "      <td>0</td>\n",
              "      <td>0</td>\n",
              "      <td>0</td>\n",
              "      <td>0</td>\n",
              "      <td>0</td>\n",
              "      <td>0</td>\n",
              "      <td></td>\n",
              "    </tr>\n",
              "    <tr>\n",
              "      <th>110514</th>\n",
              "      <td>\"\"\"WE WHO IS WE IT IS YOU\"\" ve\"</td>\n",
              "      <td>0</td>\n",
              "      <td>0</td>\n",
              "      <td>0</td>\n",
              "      <td>0</td>\n",
              "      <td>0</td>\n",
              "      <td>0</td>\n",
              "      <td></td>\n",
              "    </tr>\n",
              "    <tr>\n",
              "      <th>114172</th>\n",
              "      <td>\"\\nHow about that?.   ☥  \\n\"</td>\n",
              "      <td>0</td>\n",
              "      <td>0</td>\n",
              "      <td>0</td>\n",
              "      <td>0</td>\n",
              "      <td>0</td>\n",
              "      <td>0</td>\n",
              "      <td></td>\n",
              "    </tr>\n",
              "    <tr>\n",
              "      <th>116195</th>\n",
              "      <td>Will this do? http://th.wikipedia.org/wiki/%E0%B9%84%E0%B8%9F%E0%B8%A5%E0%B9%8C:Yingrak.jpg</td>\n",
              "      <td>0</td>\n",
              "      <td>0</td>\n",
              "      <td>0</td>\n",
              "      <td>0</td>\n",
              "      <td>0</td>\n",
              "      <td>0</td>\n",
              "      <td></td>\n",
              "    </tr>\n",
              "    <tr>\n",
              "      <th>123442</th>\n",
              "      <td>http://www.mediamonitors.net/edna47.html   http://www.freerepublic.com/forum/a3ad7b207707d.htm</td>\n",
              "      <td>0</td>\n",
              "      <td>0</td>\n",
              "      <td>0</td>\n",
              "      <td>0</td>\n",
              "      <td>0</td>\n",
              "      <td>0</td>\n",
              "      <td></td>\n",
              "    </tr>\n",
              "    <tr>\n",
              "      <th>124454</th>\n",
              "      <td>What what what what is this ???</td>\n",
              "      <td>0</td>\n",
              "      <td>0</td>\n",
              "      <td>0</td>\n",
              "      <td>0</td>\n",
              "      <td>0</td>\n",
              "      <td>0</td>\n",
              "      <td></td>\n",
              "    </tr>\n",
              "    <tr>\n",
              "      <th>124619</th>\n",
              "      <td>And how do I do that?</td>\n",
              "      <td>0</td>\n",
              "      <td>0</td>\n",
              "      <td>0</td>\n",
              "      <td>0</td>\n",
              "      <td>0</td>\n",
              "      <td>0</td>\n",
              "      <td></td>\n",
              "    </tr>\n",
              "    <tr>\n",
              "      <th>126952</th>\n",
              "      <td>Why? \\n\\nWhy did you do that?</td>\n",
              "      <td>0</td>\n",
              "      <td>0</td>\n",
              "      <td>0</td>\n",
              "      <td>0</td>\n",
              "      <td>0</td>\n",
              "      <td>0</td>\n",
              "      <td></td>\n",
              "    </tr>\n",
              "    <tr>\n",
              "      <th>127051</th>\n",
              "      <td>&lt; try reviewing it again. Will try to improve on this article &gt;</td>\n",
              "      <td>0</td>\n",
              "      <td>0</td>\n",
              "      <td>0</td>\n",
              "      <td>0</td>\n",
              "      <td>0</td>\n",
              "      <td>0</td>\n",
              "      <td></td>\n",
              "    </tr>\n",
              "    <tr>\n",
              "      <th>129074</th>\n",
              "      <td>What are you on about?</td>\n",
              "      <td>0</td>\n",
              "      <td>0</td>\n",
              "      <td>0</td>\n",
              "      <td>0</td>\n",
              "      <td>0</td>\n",
              "      <td>0</td>\n",
              "      <td></td>\n",
              "    </tr>\n",
              "    <tr>\n",
              "      <th>140477</th>\n",
              "      <td>what should i do? \\n\\n?????</td>\n",
              "      <td>0</td>\n",
              "      <td>0</td>\n",
              "      <td>0</td>\n",
              "      <td>0</td>\n",
              "      <td>0</td>\n",
              "      <td>0</td>\n",
              "      <td></td>\n",
              "    </tr>\n",
              "    <tr>\n",
              "      <th>141293</th>\n",
              "      <td>http://www.haaretz.com/news/diplomacy-defense/2-279-calories-per-person-how-israel-made-sure-gaza-didn-t-starve.premium-1.470419</td>\n",
              "      <td>0</td>\n",
              "      <td>0</td>\n",
              "      <td>0</td>\n",
              "      <td>0</td>\n",
              "      <td>0</td>\n",
              "      <td>0</td>\n",
              "      <td></td>\n",
              "    </tr>\n",
              "    <tr>\n",
              "      <th>143094</th>\n",
              "      <td>them both. That was just</td>\n",
              "      <td>0</td>\n",
              "      <td>0</td>\n",
              "      <td>0</td>\n",
              "      <td>0</td>\n",
              "      <td>0</td>\n",
              "      <td>0</td>\n",
              "      <td></td>\n",
              "    </tr>\n",
              "    <tr>\n",
              "      <th>147665</th>\n",
              "      <td>http://www.world-pyramids.com/atr/usa/monkmound.html \\nhttp://www.freewebs.com/historyofmonksmound/index.htm \\nhttp://www.bibliotecapleyades.net/arqueologia/monks_mound.htm</td>\n",
              "      <td>0</td>\n",
              "      <td>0</td>\n",
              "      <td>0</td>\n",
              "      <td>0</td>\n",
              "      <td>0</td>\n",
              "      <td>0</td>\n",
              "      <td></td>\n",
              "    </tr>\n",
              "    <tr>\n",
              "      <th>147917</th>\n",
              "      <td>What is it and where is it?</td>\n",
              "      <td>0</td>\n",
              "      <td>0</td>\n",
              "      <td>0</td>\n",
              "      <td>0</td>\n",
              "      <td>0</td>\n",
              "      <td>0</td>\n",
              "      <td></td>\n",
              "    </tr>\n",
              "    <tr>\n",
              "      <th>153616</th>\n",
              "      <td>http://en.wikipedia.org/w/index.php?title=Crash_Bandicoot_%28series%29&amp;diff;=prev&amp;oldid;=484470162]], [], [], [], [] [[</td>\n",
              "      <td>0</td>\n",
              "      <td>0</td>\n",
              "      <td>0</td>\n",
              "      <td>0</td>\n",
              "      <td>0</td>\n",
              "      <td>0</td>\n",
              "      <td></td>\n",
              "    </tr>\n",
              "    <tr>\n",
              "      <th>162821</th>\n",
              "      <td>Who are you?</td>\n",
              "      <td>1</td>\n",
              "      <td>1</td>\n",
              "      <td>1</td>\n",
              "      <td>0</td>\n",
              "      <td>0</td>\n",
              "      <td>0</td>\n",
              "      <td></td>\n",
              "    </tr>\n",
              "    <tr>\n",
              "      <th>165777</th>\n",
              "      <td>WHY ARE YOU?</td>\n",
              "      <td>1</td>\n",
              "      <td>0</td>\n",
              "      <td>0</td>\n",
              "      <td>0</td>\n",
              "      <td>1</td>\n",
              "      <td>0</td>\n",
              "      <td></td>\n",
              "    </tr>\n",
              "    <tr>\n",
              "      <th>169422</th>\n",
              "      <td>And what is that?</td>\n",
              "      <td>1</td>\n",
              "      <td>0</td>\n",
              "      <td>1</td>\n",
              "      <td>0</td>\n",
              "      <td>1</td>\n",
              "      <td>0</td>\n",
              "      <td></td>\n",
              "    </tr>\n",
              "    <tr>\n",
              "      <th>175217</th>\n",
              "      <td>You\\n\\nAre a ***** the!</td>\n",
              "      <td>1</td>\n",
              "      <td>0</td>\n",
              "      <td>0</td>\n",
              "      <td>0</td>\n",
              "      <td>1</td>\n",
              "      <td>0</td>\n",
              "      <td></td>\n",
              "    </tr>\n",
              "    <tr>\n",
              "      <th>179442</th>\n",
              "      <td>After, After, After, After, After, After, After, After, After, After, After</td>\n",
              "      <td>1</td>\n",
              "      <td>0</td>\n",
              "      <td>0</td>\n",
              "      <td>0</td>\n",
              "      <td>0</td>\n",
              "      <td>0</td>\n",
              "      <td></td>\n",
              "    </tr>\n",
              "    <tr>\n",
              "      <th>185389</th>\n",
              "      <td>She is such a whore !!!!!!!!!!!!!!!!!!!!!!!</td>\n",
              "      <td>1</td>\n",
              "      <td>1</td>\n",
              "      <td>1</td>\n",
              "      <td>0</td>\n",
              "      <td>1</td>\n",
              "      <td>0</td>\n",
              "      <td></td>\n",
              "    </tr>\n",
              "    <tr>\n",
              "      <th>197308</th>\n",
              "      <td>and, and, and, and, and, and, and, and, and, and, and, and, and, and, and,</td>\n",
              "      <td>1</td>\n",
              "      <td>0</td>\n",
              "      <td>0</td>\n",
              "      <td>0</td>\n",
              "      <td>0</td>\n",
              "      <td>0</td>\n",
              "      <td></td>\n",
              "    </tr>\n",
              "    <tr>\n",
              "      <th>207667</th>\n",
              "      <td>Your\\n\\nThey are a ***** him!</td>\n",
              "      <td>1</td>\n",
              "      <td>0</td>\n",
              "      <td>0</td>\n",
              "      <td>0</td>\n",
              "      <td>1</td>\n",
              "      <td>0</td>\n",
              "      <td></td>\n",
              "    </tr>\n",
              "    <tr>\n",
              "      <th>208052</th>\n",
              "      <td>You're a whore, too.</td>\n",
              "      <td>1</td>\n",
              "      <td>0</td>\n",
              "      <td>1</td>\n",
              "      <td>0</td>\n",
              "      <td>1</td>\n",
              "      <td>0</td>\n",
              "      <td></td>\n",
              "    </tr>\n",
              "  </tbody>\n",
              "</table>\n",
              "</div>"
            ],
            "text/plain": [
              "                                                                                                                                                                        comment_text  ...  preprocessed\n",
              "2407                                                                                                                                                            Here, here and here.  ...              \n",
              "9395                                                                                                                                                       They do too.  their ... -  ...              \n",
              "12414                                                                                                                                                       You're just at it again!  ...              \n",
              "19815                                                                                                                                                         (www.ebenefits.va.gov)  ...              \n",
              "23095                                                                                                                                                           Where was it before?  ...              \n",
              "26401                                                                                                                                               than just on/off such as on/off/  ...              \n",
              "31072                                                                                                                                                    !!!!!\\nWhat is all of this.  ...              \n",
              "32019                                                                                                                                                        \"\\nNo, they DON'T!    \"  ...              \n",
              "36755                                                                                                                                                             I wont do it again  ...              \n",
              "38313                                                                                                                                                 what \\n\\nwhy did you do that!!  ...              \n",
              "41648                                                                                                                 [   ]\\nhttp://www.smallholder.co.uk/news/878983.honey_storage/  ...              \n",
              "58603                                                                                                                                                    \"\\n\\nAnd so what's this?\\n\"  ...              \n",
              "63104                                                                                                                     http://www.everytopicintheuniverseexceptchickens.com/ !!!!  ...              \n",
              "64304                                                                                                                                             WHAT DID I D!!!!!!!!!!!!!!!!!!!!!O  ...              \n",
              "64904                                                                       http://en.wikipedia.org/wiki/Wikipedia_talk:No_original_research/archive15#YouTube_art_as_primary_source  ...              \n",
              "68469   http://en.wikipedia.org/wiki/Towns_in_the_Former_RSK\\nhttp://en.wikipedia.org/wiki/Wikipedia:Articles_for_deletion/Geography_of_the_Former_Republic_of_Serbian_Krajina (  ).  ...              \n",
              "71720                                                                                                                                                              No, they are not.  ...              \n",
              "76037                                                                                         http://finance.yahoo.com/news/7-fascinating-nuggets-another-bewildering-150348488.html  ...              \n",
              "78063                                                                                        http://www.wwedaily.com/wp-content/uploads/2007/08/naughtymickie.jpg - isn't this her??  ...              \n",
              "82232                                                                                                                                                have\\n               with them.  ...              \n",
              "93867                                                                                                                                                         , we all have our own,  ...              \n",
              "93983                                                                                                                                     SHE IS SUCH A WHORE!!!!!!!!!!!!!!!!!!!!!!!  ...              \n",
              "94038       http://wikipediawehaveaproblem.com/evidence-of-cyberbullying-wp-editors-and-admins/  http://wikipediawehaveaproblem.com/evidence-of-cyberbullying-wp-editors-and-admins/  ...              \n",
              "96375                                                                              To \\nhttp://national-express-malaysia.blogspot.com/2010/11/chinese-and-indians-not-patriotic.html  ...              \n",
              "106891                                                                                                                                  http://en.wikipedia.org/wiki/Wikipedia:ELYES  ...              \n",
              "109581                                                                                                                                                         There, now will you D  ...              \n",
              "109944                                                           http://www.newswire.ca/fr/story/358197/domaine-pinnacle-ice-cider-now-available-in-new-european-and-asian-markets .  ...              \n",
              "110514                                                                                                                                               \"\"\"WE WHO IS WE IT IS YOU\"\" ve\"  ...              \n",
              "114172                                                                                                                                                  \"\\nHow about that?.   ☥  \\n\"  ...              \n",
              "116195                                                                                   Will this do? http://th.wikipedia.org/wiki/%E0%B9%84%E0%B8%9F%E0%B8%A5%E0%B9%8C:Yingrak.jpg  ...              \n",
              "123442                                                                                http://www.mediamonitors.net/edna47.html   http://www.freerepublic.com/forum/a3ad7b207707d.htm  ...              \n",
              "124454                                                                                                                                               What what what what is this ???  ...              \n",
              "124619                                                                                                                                                         And how do I do that?  ...              \n",
              "126952                                                                                                                                                 Why? \\n\\nWhy did you do that?  ...              \n",
              "127051                                                                                                               < try reviewing it again. Will try to improve on this article >  ...              \n",
              "129074                                                                                                                                                        What are you on about?  ...              \n",
              "140477                                                                                                                                                   what should i do? \\n\\n?????  ...              \n",
              "141293                                              http://www.haaretz.com/news/diplomacy-defense/2-279-calories-per-person-how-israel-made-sure-gaza-didn-t-starve.premium-1.470419  ...              \n",
              "143094                                                                                                                                                      them both. That was just  ...              \n",
              "147665  http://www.world-pyramids.com/atr/usa/monkmound.html \\nhttp://www.freewebs.com/historyofmonksmound/index.htm \\nhttp://www.bibliotecapleyades.net/arqueologia/monks_mound.htm  ...              \n",
              "147917                                                                                                                                                   What is it and where is it?  ...              \n",
              "153616                                                       http://en.wikipedia.org/w/index.php?title=Crash_Bandicoot_%28series%29&diff;=prev&oldid;=484470162]], [], [], [], [] [[  ...              \n",
              "162821                                                                                                                                                                  Who are you?  ...              \n",
              "165777                                                                                                                                                                  WHY ARE YOU?  ...              \n",
              "169422                                                                                                                                                             And what is that?  ...              \n",
              "175217                                                                                                                                                       You\\n\\nAre a ***** the!  ...              \n",
              "179442                                                                                                   After, After, After, After, After, After, After, After, After, After, After  ...              \n",
              "185389                                                                                                                                   She is such a whore !!!!!!!!!!!!!!!!!!!!!!!  ...              \n",
              "197308                                                                                                    and, and, and, and, and, and, and, and, and, and, and, and, and, and, and,  ...              \n",
              "207667                                                                                                                                                 Your\\n\\nThey are a ***** him!  ...              \n",
              "208052                                                                                                                                                          You're a whore, too.  ...              \n",
              "\n",
              "[51 rows x 8 columns]"
            ]
          },
          "metadata": {
            "tags": []
          },
          "execution_count": 12
        }
      ]
    },
    {
      "cell_type": "code",
      "metadata": {
        "id": "QptkJa1Bnjae"
      },
      "source": [
        "train_augumented.iloc[zerolen_t,8] = 'useless'"
      ],
      "execution_count": null,
      "outputs": []
    },
    {
      "cell_type": "code",
      "metadata": {
        "colab": {
          "base_uri": "https://localhost:8080/",
          "height": 347
        },
        "id": "X0McJwjznj0W",
        "outputId": "b9eef6b7-8bdd-4970-da8a-aee182ba1b49"
      },
      "source": [
        "train_augumented.iloc[zerolen_t,[1,8]].head(10)"
      ],
      "execution_count": null,
      "outputs": [
        {
          "output_type": "execute_result",
          "data": {
            "text/html": [
              "<div>\n",
              "<style scoped>\n",
              "    .dataframe tbody tr th:only-of-type {\n",
              "        vertical-align: middle;\n",
              "    }\n",
              "\n",
              "    .dataframe tbody tr th {\n",
              "        vertical-align: top;\n",
              "    }\n",
              "\n",
              "    .dataframe thead th {\n",
              "        text-align: right;\n",
              "    }\n",
              "</style>\n",
              "<table border=\"1\" class=\"dataframe\">\n",
              "  <thead>\n",
              "    <tr style=\"text-align: right;\">\n",
              "      <th></th>\n",
              "      <th>comment_text</th>\n",
              "      <th>preprocessed</th>\n",
              "    </tr>\n",
              "  </thead>\n",
              "  <tbody>\n",
              "    <tr>\n",
              "      <th>2407</th>\n",
              "      <td>Here, here and here.</td>\n",
              "      <td>useless</td>\n",
              "    </tr>\n",
              "    <tr>\n",
              "      <th>9395</th>\n",
              "      <td>They do too.  their ... -</td>\n",
              "      <td>useless</td>\n",
              "    </tr>\n",
              "    <tr>\n",
              "      <th>12414</th>\n",
              "      <td>You're just at it again!</td>\n",
              "      <td>useless</td>\n",
              "    </tr>\n",
              "    <tr>\n",
              "      <th>19815</th>\n",
              "      <td>(www.ebenefits.va.gov)</td>\n",
              "      <td>useless</td>\n",
              "    </tr>\n",
              "    <tr>\n",
              "      <th>23095</th>\n",
              "      <td>Where was it before?</td>\n",
              "      <td>useless</td>\n",
              "    </tr>\n",
              "    <tr>\n",
              "      <th>26401</th>\n",
              "      <td>than just on/off such as on/off/</td>\n",
              "      <td>useless</td>\n",
              "    </tr>\n",
              "    <tr>\n",
              "      <th>31072</th>\n",
              "      <td>!!!!!\\nWhat is all of this.</td>\n",
              "      <td>useless</td>\n",
              "    </tr>\n",
              "    <tr>\n",
              "      <th>32019</th>\n",
              "      <td>\"\\nNo, they DON'T!    \"</td>\n",
              "      <td>useless</td>\n",
              "    </tr>\n",
              "    <tr>\n",
              "      <th>36755</th>\n",
              "      <td>I wont do it again</td>\n",
              "      <td>useless</td>\n",
              "    </tr>\n",
              "    <tr>\n",
              "      <th>38313</th>\n",
              "      <td>what \\n\\nwhy did you do that!!</td>\n",
              "      <td>useless</td>\n",
              "    </tr>\n",
              "  </tbody>\n",
              "</table>\n",
              "</div>"
            ],
            "text/plain": [
              "                           comment_text preprocessed\n",
              "2407               Here, here and here.      useless\n",
              "9395          They do too.  their ... -      useless\n",
              "12414          You're just at it again!      useless\n",
              "19815            (www.ebenefits.va.gov)      useless\n",
              "23095              Where was it before?      useless\n",
              "26401  than just on/off such as on/off/      useless\n",
              "31072       !!!!!\\nWhat is all of this.      useless\n",
              "32019           \"\\nNo, they DON'T!    \"      useless\n",
              "36755                I wont do it again      useless\n",
              "38313    what \\n\\nwhy did you do that!!      useless"
            ]
          },
          "metadata": {
            "tags": []
          },
          "execution_count": 14
        }
      ]
    },
    {
      "cell_type": "code",
      "metadata": {
        "id": "qpJiVUd_nlO2"
      },
      "source": [
        "from sklearn.utils import shuffle\n",
        "train_augumented = shuffle(train_augumented)"
      ],
      "execution_count": null,
      "outputs": []
    },
    {
      "cell_type": "code",
      "metadata": {
        "id": "Bvp9vog-nnCv"
      },
      "source": [
        "train_augumented.to_csv(\"/content/drive/Shareddrives/SOGANG Parrot/Ho-colab/0409-new-train.csv\", index=False)"
      ],
      "execution_count": null,
      "outputs": []
    },
    {
      "cell_type": "markdown",
      "metadata": {
        "id": "GgBptHujoom7"
      },
      "source": [
        "# New Train Data\n"
      ]
    },
    {
      "cell_type": "code",
      "metadata": {
        "id": "phLs1jg4ntDO"
      },
      "source": [
        "train_augumented = pd.read_csv(\"/content/drive/Shareddrives/SOGANG Parrot/Ho-colab/0409-new-train.csv\")\n",
        "train_augumented.head(2)"
      ],
      "execution_count": null,
      "outputs": []
    },
    {
      "cell_type": "markdown",
      "metadata": {
        "id": "pBssfvOyo4V_"
      },
      "source": [
        "# Tokenization"
      ]
    },
    {
      "cell_type": "code",
      "metadata": {
        "id": "vygJCO-Eo3mP"
      },
      "source": [
        "list_sentences_train = train_augumented['preprocessed'] # (208246,)\n",
        "list_sentences_test = test['comment_text'] # (153164,)"
      ],
      "execution_count": null,
      "outputs": []
    },
    {
      "cell_type": "code",
      "metadata": {
        "colab": {
          "base_uri": "https://localhost:8080/"
        },
        "id": "DmqP3Luso8rC",
        "outputId": "339278b7-309b-44e1-e498-49d60695fa42"
      },
      "source": [
        "max_features = 50000\n",
        "tokenizer = Tokenizer(num_words=max_features, lower=False)\n",
        "tokenizer.fit_on_texts(list_sentences_train)\n",
        "list_tokenized_train = tokenizer.texts_to_sequences(list_sentences_train)\n",
        "# list_tokenized_train[:1] = [[688,75,1,126,130, ,,, ]]\n",
        "list_tokenized_test = tokenizer.texts_to_sequences(list_sentences_test)\n",
        "# list_tokenized_test[:1] = [[2665,655,8849,656, ,,, ]]\n",
        "\n",
        "# tokenizer.word_counts = OrderedDict([('explanation', 1771),('why', 17818),('the', 496540),('edits', 9957), ,,, ])\n",
        "# tokenizer.word_index = {'the': 1,'to': 2,'of': 3,'and': 4, ,,, }\n",
        "len(tokenizer.word_index)"
      ],
      "execution_count": null,
      "outputs": [
        {
          "output_type": "execute_result",
          "data": {
            "text/plain": [
              "177533"
            ]
          },
          "metadata": {
            "tags": []
          },
          "execution_count": 30
        }
      ]
    },
    {
      "cell_type": "markdown",
      "metadata": {
        "id": "M8F731WOpft6"
      },
      "source": [
        "# Padding"
      ]
    },
    {
      "cell_type": "code",
      "metadata": {
        "id": "LbWmMue4pKhf"
      },
      "source": [
        "train_augumented['length'] = train_augumented['preprocessed'].apply(lambda x: len(x.split()))\n",
        "test['length'] = test['comment_text'].apply(lambda x: len(x.split()))"
      ],
      "execution_count": null,
      "outputs": []
    },
    {
      "cell_type": "code",
      "metadata": {
        "colab": {
          "base_uri": "https://localhost:8080/"
        },
        "id": "EjDIARNjpiuT",
        "outputId": "bc3f0ee9-dc9d-4367-f6e4-5258278d490d"
      },
      "source": [
        "train_augumented['length'].quantile([.8])"
      ],
      "execution_count": null,
      "outputs": [
        {
          "output_type": "execute_result",
          "data": {
            "text/plain": [
              "0.8    43.0\n",
              "Name: length, dtype: float64"
            ]
          },
          "metadata": {
            "tags": []
          },
          "execution_count": 32
        }
      ]
    },
    {
      "cell_type": "code",
      "metadata": {
        "colab": {
          "base_uri": "https://localhost:8080/",
          "height": 264
        },
        "id": "TRN5DNIeplUh",
        "outputId": "04632efa-573e-42b0-9ac7-15817f374940"
      },
      "source": [
        "plt.hist(train_augumented['length'].value_counts(),bins = np.arange(0,500,50))\n",
        "plt.show()"
      ],
      "execution_count": null,
      "outputs": [
        {
          "output_type": "display_data",
          "data": {
            "image/png": "[encoded data removed]",
            "text/plain": [
              "<Figure size 432x288 with 1 Axes>"
            ]
          },
          "metadata": {
            "tags": [],
            "needs_background": "light"
          }
        }
      ]
    },
    {
      "cell_type": "code",
      "metadata": {
        "colab": {
          "base_uri": "https://localhost:8080/"
        },
        "id": "EpaGOPqEpmmL",
        "outputId": "2f14741e-0ef4-4dd2-c5ea-35e1a8e995fb"
      },
      "source": [
        "test['length'].quantile([.8])"
      ],
      "execution_count": null,
      "outputs": [
        {
          "output_type": "execute_result",
          "data": {
            "text/plain": [
              "0.8    81.0\n",
              "Name: length, dtype: float64"
            ]
          },
          "metadata": {
            "tags": []
          },
          "execution_count": 34
        }
      ]
    },
    {
      "cell_type": "code",
      "metadata": {
        "colab": {
          "base_uri": "https://localhost:8080/",
          "height": 264
        },
        "id": "c6dekcqVpmr9",
        "outputId": "5349a27f-c93c-4294-8384-08a354535cfc"
      },
      "source": [
        "plt.hist(test['length'].value_counts(),bins = np.arange(0,500,50))\n",
        "plt.show()"
      ],
      "execution_count": null,
      "outputs": [
        {
          "output_type": "display_data",
          "data": {
            "image/png": "[encoded data removed]",
            "text/plain": [
              "<Figure size 432x288 with 1 Axes>"
            ]
          },
          "metadata": {
            "tags": [],
            "needs_background": "light"
          }
        }
      ]
    },
    {
      "cell_type": "code",
      "metadata": {
        "colab": {
          "base_uri": "https://localhost:8080/"
        },
        "id": "n9qeIAmzpmuX",
        "outputId": "db2bc6e7-fa49-496b-eeba-5a7a49db9b5c"
      },
      "source": [
        "maxlen = 100\n",
        "X_t = pad_sequences(list_tokenized_train, maxlen=maxlen) # (208246, 100)\n",
        "X_te = pad_sequences(list_tokenized_test, maxlen=maxlen) # (153164, 100)\n",
        "\n",
        "X_t.shape"
      ],
      "execution_count": null,
      "outputs": [
        {
          "output_type": "execute_result",
          "data": {
            "text/plain": [
              "(208246, 100)"
            ]
          },
          "metadata": {
            "tags": []
          },
          "execution_count": 36
        }
      ]
    },
    {
      "cell_type": "code",
      "metadata": {
        "colab": {
          "base_uri": "https://localhost:8080/"
        },
        "id": "MhtwHQ3FpqFL",
        "outputId": "ad4e7e32-5410-4b0e-930f-6592960c4821"
      },
      "source": [
        "list_classes = [\"toxic\", \"severe_toxic\", \"obscene\", \"threat\", \"insult\", \"identity_hate\"]\n",
        "y = train_augumented[list_classes].values # y.shape (208246, 6)\n",
        "y.shape"
      ],
      "execution_count": null,
      "outputs": [
        {
          "output_type": "execute_result",
          "data": {
            "text/plain": [
              "(208246, 6)"
            ]
          },
          "metadata": {
            "tags": []
          },
          "execution_count": 37
        }
      ]
    },
    {
      "cell_type": "markdown",
      "metadata": {
        "id": "9ALCDa3IpueI"
      },
      "source": [
        "# Pretrained-Embedding-matrix"
      ]
    },
    {
      "cell_type": "code",
      "metadata": {
        "colab": {
          "base_uri": "https://localhost:8080/"
        },
        "id": "PZnGQKhLp6UB",
        "outputId": "5954d98b-92e1-408f-e517-b5f4f86cce2f"
      },
      "source": [
        "embedding_dict = dict()\n",
        "f = open('/content/drive/Shareddrives/SOGANG Parrot/Pretrained-Embedding-Vector/glove.twitter.27B.200d.txt/glove.twitter.27B.200d.txt', encoding=\"utf8\")\n",
        "\n",
        "for line in f:\n",
        "    word_vector = line.split()\n",
        "    word = word_vector[0]\n",
        "    word_vector_arr = np.asarray(word_vector[1:], dtype='float32') # 200\n",
        "    embedding_dict[word] = word_vector_arr\n",
        "f.close()\n",
        "print('There are %s Embedding Vectors\\n' % len(embedding_dict))\n",
        "\n",
        "print(embedding_dict['respectable'])\n",
        "print(len(embedding_dict['respectable']))\n",
        "\n",
        "embedding_matrix = np.zeros((len(tokenizer.word_index)+1, 200)) # will delete first row\n",
        "\n",
        "for word, i in tokenizer.word_index.items(): \n",
        "    temp = embedding_dict.get(word) \n",
        "    if temp is not None:\n",
        "        embedding_matrix[i] = temp \n",
        "\n",
        "print(embedding_matrix.shape)\n",
        "embedding_matrix = np.delete(embedding_matrix,0,axis=0) # delete first row\n",
        "print(embedding_matrix.shape)"
      ],
      "execution_count": null,
      "outputs": [
        {
          "output_type": "stream",
          "text": [
            "There are 1193514 Embedding Vectors\n",
            "\n",
            "[-6.4748e-01 -3.7296e-01 -3.6128e-01  7.9975e-01 -2.1890e-01  7.6152e-01\n",
            " -7.3698e-02  2.2635e-01 -7.5429e-02  6.3600e-01 -6.5914e-01 -5.1787e-01\n",
            " -6.4411e-02 -3.0796e-01  4.4071e-01  1.4543e-01 -9.9792e-02 -2.3253e-01\n",
            "  2.0882e-01 -9.3256e-02 -2.9659e-01 -1.6643e-01 -1.3184e-01 -5.5247e-01\n",
            " -6.0625e-01  9.6745e-01  3.8410e-01 -1.4236e-02  2.8774e-01  7.5652e-01\n",
            "  1.1552e-01 -4.9894e-01 -9.2585e-02 -6.7708e-02  3.1373e-01  5.6426e-01\n",
            "  1.9797e-01  4.0703e-02  2.7106e-01 -3.3045e-01  3.9652e-01  1.3718e-01\n",
            "  5.0194e-01  3.7811e-01  2.9139e-01  2.6001e-01  2.9927e-01  3.6737e-01\n",
            "  1.0638e-01  3.7086e-01  2.3767e-02  6.4266e-01 -2.4067e-01 -3.1749e-01\n",
            " -3.4070e-01  9.3053e-01  1.8900e-01 -2.7260e-01 -3.5132e-01  1.4086e-01\n",
            " -1.6232e-01  8.7983e-03 -8.7401e-02 -1.2887e-01  2.5303e-01  9.0737e-01\n",
            " -3.3149e-01  5.8059e-02 -2.3855e-01  3.5351e-01 -3.8560e-01 -4.6745e-01\n",
            " -2.2487e-01 -1.9058e-01  3.4685e-02  4.1231e-01  9.3602e-02  2.0409e-01\n",
            " -2.4806e-01  1.3415e-01 -3.3103e-02 -1.3584e-01 -2.3476e-01 -8.4288e-02\n",
            "  4.6286e-01  3.8784e-01  4.4430e-01 -2.8609e-01 -2.7041e-01 -1.9235e-01\n",
            " -1.5831e-01  9.8357e-01 -2.6385e-01  5.4559e-01  3.3843e-01  3.2157e-01\n",
            "  7.3296e-01  1.0803e-01  6.5516e-01 -3.0074e-01  2.4091e-01 -2.8064e-02\n",
            " -3.1438e-01  2.2706e-01  6.0407e-01 -1.7941e-01  3.4237e-01 -8.2516e-02\n",
            "  6.8829e-02  1.9141e-01 -3.7076e-03  1.6319e-01  5.8710e-01  9.7778e-02\n",
            " -2.8883e-02 -1.4038e-01 -4.6740e-01  5.2499e-01  2.3336e-01  5.9216e-01\n",
            " -2.7878e-02  2.9111e-01 -6.0881e-01  1.0899e-01 -4.5522e-02  2.3117e-01\n",
            "  5.4563e-01 -5.5960e-01  2.9627e-01 -3.6436e-02 -6.6415e-01  7.2335e-02\n",
            "  2.1310e-01 -4.0450e-01 -2.6190e-02  3.4587e-01  8.3901e-02 -2.2964e-01\n",
            "  2.6786e-01  2.4783e-01  3.5687e-01  7.0495e-01  1.3507e-01 -5.8846e-02\n",
            "  2.4553e-01  2.3232e-01  3.1930e-01 -1.6204e-01  4.9869e-01 -7.8123e-02\n",
            " -8.7849e-02  2.2856e-01 -1.3048e+00  1.1218e-01  4.2665e-01 -3.1402e-01\n",
            " -3.2848e-02 -1.4033e-01 -1.8119e-01  8.1331e-01  2.2846e-02  2.2617e-01\n",
            " -2.1585e-01  1.7529e-02  1.8789e-01 -3.3444e-01 -4.4278e-01 -1.8998e-01\n",
            "  2.8810e-01 -4.6224e-02  1.0201e+00 -5.7756e-01 -2.7032e-01  3.2498e-02\n",
            " -2.1147e-01  1.8717e-01  1.5862e-01 -6.0124e-01 -2.0705e-01  8.3816e-02\n",
            " -4.2300e-01 -1.5713e-01 -1.6955e-01 -4.6085e-01 -2.1368e-01  2.4863e-01\n",
            " -4.2403e-01 -1.9565e-01 -3.7347e-01 -1.8980e-01  3.9056e-04  1.1618e-01\n",
            "  5.5893e-01 -3.8291e-01  2.1319e-01 -6.4864e-01  1.2915e-01  5.3299e-02\n",
            "  5.7116e-02 -1.1572e+00]\n",
            "200\n",
            "(177534, 200)\n",
            "(177533, 200)\n"
          ],
          "name": "stdout"
        }
      ]
    },
    {
      "cell_type": "code",
      "metadata": {
        "id": "MvqUIUykp7lB"
      },
      "source": [
        "np.save('/content/drive/Shareddrives/SOGANG Parrot/Pretrained-Embedding-Vector/0410-final-200d-pretrained-embed-Glove.npy',embedding_matrix)"
      ],
      "execution_count": null,
      "outputs": []
    },
    {
      "cell_type": "code",
      "metadata": {
        "colab": {
          "base_uri": "https://localhost:8080/"
        },
        "id": "GB2xhmYZqDbF",
        "outputId": "c411ffe5-225a-4bec-f511-c795544e86b8"
      },
      "source": [
        "embedding_matrix = np.load('/content/drive/Shareddrives/SOGANG Parrot/Pretrained-Embedding-Vector/0410-final-200d-pretrained-embed-Glove.npy')\n",
        "embedding_matrix.shape"
      ],
      "execution_count": null,
      "outputs": [
        {
          "output_type": "execute_result",
          "data": {
            "text/plain": [
              "(177533, 200)"
            ]
          },
          "metadata": {
            "tags": []
          },
          "execution_count": 40
        }
      ]
    },
    {
      "cell_type": "markdown",
      "metadata": {
        "id": "fcAgsgKwqIWf"
      },
      "source": [
        "# Model"
      ]
    },
    {
      "cell_type": "code",
      "metadata": {
        "id": "tc6e6VtuqH05"
      },
      "source": [
        "inp = Input(shape=(maxlen, )) #maxlen=100\n",
        "x = Embedding(len(tokenizer.word_index), embedding_matrix.shape[1],\n",
        "              weights=[embedding_matrix],trainable=False)(inp)\n",
        "x = SpatialDropout1D(0.2)(x)\n",
        "x = Bidirectional(LSTM(128, return_sequences=True))(x)\n",
        "max_pool = GlobalMaxPooling1D()(x)\n",
        "avg_pool = GlobalAveragePooling1D()(x)\n",
        "conc = concatenate([avg_pool, max_pool])\n",
        "x = Dropout(0.2)(conc)\n",
        "x = Dense(64, 'relu')(x)\n",
        "x = Dropout(0.2)(x)\n",
        "x = Dense(6, activation=\"sigmoid\")(x)"
      ],
      "execution_count": null,
      "outputs": []
    },
    {
      "cell_type": "code",
      "metadata": {
        "colab": {
          "base_uri": "https://localhost:8080/"
        },
        "id": "p8aDMhHBqgqh",
        "outputId": "41db47de-046c-4b59-bf8a-e72731efb1c7"
      },
      "source": [
        "model = Model(inputs=inp, outputs=x)\n",
        "model.compile(loss='binary_crossentropy',\n",
        "                  optimizer='adam',\n",
        "                  metrics=['accuracy'])\n",
        "\n",
        "model.summary()"
      ],
      "execution_count": null,
      "outputs": [
        {
          "output_type": "stream",
          "text": [
            "Model: \"model\"\n",
            "__________________________________________________________________________________________________\n",
            "Layer (type)                    Output Shape         Param #     Connected to                     \n",
            "==================================================================================================\n",
            "input_1 (InputLayer)            [(None, 100)]        0                                            \n",
            "__________________________________________________________________________________________________\n",
            "embedding (Embedding)           (None, 100, 200)     35506600    input_1[0][0]                    \n",
            "__________________________________________________________________________________________________\n",
            "spatial_dropout1d (SpatialDropo (None, 100, 200)     0           embedding[0][0]                  \n",
            "__________________________________________________________________________________________________\n",
            "bidirectional (Bidirectional)   (None, 100, 256)     336896      spatial_dropout1d[0][0]          \n",
            "__________________________________________________________________________________________________\n",
            "global_average_pooling1d (Globa (None, 256)          0           bidirectional[0][0]              \n",
            "__________________________________________________________________________________________________\n",
            "global_max_pooling1d (GlobalMax (None, 256)          0           bidirectional[0][0]              \n",
            "__________________________________________________________________________________________________\n",
            "concatenate (Concatenate)       (None, 512)          0           global_average_pooling1d[0][0]   \n",
            "                                                                 global_max_pooling1d[0][0]       \n",
            "__________________________________________________________________________________________________\n",
            "dropout (Dropout)               (None, 512)          0           concatenate[0][0]                \n",
            "__________________________________________________________________________________________________\n",
            "dense (Dense)                   (None, 64)           32832       dropout[0][0]                    \n",
            "__________________________________________________________________________________________________\n",
            "dropout_1 (Dropout)             (None, 64)           0           dense[0][0]                      \n",
            "__________________________________________________________________________________________________\n",
            "dense_1 (Dense)                 (None, 6)            390         dropout_1[0][0]                  \n",
            "==================================================================================================\n",
            "Total params: 35,876,718\n",
            "Trainable params: 370,118\n",
            "Non-trainable params: 35,506,600\n",
            "__________________________________________________________________________________________________\n"
          ],
          "name": "stdout"
        }
      ]
    },
    {
      "cell_type": "code",
      "metadata": {
        "colab": {
          "base_uri": "https://localhost:8080/"
        },
        "id": "jNQbp7w8qiaw",
        "outputId": "f5a1b34d-6ab0-48be-bcb7-b1287f3627ea"
      },
      "source": [
        "tf.keras.backend.clear_session()\n",
        "\n",
        "from tensorflow.keras.callbacks import ModelCheckpoint\n",
        "#checkpoint\n",
        "checkpoint = ModelCheckpoint(filepath='/content/drive/Shareddrives/SOGANG Parrot/Trained-Model/0409-final-pretrained-embed-Glove.hdf5', monitor='val_loss', verbose=1, save_best_only=True)\n",
        "\n",
        "batch_size = 128\n",
        "epochs = 30\n",
        "hist = model.fit(X_t,y, batch_size=batch_size, epochs=epochs, callbacks=[checkpoint], validation_split=0.1)"
      ],
      "execution_count": null,
      "outputs": [
        {
          "output_type": "stream",
          "text": [
            "Epoch 1/30\n",
            "1465/1465 [==============================] - 127s 65ms/step - loss: 0.2385 - accuracy: 0.8906 - val_loss: 0.1442 - val_accuracy: 0.9830\n",
            "\n",
            "Epoch 00001: val_loss improved from inf to 0.14418, saving model to /content/drive/Shareddrives/SOGANG Parrot/Trained-Model/0409-final-pretrained-embed-Glove.hdf5\n",
            "Epoch 2/30\n",
            "1465/1465 [==============================] - 93s 64ms/step - loss: 0.1505 - accuracy: 0.9797 - val_loss: 0.1287 - val_accuracy: 0.9830\n",
            "\n",
            "Epoch 00002: val_loss improved from 0.14418 to 0.12869, saving model to /content/drive/Shareddrives/SOGANG Parrot/Trained-Model/0409-final-pretrained-embed-Glove.hdf5\n",
            "Epoch 3/30\n",
            "1465/1465 [==============================] - 93s 64ms/step - loss: 0.1350 - accuracy: 0.9809 - val_loss: 0.1207 - val_accuracy: 0.9819\n",
            "\n",
            "Epoch 00003: val_loss improved from 0.12869 to 0.12069, saving model to /content/drive/Shareddrives/SOGANG Parrot/Trained-Model/0409-final-pretrained-embed-Glove.hdf5\n",
            "Epoch 4/30\n",
            "1465/1465 [==============================] - 94s 64ms/step - loss: 0.1262 - accuracy: 0.9793 - val_loss: 0.1173 - val_accuracy: 0.9830\n",
            "\n",
            "Epoch 00004: val_loss improved from 0.12069 to 0.11732, saving model to /content/drive/Shareddrives/SOGANG Parrot/Trained-Model/0409-final-pretrained-embed-Glove.hdf5\n",
            "Epoch 5/30\n",
            "1465/1465 [==============================] - 94s 64ms/step - loss: 0.1206 - accuracy: 0.9750 - val_loss: 0.1127 - val_accuracy: 0.9818\n",
            "\n",
            "Epoch 00005: val_loss improved from 0.11732 to 0.11275, saving model to /content/drive/Shareddrives/SOGANG Parrot/Trained-Model/0409-final-pretrained-embed-Glove.hdf5\n",
            "Epoch 6/30\n",
            "1465/1465 [==============================] - 94s 64ms/step - loss: 0.1160 - accuracy: 0.9723 - val_loss: 0.1088 - val_accuracy: 0.9823\n",
            "\n",
            "Epoch 00006: val_loss improved from 0.11275 to 0.10882, saving model to /content/drive/Shareddrives/SOGANG Parrot/Trained-Model/0409-final-pretrained-embed-Glove.hdf5\n",
            "Epoch 7/30\n",
            "1465/1465 [==============================] - 94s 64ms/step - loss: 0.1114 - accuracy: 0.9653 - val_loss: 0.1066 - val_accuracy: 0.9792\n",
            "\n",
            "Epoch 00007: val_loss improved from 0.10882 to 0.10655, saving model to /content/drive/Shareddrives/SOGANG Parrot/Trained-Model/0409-final-pretrained-embed-Glove.hdf5\n",
            "Epoch 8/30\n",
            "1465/1465 [==============================] - 93s 64ms/step - loss: 0.1081 - accuracy: 0.9597 - val_loss: 0.1026 - val_accuracy: 0.9815\n",
            "\n",
            "Epoch 00008: val_loss improved from 0.10655 to 0.10261, saving model to /content/drive/Shareddrives/SOGANG Parrot/Trained-Model/0409-final-pretrained-embed-Glove.hdf5\n",
            "Epoch 9/30\n",
            "1465/1465 [==============================] - 94s 64ms/step - loss: 0.1044 - accuracy: 0.9594 - val_loss: 0.1018 - val_accuracy: 0.9759\n",
            "\n",
            "Epoch 00009: val_loss improved from 0.10261 to 0.10184, saving model to /content/drive/Shareddrives/SOGANG Parrot/Trained-Model/0409-final-pretrained-embed-Glove.hdf5\n",
            "Epoch 10/30\n",
            "1465/1465 [==============================] - 94s 64ms/step - loss: 0.1006 - accuracy: 0.9452 - val_loss: 0.1014 - val_accuracy: 0.9759\n",
            "\n",
            "Epoch 00010: val_loss improved from 0.10184 to 0.10139, saving model to /content/drive/Shareddrives/SOGANG Parrot/Trained-Model/0409-final-pretrained-embed-Glove.hdf5\n",
            "Epoch 11/30\n",
            "1465/1465 [==============================] - 93s 64ms/step - loss: 0.0988 - accuracy: 0.9429 - val_loss: 0.0976 - val_accuracy: 0.9561\n",
            "\n",
            "Epoch 00011: val_loss improved from 0.10139 to 0.09763, saving model to /content/drive/Shareddrives/SOGANG Parrot/Trained-Model/0409-final-pretrained-embed-Glove.hdf5\n",
            "Epoch 12/30\n",
            "1465/1465 [==============================] - 94s 64ms/step - loss: 0.0970 - accuracy: 0.9137 - val_loss: 0.0967 - val_accuracy: 0.9742\n",
            "\n",
            "Epoch 00012: val_loss improved from 0.09763 to 0.09672, saving model to /content/drive/Shareddrives/SOGANG Parrot/Trained-Model/0409-final-pretrained-embed-Glove.hdf5\n",
            "Epoch 13/30\n",
            "1465/1465 [==============================] - 94s 64ms/step - loss: 0.0945 - accuracy: 0.9175 - val_loss: 0.0967 - val_accuracy: 0.9588\n",
            "\n",
            "Epoch 00013: val_loss improved from 0.09672 to 0.09668, saving model to /content/drive/Shareddrives/SOGANG Parrot/Trained-Model/0409-final-pretrained-embed-Glove.hdf5\n",
            "Epoch 14/30\n",
            "1465/1465 [==============================] - 94s 64ms/step - loss: 0.0928 - accuracy: 0.9056 - val_loss: 0.0949 - val_accuracy: 0.9750\n",
            "\n",
            "Epoch 00014: val_loss improved from 0.09668 to 0.09485, saving model to /content/drive/Shareddrives/SOGANG Parrot/Trained-Model/0409-final-pretrained-embed-Glove.hdf5\n",
            "Epoch 15/30\n",
            "1465/1465 [==============================] - 94s 64ms/step - loss: 0.0905 - accuracy: 0.9008 - val_loss: 0.0929 - val_accuracy: 0.9479\n",
            "\n",
            "Epoch 00015: val_loss improved from 0.09485 to 0.09294, saving model to /content/drive/Shareddrives/SOGANG Parrot/Trained-Model/0409-final-pretrained-embed-Glove.hdf5\n",
            "Epoch 16/30\n",
            "1465/1465 [==============================] - 94s 64ms/step - loss: 0.0882 - accuracy: 0.8755 - val_loss: 0.0912 - val_accuracy: 0.9429\n",
            "\n",
            "Epoch 00016: val_loss improved from 0.09294 to 0.09123, saving model to /content/drive/Shareddrives/SOGANG Parrot/Trained-Model/0409-final-pretrained-embed-Glove.hdf5\n",
            "Epoch 17/30\n",
            "1465/1465 [==============================] - 94s 64ms/step - loss: 0.0872 - accuracy: 0.8802 - val_loss: 0.0908 - val_accuracy: 0.9128\n",
            "\n",
            "Epoch 00017: val_loss improved from 0.09123 to 0.09078, saving model to /content/drive/Shareddrives/SOGANG Parrot/Trained-Model/0409-final-pretrained-embed-Glove.hdf5\n",
            "Epoch 18/30\n",
            "1465/1465 [==============================] - 94s 64ms/step - loss: 0.0858 - accuracy: 0.8715 - val_loss: 0.0897 - val_accuracy: 0.9657\n",
            "\n",
            "Epoch 00018: val_loss improved from 0.09078 to 0.08971, saving model to /content/drive/Shareddrives/SOGANG Parrot/Trained-Model/0409-final-pretrained-embed-Glove.hdf5\n",
            "Epoch 19/30\n",
            "1465/1465 [==============================] - 94s 64ms/step - loss: 0.0836 - accuracy: 0.8662 - val_loss: 0.0908 - val_accuracy: 0.9018\n",
            "\n",
            "Epoch 00019: val_loss did not improve from 0.08971\n",
            "Epoch 20/30\n",
            "1465/1465 [==============================] - 94s 64ms/step - loss: 0.0828 - accuracy: 0.8539 - val_loss: 0.0887 - val_accuracy: 0.9545\n",
            "\n",
            "Epoch 00020: val_loss improved from 0.08971 to 0.08873, saving model to /content/drive/Shareddrives/SOGANG Parrot/Trained-Model/0409-final-pretrained-embed-Glove.hdf5\n",
            "Epoch 21/30\n",
            "1465/1465 [==============================] - 94s 64ms/step - loss: 0.0805 - accuracy: 0.8667 - val_loss: 0.0888 - val_accuracy: 0.9135\n",
            "\n",
            "Epoch 00021: val_loss did not improve from 0.08873\n",
            "Epoch 22/30\n",
            "1465/1465 [==============================] - 93s 64ms/step - loss: 0.0796 - accuracy: 0.8387 - val_loss: 0.0876 - val_accuracy: 0.9287\n",
            "\n",
            "Epoch 00022: val_loss improved from 0.08873 to 0.08757, saving model to /content/drive/Shareddrives/SOGANG Parrot/Trained-Model/0409-final-pretrained-embed-Glove.hdf5\n",
            "Epoch 23/30\n",
            "1465/1465 [==============================] - 94s 64ms/step - loss: 0.0789 - accuracy: 0.8640 - val_loss: 0.0866 - val_accuracy: 0.9022\n",
            "\n",
            "Epoch 00023: val_loss improved from 0.08757 to 0.08660, saving model to /content/drive/Shareddrives/SOGANG Parrot/Trained-Model/0409-final-pretrained-embed-Glove.hdf5\n",
            "Epoch 24/30\n",
            "1465/1465 [==============================] - 94s 64ms/step - loss: 0.0786 - accuracy: 0.8359 - val_loss: 0.0858 - val_accuracy: 0.9040\n",
            "\n",
            "Epoch 00024: val_loss improved from 0.08660 to 0.08581, saving model to /content/drive/Shareddrives/SOGANG Parrot/Trained-Model/0409-final-pretrained-embed-Glove.hdf5\n",
            "Epoch 25/30\n",
            "1465/1465 [==============================] - 94s 64ms/step - loss: 0.0770 - accuracy: 0.8578 - val_loss: 0.0846 - val_accuracy: 0.8986\n",
            "\n",
            "Epoch 00025: val_loss improved from 0.08581 to 0.08460, saving model to /content/drive/Shareddrives/SOGANG Parrot/Trained-Model/0409-final-pretrained-embed-Glove.hdf5\n",
            "Epoch 26/30\n",
            "1465/1465 [==============================] - 94s 64ms/step - loss: 0.0757 - accuracy: 0.8527 - val_loss: 0.0839 - val_accuracy: 0.9264\n",
            "\n",
            "Epoch 00026: val_loss improved from 0.08460 to 0.08386, saving model to /content/drive/Shareddrives/SOGANG Parrot/Trained-Model/0409-final-pretrained-embed-Glove.hdf5\n",
            "Epoch 27/30\n",
            "1465/1465 [==============================] - 94s 64ms/step - loss: 0.0750 - accuracy: 0.8359 - val_loss: 0.0846 - val_accuracy: 0.9152\n",
            "\n",
            "Epoch 00027: val_loss did not improve from 0.08386\n",
            "Epoch 28/30\n",
            "1465/1465 [==============================] - 94s 64ms/step - loss: 0.0735 - accuracy: 0.8190 - val_loss: 0.0885 - val_accuracy: 0.8871\n",
            "\n",
            "Epoch 00028: val_loss did not improve from 0.08386\n",
            "Epoch 29/30\n",
            "1465/1465 [==============================] - 94s 64ms/step - loss: 0.0733 - accuracy: 0.8145 - val_loss: 0.0821 - val_accuracy: 0.8974\n",
            "\n",
            "Epoch 00029: val_loss improved from 0.08386 to 0.08207, saving model to /content/drive/Shareddrives/SOGANG Parrot/Trained-Model/0409-final-pretrained-embed-Glove.hdf5\n",
            "Epoch 30/30\n",
            "1465/1465 [==============================] - 94s 64ms/step - loss: 0.0720 - accuracy: 0.8131 - val_loss: 0.0819 - val_accuracy: 0.9470\n",
            "\n",
            "Epoch 00030: val_loss improved from 0.08207 to 0.08190, saving model to /content/drive/Shareddrives/SOGANG Parrot/Trained-Model/0409-final-pretrained-embed-Glove.hdf5\n"
          ],
          "name": "stdout"
        }
      ]
    },
    {
      "cell_type": "code",
      "metadata": {
        "id": "LQVCT4c2rK0L"
      },
      "source": [
        "sample_submission = pd.read_csv(\"/content/drive/Shareddrives/SOGANG Parrot/sample_submission.csv/sample_submission.csv\")\n",
        "\n",
        "sample_submission[list_classes] = model.predict(X_te)\n",
        "\n",
        "sample_submission.to_csv(\"/content/drive/Shareddrives/SOGANG Parrot/All-submission/0409-final-pretrained-embed-Glove.csv\", index=False)"
      ],
      "execution_count": null,
      "outputs": []
    },
    {
      "cell_type": "code",
      "metadata": {
        "id": "vbG4pAc9rWf7"
      },
      "source": [
        ""
      ],
      "execution_count": null,
      "outputs": []
    }
  ]
}