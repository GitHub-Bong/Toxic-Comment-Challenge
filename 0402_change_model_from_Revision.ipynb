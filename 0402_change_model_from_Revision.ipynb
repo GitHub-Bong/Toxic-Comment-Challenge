{
  "nbformat": 4,
  "nbformat_minor": 0,
  "metadata": {
    "colab": {
      "name": "0402-change-model-from-Revision.ipynb",
      "provenance": [],
      "collapsed_sections": [],
      "authorship_tag": "ABX9TyOV+c8BBGzFBy4viHVVV9dk",
      "include_colab_link": true
    },
    "kernelspec": {
      "name": "python3",
      "display_name": "Python 3"
    },
    "language_info": {
      "name": "python"
    },
    "accelerator": "GPU"
  },
  "cells": [
    {
      "cell_type": "markdown",
      "metadata": {
        "id": "view-in-github",
        "colab_type": "text"
      },
      "source": [
        "<a href=\"https://colab.research.google.com/github/GitHub-Bong/Toxic-Comment-Challenge/blob/master/0402_change_model_from_Revision.ipynb\" target=\"_parent\"><img src=\"https://colab.research.google.com/assets/colab-badge.svg\" alt=\"Open In Colab\"/></a>"
      ]
    },
    {
      "cell_type": "markdown",
      "metadata": {
        "id": "LORyxP7BNd6B"
      },
      "source": [
        "# Mount , Import"
      ]
    },
    {
      "cell_type": "code",
      "metadata": {
        "colab": {
          "base_uri": "https://localhost:8080/"
        },
        "id": "OFK9eal7bwlD",
        "outputId": "5b73c6dd-7988-47d9-cef0-54f76e50c8aa"
      },
      "source": [
        "from google.colab import drive\n",
        "drive.mount('/content/drive')"
      ],
      "execution_count": null,
      "outputs": [
        {
          "output_type": "stream",
          "text": [
            "Mounted at /content/drive\n"
          ],
          "name": "stdout"
        }
      ]
    },
    {
      "cell_type": "code",
      "metadata": {
        "id": "tbKwAhYKccRL"
      },
      "source": [
        "import tensorflow as tf\n",
        "from tensorflow import keras\n",
        "import sys, os, re, string, csv, codecs, numpy as np, pandas as pd\n",
        "import matplotlib.pyplot as plt\n",
        "%matplotlib inline\n",
        "from tensorflow.keras.preprocessing.text import Tokenizer\n",
        "from tensorflow.keras.preprocessing.sequence import pad_sequences\n",
        "from tensorflow.keras.layers import Dense, Input, GRU, LSTM, Embedding, Dropout, Activation, concatenate\n",
        "from tensorflow.keras.layers import Bidirectional, GlobalMaxPooling1D, GlobalAveragePooling1D\n",
        "from tensorflow.keras.models import Model\n",
        "from tensorflow.keras import initializers, regularizers, constraints, optimizers, layers"
      ],
      "execution_count": null,
      "outputs": []
    },
    {
      "cell_type": "markdown",
      "metadata": {
        "id": "PfXfGZaTNiAn"
      },
      "source": [
        "------------"
      ]
    },
    {
      "cell_type": "markdown",
      "metadata": {
        "id": "sISAsJ5dNjM4"
      },
      "source": [
        "# Load Data"
      ]
    },
    {
      "cell_type": "code",
      "metadata": {
        "id": "7o2rJgU8coup"
      },
      "source": [
        "train = pd.read_csv('/content/drive/Shareddrives/SOGANG Parrot/train.csv/train.csv')\n",
        "test = pd.read_csv('/content/drive/Shareddrives/SOGANG Parrot/test.csv/test.csv')"
      ],
      "execution_count": null,
      "outputs": []
    },
    {
      "cell_type": "markdown",
      "metadata": {
        "id": "ZAPPOdxSNm1n"
      },
      "source": [
        "-------"
      ]
    },
    {
      "cell_type": "markdown",
      "metadata": {
        "id": "HXxb0NL9Nn1X"
      },
      "source": [
        "# Preprocessing"
      ]
    },
    {
      "cell_type": "code",
      "metadata": {
        "colab": {
          "base_uri": "https://localhost:8080/"
        },
        "id": "4N8jRA9_cpNQ",
        "outputId": "89079afe-2dd1-4999-c71e-a51243f115fe"
      },
      "source": [
        "# download the stopwords from NLTK\n",
        "import nltk                         \n",
        "nltk.download('stopwords')"
      ],
      "execution_count": null,
      "outputs": [
        {
          "output_type": "stream",
          "text": [
            "[nltk_data] Downloading package stopwords to /root/nltk_data...\n",
            "[nltk_data]   Unzipping corpora/stopwords.zip.\n"
          ],
          "name": "stdout"
        },
        {
          "output_type": "execute_result",
          "data": {
            "text/plain": [
              "True"
            ]
          },
          "metadata": {
            "tags": []
          },
          "execution_count": 4
        }
      ]
    },
    {
      "cell_type": "code",
      "metadata": {
        "id": "leCDBfahcr0W"
      },
      "source": [
        "def clean_text(text):\n",
        "    text = text.lower()\n",
        "    text = re.sub('\\[.*?\\]', '', text)\n",
        "    text = re.sub('https?://\\S+|www\\.\\S+', '', text)\n",
        "    text = re.sub('<.*?>+', '', text)\n",
        "    text = re.sub('[%s]' % re.escape(string.punctuation), '', text)\n",
        "    text = re.sub('\\n', '', text)\n",
        "    text = re.sub('\\w*\\d\\w*', '', text)\n",
        "    return text"
      ],
      "execution_count": null,
      "outputs": []
    },
    {
      "cell_type": "code",
      "metadata": {
        "id": "0Z_sfkNJctGu"
      },
      "source": [
        "train['comment_text'] = train['comment_text'].apply(lambda x: clean_text(x))"
      ],
      "execution_count": null,
      "outputs": []
    },
    {
      "cell_type": "code",
      "metadata": {
        "id": "h86Snj8ScuBG"
      },
      "source": [
        "test['comment_text'] = test['comment_text'].apply(lambda x: clean_text(x))"
      ],
      "execution_count": null,
      "outputs": []
    },
    {
      "cell_type": "code",
      "metadata": {
        "id": "WdT1qvu7cxBF"
      },
      "source": [
        "list_classes = [\"toxic\", \"severe_toxic\", \"obscene\", \"threat\", \"insult\", \"identity_hate\"]\n",
        "y = train[list_classes].values # y.shape (159571, 6)\n",
        "list_sentences_train = train[\"comment_text\"] # (159571,)\n",
        "list_sentences_test = test[\"comment_text\"] # (153164,)"
      ],
      "execution_count": null,
      "outputs": []
    },
    {
      "cell_type": "markdown",
      "metadata": {
        "id": "_2y42-uiNs6H"
      },
      "source": [
        "---------"
      ]
    },
    {
      "cell_type": "markdown",
      "metadata": {
        "id": "uXV5QFXVNqtf"
      },
      "source": [
        "# Tokenization"
      ]
    },
    {
      "cell_type": "code",
      "metadata": {
        "id": "fyjgqrWRc-gp"
      },
      "source": [
        "max_features = 20000\n",
        "tokenizer = Tokenizer(num_words=max_features)\n",
        "tokenizer.fit_on_texts(list(list_sentences_train))\n",
        "list_tokenized_train = tokenizer.texts_to_sequences(list_sentences_train)\n",
        "# list_tokenized_train[:1] = [[688,75,1,126,130, ,,, ]]\n",
        "list_tokenized_test = tokenizer.texts_to_sequences(list_sentences_test)\n",
        "# list_tokenized_test[:1] = [[2665,655,8849,656, ,,, ]]\n",
        "\n",
        "# tokenizer.word_counts = OrderedDict([('explanation', 1771),('why', 17818),('the', 496540),('edits', 9957), ,,, ])\n",
        "# tokenizer.word_index = {'the': 1,'to': 2,'of': 3,'and': 4, ,,, }"
      ],
      "execution_count": null,
      "outputs": []
    },
    {
      "cell_type": "code",
      "metadata": {
        "colab": {
          "base_uri": "https://localhost:8080/"
        },
        "id": "XU02tn4zdBhZ",
        "outputId": "dc83d757-872d-4b44-f106-3d5945a89282"
      },
      "source": [
        "len(tokenizer.word_index)"
      ],
      "execution_count": null,
      "outputs": [
        {
          "output_type": "execute_result",
          "data": {
            "text/plain": [
              "268591"
            ]
          },
          "metadata": {
            "tags": []
          },
          "execution_count": 11
        }
      ]
    },
    {
      "cell_type": "markdown",
      "metadata": {
        "id": "NOoqpuX9NuFX"
      },
      "source": [
        "------"
      ]
    },
    {
      "cell_type": "markdown",
      "metadata": {
        "id": "0UnIpbNQNu5F"
      },
      "source": [
        "# Padding"
      ]
    },
    {
      "cell_type": "code",
      "metadata": {
        "id": "Fq3kCrxDdDIh"
      },
      "source": [
        "maxlen = 200\n",
        "X_t = pad_sequences(list_tokenized_train, maxlen=maxlen) # (159571, 200)\n",
        "X_te = pad_sequences(list_tokenized_test, maxlen=maxlen) # (153164, 200)"
      ],
      "execution_count": null,
      "outputs": []
    },
    {
      "cell_type": "markdown",
      "metadata": {
        "id": "Mg1UWXDUNxLH"
      },
      "source": [
        "--------"
      ]
    },
    {
      "cell_type": "markdown",
      "metadata": {
        "id": "PahhfGdHNyEA"
      },
      "source": [
        "# Pretrained-Embedding-matrix"
      ]
    },
    {
      "cell_type": "code",
      "metadata": {
        "colab": {
          "base_uri": "https://localhost:8080/"
        },
        "id": "JxIAqHMudIx4",
        "outputId": "dcfcc759-54c5-48bc-d78d-405fe3e707da"
      },
      "source": [
        "embedding_matrix = np.load('/content/drive/Shareddrives/SOGANG Parrot/Pretrained-Embedding-Vector/0401pretrained-embed-Glove.npy')\n",
        "embedding_matrix.shape"
      ],
      "execution_count": null,
      "outputs": [
        {
          "output_type": "execute_result",
          "data": {
            "text/plain": [
              "(268591, 25)"
            ]
          },
          "metadata": {
            "tags": []
          },
          "execution_count": 13
        }
      ]
    },
    {
      "cell_type": "markdown",
      "metadata": {
        "id": "kCouCJhSN0e4"
      },
      "source": [
        "-----"
      ]
    },
    {
      "cell_type": "markdown",
      "metadata": {
        "id": "uOCOEapcN1PA"
      },
      "source": [
        "# Model"
      ]
    },
    {
      "cell_type": "code",
      "metadata": {
        "id": "COp0__sAdLII"
      },
      "source": [
        "inp = Input(shape=(maxlen, )) #maxlen=200\n",
        "x = Embedding(len(tokenizer.word_index), embedding_matrix.shape[1],\n",
        "              weights=[embedding_matrix],trainable=False)(inp)\n",
        "x = Bidirectional(GRU(60, return_sequences=True))(x)\n",
        "avg_pool = GlobalAveragePooling1D()(x)\n",
        "max_pool = GlobalMaxPooling1D()(x)\n",
        "conc = concatenate([avg_pool, max_pool])\n",
        "x = Dropout(0.1)(conc)\n",
        "x = Dense(6, activation=\"sigmoid\")(x)"
      ],
      "execution_count": null,
      "outputs": []
    },
    {
      "cell_type": "code",
      "metadata": {
        "id": "wJN7nvy2dpI2"
      },
      "source": [
        "model = Model(inputs=inp, outputs=x)\n",
        "model.compile(loss='binary_crossentropy',\n",
        "                  optimizer='adam',\n",
        "                  metrics=['accuracy'])"
      ],
      "execution_count": null,
      "outputs": []
    },
    {
      "cell_type": "code",
      "metadata": {
        "colab": {
          "base_uri": "https://localhost:8080/"
        },
        "id": "kAEPakpxdUHo",
        "outputId": "4c877a1d-61c6-40e3-8cf5-227b9501e3e3"
      },
      "source": [
        "model.summary()"
      ],
      "execution_count": null,
      "outputs": [
        {
          "output_type": "stream",
          "text": [
            "Model: \"model\"\n",
            "__________________________________________________________________________________________________\n",
            "Layer (type)                    Output Shape         Param #     Connected to                     \n",
            "==================================================================================================\n",
            "input_4 (InputLayer)            [(None, 200)]        0                                            \n",
            "__________________________________________________________________________________________________\n",
            "embedding_3 (Embedding)         (None, 200, 25)      6714775     input_4[0][0]                    \n",
            "__________________________________________________________________________________________________\n",
            "bidirectional_2 (Bidirectional) (None, 200, 120)     31320       embedding_3[0][0]                \n",
            "__________________________________________________________________________________________________\n",
            "global_average_pooling1d_1 (Glo (None, 120)          0           bidirectional_2[0][0]            \n",
            "__________________________________________________________________________________________________\n",
            "global_max_pooling1d_1 (GlobalM (None, 120)          0           bidirectional_2[0][0]            \n",
            "__________________________________________________________________________________________________\n",
            "concatenate (Concatenate)       (None, 240)          0           global_average_pooling1d_1[0][0] \n",
            "                                                                 global_max_pooling1d_1[0][0]     \n",
            "__________________________________________________________________________________________________\n",
            "dropout (Dropout)               (None, 240)          0           concatenate[0][0]                \n",
            "__________________________________________________________________________________________________\n",
            "dense (Dense)                   (None, 6)            1446        dropout[0][0]                    \n",
            "==================================================================================================\n",
            "Total params: 6,747,541\n",
            "Trainable params: 32,766\n",
            "Non-trainable params: 6,714,775\n",
            "__________________________________________________________________________________________________\n"
          ],
          "name": "stdout"
        }
      ]
    },
    {
      "cell_type": "markdown",
      "metadata": {
        "id": "iM2zOv35N3fg"
      },
      "source": [
        "-----"
      ]
    },
    {
      "cell_type": "markdown",
      "metadata": {
        "id": "YBNVE6wcN4Xn"
      },
      "source": [
        "# Training"
      ]
    },
    {
      "cell_type": "code",
      "metadata": {
        "colab": {
          "base_uri": "https://localhost:8080/"
        },
        "id": "U9ahtz2VdtEu",
        "outputId": "8fa22020-13c4-4598-b859-01ce08176c4f"
      },
      "source": [
        "from tensorflow.keras.callbacks import ModelCheckpoint\n",
        "#checkpoint\n",
        "checkpoint = ModelCheckpoint(filepath='/content/drive/Shareddrives/SOGANG Parrot/Trained-Model/0402-preprocessing-pretrained-embed-Glove.hdf5', monitor='val_loss', verbose=1, save_best_only=True)\n",
        "\n",
        "batch_size = 128\n",
        "epochs = 5\n",
        "hist = model.fit(X_t,y, batch_size=batch_size, epochs=epochs, callbacks=[checkpoint], validation_split=0.1)"
      ],
      "execution_count": null,
      "outputs": [
        {
          "output_type": "stream",
          "text": [
            "Epoch 1/5\n",
            "1122/1122 [==============================] - 135s 92ms/step - loss: 0.1564 - accuracy: 0.8184 - val_loss: 0.1020 - val_accuracy: 0.9885\n",
            "\n",
            "Epoch 00001: val_loss improved from inf to 0.10202, saving model to /content/drive/Shareddrives/SOGANG Parrot/Trained-Model/0402-preprocessing-pretrained-embed-Glove.hdf5\n",
            "Epoch 2/5\n",
            "1122/1122 [==============================] - 101s 90ms/step - loss: 0.0984 - accuracy: 0.9823 - val_loss: 0.0891 - val_accuracy: 0.9935\n",
            "\n",
            "Epoch 00002: val_loss improved from 0.10202 to 0.08913, saving model to /content/drive/Shareddrives/SOGANG Parrot/Trained-Model/0402-preprocessing-pretrained-embed-Glove.hdf5\n",
            "Epoch 3/5\n",
            "1122/1122 [==============================] - 101s 90ms/step - loss: 0.0856 - accuracy: 0.9889 - val_loss: 0.0825 - val_accuracy: 0.9939\n",
            "\n",
            "Epoch 00003: val_loss improved from 0.08913 to 0.08254, saving model to /content/drive/Shareddrives/SOGANG Parrot/Trained-Model/0402-preprocessing-pretrained-embed-Glove.hdf5\n",
            "Epoch 4/5\n",
            "1122/1122 [==============================] - 101s 90ms/step - loss: 0.0785 - accuracy: 0.9917 - val_loss: 0.0809 - val_accuracy: 0.9935\n",
            "\n",
            "Epoch 00004: val_loss improved from 0.08254 to 0.08094, saving model to /content/drive/Shareddrives/SOGANG Parrot/Trained-Model/0402-preprocessing-pretrained-embed-Glove.hdf5\n",
            "Epoch 5/5\n",
            "1122/1122 [==============================] - 101s 90ms/step - loss: 0.0741 - accuracy: 0.9917 - val_loss: 0.0736 - val_accuracy: 0.9940\n",
            "\n",
            "Epoch 00005: val_loss improved from 0.08094 to 0.07356, saving model to /content/drive/Shareddrives/SOGANG Parrot/Trained-Model/0402-preprocessing-pretrained-embed-Glove.hdf5\n"
          ],
          "name": "stdout"
        }
      ]
    },
    {
      "cell_type": "markdown",
      "metadata": {
        "id": "5BgPzvINN7LI"
      },
      "source": [
        "# Prediction"
      ]
    },
    {
      "cell_type": "code",
      "metadata": {
        "id": "ycXWn7Y_dxgl"
      },
      "source": [
        "sample_submission = pd.read_csv(\"/content/drive/Shareddrives/SOGANG Parrot/sample_submission.csv/sample_submission.csv\")\n",
        "\n",
        "sample_submission[list_classes] = model.predict(X_te)\n",
        "\n",
        "sample_submission.to_csv(\"/content/drive/Shareddrives/SOGANG Parrot/All-submission/20210402-ver3-modelchange-pretrained-embed-Glove.csv\", index=False)"
      ],
      "execution_count": null,
      "outputs": []
    },
    {
      "cell_type": "markdown",
      "metadata": {
        "id": "DZW1wQz1Fsv0"
      },
      "source": [
        "![image.png](data:image/png;base64,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)"
      ]
    },
    {
      "cell_type": "code",
      "metadata": {
        "id": "2jJfNcycfgrG"
      },
      "source": [
        ""
      ],
      "execution_count": null,
      "outputs": []
    }
  ]
}