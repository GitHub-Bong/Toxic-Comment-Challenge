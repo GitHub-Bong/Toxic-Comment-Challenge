{
  "nbformat": 4,
  "nbformat_minor": 0,
  "metadata": {
    "colab": {
      "name": "0404-focus-on-preprocessing.ipynb",
      "provenance": [],
      "collapsed_sections": [],
      "toc_visible": true,
      "authorship_tag": "ABX9TyN5K2IKx1gORS4L21wzx1t6",
      "include_colab_link": true
    },
    "kernelspec": {
      "name": "python3",
      "display_name": "Python 3"
    },
    "language_info": {
      "name": "python"
    },
    "accelerator": "GPU"
  },
  "cells": [
    {
      "cell_type": "markdown",
      "metadata": {
        "id": "view-in-github",
        "colab_type": "text"
      },
      "source": [
        "<a href=\"https://colab.research.google.com/github/GitHub-Bong/Toxic-Comment-Challenge/blob/master/0404_focus_on_preprocessing.ipynb\" target=\"_parent\"><img src=\"https://colab.research.google.com/assets/colab-badge.svg\" alt=\"Open In Colab\"/></a>"
      ]
    },
    {
      "cell_type": "markdown",
      "metadata": {
        "id": "_r0hHKPXFK1P"
      },
      "source": [
        "# Mount, Import"
      ]
    },
    {
      "cell_type": "code",
      "metadata": {
        "colab": {
          "base_uri": "https://localhost:8080/"
        },
        "id": "vdG_mpGoE6CC",
        "outputId": "fcca74f3-0a9f-4d16-980f-ac50efe72f9c"
      },
      "source": [
        "from google.colab import drive\n",
        "drive.mount('/content/drive')"
      ],
      "execution_count": null,
      "outputs": [
        {
          "output_type": "stream",
          "text": [
            "Mounted at /content/drive\n"
          ],
          "name": "stdout"
        }
      ]
    },
    {
      "cell_type": "code",
      "metadata": {
        "id": "V4muGLgaFP9N"
      },
      "source": [
        "import tensorflow as tf\n",
        "from tensorflow import keras\n",
        "import sys, os, re, string, csv, codecs, numpy as np, pandas as pd\n",
        "import matplotlib.pyplot as plt\n",
        "%matplotlib inline\n",
        "from tensorflow.keras.preprocessing.text import Tokenizer\n",
        "from tensorflow.keras.preprocessing.sequence import pad_sequences\n",
        "from tensorflow.keras.layers import Dense, Input, LSTM, Embedding, Dropout, Activation, SpatialDropout1D, concatenate\n",
        "from tensorflow.keras.layers import GRU, Bidirectional, GlobalMaxPooling1D, GlobalAveragePooling1D\n",
        "from tensorflow.keras.models import Model, load_model\n",
        "from tensorflow.keras import initializers, regularizers, constraints, optimizers, layers"
      ],
      "execution_count": null,
      "outputs": []
    },
    {
      "cell_type": "markdown",
      "metadata": {
        "id": "4jcjBizSFZp8"
      },
      "source": [
        "------"
      ]
    },
    {
      "cell_type": "markdown",
      "metadata": {
        "id": "PhI4Pxb2Faus"
      },
      "source": [
        "# Load Data"
      ]
    },
    {
      "cell_type": "code",
      "metadata": {
        "id": "ghZsEyp4FYuk"
      },
      "source": [
        "train = pd.read_csv('/content/drive/Shareddrives/SOGANG Parrot/train.csv/train.csv')\n",
        "test = pd.read_csv('/content/drive/Shareddrives/SOGANG Parrot/test.csv/test.csv')"
      ],
      "execution_count": null,
      "outputs": []
    },
    {
      "cell_type": "code",
      "metadata": {
        "colab": {
          "base_uri": "https://localhost:8080/",
          "height": 273
        },
        "id": "HFZ7FqdmFdJM",
        "outputId": "49a3d52f-5d90-42d1-c47f-060999f3210f"
      },
      "source": [
        "train.head(3)"
      ],
      "execution_count": null,
      "outputs": [
        {
          "output_type": "execute_result",
          "data": {
            "text/html": [
              "<div>\n",
              "<style scoped>\n",
              "    .dataframe tbody tr th:only-of-type {\n",
              "        vertical-align: middle;\n",
              "    }\n",
              "\n",
              "    .dataframe tbody tr th {\n",
              "        vertical-align: top;\n",
              "    }\n",
              "\n",
              "    .dataframe thead th {\n",
              "        text-align: right;\n",
              "    }\n",
              "</style>\n",
              "<table border=\"1\" class=\"dataframe\">\n",
              "  <thead>\n",
              "    <tr style=\"text-align: right;\">\n",
              "      <th></th>\n",
              "      <th>id</th>\n",
              "      <th>comment_text</th>\n",
              "      <th>toxic</th>\n",
              "      <th>severe_toxic</th>\n",
              "      <th>obscene</th>\n",
              "      <th>threat</th>\n",
              "      <th>insult</th>\n",
              "      <th>identity_hate</th>\n",
              "    </tr>\n",
              "  </thead>\n",
              "  <tbody>\n",
              "    <tr>\n",
              "      <th>0</th>\n",
              "      <td>0000997932d777bf</td>\n",
              "      <td>Explanation\\nWhy the edits made under my usern...</td>\n",
              "      <td>0</td>\n",
              "      <td>0</td>\n",
              "      <td>0</td>\n",
              "      <td>0</td>\n",
              "      <td>0</td>\n",
              "      <td>0</td>\n",
              "    </tr>\n",
              "    <tr>\n",
              "      <th>1</th>\n",
              "      <td>000103f0d9cfb60f</td>\n",
              "      <td>D'aww! He matches this background colour I'm s...</td>\n",
              "      <td>0</td>\n",
              "      <td>0</td>\n",
              "      <td>0</td>\n",
              "      <td>0</td>\n",
              "      <td>0</td>\n",
              "      <td>0</td>\n",
              "    </tr>\n",
              "    <tr>\n",
              "      <th>2</th>\n",
              "      <td>000113f07ec002fd</td>\n",
              "      <td>Hey man, I'm really not trying to edit war. It...</td>\n",
              "      <td>0</td>\n",
              "      <td>0</td>\n",
              "      <td>0</td>\n",
              "      <td>0</td>\n",
              "      <td>0</td>\n",
              "      <td>0</td>\n",
              "    </tr>\n",
              "  </tbody>\n",
              "</table>\n",
              "</div>"
            ],
            "text/plain": [
              "                 id  ... identity_hate\n",
              "0  0000997932d777bf  ...             0\n",
              "1  000103f0d9cfb60f  ...             0\n",
              "2  000113f07ec002fd  ...             0\n",
              "\n",
              "[3 rows x 8 columns]"
            ]
          },
          "metadata": {
            "tags": []
          },
          "execution_count": 51
        }
      ]
    },
    {
      "cell_type": "code",
      "metadata": {
        "colab": {
          "base_uri": "https://localhost:8080/"
        },
        "id": "SkWYnjTKFeYW",
        "outputId": "791c96be-874d-4ebd-c5ac-0fc43888f778"
      },
      "source": [
        "train.isnull().values.any(), test.isnull().values.any()"
      ],
      "execution_count": null,
      "outputs": [
        {
          "output_type": "execute_result",
          "data": {
            "text/plain": [
              "(False, False)"
            ]
          },
          "metadata": {
            "tags": []
          },
          "execution_count": 52
        }
      ]
    },
    {
      "cell_type": "code",
      "metadata": {
        "colab": {
          "base_uri": "https://localhost:8080/"
        },
        "id": "h9zC8rXvyFYp",
        "outputId": "784d64f3-ae9b-4e4c-a468-b52c0682845e"
      },
      "source": [
        "train.shape, test.shape"
      ],
      "execution_count": null,
      "outputs": [
        {
          "output_type": "execute_result",
          "data": {
            "text/plain": [
              "((159571, 8), (153164, 2))"
            ]
          },
          "metadata": {
            "tags": []
          },
          "execution_count": 53
        }
      ]
    },
    {
      "cell_type": "markdown",
      "metadata": {
        "id": "MhlAgwwEFpBG"
      },
      "source": [
        "---------------"
      ]
    },
    {
      "cell_type": "markdown",
      "metadata": {
        "id": "bLeLuXXzFqGd"
      },
      "source": [
        "# Preprocessing"
      ]
    },
    {
      "cell_type": "code",
      "metadata": {
        "colab": {
          "base_uri": "https://localhost:8080/",
          "height": 304
        },
        "id": "QZ_55lzgFh6k",
        "outputId": "0e9f6554-00fb-4986-9862-825b8a7e4ff3"
      },
      "source": [
        "import nltk\n",
        "nltk.download('punkt')\n",
        "from nltk import word_tokenize\n",
        "\n",
        "totalNumWords = [len(one_comment) for one_comment in train[\"comment_text\"].apply(word_tokenize)]\n",
        "plt.hist(totalNumWords,bins = np.arange(0,410,10))\n",
        "plt.show()"
      ],
      "execution_count": null,
      "outputs": [
        {
          "output_type": "stream",
          "text": [
            "[nltk_data] Downloading package punkt to /root/nltk_data...\n",
            "[nltk_data]   Package punkt is already up-to-date!\n"
          ],
          "name": "stdout"
        },
        {
          "output_type": "display_data",
          "data": {
            "image/png": "[encoded data removed]",
            "text/plain": [
              "<Figure size 432x288 with 1 Axes>"
            ]
          },
          "metadata": {
            "tags": [],
            "needs_background": "light"
          }
        }
      ]
    },
    {
      "cell_type": "code",
      "metadata": {
        "colab": {
          "base_uri": "https://localhost:8080/",
          "height": 90
        },
        "id": "bn7uTlUsFutl",
        "outputId": "7af8af48-a511-42a9-d26a-ff71303a9d15"
      },
      "source": [
        "train[\"comment_text\"][np.argmax(totalNumWords)]"
      ],
      "execution_count": null,
      "outputs": [
        {
          "output_type": "execute_result",
          "data": {
            "application/vnd.google.colaboratory.intrinsic+json": {
              "type": "string"
            },
            "text/plain": [
              "'YOU!\\nYou blocked me worm why!!!!!!!!!!!!!!!!!!!!!!!!!!!!!!!!!!!!!!!!!!!!!!!!!!!!!!!!!!!!!!!!!!!!!!!!!!!!!!!!!!!!!!!!!!!!!!!!!!!!!!!!!!!!!!!!!!!!!!!!!!!!!!!!!!!!!!!!!!!!!!!!!!!!!!!!!!!!!!!!!!!!!!!!!!!!!!!!!!!!!!!!!!!!!!!!!!!!!!!!!!!!!!!!!!!!!!!!!!!!!!!!!!!!!!!!!!!!!!!!!!!!!!!!!!!!!!!!!!!!!!!!!!!!!!!!!!!!!!!!!!!!!!!!!!!!!!!!!!!!!!!!!!!!!!!!!!!!!!!!!!!!!!!!!!!!!!!!!!!!!!!!!!!!!!!!!!!!!!!!!!!!!!!!!!!!!!!!!!!!!!!!!!!!!!!!!!!!!!!!!!!!!!!!!!!!!!!!!!!!!!!!!!!!!!!!!!!!!!!!!!!!!!!!!!!!!!!!!!!!!!!!!!!!!!!!!!!!!!!!!!!!!!!!!!!!!!!!!!!!!!!!!!!!!!!!!!!!!!!!!!!!!!!!!!!!!!!!!!!!!!!!!!!!!!!!!!!!!!!!!!!!!!!!!!!!!!!!!!!!!!!!!!!!!!!!!!!!!!!!!!!!!!!!!!!!!!!!!!!!!!!!!!!!!!!!!!!!!!!!!!!!!!!!!!!!!!!!!!!!!!!!!!!!!!!!!!!!!!!!!!!!!!!!!!!!!!!!!!!!!!!!!!!!!!!!!!!!!!!!!!!!!!!!!!!!!!!!!!!!!!!!!!!!!!!!!!!!!!!!!!!!!!!!!!!!!!!!!!!!!!!!!!!!!!!!!!!!!!!!!!!!!!!!!!!!!!!!!!!!!!!!!!!!!!!!!!!!!!!!!!!!!!!!!!!!!!!!!!!!!!!!!!!!!!!!!!!!!!!!!!!!!!!!!!!!!!!!!!!!!!!!!!!!!!!!!!!!!!!!!!!!!!!!!!!!!!!!!!!!!!!!!!!!!!!!!!!!!!!!!!!!!!!!!!!!!!!!!!!!!!!!!!!!!!!!!!!!!!!!!!!!!!!!!!!!!!!!!!!!!!!!!!!!!!!!!!!!!!!!!!!!!!!!!!!!!!!!!!!!!!!!!!!!!!!!!!!!!!!!!!!!!!!!!!!!!!!!!!!!!!!!!!!!!!!!!!!!!!!!!!!!!!!!!!!!!!!!!!!!!!!!!!!!!!!!!!!!!!!!!!!!!!!!!!!!!!!!!!!!!!!!!!!!!!!!!!!!!!!!!!!!!!!!!!!!!!!!!!!!!!!!!!!!!!!!!!!!!!!!!!!!!!!!!!!!!!!!!!!!!!!!!!!!!!!!!!!!!!!!!!!!!!!!!!!!!!!!!!!!!!!!!!!!!!!!!!!!!!!!!!!!!!!!!!!!!!!!!!!!!!!!!!!!!!!!!!!!!!!!!!!!!!!!!!!!!!!!!!!!!!!!!!!!!!!!!!!!!!!!!!!!!!!!!!!!!!!!!!!!!!!!!!!!!!!!!!!!!!!!!!!!!!!!!!!!!!!!!!!!!!!!!!!!!!!!!!!!!!!!!!!!!!!!!!!!!!!!!!!!!!!!!!!!!!!!!!!!!!!!!!!!!!!!!!!!!!!!!!!!!!!!!!!!!!!!!!!!!!!!!!!!!!!!!!!!!!!!!!!!!!!!!!!!!!!!!!!!!!!!!!!!!!!!!!!!!!!!!!!!!!!!!!!!!!!!!!!!!!!!!!!!!!!!!!!!!!!!!!!!!!!!!!!!!!!!!!!!!!!!!!!!!!!!!!!!!!!!!!!!!!!!!!!!!!!!!!!!!!!!!!!!!!!!!!!!!!!!!!!!!!!!!!!!!!!!!!!!!!!!!!!!!!!!!!!!!!!!!!!!!!!!!!!!!!!!!!!!!!!!!!!!!!!!!!!!!!!!!!!!!!!!!!!!!!!!!!!!!!!!!!!!!!!!!!!!!!!!!!!!!!!!!!!!!!!!!!!!!!!!!!!!!!!!!!!!!!!!!!!!!!!!!!!!!!!!!!!!!!!!!!!!!!!!!!!!!!!!!!!!!!!!!!!!!!!!!!!!!!!!!!!!!!!!!!!!!!!!!!!!!!!!!!!!!!!!!!!!!!!!!!!!!!!!!!!!!!!!!!!!!!!!!!!!!!!!!!!!!!!!!!!!!!!!!!!!!!!!!!!!!!!!!!!!!!!!!!!!!!!!!!!!!!!!!!!!!!!!!!!!!!!!!!!!!!!!!!!!!!!!!!!!!!!!!!!!!!!!!!!!!!!!!!!!!!!!!!!!!!!!!!!!!!!!!!!!!!!!!!!!!!!!!!!!!!!!!!!!!!!!!!!!!!!!!!!!!!!!!!!!!!!!!!!!!!!!!!!!!!!!!!!!!!!!!!!!!!!!!!!!!!!!!!!!!!!!!!!!!!!!!!!!!!!!!!!!!!!!!!!!!!!!!!!!!!!!!!!!!!!!!!!!!!!!!!!!!!!!!!!!!!!!!!!!!!!!!!!!!!!!!!!!!!!!!!!!!!!!!!!!!!!!!!!!!!!!!!!!!!!!!!!!!!!!!!!!!!!!!!!!!!!!!!!!!!!!!!!\\n!!!!!!!!!!!!!!!!!!!!!!!!!!!!!!!!!!!!!!!!!!!!!!!!!!!!!!!!!!!!!!!!!!!!!!!!!!!!!!!!!!!!!!!!!!!!!!!!!!!!!!!!!!!!!!!!!!!!!!!!!!!!!!!!!!!!!!!!!!!!!!!!!!!!!!!!!!!!!!!!!!!!!!!!!!!!!!!!!!!!!!!!!!!!!!!!!!!!!!!!!!!!!!!!!!!!!!!!!!!!!!!!!!!!!!!!!!!!!!!!!!!!!!!!!!!!!!!!!!!!!!!!!!!!!!!!!!!!!!!!!!!!!!!!!!!!!!!!!!!!!!!!!!!!!!!!!!!!!!!!!!!!!!!!!!!!!!!!!!!!!!!!!!!!!!!!!!!!!!!!!!!!!!!!!!!!!!!!!!!!!!!!!!!!!!!!!!!!!!!!!!!!!!!!!!!!!!!!!!!!!!!!!!!!!!!!!!!!!!!!!!!!!!!!!!!!!!!!!!!!!!!!!!!!!!!!!!!!!!!!!!!!!!!!!!!!!!!!!!!!!!!!!!!!!!!!!!!!!!!!!!!!!!!!!!!!!!!!!!!!!!!!!!!!!!!!!!!!!!!!!!!!!!!!!!!!!!!!!!!!!!!!!!!!!!!!!!!!!!!!!!!!!!!!!!!!!!!!!!!!!!!!!!!!!!!!!!!!!!!!!!!!!!!!!!!!!!!!!!!!!!!!!!!!!!!!!!!!!!!!!!!!!!!!!!!!!!!!!!!!!!!!!!!!!!!!!!!!!!!!!!!!!!!!!!!!!!!!!!!!!!!!!!!!!!!!!!!!!!!!!!!!!!!!!!!!!!!!!!!!!!!!!!!!!!!!!!!!!!!!!!!!!!!!!!!!!!!!!!!!!!!!!!!!!!!!!!!!!!!!!!!!!!!!!!!!!!!!!!!!!!!!!!!!!!!!!!!!!!!!!!!!!!!!!!!!!!!!!!!!!!!!!!!!!!!!!!!!!!!!!!!!!!!!!!!!!!!!!!!!!!!!!!!!!!!!!!!!!!!!!!!!!!!!!!!!!!!!!!!!!!!!!!!!!!!!!!!!!!!!!!!!!!!!!!!!!!!!!!!!!!!!!!!!!!!!!!!!!!!!!!!!!!!!!!!!!!!!!!!!!!!!!!!!!!!!!!!!!!!!!!!!!!!!!!!!!!!!!!!!!!!!!!!!!!!!!!!!!!!!!!!!!!!!!!!!!!!!!!!!!!!!!!!!!!!!!!!!!!!!!!!!!!!!!!!!!!!!!!!!!!!!!!!!!!!!!!!!!!!!!!!!!!!!!!!!!!!!!!!!!!!!!!!!!!!!!!!!!!!!!!!!!!!!!!!!!!!!!!!!!!!!!!!!!!!!!!!!!!!!!!!!!!!!!!!!!!!!!!!!!!!!!!!!!!!!!!!!!!!!!!!!!!!!!!!!!!!!!!!!!!!!!!!!!!!!!!!!!!!!!!!!!!!!!!!!!!!!!!!!!!!!!!!!!!!!!!!!!!!!!!!!!!!!!!!!!!!!!!!!!!!!!!!!!!!!!!!!!!!!!!!!!!!!!!!!!!!!!!!!!!!!!!!!!!!!!!!!!!!!!!!!!!!!!!!!!!!!!!!!!!!!!!!!!!!!!!!!!!!!!!!!!!!!!!!!!!!!!!!!!!!!!!!!!!!!!!!!!!!!!!!!!!!!!!!!!!!!!!!!!!!!!!!!!!!!!!!!!!!!!!!!!!!!!!!!!!!!!!!!!!!!!!!!!!!!!!!!!!!!!!!!!!!!!!!!!!!!!!!!!!!!!!!!!!!!!!!!!!!!!!!!!!!!!!!!!!!!!!!!!!!!!!!!!!!!!!!!!!!!!!!!!!!!!!!!!!!!!!!!!!!!!!!!!!!!!!!!!!!!!!!!!!!!!!!!!!!!!!!!!!!!!!!!!!!!!!!!!!!!!!!!!!!!!!!!!!!!!!!!!!!!!!!!!!!!!!!!!!!!!!!!!!!!!!!!!!!!!!!!!!!!!!!!!!!!!!!!!!!!!!!!!!!!!!!!!!!!!!!!!!!!!!!!!!!!!!!!!!!!!!!!!!!!!!!!!!!!!!!!!!!!!!!!!!!!!!!!!!!!!!!!!!!!!!!!!!!!!!!!!!!!!!!!!!!!!!!!!!!!!!!!!!!!!!!!!!!!!!!!!!!!!!!!!!!!!!!!!!!!!!!!!!!!!!!!!!!!!!!!!!!!!!!!!!!!!!!!!!!!!!!!!!!!!!!!!!!!!!!!!!!!!!!!!!!!!!!!!!!!!!!!!!!!!!!!!!!!!!!!!!!!!!!!!!!!!!!!!!!!!!!!!!!!!!!!!!!!!!!!!!!!!!!!!!!!!!!!!!!!!!!!!!!!!!!!!!!!!!!!!!!!!!!!!!!!!!!!!!!!!!!!!!!!!!!!!!!!!!!!!!!!!!!!!!!!!!!!!!!!!!!!!!!!!!!!!!!!!!!!!!!!!!!!!!!!!!!!!!!!!!!!!!!!!!!!!!!!!!!!!!!!!!!!!!!!!!!!!!!!!!!!!!!!!!!!!!!!!!!!!!!!!!!!!!!!!!!!!!!!!!!!!!!!!!!!!!!!!!!!!!!!!!!!!!!!!!!!!!!!!!!!!!!!!!!!!!!!!!!!!!!!!!!!!!!!!!!!!!!!!!!!!!!!!!!!!!!!!!!!!!!!!!'"
            ]
          },
          "metadata": {
            "tags": []
          },
          "execution_count": 55
        }
      ]
    },
    {
      "cell_type": "code",
      "metadata": {
        "id": "GZ5dSc7zF3tL"
      },
      "source": [
        "del totalNumWords"
      ],
      "execution_count": null,
      "outputs": []
    },
    {
      "cell_type": "markdown",
      "metadata": {
        "id": "T3V-l4CD6-wP"
      },
      "source": [
        "# 전처리의 중요성 \n"
      ]
    },
    {
      "cell_type": "code",
      "metadata": {
        "colab": {
          "base_uri": "https://localhost:8080/"
        },
        "id": "5F0acInS7CQW",
        "outputId": "bf8f205f-3527-4b02-a9b1-7399cc4eaa3b"
      },
      "source": [
        "for i in [147907, 34, 114, 119, 10067, 63926, 71320]:\n",
        "  print(test[\"comment_text\"][i])"
      ],
      "execution_count": null,
      "outputs": [
        {
          "output_type": "stream",
          "text": [
            "□□□□□■□□□□□■■■■■■■□■□□□■□□□□ \n",
            "  □□□□■□■□□□□■□□□□□■□■□□□■□□□□ \n",
            "  □□□■□■□■□□□■□□□□□■□■□■■■■■□□ \n",
            "  □□■□□□■□■□□■□□□□□■□■□□□■□□□□ \n",
            "  □■□■■■■■□■□■■■■■■■□■□□□■□□□□ \n",
            "  □□□□□□□■□□□■□□□□□■□■□□■■■□□□ \n",
            "  □□□□□□■□□□□■□□□□□■□■□■□■□■□□ \n",
            "  □□□□□■□□□□□■■■■■■■□■□□■□□■□□\n",
            "일이삼사오육칠팔구하고십이요 에헤헤 으헤 으헤 으허허\n",
            "পরিচয়   \n",
            "\n",
            " নাম-মোঃফরহাদ ইসলাম \n",
            " পিতা-মোঃ শাহজাহান মিয়া \n",
            " মাতা-মোছাঃফাহিমা বেগম \n",
            " গ্রামঃ জানকিপুর সলই মন্ডল পাড়া \n",
            " ইউনিয়নঃনিলাখিয়া \n",
            " উপজেলাঃবকশীগঞ্জ \n",
            " জেলাঃজামালপুর  \n",
            " বিভাগঃঢাকা \n",
            "\n",
            "  \n",
            "     ।।।।।।।।।।।।।।। \n",
            "\n",
            "  \n",
            "\n",
            " আমি ১৯৯৭ সালের ২০.জানুয়ারি আমার নানার বাড়িতে জন্মগ্রহণ করি। ২০০০ সালে নিজ গ্রামের স্কুলে ভর্তি হয় এবং ওই স্কুল থেকেই প্রাইমারি লেবেল শেষ করি।২০০৬ সালে ভর্তি নিজ ইউনিয়নের নিলাখিয়া আর জে পাইলট উচ্চ বিদ্যালয়ে ৬ষ্ঠ শ্রেনীতে এবং সেখানে ক্লাস এইট পর্যন্ত পড়ি।। পরে ভর্তি হই বকশীগঞ্জ টি.ভি.আই  এ সেখান থেকে ২০১২ সালে এস এস সি পাশ করি।তার পর টেক্সটাইল এ ডিপ্লোমা করার জন্য ভর্তি হলাম শহীদ আব্দুর রব সেরনিয়াবাত টেক্সটাইল ইঞ্জিনিয়ারিং কলেজ,বরিশাল। বর্তমানে আমি এই কলেজে ৬ষ্ঠ সেমিস্টার এর এক জন ছাত্র।।\n",
            "السلام عليكم و رحمة الله و بركاته الا الجميع \n",
            " تفضلوا جميعا\n",
            "खेती विकास प्रकल्प \n",
            "     ग्रामविकास योजना \n",
            "     रोजगार प्रशिक्षण उपक्रम\n",
            "آخه‌ آدم نفهم همه‌ چی  چرا با این لفظ مسخره‌ ایرانی داری مارو تو دنیا میکنی ایرانی.\n",
            "﻿Ｉ  ＷＯＮＴ  ＳＵＣＫ  ＹＯＵＲ  ＣＯＣＫ  Ｉ  ＡＭ  Ａ  ＦＵＣＫＩＮＧ  ＭＡＮ  ＡＮＤ  Ｉ  ＡＭ  ＮＯＴ  ＧＡＹ．  Ｆｕｃｋｉｎｇ  ＥＶＥＲＹ  ＤＡＹ  ｔｈｅ  ｓａｍｅ  ｓｈｉｔ．  ＇＇ＳＵＣＫ  ＭＹ  ＣＯＣＫ  ＤＵＤＥ＇＇  Ｉ  ｈａｖｅ  ａ  ｗｉｆｅ  ｙｏｕ  ｐｉｅｃｅ  ｏｆ  ｓｈｉｔ  Ｉ  ＡＭ  ＡＳ  ＳＴＲＡＩＧＨＴ  ＡＳ  ＳＰＡＧＨＥＴＴＩ  ＹＯＵ  ＨＯＭＯ  ＳＨＩＴＳ．  Ｉ  ｇｏ  ｏｕｔ  ｗｉｔｈ  ｍｙ  ｆｒｉｅｎｄ  ｔｏ  ｇｏ  ｂｏｗｌｉｎｇ  ｌｉｋｅ  ａ  ｎｏｒｍａｌ  ｐｅｒｓｏｎ  Ｉ  ｇｏ  ｗｉｔｈ  ｈｉｍ  ｔｏ  ｇａｙｂａｒｓ  ｌｉｋｅ  ａ  ｎｏｒｍａｌ  ｐｅｒｓｏｎ  ａｎｄ  Ｉ  ＫＩＳＳ  ＨＩＭ  ＧＯＯＤＢＹＥ  ＬＩＫＥ  Ａ  ＮＯＲＭＡＬ  ＰＥＲＳＯＮ．  Ｉ  ＡＭ  ＪＵＳＴ  Ａ  ＳＴＲＡＩＧＨＴ  ＧＵＹ  Ｉ  ＤＯ  ＮＯＴ  ＳＵＣＫ  ＤＩＣＫＳ  ＹＯＵ  ＨＥＡＲ  ＴＨＡＴ  ？！  Ｉ  ａｌｓｏ  ｈａｎｇ  ｏｕｔ  ｗｉｔｈ  ｍｙ  ｆｒｉｅｎｄ  ＬＩＫＥ  Ａ  ＳＴＲＡＩＧＨＴ  ＰＥＲＳＯＮ．  Ｉ  ＬＯＶＥ  ＨＩＭ  ＬＩＫＥ  Ａ  ＳＴＲＡＩＧＨＴ  ＰＥＲＳＯＮ  ＡＮＤ  Ｉ  ＦＵＣＫ  ＨＩＭ  ＬＩＫＥ  Ａ  ＳＴＲＡＩＧＨＴ  ＰＥＲＳＯＮ．  ＭＹ  ＷＩＦＥ  ＡＬＳＯ  ＦＵＣＫ  ＭＥ  ＩＮ  ＴＨＥ  ＡＳＳ  ＳＯＭＥＴＩＭＥＳ  ＬＩＫＥ  ＴＨＥ  ＳＴＲＡＩＧＨＴ  ＣＨＲＩＳＴＩＡＮ  ＦＡＭＩＬＹ  ＷＥ  ＡＲＥ．  Ｆｕｃｋｉｎｇ  ＦＡＧＧＯＴＳ  Ｉ  ＷＩＬＬ  ＮＯＴ  ＳＵＣＫ  ＹＯＵＲ  ＤＩＣＫ  ＹＯＵ  ＰＩＥＣＥ  ＯＦ  ＳＨＩＴ  Ｉ  ＡＭ  ＳＴＲＡＩＧＨＴ  Ｉ  ＡＭ  ＮＯＴ  ＧＡＹ． \n",
            "\n",
            " ﻿ＡＨＡＨＡＨＡＨＡＨＡＨＡＨＡＨ  ＯＨ  ＧＯＤ  ＩＭ  ＤＹＩＮＧ！！  ＷＨＡＴ  ＩＳ  ＡＩＲ？！  Ｉ  ＣＡＮＴ  ＢＲＥＡＴＨＥ！！  ＳＷＥＥＴ，  ＳＷＥＥＴ  ＤＩＣＫＳ  ＩＮ  ＭＹ  ＭＯＵＴＨ  ＴＨＩＳ  ＩＳ  ＴＨＥ  ＦＵＮＮＩＥＳＴ  ＦＵＣＫＩＮＧ  ＴＨＩＮＧ  Ｉ  ＨＡＶＥ  ＥＶＥＲ  ＳＥＥＮ！  ＢＥＮＤ  ＭＥ  ＯＶＥＲ  ＡＮＤ  ＦＵＣＫ  ＭＥ﻿  ＴＷＯ  ＷＡＹＳ  ＇ＴＩＬＬ  ＳＵＮＤＡＹ  ＩＭ  ＤＹＩＮＧ！  ＯＨ  ＳＷＥＥＴ  ＪＥＳＵＳ  ＴＡＫＥ  ＴＨＥ  ＷＨＥＥＬ  Ｉ  ＣＡＮ  ＮＥＶＥＲ  ＬＩＳＴＥＮ  ＴＯ  ＲＡＰ  ＡＧＡＩＮ！！  ＪＥＳＵＳ．．ＪＥＳＵＳ  ＩＭ  ＤＹＩＮＧ！！！！ \n",
            "\n",
            " ﻿ＰＬＥＡＳＥ  ＲＥＳＰＯＮＤ  ＴＯ  ＴＨＩＳ  ＭＥＳＳＡＧＥ．  Ｉ  ＣＡＮ  ＪＵＳＴ  ＰＩＣＴＵＲＥ  ＹＯＵ  ＲＥＡＤＩＮＧ  ＡＬＬ  ＴＨＩＳ  ＳＨＩＴ，  ＷＯＮＤＥＲＩＮＧ  ＷＨＹ  Ｉ  ＦＵＣＫＩＮＧ  ＨＡＴＥ  ＹＯＵ  ＳＯ  ＭＵＣＨ  ＢＥＣＡＵＳＥ  ＹＯＵ  ＣＡＮ＇Ｔ  ＣＯＭＰＲＥＨＥＮＤ  ＡＮＹＴＨＩＮＧ．  ＹＯＵ＇ＬＬ  ＧＥＴ  ＳＯ  ＦＵＣＫＩＮＧ  ＰＩＳＳＥＤ  ＯＦＦ  ＹＯＵ＇ＬＬ  ＦＵＣＫＩＮＧ  ＰＵＮＣＨ  Ａ  ＷＡＬＬ  ＡＮＤ  ＦＵＣＫＩＮＧ  ＥＡＴ  ＥＶＥＲＹＴＨＩＮＧ  ＩＮ  ＴＨＥ  ＦＲＩＤＧＥ  ＡＮＤ  ＴＨＥＮ  ＷＡＤＤＬＥ  ＢＡＣＫ  ＵＰＳＴＡＩＲＳ  ＡＮＤ  ＱＵＯＴＥ  ＴＨＩＳ  ＳＨＩＴ  ＡＮＤ  ＳＭＡＳＨ  ＴＨＥ  ＦＵＣＫＩＮＧ  ＫＥＹＢＯＡＲＤ  ＷＩＴＨ  ＹＯＵＲ  ＧＩＧＡＮＴＩＣ，  ＦＡＴ  ＨＡＮＤＳ  ＡＮＤ  ＳＬＯＢＢＥＲ  ＰＲＯＦＵＳＥＬＹ  ＷＨＩＬＥ  ＹＯＵ  ＰＯＵＮＤ  ＯＵＴ  ＳＯＭＥ  ＩＤＩＯＴＩＣ  ＲＥＰＬＹ，  ＬＩＫＥ  ＹＯＵ  ＣＯＵＬＤ  ＥＶＥＲ  ＥＶＥＲ  ＥＶＥＲ  ＦＵＣＫＩＮＧ  ＥＶＥＮ  ＣＯＭＥ  ＣＬＯＳＥ  ＴＯ  ＴＨＥ  ＳＨＥＥＲ  ＨＡＴＲＥＤ  Ｉ  ＦＥＥＬ  ＦＯＲ  ＹＯＵ，  ＴＨＥ  ＢＥＳＴ  ＰＡＲＴ  ＡＢＯＵＴ  ＩＴ  ＩＳ  ＴＨＡＴ  ＮＯ  ＭＡＴＴＥＲ  ＷＨＡＴ  ＹＯＵ  ＳＡＹ  Ｉ＇Ｍ  ＪＵＳＴ  ＧＯＩＮＧ  ＴＯ  ＬＡＵＧＨ  ＡＴ  ＹＯＵＲ  ＦＡＴ，  ＳＴＵＰＩＤ，  ＵＧＬＹ，  ＲＥＴＡＲＤＥＤ，  ＩＤＩＯＴＩＣ，  ＷＯＲＴＨＬＥＳＳ，  ＭＡＮＷＨＯＲＥ  ＣＯＣＫ－ＬＯＶＩＮＧ  ＡＳＳ！  ＢＵＴ  ＩＦ  ＹＯＵ  ＤＯＮ＇Ｔ  ＲＥＰＬＹ，  Ｉ  ＦＵＣＫＩＮＧ  －ＷＩＮ－，  ＢＥＣＡＵＳＥ  Ｉ＇ＶＥ  ＳＭＡＣＫＥＤ  ＹＯＵ  ＤＯＷＮ  ＬＩＫＥ  ＴＨＥ  ＬＩＴＴＬＥ  ＢＩＴＣＨ  ＹＯＵ  ＡＲＥ  ＤＩＥ  ＭＯＴＨＥＲＦＵＣＫＥＲ． \n",
            "\n",
            " ﻿Ｒｅａｌ  ｆｕｎｎｙ  ｆａｇｇｏｔ  ａｓｓ  ｂｉｔｃｈ．  Ｙｏｕ  ｔｈｉｎｋ  ｔｈｉｓ  ｉｓ  ａ  ｊｏｋｅ？  Ｙｏｕ  ｔｈｉｎｋ  ｇｉｖｉｎｇ  ｍｅ  ｌｉｐ  ｉｓ  ａ  ｇｏｏｄ  ｉｄｅａ？  Ｉ＇ｌｌ  ｆｕｃｋｉｎｇ  ｍｕｒｄｅｒ  ｙｏｕ． \n",
            "    \n",
            " Ｙｅａｈ  ｍａｋｉｎｇ  ｆｕｎ  ｏｆ  ｍｅ  ｉｓ  ｓｏ  ｆｕｎｎｙ，  ｓｏ  ｆｕｎｎｙ  Ｉ  ｆｏｒｇｏｔ  ｔｏ  ｌａｕｇｈ．  Ｉｆ  ｙｏｕ  ｗａｎｎａ  ｔａｌｋ  ｌｉｋｅ  ｔｈａｔ  ｔｏ  ｍｅ  ｗｈｙ  ｄｏｎ＇ｔ  ｙｏｕ  ｃｏｍｅ  ｈｅｒｅ  ａｎｄ  ｓａｙ  ｉｔ  ｔｏ  ｍｅ  ｆａｃｅ  ｓｏ  Ｉ  ｃａｎ  ａｎｓｗｅｒ  ｙｏｕｒ  ｉｎｓｕｌｔｓ  ｗｉｔｈ  ａ  ｓｗｉｆｔ  ｆｉｓｔ  ｔｏ  ｔｈｅ  ｎｏｓｅ．  Ｙｅａｈ  ｙｏｕ  ｈａｖｅ  ａ  ｌｏｔ  ｔｏ  ｓａｙ  ｆｒｏｍ  ｈｕｎｄｒｅｄｓ  ｏｆ  ｍｉｌｅｓ  ａｗａｙ  ｂｕｔ  Ｉ  ｂｅｔ  ｉｆ  ｍｙ  ｆｉｓｔｓ  ｗｅｒｅ  ｉｎ  ｒｅａｃｈ  ｏｆ  ｙｏｕｒ  ｆａｃｅ  ｙｏｕ  ｗｏｕｌｄ  ｂｅ  ｌｉｋｅ  ａ  ｔｖ  ｏｎ  ｍｕｔｅ  ｗｉｔｈ  ｎｏ  ｖｏｌｕｍｅ  ｂｕｔｔｏｎ．  Ｓｏ  ｄｏ  ｙｏｕｒｓｅｌｆ  ａ  ｆａｖｏｒ  ａｎｄ  ｋｅｅｐ  ｙｏｕｒ  ｍｏｕｔｈ  ｓｈｕｔ  ｕｎｌｅｓｓ  ｙｏｕ  ｗａｎｔ  ｔｏ  ｄｉｅ．  Ｎｅｘｔ  ｔｉｍｅ  ｙｏｕ  ｔｈｉｎｋ  ａｂｏｕｔ  ｓａｙｉｎｇ  ｓｏｍｅｔｈｉｎｇ  ｌｉｋｅ  ｔｈａｔ  ｔｏ  ｍｅ  Ｉ  ｗａｎｔ  ｙｏｕ  ｔｏ  ｒｅｍｅｍｂｅｒ  ｏｎｅ  ｔｈｉｎｇ．  Ｉ  ｋｎｏｗ  ｔｈｅ  ｇｕｙ  ｔｈａｔ  ｃｒｅａｔｅｄ  ｇｏｏｇｌｅ  ｍａｐｓ  ａｎｄ  Ｉ  ｃａｎ  ｌｏｃａｔｅ  ｙｏｕ  ｉｎ  ｔｈｅ  ｔｉｍｅ  ｉｔ  ｔｏｏｋ  ｍｅ  ｔｏ  ｔｙｐｅ  ｔｈｉｓ．  Ｄｏｎ＇ｔ  ｗａｎｔ  ａｎｙｍｏｒｅ  ｐｒｏｂｌｅｍｓ．．．．  ｄｉｄｎ＇ｔ  ｔｈｉｎｋ  ｓｏ  ｆａｇｇｏｔ．  Ｙｏｕ  ｈａｖｅ  ａｎｙ  ｉｄｅａ  ｗｈａｔ  ｇｏｒｉｌｌａ  ｗａｒｆａｒｅ  ｉｓ？  Ｉ  ｄｏ，  Ｉ  ｗａｓ  ｉｎ  ｔｈｅ  ＵＳ  Ｍａｒｉｎｅ  Ｃｏｒｅ  ａｎｄ  Ｉ  ｐｅｒｆｅｃｔｅｄ  ｉｔ．  Ｉ＇ｍ  ｆｕｌｌｙ  ｃａｐａｂｌｅ  ｏｆ  ｕｓｉｎｇ  ｉｔ  ｏｎ  ｙｏｕ  ｍｏｔｈｅｒｆｕｃｋｅｒｓ．  Ｄｏ  ｙｏｕ  ｋｎｏｗ  ｔｈｅ  ｄａｎｄｅｒ  ｙｏｕｒ  ｉｎ  ｉｆ  Ｉ  ｆｉｎｄ  ｙｏｕ？  Ｉ  ａｍ  １００＄  ｓｅｒｉｏｕｓ．  Ｂｕｎｃｈ  ｏｆ  ｇｏｄ  ｄａｍｎ  ｎｅｗｆａｆ  ｌｏｓｅｒ  ｈｅｒｅ  ａｎｄ  Ｉ  ｗｉｌｌ  ｎｏｔ  ｈａｖｅ  ｉｔ．  Ａｔ  ｌｅａｓｔ  Ｉ＇ｖｅ  ｈａｄ  ｓｅｘ，  ｈａｄ  ｇｉｒｌｆｒｉｅｎｄｓ，  ａｎｄ  ｇｏｔｔｅｎ  ｌａｉｄ，  ａｎｄ  ｂｌｏｗｊｏｂｂｅｄ  ｕｎｌｉｋｅ  ｙｏｕ  ｖｉｒｇｉｎ  ｐｉｅｃｅ  ｏｆ  ｕｎｐａｔｒｉｏｔｉｃ  ＳＨＩＴ． \n",
            "    \n",
            " ﻿ＷＯＷ  ＳＯＮ，  Ｕ  ＢＵＴ  ＡＮＧＲＥＹ．  Ｉ  ｈａｖ  ｎｅｅｒ  ｓｅｅｎ  ｓｕｍ１  ｓｏ  ｐｏｏｐｅｒ  ｐｅｅｖｅｄ，  ｕ  ｎｅｄ  ｔｏ  ｔａｋ  ｃｈｉｌｐｉｌ  ａｎｄ  ｓｔｏｐ  ｒａｐｉｎｇ  ｙｏｕｒ  ｏｗｎａｓｓｗｉｔ  ｗｉｔｈ  ｈｕｓｂａｎｄ．  ｙｏｕ  ａｒｅ  ｔｈｅ  ｇａｙｅｓｔ  ｆｇｔ  ｉｎ  ｆｇｔｏｐｉａ，  ｎｏ  ｕ  ｒ  ｔｈｅ  ｍａｙｏｒ．  ｌｏｌ  ｕ  ｔｒｏｌｅｄ  ｓｏ  ｆｕｋｉｎ  ｈａｒｄ  ｕ  ｗａｎ  ｓｕｍ  ｉｃｅ  ｆｏｒ  ｔｈｅ  ＡＳＳＢＵＲＮ？  Ｕ  ｃｒｙ  ｔｅａｒｓ  ｏｆ  ｂｌｕｄ  ａｎｄ  ｃｕｍ  ｕｒ  ｍｏｍ＇ｓ  ｐｅｎｉｓ  ｏｕｔ  ｙｏｕｒ  ａｎｇｒｙ  ｂｕｔｔｈｏｌｅ．  ｇｂ２  ｐｕｓｓｙｂａｂｙ  ｌａｎｄ  ｗｈｅｒｅ  ｕ  ｇｉｔ  ｏｗｎ３ｄ  ｂｙ  ｄｉｃｋ  ＂ｏｍｇ  ｉ  ｌｏｖｅ  ｓｕｋｎ  ｄｉｃｋｓ  ａｎｄ  ｃｒｙｉｎｇ  ｔｏ  ｌｉｎｋ  ｐａｒｋ＂  －  Ｙｏｕ．  ｕｒ  ｂｕｔｔ  ｉｓ  ｅｖａｐｏｒａｔｉｎｇ  ｃｕｍ  ｂｃｕｚ  ｉｔ  ｉｓ  ｓｔｅａｍｉｎｇ  ｗｉｔ  ａｎｇｒ．  ＳＵＭＢＵＤＹ  ＩＳ  ＡＮＡＬＬＹ  ＡＮＧＵＩＳＨＥＤ  ｉｔｓ  ｌｉｋ  ｕ  ｒ  ｓｅｅｄｉｎｇ  ｗｉｔ  ｒａｅｇ\n"
          ],
          "name": "stdout"
        }
      ]
    },
    {
      "cell_type": "code",
      "metadata": {
        "colab": {
          "base_uri": "https://localhost:8080/"
        },
        "id": "w6JkEBIfA8QH",
        "outputId": "0e5b117e-aac7-4cc6-87ba-50ad2cb4d4c5"
      },
      "source": [
        "num = 0\n",
        "for i in range(train.shape[0]):\n",
        "  a = re.compile(r'\\S+\\.jpg|\\(UTC\\)')\n",
        "  if a.search(train['comment_text'][i]):\n",
        "    num += 1\n",
        "num"
      ],
      "execution_count": null,
      "outputs": [
        {
          "output_type": "execute_result",
          "data": {
            "text/plain": [
              "7387"
            ]
          },
          "metadata": {
            "tags": []
          },
          "execution_count": 58
        }
      ]
    },
    {
      "cell_type": "markdown",
      "metadata": {
        "id": "BY6JwHUJGaxw"
      },
      "source": [
        "-------------"
      ]
    },
    {
      "cell_type": "markdown",
      "metadata": {
        "id": "Lm3WUP3qGd80"
      },
      "source": [
        "-----------"
      ]
    },
    {
      "cell_type": "markdown",
      "metadata": {
        "id": "iJfnpNOVF7eV"
      },
      "source": [
        "## Capitalization / Lower case"
      ]
    },
    {
      "cell_type": "code",
      "metadata": {
        "id": "og5Kzo2DF5eE"
      },
      "source": [
        "train[\"preprocessed_text\"] = train[\"comment_text\"].apply(lambda x: x.lower())\n",
        "test[\"preprocessed_text\"] = test[\"comment_text\"].apply(lambda x: x.lower())"
      ],
      "execution_count": null,
      "outputs": []
    },
    {
      "cell_type": "code",
      "metadata": {
        "colab": {
          "base_uri": "https://localhost:8080/"
        },
        "id": "IyvslGKcGDaV",
        "outputId": "8ce278b3-8c97-47ce-d346-feddd83e5b6e"
      },
      "source": [
        "print('Before : ', train[\"comment_text\"][4])\n",
        "print('\\n~~~~~~~~~~~~~~~~~Preprocessed~~~~~~~~~~~~~~~~~~~~~~~\\n')\n",
        "print('After  : ', train[\"preprocessed_text\"][4])"
      ],
      "execution_count": null,
      "outputs": [
        {
          "output_type": "stream",
          "text": [
            "Before :  You, sir, are my hero. Any chance you remember what page that's on?\n",
            "\n",
            "~~~~~~~~~~~~~~~~~Preprocessed~~~~~~~~~~~~~~~~~~~~~~~\n",
            "\n",
            "After  :  you, sir, are my hero. any chance you remember what page that's on?\n"
          ],
          "name": "stdout"
        }
      ]
    },
    {
      "cell_type": "markdown",
      "metadata": {
        "id": "bdLn6n2y-DyP"
      },
      "source": [
        "----------------"
      ]
    },
    {
      "cell_type": "markdown",
      "metadata": {
        "id": "F8JP6s_6_eMX"
      },
      "source": [
        "## Remove ~.jpg , (UTC)"
      ]
    },
    {
      "cell_type": "code",
      "metadata": {
        "id": "v2wNTv0C_n6e"
      },
      "source": [
        "train[\"preprocessed_text\"] = train[\"preprocessed_text\"].apply(lambda x: re.sub(r\"\\S+\\.jpg|\\(UTC\\)\", \" \", x))\n",
        "test[\"preprocessed_text\"] = test[\"preprocessed_text\"].apply(lambda x: re.sub(r\"\\S+\\.jpg|\\(UTC\\)\", \" \", x))"
      ],
      "execution_count": null,
      "outputs": []
    },
    {
      "cell_type": "markdown",
      "metadata": {
        "id": "OerL2bg5-E5m"
      },
      "source": [
        "## Expand the Contractions"
      ]
    },
    {
      "cell_type": "code",
      "metadata": {
        "colab": {
          "base_uri": "https://localhost:8080/"
        },
        "id": "0L6Lz8yFGLME",
        "outputId": "eb1ee319-34e2-4909-85bb-c97a4cd5f7a6"
      },
      "source": [
        "!pip install contractions\n",
        "import contractions\n",
        "\n",
        "train[\"preprocessed_text\"] = train[\"preprocessed_text\"].apply(lambda x: contractions.fix(x))\n",
        "test[\"preprocessed_text\"] = test[\"preprocessed_text\"].apply(lambda x: contractions.fix(x))"
      ],
      "execution_count": null,
      "outputs": [
        {
          "output_type": "stream",
          "text": [
            "Requirement already satisfied: contractions in /usr/local/lib/python3.7/dist-packages (0.0.48)\n",
            "Requirement already satisfied: textsearch>=0.0.21 in /usr/local/lib/python3.7/dist-packages (from contractions) (0.0.21)\n",
            "Requirement already satisfied: pyahocorasick in /usr/local/lib/python3.7/dist-packages (from textsearch>=0.0.21->contractions) (1.4.2)\n",
            "Requirement already satisfied: anyascii in /usr/local/lib/python3.7/dist-packages (from textsearch>=0.0.21->contractions) (0.1.7)\n"
          ],
          "name": "stdout"
        }
      ]
    },
    {
      "cell_type": "code",
      "metadata": {
        "colab": {
          "base_uri": "https://localhost:8080/"
        },
        "id": "jv_9Sh16HBA2",
        "outputId": "fd25788d-7e9c-439a-b063-ec77c04a8acb"
      },
      "source": [
        "print('Before : ', train[\"comment_text\"][17000])\n",
        "print('\\n~~~~~~~~~~~~~~~~~Preprocessed~~~~~~~~~~~~~~~~~~~~~~~\\n')\n",
        "print('After  : ', train[\"preprocessed_text\"][17000])"
      ],
      "execution_count": null,
      "outputs": [
        {
          "output_type": "stream",
          "text": [
            "Before :  \"\n",
            "\n",
            "Ohh, I didn't thought that situation is that bad you being gay. I'm sorry for you fagg.\n",
            "    —Preceding unsigned comment added by 95.68.45.58   \"\n",
            "\n",
            "~~~~~~~~~~~~~~~~~Preprocessed~~~~~~~~~~~~~~~~~~~~~~~\n",
            "\n",
            "After  :  \"\n",
            "\n",
            "ohh, i did not thought that situation is that bad you being gay. I am sorry for you fagg.\n",
            "    —preceding unsigned comment added by 95.68.45.58   \"\n"
          ],
          "name": "stdout"
        }
      ]
    },
    {
      "cell_type": "markdown",
      "metadata": {
        "id": "InDCvpshHQPW"
      },
      "source": [
        "-------------"
      ]
    },
    {
      "cell_type": "markdown",
      "metadata": {
        "id": "5ysc0FoU98n-"
      },
      "source": [
        "## Remove URLs"
      ]
    },
    {
      "cell_type": "code",
      "metadata": {
        "id": "nLxkV1XmHMBV"
      },
      "source": [
        "train[\"preprocessed_text\"] = train[\"preprocessed_text\"].apply(lambda x: re.sub(r\"https?://\\S+|www\\.\\S+\", \" \", x))\n",
        "test[\"preprocessed_text\"] = test[\"preprocessed_text\"].apply(lambda x: re.sub(r\"https?://\\S+|www\\.\\S+\", \" \", x))"
      ],
      "execution_count": null,
      "outputs": []
    },
    {
      "cell_type": "code",
      "metadata": {
        "colab": {
          "base_uri": "https://localhost:8080/"
        },
        "id": "zf30pAEmHiyL",
        "outputId": "006e63c5-11c1-48d7-b235-4a752355b6bf"
      },
      "source": [
        "print('Before : ', train[\"comment_text\"][228])\n",
        "print('\\n~~~~~~~~~~~~~~~~~Preprocessed~~~~~~~~~~~~~~~~~~~~~~~\\n')\n",
        "print('After  : ', train[\"preprocessed_text\"][228])"
      ],
      "execution_count": null,
      "outputs": [
        {
          "output_type": "stream",
          "text": [
            "Before :  http://www.users.bigpond.com/MONTDALE/page8.html  Heritage from village Κρανιώνας in macedonian Дреновени. Sources claim that the village was pure Slavic.\n",
            "\n",
            "~~~~~~~~~~~~~~~~~Preprocessed~~~~~~~~~~~~~~~~~~~~~~~\n",
            "\n",
            "After  :     heritage from village κρανιώνας in macedonian дреновени. sources claim that the village was pure slavic.\n"
          ],
          "name": "stdout"
        }
      ]
    },
    {
      "cell_type": "markdown",
      "metadata": {
        "id": "GHMIQRfOIP_X"
      },
      "source": [
        "---------"
      ]
    },
    {
      "cell_type": "markdown",
      "metadata": {
        "id": "Hq7z3pjPIRZ_"
      },
      "source": [
        "## Remove HTML tags"
      ]
    },
    {
      "cell_type": "code",
      "metadata": {
        "id": "1KSDVY4IH0Ws"
      },
      "source": [
        "train[\"preprocessed_text\"] = train[\"preprocessed_text\"].apply(lambda x: re.sub(r\"<.*?>|&([a-z0-9]+|#[0-9]{1,6}|#x[0-9a-f]{1,6});\", \" \", x))\n",
        "test[\"preprocessed_text\"] = test[\"preprocessed_text\"].apply(lambda x: re.sub(r\"<.*?>|&([a-z0-9]+|#[0-9]{1,6}|#x[0-9a-f]{1,6});\", \" \", x))"
      ],
      "execution_count": null,
      "outputs": []
    },
    {
      "cell_type": "code",
      "metadata": {
        "colab": {
          "base_uri": "https://localhost:8080/"
        },
        "id": "6O3th9sDJCoU",
        "outputId": "aa2e1063-c4ed-4247-cd97-8859cec9cb9c"
      },
      "source": [
        "print('Before : ', train[\"comment_text\"][109313][:50])\n",
        "print('\\n~~~~~~~~~~~~~~~~~Preprocessed~~~~~~~~~~~~~~~~~~~~~~~\\n')\n",
        "print('After  : ', train[\"preprocessed_text\"][109313][:50])"
      ],
      "execution_count": null,
      "outputs": [
        {
          "output_type": "stream",
          "text": [
            "Before :  \"\n",
            " < Archive 6 Archive 7 Archive 8 >\n",
            "\n",
            "\n",
            " Vandalism \n",
            "\n",
            "~~~~~~~~~~~~~~~~~Preprocessed~~~~~~~~~~~~~~~~~~~~~~~\n",
            "\n",
            "After  :  \"\n",
            "  \n",
            "\n",
            "\n",
            " vandalism \n",
            "why? to lower your wikistress!!\n"
          ],
          "name": "stdout"
        }
      ]
    },
    {
      "cell_type": "markdown",
      "metadata": {
        "id": "ls_8Ev0uNMh8"
      },
      "source": [
        "------------"
      ]
    },
    {
      "cell_type": "markdown",
      "metadata": {
        "id": "9QKmZjQlNO8j"
      },
      "source": [
        "## Remove Non-ASCI"
      ]
    },
    {
      "cell_type": "code",
      "metadata": {
        "id": "81umYmsdKkgE"
      },
      "source": [
        "train[\"preprocessed_text\"] = train[\"preprocessed_text\"].apply(lambda x: re.sub(r'[^\\x00-\\x7f]',' ', x))\n",
        "test[\"preprocessed_text\"] = test[\"preprocessed_text\"].apply(lambda x: re.sub(r'[^\\x00-\\x7f]',' ', x))"
      ],
      "execution_count": null,
      "outputs": []
    },
    {
      "cell_type": "code",
      "metadata": {
        "colab": {
          "base_uri": "https://localhost:8080/"
        },
        "id": "MTea9xhZNT1d",
        "outputId": "b0b318ce-aff9-410d-c37e-c9b9701c0c29"
      },
      "source": [
        "print('Before : ', train[\"comment_text\"][144169])\n",
        "print('\\n~~~~~~~~~~~~~~~~~Preprocessed~~~~~~~~~~~~~~~~~~~~~~~\\n')\n",
        "print('After  : ', train[\"preprocessed_text\"][144169])"
      ],
      "execution_count": null,
      "outputs": [
        {
          "output_type": "stream",
          "text": [
            "Before :  \"\n",
            "\n",
            "I SEE HERE THIS TEAM IS PRESENTED AS \"\"Черноморeц\"\", NOT \"\"Чорноморець\"\" AS YOU CLAIM. Furthermore, the registered site (under \"\".ua\"\" tld) is \"\"chernomorets\"\". \"\n",
            "\n",
            "~~~~~~~~~~~~~~~~~Preprocessed~~~~~~~~~~~~~~~~~~~~~~~\n",
            "\n",
            "After  :  \"\n",
            "\n",
            "i see here this team is presented as \"\"        e \"\", not \"\"           \"\" as you claim. furthermore, the registered site (under \"\".ua\"\" tld) is \"\"chernomorets\"\". \"\n"
          ],
          "name": "stdout"
        }
      ]
    },
    {
      "cell_type": "code",
      "metadata": {
        "colab": {
          "base_uri": "https://localhost:8080/"
        },
        "id": "5JMIt3b8QvOT",
        "outputId": "3e86eafe-4a31-4ac2-b4a0-148ddeb34f73"
      },
      "source": [
        "print('Before : ', train[\"comment_text\"][8468])\n",
        "print('\\n~~~~~~~~~~~~~~~~~Preprocessed~~~~~~~~~~~~~~~~~~~~~~~\\n')\n",
        "print('After  : ', train[\"preprocessed_text\"][8468])"
      ],
      "execution_count": null,
      "outputs": [
        {
          "output_type": "stream",
          "text": [
            "Before :  \"\n",
            "Much content was dubiously changed and made what appeared to be changes to fundamental content of the article that appeared dubious to me.  That coupled with the lack of an informative edit summary I felt that the large scale changing of unsourced and unexplained content was possible vandalism.  Because I was not sure I did not warn you and let you explain your edit.\n",
            "<3  ♪ Talk ♪  ߷  ♀ Contribs ♀\"\n",
            "\n",
            "~~~~~~~~~~~~~~~~~Preprocessed~~~~~~~~~~~~~~~~~~~~~~~\n",
            "\n",
            "After  :  \"\n",
            "much content was dubiously changed and made what appeared to be changes to fundamental content of the article that appeared dubious to me.  that coupled with the lack of an informative edit summary i felt that the large scale changing of unsourced and unexplained content was possible vandalism.  because i was not sure i did not warn you and let you explain your edit.\n",
            "<3    talk         contribs  \"\n"
          ],
          "name": "stdout"
        }
      ]
    },
    {
      "cell_type": "markdown",
      "metadata": {
        "id": "lbElAK9JNlvc"
      },
      "source": [
        "---------------"
      ]
    },
    {
      "cell_type": "markdown",
      "metadata": {
        "id": "K8rfyY75Nm6L"
      },
      "source": [
        "## Remove punctuations"
      ]
    },
    {
      "cell_type": "code",
      "metadata": {
        "id": "TDMMgCXjNZ-K"
      },
      "source": [
        "train[\"preprocessed_text\"] = train[\"preprocessed_text\"].apply(lambda x: re.sub(r'[]!\"$%&\\'()*+,./:;=#@?[\\\\^_`{|}~-]+', \" \", x))\n",
        "test[\"preprocessed_text\"] = test[\"preprocessed_text\"].apply(lambda x: re.sub(r'[]!\"$%&\\'()*+,./:;=#@?[\\\\^_`{|}~-]+', \" \", x))"
      ],
      "execution_count": null,
      "outputs": []
    },
    {
      "cell_type": "code",
      "metadata": {
        "colab": {
          "base_uri": "https://localhost:8080/"
        },
        "id": "lsso9dDINuYP",
        "outputId": "f83eb80d-9d78-48c2-cd22-ee6127a6ee3b"
      },
      "source": [
        "print('Before : ', train[\"comment_text\"][8580][:200])\n",
        "print('\\n~~~~~~~~~~~~~~~~~Preprocessed~~~~~~~~~~~~~~~~~~~~~~~\\n')\n",
        "print('After  : ', train[\"preprocessed_text\"][8580][:200])"
      ],
      "execution_count": null,
      "outputs": [
        {
          "output_type": "stream",
          "text": [
            "Before :  \"]]\n",
            "|}\n",
            "\n",
            "Semana 9: La Gran Final\n",
            ";orden de marcha\n",
            "{| class=\"\"wikitable\"\" style=\"\"width:80%;\"\"\n",
            "|-\n",
            "! Pareja\n",
            "! Puntaje\n",
            "! Danza\n",
            "! Musica\n",
            "! Result.\n",
            "|-\n",
            "| rowspan=3|Kristi & Mark\n",
            "| \n",
            "| Cha-cha-cha\n",
            "| \"\"Dancing \n",
            "\n",
            "~~~~~~~~~~~~~~~~~Preprocessed~~~~~~~~~~~~~~~~~~~~~~~\n",
            "\n",
            "After  :   \n",
            " \n",
            "\n",
            "semana 9  la gran final\n",
            " orden de marcha\n",
            "  class wikitable  style width 80 \n",
            " \n",
            "  pareja\n",
            "  puntaje\n",
            "  danza\n",
            "  musica\n",
            "  result \n",
            " \n",
            "  rowspan 3 kristi   mark\n",
            "  \n",
            "  cha cha cha\n",
            "   dancing on the ceiling \n"
          ],
          "name": "stdout"
        }
      ]
    },
    {
      "cell_type": "markdown",
      "metadata": {
        "id": "RLUTePWOOJEr"
      },
      "source": [
        "------------------"
      ]
    },
    {
      "cell_type": "markdown",
      "metadata": {
        "id": "St3bUgMpOKdz"
      },
      "source": [
        "## Capitalization / Lower case"
      ]
    },
    {
      "cell_type": "code",
      "metadata": {
        "id": "jUFTfF5gNxe6"
      },
      "source": [
        "train[\"preprocessed_text\"] = train[\"preprocessed_text\"].apply(lambda x: x.lower())\n",
        "test[\"preprocessed_text\"] = test[\"preprocessed_text\"].apply(lambda x: x.lower())"
      ],
      "execution_count": null,
      "outputs": []
    },
    {
      "cell_type": "code",
      "metadata": {
        "colab": {
          "base_uri": "https://localhost:8080/"
        },
        "id": "KKXzq58IORxZ",
        "outputId": "ee8b7afc-2e42-4902-d904-aed466c2f8b9"
      },
      "source": [
        "print('Before : ', train[\"comment_text\"][17000])\n",
        "print('\\n~~~~~~~~~~~~~~~~~Preprocessed~~~~~~~~~~~~~~~~~~~~~~~\\n')\n",
        "print('After  : ', train[\"preprocessed_text\"][17000])"
      ],
      "execution_count": null,
      "outputs": [
        {
          "output_type": "stream",
          "text": [
            "Before :  \"\n",
            "\n",
            "Ohh, I didn't thought that situation is that bad you being gay. I'm sorry for you fagg.\n",
            "    —Preceding unsigned comment added by 95.68.45.58   \"\n",
            "\n",
            "~~~~~~~~~~~~~~~~~Preprocessed~~~~~~~~~~~~~~~~~~~~~~~\n",
            "\n",
            "After  :   \n",
            "\n",
            "ohh  i did not thought that situation is that bad you being gay  i am sorry for you fagg \n",
            "     preceding unsigned comment added by 95 68 45 58    \n"
          ],
          "name": "stdout"
        }
      ]
    },
    {
      "cell_type": "markdown",
      "metadata": {
        "id": "PBbQ_HTyOaVM"
      },
      "source": [
        "---------------"
      ]
    },
    {
      "cell_type": "markdown",
      "metadata": {
        "id": "xqdQOqB6R_4D"
      },
      "source": [
        "## Remove stopwords"
      ]
    },
    {
      "cell_type": "code",
      "metadata": {
        "colab": {
          "base_uri": "https://localhost:8080/"
        },
        "id": "1i9uD-0GOUJh",
        "outputId": "8e64ac62-a441-4596-aa25-2cc2e4a3a9b3"
      },
      "source": [
        "import nltk\n",
        "nltk.download('stopwords')\n",
        "from nltk.corpus import stopwords\n",
        "stop = stopwords.words('english')\n",
        "train['preprocessed_text'] = train['preprocessed_text'].apply(lambda x: ' '.join([word for word in x.split() if word not in (stop)]))\n",
        "test['preprocessed_text'] = test['preprocessed_text'].apply(lambda x: ' '.join([word for word in x.split() if word not in (stop)]))"
      ],
      "execution_count": null,
      "outputs": [
        {
          "output_type": "stream",
          "text": [
            "[nltk_data] Downloading package stopwords to /root/nltk_data...\n",
            "[nltk_data]   Package stopwords is already up-to-date!\n"
          ],
          "name": "stdout"
        }
      ]
    },
    {
      "cell_type": "code",
      "metadata": {
        "colab": {
          "base_uri": "https://localhost:8080/"
        },
        "id": "wMtsgkh_SGpx",
        "outputId": "8d6621d3-92c8-463b-a3a2-2ececbc420dc"
      },
      "source": [
        "print('Before : ', train[\"comment_text\"][144242])\n",
        "print('\\n~~~~~~~~~~~~~~~~~Preprocessed~~~~~~~~~~~~~~~~~~~~~~~\\n')\n",
        "print('After  : ', train[\"preprocessed_text\"][144242])"
      ],
      "execution_count": null,
      "outputs": [
        {
          "output_type": "stream",
          "text": [
            "Before :  I Have Made Changes to the Images/Mosaic Discussion Section \n",
            "\n",
            "As you people have known, a huge edit war took place between I and some IP user from Britain, faking to be an embassy worker and a worker for the King of Spain. So here is a section, for discussions regarding the people on the mosaic and infobox simply to prevent another huge edit war from taking place. \n",
            "\n",
            "So, I have added Sultan Kudarat in favor of José María of Manila, since is he the only Philippine national hero from the Moro region. Additionally I have also added Said Basher albeit he is a national Islamic imam, in to accompany the existing Roman Catholic priests (San Pedro Calungsod and Francisca del Espíritu Santo Fuentes). This equalizes it, two Roman Catholics and two Muslims. \n",
            "\n",
            "Also, I have put Jesús A. Villamor since he was a prominent Filipino fighter during World War II. \n",
            "\n",
            "Any opposing opinions, objections should be discussed on this section.   PacificWarrior101\n",
            "\n",
            "~~~~~~~~~~~~~~~~~Preprocessed~~~~~~~~~~~~~~~~~~~~~~~\n",
            "\n",
            "After  :  made changes images mosaic discussion section people known huge edit war took place ip user britain faking embassy worker worker king spain section discussions regarding people mosaic infobox simply prevent another huge edit war taking place added sultan kudarat favor jos mar manila since philippine national hero moro region additionally also added said basher albeit national islamic imam accompany existing roman catholic priests san pedro calungsod francisca del esp ritu santo fuentes equalizes two roman catholics two muslims also put jes villamor since prominent filipino fighter world war ii opposing opinions objections discussed section pacificwarrior101\n"
          ],
          "name": "stdout"
        }
      ]
    },
    {
      "cell_type": "markdown",
      "metadata": {
        "id": "1DMXpaPLpXFk"
      },
      "source": [
        "# 전처리 해서 0되면 기존 문장 사용\n"
      ]
    },
    {
      "cell_type": "code",
      "metadata": {
        "id": "VIHWzNHXpb9C"
      },
      "source": [
        "train['preprocessed'] = train.apply(lambda x: x['comment_text'] if len(x['preprocessed_text'].split())==0 else x['preprocessed_text'],axis=1)\n",
        "test['preprocessed'] = test.apply(lambda x: x['comment_text'] if len(x['preprocessed_text'].split())==0 else x['preprocessed_text'],axis=1)"
      ],
      "execution_count": null,
      "outputs": []
    },
    {
      "cell_type": "code",
      "metadata": {
        "colab": {
          "base_uri": "https://localhost:8080/"
        },
        "id": "03l1jbrFr3P0",
        "outputId": "42909f03-0349-41f1-dcd0-521f07efc702"
      },
      "source": [
        "print('기존     ', test['comment_text'][147907])\n",
        "print('전처리 후',test['preprocessed_text'][147907])\n",
        "\n",
        "print('기존 사용', test['preprocessed'][147907])"
      ],
      "execution_count": null,
      "outputs": [
        {
          "output_type": "stream",
          "text": [
            "기존      □□□□□■□□□□□■■■■■■■□■□□□■□□□□ \n",
            "  □□□□■□■□□□□■□□□□□■□■□□□■□□□□ \n",
            "  □□□■□■□■□□□■□□□□□■□■□■■■■■□□ \n",
            "  □□■□□□■□■□□■□□□□□■□■□□□■□□□□ \n",
            "  □■□■■■■■□■□■■■■■■■□■□□□■□□□□ \n",
            "  □□□□□□□■□□□■□□□□□■□■□□■■■□□□ \n",
            "  □□□□□□■□□□□■□□□□□■□■□■□■□■□□ \n",
            "  □□□□□■□□□□□■■■■■■■□■□□■□□■□□\n",
            "전처리 후 \n",
            "기존 사용 □□□□□■□□□□□■■■■■■■□■□□□■□□□□ \n",
            "  □□□□■□■□□□□■□□□□□■□■□□□■□□□□ \n",
            "  □□□■□■□■□□□■□□□□□■□■□■■■■■□□ \n",
            "  □□■□□□■□■□□■□□□□□■□■□□□■□□□□ \n",
            "  □■□■■■■■□■□■■■■■■■□■□□□■□□□□ \n",
            "  □□□□□□□■□□□■□□□□□■□■□□■■■□□□ \n",
            "  □□□□□□■□□□□■□□□□□■□■□■□■□■□□ \n",
            "  □□□□□■□□□□□■■■■■■■□■□□■□□■□□\n"
          ],
          "name": "stdout"
        }
      ]
    },
    {
      "cell_type": "markdown",
      "metadata": {
        "id": "cTV1-UuK-Qo1"
      },
      "source": [
        "-------------------"
      ]
    },
    {
      "cell_type": "markdown",
      "metadata": {
        "id": "FRo31eo1xtAa"
      },
      "source": [
        "----------------"
      ]
    },
    {
      "cell_type": "markdown",
      "metadata": {
        "id": "Pjg_1RsHxubm"
      },
      "source": [
        "# 20개 랜덤 관찰을 통해 추가 전처리 요소 확인"
      ]
    },
    {
      "cell_type": "code",
      "metadata": {
        "id": "2nHxGMaRS3Xr"
      },
      "source": [
        "for i in range(10):\n",
        "  bong = np.random.randint(159571)\n",
        "  print(i,'번째 Before : ', train[\"comment_text\"][bong])\n",
        "  print('\\n~~~~~~~~~~~~~~~~~Preprocessed~~~~~~~~~~~~~~~~~~~~~~~\\n')\n",
        "  print('\\n~~~~~~~~~~~~~~~~~Preprocessed~~~~~~~~~~~~~~~~~~~~~~~\\n')\n",
        "  print(i,'번째 After  : ', train[\"preprocessed_text\"][bong])\n",
        "  print('-------------------------------------------------------------------------------------------------')"
      ],
      "execution_count": null,
      "outputs": []
    },
    {
      "cell_type": "code",
      "metadata": {
        "id": "Wnj3CTBjyr2Y"
      },
      "source": [
        "for i in range(10):\n",
        "  bong = np.random.randint(153164)\n",
        "  print(i,'번째' ,bong, ' Before : ', test[\"comment_text\"][bong])\n",
        "  print('\\n~~~~~~~~~~~~~~~~~Preprocessed~~~~~~~~~~~~~~~~~~~~~~~\\n')\n",
        "  print('\\n~~~~~~~~~~~~~~~~~Preprocessed~~~~~~~~~~~~~~~~~~~~~~~\\n')\n",
        "  print(i,'번째' ,bong, ' After  : ', test[\"preprocessed_text\"][bong])\n",
        "  print('-------------------------------------------------------------------------------------------------')"
      ],
      "execution_count": null,
      "outputs": []
    },
    {
      "cell_type": "markdown",
      "metadata": {
        "id": "uNg8gF4H5Oqn"
      },
      "source": [
        "# 2단어 이하로 전처리 된 문장 관찰\n",
        "\n",
        "\n",
        "*   영어 말고 다른 언어\n",
        "*   단어가 원래 짧은 거 \n",
        "\n"
      ]
    },
    {
      "cell_type": "code",
      "metadata": {
        "colab": {
          "base_uri": "https://localhost:8080/"
        },
        "id": "9cTPAL7z1JyH",
        "outputId": "00291fc2-26a9-4e52-decf-b40fa782075e"
      },
      "source": [
        "tooshort = list()\n",
        "for i, s in enumerate(test['preprocessed_text']):\n",
        "  if len(s.split()) < 3:\n",
        "    tooshort.append(i)\n",
        "\n",
        "print(len(tooshort))\n",
        "for i in range(20):\n",
        "  r = np.random.randint(len(tooshort))\n",
        "  print(i,'번째' ,tooshort[r], ' Before : ', test[\"comment_text\"][tooshort[r]])\n",
        "  print('\\n~~~~~~~~~~~~~~~~~Preprocessed~~~~~~~~~~~~~~~~~~~~~~~\\n')\n",
        "  print('\\n~~~~~~~~~~~~~~~~~Preprocessed~~~~~~~~~~~~~~~~~~~~~~~\\n')\n",
        "  print(i,'번째' ,tooshort[r], ' After  : ', test[\"preprocessed_text\"][tooshort[r]])\n",
        "  print('-------------------------------------------------------------------------------------------------')"
      ],
      "execution_count": null,
      "outputs": [
        {
          "output_type": "stream",
          "text": [
            "7169\n",
            "0 번째 37944  Before :  suck my dick!!\n",
            "\n",
            "~~~~~~~~~~~~~~~~~Preprocessed~~~~~~~~~~~~~~~~~~~~~~~\n",
            "\n",
            "\n",
            "~~~~~~~~~~~~~~~~~Preprocessed~~~~~~~~~~~~~~~~~~~~~~~\n",
            "\n",
            "0 번째 37944  After  :  suck dick\n",
            "-------------------------------------------------------------------------------------------------\n",
            "1 번째 125771  Before :  *IMDB is crap.\n",
            "\n",
            "~~~~~~~~~~~~~~~~~Preprocessed~~~~~~~~~~~~~~~~~~~~~~~\n",
            "\n",
            "\n",
            "~~~~~~~~~~~~~~~~~Preprocessed~~~~~~~~~~~~~~~~~~~~~~~\n",
            "\n",
            "1 번째 125771  After  :  imdb crap\n",
            "-------------------------------------------------------------------------------------------------\n",
            "2 번째 121539  Before :  Rgds,\n",
            "\n",
            "~~~~~~~~~~~~~~~~~Preprocessed~~~~~~~~~~~~~~~~~~~~~~~\n",
            "\n",
            "\n",
            "~~~~~~~~~~~~~~~~~Preprocessed~~~~~~~~~~~~~~~~~~~~~~~\n",
            "\n",
            "2 번째 121539  After  :  rgds\n",
            "-------------------------------------------------------------------------------------------------\n",
            "3 번째 27973  Before :  his support for Palestinians\n",
            "\n",
            "~~~~~~~~~~~~~~~~~Preprocessed~~~~~~~~~~~~~~~~~~~~~~~\n",
            "\n",
            "\n",
            "~~~~~~~~~~~~~~~~~Preprocessed~~~~~~~~~~~~~~~~~~~~~~~\n",
            "\n",
            "3 번째 27973  After  :  support palestinians\n",
            "-------------------------------------------------------------------------------------------------\n",
            "4 번째 115601  Before :  :I've replied back. ) ''''\n",
            "\n",
            "~~~~~~~~~~~~~~~~~Preprocessed~~~~~~~~~~~~~~~~~~~~~~~\n",
            "\n",
            "\n",
            "~~~~~~~~~~~~~~~~~Preprocessed~~~~~~~~~~~~~~~~~~~~~~~\n",
            "\n",
            "4 번째 115601  After  :  replied back\n",
            "-------------------------------------------------------------------------------------------------\n",
            "5 번째 75789  Before :  ::Glad to help.\n",
            "\n",
            "~~~~~~~~~~~~~~~~~Preprocessed~~~~~~~~~~~~~~~~~~~~~~~\n",
            "\n",
            "\n",
            "~~~~~~~~~~~~~~~~~Preprocessed~~~~~~~~~~~~~~~~~~~~~~~\n",
            "\n",
            "5 번째 75789  After  :  glad help\n",
            "-------------------------------------------------------------------------------------------------\n",
            "6 번째 112009  Before :  inspire such a backlash\n",
            "\n",
            "~~~~~~~~~~~~~~~~~Preprocessed~~~~~~~~~~~~~~~~~~~~~~~\n",
            "\n",
            "\n",
            "~~~~~~~~~~~~~~~~~Preprocessed~~~~~~~~~~~~~~~~~~~~~~~\n",
            "\n",
            "6 번째 112009  After  :  inspire backlash\n",
            "-------------------------------------------------------------------------------------------------\n",
            "7 번째 51345  Before :  I will not waste my time with you again.\n",
            "\n",
            "~~~~~~~~~~~~~~~~~Preprocessed~~~~~~~~~~~~~~~~~~~~~~~\n",
            "\n",
            "\n",
            "~~~~~~~~~~~~~~~~~Preprocessed~~~~~~~~~~~~~~~~~~~~~~~\n",
            "\n",
            "7 번째 51345  After  :  waste time\n",
            "-------------------------------------------------------------------------------------------------\n",
            "8 번째 111215  Before :  ::Thank you ! )\n",
            "\n",
            "~~~~~~~~~~~~~~~~~Preprocessed~~~~~~~~~~~~~~~~~~~~~~~\n",
            "\n",
            "\n",
            "~~~~~~~~~~~~~~~~~Preprocessed~~~~~~~~~~~~~~~~~~~~~~~\n",
            "\n",
            "8 번째 111215  After  :  thank\n",
            "-------------------------------------------------------------------------------------------------\n",
            "9 번째 81840  Before :  ****I am an admin\n",
            "\n",
            "~~~~~~~~~~~~~~~~~Preprocessed~~~~~~~~~~~~~~~~~~~~~~~\n",
            "\n",
            "\n",
            "~~~~~~~~~~~~~~~~~Preprocessed~~~~~~~~~~~~~~~~~~~~~~~\n",
            "\n",
            "9 번째 81840  After  :  admin\n",
            "-------------------------------------------------------------------------------------------------\n",
            "10 번째 10067  Before :  खेती विकास प्रकल्प \n",
            "     ग्रामविकास योजना \n",
            "     रोजगार प्रशिक्षण उपक्रम\n",
            "\n",
            "~~~~~~~~~~~~~~~~~Preprocessed~~~~~~~~~~~~~~~~~~~~~~~\n",
            "\n",
            "\n",
            "~~~~~~~~~~~~~~~~~Preprocessed~~~~~~~~~~~~~~~~~~~~~~~\n",
            "\n",
            "10 번째 10067  After  :  \n",
            "-------------------------------------------------------------------------------------------------\n",
            "11 번째 38325  Before :  by collaborating with\n",
            "\n",
            "~~~~~~~~~~~~~~~~~Preprocessed~~~~~~~~~~~~~~~~~~~~~~~\n",
            "\n",
            "\n",
            "~~~~~~~~~~~~~~~~~Preprocessed~~~~~~~~~~~~~~~~~~~~~~~\n",
            "\n",
            "11 번째 38325  After  :  collaborating\n",
            "-------------------------------------------------------------------------------------------------\n",
            "12 번째 47874  Before :  == July 2011 ==\n",
            "\n",
            "~~~~~~~~~~~~~~~~~Preprocessed~~~~~~~~~~~~~~~~~~~~~~~\n",
            "\n",
            "\n",
            "~~~~~~~~~~~~~~~~~Preprocessed~~~~~~~~~~~~~~~~~~~~~~~\n",
            "\n",
            "12 번째 47874  After  :  july 2011\n",
            "-------------------------------------------------------------------------------------------------\n",
            "13 번째 91083  Before :  \" \n",
            " :Sure, commented.  () \"\n",
            "\n",
            "~~~~~~~~~~~~~~~~~Preprocessed~~~~~~~~~~~~~~~~~~~~~~~\n",
            "\n",
            "\n",
            "~~~~~~~~~~~~~~~~~Preprocessed~~~~~~~~~~~~~~~~~~~~~~~\n",
            "\n",
            "13 번째 91083  After  :  sure commented\n",
            "-------------------------------------------------------------------------------------------------\n",
            "14 번째 40462  Before :  .Anedoctal: , , dozens more\n",
            "\n",
            "~~~~~~~~~~~~~~~~~Preprocessed~~~~~~~~~~~~~~~~~~~~~~~\n",
            "\n",
            "\n",
            "~~~~~~~~~~~~~~~~~Preprocessed~~~~~~~~~~~~~~~~~~~~~~~\n",
            "\n",
            "14 번째 40462  After  :  anedoctal dozens\n",
            "-------------------------------------------------------------------------------------------------\n",
            "15 번째 34348  Before :  Agrreed\n",
            "\n",
            "~~~~~~~~~~~~~~~~~Preprocessed~~~~~~~~~~~~~~~~~~~~~~~\n",
            "\n",
            "\n",
            "~~~~~~~~~~~~~~~~~Preprocessed~~~~~~~~~~~~~~~~~~~~~~~\n",
            "\n",
            "15 번째 34348  After  :  agrreed\n",
            "-------------------------------------------------------------------------------------------------\n",
            "16 번째 46798  Before :  \" \n",
            " : Is working as of today.  \"\n",
            "\n",
            "~~~~~~~~~~~~~~~~~Preprocessed~~~~~~~~~~~~~~~~~~~~~~~\n",
            "\n",
            "\n",
            "~~~~~~~~~~~~~~~~~Preprocessed~~~~~~~~~~~~~~~~~~~~~~~\n",
            "\n",
            "16 번째 46798  After  :  working today\n",
            "-------------------------------------------------------------------------------------------------\n",
            "17 번째 28601  Before :  :That's gross bullshit.\n",
            "\n",
            "~~~~~~~~~~~~~~~~~Preprocessed~~~~~~~~~~~~~~~~~~~~~~~\n",
            "\n",
            "\n",
            "~~~~~~~~~~~~~~~~~Preprocessed~~~~~~~~~~~~~~~~~~~~~~~\n",
            "\n",
            "17 번째 28601  After  :  gross bullshit\n",
            "-------------------------------------------------------------------------------------------------\n",
            "18 번째 98996  Before :  :::Excellent.\n",
            "\n",
            "~~~~~~~~~~~~~~~~~Preprocessed~~~~~~~~~~~~~~~~~~~~~~~\n",
            "\n",
            "\n",
            "~~~~~~~~~~~~~~~~~Preprocessed~~~~~~~~~~~~~~~~~~~~~~~\n",
            "\n",
            "18 번째 98996  After  :  excellent\n",
            "-------------------------------------------------------------------------------------------------\n",
            "19 번째 123641  Before :  * Anything for you Sandy!\n",
            "\n",
            "~~~~~~~~~~~~~~~~~Preprocessed~~~~~~~~~~~~~~~~~~~~~~~\n",
            "\n",
            "\n",
            "~~~~~~~~~~~~~~~~~Preprocessed~~~~~~~~~~~~~~~~~~~~~~~\n",
            "\n",
            "19 번째 123641  After  :  anything sandy\n",
            "-------------------------------------------------------------------------------------------------\n"
          ],
          "name": "stdout"
        }
      ]
    },
    {
      "cell_type": "markdown",
      "metadata": {
        "id": "QYWkF3W85rGM"
      },
      "source": [
        "# 전처리 되어서 없어진 문장 관찰"
      ]
    },
    {
      "cell_type": "code",
      "metadata": {
        "colab": {
          "base_uri": "https://localhost:8080/",
          "height": 1000
        },
        "id": "ivGEGupdoy_y",
        "outputId": "1441368a-ea85-4b7b-96fd-fd8a8ce32a60"
      },
      "source": [
        "display(train[train['preprocessed_text'].str.len()==0])\n",
        "print(train[train['preprocessed_text'].str.len()==0].shape)"
      ],
      "execution_count": null,
      "outputs": [
        {
          "output_type": "display_data",
          "data": {
            "text/html": [
              "<div>\n",
              "<style scoped>\n",
              "    .dataframe tbody tr th:only-of-type {\n",
              "        vertical-align: middle;\n",
              "    }\n",
              "\n",
              "    .dataframe tbody tr th {\n",
              "        vertical-align: top;\n",
              "    }\n",
              "\n",
              "    .dataframe thead th {\n",
              "        text-align: right;\n",
              "    }\n",
              "</style>\n",
              "<table border=\"1\" class=\"dataframe\">\n",
              "  <thead>\n",
              "    <tr style=\"text-align: right;\">\n",
              "      <th></th>\n",
              "      <th>id</th>\n",
              "      <th>comment_text</th>\n",
              "      <th>toxic</th>\n",
              "      <th>severe_toxic</th>\n",
              "      <th>obscene</th>\n",
              "      <th>threat</th>\n",
              "      <th>insult</th>\n",
              "      <th>identity_hate</th>\n",
              "      <th>preprocessed_text</th>\n",
              "    </tr>\n",
              "  </thead>\n",
              "  <tbody>\n",
              "    <tr>\n",
              "      <th>2407</th>\n",
              "      <td>067638a445ccd93b</td>\n",
              "      <td>Here, here and here.</td>\n",
              "      <td>0</td>\n",
              "      <td>0</td>\n",
              "      <td>0</td>\n",
              "      <td>0</td>\n",
              "      <td>0</td>\n",
              "      <td>0</td>\n",
              "      <td></td>\n",
              "    </tr>\n",
              "    <tr>\n",
              "      <th>9395</th>\n",
              "      <td>18ed60f8e586bcbd</td>\n",
              "      <td>They do too.  their ... -</td>\n",
              "      <td>0</td>\n",
              "      <td>0</td>\n",
              "      <td>0</td>\n",
              "      <td>0</td>\n",
              "      <td>0</td>\n",
              "      <td>0</td>\n",
              "      <td></td>\n",
              "    </tr>\n",
              "    <tr>\n",
              "      <th>12414</th>\n",
              "      <td>20f1529e0c0734cb</td>\n",
              "      <td>You're just at it again!</td>\n",
              "      <td>0</td>\n",
              "      <td>0</td>\n",
              "      <td>0</td>\n",
              "      <td>0</td>\n",
              "      <td>0</td>\n",
              "      <td>0</td>\n",
              "      <td></td>\n",
              "    </tr>\n",
              "    <tr>\n",
              "      <th>19815</th>\n",
              "      <td>3452aa44f93b7ee1</td>\n",
              "      <td>(www.ebenefits.va.gov)</td>\n",
              "      <td>0</td>\n",
              "      <td>0</td>\n",
              "      <td>0</td>\n",
              "      <td>0</td>\n",
              "      <td>0</td>\n",
              "      <td>0</td>\n",
              "      <td></td>\n",
              "    </tr>\n",
              "    <tr>\n",
              "      <th>23095</th>\n",
              "      <td>3d09050e81205163</td>\n",
              "      <td>Where was it before?</td>\n",
              "      <td>0</td>\n",
              "      <td>0</td>\n",
              "      <td>0</td>\n",
              "      <td>0</td>\n",
              "      <td>0</td>\n",
              "      <td>0</td>\n",
              "      <td></td>\n",
              "    </tr>\n",
              "    <tr>\n",
              "      <th>26401</th>\n",
              "      <td>45e78dd7ff3c36c5</td>\n",
              "      <td>than just on/off such as on/off/</td>\n",
              "      <td>0</td>\n",
              "      <td>0</td>\n",
              "      <td>0</td>\n",
              "      <td>0</td>\n",
              "      <td>0</td>\n",
              "      <td>0</td>\n",
              "      <td></td>\n",
              "    </tr>\n",
              "    <tr>\n",
              "      <th>31072</th>\n",
              "      <td>528b079a22ccbfb0</td>\n",
              "      <td>!!!!!\\nWhat is all of this.</td>\n",
              "      <td>0</td>\n",
              "      <td>0</td>\n",
              "      <td>0</td>\n",
              "      <td>0</td>\n",
              "      <td>0</td>\n",
              "      <td>0</td>\n",
              "      <td></td>\n",
              "    </tr>\n",
              "    <tr>\n",
              "      <th>32019</th>\n",
              "      <td>5518511d0c3faa37</td>\n",
              "      <td>\"\\nNo, they DON'T!    \"</td>\n",
              "      <td>0</td>\n",
              "      <td>0</td>\n",
              "      <td>0</td>\n",
              "      <td>0</td>\n",
              "      <td>0</td>\n",
              "      <td>0</td>\n",
              "      <td></td>\n",
              "    </tr>\n",
              "    <tr>\n",
              "      <th>36755</th>\n",
              "      <td>6228f7166578f2b6</td>\n",
              "      <td>I wont do it again</td>\n",
              "      <td>0</td>\n",
              "      <td>0</td>\n",
              "      <td>0</td>\n",
              "      <td>0</td>\n",
              "      <td>0</td>\n",
              "      <td>0</td>\n",
              "      <td></td>\n",
              "    </tr>\n",
              "    <tr>\n",
              "      <th>38313</th>\n",
              "      <td>664baa9268a34574</td>\n",
              "      <td>what \\n\\nwhy did you do that!!</td>\n",
              "      <td>0</td>\n",
              "      <td>0</td>\n",
              "      <td>0</td>\n",
              "      <td>0</td>\n",
              "      <td>0</td>\n",
              "      <td>0</td>\n",
              "      <td></td>\n",
              "    </tr>\n",
              "    <tr>\n",
              "      <th>41648</th>\n",
              "      <td>6f164135cb541433</td>\n",
              "      <td>[   ]\\nhttp://www.smallholder.co.uk/news/87898...</td>\n",
              "      <td>0</td>\n",
              "      <td>0</td>\n",
              "      <td>0</td>\n",
              "      <td>0</td>\n",
              "      <td>0</td>\n",
              "      <td>0</td>\n",
              "      <td></td>\n",
              "    </tr>\n",
              "    <tr>\n",
              "      <th>58603</th>\n",
              "      <td>9cf831a216d88813</td>\n",
              "      <td>\"\\n\\nAnd so what's this?\\n\"</td>\n",
              "      <td>0</td>\n",
              "      <td>0</td>\n",
              "      <td>0</td>\n",
              "      <td>0</td>\n",
              "      <td>0</td>\n",
              "      <td>0</td>\n",
              "      <td></td>\n",
              "    </tr>\n",
              "    <tr>\n",
              "      <th>63104</th>\n",
              "      <td>a8d709deb153d952</td>\n",
              "      <td>http://www.everytopicintheuniverseexceptchicke...</td>\n",
              "      <td>0</td>\n",
              "      <td>0</td>\n",
              "      <td>0</td>\n",
              "      <td>0</td>\n",
              "      <td>0</td>\n",
              "      <td>0</td>\n",
              "      <td></td>\n",
              "    </tr>\n",
              "    <tr>\n",
              "      <th>64304</th>\n",
              "      <td>ac14106a1572f89f</td>\n",
              "      <td>WHAT DID I D!!!!!!!!!!!!!!!!!!!!!O</td>\n",
              "      <td>0</td>\n",
              "      <td>0</td>\n",
              "      <td>0</td>\n",
              "      <td>0</td>\n",
              "      <td>0</td>\n",
              "      <td>0</td>\n",
              "      <td></td>\n",
              "    </tr>\n",
              "    <tr>\n",
              "      <th>64904</th>\n",
              "      <td>adac7518742a67c6</td>\n",
              "      <td>http://en.wikipedia.org/wiki/Wikipedia_talk:No...</td>\n",
              "      <td>0</td>\n",
              "      <td>0</td>\n",
              "      <td>0</td>\n",
              "      <td>0</td>\n",
              "      <td>0</td>\n",
              "      <td>0</td>\n",
              "      <td></td>\n",
              "    </tr>\n",
              "    <tr>\n",
              "      <th>68469</th>\n",
              "      <td>b725fb15145e7fd9</td>\n",
              "      <td>http://en.wikipedia.org/wiki/Towns_in_the_Form...</td>\n",
              "      <td>0</td>\n",
              "      <td>0</td>\n",
              "      <td>0</td>\n",
              "      <td>0</td>\n",
              "      <td>0</td>\n",
              "      <td>0</td>\n",
              "      <td></td>\n",
              "    </tr>\n",
              "    <tr>\n",
              "      <th>71720</th>\n",
              "      <td>c006239fbff791e0</td>\n",
              "      <td>No, they are not.</td>\n",
              "      <td>0</td>\n",
              "      <td>0</td>\n",
              "      <td>0</td>\n",
              "      <td>0</td>\n",
              "      <td>0</td>\n",
              "      <td>0</td>\n",
              "      <td></td>\n",
              "    </tr>\n",
              "    <tr>\n",
              "      <th>76037</th>\n",
              "      <td>cb865a14eb50f867</td>\n",
              "      <td>http://finance.yahoo.com/news/7-fascinating-nu...</td>\n",
              "      <td>0</td>\n",
              "      <td>0</td>\n",
              "      <td>0</td>\n",
              "      <td>0</td>\n",
              "      <td>0</td>\n",
              "      <td>0</td>\n",
              "      <td></td>\n",
              "    </tr>\n",
              "    <tr>\n",
              "      <th>78063</th>\n",
              "      <td>d0fa4b7ae7cf8baf</td>\n",
              "      <td>http://www.wwedaily.com/wp-content/uploads/200...</td>\n",
              "      <td>0</td>\n",
              "      <td>0</td>\n",
              "      <td>0</td>\n",
              "      <td>0</td>\n",
              "      <td>0</td>\n",
              "      <td>0</td>\n",
              "      <td></td>\n",
              "    </tr>\n",
              "    <tr>\n",
              "      <th>82232</th>\n",
              "      <td>dc05e79cd9a50e0d</td>\n",
              "      <td>have\\n               with them.</td>\n",
              "      <td>0</td>\n",
              "      <td>0</td>\n",
              "      <td>0</td>\n",
              "      <td>0</td>\n",
              "      <td>0</td>\n",
              "      <td>0</td>\n",
              "      <td></td>\n",
              "    </tr>\n",
              "    <tr>\n",
              "      <th>93867</th>\n",
              "      <td>fb0172f327cd8daa</td>\n",
              "      <td>, we all have our own,</td>\n",
              "      <td>0</td>\n",
              "      <td>0</td>\n",
              "      <td>0</td>\n",
              "      <td>0</td>\n",
              "      <td>0</td>\n",
              "      <td>0</td>\n",
              "      <td></td>\n",
              "    </tr>\n",
              "    <tr>\n",
              "      <th>93983</th>\n",
              "      <td>fb4e775f713d3f05</td>\n",
              "      <td>SHE IS SUCH A WHORE!!!!!!!!!!!!!!!!!!!!!!!</td>\n",
              "      <td>1</td>\n",
              "      <td>1</td>\n",
              "      <td>1</td>\n",
              "      <td>0</td>\n",
              "      <td>1</td>\n",
              "      <td>0</td>\n",
              "      <td></td>\n",
              "    </tr>\n",
              "    <tr>\n",
              "      <th>94038</th>\n",
              "      <td>fb78de723a337228</td>\n",
              "      <td>http://wikipediawehaveaproblem.com/evidence-of...</td>\n",
              "      <td>0</td>\n",
              "      <td>0</td>\n",
              "      <td>0</td>\n",
              "      <td>0</td>\n",
              "      <td>0</td>\n",
              "      <td>0</td>\n",
              "      <td></td>\n",
              "    </tr>\n",
              "    <tr>\n",
              "      <th>96375</th>\n",
              "      <td>037b05a61cc78d13</td>\n",
              "      <td>To \\nhttp://national-express-malaysia.blogspot...</td>\n",
              "      <td>0</td>\n",
              "      <td>0</td>\n",
              "      <td>0</td>\n",
              "      <td>0</td>\n",
              "      <td>0</td>\n",
              "      <td>0</td>\n",
              "      <td></td>\n",
              "    </tr>\n",
              "    <tr>\n",
              "      <th>106891</th>\n",
              "      <td>3b9f582321af808c</td>\n",
              "      <td>http://en.wikipedia.org/wiki/Wikipedia:ELYES</td>\n",
              "      <td>0</td>\n",
              "      <td>0</td>\n",
              "      <td>0</td>\n",
              "      <td>0</td>\n",
              "      <td>0</td>\n",
              "      <td>0</td>\n",
              "      <td></td>\n",
              "    </tr>\n",
              "    <tr>\n",
              "      <th>109581</th>\n",
              "      <td>4a30483c5c1ecec3</td>\n",
              "      <td>There, now will you D</td>\n",
              "      <td>0</td>\n",
              "      <td>0</td>\n",
              "      <td>0</td>\n",
              "      <td>0</td>\n",
              "      <td>0</td>\n",
              "      <td>0</td>\n",
              "      <td></td>\n",
              "    </tr>\n",
              "    <tr>\n",
              "      <th>109944</th>\n",
              "      <td>4c0bd38e3d1796d0</td>\n",
              "      <td>http://www.newswire.ca/fr/story/358197/domaine...</td>\n",
              "      <td>0</td>\n",
              "      <td>0</td>\n",
              "      <td>0</td>\n",
              "      <td>0</td>\n",
              "      <td>0</td>\n",
              "      <td>0</td>\n",
              "      <td></td>\n",
              "    </tr>\n",
              "    <tr>\n",
              "      <th>110514</th>\n",
              "      <td>4f43fc08d0b48b0f</td>\n",
              "      <td>\"\"\"WE WHO IS WE IT IS YOU\"\" ve\"</td>\n",
              "      <td>0</td>\n",
              "      <td>0</td>\n",
              "      <td>0</td>\n",
              "      <td>0</td>\n",
              "      <td>0</td>\n",
              "      <td>0</td>\n",
              "      <td></td>\n",
              "    </tr>\n",
              "    <tr>\n",
              "      <th>114172</th>\n",
              "      <td>62d249ccf9e47aac</td>\n",
              "      <td>\"\\nHow about that?.   ☥  \\n\"</td>\n",
              "      <td>0</td>\n",
              "      <td>0</td>\n",
              "      <td>0</td>\n",
              "      <td>0</td>\n",
              "      <td>0</td>\n",
              "      <td>0</td>\n",
              "      <td></td>\n",
              "    </tr>\n",
              "    <tr>\n",
              "      <th>116195</th>\n",
              "      <td>6d3f46047331b5b2</td>\n",
              "      <td>Will this do? http://th.wikipedia.org/wiki/%E0...</td>\n",
              "      <td>0</td>\n",
              "      <td>0</td>\n",
              "      <td>0</td>\n",
              "      <td>0</td>\n",
              "      <td>0</td>\n",
              "      <td>0</td>\n",
              "      <td></td>\n",
              "    </tr>\n",
              "    <tr>\n",
              "      <th>123442</th>\n",
              "      <td>9453c3fea5b96068</td>\n",
              "      <td>http://www.mediamonitors.net/edna47.html   htt...</td>\n",
              "      <td>0</td>\n",
              "      <td>0</td>\n",
              "      <td>0</td>\n",
              "      <td>0</td>\n",
              "      <td>0</td>\n",
              "      <td>0</td>\n",
              "      <td></td>\n",
              "    </tr>\n",
              "    <tr>\n",
              "      <th>124454</th>\n",
              "      <td>99c87b34227da6ff</td>\n",
              "      <td>What what what what is this ???</td>\n",
              "      <td>0</td>\n",
              "      <td>0</td>\n",
              "      <td>0</td>\n",
              "      <td>0</td>\n",
              "      <td>0</td>\n",
              "      <td>0</td>\n",
              "      <td></td>\n",
              "    </tr>\n",
              "    <tr>\n",
              "      <th>124619</th>\n",
              "      <td>9aa98f88036d0a66</td>\n",
              "      <td>And how do I do that?</td>\n",
              "      <td>0</td>\n",
              "      <td>0</td>\n",
              "      <td>0</td>\n",
              "      <td>0</td>\n",
              "      <td>0</td>\n",
              "      <td>0</td>\n",
              "      <td></td>\n",
              "    </tr>\n",
              "    <tr>\n",
              "      <th>126952</th>\n",
              "      <td>a6f752599189cf18</td>\n",
              "      <td>Why? \\n\\nWhy did you do that?</td>\n",
              "      <td>0</td>\n",
              "      <td>0</td>\n",
              "      <td>0</td>\n",
              "      <td>0</td>\n",
              "      <td>0</td>\n",
              "      <td>0</td>\n",
              "      <td></td>\n",
              "    </tr>\n",
              "    <tr>\n",
              "      <th>127051</th>\n",
              "      <td>a77d06582e543ab9</td>\n",
              "      <td>&lt; try reviewing it again. Will try to improve ...</td>\n",
              "      <td>0</td>\n",
              "      <td>0</td>\n",
              "      <td>0</td>\n",
              "      <td>0</td>\n",
              "      <td>0</td>\n",
              "      <td>0</td>\n",
              "      <td></td>\n",
              "    </tr>\n",
              "    <tr>\n",
              "      <th>129074</th>\n",
              "      <td>b2505fa456ab8895</td>\n",
              "      <td>What are you on about?</td>\n",
              "      <td>0</td>\n",
              "      <td>0</td>\n",
              "      <td>0</td>\n",
              "      <td>0</td>\n",
              "      <td>0</td>\n",
              "      <td>0</td>\n",
              "      <td></td>\n",
              "    </tr>\n",
              "    <tr>\n",
              "      <th>140477</th>\n",
              "      <td>efc3c00d27528857</td>\n",
              "      <td>what should i do? \\n\\n?????</td>\n",
              "      <td>0</td>\n",
              "      <td>0</td>\n",
              "      <td>0</td>\n",
              "      <td>0</td>\n",
              "      <td>0</td>\n",
              "      <td>0</td>\n",
              "      <td></td>\n",
              "    </tr>\n",
              "    <tr>\n",
              "      <th>141293</th>\n",
              "      <td>f3ea34b46e7bec23</td>\n",
              "      <td>http://www.haaretz.com/news/diplomacy-defense/...</td>\n",
              "      <td>0</td>\n",
              "      <td>0</td>\n",
              "      <td>0</td>\n",
              "      <td>0</td>\n",
              "      <td>0</td>\n",
              "      <td>0</td>\n",
              "      <td></td>\n",
              "    </tr>\n",
              "    <tr>\n",
              "      <th>143094</th>\n",
              "      <td>fd3d492e7a3ca27c</td>\n",
              "      <td>them both. That was just</td>\n",
              "      <td>0</td>\n",
              "      <td>0</td>\n",
              "      <td>0</td>\n",
              "      <td>0</td>\n",
              "      <td>0</td>\n",
              "      <td>0</td>\n",
              "      <td></td>\n",
              "    </tr>\n",
              "    <tr>\n",
              "      <th>147665</th>\n",
              "      <td>3ff4333a2976c327</td>\n",
              "      <td>http://www.world-pyramids.com/atr/usa/monkmoun...</td>\n",
              "      <td>0</td>\n",
              "      <td>0</td>\n",
              "      <td>0</td>\n",
              "      <td>0</td>\n",
              "      <td>0</td>\n",
              "      <td>0</td>\n",
              "      <td></td>\n",
              "    </tr>\n",
              "    <tr>\n",
              "      <th>147917</th>\n",
              "      <td>43b42cd46291d099</td>\n",
              "      <td>What is it and where is it?</td>\n",
              "      <td>0</td>\n",
              "      <td>0</td>\n",
              "      <td>0</td>\n",
              "      <td>0</td>\n",
              "      <td>0</td>\n",
              "      <td>0</td>\n",
              "      <td></td>\n",
              "    </tr>\n",
              "    <tr>\n",
              "      <th>153616</th>\n",
              "      <td>9fe2529bbf1aa64a</td>\n",
              "      <td>http://en.wikipedia.org/w/index.php?title=Cras...</td>\n",
              "      <td>0</td>\n",
              "      <td>0</td>\n",
              "      <td>0</td>\n",
              "      <td>0</td>\n",
              "      <td>0</td>\n",
              "      <td>0</td>\n",
              "      <td></td>\n",
              "    </tr>\n",
              "  </tbody>\n",
              "</table>\n",
              "</div>"
            ],
            "text/plain": [
              "                      id  ... preprocessed_text\n",
              "2407    067638a445ccd93b  ...                  \n",
              "9395    18ed60f8e586bcbd  ...                  \n",
              "12414   20f1529e0c0734cb  ...                  \n",
              "19815   3452aa44f93b7ee1  ...                  \n",
              "23095   3d09050e81205163  ...                  \n",
              "26401   45e78dd7ff3c36c5  ...                  \n",
              "31072   528b079a22ccbfb0  ...                  \n",
              "32019   5518511d0c3faa37  ...                  \n",
              "36755   6228f7166578f2b6  ...                  \n",
              "38313   664baa9268a34574  ...                  \n",
              "41648   6f164135cb541433  ...                  \n",
              "58603   9cf831a216d88813  ...                  \n",
              "63104   a8d709deb153d952  ...                  \n",
              "64304   ac14106a1572f89f  ...                  \n",
              "64904   adac7518742a67c6  ...                  \n",
              "68469   b725fb15145e7fd9  ...                  \n",
              "71720   c006239fbff791e0  ...                  \n",
              "76037   cb865a14eb50f867  ...                  \n",
              "78063   d0fa4b7ae7cf8baf  ...                  \n",
              "82232   dc05e79cd9a50e0d  ...                  \n",
              "93867   fb0172f327cd8daa  ...                  \n",
              "93983   fb4e775f713d3f05  ...                  \n",
              "94038   fb78de723a337228  ...                  \n",
              "96375   037b05a61cc78d13  ...                  \n",
              "106891  3b9f582321af808c  ...                  \n",
              "109581  4a30483c5c1ecec3  ...                  \n",
              "109944  4c0bd38e3d1796d0  ...                  \n",
              "110514  4f43fc08d0b48b0f  ...                  \n",
              "114172  62d249ccf9e47aac  ...                  \n",
              "116195  6d3f46047331b5b2  ...                  \n",
              "123442  9453c3fea5b96068  ...                  \n",
              "124454  99c87b34227da6ff  ...                  \n",
              "124619  9aa98f88036d0a66  ...                  \n",
              "126952  a6f752599189cf18  ...                  \n",
              "127051  a77d06582e543ab9  ...                  \n",
              "129074  b2505fa456ab8895  ...                  \n",
              "140477  efc3c00d27528857  ...                  \n",
              "141293  f3ea34b46e7bec23  ...                  \n",
              "143094  fd3d492e7a3ca27c  ...                  \n",
              "147665  3ff4333a2976c327  ...                  \n",
              "147917  43b42cd46291d099  ...                  \n",
              "153616  9fe2529bbf1aa64a  ...                  \n",
              "\n",
              "[42 rows x 9 columns]"
            ]
          },
          "metadata": {
            "tags": []
          }
        },
        {
          "output_type": "stream",
          "text": [
            "(42, 9)\n"
          ],
          "name": "stdout"
        }
      ]
    },
    {
      "cell_type": "code",
      "metadata": {
        "colab": {
          "base_uri": "https://localhost:8080/",
          "height": 416
        },
        "id": "xnYzbJPDokS4",
        "outputId": "dc6eca77-9a45-421e-d69d-53eb9d5ad27c"
      },
      "source": [
        "test[test['preprocessed_text'].str.len()==0]"
      ],
      "execution_count": null,
      "outputs": [
        {
          "output_type": "execute_result",
          "data": {
            "text/html": [
              "<div>\n",
              "<style scoped>\n",
              "    .dataframe tbody tr th:only-of-type {\n",
              "        vertical-align: middle;\n",
              "    }\n",
              "\n",
              "    .dataframe tbody tr th {\n",
              "        vertical-align: top;\n",
              "    }\n",
              "\n",
              "    .dataframe thead th {\n",
              "        text-align: right;\n",
              "    }\n",
              "</style>\n",
              "<table border=\"1\" class=\"dataframe\">\n",
              "  <thead>\n",
              "    <tr style=\"text-align: right;\">\n",
              "      <th></th>\n",
              "      <th>id</th>\n",
              "      <th>comment_text</th>\n",
              "      <th>preprocessed_text</th>\n",
              "    </tr>\n",
              "  </thead>\n",
              "  <tbody>\n",
              "    <tr>\n",
              "      <th>34</th>\n",
              "      <td>000d4f120d5a7303</td>\n",
              "      <td>일이삼사오육칠팔구하고십이요 에헤헤 으헤 으헤 으허허</td>\n",
              "      <td></td>\n",
              "    </tr>\n",
              "    <tr>\n",
              "      <th>114</th>\n",
              "      <td>002c586b0af3792c</td>\n",
              "      <td>পরিচয়   \\n\\n নাম-মোঃফরহাদ ইসলাম \\n পিতা-মোঃ শ...</td>\n",
              "      <td></td>\n",
              "    </tr>\n",
              "    <tr>\n",
              "      <th>119</th>\n",
              "      <td>003044a2c35274b6</td>\n",
              "      <td>السلام عليكم و رحمة الله و بركاته الا الجميع \\...</td>\n",
              "      <td></td>\n",
              "    </tr>\n",
              "    <tr>\n",
              "      <th>404</th>\n",
              "      <td>00ad0323d9b31f21</td>\n",
              "      <td>* I'll be there.   ,</td>\n",
              "      <td></td>\n",
              "    </tr>\n",
              "    <tr>\n",
              "      <th>419</th>\n",
              "      <td>00b568d3b0f61a37</td>\n",
              "      <td>Радченко ис мы дирты гаы анал сех славе!!</td>\n",
              "      <td></td>\n",
              "    </tr>\n",
              "    <tr>\n",
              "      <th>...</th>\n",
              "      <td>...</td>\n",
              "      <td>...</td>\n",
              "      <td>...</td>\n",
              "    </tr>\n",
              "    <tr>\n",
              "      <th>152514</th>\n",
              "      <td>fee0b7add4cb49e3</td>\n",
              "      <td>حينما اكتب لك بالعربية كلامي يبقى وحين اكتب با...</td>\n",
              "      <td></td>\n",
              "    </tr>\n",
              "    <tr>\n",
              "      <th>152562</th>\n",
              "      <td>fef5468c148e51d2</td>\n",
              "      <td>== دومین متن مباحثه با موضوع اختصاصی داعش و اس...</td>\n",
              "      <td></td>\n",
              "    </tr>\n",
              "    <tr>\n",
              "      <th>152705</th>\n",
              "      <td>ff37eca3c02bb566</td>\n",
              "      <td>أسف أخي أي قبل الاسلام ، ولست عربية</td>\n",
              "      <td></td>\n",
              "    </tr>\n",
              "    <tr>\n",
              "      <th>152819</th>\n",
              "      <td>ff6731195127887f</td>\n",
              "      <td>== 蹩脚英语 == \\n 英语好烂呀！最近跟维基用户有事要说，无奈几乎不会英语，说不了话。...</td>\n",
              "      <td></td>\n",
              "    </tr>\n",
              "    <tr>\n",
              "      <th>152934</th>\n",
              "      <td>ff9bbe71e8996418</td>\n",
              "      <td>سوال ۱۰ \\n سوال ۱۰ ۔ کیا اُم المومنین حضرت عائ...</td>\n",
              "      <td></td>\n",
              "    </tr>\n",
              "  </tbody>\n",
              "</table>\n",
              "<p>915 rows × 3 columns</p>\n",
              "</div>"
            ],
            "text/plain": [
              "                      id  ... preprocessed_text\n",
              "34      000d4f120d5a7303  ...                  \n",
              "114     002c586b0af3792c  ...                  \n",
              "119     003044a2c35274b6  ...                  \n",
              "404     00ad0323d9b31f21  ...                  \n",
              "419     00b568d3b0f61a37  ...                  \n",
              "...                  ...  ...               ...\n",
              "152514  fee0b7add4cb49e3  ...                  \n",
              "152562  fef5468c148e51d2  ...                  \n",
              "152705  ff37eca3c02bb566  ...                  \n",
              "152819  ff6731195127887f  ...                  \n",
              "152934  ff9bbe71e8996418  ...                  \n",
              "\n",
              "[915 rows x 3 columns]"
            ]
          },
          "metadata": {
            "tags": []
          },
          "execution_count": 43
        }
      ]
    },
    {
      "cell_type": "code",
      "metadata": {
        "colab": {
          "base_uri": "https://localhost:8080/"
        },
        "id": "GQh-YhQP3dBV",
        "outputId": "af1b8c98-bb5a-41ee-8db8-4d3823648626"
      },
      "source": [
        "totalempty = list()\n",
        "for i, s in enumerate(test['preprocessed_text']):\n",
        "  if len(s.split()) == 0:\n",
        "    totalempty.append(i)   # 총 915개 \n",
        "\n",
        "print(len(totalempty))\n",
        "for i in range(20):\n",
        "  r = np.random.randint(len(totalempty))\n",
        "  print(i,'번째' ,totalempty[r], ' Before : ', test[\"comment_text\"][totalempty[r]])\n",
        "  print('\\n~~~~~~~~~~~~~~~~~Preprocessed~~~~~~~~~~~~~~~~~~~~~~~\\n')\n",
        "  print('\\n~~~~~~~~~~~~~~~~~Preprocessed~~~~~~~~~~~~~~~~~~~~~~~\\n')\n",
        "  print(i,'번째' ,totalempty[r], ' After  : ', test[\"preprocessed_text\"][totalempty[r]])\n",
        "  print('-------------------------------------------------------------------------------------------------')"
      ],
      "execution_count": null,
      "outputs": [
        {
          "output_type": "stream",
          "text": [
            "915\n",
            "0 번째 63926  Before :  آخه‌ آدم نفهم همه‌ چی  چرا با این لفظ مسخره‌ ایرانی داری مارو تو دنیا میکنی ایرانی.\n",
            "\n",
            "~~~~~~~~~~~~~~~~~Preprocessed~~~~~~~~~~~~~~~~~~~~~~~\n",
            "\n",
            "\n",
            "~~~~~~~~~~~~~~~~~Preprocessed~~~~~~~~~~~~~~~~~~~~~~~\n",
            "\n",
            "0 번째 63926  After  :  \n",
            "-------------------------------------------------------------------------------------------------\n",
            "1 번째 68355  Before :  == دومین متن مباحثه با موضوع اختصاصی داعش و اسرائیل == \n",
            "\n",
            " با عرض سلام خدمت ریاست جمهوری اسرائیل و نیز اعضای آن و نیز اقوام و پیروان این دولت،این دومین متن مباحثه ای هست که از مباحثات با موضوع اختصاصی هست و نیز دومین متن مباحثه با موضوع اختصاصی داعش و اسرائیل هست امیدوارم مباحث و مطالب مطرح شده در متن مباحثه اولی مورد توجه شما قرار گرفته باشه که انشالله به امید خدا میگیره چون کسانی که ادعای خداوند و اعتقاد به معبود رو میکنند و نام اشهد ان لا اله الا الله و اشهد ان محمد رسول الله رو درج بر پرچم خود میکنند مسلما به شناخت که نه بهتر بگم به باوری بر مبنای عقیدتی به خداوند رسیدن حتی اگر فرض رو بر این بگیریم که این عقیده از پیشنیان بر گرفته شده که شما مبتنی بر آن به خداوند اعتقاد دارید و بر مبنای دستورات ان انجام وظیفه میکنید بر مبنای اطاعت از دین و اداب رسومتان مسلما اسم خدا بر زبان شما جاری شده بنابراین آنچه که من بر مبنای آن توضیح دادم چیز غیر قابل فهم و غیر قابل باور نیست اما انچه که در معنای عکس العمل آن را تصدیق تایید میکنه و معنا و مفهوم تقابل را در آن تایید و تصدیق و اثبات میکند و مرز تفاوت بین عقیده من تا شما بر مبنای باورتان آن هست که من در تلاشم مسیر فعالیت هامو در تلاشم ادعا نمیکنم الان حرکت کردم رسیدم به تهش نه ...اما این ادعا رو میکنم که در تلاشم که مسیر فعالیت هامو حال می تونه فعالیت های اصلاحاتی باشه که این فعالیت ها در فضای مجازی شامل برنامه های توییتر ،برنامه های مباحثه ای که این خود شامل مباحثات د به ادغام شده ای هست که با موضوعات کلی و متفرقه اما در مسیر سیر تکاملی با فاصله های زمانی مشخص ارسال میشه در زمان های تعیین شد طبق برنامه ریزی های در زمیه اصلاحات با هدف سیر تکاملی و دفاع از آن و نیز مباحثات با موضوعات اختصاصی که این مباحثات به شکل خاص و محدود به یک موضوع اما به شکل گسترده و با بررسی جز به جز آن خواهد پرداخت که این موضوعات اغلب که بهتر بگم به طور همیشه با موضوعات بخش خبری یکی هست و جنبه دائمی دارد و به شکل مداوم ادامه میابد اما با این تفاوت که زمان ارسال آن مثل مباحثات دو به دو ادغامی با فاصله زمانی مشخصی نیست بلکه این مباحثات متناسب با بخش بندی واحد ها و بخش های صحبت در بخش خبری از برنامه های توییتر که به شکل یکی در میان در هر بخش خبری و معمولا در زمان شروع و بخش میان برنامه های برنامه های توییتر انجام پذیر هست اما در زمان پرداختن به همان موضوع مشخص شده در بخش خبری که متناسب و یکسان با موضوع مباحثه اختصاصی هست این ارسالات در خصوص مباحثات با موضوع اختصاصی در خصوص همان موضوع به شکل یکی در میان در هر واحد و بخش خبری که قسمت بندی کردم برای صحبت در بخش خبری از برنامه های توییتر در توییتر به شکل پشت سر هم میشه تا پایان صحبت در همان بخش خبری و دوباره ارسالات به همان میزان به شکل یکی در میان اما با اضافه کردن یک موضوع اختصاصی دیگه که اونم بر گرفته از بخش خبری هست مباحثات با موضاعت اختصاصی پیش برده و گسترش خواهند یافت نکته ای که مطرح میشه اینکه روند ارسالات متون مباحثات در زمان پرداختن به مبحث خبری با همون موضوع مطرح شده در مباحثه با موضوع اختصاصی معمولا بیشتر و به شکل پشت سر هم هست این از برنامه های مباحثاتی هست به عنوان یک از فعالیت ها در فضای مجازی و بخش سوم فعالیت ها در فضای مجازی رو داده های خبری و جمع اوری ان ها تشکیل میده که هم به شکل ارتباطات مجازی و هم غیر مجازی هست برای دریافت و جمع اوری داده های خبری از کشور خودم تا سرتاسر نقاط این کره خاکی که به امید خدا تا به اکنون گسترش منابع خبری ارتباطی پیشبرد خوبی داشته و بخشی از اون از لیست منابع خبریم که جهت دریافت داده های خبری ارتباطی از آن ها استفاده میکنم حذف نشده و فعالیت در فضای غیر مجازی که این نیز مانند فعالیت در فضای مجازی اما با فاصله زمانی بیشتر و وقت بیشتر برای بهر گیری از آن چون فعالیت در فضای غیر مجازی هم بیشتر هست و هم زمان برتر و هم شامل بخش های بیشتر نسبت به فعالیت در فضای مجازی آنچه که تحت عنوان فعالیت در فضای مجازی میبینیم بخشی از اون مختص فعالیت هایی هست که در فضای مجازی میبینید در حین برنامه های مباحثاتی و توییتر و چه بخشی مرتبط با اثرات حاصل از فعالیت ها درفضای غیر مجازی هست که شما این اثرات رو در غالب فعالیت در فضای مجازی میبنید منظور و مصداق از اثرات در فضای مجازی درواقع نتایج بررسی ها و فعالیت هایی هست که در فضای غیر مجازی ایجاد میشه و این اثرات در فضای مجازی ثبت و تحت عنوان فعالیت در فضای مجازی استفاده میشه و اما این برنامه ها و فعالیت های اصلاحاتی هست با هدف سیر تکاملی اما مدافعیت از سیر تکاملی تنها با دید مثلا بگیم اصلاحاتی که من اصلاح گر باشم و من ادعای این رو بکنم که می تونم اصلاح گری توانای باشم و تنها به هدف اصلاح گریم که مسیر فعالیت های اصلاحاتیمو مبتنی بر آن قرار دادم و بر مبنای آن به فعالیت در مسیر اصلاحات با هدف سیر تکاملی و دفاع از آن می پردازم و بر مبنای آن ادعا کنم که چون دارم تطبیق میدم اونم فقط فعالیت در مسیر اصلاحاتی رو که شامل برنامه های اصلاحاتی یعنی همه این مواردی که نام بردم و برنامه های توییتر رو مبتنی بر مسیر سیر تکاملی بنابرای هم باید ادعا کم که اصلاح گر خوبی هستم و هم باید ادعا کنم که مسیر اصلاحاتم در مسیر سیر تکاملی با این باور که من فقط فعالیت در مسیر اصلاحاتم رو تطبیق دادم با مسیر سیر تکاملی چون مسیرم سیر تکاملیست مسلما بر مبنای اون من الان هم در مسیر فعالیت هام باید پیشبرد درستی داشته باشم و هم چون دارم کار درست رو تحت عنوان فعالیت های اصلاحاتی انجام می دم پس بر مبنای اون هر کاری کردم کردم در زندگی مهم اینکه مسیر فعالیت های اصلاحاتیم در مسیر سیر تکاملی باشه این جور عقیده و باور رو میگن عقیده چرتکه ای حساب کردن این چرتکه ای حساب کردن ها نتنها در فعالیت های سیاسی و هم\n",
            "\n",
            "~~~~~~~~~~~~~~~~~Preprocessed~~~~~~~~~~~~~~~~~~~~~~~\n",
            "\n",
            "\n",
            "~~~~~~~~~~~~~~~~~Preprocessed~~~~~~~~~~~~~~~~~~~~~~~\n",
            "\n",
            "1 번째 68355  After  :  \n",
            "-------------------------------------------------------------------------------------------------\n",
            "2 번째 113864  Before :  هل تظن أنك تخيفني , أنت تلغي نقاشا كاملا و هذا لا يجوز , و من أنت حتى تهددني ؟ \n",
            " إن كنت بنظرك طفل صغير يلعب بالأزرار , فأنا عقلي كبير \n",
            " أم أنت فعقلك صغير , اذهب إلى الحضانة أيها الفرعون \n",
            " ثم كلمني  \n",
            " أرجوك , أنا أستهزئ مما تكتب  \n",
            " كلام سخيف و مضحك \n",
            " كف عن إضحاكي \n",
            " إذهب و انضج\n",
            "\n",
            "~~~~~~~~~~~~~~~~~Preprocessed~~~~~~~~~~~~~~~~~~~~~~~\n",
            "\n",
            "\n",
            "~~~~~~~~~~~~~~~~~Preprocessed~~~~~~~~~~~~~~~~~~~~~~~\n",
            "\n",
            "2 번째 113864  After  :  \n",
            "-------------------------------------------------------------------------------------------------\n",
            "3 번째 38314  Before :  ::Λυδοί πονηροί, Αιγύπτιοι δε δεύτεροι, τρίτοι δε πάντων Κάρες εξωλέστατοι.\n",
            "\n",
            "~~~~~~~~~~~~~~~~~Preprocessed~~~~~~~~~~~~~~~~~~~~~~~\n",
            "\n",
            "\n",
            "~~~~~~~~~~~~~~~~~Preprocessed~~~~~~~~~~~~~~~~~~~~~~~\n",
            "\n",
            "3 번째 38314  After  :  \n",
            "-------------------------------------------------------------------------------------------------\n",
            "4 번째 32731  Before :  نه منظور من یک سطر بالاترش بود که گفته آیا می خواهید که فضای نامی که معادل صفحه اصلی باشد داشته باشید؟\n",
            "\n",
            "~~~~~~~~~~~~~~~~~Preprocessed~~~~~~~~~~~~~~~~~~~~~~~\n",
            "\n",
            "\n",
            "~~~~~~~~~~~~~~~~~Preprocessed~~~~~~~~~~~~~~~~~~~~~~~\n",
            "\n",
            "4 번째 32731  After  :  \n",
            "-------------------------------------------------------------------------------------------------\n",
            "5 번째 55424  Before :  == විදුලි පරිපථ සකස් කිරිම  == \n",
            "\n",
            " විදුලි පරිපථ සකස් කිරිම\n",
            "\n",
            "~~~~~~~~~~~~~~~~~Preprocessed~~~~~~~~~~~~~~~~~~~~~~~\n",
            "\n",
            "\n",
            "~~~~~~~~~~~~~~~~~Preprocessed~~~~~~~~~~~~~~~~~~~~~~~\n",
            "\n",
            "5 번째 55424  After  :  \n",
            "-------------------------------------------------------------------------------------------------\n",
            "6 번째 15340  Before :  খুজে+ফিরি******* \n",
            "          \n",
            "     রিদয় খান \n",
            "\n",
            " কত যে গোপনে খুজি ফিরি একা \n",
            " সয়নে সপনে পাবো কি তার দেখা। \n",
            " খুজে ফিরি হায় \n",
            " জানিনা কোথায় রয়েছো তুমি বলনা... \n",
            " দেখা দাও প্রিয়া ভেংগোনা হিয়া \n",
            " ওগো প্রিয়তমা......... \n",
            " না নাইরে যারে চাইরে সে পাশে তো নাই \n",
            " এ মনটা জীবন টা ভরা সুন্যতাই। \n",
            "\n",
            " ভালোবাসার কৃতি কবিতা লেখছি তোমায় ভেবে \n",
            " কে তুমি অপরিচিতা কবে দেখা দেবে \n",
            " খুঝে ফিরি হায় জানিনা কোথায় রয়েছ তুমি বলনা........ \n",
            "\n",
            " কত কথা সাজাই সপনে বলবো নিরজনে \n",
            " সেই আসার প্রহর গুনে দু:খ রইলো মনে \n",
            " ............. \n",
            " ।। \n",
            "\n",
            "  \n",
            "\n",
            "  \n",
            " ।(সেলিম)\n",
            "\n",
            "~~~~~~~~~~~~~~~~~Preprocessed~~~~~~~~~~~~~~~~~~~~~~~\n",
            "\n",
            "\n",
            "~~~~~~~~~~~~~~~~~Preprocessed~~~~~~~~~~~~~~~~~~~~~~~\n",
            "\n",
            "6 번째 15340  After  :  \n",
            "-------------------------------------------------------------------------------------------------\n",
            "7 번째 18482  Before :  :::::::::::::::კობერ, ერთი ამას შეხედე რა. ერთი ჩრდილოელი ვანია ებრძვის კოლხეთის თემას. ქართული სამეფო არ იყოო და წყაროებს შლის. ეჰ ყველა ჩვენს მეზობლებს როგორ ღრღნით ეს ფაქტი და როგორ ებრძვიან ჩვენს მემკვიდრეობას საოცარია.\n",
            "\n",
            "~~~~~~~~~~~~~~~~~Preprocessed~~~~~~~~~~~~~~~~~~~~~~~\n",
            "\n",
            "\n",
            "~~~~~~~~~~~~~~~~~Preprocessed~~~~~~~~~~~~~~~~~~~~~~~\n",
            "\n",
            "7 번째 18482  After  :  \n",
            "-------------------------------------------------------------------------------------------------\n",
            "8 번째 23784  Before :  चोर प्रबंधक राजीव मास के कुकर्मने हीन्दीवीकीपीडीयाका मुंह काला कीया है ।\n",
            "\n",
            "~~~~~~~~~~~~~~~~~Preprocessed~~~~~~~~~~~~~~~~~~~~~~~\n",
            "\n",
            "\n",
            "~~~~~~~~~~~~~~~~~Preprocessed~~~~~~~~~~~~~~~~~~~~~~~\n",
            "\n",
            "8 번째 23784  After  :  \n",
            "-------------------------------------------------------------------------------------------------\n",
            "9 번째 71320  Before :  ﻿Ｉ  ＷＯＮＴ  ＳＵＣＫ  ＹＯＵＲ  ＣＯＣＫ  Ｉ  ＡＭ  Ａ  ＦＵＣＫＩＮＧ  ＭＡＮ  ＡＮＤ  Ｉ  ＡＭ  ＮＯＴ  ＧＡＹ．  Ｆｕｃｋｉｎｇ  ＥＶＥＲＹ  ＤＡＹ  ｔｈｅ  ｓａｍｅ  ｓｈｉｔ．  ＇＇ＳＵＣＫ  ＭＹ  ＣＯＣＫ  ＤＵＤＥ＇＇  Ｉ  ｈａｖｅ  ａ  ｗｉｆｅ  ｙｏｕ  ｐｉｅｃｅ  ｏｆ  ｓｈｉｔ  Ｉ  ＡＭ  ＡＳ  ＳＴＲＡＩＧＨＴ  ＡＳ  ＳＰＡＧＨＥＴＴＩ  ＹＯＵ  ＨＯＭＯ  ＳＨＩＴＳ．  Ｉ  ｇｏ  ｏｕｔ  ｗｉｔｈ  ｍｙ  ｆｒｉｅｎｄ  ｔｏ  ｇｏ  ｂｏｗｌｉｎｇ  ｌｉｋｅ  ａ  ｎｏｒｍａｌ  ｐｅｒｓｏｎ  Ｉ  ｇｏ  ｗｉｔｈ  ｈｉｍ  ｔｏ  ｇａｙｂａｒｓ  ｌｉｋｅ  ａ  ｎｏｒｍａｌ  ｐｅｒｓｏｎ  ａｎｄ  Ｉ  ＫＩＳＳ  ＨＩＭ  ＧＯＯＤＢＹＥ  ＬＩＫＥ  Ａ  ＮＯＲＭＡＬ  ＰＥＲＳＯＮ．  Ｉ  ＡＭ  ＪＵＳＴ  Ａ  ＳＴＲＡＩＧＨＴ  ＧＵＹ  Ｉ  ＤＯ  ＮＯＴ  ＳＵＣＫ  ＤＩＣＫＳ  ＹＯＵ  ＨＥＡＲ  ＴＨＡＴ  ？！  Ｉ  ａｌｓｏ  ｈａｎｇ  ｏｕｔ  ｗｉｔｈ  ｍｙ  ｆｒｉｅｎｄ  ＬＩＫＥ  Ａ  ＳＴＲＡＩＧＨＴ  ＰＥＲＳＯＮ．  Ｉ  ＬＯＶＥ  ＨＩＭ  ＬＩＫＥ  Ａ  ＳＴＲＡＩＧＨＴ  ＰＥＲＳＯＮ  ＡＮＤ  Ｉ  ＦＵＣＫ  ＨＩＭ  ＬＩＫＥ  Ａ  ＳＴＲＡＩＧＨＴ  ＰＥＲＳＯＮ．  ＭＹ  ＷＩＦＥ  ＡＬＳＯ  ＦＵＣＫ  ＭＥ  ＩＮ  ＴＨＥ  ＡＳＳ  ＳＯＭＥＴＩＭＥＳ  ＬＩＫＥ  ＴＨＥ  ＳＴＲＡＩＧＨＴ  ＣＨＲＩＳＴＩＡＮ  ＦＡＭＩＬＹ  ＷＥ  ＡＲＥ．  Ｆｕｃｋｉｎｇ  ＦＡＧＧＯＴＳ  Ｉ  ＷＩＬＬ  ＮＯＴ  ＳＵＣＫ  ＹＯＵＲ  ＤＩＣＫ  ＹＯＵ  ＰＩＥＣＥ  ＯＦ  ＳＨＩＴ  Ｉ  ＡＭ  ＳＴＲＡＩＧＨＴ  Ｉ  ＡＭ  ＮＯＴ  ＧＡＹ． \n",
            "\n",
            " ﻿ＡＨＡＨＡＨＡＨＡＨＡＨＡＨＡＨ  ＯＨ  ＧＯＤ  ＩＭ  ＤＹＩＮＧ！！  ＷＨＡＴ  ＩＳ  ＡＩＲ？！  Ｉ  ＣＡＮＴ  ＢＲＥＡＴＨＥ！！  ＳＷＥＥＴ，  ＳＷＥＥＴ  ＤＩＣＫＳ  ＩＮ  ＭＹ  ＭＯＵＴＨ  ＴＨＩＳ  ＩＳ  ＴＨＥ  ＦＵＮＮＩＥＳＴ  ＦＵＣＫＩＮＧ  ＴＨＩＮＧ  Ｉ  ＨＡＶＥ  ＥＶＥＲ  ＳＥＥＮ！  ＢＥＮＤ  ＭＥ  ＯＶＥＲ  ＡＮＤ  ＦＵＣＫ  ＭＥ﻿  ＴＷＯ  ＷＡＹＳ  ＇ＴＩＬＬ  ＳＵＮＤＡＹ  ＩＭ  ＤＹＩＮＧ！  ＯＨ  ＳＷＥＥＴ  ＪＥＳＵＳ  ＴＡＫＥ  ＴＨＥ  ＷＨＥＥＬ  Ｉ  ＣＡＮ  ＮＥＶＥＲ  ＬＩＳＴＥＮ  ＴＯ  ＲＡＰ  ＡＧＡＩＮ！！  ＪＥＳＵＳ．．ＪＥＳＵＳ  ＩＭ  ＤＹＩＮＧ！！！！ \n",
            "\n",
            " ﻿ＰＬＥＡＳＥ  ＲＥＳＰＯＮＤ  ＴＯ  ＴＨＩＳ  ＭＥＳＳＡＧＥ．  Ｉ  ＣＡＮ  ＪＵＳＴ  ＰＩＣＴＵＲＥ  ＹＯＵ  ＲＥＡＤＩＮＧ  ＡＬＬ  ＴＨＩＳ  ＳＨＩＴ，  ＷＯＮＤＥＲＩＮＧ  ＷＨＹ  Ｉ  ＦＵＣＫＩＮＧ  ＨＡＴＥ  ＹＯＵ  ＳＯ  ＭＵＣＨ  ＢＥＣＡＵＳＥ  ＹＯＵ  ＣＡＮ＇Ｔ  ＣＯＭＰＲＥＨＥＮＤ  ＡＮＹＴＨＩＮＧ．  ＹＯＵ＇ＬＬ  ＧＥＴ  ＳＯ  ＦＵＣＫＩＮＧ  ＰＩＳＳＥＤ  ＯＦＦ  ＹＯＵ＇ＬＬ  ＦＵＣＫＩＮＧ  ＰＵＮＣＨ  Ａ  ＷＡＬＬ  ＡＮＤ  ＦＵＣＫＩＮＧ  ＥＡＴ  ＥＶＥＲＹＴＨＩＮＧ  ＩＮ  ＴＨＥ  ＦＲＩＤＧＥ  ＡＮＤ  ＴＨＥＮ  ＷＡＤＤＬＥ  ＢＡＣＫ  ＵＰＳＴＡＩＲＳ  ＡＮＤ  ＱＵＯＴＥ  ＴＨＩＳ  ＳＨＩＴ  ＡＮＤ  ＳＭＡＳＨ  ＴＨＥ  ＦＵＣＫＩＮＧ  ＫＥＹＢＯＡＲＤ  ＷＩＴＨ  ＹＯＵＲ  ＧＩＧＡＮＴＩＣ，  ＦＡＴ  ＨＡＮＤＳ  ＡＮＤ  ＳＬＯＢＢＥＲ  ＰＲＯＦＵＳＥＬＹ  ＷＨＩＬＥ  ＹＯＵ  ＰＯＵＮＤ  ＯＵＴ  ＳＯＭＥ  ＩＤＩＯＴＩＣ  ＲＥＰＬＹ，  ＬＩＫＥ  ＹＯＵ  ＣＯＵＬＤ  ＥＶＥＲ  ＥＶＥＲ  ＥＶＥＲ  ＦＵＣＫＩＮＧ  ＥＶＥＮ  ＣＯＭＥ  ＣＬＯＳＥ  ＴＯ  ＴＨＥ  ＳＨＥＥＲ  ＨＡＴＲＥＤ  Ｉ  ＦＥＥＬ  ＦＯＲ  ＹＯＵ，  ＴＨＥ  ＢＥＳＴ  ＰＡＲＴ  ＡＢＯＵＴ  ＩＴ  ＩＳ  ＴＨＡＴ  ＮＯ  ＭＡＴＴＥＲ  ＷＨＡＴ  ＹＯＵ  ＳＡＹ  Ｉ＇Ｍ  ＪＵＳＴ  ＧＯＩＮＧ  ＴＯ  ＬＡＵＧＨ  ＡＴ  ＹＯＵＲ  ＦＡＴ，  ＳＴＵＰＩＤ，  ＵＧＬＹ，  ＲＥＴＡＲＤＥＤ，  ＩＤＩＯＴＩＣ，  ＷＯＲＴＨＬＥＳＳ，  ＭＡＮＷＨＯＲＥ  ＣＯＣＫ－ＬＯＶＩＮＧ  ＡＳＳ！  ＢＵＴ  ＩＦ  ＹＯＵ  ＤＯＮ＇Ｔ  ＲＥＰＬＹ，  Ｉ  ＦＵＣＫＩＮＧ  －ＷＩＮ－，  ＢＥＣＡＵＳＥ  Ｉ＇ＶＥ  ＳＭＡＣＫＥＤ  ＹＯＵ  ＤＯＷＮ  ＬＩＫＥ  ＴＨＥ  ＬＩＴＴＬＥ  ＢＩＴＣＨ  ＹＯＵ  ＡＲＥ  ＤＩＥ  ＭＯＴＨＥＲＦＵＣＫＥＲ． \n",
            "\n",
            " ﻿Ｒｅａｌ  ｆｕｎｎｙ  ｆａｇｇｏｔ  ａｓｓ  ｂｉｔｃｈ．  Ｙｏｕ  ｔｈｉｎｋ  ｔｈｉｓ  ｉｓ  ａ  ｊｏｋｅ？  Ｙｏｕ  ｔｈｉｎｋ  ｇｉｖｉｎｇ  ｍｅ  ｌｉｐ  ｉｓ  ａ  ｇｏｏｄ  ｉｄｅａ？  Ｉ＇ｌｌ  ｆｕｃｋｉｎｇ  ｍｕｒｄｅｒ  ｙｏｕ． \n",
            "    \n",
            " Ｙｅａｈ  ｍａｋｉｎｇ  ｆｕｎ  ｏｆ  ｍｅ  ｉｓ  ｓｏ  ｆｕｎｎｙ，  ｓｏ  ｆｕｎｎｙ  Ｉ  ｆｏｒｇｏｔ  ｔｏ  ｌａｕｇｈ．  Ｉｆ  ｙｏｕ  ｗａｎｎａ  ｔａｌｋ  ｌｉｋｅ  ｔｈａｔ  ｔｏ  ｍｅ  ｗｈｙ  ｄｏｎ＇ｔ  ｙｏｕ  ｃｏｍｅ  ｈｅｒｅ  ａｎｄ  ｓａｙ  ｉｔ  ｔｏ  ｍｅ  ｆａｃｅ  ｓｏ  Ｉ  ｃａｎ  ａｎｓｗｅｒ  ｙｏｕｒ  ｉｎｓｕｌｔｓ  ｗｉｔｈ  ａ  ｓｗｉｆｔ  ｆｉｓｔ  ｔｏ  ｔｈｅ  ｎｏｓｅ．  Ｙｅａｈ  ｙｏｕ  ｈａｖｅ  ａ  ｌｏｔ  ｔｏ  ｓａｙ  ｆｒｏｍ  ｈｕｎｄｒｅｄｓ  ｏｆ  ｍｉｌｅｓ  ａｗａｙ  ｂｕｔ  Ｉ  ｂｅｔ  ｉｆ  ｍｙ  ｆｉｓｔｓ  ｗｅｒｅ  ｉｎ  ｒｅａｃｈ  ｏｆ  ｙｏｕｒ  ｆａｃｅ  ｙｏｕ  ｗｏｕｌｄ  ｂｅ  ｌｉｋｅ  ａ  ｔｖ  ｏｎ  ｍｕｔｅ  ｗｉｔｈ  ｎｏ  ｖｏｌｕｍｅ  ｂｕｔｔｏｎ．  Ｓｏ  ｄｏ  ｙｏｕｒｓｅｌｆ  ａ  ｆａｖｏｒ  ａｎｄ  ｋｅｅｐ  ｙｏｕｒ  ｍｏｕｔｈ  ｓｈｕｔ  ｕｎｌｅｓｓ  ｙｏｕ  ｗａｎｔ  ｔｏ  ｄｉｅ．  Ｎｅｘｔ  ｔｉｍｅ  ｙｏｕ  ｔｈｉｎｋ  ａｂｏｕｔ  ｓａｙｉｎｇ  ｓｏｍｅｔｈｉｎｇ  ｌｉｋｅ  ｔｈａｔ  ｔｏ  ｍｅ  Ｉ  ｗａｎｔ  ｙｏｕ  ｔｏ  ｒｅｍｅｍｂｅｒ  ｏｎｅ  ｔｈｉｎｇ．  Ｉ  ｋｎｏｗ  ｔｈｅ  ｇｕｙ  ｔｈａｔ  ｃｒｅａｔｅｄ  ｇｏｏｇｌｅ  ｍａｐｓ  ａｎｄ  Ｉ  ｃａｎ  ｌｏｃａｔｅ  ｙｏｕ  ｉｎ  ｔｈｅ  ｔｉｍｅ  ｉｔ  ｔｏｏｋ  ｍｅ  ｔｏ  ｔｙｐｅ  ｔｈｉｓ．  Ｄｏｎ＇ｔ  ｗａｎｔ  ａｎｙｍｏｒｅ  ｐｒｏｂｌｅｍｓ．．．．  ｄｉｄｎ＇ｔ  ｔｈｉｎｋ  ｓｏ  ｆａｇｇｏｔ．  Ｙｏｕ  ｈａｖｅ  ａｎｙ  ｉｄｅａ  ｗｈａｔ  ｇｏｒｉｌｌａ  ｗａｒｆａｒｅ  ｉｓ？  Ｉ  ｄｏ，  Ｉ  ｗａｓ  ｉｎ  ｔｈｅ  ＵＳ  Ｍａｒｉｎｅ  Ｃｏｒｅ  ａｎｄ  Ｉ  ｐｅｒｆｅｃｔｅｄ  ｉｔ．  Ｉ＇ｍ  ｆｕｌｌｙ  ｃａｐａｂｌｅ  ｏｆ  ｕｓｉｎｇ  ｉｔ  ｏｎ  ｙｏｕ  ｍｏｔｈｅｒｆｕｃｋｅｒｓ．  Ｄｏ  ｙｏｕ  ｋｎｏｗ  ｔｈｅ  ｄａｎｄｅｒ  ｙｏｕｒ  ｉｎ  ｉｆ  Ｉ  ｆｉｎｄ  ｙｏｕ？  Ｉ  ａｍ  １００＄  ｓｅｒｉｏｕｓ．  Ｂｕｎｃｈ  ｏｆ  ｇｏｄ  ｄａｍｎ  ｎｅｗｆａｆ  ｌｏｓｅｒ  ｈｅｒｅ  ａｎｄ  Ｉ  ｗｉｌｌ  ｎｏｔ  ｈａｖｅ  ｉｔ．  Ａｔ  ｌｅａｓｔ  Ｉ＇ｖｅ  ｈａｄ  ｓｅｘ，  ｈａｄ  ｇｉｒｌｆｒｉｅｎｄｓ，  ａｎｄ  ｇｏｔｔｅｎ  ｌａｉｄ，  ａｎｄ  ｂｌｏｗｊｏｂｂｅｄ  ｕｎｌｉｋｅ  ｙｏｕ  ｖｉｒｇｉｎ  ｐｉｅｃｅ  ｏｆ  ｕｎｐａｔｒｉｏｔｉｃ  ＳＨＩＴ． \n",
            "    \n",
            " ﻿ＷＯＷ  ＳＯＮ，  Ｕ  ＢＵＴ  ＡＮＧＲＥＹ．  Ｉ  ｈａｖ  ｎｅｅｒ  ｓｅｅｎ  ｓｕｍ１  ｓｏ  ｐｏｏｐｅｒ  ｐｅｅｖｅｄ，  ｕ  ｎｅｄ  ｔｏ  ｔａｋ  ｃｈｉｌｐｉｌ  ａｎｄ  ｓｔｏｐ  ｒａｐｉｎｇ  ｙｏｕｒ  ｏｗｎａｓｓｗｉｔ  ｗｉｔｈ  ｈｕｓｂａｎｄ．  ｙｏｕ  ａｒｅ  ｔｈｅ  ｇａｙｅｓｔ  ｆｇｔ  ｉｎ  ｆｇｔｏｐｉａ，  ｎｏ  ｕ  ｒ  ｔｈｅ  ｍａｙｏｒ．  ｌｏｌ  ｕ  ｔｒｏｌｅｄ  ｓｏ  ｆｕｋｉｎ  ｈａｒｄ  ｕ  ｗａｎ  ｓｕｍ  ｉｃｅ  ｆｏｒ  ｔｈｅ  ＡＳＳＢＵＲＮ？  Ｕ  ｃｒｙ  ｔｅａｒｓ  ｏｆ  ｂｌｕｄ  ａｎｄ  ｃｕｍ  ｕｒ  ｍｏｍ＇ｓ  ｐｅｎｉｓ  ｏｕｔ  ｙｏｕｒ  ａｎｇｒｙ  ｂｕｔｔｈｏｌｅ．  ｇｂ２  ｐｕｓｓｙｂａｂｙ  ｌａｎｄ  ｗｈｅｒｅ  ｕ  ｇｉｔ  ｏｗｎ３ｄ  ｂｙ  ｄｉｃｋ  ＂ｏｍｇ  ｉ  ｌｏｖｅ  ｓｕｋｎ  ｄｉｃｋｓ  ａｎｄ  ｃｒｙｉｎｇ  ｔｏ  ｌｉｎｋ  ｐａｒｋ＂  －  Ｙｏｕ．  ｕｒ  ｂｕｔｔ  ｉｓ  ｅｖａｐｏｒａｔｉｎｇ  ｃｕｍ  ｂｃｕｚ  ｉｔ  ｉｓ  ｓｔｅａｍｉｎｇ  ｗｉｔ  ａｎｇｒ．  ＳＵＭＢＵＤＹ  ＩＳ  ＡＮＡＬＬＹ  ＡＮＧＵＩＳＨＥＤ  ｉｔｓ  ｌｉｋ  ｕ  ｒ  ｓｅｅｄｉｎｇ  ｗｉｔ  ｒａｅｇ\n",
            "\n",
            "~~~~~~~~~~~~~~~~~Preprocessed~~~~~~~~~~~~~~~~~~~~~~~\n",
            "\n",
            "\n",
            "~~~~~~~~~~~~~~~~~Preprocessed~~~~~~~~~~~~~~~~~~~~~~~\n",
            "\n",
            "9 번째 71320  After  :  \n",
            "-------------------------------------------------------------------------------------------------\n",
            "10 번째 70300  Before :  \" \n",
            "\n",
            "  –  «» \"\n",
            "\n",
            "~~~~~~~~~~~~~~~~~Preprocessed~~~~~~~~~~~~~~~~~~~~~~~\n",
            "\n",
            "\n",
            "~~~~~~~~~~~~~~~~~Preprocessed~~~~~~~~~~~~~~~~~~~~~~~\n",
            "\n",
            "10 번째 70300  After  :  \n",
            "-------------------------------------------------------------------------------------------------\n",
            "11 번째 4674  Before :  * Спасибо! -)\n",
            "\n",
            "~~~~~~~~~~~~~~~~~Preprocessed~~~~~~~~~~~~~~~~~~~~~~~\n",
            "\n",
            "\n",
            "~~~~~~~~~~~~~~~~~Preprocessed~~~~~~~~~~~~~~~~~~~~~~~\n",
            "\n",
            "11 번째 4674  After  :  \n",
            "-------------------------------------------------------------------------------------------------\n",
            "12 번째 43872  Before :  তোমায় ছেড়ে মাগো আছি। \n",
            "\n",
            " এম এচই কালাম। \n",
            "\n",
            " তোমায় ছেড়ে মাগো আছি। \n",
            "\n",
            " অনেক দূরে আমি \n",
            "\n",
            " তোমার কথা মনে পড়ে \n",
            "\n",
            " আমার দিবসযামী। \n",
            "\n",
            " তোমায় ছেড়ে থাকতে দূরে \n",
            " ভাল্লাগেনা মা \n",
            " তোমায় ছেড়ে দূরে বলে \n",
            " আমায় কর ক্ষমা। \n",
            " জানো কি মা? বাইরের সব \n",
            " অনেক স্বার্থপর \n",
            " টাকায় করে বেঁচা কেনা \n",
            " ভালোবাসা আদর। \n",
            " তুমি তো মা আজো কাঁদো \n",
            " আমার ভালোর লাগি \n",
            " খোদার কাছে দোয়া কর \n",
            " অনেক রাত্রি জাগি। \n",
            " জীবনভর করছ তুমি \n",
            " কষ্ট সীমাহীন \n",
            " প্রতিদানে কোনো কিছু \n",
            " চাও নি কোনোদিন। \n",
            " তোমার সাথে তাই তুলনা \n",
            " হয়না অন্য কারো \n",
            " বেঁচে থাকো মাগো তুমি \n",
            " অনেক বছর আরো। \n",
            "\n",
            " এম এচই কালাম।\n",
            "\n",
            "~~~~~~~~~~~~~~~~~Preprocessed~~~~~~~~~~~~~~~~~~~~~~~\n",
            "\n",
            "\n",
            "~~~~~~~~~~~~~~~~~Preprocessed~~~~~~~~~~~~~~~~~~~~~~~\n",
            "\n",
            "12 번째 43872  After  :  \n",
            "-------------------------------------------------------------------------------------------------\n",
            "13 번째 87176  Before :  \" \n",
            " Again ^ '''  \"\n",
            "\n",
            "~~~~~~~~~~~~~~~~~Preprocessed~~~~~~~~~~~~~~~~~~~~~~~\n",
            "\n",
            "\n",
            "~~~~~~~~~~~~~~~~~Preprocessed~~~~~~~~~~~~~~~~~~~~~~~\n",
            "\n",
            "13 번째 87176  After  :  \n",
            "-------------------------------------------------------------------------------------------------\n",
            "14 번째 68579  Before :  괴로운 변명을 하는 사람이다-_-;;\n",
            "\n",
            "~~~~~~~~~~~~~~~~~Preprocessed~~~~~~~~~~~~~~~~~~~~~~~\n",
            "\n",
            "\n",
            "~~~~~~~~~~~~~~~~~Preprocessed~~~~~~~~~~~~~~~~~~~~~~~\n",
            "\n",
            "14 번째 68579  After  :  \n",
            "-------------------------------------------------------------------------------------------------\n",
            "15 번째 147907  Before :  □□□□□■□□□□□■■■■■■■□■□□□■□□□□ \n",
            "  □□□□■□■□□□□■□□□□□■□■□□□■□□□□ \n",
            "  □□□■□■□■□□□■□□□□□■□■□■■■■■□□ \n",
            "  □□■□□□■□■□□■□□□□□■□■□□□■□□□□ \n",
            "  □■□■■■■■□■□■■■■■■■□■□□□■□□□□ \n",
            "  □□□□□□□■□□□■□□□□□■□■□□■■■□□□ \n",
            "  □□□□□□■□□□□■□□□□□■□■□■□■□■□□ \n",
            "  □□□□□■□□□□□■■■■■■■□■□□■□□■□□\n",
            "\n",
            "~~~~~~~~~~~~~~~~~Preprocessed~~~~~~~~~~~~~~~~~~~~~~~\n",
            "\n",
            "\n",
            "~~~~~~~~~~~~~~~~~Preprocessed~~~~~~~~~~~~~~~~~~~~~~~\n",
            "\n",
            "15 번째 147907  After  :  \n",
            "-------------------------------------------------------------------------------------------------\n",
            "16 번째 93473  Before :  প্রতিষ্ঠাতা ঃ  \n",
            " মোঃ সফিকুল ইসলাম কৌকৌ, জামালপুর জেলার পূণ্যভূমি মেলান্দহ উপজেলার আদিপৈত গ্রামে ১ মার্চ ১৯৮৫খ্রিঃ সালে জন্মগ্রহণ করেন। পিতা-মোঃ আনিছুর রহমান ওরফে খাজু শেখ, মাতা-মোছাঃ কাজুলী বেগম, ১ বোন ১ ভাই মধ্যে কৌকৌ ছোট। সে লেখাপড়ার পাশাপাশি রেইনবো মিডিয়া নামক এক কম্পিউটারের দোকানের মালিক মোঃ নাজমুল ইসলাম এর নিকট হতে ২০০০ সালে কম্পিউটার চালানোর প্রশিক্ষন গ্রহণ করে এবং এক পর্যায়ে তার কম্পিউটার শিক্ষক তার বন্ধুর দোকানে কম্পিউটার অপারেটরের চাকুরী নিয়ে দেন। সেখানে প্রায় ১ বছর চাকুরী করার পর আল-মজিদ লাইব্রেরীতে বেশী বেতনে চাকুরী হয় এবং সেখানে প্রায় ৩ বছর চাকুরী করেন চাকুরী করা অবস্থায় কমম্পিউটারের সরঞ্জাম সংগ্রহ করতে থাকেন এবং একপর্যায়ে সফিক গ্রাফিক্স নামে দোকান দেন একটি পাটনার সিপ (সুমন ফটোকপির দোকানে) কম্পিউটার বসান সেখানেও প্রায় তিন মান দোকান পরিচালনার করার পর স্বতন্ত্র ভাবে চিশতীয়া সুপার মার্কেটে সয়ংসম্পূর্ণ ভাবে সফিক গ্রাফিক্স নামে দোকান দেন।  \n",
            "\n",
            " সফিক গ্রাফিক্সের অবস্থান ঃ চিশতীয়া সুপার মার্কেটে এক রুম পেছনে প্রথম দোকান শুরু করা হয়। আড়াই বছর দোকান পরিচালনা করার পর মার্কেটের কিছু ঘরমালিক পক্ষ বিক্রিয় করে দেওয়ায় পরবর্তী ঘরমালিকের সাথে দোকান ভাড়ার ব্যাপারে সমজতা না হওয়া চিশর্তীয়া মার্কেট ছেড়ে মেলান্দহ সরকারি বালিকা উচ্চ বিদ্যালয় সম্মূখে নূরল মেম্বার সাহেবের ঘর ভাড়া নেওয়া হয় এবং সেখানেও প্রায় আড়াই বছর দোকান ঘরমালিক দোকানের সামনে রাস্তা বন্ধ করার জন্য দোকানের সামনে আরেকটি দুচালা হাফ বিল্ডিং তোলেন এতে সফিক গ্রাফিক্সের ব্যবসায়িক ক্ষতি হয় ফলে সেখান থেকে বিআরডিবি অফিস সম্মূখে মেইন রোডে নাহার মার্কেটে ঘর ভাড়া নেন এবং এক বছরের ওয়েব সাইডের ডোমেইন ক্রয় করেন।  \n",
            "\n",
            " সেবা সমূহ ঃ  \n",
            " * গ্যারান্টি সহকারে ই-মেইল পাঠানো। \n",
            " * অনলাইনে ভর্তি আবেদন ফরম পূরণ।  \n",
            " * অন লাইনে পরীক্ষার রেজাল্ট দেখা। \n",
            " * অন লাইনে এডমিড কার্ড উত্তোলন। \n",
            " * জাতীয় বিশ্ববিদ্যালয় অন লাইনে ভর্তি আবেদন। \n",
            " * পূর্ণাঙ্গ ইউনিভার্সিটিতে অন লাইনে ভর্তি আবেদন।  \n",
            " * পল্লী বিদ্যুৎ মিটারের অন লাইনে আবেদন। \n",
            " * ভিসা প্রসেসিং। \n",
            " * আর্জেন্ট ছবি। \n",
            " * ফটোস্ট্যাট করা হয়। \n",
            " * নির্ভূল কম্পোজ। \n",
            " * নান্দনিক ডিজাইন। \n",
            " * টেকসই ল্যামিনেট।\n",
            "\n",
            "~~~~~~~~~~~~~~~~~Preprocessed~~~~~~~~~~~~~~~~~~~~~~~\n",
            "\n",
            "\n",
            "~~~~~~~~~~~~~~~~~Preprocessed~~~~~~~~~~~~~~~~~~~~~~~\n",
            "\n",
            "16 번째 93473  After  :  \n",
            "-------------------------------------------------------------------------------------------------\n",
            "17 번째 117905  Before :  == Возможный Проект == \n",
            "\n",
            " Это пробная страница\n",
            "\n",
            "~~~~~~~~~~~~~~~~~Preprocessed~~~~~~~~~~~~~~~~~~~~~~~\n",
            "\n",
            "\n",
            "~~~~~~~~~~~~~~~~~Preprocessed~~~~~~~~~~~~~~~~~~~~~~~\n",
            "\n",
            "17 번째 117905  After  :  \n",
            "-------------------------------------------------------------------------------------------------\n",
            "18 번째 85413  Before :  == 福建省旗 == \n",
            "\n",
            " 您好！我看到您在中文維基百科的福建省加上了它的旗幟。請問這面旗的檔案是您上傳的嗎？我對旗幟很有興趣，但從未看過這面旗，很好奇請問您是如何得知這面旗的呢？請在我的中文維基討論頁留言，謝謝。\n",
            "\n",
            "~~~~~~~~~~~~~~~~~Preprocessed~~~~~~~~~~~~~~~~~~~~~~~\n",
            "\n",
            "\n",
            "~~~~~~~~~~~~~~~~~Preprocessed~~~~~~~~~~~~~~~~~~~~~~~\n",
            "\n",
            "18 번째 85413  After  :  \n",
            "-------------------------------------------------------------------------------------------------\n",
            "19 번째 92690  Before :  ทรรสนะ  ธรรมสุนา\n",
            "\n",
            "~~~~~~~~~~~~~~~~~Preprocessed~~~~~~~~~~~~~~~~~~~~~~~\n",
            "\n",
            "\n",
            "~~~~~~~~~~~~~~~~~Preprocessed~~~~~~~~~~~~~~~~~~~~~~~\n",
            "\n",
            "19 번째 92690  After  :  \n",
            "-------------------------------------------------------------------------------------------------\n"
          ],
          "name": "stdout"
        }
      ]
    },
    {
      "cell_type": "code",
      "metadata": {
        "colab": {
          "base_uri": "https://localhost:8080/"
        },
        "id": "E1gB4k126mqM",
        "outputId": "a1abac50-b4ea-4dab-9245-d01a1e24de86"
      },
      "source": [
        "totalempty = list()\n",
        "for i, s in enumerate(test['comment_text']):   # train에는 없다\n",
        "  if len(s.split()) == 0:\n",
        "    totalempty.append(i)   # 총 915개 \n",
        "\n",
        "print(len(totalempty))\n",
        "totalempty"
      ],
      "execution_count": null,
      "outputs": [
        {
          "output_type": "stream",
          "text": [
            "1\n"
          ],
          "name": "stdout"
        },
        {
          "output_type": "execute_result",
          "data": {
            "text/plain": [
              "[55142]"
            ]
          },
          "metadata": {
            "tags": []
          },
          "execution_count": 75
        }
      ]
    },
    {
      "cell_type": "code",
      "metadata": {
        "colab": {
          "base_uri": "https://localhost:8080/",
          "height": 35
        },
        "id": "YBItbo6c_7gC",
        "outputId": "bba32637-8efb-4909-a572-30542ca05e34"
      },
      "source": [
        "test['comment_text'][55142]"
      ],
      "execution_count": null,
      "outputs": [
        {
          "output_type": "execute_result",
          "data": {
            "application/vnd.google.colaboratory.intrinsic+json": {
              "type": "string"
            },
            "text/plain": [
              "'\\u2003'"
            ]
          },
          "metadata": {
            "tags": []
          },
          "execution_count": 66
        }
      ]
    },
    {
      "cell_type": "code",
      "metadata": {
        "colab": {
          "base_uri": "https://localhost:8080/"
        },
        "id": "MIV0evt_AAqw",
        "outputId": "dfa1aeae-5778-487a-b049-803d479f69f3"
      },
      "source": [
        "'\\u2003'.split()"
      ],
      "execution_count": null,
      "outputs": [
        {
          "output_type": "execute_result",
          "data": {
            "text/plain": [
              "[]"
            ]
          },
          "metadata": {
            "tags": []
          },
          "execution_count": 67
        }
      ]
    },
    {
      "cell_type": "markdown",
      "metadata": {
        "id": "vsTsRbZlSmlL"
      },
      "source": [
        "# TO-DO (나중에 지울 예정)\n",
        "\n",
        "*   1,2,3 글자 짜리 없애기\n",
        "*   전처리 해서 0 된거는 어떻게 처리할 것이냐?\n",
        "  - 번역? \n",
        "*   나중에 패딩할 때에 train test 전처리한걸 토크나이즈 해서 길이 분포를 보고 적절한 maxlen 설정하면 좋을 듯 \n",
        "\n"
      ]
    },
    {
      "cell_type": "markdown",
      "metadata": {
        "id": "hn4PCyfymO0q"
      },
      "source": [
        "-------------"
      ]
    },
    {
      "cell_type": "markdown",
      "metadata": {
        "id": "HUjzD_IYmP87"
      },
      "source": [
        "-----------------"
      ]
    },
    {
      "cell_type": "markdown",
      "metadata": {
        "id": "bNEjLSVvmUPZ"
      },
      "source": [
        "# 전처리 후 문장의 길이"
      ]
    },
    {
      "cell_type": "code",
      "metadata": {
        "colab": {
          "base_uri": "https://localhost:8080/",
          "height": 265
        },
        "id": "r2WF5uXHlrTs",
        "outputId": "d564c951-e15a-44eb-f15b-8782c8ce173f"
      },
      "source": [
        "totalNumWords = [len(one_comment) for one_comment in test[\"preprocessed\"].apply(word_tokenize)]\n",
        "plt.hist(totalNumWords,bins = np.arange(0,410,10))\n",
        "plt.show()"
      ],
      "execution_count": null,
      "outputs": [
        {
          "output_type": "display_data",
          "data": {
            "image/png": "[encoded data removed]",
            "text/plain": [
              "<Figure size 432x288 with 1 Axes>"
            ]
          },
          "metadata": {
            "tags": [],
            "needs_background": "light"
          }
        }
      ]
    },
    {
      "cell_type": "code",
      "metadata": {
        "colab": {
          "base_uri": "https://localhost:8080/",
          "height": 265
        },
        "id": "MQaKnPqXllgN",
        "outputId": "c929254e-bb28-4fdb-f8a4-70c8cefb445c"
      },
      "source": [
        "totalNumWords = [len(one_comment) for one_comment in train[\"preprocessed\"].apply(word_tokenize)]\n",
        "plt.hist(totalNumWords,bins = np.arange(0,410,10))\n",
        "plt.show()"
      ],
      "execution_count": null,
      "outputs": [
        {
          "output_type": "display_data",
          "data": {
            "image/png": "[encoded data removed]",
            "text/plain": [
              "<Figure size 432x288 with 1 Axes>"
            ]
          },
          "metadata": {
            "tags": [],
            "needs_background": "light"
          }
        }
      ]
    },
    {
      "cell_type": "markdown",
      "metadata": {
        "id": "pT36DwSAmz7B"
      },
      "source": [
        "---------"
      ]
    },
    {
      "cell_type": "markdown",
      "metadata": {
        "id": "HKvP6jWgm08d"
      },
      "source": [
        "---------"
      ]
    },
    {
      "cell_type": "markdown",
      "metadata": {
        "id": "AlMQfsOkm5Ox"
      },
      "source": [
        "# Tokenization"
      ]
    },
    {
      "cell_type": "code",
      "metadata": {
        "id": "ToXA3Mc8m2vu"
      },
      "source": [
        "list_sentences_train = train[\"preprocessed\"] # (159571,)\n",
        "list_sentences_test = test[\"preprocessed\"] # (153164,)"
      ],
      "execution_count": null,
      "outputs": []
    },
    {
      "cell_type": "code",
      "metadata": {
        "colab": {
          "base_uri": "https://localhost:8080/"
        },
        "id": "CRqZgRscjq2m",
        "outputId": "932174e4-183c-469b-98e8-b4b8c906e1c7"
      },
      "source": [
        "max_features = 30000\n",
        "tokenizer = Tokenizer(num_words=max_features)\n",
        "tokenizer.fit_on_texts(list_sentences_train)\n",
        "list_tokenized_train = tokenizer.texts_to_sequences(list_sentences_train)\n",
        "# list_tokenized_train[:1] = [[688,75,1,126,130, ,,, ]]\n",
        "list_tokenized_test = tokenizer.texts_to_sequences(list_sentences_test)\n",
        "# list_tokenized_test[:1] = [[2665,655,8849,656, ,,, ]]\n",
        "\n",
        "# tokenizer.word_counts = OrderedDict([('explanation', 1771),('why', 17818),('the', 496540),('edits', 9957), ,,, ])\n",
        "# tokenizer.word_index = {'the': 1,'to': 2,'of': 3,'and': 4, ,,, }\n",
        "len(tokenizer.word_index)"
      ],
      "execution_count": null,
      "outputs": [
        {
          "output_type": "execute_result",
          "data": {
            "text/plain": [
              "172068"
            ]
          },
          "metadata": {
            "tags": []
          },
          "execution_count": 7
        }
      ]
    },
    {
      "cell_type": "markdown",
      "metadata": {
        "id": "zemq1UnanHnz"
      },
      "source": [
        "----------"
      ]
    },
    {
      "cell_type": "markdown",
      "metadata": {
        "id": "xD5vLUeMnHY9"
      },
      "source": [
        "----------"
      ]
    },
    {
      "cell_type": "markdown",
      "metadata": {
        "id": "mUksNV1JnIp4"
      },
      "source": [
        "# Padding"
      ]
    },
    {
      "cell_type": "code",
      "metadata": {
        "colab": {
          "base_uri": "https://localhost:8080/"
        },
        "id": "96qDybFAnHFS",
        "outputId": "341919e0-e1c8-437f-f2a1-ea7c580f16c4"
      },
      "source": [
        "maxlen = 50\n",
        "X_t = pad_sequences(list_tokenized_train, maxlen=maxlen) # (159571, 50)\n",
        "X_te = pad_sequences(list_tokenized_test, maxlen=maxlen) # (153164, 50)\n",
        "\n",
        "X_t.shape"
      ],
      "execution_count": null,
      "outputs": [
        {
          "output_type": "execute_result",
          "data": {
            "text/plain": [
              "(159571, 50)"
            ]
          },
          "metadata": {
            "tags": []
          },
          "execution_count": 8
        }
      ]
    },
    {
      "cell_type": "code",
      "metadata": {
        "colab": {
          "base_uri": "https://localhost:8080/"
        },
        "id": "OPvlLKm7nF5P",
        "outputId": "4eb81108-1770-436a-d8e4-1129bbe9d629"
      },
      "source": [
        "list_classes = [\"toxic\", \"severe_toxic\", \"obscene\", \"threat\", \"insult\", \"identity_hate\"]\n",
        "y = train[list_classes].values # y.shape (159571, 6)\n",
        "y.shape"
      ],
      "execution_count": null,
      "outputs": [
        {
          "output_type": "execute_result",
          "data": {
            "text/plain": [
              "(159571, 6)"
            ]
          },
          "metadata": {
            "tags": []
          },
          "execution_count": 9
        }
      ]
    },
    {
      "cell_type": "markdown",
      "metadata": {
        "id": "nUErxCEWnUMQ"
      },
      "source": [
        "-----"
      ]
    },
    {
      "cell_type": "markdown",
      "metadata": {
        "id": "L1DGGTWinUOx"
      },
      "source": [
        "------"
      ]
    },
    {
      "cell_type": "markdown",
      "metadata": {
        "id": "ZDFyjwgznURf"
      },
      "source": [
        "# Pretrained-Embedding-matrix"
      ]
    },
    {
      "cell_type": "code",
      "metadata": {
        "colab": {
          "base_uri": "https://localhost:8080/"
        },
        "id": "7QebYMQonTBb",
        "outputId": "bece58a1-6b91-4eac-eacc-e21e3236838f"
      },
      "source": [
        "embedding_dict = dict()\n",
        "f = open('/content/drive/Shareddrives/SOGANG Parrot/Pretrained-Embedding-Vector/glove.twitter.27B.200d.txt/glove.twitter.27B.200d.txt', encoding=\"utf8\")\n",
        "\n",
        "for line in f:\n",
        "    word_vector = line.split()\n",
        "    word = word_vector[0]\n",
        "    word_vector_arr = np.asarray(word_vector[1:], dtype='float32') # 200\n",
        "    embedding_dict[word] = word_vector_arr\n",
        "f.close()\n",
        "print('There are %s Embedding Vectors\\n' % len(embedding_dict))\n",
        "\n",
        "print(embedding_dict['respectable'])\n",
        "print(len(embedding_dict['respectable']))\n",
        "\n",
        "embedding_matrix = np.zeros((len(tokenizer.word_index)+1, 200)) # will delete first row\n",
        "\n",
        "for word, i in tokenizer.word_index.items(): \n",
        "    temp = embedding_dict.get(word) \n",
        "    if temp is not None:\n",
        "        embedding_matrix[i] = temp \n",
        "\n",
        "print(embedding_matrix.shape)\n",
        "embedding_matrix = np.delete(embedding_matrix,0,axis=0) # delete first row\n",
        "print(embedding_matrix.shape)"
      ],
      "execution_count": null,
      "outputs": [
        {
          "output_type": "stream",
          "text": [
            "There are 1193514 Embedding Vectors\n",
            "\n",
            "[-6.4748e-01 -3.7296e-01 -3.6128e-01  7.9975e-01 -2.1890e-01  7.6152e-01\n",
            " -7.3698e-02  2.2635e-01 -7.5429e-02  6.3600e-01 -6.5914e-01 -5.1787e-01\n",
            " -6.4411e-02 -3.0796e-01  4.4071e-01  1.4543e-01 -9.9792e-02 -2.3253e-01\n",
            "  2.0882e-01 -9.3256e-02 -2.9659e-01 -1.6643e-01 -1.3184e-01 -5.5247e-01\n",
            " -6.0625e-01  9.6745e-01  3.8410e-01 -1.4236e-02  2.8774e-01  7.5652e-01\n",
            "  1.1552e-01 -4.9894e-01 -9.2585e-02 -6.7708e-02  3.1373e-01  5.6426e-01\n",
            "  1.9797e-01  4.0703e-02  2.7106e-01 -3.3045e-01  3.9652e-01  1.3718e-01\n",
            "  5.0194e-01  3.7811e-01  2.9139e-01  2.6001e-01  2.9927e-01  3.6737e-01\n",
            "  1.0638e-01  3.7086e-01  2.3767e-02  6.4266e-01 -2.4067e-01 -3.1749e-01\n",
            " -3.4070e-01  9.3053e-01  1.8900e-01 -2.7260e-01 -3.5132e-01  1.4086e-01\n",
            " -1.6232e-01  8.7983e-03 -8.7401e-02 -1.2887e-01  2.5303e-01  9.0737e-01\n",
            " -3.3149e-01  5.8059e-02 -2.3855e-01  3.5351e-01 -3.8560e-01 -4.6745e-01\n",
            " -2.2487e-01 -1.9058e-01  3.4685e-02  4.1231e-01  9.3602e-02  2.0409e-01\n",
            " -2.4806e-01  1.3415e-01 -3.3103e-02 -1.3584e-01 -2.3476e-01 -8.4288e-02\n",
            "  4.6286e-01  3.8784e-01  4.4430e-01 -2.8609e-01 -2.7041e-01 -1.9235e-01\n",
            " -1.5831e-01  9.8357e-01 -2.6385e-01  5.4559e-01  3.3843e-01  3.2157e-01\n",
            "  7.3296e-01  1.0803e-01  6.5516e-01 -3.0074e-01  2.4091e-01 -2.8064e-02\n",
            " -3.1438e-01  2.2706e-01  6.0407e-01 -1.7941e-01  3.4237e-01 -8.2516e-02\n",
            "  6.8829e-02  1.9141e-01 -3.7076e-03  1.6319e-01  5.8710e-01  9.7778e-02\n",
            " -2.8883e-02 -1.4038e-01 -4.6740e-01  5.2499e-01  2.3336e-01  5.9216e-01\n",
            " -2.7878e-02  2.9111e-01 -6.0881e-01  1.0899e-01 -4.5522e-02  2.3117e-01\n",
            "  5.4563e-01 -5.5960e-01  2.9627e-01 -3.6436e-02 -6.6415e-01  7.2335e-02\n",
            "  2.1310e-01 -4.0450e-01 -2.6190e-02  3.4587e-01  8.3901e-02 -2.2964e-01\n",
            "  2.6786e-01  2.4783e-01  3.5687e-01  7.0495e-01  1.3507e-01 -5.8846e-02\n",
            "  2.4553e-01  2.3232e-01  3.1930e-01 -1.6204e-01  4.9869e-01 -7.8123e-02\n",
            " -8.7849e-02  2.2856e-01 -1.3048e+00  1.1218e-01  4.2665e-01 -3.1402e-01\n",
            " -3.2848e-02 -1.4033e-01 -1.8119e-01  8.1331e-01  2.2846e-02  2.2617e-01\n",
            " -2.1585e-01  1.7529e-02  1.8789e-01 -3.3444e-01 -4.4278e-01 -1.8998e-01\n",
            "  2.8810e-01 -4.6224e-02  1.0201e+00 -5.7756e-01 -2.7032e-01  3.2498e-02\n",
            " -2.1147e-01  1.8717e-01  1.5862e-01 -6.0124e-01 -2.0705e-01  8.3816e-02\n",
            " -4.2300e-01 -1.5713e-01 -1.6955e-01 -4.6085e-01 -2.1368e-01  2.4863e-01\n",
            " -4.2403e-01 -1.9565e-01 -3.7347e-01 -1.8980e-01  3.9056e-04  1.1618e-01\n",
            "  5.5893e-01 -3.8291e-01  2.1319e-01 -6.4864e-01  1.2915e-01  5.3299e-02\n",
            "  5.7116e-02 -1.1572e+00]\n",
            "200\n",
            "(172069, 200)\n",
            "(172068, 200)\n"
          ],
          "name": "stdout"
        }
      ]
    },
    {
      "cell_type": "code",
      "metadata": {
        "id": "QaIUTZEFnzMl"
      },
      "source": [
        "np.save('/content/drive/Shareddrives/SOGANG Parrot/Pretrained-Embedding-Vector/0405-preprocessing-200d-pretrained-embed-Glove.npy',embedding_matrix)"
      ],
      "execution_count": null,
      "outputs": []
    },
    {
      "cell_type": "code",
      "metadata": {
        "colab": {
          "base_uri": "https://localhost:8080/"
        },
        "id": "JIOJ2Doyzksp",
        "outputId": "f0861eb3-9df9-4ebb-f335-c8ea64c8f259"
      },
      "source": [
        "embedding_matrix = np.load('/content/drive/Shareddrives/SOGANG Parrot/Pretrained-Embedding-Vector/0405-preprocessing-200d-pretrained-embed-Glove.npy')\n",
        "embedding_matrix.shape"
      ],
      "execution_count": null,
      "outputs": [
        {
          "output_type": "execute_result",
          "data": {
            "text/plain": [
              "(172068, 200)"
            ]
          },
          "metadata": {
            "tags": []
          },
          "execution_count": 10
        }
      ]
    },
    {
      "cell_type": "markdown",
      "metadata": {
        "id": "vrsmOHZAoBnx"
      },
      "source": [
        "-----"
      ]
    },
    {
      "cell_type": "markdown",
      "metadata": {
        "id": "Frx0Kv-xuOcA"
      },
      "source": [
        "# 전처리 데이터 저장"
      ]
    },
    {
      "cell_type": "code",
      "metadata": {
        "id": "g6eMxBShtURx"
      },
      "source": [
        "train.to_csv('/content/drive/Shareddrives/SOGANG Parrot/Ho-colab/train.csv',index=False)"
      ],
      "execution_count": null,
      "outputs": []
    },
    {
      "cell_type": "code",
      "metadata": {
        "id": "qDJV25cqtpMN"
      },
      "source": [
        "test.to_csv('/content/drive/Shareddrives/SOGANG Parrot/Ho-colab/test.csv',index=False)"
      ],
      "execution_count": null,
      "outputs": []
    },
    {
      "cell_type": "code",
      "metadata": {
        "id": "ha7c0yCbzLiX"
      },
      "source": [
        "train = pd.read_csv('/content/drive/Shareddrives/SOGANG Parrot/Ho-colab/train.csv')\n",
        "test = pd.read_csv('/content/drive/Shareddrives/SOGANG Parrot/Ho-colab/test.csv')"
      ],
      "execution_count": null,
      "outputs": []
    },
    {
      "cell_type": "markdown",
      "metadata": {
        "id": "XpeQlc8coBqE"
      },
      "source": [
        "----------"
      ]
    },
    {
      "cell_type": "markdown",
      "metadata": {
        "id": "GZ1YEaEkoBv1"
      },
      "source": [
        "# Model"
      ]
    },
    {
      "cell_type": "code",
      "metadata": {
        "id": "zj6RGXWuvzx1"
      },
      "source": [
        "# new one \n",
        "inp = Input(shape=(maxlen, )) #maxlen=50\n",
        "x = Embedding(len(tokenizer.word_index), embedding_matrix.shape[1],\n",
        "              weights=[embedding_matrix],trainable=False)(inp)\n",
        "x = SpatialDropout1D(0.2)(x)\n",
        "x = Bidirectional(GRU(128, return_sequences=True))(x)\n",
        "x = Bidirectional(GRU(128, return_sequences=True))(x)\n",
        "avg_pool = GlobalMaxPooling1D()(x)\n",
        "max_pool = GlobalAveragePooling1D()(x)\n",
        "conc = concatenate([avg_pool, max_pool])\n",
        "x = Dense(50, activation=\"relu\")(conc)\n",
        "x = Dropout(0.2)(x)\n",
        "x = Dense(6, activation=\"sigmoid\")(x)"
      ],
      "execution_count": null,
      "outputs": []
    },
    {
      "cell_type": "code",
      "metadata": {
        "id": "32pwXLUtoNLI"
      },
      "source": [
        "model = Model(inputs=inp, outputs=x)\n",
        "model.compile(loss='binary_crossentropy',\n",
        "                  optimizer='adam',\n",
        "                  metrics=['accuracy'])"
      ],
      "execution_count": null,
      "outputs": []
    },
    {
      "cell_type": "code",
      "metadata": {
        "colab": {
          "base_uri": "https://localhost:8080/"
        },
        "id": "2vD26eXUoOin",
        "outputId": "a7b4625e-77f3-48cb-c4be-232b21e1d0a9"
      },
      "source": [
        "model.summary()"
      ],
      "execution_count": null,
      "outputs": [
        {
          "output_type": "stream",
          "text": [
            "Model: \"model_1\"\n",
            "__________________________________________________________________________________________________\n",
            "Layer (type)                    Output Shape         Param #     Connected to                     \n",
            "==================================================================================================\n",
            "input_2 (InputLayer)            [(None, 50)]         0                                            \n",
            "__________________________________________________________________________________________________\n",
            "embedding_1 (Embedding)         (None, 50, 200)      34413600    input_2[0][0]                    \n",
            "__________________________________________________________________________________________________\n",
            "spatial_dropout1d_1 (SpatialDro (None, 50, 200)      0           embedding_1[0][0]                \n",
            "__________________________________________________________________________________________________\n",
            "bidirectional_2 (Bidirectional) (None, 50, 256)      253440      spatial_dropout1d_1[0][0]        \n",
            "__________________________________________________________________________________________________\n",
            "bidirectional_3 (Bidirectional) (None, 50, 256)      296448      bidirectional_2[0][0]            \n",
            "__________________________________________________________________________________________________\n",
            "global_max_pooling1d_1 (GlobalM (None, 256)          0           bidirectional_3[0][0]            \n",
            "__________________________________________________________________________________________________\n",
            "global_average_pooling1d_1 (Glo (None, 256)          0           bidirectional_3[0][0]            \n",
            "__________________________________________________________________________________________________\n",
            "concatenate_1 (Concatenate)     (None, 512)          0           global_max_pooling1d_1[0][0]     \n",
            "                                                                 global_average_pooling1d_1[0][0] \n",
            "__________________________________________________________________________________________________\n",
            "dense_2 (Dense)                 (None, 50)           25650       concatenate_1[0][0]              \n",
            "__________________________________________________________________________________________________\n",
            "dropout_1 (Dropout)             (None, 50)           0           dense_2[0][0]                    \n",
            "__________________________________________________________________________________________________\n",
            "dense_3 (Dense)                 (None, 6)            306         dropout_1[0][0]                  \n",
            "==================================================================================================\n",
            "Total params: 34,989,444\n",
            "Trainable params: 575,844\n",
            "Non-trainable params: 34,413,600\n",
            "__________________________________________________________________________________________________\n"
          ],
          "name": "stdout"
        }
      ]
    },
    {
      "cell_type": "markdown",
      "metadata": {
        "id": "c9neMAPjwSpn"
      },
      "source": [
        "----------"
      ]
    },
    {
      "cell_type": "markdown",
      "metadata": {
        "id": "2DINyV1jwSF4"
      },
      "source": [
        "-------"
      ]
    },
    {
      "cell_type": "code",
      "metadata": {
        "id": "cq3w2VYgwBPv"
      },
      "source": [
        "tf.keras.backend.clear_session()"
      ],
      "execution_count": null,
      "outputs": []
    },
    {
      "cell_type": "code",
      "metadata": {
        "colab": {
          "base_uri": "https://localhost:8080/",
          "height": 1000
        },
        "id": "VzD7y20PwRnv",
        "outputId": "1ead186a-2b7f-4bb9-948b-f7b77d88c608"
      },
      "source": [
        "from tensorflow.keras.callbacks import ModelCheckpoint\n",
        "#checkpoint\n",
        "checkpoint = ModelCheckpoint(filepath='/content/drive/Shareddrives/SOGANG Parrot/Trained-Model/0405-focus-prprocessing-pretrained-embed-Glove.hdf5', monitor='val_loss', verbose=1, save_best_only=True)\n",
        "\n",
        "batch_size = 64\n",
        "epochs = 10\n",
        "hist = model.fit(X_t,y, batch_size=batch_size, epochs=epochs, callbacks=[checkpoint], validation_split=0.2)"
      ],
      "execution_count": null,
      "outputs": [
        {
          "output_type": "stream",
          "text": [
            "Epoch 1/10\n",
            "1995/1995 [==============================] - 921s 458ms/step - loss: 0.1186 - accuracy: 0.7728 - val_loss: 0.0656 - val_accuracy: 0.9941\n",
            "\n",
            "Epoch 00001: val_loss improved from inf to 0.06563, saving model to /content/drive/Shareddrives/SOGANG Parrot/Trained-Model/0405-focus-prprocessing-pretrained-embed-Glove.hdf5\n",
            "Epoch 2/10\n",
            "1995/1995 [==============================] - 908s 455ms/step - loss: 0.0653 - accuracy: 0.9935 - val_loss: 0.0599 - val_accuracy: 0.9941\n",
            "\n",
            "Epoch 00002: val_loss improved from 0.06563 to 0.05994, saving model to /content/drive/Shareddrives/SOGANG Parrot/Trained-Model/0405-focus-prprocessing-pretrained-embed-Glove.hdf5\n",
            "Epoch 3/10\n",
            "1995/1995 [==============================] - 906s 454ms/step - loss: 0.0586 - accuracy: 0.9943 - val_loss: 0.0623 - val_accuracy: 0.9940\n",
            "\n",
            "Epoch 00003: val_loss did not improve from 0.05994\n",
            "Epoch 4/10\n",
            "1995/1995 [==============================] - 908s 455ms/step - loss: 0.0539 - accuracy: 0.9930 - val_loss: 0.0565 - val_accuracy: 0.9941\n",
            "\n",
            "Epoch 00004: val_loss improved from 0.05994 to 0.05647, saving model to /content/drive/Shareddrives/SOGANG Parrot/Trained-Model/0405-focus-prprocessing-pretrained-embed-Glove.hdf5\n",
            "Epoch 5/10\n",
            "1995/1995 [==============================] - 896s 449ms/step - loss: 0.0494 - accuracy: 0.9946 - val_loss: 0.0552 - val_accuracy: 0.9941\n",
            "\n",
            "Epoch 00005: val_loss improved from 0.05647 to 0.05517, saving model to /content/drive/Shareddrives/SOGANG Parrot/Trained-Model/0405-focus-prprocessing-pretrained-embed-Glove.hdf5\n",
            "Epoch 6/10\n",
            "1995/1995 [==============================] - 885s 444ms/step - loss: 0.0468 - accuracy: 0.9934 - val_loss: 0.0571 - val_accuracy: 0.9941\n",
            "\n",
            "Epoch 00006: val_loss did not improve from 0.05517\n",
            "Epoch 7/10\n",
            "1995/1995 [==============================] - 885s 444ms/step - loss: 0.0432 - accuracy: 0.9934 - val_loss: 0.0579 - val_accuracy: 0.9935\n",
            "\n",
            "Epoch 00007: val_loss did not improve from 0.05517\n",
            "Epoch 8/10\n",
            "1995/1995 [==============================] - 884s 443ms/step - loss: 0.0404 - accuracy: 0.9934 - val_loss: 0.0579 - val_accuracy: 0.9929\n",
            "\n",
            "Epoch 00008: val_loss did not improve from 0.05517\n",
            "Epoch 9/10\n",
            "  73/1995 [>.............................] - ETA: 13:14 - loss: 0.0397 - accuracy: 0.9932"
          ],
          "name": "stdout"
        },
        {
          "output_type": "error",
          "ename": "KeyboardInterrupt",
          "evalue": "ignored",
          "traceback": [
            "\u001b[0;31m---------------------------------------------------------------------------\u001b[0m",
            "\u001b[0;31mKeyboardInterrupt\u001b[0m                         Traceback (most recent call last)",
            "\u001b[0;32m<ipython-input-111-a8577df1fb8e>\u001b[0m in \u001b[0;36m<module>\u001b[0;34m()\u001b[0m\n\u001b[1;32m      5\u001b[0m \u001b[0mbatch_size\u001b[0m \u001b[0;34m=\u001b[0m \u001b[0;36m64\u001b[0m\u001b[0;34m\u001b[0m\u001b[0;34m\u001b[0m\u001b[0m\n\u001b[1;32m      6\u001b[0m \u001b[0mepochs\u001b[0m \u001b[0;34m=\u001b[0m \u001b[0;36m10\u001b[0m\u001b[0;34m\u001b[0m\u001b[0;34m\u001b[0m\u001b[0m\n\u001b[0;32m----> 7\u001b[0;31m \u001b[0mhist\u001b[0m \u001b[0;34m=\u001b[0m \u001b[0mmodel\u001b[0m\u001b[0;34m.\u001b[0m\u001b[0mfit\u001b[0m\u001b[0;34m(\u001b[0m\u001b[0mX_t\u001b[0m\u001b[0;34m,\u001b[0m\u001b[0my\u001b[0m\u001b[0;34m,\u001b[0m \u001b[0mbatch_size\u001b[0m\u001b[0;34m=\u001b[0m\u001b[0mbatch_size\u001b[0m\u001b[0;34m,\u001b[0m \u001b[0mepochs\u001b[0m\u001b[0;34m=\u001b[0m\u001b[0mepochs\u001b[0m\u001b[0;34m,\u001b[0m \u001b[0mcallbacks\u001b[0m\u001b[0;34m=\u001b[0m\u001b[0;34m[\u001b[0m\u001b[0mcheckpoint\u001b[0m\u001b[0;34m]\u001b[0m\u001b[0;34m,\u001b[0m \u001b[0mvalidation_split\u001b[0m\u001b[0;34m=\u001b[0m\u001b[0;36m0.2\u001b[0m\u001b[0;34m)\u001b[0m\u001b[0;34m\u001b[0m\u001b[0;34m\u001b[0m\u001b[0m\n\u001b[0m",
            "\u001b[0;32m/usr/local/lib/python3.7/dist-packages/tensorflow/python/keras/engine/training.py\u001b[0m in \u001b[0;36mfit\u001b[0;34m(self, x, y, batch_size, epochs, verbose, callbacks, validation_split, validation_data, shuffle, class_weight, sample_weight, initial_epoch, steps_per_epoch, validation_steps, validation_batch_size, validation_freq, max_queue_size, workers, use_multiprocessing)\u001b[0m\n\u001b[1;32m   1098\u001b[0m                 _r=1):\n\u001b[1;32m   1099\u001b[0m               \u001b[0mcallbacks\u001b[0m\u001b[0;34m.\u001b[0m\u001b[0mon_train_batch_begin\u001b[0m\u001b[0;34m(\u001b[0m\u001b[0mstep\u001b[0m\u001b[0;34m)\u001b[0m\u001b[0;34m\u001b[0m\u001b[0;34m\u001b[0m\u001b[0m\n\u001b[0;32m-> 1100\u001b[0;31m               \u001b[0mtmp_logs\u001b[0m \u001b[0;34m=\u001b[0m \u001b[0mself\u001b[0m\u001b[0;34m.\u001b[0m\u001b[0mtrain_function\u001b[0m\u001b[0;34m(\u001b[0m\u001b[0miterator\u001b[0m\u001b[0;34m)\u001b[0m\u001b[0;34m\u001b[0m\u001b[0;34m\u001b[0m\u001b[0m\n\u001b[0m\u001b[1;32m   1101\u001b[0m               \u001b[0;32mif\u001b[0m \u001b[0mdata_handler\u001b[0m\u001b[0;34m.\u001b[0m\u001b[0mshould_sync\u001b[0m\u001b[0;34m:\u001b[0m\u001b[0;34m\u001b[0m\u001b[0;34m\u001b[0m\u001b[0m\n\u001b[1;32m   1102\u001b[0m                 \u001b[0mcontext\u001b[0m\u001b[0;34m.\u001b[0m\u001b[0masync_wait\u001b[0m\u001b[0;34m(\u001b[0m\u001b[0;34m)\u001b[0m\u001b[0;34m\u001b[0m\u001b[0;34m\u001b[0m\u001b[0m\n",
            "\u001b[0;32m/usr/local/lib/python3.7/dist-packages/tensorflow/python/eager/def_function.py\u001b[0m in \u001b[0;36m__call__\u001b[0;34m(self, *args, **kwds)\u001b[0m\n\u001b[1;32m    826\u001b[0m     \u001b[0mtracing_count\u001b[0m \u001b[0;34m=\u001b[0m \u001b[0mself\u001b[0m\u001b[0;34m.\u001b[0m\u001b[0mexperimental_get_tracing_count\u001b[0m\u001b[0;34m(\u001b[0m\u001b[0;34m)\u001b[0m\u001b[0;34m\u001b[0m\u001b[0;34m\u001b[0m\u001b[0m\n\u001b[1;32m    827\u001b[0m     \u001b[0;32mwith\u001b[0m \u001b[0mtrace\u001b[0m\u001b[0;34m.\u001b[0m\u001b[0mTrace\u001b[0m\u001b[0;34m(\u001b[0m\u001b[0mself\u001b[0m\u001b[0;34m.\u001b[0m\u001b[0m_name\u001b[0m\u001b[0;34m)\u001b[0m \u001b[0;32mas\u001b[0m \u001b[0mtm\u001b[0m\u001b[0;34m:\u001b[0m\u001b[0;34m\u001b[0m\u001b[0;34m\u001b[0m\u001b[0m\n\u001b[0;32m--> 828\u001b[0;31m       \u001b[0mresult\u001b[0m \u001b[0;34m=\u001b[0m \u001b[0mself\u001b[0m\u001b[0;34m.\u001b[0m\u001b[0m_call\u001b[0m\u001b[0;34m(\u001b[0m\u001b[0;34m*\u001b[0m\u001b[0margs\u001b[0m\u001b[0;34m,\u001b[0m \u001b[0;34m**\u001b[0m\u001b[0mkwds\u001b[0m\u001b[0;34m)\u001b[0m\u001b[0;34m\u001b[0m\u001b[0;34m\u001b[0m\u001b[0m\n\u001b[0m\u001b[1;32m    829\u001b[0m       \u001b[0mcompiler\u001b[0m \u001b[0;34m=\u001b[0m \u001b[0;34m\"xla\"\u001b[0m \u001b[0;32mif\u001b[0m \u001b[0mself\u001b[0m\u001b[0;34m.\u001b[0m\u001b[0m_experimental_compile\u001b[0m \u001b[0;32melse\u001b[0m \u001b[0;34m\"nonXla\"\u001b[0m\u001b[0;34m\u001b[0m\u001b[0;34m\u001b[0m\u001b[0m\n\u001b[1;32m    830\u001b[0m       \u001b[0mnew_tracing_count\u001b[0m \u001b[0;34m=\u001b[0m \u001b[0mself\u001b[0m\u001b[0;34m.\u001b[0m\u001b[0mexperimental_get_tracing_count\u001b[0m\u001b[0;34m(\u001b[0m\u001b[0;34m)\u001b[0m\u001b[0;34m\u001b[0m\u001b[0;34m\u001b[0m\u001b[0m\n",
            "\u001b[0;32m/usr/local/lib/python3.7/dist-packages/tensorflow/python/eager/def_function.py\u001b[0m in \u001b[0;36m_call\u001b[0;34m(self, *args, **kwds)\u001b[0m\n\u001b[1;32m    853\u001b[0m       \u001b[0;31m# In this case we have created variables on the first call, so we run the\u001b[0m\u001b[0;34m\u001b[0m\u001b[0;34m\u001b[0m\u001b[0;34m\u001b[0m\u001b[0m\n\u001b[1;32m    854\u001b[0m       \u001b[0;31m# defunned version which is guaranteed to never create variables.\u001b[0m\u001b[0;34m\u001b[0m\u001b[0;34m\u001b[0m\u001b[0;34m\u001b[0m\u001b[0m\n\u001b[0;32m--> 855\u001b[0;31m       \u001b[0;32mreturn\u001b[0m \u001b[0mself\u001b[0m\u001b[0;34m.\u001b[0m\u001b[0m_stateless_fn\u001b[0m\u001b[0;34m(\u001b[0m\u001b[0;34m*\u001b[0m\u001b[0margs\u001b[0m\u001b[0;34m,\u001b[0m \u001b[0;34m**\u001b[0m\u001b[0mkwds\u001b[0m\u001b[0;34m)\u001b[0m  \u001b[0;31m# pylint: disable=not-callable\u001b[0m\u001b[0;34m\u001b[0m\u001b[0;34m\u001b[0m\u001b[0m\n\u001b[0m\u001b[1;32m    856\u001b[0m     \u001b[0;32melif\u001b[0m \u001b[0mself\u001b[0m\u001b[0;34m.\u001b[0m\u001b[0m_stateful_fn\u001b[0m \u001b[0;32mis\u001b[0m \u001b[0;32mnot\u001b[0m \u001b[0;32mNone\u001b[0m\u001b[0;34m:\u001b[0m\u001b[0;34m\u001b[0m\u001b[0;34m\u001b[0m\u001b[0m\n\u001b[1;32m    857\u001b[0m       \u001b[0;31m# Release the lock early so that multiple threads can perform the call\u001b[0m\u001b[0;34m\u001b[0m\u001b[0;34m\u001b[0m\u001b[0;34m\u001b[0m\u001b[0m\n",
            "\u001b[0;32m/usr/local/lib/python3.7/dist-packages/tensorflow/python/eager/function.py\u001b[0m in \u001b[0;36m__call__\u001b[0;34m(self, *args, **kwargs)\u001b[0m\n\u001b[1;32m   2941\u001b[0m        filtered_flat_args) = self._maybe_define_function(args, kwargs)\n\u001b[1;32m   2942\u001b[0m     return graph_function._call_flat(\n\u001b[0;32m-> 2943\u001b[0;31m         filtered_flat_args, captured_inputs=graph_function.captured_inputs)  # pylint: disable=protected-access\n\u001b[0m\u001b[1;32m   2944\u001b[0m \u001b[0;34m\u001b[0m\u001b[0m\n\u001b[1;32m   2945\u001b[0m   \u001b[0;34m@\u001b[0m\u001b[0mproperty\u001b[0m\u001b[0;34m\u001b[0m\u001b[0;34m\u001b[0m\u001b[0m\n",
            "\u001b[0;32m/usr/local/lib/python3.7/dist-packages/tensorflow/python/eager/function.py\u001b[0m in \u001b[0;36m_call_flat\u001b[0;34m(self, args, captured_inputs, cancellation_manager)\u001b[0m\n\u001b[1;32m   1917\u001b[0m       \u001b[0;31m# No tape is watching; skip to running the function.\u001b[0m\u001b[0;34m\u001b[0m\u001b[0;34m\u001b[0m\u001b[0;34m\u001b[0m\u001b[0m\n\u001b[1;32m   1918\u001b[0m       return self._build_call_outputs(self._inference_function.call(\n\u001b[0;32m-> 1919\u001b[0;31m           ctx, args, cancellation_manager=cancellation_manager))\n\u001b[0m\u001b[1;32m   1920\u001b[0m     forward_backward = self._select_forward_and_backward_functions(\n\u001b[1;32m   1921\u001b[0m         \u001b[0margs\u001b[0m\u001b[0;34m,\u001b[0m\u001b[0;34m\u001b[0m\u001b[0;34m\u001b[0m\u001b[0m\n",
            "\u001b[0;32m/usr/local/lib/python3.7/dist-packages/tensorflow/python/eager/function.py\u001b[0m in \u001b[0;36mcall\u001b[0;34m(self, ctx, args, cancellation_manager)\u001b[0m\n\u001b[1;32m    558\u001b[0m               \u001b[0minputs\u001b[0m\u001b[0;34m=\u001b[0m\u001b[0margs\u001b[0m\u001b[0;34m,\u001b[0m\u001b[0;34m\u001b[0m\u001b[0;34m\u001b[0m\u001b[0m\n\u001b[1;32m    559\u001b[0m               \u001b[0mattrs\u001b[0m\u001b[0;34m=\u001b[0m\u001b[0mattrs\u001b[0m\u001b[0;34m,\u001b[0m\u001b[0;34m\u001b[0m\u001b[0;34m\u001b[0m\u001b[0m\n\u001b[0;32m--> 560\u001b[0;31m               ctx=ctx)\n\u001b[0m\u001b[1;32m    561\u001b[0m         \u001b[0;32melse\u001b[0m\u001b[0;34m:\u001b[0m\u001b[0;34m\u001b[0m\u001b[0;34m\u001b[0m\u001b[0m\n\u001b[1;32m    562\u001b[0m           outputs = execute.execute_with_cancellation(\n",
            "\u001b[0;32m/usr/local/lib/python3.7/dist-packages/tensorflow/python/eager/execute.py\u001b[0m in \u001b[0;36mquick_execute\u001b[0;34m(op_name, num_outputs, inputs, attrs, ctx, name)\u001b[0m\n\u001b[1;32m     58\u001b[0m     \u001b[0mctx\u001b[0m\u001b[0;34m.\u001b[0m\u001b[0mensure_initialized\u001b[0m\u001b[0;34m(\u001b[0m\u001b[0;34m)\u001b[0m\u001b[0;34m\u001b[0m\u001b[0;34m\u001b[0m\u001b[0m\n\u001b[1;32m     59\u001b[0m     tensors = pywrap_tfe.TFE_Py_Execute(ctx._handle, device_name, op_name,\n\u001b[0;32m---> 60\u001b[0;31m                                         inputs, attrs, num_outputs)\n\u001b[0m\u001b[1;32m     61\u001b[0m   \u001b[0;32mexcept\u001b[0m \u001b[0mcore\u001b[0m\u001b[0;34m.\u001b[0m\u001b[0m_NotOkStatusException\u001b[0m \u001b[0;32mas\u001b[0m \u001b[0me\u001b[0m\u001b[0;34m:\u001b[0m\u001b[0;34m\u001b[0m\u001b[0;34m\u001b[0m\u001b[0m\n\u001b[1;32m     62\u001b[0m     \u001b[0;32mif\u001b[0m \u001b[0mname\u001b[0m \u001b[0;32mis\u001b[0m \u001b[0;32mnot\u001b[0m \u001b[0;32mNone\u001b[0m\u001b[0;34m:\u001b[0m\u001b[0;34m\u001b[0m\u001b[0;34m\u001b[0m\u001b[0m\n",
            "\u001b[0;31mKeyboardInterrupt\u001b[0m: "
          ]
        }
      ]
    },
    {
      "cell_type": "code",
      "metadata": {
        "id": "cNtIilRDzyE3"
      },
      "source": [
        "model = load_model('/content/drive/Shareddrives/SOGANG Parrot/Trained-Model/0405-focus-prprocessing-pretrained-embed-Glove.hdf5')"
      ],
      "execution_count": null,
      "outputs": []
    },
    {
      "cell_type": "markdown",
      "metadata": {
        "id": "dpPE4Oj4wY-g"
      },
      "source": [
        "--------------"
      ]
    },
    {
      "cell_type": "markdown",
      "metadata": {
        "id": "ZtvcA1rIwapa"
      },
      "source": [
        "# Prediction"
      ]
    },
    {
      "cell_type": "code",
      "metadata": {
        "id": "f6HS_dmfwYmf"
      },
      "source": [
        "sample_submission = pd.read_csv(\"/content/drive/Shareddrives/SOGANG Parrot/sample_submission.csv/sample_submission.csv\")\n",
        "\n",
        "sample_submission[list_classes] = model.predict(X_te)\n",
        "\n",
        "sample_submission.to_csv(\"/content/drive/Shareddrives/SOGANG Parrot/All-submission/0405-focus-prprocessing-pretrained-embed-Glove.csv\", index=False)"
      ],
      "execution_count": null,
      "outputs": []
    },
    {
      "cell_type": "markdown",
      "metadata": {
        "id": "3bRnsqjY4OVX"
      },
      "source": [
        "![image.png](data:image/png;base64,iVBORw0KGgoAAAANSUhEUgAABKkAAABxCAYAAAAeYfDvAAAgAElEQVR4Ae29z29TSbr/z5+RLctezpItS8SKJVJWUS9GSL3JrOBKF13xRVe0p0UEfNARAc0HQ+hkxpAZTzrc4FhOIPGEfONg2hNHCXHaIN8kHRrTltPBEOv9UdWpOqfODzs2+UHSeSMs2+fUearqVXVOUu88z1PHwH8kQAIkQAIkQAIkQAIkQAIkQAIkQAIkQAIksA8ECss/NazlWMMzPEECJEACJEACJEACJEACJEACJEACJEACJEACu0igqUj16dMn8EUGnAOcA5wDnAOcA5wDnAOcA5wDnAOcA5wDnAOcA5wDnAN7OQeE1tVUpHpXLoMvMuAc4BzgHOAc4BzgHOAc4BzgHOAc4BzgHOAc4BzgHOAc2Ms5sK1ItYseWzRFAiRAAiRAAiRAAiRAAiRAAiRAAiRAAiRAAg0JNPWkangVT5AACZAACZAACZAACZAACZAACZAACZAACZDALhKgSLWLMGmKBEiABEiABEiABEiABEiABEiABEiABEjg8whQpPo8bryKBEiABEiABEiABEiABEiABEiABEiABEhgFwlQpNpFmDRFAiRAAiRAAiRAAiRAAiRAAiRAAiRAAiTweQQoUn0eN15FAiRAAiRAAiRAAiRAAiRAAiRAAiRAAiSwiwQoUu0iTJoiARIgARIgARIgARIgARIgARIgARIgARL4PAIUqT6PG68iARIgARIgARIgARIgARIgARIgARIgARLYRQIUqXYRJk2RAAmQAAmQAAmQAAmQAAmQAAmQAAmQAAl8HgGKVJ/HjVeRAAmQAAmQAAmQAAmQAAmQAAmQwGcR+PTpEzLZHEbHJnflJWwJm/xHAoedAEWqwz6CbD8JkAAJkAAJkAAJkAAJkAAJkMChIpDNze+KOGWKXMIm/5HAYSdAkeqwjyDbTwIkQAIkQAIkQAIkQAIkQAIkcKgIaHFp5kUOhZ9e7+glbGh7hwoCG0sCIQQoUoVA4SESIAESIAESIAESIAESIAESIAES2CsCWlQSAtVO/wkb2t5ObfF6EvjSBChSfekRYP0kQAIkQAIkQAIkQAIkQAIkQAJHioAWlShSHalhZ2dbIECRqgVILEICJEACJEACJEACJEACJEACJEACu0WAItVukaSd3xsBilS/txFlf0iABEiABEiABEiABEiABEiABA40AYpUB3p42LgvSIAi1ReEz6pJgARIgARIgARIgARIgARIgASOHgGKVEdvzNnj1ghQpGqNE0uRAAmQAAmQAAmQAAmQAAmQAAmQwK4QoEi1Kxhp5HdI4HCIVPUayu8r9utDfXeH4UNV2a5ic5dNhze0jnJxAb2xKXTfm0FkvBRejEePMIE6yrkcIvEFFGpHGMNudv19EfdjsxgqftpNq7S13wTMnwVVjuV+42d9JPB7JlCrVlEVr8/8uetc36KBtsrXVNuqVbTSPMf2ZgsjtlWz+92i7RYsssheENjxOLnj3NoUba+8M+daMr6XtvcC/t7ZpEi1d2xp+XATOOAiVR3lqWmciiRw7Ir7OhNbRnk7QWn5JU6pa84k3gVHqf4eowMpHDfsHouMIzL7PlB2JTHuqd9syzErh5XAFY0PbOamccKoM7RtjS/nmSNB4A0ias53jQfn4+8XwSdsCjG60sqv4O1RyMTU86N3DuX2Lt2F0u9w3xL1j+N+Ow+LXah5OxP62XYpu13J3Ti/Aw61dxiNjeMr38+C4zemcH+h6m3cSg5nxDN2YNl7nN9IgARIIIRAbemf+PZcJ06fPq1enTh/awKrWyGFww79msfD/+4yrj+NzvO3kXrT4GdZSPmu/7yNibUQ45uvkbp1Hp1O207j9NcX0T/re+6pS1cnb+Pi17of4r0Tf7zyTyyFFq9h6R/f4o+dRvnO87g9uRrSEB76cgR2Pk7Vfz/EZd+8OH8rhdcNRMxg+S5cvBN+T9TepHD7vHn/nEbXf/Yj+2s4sXZsI+ReaXpvhVd5oI9SpDrQw8PGfUECB1qk2swqQScyjkuJBYymc7hw015snhhYRoNnK1B/qxaFdtmgEPQbJgeSUng6bk3jfvoVhhJTSgxL4lL2N8+QZP4uyiZx9vsZRGK+1+NiW4veyQG7Td1Too66/O+pjF9IAHWUZ18iEp/DXOgvlr9XRMu4JMSFNoXflmisL6M3NovYK++93dK1Oy60A3Fmx3U3N3AoRKrqMi5ds5+b4g8J3eoZ3H0riQ4p+Cdx7ulbt6MUqVwW/EQCJNCcwNJD/EkIQJ3n0fOPCWSzE47g1PnnCYT8idNr79dp3JQiTxcuP0hhOpvFxD96cF4e+xMeLnmLYzOP/m4hCnXh8p0RTGQnMHLnMrpkG25i2rOwX0Xqz2LxL0SzEWl7eqxfiQ1/Qv+8VwR79/RbW8zq7sE/J7PIZqeR+r8X7WP/OQK/9LQ0+CcprHWeV+UntZDRiW+fbttzX8f4da8I7HScqlM37Tnw9WX0j03LOf7Pa0r47H4I/xStzffb98TXl3H7yQSykyO4rUTYzv8zDc+vpWspfCvmuhA3nwjb00g9UPO5ux9530KtLdvt3lt7NQB7bJci1R4DpvlDS+DgilT1N4j0iIXJOO6XDLep+gp6b4jjKfQWw7jXUUiMy8XL2Vu2B1RApJqfsb2ZrBwKhmlo76sbL1FwTNcx+b1qxy54Qdgi1cHzqHC6yw8k8MUI7KFI9cX6JCqmSGXj/xwONecPCif6FnwetELM1X/ImMDQL2qQKVJ90dnOykng8BCoYuKqEIy+wd1/m4KPKw7dzZrHgz1bin0jhZ7LSZ8E9OafuCiEp6sTnkW9LTh04tsxb/nV5GVp55tBQzJY6Jfiwjf38t4Qv7UULgvbHhFtCQ+/EWLBbWQ9wkAN2Tu20NW/YLT/1wn0CBvf3PUKCY7ocBfbdN0wxo97RmDH46TmxenLSPk89V4PXZRzrmfSlJ2W8FCIqJ3f+sqvIvXf9r1iCq9LA2Ju+e8fQM9nr9jZpu027609G4M9NkyRao8B0/yhJXBwRar5GfxB/JX83kLAY2pzKi29oP7w9zdB8CtzOBtJoOPWHFay07KcX6SyPaMS6J7y//JRw+g9IUglEZnXpvXCahqT+tDnvM/N4uS1FE6ocJWvelLy+/U5bewTVmZmce5mUoYgdnyXRNfAHObemyqaKitCX+JpnLkq2prAVz0TuDReMhZw7zB0V9ifRUabV++ZuL9eAO9LiA1M4OR3rr3ITDt/RTPqq7/F6MCE3c9ISB/W59F9LYWT8SLKszPokn1QbBWj7qfvsDn3Eudu2J4SX91I47qvPXY/0hhaLuF+X0qGAbnjXEd5YQ6XepN2eFAkiTN/mcXoWkgOm21ZNmAu2pReC8zNllj66jx+dRzdCXP8AKd/66p+g43k1uOy6c2Zv2Co8muvEFH97/guJe1vOuxD7ht1mefNLF9akDxFeOzxq/75BsApGzKuwqhvjp3oncb9nBvKuPI0jZPX7Ll/LJKU98bJu/N2KO12tkN4nou/wop5exv8ZB8dm2+w+SqHbnXfyb6lfb/JiQt8dcg5GTb+9SrmElPOvXmidwaT69qzs11x2v9MSOGcyFNmDre/H+qesesVnprvMRlT97a4D/rmPHnOXE+qTyiMT+GUegaI8Qn1OttvDlpwujqNyQ+e2am+1JF5ZHvFnnqsxk1f4w/388/Bm77nyssZnBLPpr8H//pRTk/JOdmV1B5bwWdM10AOmfWQ53VYs7dri7zGO/7ivjjTl3N/JtSKiNwQz/MZZPzV/rJgP2fvzBl/cAlrCI+RwBEmsK7EnhAvIyw9xDdCxLmT9QpEHlzv1ML9doigo899iwnn16k8+oXXyX8EvZrEz5ilbBbZhXdOfe+mbuP8f5xHv0dAEw3Io1+0rbPf8IKp4rXvet3Ud2O2ANbv/F4L6GMXn3jFMnGNFt5uz5o/RLU1vu8ngR2Pk57jYfNYnzPFznlbGD3/ODgvautLyGazWFrX8+Idpm+dx/n/6EdeH9Jw5vttL70BQ3Rt07YtirV6b+mKD987RarDN2Zs8f4QOLAilV48nU05P91dInoRIoQo9yiACobuKK8n4X0VKlJp0WkcMS0AGDaC9b5BRAgp115i7t0Khh7b4X696RWU/Q9lw07gY1OR6jdMxlJ26EokhXMDM3BCWSITiJmeZEboi1hQdw+k3YWlEwKp+xgU1nS4oZOD5pcFnFPC2RmRyD02hS4VWhPKPtAxcUDXl8algSSEKHJuYEoJUAkc65mG84caPXbWuMwbc/xqCid7ZmwxTY/X99NSaDzRO4ULf7EFKCHGnU3oBSJg9yOFM1YSWtQ4Ny7mSh2F1ISdayySxNl7M9KGzD0WSXlDOVtiCcAo99WtKcnorF7MO8wBtMKy/gbXFd+Td4StGXTLfEUJnIgVHdEr4HGn2dwRAqAScZRQZYuqxiq1lJP8pIB5I40L92zR8OzAVHu5evRY3Z3GpZ4EhDCjbQnbnpBbXTZsXEtz6FJz7NRfphARc1Z912PaVKRqZvtDUbZN9lWOjctTCtV6vmp+Oj+dttk7Ief/CSFOaJHsSgLnnlb0la2PP9wwYjEnu+5N2UJrzzjOyjFvR6Rynwkd39khbs4zIex+kv1Q80KJ1+K+uy7vR/u4Fsg7+l4580w/784NTMt5Jcanu1eJhVd8oc+t3ge7yKH8dEIK8SeHvU96d3BCPumxNUUqYw7Ke9iYgydjKnS8voxLYl5GpjFp3E7i50qsV/xc0d675jPGfl6L55T9jPF5/oY0D2ZbfPeUvh/Ec0wI1SKcsePaBC6IEMd743YdPdPISMGurp6DCVzKehqM8rjNzRHuwtrBYyRw1An8+27Qe8lhksdd6WkUDIdyimAVI/8pvEvuIu8eVJ+EB5M4dxqOOPS/Izh/+jRsb6ka3i1NYCT2EA+fTGAp5FfdgEl9QHvX+EOv9HnPu/aAuYiR/3VP5O8FvWKcs025OKX4YR8I7Hic/nfE9ui7F5yhqGVxW8zx0/3O/F19fF56RklvKSGcTo7gYewhRiaX8K7VHG3i1+bJHjn3b065f1Vrz3ab99Y+jMVeVUGRaq/I0u5hJ3BgRaqAmOIhrcKCrplheYDwsBK/1J/SCxr/wlTaUNdeCQo48rS6xlkU1ZdxQXh0Ce8smf/E9jYSi+JjPWkMmQKSp43hXwLigyjmhB++NLwc6ijPTElvso478yrvVR3aC8wjEIgcXLdEu7QHmBaNgn30c11J2SGRXePGolwIKTdT6PrrK58IGN4nV6RKoOOeGZLjLtpPaK83vYAUC2B/4k/FXiwGr78yvJ606BJxQ3p0Pzpu5QxmQiiat0W3q1MYNb3Qii9tgUYIYnI91ypLt5y7gBRaWBWj39u5yiJz9gKxJZa5aTmP/vDI9GaqYKgvhTN/yWFOCZ+BeaLZePpVR2HEHr8OZ0Guxz6JCzPuLwdSaJPhs20klHbGKoHudJgtMd/U4tgp6x9XLRz7BI/aGnqlODeBmA7TQoNwv4a2gc3cLLquJdE14gqYHlFB5872Pwscm+PoNXb825y17zk3L1br44855f1pee9jHX7cVuJ09UyQ89vRH9xngjN/dD8ihjhSr2JIeoQm0HFnDiv6+uoCuqU4OOWIMFqkOuaZV4CTD7BnFraz55fhoBPeX5jVnWj0DDKOaybOPeHOQc894cxBPY9dryyP6PPLHLrE816HgetnjCkWiur1M6Zpcn7dFq/o7t6fExiSDoZFWzC7qp9Xdv+kR9fNNO4vqOejmnPu/S/K+UU1gw0/kgAJOAS0l8rlsTCFSIdJuQt450LngxaiguFOcPLpGCKV8i65nMyrXFO2iGUnbO9Cz5PXjheVU0Xggw7f+yaQk8otuoppIX7F7qJHJrT+E25OmZ4x2svrMlIhf6x1vMgehAgbbiX8tOcEdmGctBDlD+sUQpLOVWWIVPkHYk5eRurfKteUFLHUPP26ByONNgMwWWxmcVt4DH7j9bBqz3ab95ZZ/yH7TJHqkA0Ym7tvBA63SGUKTdVlXBAeBI4IgQaeVK2JVM7OUO+L6I1N4ZwIfym8x6ZYK314i1Ht+aQXLmLI3q1gdOZV4DVn/P4TEB8AR3i6MO13zVpT+be015fy6opMYdQX+rJZKsp6MyVhQwsVrYtUQvRquGPih7fIhPTLrkt2XCWqT6FXiwJ6Cn9YQLdY4InFljimF5CO8KYLuuMVFuJZGE5Jjwrt4WJz1KKca0N7XgQ9CGoY7bMFxks5Ub5Vlq4nnZunTNW3/BInrySgw061SNWUpRKpAuKa2wX5KTBPlMii63KKa5462fj6HM6aC2qnIKDZOHN7u3HVtn1isDAZCLnVZf3j+n4e50R7moTt6jHFdiKV37bRN+9HnUdOeJioM41EqoBN//Oh9fF3BBX/fSzy60nvJsOTaptnhS1Gh9xPWEGv8Mry308+vlp88oY06+eC2w5dzhHlHZCG0CHv6S/Dwb4PjHHU7VOeqSKE2nnFlfCr56IWqfQcNJ/Vys7m9JTtrRRTIX4hoo/2StJCvr6PvGyFQR0uroUm3VjjvUlbygX7Z4f980KJVEJ8NERUw5L9Uc8t0/tLi2pNxbKAJR4ggSNHoLlIpQWCZiKViI3Tidcvoj+7imq1indL9m5nnZ32jmeOJ5XyUBLHO/88gqVf7d/5qksp3JTJ1JsJT2J4algatBOh/+mBL0+VZ/RUOKAUGP6Iy7dGkDV+DxW/I9qhVA1EKh0GRpHKQ3X/v+zOODmJ1/+rH9m1KqrVd1gau43zYh7KBP/uHLc9t8TxTnz7eAlVMUW3qlgau2knU/cJTwEmm0t4+F9i3gcT+7dtu517K9CQw3OAItXhGSu2dH8JHFiRSi/4nEWmyUV7NzmLZ+2xk8SlnCH0+Bem0ob65d8UuEzbs1MthpfoRZwhlKj6pJeVWJirl9mHgPjgCEruwtFsjmeRpgUILUiYBT2f9WJ0e5HK/Qu+8BZL4mTvFK4nXmHuneHJpBd9Rp9E39wcUI3rA97ivtyRUbVF29ILSLPdoeOlCqhx0XUGOdrlPLxM20IfSxiJ9FtlqcvpEDtzUazD7XRfRDiU9lZqxNLxerPnx4mbaVx4PA9X8DP7YcyJRmw0Tz0n9BzUbTIZKFHNEan0tY3GVZ8Ps1XKeUMHG5VVopwOyXQEBcFRhaXpMd1WpAprh+ifENvGX8owwjPCrgrFFHPUuff8/Bq1Vwtl+vnQ8vi/Q0x6Mxpj5rDX4oVxTo+Tj73dXm1L5JszRBg591SeNd2+Bv3Qc93pv2yLvk/ddoSXsxuuvfSkjS/CwRDw/Z5UYfz0/PAz0WX1eWdcDNFc3z9avHY8mLTnk+vxp382yVBl83ng5Bx0+ZpVyc/6fghri6ewuwGImMcib925gZeIzb+1/1BilNW7z2qPTi2iaVHNKMqPJEACBoHmIlUrnlS2sVWRO0ou9rVnVCfO38tiSSVDd0Qq5UkVTG5ui13b5cBaTdq793VdnQjs1Gd0S36sVYUYUcXq/IgSwP6E/gX9+/E24ofOx0WRyo91n7/v1jitytxRnaZXVOd53J1dUmKlIVJJT6rT6AzJYbVtrrItveFAF3qemp57Njbbk6o92y3fW/s8MrtZHUWq3aRJW78nAgdWpNKLJ3cBa2DXC2SVk2ozZ+/w9NXdeRTeV1DWr7QtOJ0ZLsljm/Lnc3ChZlh2wqdaycek2+h4gtR+c+vWbXhfgV2vXUtQXGneHo/oohdfzoLKbLn5WdtsQaQSl9XeYTIxI5O2f6VyBYmFUVdKhVDVa6H9Kn/QITiN63O9uqYwKvjrPoQt0vxCgtkldU57SAU52oU9vMzr/SKVbsd2LHW5q+N2XhiRG8b/mjQSbW/HUrSpXkUh/RLdvW4ifcHbyY0DnXPLWOw2YqPbp/vRbEGu7xvNfrtx1bZ1eZOnPtf3yj6qv/vL6vbcSAe5KY69L3Wo6Tbhfn7bwqNrftbJb/VVj1jIz0iRtfeu8prbzpMqYNPnSaX7te3463vAGDOHl/bsMs41fVZoW0mc/T5kvklu83ZCbN0+Xz/0s2nXRCpdz75ycL3/Ah6EDlsA/nmt26qZ6Dmov5vX6rL6/gFQeCy8NpOQoo/2fDI87vQz5tRfGo3NS0y6ewKYtTnevY5Q7D3r+1ZHubiA3nsTjqArnhMd14wcf+KK4kucEh6dMoTYFdXssEGfSX4lARJwCTTLveSESTXLSeWachKfG4ml7Z3PjF3VtEgVIgA4ydD/OwWP05OqYnXMFqg6/5zaVqAyWmV/1KKTkcOqWa6j2uztJrm6AtZ5YA8J7OY46cTn2ewS3sn10JKdyP//c+eUFpJCk+brcNXQ8FgtUAV3rtR4Ptu23lSg2b2lKzmE7xSpDuGgscn7QuDAilQiT1Oj3f10+IUOUdELMvELfLOXXrDpvE7BcA3tHWWE2aiwnMk3vwUGRIegtZMvJSiu6AWs4ZHl1KQXHCLfjBA3VH4s56/8TkFAL3qlcKQXuW7uGbukrsvwMDFM2B8/oTz/UiXeTgfCCgPF5QFdn7EI1wV1myPT3nC/sAWjWkx686vYhrRXhxYPgxy95RzhULfDDKsUXhm6Xdux1OVu5j5jl6xWWNaxWVrABemB5c67QP8Um4Bo619ka48XY9GtEegQvdYWyIagGGILyrOtQ4dJ6Xb4x1ULCN/740B1q8z3dkUqfX+kEJn33p9aSND3fGAThUbt9XtStTH+dp1K3DC7pUP0roTcH55y+ou+T9V9rw+HvTfoh34mOv2X1wbvU10uMK+c0DX1XPoiHESOOZUP6uqUu/mCj0OgD34meg4aQpNjQv+cMeenIfporyTzZ4V+FrXz3Hfq020JC8X7UDX+mOJc4X748BZDffZOhvpnn31ShYWLZ5nIlyV+DvrCP10j/EQCJOAQ0GFtTXb36/y/zXb3A94tZeEu+h3LwjUKD78ReXkMkas6jZvCmyVMiGpyziNQNUpe/etrufNa9o2RP1I3R/fTqFd7kTXe3a8Td7Pa80ob4vt+E9jxOG0Fd410+qDESzuRv31U5KkSOdLC8rQ1PmcIVMmgB5Wur/H1dn4sf71t3Vu6kkP4TpHqEA4am7wvBA6uSCVybaiFuyeJthNSpXdaAnQ+pkA+qCG1M9TAnMzX5OSG0onKb8w6iaoFbSdZsJm7RC1YRCLlgnYcEoV1DqwrTfKPhAxhQHwQ9eq8KP6FxbL9F3InYa9YOKq8St1T5qLcn/DXDRfylNMJyJ0wqCoyiRl0905hyEleLRqtQ/R0LqyQjngO6cVvAk6CdHneDVlxdhTzLyBNO9rjwUiQLk+HjHkYR1lWj5cYQ894qaTRTj6vVlnqckJ8MEIg5XyZRffADHpz4pfC1lgW0mK3wQlc1wnHFafJ75Xnj8yXtQNPKug8ZruZOF0IFQZMI2TRyaPWcFxVe8QuleuGDbkL4zS6Y7MYcnLuKJHKCeNVk6OhbT3vfGJqfUXlcjPEWL/I19Cmz5PKuee2G//G97GTjL1lkcq1dcKTYN9+7ly/N4XISNHeTKFBP7Rw06pIJZ8x5vBoMSVwv+wvB5GDJROzhZmOWy8x51l/1VFeUIK6+cwIMNH3hBCBzU7+hlGVYN6Zx3LKqXl1NY1usaufw0DNR/WM8SSlF6fqbxEbmEIkvuBu5vB+DZMzJSPfX6O26D+QKCHzzYIMX+0aMjdYAALisL5FZChzEt337J953v6oQnwjARLwEahi4qoI0fMnPteLbl+OqOoq8tnXMB9Dq08uykX9xcfexbkWlrwikK7Pn6+nhvyDP9l2nvjsTNm5gDr/6yGWNn3NN79qISokQbZui0dw0zsE+suvqYTZ2+UeMuvm570j0OY4Vf83j+xPnhmqdqD07u4I6DnuO67r6+5H3pxvm3n0y7xpvvJYxbQl5m4nLg4uNU/836bt9u6tvRuCvbasRapMNofCT2929BI2tL29bjftk8BeEzi4IpUpGkVS6IrlEEvMoEtu5Z7AiVjR2Ua9IST/wtQpqHNY2dt7RxLzuB+bwEkZ6ubLa2Vspy63An+cw/34FM6osDjPjm+O/cYfQsUVY9F/oncWsZlXGEpMqzp8u6IZQtOZgRyGZuZx/Y69Vbm50BQeAHo3wjP37O3Lv4qM44zcUc1dvOtyHTencD8tEvcu4P73auvzMM+D0K5psWAcZ28lcPKO6MMC7g+oLdPNnccCC0jDoBqvk7fGcSIyjkuJBYyOi93bVP6mAbVVfFg4nGPGGFvdJ8OGZ7xaZCnCic6K8RbzMD4vBc+hx2l7vkTGEVuxK2+JpRZIeyZwfdxOlByLT+CE8H4wkv4H5kmjuax5mt5Our1XdE4jO4/R2YEpbx4ph1mDD47tcZzVfU/ncEnNIc/Oc7qs35PKcx+rMZ15hVhMzY2eaWScTQD0Aj6BU3dnEEm+se/xJrbn4raAceLuSwzJ5P7ziFhJnOixjzsijZ9fQ5t+kcoOJ2tl/GGIY8etaXk/ibE9GRnHWcmsVU8qW/Cwd+zU99MrjIoQUXUvaI/CRuGz7YpUZ6xxdNxMo3fcfPYk4NQjpoieV3ouiOdUyH2wqxxEvcbzUeQ2O/WXKUTEZhY3kuoZl8S5p8bujiFj6/wBIpLCBfFcMZ6bnnmsbgXtrSvD6wJz2n3G6HEW9iLqvnB/Nrl/LDDDFc22yOeJeU/pP1Q4f6RJOs8c+SyUf7jxicaizdrjTDxHzCTqqj98IwESaEBAizKnu3D5zghSY//E7f/ukoJRpxEeJ1IXTPzZzjllep7AWbx34vy1u3gYe4jbV/4Ikf+n8/w/seSv1lffxOSIU/60TxioLfTbyapPn8bF/yN26/O/RpB39AhX6Dr99UXcvGeXvXvtvGzL6c5vkTIyE4hmafHq9NeXcftJCql/3Mblr0UfO3FzyjHs7wG/7zOBlsfp3QS+lXmnvsFDY+LV5tU86jyPHjkvbuPbc029OTgAACAASURBVCK5eSfO/8MoqPrlrW8CE090+dPwJuyvYWnAFldPn76Im4H5+RAPn+S9oq4KW7XnXDPb4pdHLYy1eG/t87jsVnXZ3LwjLGmBaafvwib/kcBhJ3CgRSqgjvLsjCMIyVC+SBJn40XjL9NNhsC/MDWL1t9jUi+UVZhgx3fjuC69YsyCYpFklzXzNR0TIkra9xPfd1nY14D4oAvV1hDrS+G4aotcHDVqT3EO3Te8oY1f3fF7GfyGTFwJAXLhYvfNrt8VqYDfMJeYcvL66HDJU305n9eCbmjYuxappjG5voALaiEt+3AtjfuvDK+vkAWkY9EZrxLmHk94WJyJeXcfbMhRGKtXZd+945VC93jIeLXEUuR9WXDEGc3o+I0pb99aYmnP6bNGcm9h76tbM5g0PI0C/XPY+LJVaJ6mSCUYrL2yc9nIxM4TiMy8a54PzBkE44O2LXZ+nJpSIq49707e9c0Po6xhQX2so5x76YiNmp+/z7Jwad4RYgI72AXEAlvAGLqrRFp175yJv8GcSpK/KyKVaFhL4w/gfRHXb2nxRAgG47g+J0QNwa0NkUrUWVvDkBZ69XMhkkJ3ouQK9A24tytSXZp9j1ElTsvx8dejRvKLcBB116uhz6mvbk0jtuBbTIUyEXNwFv777lTfnOv1pPso3nUuKp2byjyn2pN5rP+woZ7F4meT5znleoF5w48btGVgwftzbX0ZEXMuiXxU340jMhuW8EqHvurcVP4G8zsJkEAjArU39m58ItzIfnXh4p1pX+4nvSAPEXB+zeOhEqbc61N4bXqimJWvTaNfCWF2+U6cv5XCa9+jTId6ue3S7dPv/t35qng9dhsXpdCky3Tij1ce+nb3042pyfKepO9fX8TtKa83ly7N9y9FoMVxqi3Z3k6dNzH9q7et1X8/VMKUmhdinMdeN/R8Wv3/+5Vgqcp3npflvVNUJ3bXcy3k3Qgx1S1qzbYq3e69pSs5RO+fPn3CzAvXA2qnApWwJWzyHwkcdgIHXKTSeD9hUyUiN5OQ67M7ete5nN4bQkpDg6odlT2M09ftaaWOqkoS7yQwD2m4SI7dii3shLEhUskm1LFZqbRYr9FmvxCjWHz2mDuJwVsY21ZYiqaqvDHlarMfAK2wVIzEvG42fgaeHX/U+XfCxJ4w4/7Fvua5k/a2yrnq3XAgrHmeY3pcdtI2j8EGX3Q9Tcdfz5NqYCe2BlabH9bcW3pGNTe17VnZvxba/SU46MarOfR5zwX3vvu863Uj9Lu+1xsxq2PzQ6NnRYtt0axbeo7rdvGdBEigXQJ6R7xao7xP4m8HzX7926rJHfWaXe9pU83ega/l8p6Lt/my2Y5tu93VarPObVMfT+8DgVbGqYam80nOi9bH2b4nWi/fDoS2bLd7b7XTEJYlARI4kAQOiUh1INmxUQ4Bv0jlnGjvg1+kau9qlpYEqphLTePs1QncL3nz70wO2CFwXq+OJtj8IlWTojxFAiRAAiRAAiRAAiRAAiRAAiRAAjslQJFqpwR5PUSuhvsyH8s0JnfCgyLVTug517o5b5I42TslEzCfUuGFHTdfYs7UrpyrQj5QpAqBwkMkQAIkQAIkQAIkQAIkQAIkQAJ7RYAi1V6RPVJ2K5h8PINIbB6FnfS7OI9IbAa9Lys7scJrRb7JNwu4/pdxnJQ5qVI4eTONSKKIlXa8tt8X0RubQWQyJJcXKZMACZAACZAACZAACZAACZAACZDALhOgSLXLQGmOBEiABEiABEiABEiABEiABEiABEiABEigfQIUqdpnxitIgARIgARIgARIgARIgARIgARIgARIgAR2mQBFql0GSnMkQAIkQAIkQAIkQAIkQAIkQAIkQAIkQALtE6BI1T4zXkECJEACJEACJEACJEACJEACJEACJEACJLDLBChS7TJQmiMBEiABEiABEiABEiABEiABEiABEiABEmifAEWq9pnxChIgARIgARIgARIgARIgARIgARIgARIggV0mQJFql4HSHAmQAAmQAAmQAAmQAAmQAAmQAAmQAAmQQPsEKFK1z4xXkAAJkAAJkAAJkAAJkAAJkAAJkAAJkAAJ7DIBilS7DJTmSIAESIAESIAESIAESIAESIAESIAESIAE2idAkap9ZryCBEiABEiABEiABEiABEiABEiABEiABEhglwlQpNoO6McaturbFeJ5EiABEiABEiABEiABEiABEiABEiABEiCBnRA44CJVDasvRtBnWcis+bpZK2PxX8PynGVZ6PshjcXylq/QDr9+LOKZZSE6u75DQ77L61uo1Xa5rb4qvvTX1RkLI4sbu9uMlRzOXEngmPE6cW0c3YkSygEhsY7yQg7dN5LoUOWP30jj+ux7X5ve4b6VwB++X8am74z4upIYxzErhxXzXP09JuNpnIq4bTn1l1lMrvsakZ32tPVYJImT1yYQmXlnWrM/16uYS0zh1Hfb2JQMkrgw+1vQBuy+nEn47FdLiA2M4yvd3kgSZwfmMFc1TdjXmmyPX03hTF8Oc+99/RKXrb1CpDeJ44ptx3fjuDReCjCcHEhIfoUQE5B8pjFpNgN1lGdnce6GyyF83MRFv2EukcbJSAKBPnts8gsJkAAJkAAJkAAJkAAJkAAJkMBhIHBgRaqt8iLS8SgGJ55hJCBSrSP7yMLgVAHljS1sfdzAen4U0WgapY+7i33jbQnlMPViJ9WsZWBZGazuxMYBv3bvRKpx9C5UUH4vXu8wN/MS53oSOPH3NwaROgqpCRy/ksS5x68wtybKrmHysS1onE28Ncq64kz3VFD4CYhU9be4fyuBYz1p9L5cs9vxpojeuyl0RMZxv2SoMVKEmcKQbKvdhsz4tBS3zj2tuG2ov0WsV9mcWcGKKN/IphbqImmMekQmYS5EpKou41JPAh03pzFUeCfbu1JYQMQS9U1j0rGhrh0uKbYVrBReofduEsd6ZpAxurWZnZbC0KnYPDJv1DikZ3AmksCJAa/YJ0WqKwmcGvbIfHbfAyJVHYXEODrkuBVRkNwajNv6suxDx800zl2jSOVOJn4iARIgARIgARIgARIgARIggcNL4MCKVKuzw8iUhCfOKjJ+keptDsNDWXj9myrID1lIv2nsobRVU6F70pOphpopaH2soVarwe/g5FwjxtjwgBLHw8pjy2fXd508//o5LOs5isKG2QY5j4SXlW27UU+cugPXNpiIum/+zhnFtU1Zp9FPowh0mSZmnOKmSKWv8/RHcAoz1Oi4sCwFmnHc9+sds1M4dnUGGV37L/M4Fwn3NhICy4krKfQWdWFbnDlpjeMPkQkM/aKP2+9+kar8dAIdV6cMcUeX/w2T3ydxrHcOZX0oIMLYJwoj4zh2Z94p19TmQBLHbrxEQduUDFI4YyXRYdiwT/tFqjoyf0+GezIJsU14kD3S4p7/WlVhfRkXriQRmdff3yDSk8CZEVPoU+dKOZyNJHBhuqYOALYn1TjOSBuG0iVK+Pk0G7fZKfzhygRianxWEmmckx50DdrttIAfSIAESIAESIAESIAESIAESIAEDguBAytSuQBDRCr3pPFpHdm/RYNhgU6JDSw+sfB8oYCxv/Yj/qgPltWHsaUy1l8Oo++vccT/GoUVjSP7s5ZT7GucUEPhAfUkh8XZuKd8Zk2XBzYWR2DN+Hyk5HWLEJLbxk9pp+7BoTjiP7pS29bbHEYeWOh7pNryYAx5M4Tx4zpyT/pgPRhEfCiO/mgfxhYqcGt3Oqs+VFCcjCMa7ZflB4XtJzmsmxdUitJjTdqM96MvnsHqa9FPu73SkFlvvB9Rqw8jP643qReQItXCKhaT0fD+/JpH3BpDweOlVkPxqYXYS5eJp0ctilR+YcljAzWM3kvgD47nlRY5SpgcSKLj1pwntM9rS5f1hdPpClZe4Xosh4x2kvKLMKqcV6TaxuaHBXSbIpFm8Mr2kDqbMtvis1VfxqVIApeyPnFItWNzfg6RRwtKAPNdq/vkF6my0+iITGMy3CQKwymPACdFqoFl20OqZxqZD9pwUKTysjbKyY/vMBqfwf2ccv2q6wY0aLf/cn4nARIgARIgARIgARIgARIgARI48AQOvUglvXQ2yihMDSKaXITWB4LkbcHJepJHRa1va6/TiFoWRub1VVtYnY7BelqE7QsSIlJZUYwu6PJAZX4E1t9cr67tRCrZrrBwv80inkUHkVlxvVAqC6OI/i2DVSUqVeaHpXjk1F5ZxFj8GQpOyJa31xtLY+j7IYt1x+OqgvwPZq4o+/vgzKrqLwBh80HUEKk2UEhG4SmzWUT6b1E8+8ltq7dmW6SKRuNN+mPXPbZs2KiJHGDDyP/qt6a+K4HGDfcTIWnzuNCTQFdKe/bUMfl9AifDwsu0GZFnyhGjDJFDhcaZ4YAe4UQKNin0Ljdon/+wFKnMcL8KCi9ncTaSwqWsCi3c1qbdPkeM0iLVCiC9wjwhhkZfRFtKIodXGqOmMORvo/NdXWuE+5XXVhDrS+J47xx0TikpsN1bCOSecsyIPkemHa82LVJBhUl6wgE9It724+bU4fng67PnHL+QAAmQAAmQAAmQAAmQAAmQAAkcJgKHXKSyvaxE4nTrURqFsiF4BEbBFpw8wkp1ESPWCBZNkcfwegJCRKpoxhtmKG2MoqByhH+uSFXJxxGdKvm8k0QIYxSZn+3OrL+MwZrQAlqggy0dWJ22XE8v6c2URsn0rAKw/iLmilShHk9AbXnMLRNSs/CkcsU+XUB4u7khmZJVquAIZNLmD/nGQqMUaNyE2jrJ9ylPcu/tRQuP8OTL47SZm8YJQ/jxlDUEIt0joIK5mVcYdV5FrGhRSIow/vYmcfbvr+BokaE2XeuBPFOe8jVkYsL7K6dEJF/fPSKQsvnhLTJOW0W7V1TYoX2tZqrfv7oxhfsL7g3iiE5mE83Pvjo95VfmcDaSdAU6T1lf25XNcsFk+wqZkv8eD7/ObBI/kwAJkAAJkAAJkAAJkAAJkAAJHA4Ch1yk0pC3UHubx2i0D8/9iosu4hecxPHPEanMMLgQG58rUglRJypCDkUIoPHqjxqeTx9XkYlHZbjfyNPnyL8uo6ajnpx+ej/UykXkX6QxJmzKEEdDpBKC3P8Evc9kH3Q/G5TBzxlEmyR/F/2J5x2fL9WoLZT+ZfRns4AxRySsoZCy4PGs8nYlPCfVh7cY6hPJvXUo2fYeOR7hySdSAd48Tp6yoV5Pb3D9WgonxatH7CRo5MzyiDCqM+/eoPdWwg0rDLVpdtwnwnhEKpEnzcwR5Ssb5km1Po9u3d6rQkDTu+v5rhVNqNewkp7CiStJXMrZ4lBLnlSOTZWTasB1PfPk3/LwCR+3TFyxvZaUuxMGd/ELabeJj59JgARIgARIgARIgARIgARIgAQODYHfiUhl8xbeSFayIHM/BUfA5xUlChwwkWpwahGlUinwWq+ark5bqJVXUZh/jmc/9MF6lMGqE87n7fX6j3FEH4wgs1hE6W1FJiqXHk46Z5YQoIaCnksBkSqkTCsiVTC3lJ1zamRRuZ3B+C4FK3+OKm9/GiZOF0LNVZF7yS5feJzyJjD3mGmUk8rI7VRfQe8Ne0c6sdvcMSun8lStoPdaAl3jfvFNVSBFoXHEdEotjwhjNOKXOXQ5YtaarKuhzUY5qczk8csvcUokg1+2k6E7Qo6+dq6BkikSzjuheY3Enjoyj5I4poSmzekpdIgk9Q1MNspJ5fb+N5kTrEOEDPr4yGvNxPPuRQDe4v7NBJywR+dco3Y7BfiBBEiABEiABEiABEiABEiABEjgkBA4lCKVTD7+NChGVRZGDoZIpb2Q1CTwiD7imBCHfF5IMt/URNEX7gdsmQJUfQtbHnGgjNyQ1SA3lC3K+Xc79IT7SZHOnwNKeDsZOalkmaB4JNvr5O4KznYphvk4yJ0ao97k9ltv0rB+yKMkEs7/yx/u6LPr9yJyTtvikRapbDHLCCtzygGQgo7YrU6DbCBySMEpibO3UoZIBUjPqp7pkN396nbScHMnPp8I4zRDikeux9W2NnsMUSiUQR3Sw6lnHGevJeCIVKipZPA6HNBpAQAlFvW9UvmlGnAA7H5pb6gPy7h0NQEzb5djtbqA7kgC5566Ip4n3E8XrC7jgrBxa9zw5NK7NzYbN3NXRm2scbt1Cb6TAAmQAAmQAAmQAAmQAAmQAAkcDgKHUqTCr3kMW4N4triuwt10uF+zZN7740mFt1nErEE8fy08l2qolDIYiw968zfJPE8jyJdrqGkRSiVOf7bs7ta38fo5Bo1wuOJEFLHpkhPit/VrHiPWIHK/hE0220vJTHheW8tiWOTv0p5U2ML67CCsR8+QX6ugtlFGcXYE8UdGTirYopVMSq8cumq/iNDKQWScXRCD9cvwxQf9cvdBebZeQ2lG1OUmmZfHt0p4Hu1D34Nok1BNZV8JNGbidJHceyiWQkdkykgQXrd3k4ukcGF8BSuVGjar7zCXnsapSAInYkUj8XcjkUPZuJLwiFQ6AXjHtTTuz79D+UMNm+/XMBobx3ERFqcToosmS5HKmzi9/KaI3rtJHDPFLJVUvOPaFGIFZVP3ywi1kxRCRSoRmvcW92/Z+a9ckUp4C9q7AB63ZjD6poLNDzWU197g/l3BbBz3Sz6xzkyc/t5ldmHazQUlE7ZfSaArXkTh/W/Y/FBF4eVLnOsxwhjVkIWKVFBJ3wVbIzRQhFoKz7WOSArdiTdq3CoozMzgjBi3gWVj3FQFgXBNfZzvJEACJEACJEACJEACJEACJEACh43A4RSpANR+zmNM5GcSoot4PRhGetn14AgOxD6JVEL4+XEEfapdfak8yq8zXpEKW1h9MWyXMbyRtsqLSHv6NILcz644gI/ryD3pc/scjTfvc6XosdeXKmDRTJwuIdVQXs7YOauGRpBeLKMsvJpML6h6BYXJuNwJ0WH9UzPW9u5+I4urKBrXRePPUdoMjszqTBRWNIPV4CnvESnQ+BORJ3Cidwaja5+8ZfEJKzMzOPudUV6KHyWf0NFIpDKEHyfcT1VReydFqa8iru3jvgTjsqQUqdwyMhl5JAlvovdtbL5SuwDq3jUSqcT5Ug5nI6YnlbrofQn3+1I4LkUhuz1f3fIzsznohOn6/fjVCURmjFBIabKO8kIO3TeMvkWSOBtbRllrXqrqRiKV8OSaHEj6RCpxUeNx89u2q2gyfqoNfCMBEiABEiABEiABEiABEiABEjgcBA6BSLUNyI81mWtpm1Jf4LQ/NC+kCSJ8L+QwtuuTPF8LvzbE3lbN8NgKOe8/FAhP1AW2PpP1Nv0RuwnGXuhETrqyXXyvVlCuGGLfrpn+hM33FZQ/+JSZHdnfC5uqQfUayu8r2NxNFB+qKL/3CWk76r9x8Z6Nm1EHP5IACZAACZAACZAACZAACZAACRwYAodfpDowKA9jQypYHO3H6ILhFVUrI/fEwuCP5b3vkBCvyosYjfrzYu191ayBBEiABEiABEiABEiABEiABEiABEjgYBGgSHWwxmPfW7NVzmPsgQUr2o/4IxFKGEV8sghDttqjNtnhl6LesaW9r22POkGzJEACJEACJEACJEACJEACJEACJEACu0SAItUugTzsZmRIoAgLDI0/POy9Y/tJgARIgARIgARIgARIgARIgARIgAQOOgGKVAd9hNg+EiABEiABEiABEiABEiABEiABEiABEjgCBChSHYFBZhdJgARIgARIgARIgARIgARIgARIgARI4KAToEh10EeI7SMBEiABEiABEiABEiABEiABEiABEiCBI0CAItURGGR2kQRIgARIgARIgARIgARIgARIgARIgAQOOgGKVAd9hNg+EiABEiABEiABEiABEiABEiABEiABEjgCBChSHYFBZhdJgARIgARIgARIgARIgARIgARIgARI4KAToEh10EeI7SMBEiABEiABEiABEiABEiABEiABEiCBI0CAItURGGR2kQRIgARIgARIgARIgARIgARIgARIgAQOOgGKVAd9hNg+EiABEiABEiABEiABEiABEiABEiABEjgCBChSHYFBZhdJgARIgARIgARIgARIgARIgARIgARI4KAToEh10EeI7SMBEiABEiABEiABEiABEiABEiABEiCBI0CAItURGGR2kQRIgARIgARIgARIgARIgARIgARIgAQOOgGKVAd9hNg+EiABEiABEiABEiABEiABEiABEiABEjgCBChSHYFBZhdJgARIgARIgARIgARIgARIgARIgARI4KAToEh10EeI7SMBEiABEiABEiABEiABEiABEiABEiCBI0CAItURGGR2kQRIgARIgARIgARIgARIgARIgARIgAQOOgGKVAd9hHbavo8VlF6XUPm4U0P+62tYf11EedN//Gh+r/1cRPGX2tHsPHtNAiRAAiRAAiRAAiRAAiRAAiRAArtA4HcsUq0iY1mwZlZbwNRO2RbMtVBkY3EEljWCxWoLhXdQpDI/DMuyMLK4sQMrwUu3SmlptzW+wev34sjqjAXLyqCVEQ/Uv1VDrbYVONzSga0S0mKuOXVvYPFJq3OvpRpYiARIgARIgARIgARIgARIgARIgAR+9wQoUskh/v2KVPhYRmG+gPIeeFKtzuexeoA8qXYiUtmi4WcKXABqK3nkV7QnFUWq3/2Tkx0kARIgARIgARIgARIgARIgARLYdQIUqSTS37FItetT5uAa/JIilZcKRSovD34jARIgARIgARIgARIgARIgARIgge0JHGyRqr6B0o/PMPKoD5YVRX98DJnlMrS/itM94S00M4bBBxasaD+G/7WI8scGwlM7ZZ0K3A8bpRyePRlEn2Uh+tc4xl6setqz/mMc8cki/MF1Gz+lER/KYV2ZcsL9KjWsvjDa/jQX8E5ybG6uIpsSdUfR/ziNxbIIT9tCeTFtM4r2I57KYd0E9HMO8aE0imaDajav+F+jsKw+DD7Rttx+IoR91vEUArBRRHoojtzPxjXiY5htf64m3aZqDes/jkG2Q4xbSN991tXXLZSXMxjT80KxaCRSmWPW92gEz34sYaOuLa8jNxS32yBYiM8+XrVfCsik4uiPWrAeDGLkaQ4lkyc2UJyMI/6jM7qh4X4BO3Ke6nbwnQRIgARIgARIgARIgARIgARIgASONoGDK1JtrSPzSIhOw0jPF1AqlVD4cQyDloXBl1oMACDEKFHuwQgyi0WUSgXkJ4fRlxzFiD8nVTtlQ+bFxtIoolYfRl7Y7SktZzActRD9Vwk6m5EUSp4sBkUqmYPKDSezRao4RpOD6HuSweLrEkrLOYzFo7Cio1isuA2QNv/nGZ7Fh/Fc9PF1HmlZ7hmyL0YwmMqhUCqhOJ9GXAgpP+ThXL6W8ea+Ulyj8TTyos5SEfmJQVjWMPK/6jo3UEhGJdPssihTQmF2GFErivQb1dPqouSbWdPXuGMRjY8hJ68rIDcWl9eNmh1SbXr2NI74mGr74nPJ0nqUwbqGaZh2P25hdUa0tw8jM4soirbNpzH8YBSjIg+UkxfKvqKyqMZMlS0uZjDywEI0uagY1VAWNqbjsKwx5Eqiv+vYUG2wx9zCYCprj9HrRTx/LMboGYpOqKPfc8r/Hdj6OYNBK4r4ZF62WYzhMzFvzbFyO8lPJEACJEACJEACJEACJEACJEACJHDkCBxckapaQu5pGgVHbbHHpvzvOKxoxvFIkonBfaKOKFnJ2wnDzcTe7ZQNzoQKFv/HgjXtTcu99XMez+ddz5z2RCqvwCXrVEJadKLoeGjZHkKDyL41WvWxiGdChPOJHFuvn3lFKb9ItfLcPu/huoHiiywK2uOpYgtQz1eM+rCF9fnnyGsXooBItYXSVBTW355j1Zf/av3FoFfUkW2yEJtedcQ9UdPWynPELAvees02APg1j2ErCo/oJYrI4z6RqlFZ1b+xZdflLDwnVQ3lpQyevfC2E4r96JJ2p/KLUv7vwOq0Bet/tDCm+lQtIvuigLLbDF9n+ZUESIAESIAESIAESIAESIAESIAEjg6BgytSNRgDrwhTQX7IQjRsB7+aEnGcc+2UDatceBdZsJ7kUXFCxYLl2hOpYl7hSZmzBZM0SsqbR9ocMryjZLkG4Yx+8cgvUv2cQdSK4XmpiTKyUcCo2BFw3qNkeTvrr0ftcBe6i6Aai2c/qTplm8L6vorn2+xEWMnbIqVXKhRNq6H41CtSybIBbqLsFkr/smA9dYXAcJHK22X3Wxm5IXP3Pr8o5f8OrM/aAl4z7K59fiIBEiABEiABEiABEiABEiABEiCBo0fgYItU9RrKawXkX2SRTsURj/cjKryHrBEsVsVg2UJNqDACW5RyPanaKRs+EbbWMnY4ncyf9Bz55XVUfF5D7YlUz1AM04p8wlK4zc8UqVBBISVyfFnoezSG9I+LKJVrHo8mIeKszoowPZF3axjPpvMovK1gyxTn/CKV/7sHoe2FFp1VYZq+/rlFm42RXSqchX1OilJGuJ8sK/J0yTxTIteU+5L5y4ywzGYi1VZ1HcXFHLLTzzAyFLdzn3lCSf2ilP+7cO0rYEzkTBN5r1Jp5BZLKG82jWt0sfATCZAACZAACZAACZAACZAACZAACRwBAgdXpNKLeiUIZV/kURC5gt6ocLUWRCoZnud4UjUTQFQon1O2ychvllGcf45nT1QibZEb6cd1R+RpJKL4RRC/t5SnRiniuDmiwm1+rkglatrCxtoicv8aQ1wmH7cgclQVfY5TtXIReSHMaHHwwQhyb5Ww4hel/N89HfKJNnslUi2MeHJSSW5/G8XzF1lkw17zbtJ7//jYzXfFOinovcgit1jEankdeZH/ypkvvv7B/13B2NrA6mJOCq5SJJM5qopu/jAPM34hARIgARIgARIgARIgARIgARIggaNF4MCKVDo8yp/fCDqnkhSp1pGJWoiZidT1+KnwM1dIaKesNrLdew3lfwthxCco+XMPic3wi+9lQwAABjRJREFUGiROd5OVu3XVfhJ5pUZRUCmPdl+kcuuSn8ROfX+zEJ1yE8D7Sshd+3JCmNE5sPyilD+kz2NAhfEtKBVsByKVPS+yTk4ytxoVwmd4Uq2/jMEKDfdzr9Kf/OMjj+uwR91uXRh+UdMvSvm/Oxd6PogdH2NWFM91XKfnLL+QAAmQAAmQAAmQAAmQAAmQAAmQwNEicGBFqnBhRuzsFjPC/Ron6xZCjwwNdLxd2ikbMgm2NlCaf45FM3m5KPZrHnHLgt7lriK9ecZQcHZ+E4UqWPTtPGeLIr6dCmW1qqwWg0RQ44zIheXfMfDzPKlqbxeR/bHkJGW3e6oEHlXHVrWE/PRiQAjyhNP5RSrUUEjZ7fQ5ZGHrTRpRQ8jDDkSqrdJzO6fWii9UbrOIZ2JnQ0OkwtssYpYv4bzscA2r+TwKRsZyezzcPGCyWKCPNi2o464A6hel/N9rWF/MIudPSNUsj5eqim8kQAIkQAIkQAIkQAIkQAIkQAIkcFQIHFiRqrY8BssaxPPlMjZqNdRqFZRmhxF/NGiIVACqBYxGLUQfZ1CqiHIbKL/OYDg+ilFPcus2ywZmwDqyjyxYj56jKOupoVYpIfNYJMTOYFVrJmqXORE+l39dQun1IjJP+jH8Q9wjoNiiyAhGk3E8m19FRfRxYx2LE6J/g8j8rA3uskglxbsoRvPriusG1hefYdBMWP42K78PThXtdtVqqJQyGBZeazNqp7swAUdfN7GI9Q01FsvPZR6vQX2d4LoDkQoQCeyjsKLDyJQqqNVq2CgXkXkclyw9IpVMpq7KvlbzaKOM4uxwUOiSglYUw7MFlEplJeKtIys8zJI5rKox33i7iGfxQQz+rZ1wP5HUXbRjFPm3G7LN7ljr/GqBCccDJEACJEACJEACJEACJEACJEACJHCkCBxYkUrs1rb6YgR9MlG68JCJIj5ZRGUl4xWpRIal8iLS8ahMBi4SgluPnqFYUR5JjieVPa7tlA3MhM1VZJ/YScdlPSL5+A9pFHyuQ7U3GQzLJNkWrGgc6cUyyqHhfhmsflxHzrT5YATZFW829d30pBL5qMqLaTsBvGYb7cfoj+se76raShYjug+yXB+G/1VwdzYME6nCxiLE9s5EKgAfy1ictBO72+MwiGc/VVDxMbbHzz+PLFghjAWX9R/1fItDh2EG5ovMy1W2PeOcueX3nPJ/D2uzSEo/itzP3rEOzDkeIAESIAESIAESIAESIAESIAESIIEjQuAAi1RqBLaER04NNd8uemHjsyU9rlwPpLAy+lg7ZfU1zvvH1tq0VWutLcLujtrjNKydD1s215p/Zz+vDbtdNe/Oft4iod+c60LP7tJBNTc8uw42NK37u92YbIXOtV3rj57PbcyNhl3iCRIgARIgARIgARIgARIgARIgARL4HRE4+CLV7wg2u0ICJEACJEACJEACJEACJEACJEACJEACJBBOgCJVOBceJQESIAESIAESIAESIAESIAESIAESIAES2EcCFKn2ETarIgESIAESIAESIAESIAESIAESIAESIAESCCdAkSqcC4+SAAmQAAmQAAmQAAmQAAmQAAmQAAmQAAnsIwGKVPsIm1WRAAmQAAmQAAmQAAmQAAmQAAmQAAmQAAmEE6BIFc6FR0mABEiABEiABEiABEiABEiABEiABEiABPaRAEWqfYTNqkiABEiABEiABEiABEiABEiABEiABEiABMIJUKQK58KjJEACJEACJEACJEACJEACJEACJEACJEAC+0iAItU+wmZVJEACJEACJEACJEACJEACJEACJEACJEAC4QQoUoVz4VESIAESIAESIAESIAESIAESIAESIAESIIF9JECRah9hsyoSIAESIAESIAESIAESIAESIAESIAESIIFwAhSpwrnwKAmQAAmQAAmQAAmQAAmQAAmQAAmQAAmQwD4SoEi1j7BZFQmQAAmQAAmQAAmQAAmQAAmQAAmQAAmQQDgBilThXHiUBEiABEiABEiABEiABEiABEiABEiABEhgHwlQpNpH2KyKBEiABEiABEiABEiABEiABEiABEiABEggnABFqnAuPEoCJEACJEACJEACJEACJEACJEACJEACJLCPBJqJVP8P0We05Jl3NdAAAAAASUVORK5CYII=)"
      ]
    },
    {
      "cell_type": "code",
      "metadata": {
        "id": "uZnBa3ftwZjG"
      },
      "source": [
        ""
      ],
      "execution_count": null,
      "outputs": []
    }
  ]
}