{
  "nbformat": 4,
  "nbformat_minor": 0,
  "metadata": {
    "colab": {
      "name": "0408-original-maintain-remove-stopwords.ipynb",
      "provenance": [],
      "collapsed_sections": [],
      "authorship_tag": "ABX9TyO2XH0/izzxCZhfB4bIBP3S",
      "include_colab_link": true
    },
    "kernelspec": {
      "name": "python3",
      "display_name": "Python 3"
    },
    "language_info": {
      "name": "python"
    },
    "accelerator": "GPU"
  },
  "cells": [
    {
      "cell_type": "markdown",
      "metadata": {
        "id": "view-in-github",
        "colab_type": "text"
      },
      "source": [
        "<a href=\"https://colab.research.google.com/github/GitHub-Bong/Toxic-Comment-Challenge/blob/master/0408_original_maintain_remove_stopwords.ipynb\" target=\"_parent\"><img src=\"https://colab.research.google.com/assets/colab-badge.svg\" alt=\"Open In Colab\"/></a>"
      ]
    },
    {
      "cell_type": "markdown",
      "metadata": {
        "id": "sgsWys5t0NNF"
      },
      "source": [
        "# Mount, Import"
      ]
    },
    {
      "cell_type": "code",
      "metadata": {
        "colab": {
          "base_uri": "https://localhost:8080/"
        },
        "id": "4-G5V2nXz7aj",
        "outputId": "5fe8ce26-ee77-4ec0-fcd4-27f33300d5ef"
      },
      "source": [
        "from google.colab import drive\n",
        "drive.mount('/content/drive')"
      ],
      "execution_count": null,
      "outputs": [
        {
          "output_type": "stream",
          "text": [
            "Mounted at /content/drive\n"
          ],
          "name": "stdout"
        }
      ]
    },
    {
      "cell_type": "code",
      "metadata": {
        "id": "lFZenrjs0SnF"
      },
      "source": [
        "import tensorflow as tf\n",
        "from tensorflow import keras\n",
        "import sys, os, re, string, csv, codecs, numpy as np, pandas as pd\n",
        "import matplotlib.pyplot as plt\n",
        "%matplotlib inline\n",
        "from tensorflow.keras.preprocessing.text import Tokenizer\n",
        "from tensorflow.keras.preprocessing.sequence import pad_sequences\n",
        "from tensorflow.keras.layers import Dense, Input, LSTM, Embedding, Dropout, Activation, SpatialDropout1D, concatenate, add\n",
        "from tensorflow.keras.layers import Conv1D, GRU, Bidirectional, GlobalMaxPooling1D, GlobalAveragePooling1D\n",
        "from tensorflow.keras.models import Model, load_model\n",
        "from tensorflow.keras import initializers, regularizers, constraints, optimizers, layers"
      ],
      "execution_count": null,
      "outputs": []
    },
    {
      "cell_type": "code",
      "metadata": {
        "id": "adoghfl90UH-"
      },
      "source": [
        "train = pd.read_csv('/content/drive/Shareddrives/SOGANG Parrot/Ho-colab/0407-add-len-translated_train.csv')"
      ],
      "execution_count": null,
      "outputs": []
    },
    {
      "cell_type": "code",
      "metadata": {
        "id": "qLf2XXHi0Uo8"
      },
      "source": [
        "test = pd.read_csv('/content/drive/Shareddrives/SOGANG Parrot/Ho-colab/0407-add-len-translated_test.csv')"
      ],
      "execution_count": null,
      "outputs": []
    },
    {
      "cell_type": "markdown",
      "metadata": {
        "id": "yypBpe0l0dFD"
      },
      "source": [
        "# Preprocessing Augumented data"
      ]
    },
    {
      "cell_type": "markdown",
      "metadata": {
        "id": "NowNwtsQ0fPt"
      },
      "source": [
        "## Remove-Stopwords"
      ]
    },
    {
      "cell_type": "markdown",
      "metadata": {
        "id": "JLyytswX09Jc"
      },
      "source": [
        "### English -> French -> English"
      ]
    },
    {
      "cell_type": "code",
      "metadata": {
        "colab": {
          "base_uri": "https://localhost:8080/",
          "height": 76
        },
        "id": "Py5pit_40V8c",
        "outputId": "307132b5-d439-4620-9bdc-5301424a3261"
      },
      "source": [
        "train_fr = pd.read_csv('/content/drive/Shareddrives/SOGANG Parrot/Ho-colab/train_fr.csv')\n",
        "train_fr['2-trans'] = train_fr['comment_text']\n",
        "train_fr.head(1)"
      ],
      "execution_count": null,
      "outputs": [
        {
          "output_type": "execute_result",
          "data": {
            "text/html": [
              "<div>\n",
              "<style scoped>\n",
              "    .dataframe tbody tr th:only-of-type {\n",
              "        vertical-align: middle;\n",
              "    }\n",
              "\n",
              "    .dataframe tbody tr th {\n",
              "        vertical-align: top;\n",
              "    }\n",
              "\n",
              "    .dataframe thead th {\n",
              "        text-align: right;\n",
              "    }\n",
              "</style>\n",
              "<table border=\"1\" class=\"dataframe\">\n",
              "  <thead>\n",
              "    <tr style=\"text-align: right;\">\n",
              "      <th></th>\n",
              "      <th>id</th>\n",
              "      <th>comment_text</th>\n",
              "      <th>toxic</th>\n",
              "      <th>severe_toxic</th>\n",
              "      <th>obscene</th>\n",
              "      <th>threat</th>\n",
              "      <th>insult</th>\n",
              "      <th>identity_hate</th>\n",
              "      <th>2-trans</th>\n",
              "    </tr>\n",
              "  </thead>\n",
              "  <tbody>\n",
              "    <tr>\n",
              "      <th>0</th>\n",
              "      <td>0000997932d777bf</td>\n",
              "      <td>Explanation\\nWhy have the changes made under m...</td>\n",
              "      <td>0</td>\n",
              "      <td>0</td>\n",
              "      <td>0</td>\n",
              "      <td>0</td>\n",
              "      <td>0</td>\n",
              "      <td>0</td>\n",
              "      <td>Explanation\\nWhy have the changes made under m...</td>\n",
              "    </tr>\n",
              "  </tbody>\n",
              "</table>\n",
              "</div>"
            ],
            "text/plain": [
              "                 id  ...                                            2-trans\n",
              "0  0000997932d777bf  ...  Explanation\\nWhy have the changes made under m...\n",
              "\n",
              "[1 rows x 9 columns]"
            ]
          },
          "metadata": {
            "tags": []
          },
          "execution_count": 5
        }
      ]
    },
    {
      "cell_type": "code",
      "metadata": {
        "colab": {
          "base_uri": "https://localhost:8080/"
        },
        "id": "zUoFcBPX0o6M",
        "outputId": "1d176983-07f1-4a11-a33b-3768cd8944d7"
      },
      "source": [
        "# 1. Capitalization / Lower case\n",
        "train_fr['2-trans'] = train_fr['2-trans'].apply(lambda x: x.lower())\n",
        "# 2. Remove ~.jpg , (UTC)\n",
        "train_fr['2-trans'] = train_fr['2-trans'].apply(lambda x: re.sub(r\"\\S+\\.jpg|\\(UTC\\)\", \" \", x))\n",
        "# 3. Expand the Contractions\n",
        "!pip install contractions\n",
        "import contractions\n",
        "train_fr['2-trans'] = train_fr['2-trans'].apply(lambda x: contractions.fix(x))\n",
        "# 4. Remove URLs\n",
        "train_fr['2-trans'] = train_fr['2-trans'].apply(lambda x: re.sub(r\"https?://\\S+|www\\.\\S+\", \" \", x))\n",
        "# 5. Remove HTML tags\n",
        "train_fr['2-trans'] = train_fr['2-trans'].apply(lambda x: re.sub(r\"<.*?>|&([a-z0-9]+|#[0-9]{1,6}|#x[0-9a-f]{1,6});\", \" \", x))\n",
        "# 6. Remove Non-ASCI\n",
        "train_fr['2-trans'] = train_fr['2-trans'].apply(lambda x: re.sub(r'[^\\x00-\\x7f]',' ', x))\n",
        "# 7. Remove punctuations\n",
        "train_fr['2-trans'] = train_fr['2-trans'].apply(lambda x: re.sub(r'[]!\"$%&\\'()*+,./:;=#@?[\\\\^_`{|}~-]+', \" \", x))\n",
        "# 8. Capitalization / Lower case\n",
        "train_fr['2-trans'] = train_fr['2-trans'].apply(lambda x: x.lower())\n",
        "# Remove stopwords\n",
        "import nltk\n",
        "nltk.download('stopwords')\n",
        "from nltk.corpus import stopwords\n",
        "stop = stopwords.words('english')\n",
        "train_fr['2-trans'] = train_fr['2-trans'].apply(lambda x: ' '.join([word for word in x.split() if word not in (stop)]))"
      ],
      "execution_count": null,
      "outputs": [
        {
          "output_type": "stream",
          "text": [
            "Collecting contractions\n",
            "  Downloading https://files.pythonhosted.org/packages/0a/04/d5e0bb9f2cef5d15616ebf68087a725c5dbdd71bd422bcfb35d709f98ce7/contractions-0.0.48-py2.py3-none-any.whl\n",
            "Collecting textsearch>=0.0.21\n",
            "  Downloading https://files.pythonhosted.org/packages/d3/fe/021d7d76961b5ceb9f8d022c4138461d83beff36c3938dc424586085e559/textsearch-0.0.21-py2.py3-none-any.whl\n",
            "Collecting anyascii\n",
            "\u001b[?25l  Downloading https://files.pythonhosted.org/packages/09/c7/61370d9e3c349478e89a5554c1e5d9658e1e3116cc4f2528f568909ebdf1/anyascii-0.1.7-py3-none-any.whl (260kB)\n",
            "\u001b[K     |████████████████████████████████| 266kB 4.2MB/s \n",
            "\u001b[?25hCollecting pyahocorasick\n",
            "\u001b[?25l  Downloading https://files.pythonhosted.org/packages/7f/c2/eae730037ae1cbbfaa229d27030d1d5e34a1e41114b21447d1202ae9c220/pyahocorasick-1.4.2.tar.gz (321kB)\n",
            "\u001b[K     |████████████████████████████████| 327kB 7.3MB/s \n",
            "\u001b[?25hBuilding wheels for collected packages: pyahocorasick\n",
            "  Building wheel for pyahocorasick (setup.py) ... \u001b[?25l\u001b[?25hdone\n",
            "  Created wheel for pyahocorasick: filename=pyahocorasick-1.4.2-cp37-cp37m-linux_x86_64.whl size=85394 sha256=4350eaec83fa547d90811cb29db3731bfb7f864e260b90730ebf3dd54baa7ab3\n",
            "  Stored in directory: /root/.cache/pip/wheels/3a/03/34/77e3ece0bba8b86bfac88a79f923b36d805cad63caeba38842\n",
            "Successfully built pyahocorasick\n",
            "Installing collected packages: anyascii, pyahocorasick, textsearch, contractions\n",
            "Successfully installed anyascii-0.1.7 contractions-0.0.48 pyahocorasick-1.4.2 textsearch-0.0.21\n",
            "[nltk_data] Downloading package stopwords to /root/nltk_data...\n",
            "[nltk_data]   Unzipping corpora/stopwords.zip.\n"
          ],
          "name": "stdout"
        }
      ]
    },
    {
      "cell_type": "code",
      "metadata": {
        "colab": {
          "base_uri": "https://localhost:8080/"
        },
        "id": "psIUZEHb0uuc",
        "outputId": "ca551081-c5ed-4c2a-9737-30708beb3d19"
      },
      "source": [
        "# Find zero len comment\n",
        "zerolen_t = list()\n",
        "num = 0\n",
        "for i in train_fr['2-trans']:\n",
        "  if not re.search('\\S',i):\n",
        "    zerolen_t.append(num)\n",
        "  num += 1\n",
        "print(len(zerolen_t))  # 전처리 되어서 ''된 갯수 \n",
        "\n",
        "# 기존 comment_text 로 교체\n",
        "for i in zerolen_t:\n",
        "  train_fr['2-trans'][i] = train_fr['comment_text'][i] # 기본 데이터로 대체"
      ],
      "execution_count": null,
      "outputs": [
        {
          "output_type": "stream",
          "text": [
            "57\n"
          ],
          "name": "stdout"
        },
        {
          "output_type": "stream",
          "text": [
            "/usr/local/lib/python3.7/dist-packages/ipykernel_launcher.py:12: SettingWithCopyWarning: \n",
            "A value is trying to be set on a copy of a slice from a DataFrame\n",
            "\n",
            "See the caveats in the documentation: https://pandas.pydata.org/pandas-docs/stable/user_guide/indexing.html#returning-a-view-versus-a-copy\n",
            "  if sys.path[0] == '':\n"
          ],
          "name": "stderr"
        }
      ]
    },
    {
      "cell_type": "markdown",
      "metadata": {
        "id": "Fk3egbDS0x1O"
      },
      "source": [
        "### English -> Deutsch -> English"
      ]
    },
    {
      "cell_type": "code",
      "metadata": {
        "colab": {
          "base_uri": "https://localhost:8080/",
          "height": 76
        },
        "id": "iO4mm9Fq1A92",
        "outputId": "9323d9a2-2cb2-4e0d-8e49-bef2bd00a69a"
      },
      "source": [
        "train_de = pd.read_csv('/content/drive/Shareddrives/SOGANG Parrot/Ho-colab/train_de.csv')\n",
        "train_de['2-trans'] = train_de['comment_text']\n",
        "train_de.head(1)"
      ],
      "execution_count": null,
      "outputs": [
        {
          "output_type": "execute_result",
          "data": {
            "text/html": [
              "<div>\n",
              "<style scoped>\n",
              "    .dataframe tbody tr th:only-of-type {\n",
              "        vertical-align: middle;\n",
              "    }\n",
              "\n",
              "    .dataframe tbody tr th {\n",
              "        vertical-align: top;\n",
              "    }\n",
              "\n",
              "    .dataframe thead th {\n",
              "        text-align: right;\n",
              "    }\n",
              "</style>\n",
              "<table border=\"1\" class=\"dataframe\">\n",
              "  <thead>\n",
              "    <tr style=\"text-align: right;\">\n",
              "      <th></th>\n",
              "      <th>id</th>\n",
              "      <th>comment_text</th>\n",
              "      <th>toxic</th>\n",
              "      <th>severe_toxic</th>\n",
              "      <th>obscene</th>\n",
              "      <th>threat</th>\n",
              "      <th>insult</th>\n",
              "      <th>identity_hate</th>\n",
              "      <th>2-trans</th>\n",
              "    </tr>\n",
              "  </thead>\n",
              "  <tbody>\n",
              "    <tr>\n",
              "      <th>0</th>\n",
              "      <td>0000997932d777bf</td>\n",
              "      <td>explanation\\nWhy have the edits been undone un...</td>\n",
              "      <td>0</td>\n",
              "      <td>0</td>\n",
              "      <td>0</td>\n",
              "      <td>0</td>\n",
              "      <td>0</td>\n",
              "      <td>0</td>\n",
              "      <td>explanation\\nWhy have the edits been undone un...</td>\n",
              "    </tr>\n",
              "  </tbody>\n",
              "</table>\n",
              "</div>"
            ],
            "text/plain": [
              "                 id  ...                                            2-trans\n",
              "0  0000997932d777bf  ...  explanation\\nWhy have the edits been undone un...\n",
              "\n",
              "[1 rows x 9 columns]"
            ]
          },
          "metadata": {
            "tags": []
          },
          "execution_count": 8
        }
      ]
    },
    {
      "cell_type": "code",
      "metadata": {
        "id": "Wtr4MZ2u1FBz"
      },
      "source": [
        "# 1. Capitalization / Lower case\n",
        "train_de['2-trans'] = train_de['2-trans'].apply(lambda x: x.lower())\n",
        "# 2. Remove ~.jpg , (UTC)\n",
        "train_de['2-trans'] = train_de['2-trans'].apply(lambda x: re.sub(r\"\\S+\\.jpg|\\(UTC\\)\", \" \", x))\n",
        "# 3. Expand the Contractions\n",
        "train_de['2-trans'] = train_de['2-trans'].apply(lambda x: contractions.fix(x))\n",
        "# 4. Remove URLs\n",
        "train_de['2-trans'] = train_de['2-trans'].apply(lambda x: re.sub(r\"https?://\\S+|www\\.\\S+\", \" \", x))\n",
        "# 5. Remove HTML tags\n",
        "train_de['2-trans'] = train_de['2-trans'].apply(lambda x: re.sub(r\"<.*?>|&([a-z0-9]+|#[0-9]{1,6}|#x[0-9a-f]{1,6});\", \" \", x))\n",
        "# 6. Remove Non-ASCI\n",
        "train_de['2-trans'] = train_de['2-trans'].apply(lambda x: re.sub(r'[^\\x00-\\x7f]',' ', x))\n",
        "# 7. Remove punctuations\n",
        "train_de['2-trans'] = train_de['2-trans'].apply(lambda x: re.sub(r'[]!\"$%&\\'()*+,./:;=#@?[\\\\^_`{|}~-]+', \" \", x))\n",
        "# 8. Capitalization / Lower case\n",
        "train_de['2-trans'] = train_de['2-trans'].apply(lambda x: x.lower())\n",
        "# Remove stopwords\n",
        "train_de['2-trans'] = train_de['2-trans'].apply(lambda x: ' '.join([word for word in x.split() if word not in (stop)]))"
      ],
      "execution_count": null,
      "outputs": []
    },
    {
      "cell_type": "code",
      "metadata": {
        "colab": {
          "base_uri": "https://localhost:8080/"
        },
        "id": "1Puawyr41HDs",
        "outputId": "29f9a26b-98e8-468a-cae5-268062691b25"
      },
      "source": [
        "# Find zero len comment\n",
        "zerolen_t = list()\n",
        "num = 0\n",
        "for i in train_de['2-trans']:\n",
        "  if not re.search('\\S',i):\n",
        "    zerolen_t.append(num)\n",
        "  num += 1\n",
        "print(len(zerolen_t))  # 전처리 되어서 ''된 갯수 \n",
        "\n",
        "# 기존 comment_text 로 교체\n",
        "for i in zerolen_t:\n",
        "  train_de['2-trans'][i] = train_de['comment_text'][i] # 기본 데이터로 대체"
      ],
      "execution_count": null,
      "outputs": [
        {
          "output_type": "stream",
          "text": [
            "57\n"
          ],
          "name": "stdout"
        },
        {
          "output_type": "stream",
          "text": [
            "/usr/local/lib/python3.7/dist-packages/ipykernel_launcher.py:12: SettingWithCopyWarning: \n",
            "A value is trying to be set on a copy of a slice from a DataFrame\n",
            "\n",
            "See the caveats in the documentation: https://pandas.pydata.org/pandas-docs/stable/user_guide/indexing.html#returning-a-view-versus-a-copy\n",
            "  if sys.path[0] == '':\n"
          ],
          "name": "stderr"
        }
      ]
    },
    {
      "cell_type": "markdown",
      "metadata": {
        "id": "GytylIop1Iz8"
      },
      "source": [
        "### English -> Espanol -> English"
      ]
    },
    {
      "cell_type": "code",
      "metadata": {
        "colab": {
          "base_uri": "https://localhost:8080/",
          "height": 76
        },
        "id": "rqP4rLFp1J_1",
        "outputId": "ad43d3a7-ad43-4e4e-fb07-75533c7fa709"
      },
      "source": [
        "train_es = pd.read_csv('/content/drive/Shareddrives/SOGANG Parrot/Ho-colab/train_es.csv')\n",
        "train_es['2-trans'] = train_es['comment_text']\n",
        "train_es.head(1)"
      ],
      "execution_count": null,
      "outputs": [
        {
          "output_type": "execute_result",
          "data": {
            "text/html": [
              "<div>\n",
              "<style scoped>\n",
              "    .dataframe tbody tr th:only-of-type {\n",
              "        vertical-align: middle;\n",
              "    }\n",
              "\n",
              "    .dataframe tbody tr th {\n",
              "        vertical-align: top;\n",
              "    }\n",
              "\n",
              "    .dataframe thead th {\n",
              "        text-align: right;\n",
              "    }\n",
              "</style>\n",
              "<table border=\"1\" class=\"dataframe\">\n",
              "  <thead>\n",
              "    <tr style=\"text-align: right;\">\n",
              "      <th></th>\n",
              "      <th>id</th>\n",
              "      <th>comment_text</th>\n",
              "      <th>toxic</th>\n",
              "      <th>severe_toxic</th>\n",
              "      <th>obscene</th>\n",
              "      <th>threat</th>\n",
              "      <th>insult</th>\n",
              "      <th>identity_hate</th>\n",
              "      <th>2-trans</th>\n",
              "    </tr>\n",
              "  </thead>\n",
              "  <tbody>\n",
              "    <tr>\n",
              "      <th>0</th>\n",
              "      <td>0000997932d777bf</td>\n",
              "      <td>Explanation\\nWhy were the changes made under m...</td>\n",
              "      <td>0</td>\n",
              "      <td>0</td>\n",
              "      <td>0</td>\n",
              "      <td>0</td>\n",
              "      <td>0</td>\n",
              "      <td>0</td>\n",
              "      <td>Explanation\\nWhy were the changes made under m...</td>\n",
              "    </tr>\n",
              "  </tbody>\n",
              "</table>\n",
              "</div>"
            ],
            "text/plain": [
              "                 id  ...                                            2-trans\n",
              "0  0000997932d777bf  ...  Explanation\\nWhy were the changes made under m...\n",
              "\n",
              "[1 rows x 9 columns]"
            ]
          },
          "metadata": {
            "tags": []
          },
          "execution_count": 11
        }
      ]
    },
    {
      "cell_type": "code",
      "metadata": {
        "id": "kiv1Oirp1KCF"
      },
      "source": [
        "# 1. Capitalization / Lower case\n",
        "train_es['2-trans'] = train_es['2-trans'].apply(lambda x: x.lower())\n",
        "# 2. Remove ~.jpg , (UTC)\n",
        "train_es['2-trans'] = train_es['2-trans'].apply(lambda x: re.sub(r\"\\S+\\.jpg|\\(UTC\\)\", \" \", x))\n",
        "# 3. Expand the Contractions\n",
        "train_es['2-trans'] = train_es['2-trans'].apply(lambda x: contractions.fix(x))\n",
        "# 4. Remove URLs\n",
        "train_es['2-trans'] = train_es['2-trans'].apply(lambda x: re.sub(r\"https?://\\S+|www\\.\\S+\", \" \", x))\n",
        "# 5. Remove HTML tags\n",
        "train_es['2-trans'] = train_es['2-trans'].apply(lambda x: re.sub(r\"<.*?>|&([a-z0-9]+|#[0-9]{1,6}|#x[0-9a-f]{1,6});\", \" \", x))\n",
        "# 6. Remove Non-ASCI\n",
        "train_es['2-trans'] = train_es['2-trans'].apply(lambda x: re.sub(r'[^\\x00-\\x7f]',' ', x))\n",
        "# 7. Remove punctuations\n",
        "train_es['2-trans'] = train_es['2-trans'].apply(lambda x: re.sub(r'[]!\"$%&\\'()*+,./:;=#@?[\\\\^_`{|}~-]+', \" \", x))\n",
        "# 8. Capitalization / Lower case\n",
        "train_es['2-trans'] = train_es['2-trans'].apply(lambda x: x.lower())\n",
        "# Remove stopwords\n",
        "train_es['2-trans'] = train_es['2-trans'].apply(lambda x: ' '.join([word for word in x.split() if word not in (stop)]))"
      ],
      "execution_count": null,
      "outputs": []
    },
    {
      "cell_type": "code",
      "metadata": {
        "colab": {
          "base_uri": "https://localhost:8080/"
        },
        "id": "M0UHUeJK1Out",
        "outputId": "0cf30552-830f-45c6-f1a9-68589f3cd5a0"
      },
      "source": [
        "# Find zero len comment\n",
        "zerolen_t = list()\n",
        "num = 0\n",
        "for i in train_es['2-trans']:\n",
        "  if not re.search('\\S',i):\n",
        "    zerolen_t.append(num)\n",
        "  num += 1\n",
        "print(len(zerolen_t))  # 전처리 되어서 ''된 갯수 \n",
        "\n",
        "# 기존 comment_text 로 교체\n",
        "for i in zerolen_t:\n",
        "  train_es['2-trans'][i] = train_es['comment_text'][i] # 기본 데이터로 대체"
      ],
      "execution_count": null,
      "outputs": [
        {
          "output_type": "stream",
          "text": [
            "51\n"
          ],
          "name": "stdout"
        },
        {
          "output_type": "stream",
          "text": [
            "/usr/local/lib/python3.7/dist-packages/ipykernel_launcher.py:12: SettingWithCopyWarning: \n",
            "A value is trying to be set on a copy of a slice from a DataFrame\n",
            "\n",
            "See the caveats in the documentation: https://pandas.pydata.org/pandas-docs/stable/user_guide/indexing.html#returning-a-view-versus-a-copy\n",
            "  if sys.path[0] == '':\n"
          ],
          "name": "stderr"
        }
      ]
    },
    {
      "cell_type": "markdown",
      "metadata": {
        "id": "7JPoJIWt1R1_"
      },
      "source": [
        "### Train Data Augumentation"
      ]
    },
    {
      "cell_type": "code",
      "metadata": {
        "colab": {
          "base_uri": "https://localhost:8080/"
        },
        "id": "4I-ys1r91UKn",
        "outputId": "0a58d26a-9e0f-4038-81ea-63a1efd2b226"
      },
      "source": [
        "toxic_train_remove = pd.concat([train_de,train_es,train_fr])\n",
        "toxic_train_remove.shape"
      ],
      "execution_count": null,
      "outputs": [
        {
          "output_type": "execute_result",
          "data": {
            "text/plain": [
              "(478713, 9)"
            ]
          },
          "metadata": {
            "tags": []
          },
          "execution_count": 14
        }
      ]
    },
    {
      "cell_type": "code",
      "metadata": {
        "id": "1iocnS-61bes"
      },
      "source": [
        "del train_de, train_es, train_fr"
      ],
      "execution_count": null,
      "outputs": []
    },
    {
      "cell_type": "markdown",
      "metadata": {
        "id": "BOe_Y0zP1kQw"
      },
      "source": [
        "## Maintain-Stopwords"
      ]
    },
    {
      "cell_type": "markdown",
      "metadata": {
        "id": "FX_m7IU61u-0"
      },
      "source": [
        "### English -> French -> English"
      ]
    },
    {
      "cell_type": "code",
      "metadata": {
        "colab": {
          "base_uri": "https://localhost:8080/",
          "height": 76
        },
        "id": "xYxt9LXZ1qou",
        "outputId": "62ee9622-7037-41b2-96b7-80dc12b70151"
      },
      "source": [
        "train_fr = pd.read_csv('/content/drive/Shareddrives/SOGANG Parrot/Ho-colab/train_fr.csv')\n",
        "train_fr['2-trans'] = train_fr['comment_text']\n",
        "train_fr.head(1)"
      ],
      "execution_count": null,
      "outputs": [
        {
          "output_type": "execute_result",
          "data": {
            "text/html": [
              "<div>\n",
              "<style scoped>\n",
              "    .dataframe tbody tr th:only-of-type {\n",
              "        vertical-align: middle;\n",
              "    }\n",
              "\n",
              "    .dataframe tbody tr th {\n",
              "        vertical-align: top;\n",
              "    }\n",
              "\n",
              "    .dataframe thead th {\n",
              "        text-align: right;\n",
              "    }\n",
              "</style>\n",
              "<table border=\"1\" class=\"dataframe\">\n",
              "  <thead>\n",
              "    <tr style=\"text-align: right;\">\n",
              "      <th></th>\n",
              "      <th>id</th>\n",
              "      <th>comment_text</th>\n",
              "      <th>toxic</th>\n",
              "      <th>severe_toxic</th>\n",
              "      <th>obscene</th>\n",
              "      <th>threat</th>\n",
              "      <th>insult</th>\n",
              "      <th>identity_hate</th>\n",
              "      <th>2-trans</th>\n",
              "    </tr>\n",
              "  </thead>\n",
              "  <tbody>\n",
              "    <tr>\n",
              "      <th>0</th>\n",
              "      <td>0000997932d777bf</td>\n",
              "      <td>Explanation\\nWhy have the changes made under m...</td>\n",
              "      <td>0</td>\n",
              "      <td>0</td>\n",
              "      <td>0</td>\n",
              "      <td>0</td>\n",
              "      <td>0</td>\n",
              "      <td>0</td>\n",
              "      <td>Explanation\\nWhy have the changes made under m...</td>\n",
              "    </tr>\n",
              "  </tbody>\n",
              "</table>\n",
              "</div>"
            ],
            "text/plain": [
              "                 id  ...                                            2-trans\n",
              "0  0000997932d777bf  ...  Explanation\\nWhy have the changes made under m...\n",
              "\n",
              "[1 rows x 9 columns]"
            ]
          },
          "metadata": {
            "tags": []
          },
          "execution_count": 16
        }
      ]
    },
    {
      "cell_type": "code",
      "metadata": {
        "colab": {
          "base_uri": "https://localhost:8080/"
        },
        "id": "iVRRYX0H12Vs",
        "outputId": "d70da232-f5a5-45f6-ae54-3a38ed800edd"
      },
      "source": [
        "# 1. Capitalization / Lower case\n",
        "train_fr['2-trans'] = train_fr['2-trans'].apply(lambda x: x.lower())\n",
        "# 2. Remove ~.jpg , (UTC)\n",
        "train_fr['2-trans'] = train_fr['2-trans'].apply(lambda x: re.sub(r\"\\S+\\.jpg|\\(UTC\\)\", \" \", x))\n",
        "# 3. Expand the Contractions\n",
        "!pip install contractions\n",
        "import contractions\n",
        "train_fr['2-trans'] = train_fr['2-trans'].apply(lambda x: contractions.fix(x))\n",
        "# 4. Remove URLs\n",
        "train_fr['2-trans'] = train_fr['2-trans'].apply(lambda x: re.sub(r\"https?://\\S+|www\\.\\S+\", \" \", x))\n",
        "# 5. Remove HTML tags\n",
        "train_fr['2-trans'] = train_fr['2-trans'].apply(lambda x: re.sub(r\"<.*?>|&([a-z0-9]+|#[0-9]{1,6}|#x[0-9a-f]{1,6});\", \" \", x))\n",
        "# 6. Remove Non-ASCI\n",
        "train_fr['2-trans'] = train_fr['2-trans'].apply(lambda x: re.sub(r'[^\\x00-\\x7f]',' ', x))\n",
        "# 7. Remove punctuations\n",
        "train_fr['2-trans'] = train_fr['2-trans'].apply(lambda x: re.sub(r'[]!\"$%&\\'()*+,./:;=#@?[\\\\^_`{|}~-]+', \" \", x))\n",
        "# 8. Capitalization / Lower case\n",
        "train_fr['2-trans'] = train_fr['2-trans'].apply(lambda x: x.lower())\n",
        "# # Remove stopwords\n",
        "# import nltk\n",
        "# nltk.download('stopwords')\n",
        "# from nltk.corpus import stopwords\n",
        "# stop = stopwords.words('english')\n",
        "# train_fr['2-trans'] = train_fr['2-trans'].apply(lambda x: ' '.join([word for word in x.split() if word not in (stop)]))"
      ],
      "execution_count": null,
      "outputs": [
        {
          "output_type": "stream",
          "text": [
            "Requirement already satisfied: contractions in /usr/local/lib/python3.7/dist-packages (0.0.48)\n",
            "Requirement already satisfied: textsearch>=0.0.21 in /usr/local/lib/python3.7/dist-packages (from contractions) (0.0.21)\n",
            "Requirement already satisfied: anyascii in /usr/local/lib/python3.7/dist-packages (from textsearch>=0.0.21->contractions) (0.1.7)\n",
            "Requirement already satisfied: pyahocorasick in /usr/local/lib/python3.7/dist-packages (from textsearch>=0.0.21->contractions) (1.4.2)\n"
          ],
          "name": "stdout"
        }
      ]
    },
    {
      "cell_type": "code",
      "metadata": {
        "colab": {
          "base_uri": "https://localhost:8080/"
        },
        "id": "iC7L6oHO14A2",
        "outputId": "e2fae3b1-14db-4a80-9ae5-f378783d3b12"
      },
      "source": [
        "# Find zero len comment\n",
        "zerolen_t = list()\n",
        "num = 0\n",
        "for i in train_fr['2-trans']:\n",
        "  if not re.search('\\S',i):\n",
        "    zerolen_t.append(num)\n",
        "  num += 1\n",
        "print(len(zerolen_t))  # 전처리 되어서 ''된 갯수 \n",
        "\n",
        "# 기존 comment_text 로 교체\n",
        "for i in zerolen_t:\n",
        "  train_fr['2-trans'][i] = train_fr['comment_text'][i] # 기본 데이터로 대체"
      ],
      "execution_count": null,
      "outputs": [
        {
          "output_type": "stream",
          "text": [
            "16\n"
          ],
          "name": "stdout"
        },
        {
          "output_type": "stream",
          "text": [
            "/usr/local/lib/python3.7/dist-packages/ipykernel_launcher.py:12: SettingWithCopyWarning: \n",
            "A value is trying to be set on a copy of a slice from a DataFrame\n",
            "\n",
            "See the caveats in the documentation: https://pandas.pydata.org/pandas-docs/stable/user_guide/indexing.html#returning-a-view-versus-a-copy\n",
            "  if sys.path[0] == '':\n"
          ],
          "name": "stderr"
        }
      ]
    },
    {
      "cell_type": "markdown",
      "metadata": {
        "id": "7O1Xgjau17t8"
      },
      "source": [
        "### English -> Deutsch -> English"
      ]
    },
    {
      "cell_type": "code",
      "metadata": {
        "colab": {
          "base_uri": "https://localhost:8080/",
          "height": 76
        },
        "id": "RrWoM4fV19is",
        "outputId": "9d96a732-0ae8-4784-e7a5-158266f436de"
      },
      "source": [
        "train_de = pd.read_csv('/content/drive/Shareddrives/SOGANG Parrot/Ho-colab/train_de.csv')\n",
        "train_de['2-trans'] = train_de['comment_text']\n",
        "train_de.head(1)"
      ],
      "execution_count": null,
      "outputs": [
        {
          "output_type": "execute_result",
          "data": {
            "text/html": [
              "<div>\n",
              "<style scoped>\n",
              "    .dataframe tbody tr th:only-of-type {\n",
              "        vertical-align: middle;\n",
              "    }\n",
              "\n",
              "    .dataframe tbody tr th {\n",
              "        vertical-align: top;\n",
              "    }\n",
              "\n",
              "    .dataframe thead th {\n",
              "        text-align: right;\n",
              "    }\n",
              "</style>\n",
              "<table border=\"1\" class=\"dataframe\">\n",
              "  <thead>\n",
              "    <tr style=\"text-align: right;\">\n",
              "      <th></th>\n",
              "      <th>id</th>\n",
              "      <th>comment_text</th>\n",
              "      <th>toxic</th>\n",
              "      <th>severe_toxic</th>\n",
              "      <th>obscene</th>\n",
              "      <th>threat</th>\n",
              "      <th>insult</th>\n",
              "      <th>identity_hate</th>\n",
              "      <th>2-trans</th>\n",
              "    </tr>\n",
              "  </thead>\n",
              "  <tbody>\n",
              "    <tr>\n",
              "      <th>0</th>\n",
              "      <td>0000997932d777bf</td>\n",
              "      <td>explanation\\nWhy have the edits been undone un...</td>\n",
              "      <td>0</td>\n",
              "      <td>0</td>\n",
              "      <td>0</td>\n",
              "      <td>0</td>\n",
              "      <td>0</td>\n",
              "      <td>0</td>\n",
              "      <td>explanation\\nWhy have the edits been undone un...</td>\n",
              "    </tr>\n",
              "  </tbody>\n",
              "</table>\n",
              "</div>"
            ],
            "text/plain": [
              "                 id  ...                                            2-trans\n",
              "0  0000997932d777bf  ...  explanation\\nWhy have the edits been undone un...\n",
              "\n",
              "[1 rows x 9 columns]"
            ]
          },
          "metadata": {
            "tags": []
          },
          "execution_count": 19
        }
      ]
    },
    {
      "cell_type": "code",
      "metadata": {
        "id": "-FdUjurN2A7u"
      },
      "source": [
        "# 1. Capitalization / Lower case\n",
        "train_de['2-trans'] = train_de['2-trans'].apply(lambda x: x.lower())\n",
        "# 2. Remove ~.jpg , (UTC)\n",
        "train_de['2-trans'] = train_de['2-trans'].apply(lambda x: re.sub(r\"\\S+\\.jpg|\\(UTC\\)\", \" \", x))\n",
        "# 3. Expand the Contractions\n",
        "train_de['2-trans'] = train_de['2-trans'].apply(lambda x: contractions.fix(x))\n",
        "# 4. Remove URLs\n",
        "train_de['2-trans'] = train_de['2-trans'].apply(lambda x: re.sub(r\"https?://\\S+|www\\.\\S+\", \" \", x))\n",
        "# 5. Remove HTML tags\n",
        "train_de['2-trans'] = train_de['2-trans'].apply(lambda x: re.sub(r\"<.*?>|&([a-z0-9]+|#[0-9]{1,6}|#x[0-9a-f]{1,6});\", \" \", x))\n",
        "# 6. Remove Non-ASCI\n",
        "train_de['2-trans'] = train_de['2-trans'].apply(lambda x: re.sub(r'[^\\x00-\\x7f]',' ', x))\n",
        "# 7. Remove punctuations\n",
        "train_de['2-trans'] = train_de['2-trans'].apply(lambda x: re.sub(r'[]!\"$%&\\'()*+,./:;=#@?[\\\\^_`{|}~-]+', \" \", x))\n",
        "# 8. Capitalization / Lower case\n",
        "train_de['2-trans'] = train_de['2-trans'].apply(lambda x: x.lower())\n",
        "# # Remove stopwords\n",
        "# train_de['2-trans'] = train_de['2-trans'].apply(lambda x: ' '.join([word for word in x.split() if word not in (stop)]))"
      ],
      "execution_count": null,
      "outputs": []
    },
    {
      "cell_type": "code",
      "metadata": {
        "colab": {
          "base_uri": "https://localhost:8080/"
        },
        "id": "pzwwfI8l2CMh",
        "outputId": "083f7830-2984-4fc5-ceeb-4fa0bcabbc10"
      },
      "source": [
        "# Find zero len comment\n",
        "zerolen_t = list()\n",
        "num = 0\n",
        "for i in train_de['2-trans']:\n",
        "  if not re.search('\\S',i):\n",
        "    zerolen_t.append(num)\n",
        "  num += 1\n",
        "print(len(zerolen_t))  # 전처리 되어서 ''된 갯수 \n",
        "\n",
        "# 기존 comment_text 로 교체\n",
        "for i in zerolen_t:\n",
        "  train_de['2-trans'][i] = train_de['comment_text'][i] # 기본 데이터로 대체"
      ],
      "execution_count": null,
      "outputs": [
        {
          "output_type": "stream",
          "text": [
            "22\n"
          ],
          "name": "stdout"
        },
        {
          "output_type": "stream",
          "text": [
            "/usr/local/lib/python3.7/dist-packages/ipykernel_launcher.py:12: SettingWithCopyWarning: \n",
            "A value is trying to be set on a copy of a slice from a DataFrame\n",
            "\n",
            "See the caveats in the documentation: https://pandas.pydata.org/pandas-docs/stable/user_guide/indexing.html#returning-a-view-versus-a-copy\n",
            "  if sys.path[0] == '':\n"
          ],
          "name": "stderr"
        }
      ]
    },
    {
      "cell_type": "markdown",
      "metadata": {
        "id": "pg-9e3vF2EkG"
      },
      "source": [
        "### English -> Espanol -> English"
      ]
    },
    {
      "cell_type": "code",
      "metadata": {
        "colab": {
          "base_uri": "https://localhost:8080/",
          "height": 76
        },
        "id": "Ra7o28VI2GN0",
        "outputId": "21c24d31-c365-4eef-8b93-53e3f301829c"
      },
      "source": [
        "train_es = pd.read_csv('/content/drive/Shareddrives/SOGANG Parrot/Ho-colab/train_es.csv')\n",
        "train_es['2-trans'] = train_es['comment_text']\n",
        "train_es.head(1)"
      ],
      "execution_count": null,
      "outputs": [
        {
          "output_type": "execute_result",
          "data": {
            "text/html": [
              "<div>\n",
              "<style scoped>\n",
              "    .dataframe tbody tr th:only-of-type {\n",
              "        vertical-align: middle;\n",
              "    }\n",
              "\n",
              "    .dataframe tbody tr th {\n",
              "        vertical-align: top;\n",
              "    }\n",
              "\n",
              "    .dataframe thead th {\n",
              "        text-align: right;\n",
              "    }\n",
              "</style>\n",
              "<table border=\"1\" class=\"dataframe\">\n",
              "  <thead>\n",
              "    <tr style=\"text-align: right;\">\n",
              "      <th></th>\n",
              "      <th>id</th>\n",
              "      <th>comment_text</th>\n",
              "      <th>toxic</th>\n",
              "      <th>severe_toxic</th>\n",
              "      <th>obscene</th>\n",
              "      <th>threat</th>\n",
              "      <th>insult</th>\n",
              "      <th>identity_hate</th>\n",
              "      <th>2-trans</th>\n",
              "    </tr>\n",
              "  </thead>\n",
              "  <tbody>\n",
              "    <tr>\n",
              "      <th>0</th>\n",
              "      <td>0000997932d777bf</td>\n",
              "      <td>Explanation\\nWhy were the changes made under m...</td>\n",
              "      <td>0</td>\n",
              "      <td>0</td>\n",
              "      <td>0</td>\n",
              "      <td>0</td>\n",
              "      <td>0</td>\n",
              "      <td>0</td>\n",
              "      <td>Explanation\\nWhy were the changes made under m...</td>\n",
              "    </tr>\n",
              "  </tbody>\n",
              "</table>\n",
              "</div>"
            ],
            "text/plain": [
              "                 id  ...                                            2-trans\n",
              "0  0000997932d777bf  ...  Explanation\\nWhy were the changes made under m...\n",
              "\n",
              "[1 rows x 9 columns]"
            ]
          },
          "metadata": {
            "tags": []
          },
          "execution_count": 22
        }
      ]
    },
    {
      "cell_type": "code",
      "metadata": {
        "id": "Jqj5Lz0M2I8s"
      },
      "source": [
        "# 1. Capitalization / Lower case\n",
        "train_es['2-trans'] = train_es['2-trans'].apply(lambda x: x.lower())\n",
        "# 2. Remove ~.jpg , (UTC)\n",
        "train_es['2-trans'] = train_es['2-trans'].apply(lambda x: re.sub(r\"\\S+\\.jpg|\\(UTC\\)\", \" \", x))\n",
        "# 3. Expand the Contractions\n",
        "train_es['2-trans'] = train_es['2-trans'].apply(lambda x: contractions.fix(x))\n",
        "# 4. Remove URLs\n",
        "train_es['2-trans'] = train_es['2-trans'].apply(lambda x: re.sub(r\"https?://\\S+|www\\.\\S+\", \" \", x))\n",
        "# 5. Remove HTML tags\n",
        "train_es['2-trans'] = train_es['2-trans'].apply(lambda x: re.sub(r\"<.*?>|&([a-z0-9]+|#[0-9]{1,6}|#x[0-9a-f]{1,6});\", \" \", x))\n",
        "# 6. Remove Non-ASCI\n",
        "train_es['2-trans'] = train_es['2-trans'].apply(lambda x: re.sub(r'[^\\x00-\\x7f]',' ', x))\n",
        "# 7. Remove punctuations\n",
        "train_es['2-trans'] = train_es['2-trans'].apply(lambda x: re.sub(r'[]!\"$%&\\'()*+,./:;=#@?[\\\\^_`{|}~-]+', \" \", x))\n",
        "# 8. Capitalization / Lower case\n",
        "train_es['2-trans'] = train_es['2-trans'].apply(lambda x: x.lower())\n",
        "# # Remove stopwords\n",
        "# train_es['2-trans'] = train_es['2-trans'].apply(lambda x: ' '.join([word for word in x.split() if word not in (stop)]))"
      ],
      "execution_count": null,
      "outputs": []
    },
    {
      "cell_type": "code",
      "metadata": {
        "colab": {
          "base_uri": "https://localhost:8080/"
        },
        "id": "b_PbRro62I_P",
        "outputId": "db3c4c87-1775-4c59-fca2-ac97e16ca9b7"
      },
      "source": [
        "# Find zero len comment\n",
        "zerolen_t = list()\n",
        "num = 0\n",
        "for i in train_es['2-trans']:\n",
        "  if not re.search('\\S',i):\n",
        "    zerolen_t.append(num)\n",
        "  num += 1\n",
        "print(len(zerolen_t))  # 전처리 되어서 ''된 갯수 \n",
        "\n",
        "# 기존 comment_text 로 교체\n",
        "for i in zerolen_t:\n",
        "  train_es['2-trans'][i] = train_es['comment_text'][i] # 기본 데이터로 대체"
      ],
      "execution_count": null,
      "outputs": [
        {
          "output_type": "stream",
          "text": [
            "14\n"
          ],
          "name": "stdout"
        },
        {
          "output_type": "stream",
          "text": [
            "/usr/local/lib/python3.7/dist-packages/ipykernel_launcher.py:12: SettingWithCopyWarning: \n",
            "A value is trying to be set on a copy of a slice from a DataFrame\n",
            "\n",
            "See the caveats in the documentation: https://pandas.pydata.org/pandas-docs/stable/user_guide/indexing.html#returning-a-view-versus-a-copy\n",
            "  if sys.path[0] == '':\n"
          ],
          "name": "stderr"
        }
      ]
    },
    {
      "cell_type": "markdown",
      "metadata": {
        "id": "CITbg1ps2Lrw"
      },
      "source": [
        "### Train Data Augumentation"
      ]
    },
    {
      "cell_type": "code",
      "metadata": {
        "colab": {
          "base_uri": "https://localhost:8080/"
        },
        "id": "KNuv_th22JBN",
        "outputId": "351e7441-bb63-41b3-dfe5-3bdff3723efd"
      },
      "source": [
        "toxic_train_no_remove = pd.concat([train_de,train_es,train_fr])\n",
        "toxic_train_no_remove.shape"
      ],
      "execution_count": null,
      "outputs": [
        {
          "output_type": "execute_result",
          "data": {
            "text/plain": [
              "(478713, 9)"
            ]
          },
          "metadata": {
            "tags": []
          },
          "execution_count": 25
        }
      ]
    },
    {
      "cell_type": "code",
      "metadata": {
        "id": "6PIHdGWZ2V5O"
      },
      "source": [
        "del train_de, train_es, train_fr"
      ],
      "execution_count": null,
      "outputs": []
    },
    {
      "cell_type": "markdown",
      "metadata": {
        "id": "M87LCWo92Xud"
      },
      "source": [
        "# Data Augumentation"
      ]
    },
    {
      "cell_type": "code",
      "metadata": {
        "id": "j9I2b1S72aIG"
      },
      "source": [
        "train_augumented = pd.concat([toxic_train_remove, toxic_train_no_remove, train])\n",
        "\n",
        "from sklearn.utils import shuffle\n",
        "train_augumented = shuffle(train_augumented)"
      ],
      "execution_count": null,
      "outputs": []
    },
    {
      "cell_type": "code",
      "metadata": {
        "colab": {
          "base_uri": "https://localhost:8080/",
          "height": 249
        },
        "id": "PH2035uJ2ojW",
        "outputId": "a2c9300c-483e-4a0d-d335-7c0d5755bb25"
      },
      "source": [
        "train_augumented.head(4)"
      ],
      "execution_count": null,
      "outputs": [
        {
          "output_type": "execute_result",
          "data": {
            "text/html": [
              "<div>\n",
              "<style scoped>\n",
              "    .dataframe tbody tr th:only-of-type {\n",
              "        vertical-align: middle;\n",
              "    }\n",
              "\n",
              "    .dataframe tbody tr th {\n",
              "        vertical-align: top;\n",
              "    }\n",
              "\n",
              "    .dataframe thead th {\n",
              "        text-align: right;\n",
              "    }\n",
              "</style>\n",
              "<table border=\"1\" class=\"dataframe\">\n",
              "  <thead>\n",
              "    <tr style=\"text-align: right;\">\n",
              "      <th></th>\n",
              "      <th>id</th>\n",
              "      <th>comment_text</th>\n",
              "      <th>toxic</th>\n",
              "      <th>severe_toxic</th>\n",
              "      <th>obscene</th>\n",
              "      <th>threat</th>\n",
              "      <th>insult</th>\n",
              "      <th>identity_hate</th>\n",
              "      <th>2-trans</th>\n",
              "      <th>1-pre</th>\n",
              "      <th>len-2-trans</th>\n",
              "    </tr>\n",
              "  </thead>\n",
              "  <tbody>\n",
              "    <tr>\n",
              "      <th>136083</th>\n",
              "      <td>d7d71db6dd75547e</td>\n",
              "      <td>The user who created this page has one edit at...</td>\n",
              "      <td>0</td>\n",
              "      <td>0</td>\n",
              "      <td>0</td>\n",
              "      <td>0</td>\n",
              "      <td>0</td>\n",
              "      <td>0</td>\n",
              "      <td>user created page one edit time page imagine s...</td>\n",
              "      <td>user created page one edit time page imagine s...</td>\n",
              "      <td>9.0</td>\n",
              "    </tr>\n",
              "    <tr>\n",
              "      <th>42013</th>\n",
              "      <td>701322048f1e5de1</td>\n",
              "      <td>\"\\nThis, SqueakBox, is because it's a content-...</td>\n",
              "      <td>0</td>\n",
              "      <td>0</td>\n",
              "      <td>0</td>\n",
              "      <td>0</td>\n",
              "      <td>0</td>\n",
              "      <td>0</td>\n",
              "      <td>squeakbox content based discussion addressed p...</td>\n",
              "      <td>NaN</td>\n",
              "      <td>NaN</td>\n",
              "    </tr>\n",
              "    <tr>\n",
              "      <th>130106</th>\n",
              "      <td>b803a22f32b58f3a</td>\n",
              "      <td>Yuck\\n\\nOn your talk page, you say you're vega...</td>\n",
              "      <td>0</td>\n",
              "      <td>0</td>\n",
              "      <td>0</td>\n",
              "      <td>0</td>\n",
              "      <td>0</td>\n",
              "      <td>0</td>\n",
              "      <td>yuck\\n\\non your talk page  you say you are veg...</td>\n",
              "      <td>NaN</td>\n",
              "      <td>NaN</td>\n",
              "    </tr>\n",
              "    <tr>\n",
              "      <th>38361</th>\n",
              "      <td>666fb0147d0876c4</td>\n",
              "      <td>I was a little curious here and I looked at so...</td>\n",
              "      <td>0</td>\n",
              "      <td>0</td>\n",
              "      <td>0</td>\n",
              "      <td>0</td>\n",
              "      <td>0</td>\n",
              "      <td>0</td>\n",
              "      <td>little curious looked ward3001 wrote jayjg win...</td>\n",
              "      <td>NaN</td>\n",
              "      <td>NaN</td>\n",
              "    </tr>\n",
              "  </tbody>\n",
              "</table>\n",
              "</div>"
            ],
            "text/plain": [
              "                      id  ... len-2-trans\n",
              "136083  d7d71db6dd75547e  ...         9.0\n",
              "42013   701322048f1e5de1  ...         NaN\n",
              "130106  b803a22f32b58f3a  ...         NaN\n",
              "38361   666fb0147d0876c4  ...         NaN\n",
              "\n",
              "[4 rows x 11 columns]"
            ]
          },
          "metadata": {
            "tags": []
          },
          "execution_count": 28
        }
      ]
    },
    {
      "cell_type": "code",
      "metadata": {
        "colab": {
          "base_uri": "https://localhost:8080/"
        },
        "id": "zHxOk6at2pok",
        "outputId": "a5e67b7c-75ec-4b42-f39e-3141f8e26290"
      },
      "source": [
        "train_augumented.shape"
      ],
      "execution_count": null,
      "outputs": [
        {
          "output_type": "execute_result",
          "data": {
            "text/plain": [
              "(1116997, 11)"
            ]
          },
          "metadata": {
            "tags": []
          },
          "execution_count": 29
        }
      ]
    },
    {
      "cell_type": "markdown",
      "metadata": {
        "id": "jQPYr1xh2q_s"
      },
      "source": [
        "# New Train Data"
      ]
    },
    {
      "cell_type": "code",
      "metadata": {
        "id": "3jLS9qbv2sqs"
      },
      "source": [
        "train_augumented.to_csv('/content/drive/Shareddrives/SOGANG Parrot/Ho-colab/0408-All.csv',index=False)"
      ],
      "execution_count": null,
      "outputs": []
    },
    {
      "cell_type": "code",
      "metadata": {
        "id": "b8HXQVwm2ty0"
      },
      "source": [
        "train_augumented = pd.read_csv('/content/drive/Shareddrives/SOGANG Parrot/Ho-colab/0408-All.csv')"
      ],
      "execution_count": null,
      "outputs": []
    },
    {
      "cell_type": "markdown",
      "metadata": {
        "id": "pUeXDZ283feH"
      },
      "source": [
        "# Tokenization"
      ]
    },
    {
      "cell_type": "code",
      "metadata": {
        "id": "czV7gLXG3jKt"
      },
      "source": [
        "list_sentences_train = train_augumented['2-trans'] # (638284,)     #duasudoasduoasudoasduasoduasduasuoduas\n",
        "list_sentences_test = test['2-trans'] # (153164,)"
      ],
      "execution_count": null,
      "outputs": []
    },
    {
      "cell_type": "code",
      "metadata": {
        "colab": {
          "base_uri": "https://localhost:8080/"
        },
        "id": "p3jMldHN3mDk",
        "outputId": "c1997078-a6af-40a9-c91e-ed564fe3bd0e"
      },
      "source": [
        "max_features = 100000\n",
        "tokenizer = Tokenizer(num_words=max_features)\n",
        "tokenizer.fit_on_texts(list_sentences_train)\n",
        "list_tokenized_train = tokenizer.texts_to_sequences(list_sentences_train)\n",
        "# list_tokenized_train[:1] = [[688,75,1,126,130, ,,, ]]\n",
        "list_tokenized_test = tokenizer.texts_to_sequences(list_sentences_test)\n",
        "# list_tokenized_test[:1] = [[2665,655,8849,656, ,,, ]]\n",
        "\n",
        "# tokenizer.word_counts = OrderedDict([('explanation', 1771),('why', 17818),('the', 496540),('edits', 9957), ,,, ])\n",
        "# tokenizer.word_index = {'the': 1,'to': 2,'of': 3,'and': 4, ,,, }\n",
        "len(tokenizer.word_index)"
      ],
      "execution_count": null,
      "outputs": [
        {
          "output_type": "execute_result",
          "data": {
            "text/plain": [
              "206284"
            ]
          },
          "metadata": {
            "tags": []
          },
          "execution_count": 33
        }
      ]
    },
    {
      "cell_type": "markdown",
      "metadata": {
        "id": "cg8q-0E53n77"
      },
      "source": [
        "# Padding"
      ]
    },
    {
      "cell_type": "code",
      "metadata": {
        "colab": {
          "base_uri": "https://localhost:8080/"
        },
        "id": "G49_BfBX3onK",
        "outputId": "eef4b888-3455-4618-9478-2cccaac7ac7f"
      },
      "source": [
        "maxlen = 50\n",
        "X_t = pad_sequences(list_tokenized_train, maxlen=maxlen) # (638284, 50)\n",
        "X_te = pad_sequences(list_tokenized_test, maxlen=maxlen) # (153164, 50)\n",
        "\n",
        "X_t.shape"
      ],
      "execution_count": null,
      "outputs": [
        {
          "output_type": "execute_result",
          "data": {
            "text/plain": [
              "(1116997, 50)"
            ]
          },
          "metadata": {
            "tags": []
          },
          "execution_count": 34
        }
      ]
    },
    {
      "cell_type": "code",
      "metadata": {
        "colab": {
          "base_uri": "https://localhost:8080/"
        },
        "id": "eF2DOPOb3rTz",
        "outputId": "f718acd2-dbec-4dbf-f226-cbab312a6062"
      },
      "source": [
        "list_classes = [\"toxic\", \"severe_toxic\", \"obscene\", \"threat\", \"insult\", \"identity_hate\"]\n",
        "y = train_augumented[list_classes].values # y.shape (159571, 6)\n",
        "y.shape"
      ],
      "execution_count": null,
      "outputs": [
        {
          "output_type": "execute_result",
          "data": {
            "text/plain": [
              "(1116997, 6)"
            ]
          },
          "metadata": {
            "tags": []
          },
          "execution_count": 35
        }
      ]
    },
    {
      "cell_type": "markdown",
      "metadata": {
        "id": "MbV8UNOY3svD"
      },
      "source": [
        "# Pretrained-Embedding-matrix"
      ]
    },
    {
      "cell_type": "code",
      "metadata": {
        "colab": {
          "base_uri": "https://localhost:8080/"
        },
        "id": "D40mUKrk3uK7",
        "outputId": "034d0417-bd73-45bd-8143-a87f2d453f61"
      },
      "source": [
        "embedding_dict = dict()\n",
        "f = open('/content/drive/Shareddrives/SOGANG Parrot/Pretrained-Embedding-Vector/glove.twitter.27B.200d.txt/glove.twitter.27B.200d.txt', encoding=\"utf8\")\n",
        "\n",
        "for line in f:\n",
        "    word_vector = line.split()\n",
        "    word = word_vector[0]\n",
        "    word_vector_arr = np.asarray(word_vector[1:], dtype='float32') # 200\n",
        "    embedding_dict[word] = word_vector_arr\n",
        "f.close()\n",
        "print('There are %s Embedding Vectors\\n' % len(embedding_dict))\n",
        "\n",
        "print(embedding_dict['respectable'])\n",
        "print(len(embedding_dict['respectable']))\n",
        "\n",
        "embedding_matrix = np.zeros((len(tokenizer.word_index)+1, 200)) # will delete first row\n",
        "\n",
        "for word, i in tokenizer.word_index.items(): \n",
        "    temp = embedding_dict.get(word) \n",
        "    if temp is not None:\n",
        "        embedding_matrix[i] = temp \n",
        "\n",
        "print(embedding_matrix.shape)\n",
        "embedding_matrix = np.delete(embedding_matrix,0,axis=0) # delete first row\n",
        "print(embedding_matrix.shape)"
      ],
      "execution_count": null,
      "outputs": [
        {
          "output_type": "stream",
          "text": [
            "There are 1193514 Embedding Vectors\n",
            "\n",
            "[-6.4748e-01 -3.7296e-01 -3.6128e-01  7.9975e-01 -2.1890e-01  7.6152e-01\n",
            " -7.3698e-02  2.2635e-01 -7.5429e-02  6.3600e-01 -6.5914e-01 -5.1787e-01\n",
            " -6.4411e-02 -3.0796e-01  4.4071e-01  1.4543e-01 -9.9792e-02 -2.3253e-01\n",
            "  2.0882e-01 -9.3256e-02 -2.9659e-01 -1.6643e-01 -1.3184e-01 -5.5247e-01\n",
            " -6.0625e-01  9.6745e-01  3.8410e-01 -1.4236e-02  2.8774e-01  7.5652e-01\n",
            "  1.1552e-01 -4.9894e-01 -9.2585e-02 -6.7708e-02  3.1373e-01  5.6426e-01\n",
            "  1.9797e-01  4.0703e-02  2.7106e-01 -3.3045e-01  3.9652e-01  1.3718e-01\n",
            "  5.0194e-01  3.7811e-01  2.9139e-01  2.6001e-01  2.9927e-01  3.6737e-01\n",
            "  1.0638e-01  3.7086e-01  2.3767e-02  6.4266e-01 -2.4067e-01 -3.1749e-01\n",
            " -3.4070e-01  9.3053e-01  1.8900e-01 -2.7260e-01 -3.5132e-01  1.4086e-01\n",
            " -1.6232e-01  8.7983e-03 -8.7401e-02 -1.2887e-01  2.5303e-01  9.0737e-01\n",
            " -3.3149e-01  5.8059e-02 -2.3855e-01  3.5351e-01 -3.8560e-01 -4.6745e-01\n",
            " -2.2487e-01 -1.9058e-01  3.4685e-02  4.1231e-01  9.3602e-02  2.0409e-01\n",
            " -2.4806e-01  1.3415e-01 -3.3103e-02 -1.3584e-01 -2.3476e-01 -8.4288e-02\n",
            "  4.6286e-01  3.8784e-01  4.4430e-01 -2.8609e-01 -2.7041e-01 -1.9235e-01\n",
            " -1.5831e-01  9.8357e-01 -2.6385e-01  5.4559e-01  3.3843e-01  3.2157e-01\n",
            "  7.3296e-01  1.0803e-01  6.5516e-01 -3.0074e-01  2.4091e-01 -2.8064e-02\n",
            " -3.1438e-01  2.2706e-01  6.0407e-01 -1.7941e-01  3.4237e-01 -8.2516e-02\n",
            "  6.8829e-02  1.9141e-01 -3.7076e-03  1.6319e-01  5.8710e-01  9.7778e-02\n",
            " -2.8883e-02 -1.4038e-01 -4.6740e-01  5.2499e-01  2.3336e-01  5.9216e-01\n",
            " -2.7878e-02  2.9111e-01 -6.0881e-01  1.0899e-01 -4.5522e-02  2.3117e-01\n",
            "  5.4563e-01 -5.5960e-01  2.9627e-01 -3.6436e-02 -6.6415e-01  7.2335e-02\n",
            "  2.1310e-01 -4.0450e-01 -2.6190e-02  3.4587e-01  8.3901e-02 -2.2964e-01\n",
            "  2.6786e-01  2.4783e-01  3.5687e-01  7.0495e-01  1.3507e-01 -5.8846e-02\n",
            "  2.4553e-01  2.3232e-01  3.1930e-01 -1.6204e-01  4.9869e-01 -7.8123e-02\n",
            " -8.7849e-02  2.2856e-01 -1.3048e+00  1.1218e-01  4.2665e-01 -3.1402e-01\n",
            " -3.2848e-02 -1.4033e-01 -1.8119e-01  8.1331e-01  2.2846e-02  2.2617e-01\n",
            " -2.1585e-01  1.7529e-02  1.8789e-01 -3.3444e-01 -4.4278e-01 -1.8998e-01\n",
            "  2.8810e-01 -4.6224e-02  1.0201e+00 -5.7756e-01 -2.7032e-01  3.2498e-02\n",
            " -2.1147e-01  1.8717e-01  1.5862e-01 -6.0124e-01 -2.0705e-01  8.3816e-02\n",
            " -4.2300e-01 -1.5713e-01 -1.6955e-01 -4.6085e-01 -2.1368e-01  2.4863e-01\n",
            " -4.2403e-01 -1.9565e-01 -3.7347e-01 -1.8980e-01  3.9056e-04  1.1618e-01\n",
            "  5.5893e-01 -3.8291e-01  2.1319e-01 -6.4864e-01  1.2915e-01  5.3299e-02\n",
            "  5.7116e-02 -1.1572e+00]\n",
            "200\n",
            "(206285, 200)\n",
            "(206284, 200)\n"
          ],
          "name": "stdout"
        }
      ]
    },
    {
      "cell_type": "code",
      "metadata": {
        "id": "-lk14omo3wyb"
      },
      "source": [
        "np.save('/content/drive/Shareddrives/SOGANG Parrot/Pretrained-Embedding-Vector/0408-all-200d-pretrained-embed-Glove.npy',embedding_matrix)"
      ],
      "execution_count": null,
      "outputs": []
    },
    {
      "cell_type": "code",
      "metadata": {
        "colab": {
          "base_uri": "https://localhost:8080/"
        },
        "id": "8cssp-xk3ynt",
        "outputId": "51c8000b-ae1c-47e0-9aba-02902a4cb98f"
      },
      "source": [
        "embedding_matrix = np.load('/content/drive/Shareddrives/SOGANG Parrot/Pretrained-Embedding-Vector/0408-all-200d-pretrained-embed-Glove.npy')\n",
        "embedding_matrix.shape"
      ],
      "execution_count": null,
      "outputs": [
        {
          "output_type": "execute_result",
          "data": {
            "text/plain": [
              "(206284, 200)"
            ]
          },
          "metadata": {
            "tags": []
          },
          "execution_count": 38
        }
      ]
    },
    {
      "cell_type": "markdown",
      "metadata": {
        "id": "Br7HeW1131t1"
      },
      "source": [
        "# Model"
      ]
    },
    {
      "cell_type": "code",
      "metadata": {
        "id": "nc0qUdCT33E8"
      },
      "source": [
        "inp = Input(shape=(maxlen, )) #maxlen=50\n",
        "x = Embedding(len(tokenizer.word_index), embedding_matrix.shape[1],\n",
        "              weights=[embedding_matrix],trainable=False)(inp)\n",
        "x = SpatialDropout1D(0.2)(x)\n",
        "x = Bidirectional(GRU(128, return_sequences=True))(x)\n",
        "x = Conv1D(64, 3, padding='valid', kernel_initializer='glorot_uniform')(x)\n",
        "avg_pool = GlobalMaxPooling1D()(x)\n",
        "max_pool = GlobalAveragePooling1D()(x)\n",
        "conc = concatenate([avg_pool, max_pool])\n",
        "x = Dense(128, activation=\"relu\")(conc)\n",
        "x = Dropout(0.1)(x)\n",
        "x = Dense(6, activation=\"sigmoid\")(x)"
      ],
      "execution_count": null,
      "outputs": []
    },
    {
      "cell_type": "code",
      "metadata": {
        "colab": {
          "base_uri": "https://localhost:8080/"
        },
        "id": "8ZTM-Rd834Dt",
        "outputId": "e3fbb6e4-d051-495b-8ca8-91697a8404d7"
      },
      "source": [
        "model = Model(inputs=inp, outputs=x)\n",
        "model.compile(loss='binary_crossentropy',\n",
        "                  optimizer='adam',\n",
        "                  metrics=['accuracy'])\n",
        "\n",
        "model.summary()"
      ],
      "execution_count": null,
      "outputs": [
        {
          "output_type": "stream",
          "text": [
            "Model: \"model\"\n",
            "__________________________________________________________________________________________________\n",
            "Layer (type)                    Output Shape         Param #     Connected to                     \n",
            "==================================================================================================\n",
            "input_1 (InputLayer)            [(None, 50)]         0                                            \n",
            "__________________________________________________________________________________________________\n",
            "embedding (Embedding)           (None, 50, 200)      41256800    input_1[0][0]                    \n",
            "__________________________________________________________________________________________________\n",
            "spatial_dropout1d (SpatialDropo (None, 50, 200)      0           embedding[0][0]                  \n",
            "__________________________________________________________________________________________________\n",
            "bidirectional (Bidirectional)   (None, 50, 256)      253440      spatial_dropout1d[0][0]          \n",
            "__________________________________________________________________________________________________\n",
            "conv1d (Conv1D)                 (None, 48, 64)       49216       bidirectional[0][0]              \n",
            "__________________________________________________________________________________________________\n",
            "global_max_pooling1d (GlobalMax (None, 64)           0           conv1d[0][0]                     \n",
            "__________________________________________________________________________________________________\n",
            "global_average_pooling1d (Globa (None, 64)           0           conv1d[0][0]                     \n",
            "__________________________________________________________________________________________________\n",
            "concatenate (Concatenate)       (None, 128)          0           global_max_pooling1d[0][0]       \n",
            "                                                                 global_average_pooling1d[0][0]   \n",
            "__________________________________________________________________________________________________\n",
            "dense (Dense)                   (None, 128)          16512       concatenate[0][0]                \n",
            "__________________________________________________________________________________________________\n",
            "dropout (Dropout)               (None, 128)          0           dense[0][0]                      \n",
            "__________________________________________________________________________________________________\n",
            "dense_1 (Dense)                 (None, 6)            774         dropout[0][0]                    \n",
            "==================================================================================================\n",
            "Total params: 41,576,742\n",
            "Trainable params: 319,942\n",
            "Non-trainable params: 41,256,800\n",
            "__________________________________________________________________________________________________\n"
          ],
          "name": "stdout"
        }
      ]
    },
    {
      "cell_type": "code",
      "metadata": {
        "colab": {
          "base_uri": "https://localhost:8080/"
        },
        "id": "Z2N2Wov035ZF",
        "outputId": "32036071-23da-48b3-a748-c94f18f1766b"
      },
      "source": [
        "tf.keras.backend.clear_session()\n",
        "\n",
        "from tensorflow.keras.callbacks import ModelCheckpoint\n",
        "#checkpoint\n",
        "checkpoint = ModelCheckpoint(filepath='/content/drive/Shareddrives/SOGANG Parrot/Trained-Model/0408-all-pretrained-embed-Glove.hdf5', monitor='val_loss', verbose=1, save_best_only=True)\n",
        "\n",
        "batch_size = 128\n",
        "epochs = 20\n",
        "hist = model.fit(X_t,y, batch_size=batch_size, epochs=epochs, callbacks=[checkpoint], validation_split=0.1)"
      ],
      "execution_count": null,
      "outputs": [
        {
          "output_type": "stream",
          "text": [
            "Epoch 1/20\n",
            "7854/7854 [==============================] - 302s 34ms/step - loss: 0.0838 - accuracy: 0.9476 - val_loss: 0.0531 - val_accuracy: 0.9943\n",
            "\n",
            "Epoch 00001: val_loss improved from inf to 0.05309, saving model to /content/drive/Shareddrives/SOGANG Parrot/Trained-Model/0408-all-pretrained-embed-Glove.hdf5\n",
            "Epoch 2/20\n",
            "7854/7854 [==============================] - 266s 34ms/step - loss: 0.0555 - accuracy: 0.9886 - val_loss: 0.0493 - val_accuracy: 0.9942\n",
            "\n",
            "Epoch 00002: val_loss improved from 0.05309 to 0.04932, saving model to /content/drive/Shareddrives/SOGANG Parrot/Trained-Model/0408-all-pretrained-embed-Glove.hdf5\n",
            "Epoch 3/20\n",
            "7854/7854 [==============================] - 266s 34ms/step - loss: 0.0499 - accuracy: 0.9818 - val_loss: 0.0472 - val_accuracy: 0.9944\n",
            "\n",
            "Epoch 00003: val_loss improved from 0.04932 to 0.04715, saving model to /content/drive/Shareddrives/SOGANG Parrot/Trained-Model/0408-all-pretrained-embed-Glove.hdf5\n",
            "Epoch 4/20\n",
            "7854/7854 [==============================] - 266s 34ms/step - loss: 0.0464 - accuracy: 0.9749 - val_loss: 0.0457 - val_accuracy: 0.9944\n",
            "\n",
            "Epoch 00004: val_loss improved from 0.04715 to 0.04566, saving model to /content/drive/Shareddrives/SOGANG Parrot/Trained-Model/0408-all-pretrained-embed-Glove.hdf5\n",
            "Epoch 5/20\n",
            "7854/7854 [==============================] - 265s 34ms/step - loss: 0.0440 - accuracy: 0.9707 - val_loss: 0.0414 - val_accuracy: 0.9915\n",
            "\n",
            "Epoch 00005: val_loss improved from 0.04566 to 0.04143, saving model to /content/drive/Shareddrives/SOGANG Parrot/Trained-Model/0408-all-pretrained-embed-Glove.hdf5\n",
            "Epoch 6/20\n",
            "7854/7854 [==============================] - 266s 34ms/step - loss: 0.0426 - accuracy: 0.9688 - val_loss: 0.0403 - val_accuracy: 0.9910\n",
            "\n",
            "Epoch 00006: val_loss improved from 0.04143 to 0.04026, saving model to /content/drive/Shareddrives/SOGANG Parrot/Trained-Model/0408-all-pretrained-embed-Glove.hdf5\n",
            "Epoch 7/20\n",
            "7854/7854 [==============================] - 264s 34ms/step - loss: 0.0417 - accuracy: 0.9584 - val_loss: 0.0402 - val_accuracy: 0.8737\n",
            "\n",
            "Epoch 00007: val_loss improved from 0.04026 to 0.04020, saving model to /content/drive/Shareddrives/SOGANG Parrot/Trained-Model/0408-all-pretrained-embed-Glove.hdf5\n",
            "Epoch 8/20\n",
            "7854/7854 [==============================] - 265s 34ms/step - loss: 0.0403 - accuracy: 0.9579 - val_loss: 0.0408 - val_accuracy: 0.9659\n",
            "\n",
            "Epoch 00008: val_loss did not improve from 0.04020\n",
            "Epoch 9/20\n",
            "7854/7854 [==============================] - 264s 34ms/step - loss: 0.0397 - accuracy: 0.9571 - val_loss: 0.0385 - val_accuracy: 0.9935\n",
            "\n",
            "Epoch 00009: val_loss improved from 0.04020 to 0.03851, saving model to /content/drive/Shareddrives/SOGANG Parrot/Trained-Model/0408-all-pretrained-embed-Glove.hdf5\n",
            "Epoch 10/20\n",
            "7854/7854 [==============================] - 264s 34ms/step - loss: 0.0392 - accuracy: 0.9645 - val_loss: 0.0380 - val_accuracy: 0.9197\n",
            "\n",
            "Epoch 00010: val_loss improved from 0.03851 to 0.03800, saving model to /content/drive/Shareddrives/SOGANG Parrot/Trained-Model/0408-all-pretrained-embed-Glove.hdf5\n",
            "Epoch 11/20\n",
            "7854/7854 [==============================] - 263s 33ms/step - loss: 0.0386 - accuracy: 0.9576 - val_loss: 0.0372 - val_accuracy: 0.9790\n",
            "\n",
            "Epoch 00011: val_loss improved from 0.03800 to 0.03724, saving model to /content/drive/Shareddrives/SOGANG Parrot/Trained-Model/0408-all-pretrained-embed-Glove.hdf5\n",
            "Epoch 12/20\n",
            "7854/7854 [==============================] - 265s 34ms/step - loss: 0.0384 - accuracy: 0.9486 - val_loss: 0.0365 - val_accuracy: 0.8876\n",
            "\n",
            "Epoch 00012: val_loss improved from 0.03724 to 0.03654, saving model to /content/drive/Shareddrives/SOGANG Parrot/Trained-Model/0408-all-pretrained-embed-Glove.hdf5\n",
            "Epoch 13/20\n",
            "7854/7854 [==============================] - 265s 34ms/step - loss: 0.0381 - accuracy: 0.9468 - val_loss: 0.0370 - val_accuracy: 0.7966\n",
            "\n",
            "Epoch 00013: val_loss did not improve from 0.03654\n",
            "Epoch 14/20\n",
            "7854/7854 [==============================] - 264s 34ms/step - loss: 0.0383 - accuracy: 0.9431 - val_loss: 0.0368 - val_accuracy: 0.9856\n",
            "\n",
            "Epoch 00014: val_loss did not improve from 0.03654\n",
            "Epoch 15/20\n",
            "7854/7854 [==============================] - 265s 34ms/step - loss: 0.0378 - accuracy: 0.9494 - val_loss: 0.0372 - val_accuracy: 0.8948\n",
            "\n",
            "Epoch 00015: val_loss did not improve from 0.03654\n",
            "Epoch 16/20\n",
            "7854/7854 [==============================] - 264s 34ms/step - loss: 0.0377 - accuracy: 0.9353 - val_loss: 0.0372 - val_accuracy: 0.9658\n",
            "\n",
            "Epoch 00016: val_loss did not improve from 0.03654\n",
            "Epoch 17/20\n",
            "7854/7854 [==============================] - 264s 34ms/step - loss: 0.0373 - accuracy: 0.9476 - val_loss: 0.0367 - val_accuracy: 0.9869\n",
            "\n",
            "Epoch 00017: val_loss did not improve from 0.03654\n",
            "Epoch 18/20\n",
            "7854/7854 [==============================] - 264s 34ms/step - loss: 0.0371 - accuracy: 0.9374 - val_loss: 0.0359 - val_accuracy: 0.9858\n",
            "\n",
            "Epoch 00018: val_loss improved from 0.03654 to 0.03595, saving model to /content/drive/Shareddrives/SOGANG Parrot/Trained-Model/0408-all-pretrained-embed-Glove.hdf5\n",
            "Epoch 19/20\n",
            "7854/7854 [==============================] - 264s 34ms/step - loss: 0.0370 - accuracy: 0.9423 - val_loss: 0.0357 - val_accuracy: 0.9882\n",
            "\n",
            "Epoch 00019: val_loss improved from 0.03595 to 0.03572, saving model to /content/drive/Shareddrives/SOGANG Parrot/Trained-Model/0408-all-pretrained-embed-Glove.hdf5\n",
            "Epoch 20/20\n",
            "7854/7854 [==============================] - 263s 34ms/step - loss: 0.0368 - accuracy: 0.9417 - val_loss: 0.0352 - val_accuracy: 0.9867\n",
            "\n",
            "Epoch 00020: val_loss improved from 0.03572 to 0.03523, saving model to /content/drive/Shareddrives/SOGANG Parrot/Trained-Model/0408-all-pretrained-embed-Glove.hdf5\n"
          ],
          "name": "stdout"
        }
      ]
    },
    {
      "cell_type": "code",
      "metadata": {
        "id": "v2cYtjMN396M"
      },
      "source": [
        "sample_submission = pd.read_csv(\"/content/drive/Shareddrives/SOGANG Parrot/sample_submission.csv/sample_submission.csv\")\n",
        "\n",
        "sample_submission[list_classes] = model.predict(X_te)\n",
        "\n",
        "sample_submission.to_csv(\"/content/drive/Shareddrives/SOGANG Parrot/All-submission/0408-all-pretrained-embed-Glove.csv\", index=False)"
      ],
      "execution_count": null,
      "outputs": []
    },
    {
      "cell_type": "markdown",
      "metadata": {
        "id": "BrysjMsRQuvR"
      },
      "source": [
        "![image.png](data:image/png;base64,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)"
      ]
    },
    {
      "cell_type": "code",
      "metadata": {
        "id": "_7CojYrY4jqi"
      },
      "source": [
        ""
      ],
      "execution_count": null,
      "outputs": []
    }
  ]
}