{
  "nbformat": 4,
  "nbformat_minor": 0,
  "metadata": {
    "colab": {
      "name": "0402-baseline-model-Revision.ipynb",
      "provenance": [],
      "authorship_tag": "ABX9TyP0iAB4h/aYhk0yE2WdkibK",
      "include_colab_link": true
    },
    "kernelspec": {
      "name": "python3",
      "display_name": "Python 3"
    },
    "language_info": {
      "name": "python"
    }
  },
  "cells": [
    {
      "cell_type": "markdown",
      "metadata": {
        "id": "view-in-github",
        "colab_type": "text"
      },
      "source": [
        "<a href=\"https://colab.research.google.com/github/GitHub-Bong/Toxic-Comment-Challenge/blob/master/0402_baseline_model_Revision.ipynb\" target=\"_parent\"><img src=\"https://colab.research.google.com/assets/colab-badge.svg\" alt=\"Open In Colab\"/></a>"
      ]
    },
    {
      "cell_type": "markdown",
      "metadata": {
        "id": "FMSq90C_KQHa"
      },
      "source": [
        "# Mount , Import"
      ]
    },
    {
      "cell_type": "code",
      "metadata": {
        "colab": {
          "base_uri": "https://localhost:8080/"
        },
        "id": "awaNMfT2J_RX",
        "outputId": "0306ad19-5cfd-4121-a3a4-a8dbf19847b6"
      },
      "source": [
        "from google.colab import drive\n",
        "drive.mount('/content/drive')"
      ],
      "execution_count": null,
      "outputs": [
        {
          "output_type": "stream",
          "text": [
            "Mounted at /content/drive\n"
          ],
          "name": "stdout"
        }
      ]
    },
    {
      "cell_type": "code",
      "metadata": {
        "id": "WScIPWvPKd5p"
      },
      "source": [
        "import tensorflow as tf\n",
        "from tensorflow import keras\n",
        "import sys, os, re, string, csv, codecs, numpy as np, pandas as pd\n",
        "import matplotlib.pyplot as plt\n",
        "%matplotlib inline\n",
        "from tensorflow.keras.preprocessing.text import Tokenizer\n",
        "from tensorflow.keras.preprocessing.sequence import pad_sequences\n",
        "from tensorflow.keras.layers import Dense, Input, LSTM, Embedding, Dropout, Activation\n",
        "from tensorflow.keras.layers import Bidirectional, GlobalMaxPool1D\n",
        "from tensorflow.keras.models import Model\n",
        "from tensorflow.keras import initializers, regularizers, constraints, optimizers, layers"
      ],
      "execution_count": null,
      "outputs": []
    },
    {
      "cell_type": "markdown",
      "metadata": {
        "id": "jbjQoJepKuLp"
      },
      "source": [
        "------------------"
      ]
    },
    {
      "cell_type": "markdown",
      "metadata": {
        "id": "uomdYZ3iKfNV"
      },
      "source": [
        "# Load Data"
      ]
    },
    {
      "cell_type": "code",
      "metadata": {
        "id": "un2yYHaRKeYC"
      },
      "source": [
        "train = pd.read_csv('/content/drive/Shareddrives/SOGANG Parrot/train.csv/train.csv')\n",
        "test = pd.read_csv('/content/drive/Shareddrives/SOGANG Parrot/test.csv/test.csv')"
      ],
      "execution_count": null,
      "outputs": []
    },
    {
      "cell_type": "code",
      "metadata": {
        "colab": {
          "base_uri": "https://localhost:8080/",
          "height": 274
        },
        "id": "pXakIsZKKiER",
        "outputId": "a110bdd1-5ca1-4634-c1aa-332621a6df4a"
      },
      "source": [
        "train.head(3)"
      ],
      "execution_count": null,
      "outputs": [
        {
          "output_type": "execute_result",
          "data": {
            "text/html": [
              "<div>\n",
              "<style scoped>\n",
              "    .dataframe tbody tr th:only-of-type {\n",
              "        vertical-align: middle;\n",
              "    }\n",
              "\n",
              "    .dataframe tbody tr th {\n",
              "        vertical-align: top;\n",
              "    }\n",
              "\n",
              "    .dataframe thead th {\n",
              "        text-align: right;\n",
              "    }\n",
              "</style>\n",
              "<table border=\"1\" class=\"dataframe\">\n",
              "  <thead>\n",
              "    <tr style=\"text-align: right;\">\n",
              "      <th></th>\n",
              "      <th>id</th>\n",
              "      <th>comment_text</th>\n",
              "      <th>toxic</th>\n",
              "      <th>severe_toxic</th>\n",
              "      <th>obscene</th>\n",
              "      <th>threat</th>\n",
              "      <th>insult</th>\n",
              "      <th>identity_hate</th>\n",
              "    </tr>\n",
              "  </thead>\n",
              "  <tbody>\n",
              "    <tr>\n",
              "      <th>0</th>\n",
              "      <td>0000997932d777bf</td>\n",
              "      <td>Explanation\\nWhy the edits made under my usern...</td>\n",
              "      <td>0</td>\n",
              "      <td>0</td>\n",
              "      <td>0</td>\n",
              "      <td>0</td>\n",
              "      <td>0</td>\n",
              "      <td>0</td>\n",
              "    </tr>\n",
              "    <tr>\n",
              "      <th>1</th>\n",
              "      <td>000103f0d9cfb60f</td>\n",
              "      <td>D'aww! He matches this background colour I'm s...</td>\n",
              "      <td>0</td>\n",
              "      <td>0</td>\n",
              "      <td>0</td>\n",
              "      <td>0</td>\n",
              "      <td>0</td>\n",
              "      <td>0</td>\n",
              "    </tr>\n",
              "    <tr>\n",
              "      <th>2</th>\n",
              "      <td>000113f07ec002fd</td>\n",
              "      <td>Hey man, I'm really not trying to edit war. It...</td>\n",
              "      <td>0</td>\n",
              "      <td>0</td>\n",
              "      <td>0</td>\n",
              "      <td>0</td>\n",
              "      <td>0</td>\n",
              "      <td>0</td>\n",
              "    </tr>\n",
              "  </tbody>\n",
              "</table>\n",
              "</div>"
            ],
            "text/plain": [
              "                 id  ... identity_hate\n",
              "0  0000997932d777bf  ...             0\n",
              "1  000103f0d9cfb60f  ...             0\n",
              "2  000113f07ec002fd  ...             0\n",
              "\n",
              "[3 rows x 8 columns]"
            ]
          },
          "metadata": {
            "tags": []
          },
          "execution_count": 4
        }
      ]
    },
    {
      "cell_type": "code",
      "metadata": {
        "colab": {
          "base_uri": "https://localhost:8080/"
        },
        "id": "EYb2VuGKKjjY",
        "outputId": "5d3de91e-7f18-4ea3-d977-7a333877542e"
      },
      "source": [
        "train.isnull().any(), test.isnull().any()"
      ],
      "execution_count": null,
      "outputs": [
        {
          "output_type": "execute_result",
          "data": {
            "text/plain": [
              "(id               False\n",
              " comment_text     False\n",
              " toxic            False\n",
              " severe_toxic     False\n",
              " obscene          False\n",
              " threat           False\n",
              " insult           False\n",
              " identity_hate    False\n",
              " dtype: bool, id              False\n",
              " comment_text    False\n",
              " dtype: bool)"
            ]
          },
          "metadata": {
            "tags": []
          },
          "execution_count": 5
        }
      ]
    },
    {
      "cell_type": "markdown",
      "metadata": {
        "id": "j7wfwlxEKvwx"
      },
      "source": [
        "------------"
      ]
    },
    {
      "cell_type": "markdown",
      "metadata": {
        "id": "X7omsEycKwnI"
      },
      "source": [
        "# Preprocessing"
      ]
    },
    {
      "cell_type": "code",
      "metadata": {
        "id": "VQjLA1W7K0JQ"
      },
      "source": [
        "def clean_text(text):\n",
        "    text = text.lower()\n",
        "    text = re.sub('\\[.*?\\]', '', text)\n",
        "    text = re.sub('https?://\\S+|www\\.\\S+', '', text)\n",
        "    text = re.sub('<.*?>+', '', text)\n",
        "    text = re.sub('[%s]' % re.escape(string.punctuation), '', text)\n",
        "    text = re.sub('\\n', '', text)\n",
        "    text = re.sub('\\w*\\d\\w*', '', text)\n",
        "    return text\n",
        "\n",
        "train['comment_text'] = train['comment_text'].apply(lambda x: clean_text(x))\n",
        "test['comment_text'] = test['comment_text'].apply(lambda x: clean_text(x))"
      ],
      "execution_count": null,
      "outputs": []
    },
    {
      "cell_type": "code",
      "metadata": {
        "colab": {
          "base_uri": "https://localhost:8080/"
        },
        "id": "4GAHRHaQK6a6",
        "outputId": "76965923-b664-458c-e16b-d53fde3de320"
      },
      "source": [
        "train['comment_text'].head(3)"
      ],
      "execution_count": null,
      "outputs": [
        {
          "output_type": "execute_result",
          "data": {
            "text/plain": [
              "0    explanationwhy the edits made under my usernam...\n",
              "1    daww he matches this background colour im seem...\n",
              "2    hey man im really not trying to edit war its j...\n",
              "Name: comment_text, dtype: object"
            ]
          },
          "metadata": {
            "tags": []
          },
          "execution_count": 13
        }
      ]
    },
    {
      "cell_type": "code",
      "metadata": {
        "colab": {
          "base_uri": "https://localhost:8080/"
        },
        "id": "aZuR1qBzK9SB",
        "outputId": "27f16979-dd12-4ac3-dc7d-077de562c278"
      },
      "source": [
        "test['comment_text'].head(3)"
      ],
      "execution_count": null,
      "outputs": [
        {
          "output_type": "execute_result",
          "data": {
            "text/plain": [
              "0    yo bitch ja rule is more succesful then youll ...\n",
              "1            from rfc   the title is fine as it is imo\n",
              "2              sources    zawe ashton on lapland —    \n",
              "Name: comment_text, dtype: object"
            ]
          },
          "metadata": {
            "tags": []
          },
          "execution_count": 14
        }
      ]
    },
    {
      "cell_type": "code",
      "metadata": {
        "id": "eahrq-WaLa-o"
      },
      "source": [
        "list_classes = [\"toxic\", \"severe_toxic\", \"obscene\", \"threat\", \"insult\", \"identity_hate\"]\n",
        "y = train[list_classes].values # y.shape (159571, 6)\n",
        "list_sentences_train = train[\"comment_text\"] # (159571,)\n",
        "list_sentences_test = test[\"comment_text\"] # (153164,)"
      ],
      "execution_count": null,
      "outputs": []
    },
    {
      "cell_type": "code",
      "metadata": {
        "colab": {
          "base_uri": "https://localhost:8080/",
          "height": 70
        },
        "id": "GqeXudeALcga",
        "outputId": "10f6933e-4597-4e99-d4a7-17232ef1c17a"
      },
      "source": [
        "list_sentences_train[0]"
      ],
      "execution_count": null,
      "outputs": [
        {
          "output_type": "execute_result",
          "data": {
            "application/vnd.google.colaboratory.intrinsic+json": {
              "type": "string"
            },
            "text/plain": [
              "'explanationwhy the edits made under my username hardcore metallica fan were reverted they werent vandalisms just closure on some gas after i voted at new york dolls fac and please dont remove the template from the talk page since im retired '"
            ]
          },
          "metadata": {
            "tags": []
          },
          "execution_count": 16
        }
      ]
    },
    {
      "cell_type": "markdown",
      "metadata": {
        "id": "pd5uMpgSLaKJ"
      },
      "source": [
        "------------"
      ]
    },
    {
      "cell_type": "markdown",
      "metadata": {
        "id": "Yg3rg-o0Lev8"
      },
      "source": [
        "# Tokenization"
      ]
    },
    {
      "cell_type": "code",
      "metadata": {
        "id": "k-a6qpIhLeSX"
      },
      "source": [
        "max_features = 20000\n",
        "tokenizer = Tokenizer(num_words=max_features)\n",
        "tokenizer.fit_on_texts(list(list_sentences_train))\n",
        "list_tokenized_train = tokenizer.texts_to_sequences(list_sentences_train)\n",
        "# list_tokenized_train[:1] = [[688,75,1,126,130, ,,, ]]\n",
        "list_tokenized_test = tokenizer.texts_to_sequences(list_sentences_test)\n",
        "# list_tokenized_test[:1] = [[2665,655,8849,656, ,,, ]]\n",
        "\n",
        "# tokenizer.word_counts = OrderedDict([('explanation', 1771),('why', 17818),('the', 496540),('edits', 9957), ,,, ])\n",
        "# tokenizer.word_index = {'the': 1,'to': 2,'of': 3,'and': 4, ,,, }"
      ],
      "execution_count": null,
      "outputs": []
    },
    {
      "cell_type": "code",
      "metadata": {
        "colab": {
          "base_uri": "https://localhost:8080/"
        },
        "id": "nzFKgJuRNZ-p",
        "outputId": "aa4f4152-feba-4d21-b5d8-bae2a6bd6f9a"
      },
      "source": [
        "len(tokenizer.word_index)"
      ],
      "execution_count": null,
      "outputs": [
        {
          "output_type": "execute_result",
          "data": {
            "text/plain": [
              "268591"
            ]
          },
          "metadata": {
            "tags": []
          },
          "execution_count": 18
        }
      ]
    },
    {
      "cell_type": "markdown",
      "metadata": {
        "id": "P3jRa_m4Ny_k"
      },
      "source": [
        "------------"
      ]
    },
    {
      "cell_type": "markdown",
      "metadata": {
        "id": "EAcImqhHN3Zy"
      },
      "source": [
        "# Padding"
      ]
    },
    {
      "cell_type": "code",
      "metadata": {
        "id": "nbuXQozINu23"
      },
      "source": [
        "maxlen = 200\n",
        "X_t = pad_sequences(list_tokenized_train, maxlen=maxlen) # (159571, 200)\n",
        "X_te = pad_sequences(list_tokenized_test, maxlen=maxlen) # (153164, 200)"
      ],
      "execution_count": null,
      "outputs": []
    },
    {
      "cell_type": "markdown",
      "metadata": {
        "id": "p7sTuj4HOcpj"
      },
      "source": [
        "-------------"
      ]
    },
    {
      "cell_type": "markdown",
      "metadata": {
        "id": "JMN4Z6zHOeCv"
      },
      "source": [
        "# Pretrained-Embedding-matrix"
      ]
    },
    {
      "cell_type": "code",
      "metadata": {
        "id": "He9P5gSfOj1Y"
      },
      "source": [
        "embedding_dict = dict()\n",
        "f = open('/content/drive/Shareddrives/SOGANG Parrot/Pretrained-Embedding-Vector/glove.twitter.27B.25d.txt/glove.twitter.27B.25d.txt', encoding=\"utf8\")\n",
        "\n",
        "for line in f:\n",
        "    word_vector = line.split()\n",
        "    word = word_vector[0]\n",
        "    word_vector_arr = np.asarray(word_vector[1:], dtype='float32') # 100\n",
        "    embedding_dict[word] = word_vector_arr\n",
        "f.close()\n",
        "print('There are %s Embedding Vectors\\n' % len(embedding_dict))\n",
        "\n",
        "print(embedding_dict['respectable'])\n",
        "print(len(embedding_dict['respectable']))\n",
        "\n",
        "for word, i in tokenizer.word_index.items(): \n",
        "    temp = embedding_dict.get(word) \n",
        "    if temp is not None:\n",
        "        embedding_matrix[i] = temp \n",
        "\n",
        "print(embedding_matrix.shape)\n",
        "embedding_matrix = np.delete(embedding_matrix,0,axis=0) # delete first row\n",
        "print(embedding_matrix.shape)"
      ],
      "execution_count": null,
      "outputs": []
    },
    {
      "cell_type": "code",
      "metadata": {
        "colab": {
          "base_uri": "https://localhost:8080/"
        },
        "id": "rD6dWTJcN1qO",
        "outputId": "3205e223-48dc-491a-e6f5-02c1d359e3d2"
      },
      "source": [
        "embedding_matrix = np.load('/content/drive/Shareddrives/SOGANG Parrot/Pretrained-Embedding-Vector/0401pretrained-embed-Glove.npy')\n",
        "embedding_matrix.shape "
      ],
      "execution_count": null,
      "outputs": [
        {
          "output_type": "execute_result",
          "data": {
            "text/plain": [
              "(268591, 25)"
            ]
          },
          "metadata": {
            "tags": []
          },
          "execution_count": 21
        }
      ]
    },
    {
      "cell_type": "markdown",
      "metadata": {
        "id": "QMb6p6NpO8Rb"
      },
      "source": [
        "----------------"
      ]
    },
    {
      "cell_type": "markdown",
      "metadata": {
        "id": "Phi8mbGUO5ey"
      },
      "source": [
        "# Model"
      ]
    },
    {
      "cell_type": "code",
      "metadata": {
        "id": "iX1LHVwJOSbf"
      },
      "source": [
        "inp = Input(shape=(maxlen, )) #maxlen=200\n",
        "x = Embedding(len(tokenizer.word_index), embedding_matrix.shape[1],\n",
        "              weights=[embedding_matrix],trainable=False)(inp)\n",
        "x = Bidirectional(LSTM(60, return_sequences=True,dropout=0.1,recurrent_dropout=0.1))(x)\n",
        "x = GlobalMaxPool1D()(x)\n",
        "x = Dropout(0.1)(x)\n",
        "x = Dense(50, activation=\"relu\")(x)\n",
        "x = Dropout(0.1)(x)\n",
        "x = Dense(6, activation=\"sigmoid\")(x)"
      ],
      "execution_count": null,
      "outputs": []
    },
    {
      "cell_type": "code",
      "metadata": {
        "id": "DztnhRyoPJMf"
      },
      "source": [
        "model = Model(inputs=inp, outputs=x)\n",
        "model.compile(loss='binary_crossentropy',\n",
        "                  optimizer='adam',\n",
        "                  metrics=['accuracy'])"
      ],
      "execution_count": null,
      "outputs": []
    },
    {
      "cell_type": "code",
      "metadata": {
        "colab": {
          "base_uri": "https://localhost:8080/"
        },
        "id": "5CBOK7aoPN8f",
        "outputId": "a9e70b19-d292-40c7-f732-bf869f506dc0"
      },
      "source": [
        "model.summary()"
      ],
      "execution_count": null,
      "outputs": [
        {
          "output_type": "stream",
          "text": [
            "Model: \"model\"\n",
            "_________________________________________________________________\n",
            "Layer (type)                 Output Shape              Param #   \n",
            "=================================================================\n",
            "input_1 (InputLayer)         [(None, 200)]             0         \n",
            "_________________________________________________________________\n",
            "embedding (Embedding)        (None, 200, 25)           6714775   \n",
            "_________________________________________________________________\n",
            "bidirectional (Bidirectional (None, 200, 120)          41280     \n",
            "_________________________________________________________________\n",
            "global_max_pooling1d (Global (None, 120)               0         \n",
            "_________________________________________________________________\n",
            "dropout (Dropout)            (None, 120)               0         \n",
            "_________________________________________________________________\n",
            "dense (Dense)                (None, 50)                6050      \n",
            "_________________________________________________________________\n",
            "dropout_1 (Dropout)          (None, 50)                0         \n",
            "_________________________________________________________________\n",
            "dense_1 (Dense)              (None, 6)                 306       \n",
            "=================================================================\n",
            "Total params: 6,762,411\n",
            "Trainable params: 47,636\n",
            "Non-trainable params: 6,714,775\n",
            "_________________________________________________________________\n"
          ],
          "name": "stdout"
        }
      ]
    },
    {
      "cell_type": "markdown",
      "metadata": {
        "id": "zUoAw8tsPvAW"
      },
      "source": [
        "------------"
      ]
    },
    {
      "cell_type": "markdown",
      "metadata": {
        "id": "G99CF732PwGw"
      },
      "source": [
        "# Training"
      ]
    },
    {
      "cell_type": "code",
      "metadata": {
        "id": "c0Z_4uawPOFv"
      },
      "source": [
        "tf.keras.backend.clear_session()"
      ],
      "execution_count": null,
      "outputs": []
    },
    {
      "cell_type": "code",
      "metadata": {
        "colab": {
          "base_uri": "https://localhost:8080/"
        },
        "id": "EOM4NUgAPRq_",
        "outputId": "2c1f71f0-dd62-4a00-e385-8e23fb6bcb15"
      },
      "source": [
        "from tensorflow.keras.callbacks import ModelCheckpoint\n",
        "#checkpoint\n",
        "checkpoint = ModelCheckpoint(filepath='/content/drive/Shareddrives/SOGANG Parrot/Trained-Model/0402-ver2-pretrained-embed-Glove.hdf5', monitor='val_loss', verbose=1, save_best_only=True)\n",
        "\n",
        "batch_size = 64\n",
        "epochs = 5\n",
        "hist = model.fit(X_t,y, batch_size=batch_size, epochs=epochs, callbacks=[checkpoint], validation_split=0.1)"
      ],
      "execution_count": null,
      "outputs": [
        {
          "output_type": "stream",
          "text": [
            "Epoch 1/5\n",
            "2244/2244 [==============================] - 1102s 489ms/step - loss: 0.1480 - accuracy: 0.7669 - val_loss: 0.0932 - val_accuracy: 0.9937\n",
            "\n",
            "Epoch 00001: val_loss improved from inf to 0.09318, saving model to /content/drive/Shareddrives/SOGANG Parrot/Trained-Model/0402-ver2-pretrained-embed-Glove.hdf5\n",
            "Epoch 2/5\n",
            "2244/2244 [==============================] - 1095s 488ms/step - loss: 0.0928 - accuracy: 0.9902 - val_loss: 0.0827 - val_accuracy: 0.9940\n",
            "\n",
            "Epoch 00002: val_loss improved from 0.09318 to 0.08273, saving model to /content/drive/Shareddrives/SOGANG Parrot/Trained-Model/0402-ver2-pretrained-embed-Glove.hdf5\n",
            "Epoch 3/5\n",
            "2244/2244 [==============================] - 1102s 491ms/step - loss: 0.0858 - accuracy: 0.9934 - val_loss: 0.0769 - val_accuracy: 0.9940\n",
            "\n",
            "Epoch 00003: val_loss improved from 0.08273 to 0.07688, saving model to /content/drive/Shareddrives/SOGANG Parrot/Trained-Model/0402-ver2-pretrained-embed-Glove.hdf5\n",
            "Epoch 4/5\n",
            "2244/2244 [==============================] - 1102s 491ms/step - loss: 0.0803 - accuracy: 0.9938 - val_loss: 0.0738 - val_accuracy: 0.9940\n",
            "\n",
            "Epoch 00004: val_loss improved from 0.07688 to 0.07378, saving model to /content/drive/Shareddrives/SOGANG Parrot/Trained-Model/0402-ver2-pretrained-embed-Glove.hdf5\n",
            "Epoch 5/5\n",
            "2244/2244 [==============================] - 1101s 490ms/step - loss: 0.0765 - accuracy: 0.9942 - val_loss: 0.0729 - val_accuracy: 0.9940\n",
            "\n",
            "Epoch 00005: val_loss improved from 0.07378 to 0.07290, saving model to /content/drive/Shareddrives/SOGANG Parrot/Trained-Model/0402-ver2-pretrained-embed-Glove.hdf5\n"
          ],
          "name": "stdout"
        }
      ]
    },
    {
      "cell_type": "markdown",
      "metadata": {
        "id": "qkbp1T0SPqiz"
      },
      "source": [
        "------------------"
      ]
    },
    {
      "cell_type": "markdown",
      "metadata": {
        "id": "0BTiE-LxPr3B"
      },
      "source": [
        "# Prediction"
      ]
    },
    {
      "cell_type": "code",
      "metadata": {
        "id": "a9j1n5v7Pi62"
      },
      "source": [
        "sample_submission = pd.read_csv(\"/content/drive/Shareddrives/SOGANG Parrot/sample_submission.csv/sample_submission.csv\")\n",
        "\n",
        "sample_submission[list_classes] = model.predict(X_te)\n",
        "\n",
        "sample_submission.to_csv(\"/content/drive/Shareddrives/SOGANG Parrot/All-submission/20210402-ver2-pretrained-embed-Glove.csv\", index=False)"
      ],
      "execution_count": null,
      "outputs": []
    },
    {
      "cell_type": "markdown",
      "metadata": {
        "id": "zRpBjuKbFzyt"
      },
      "source": [
        "![image.png](data:image/png;base64,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)"
      ]
    },
    {
      "cell_type": "code",
      "metadata": {
        "id": "1OZsQxM-Y7de"
      },
      "source": [
        ""
      ],
      "execution_count": null,
      "outputs": []
    }
  ]
}