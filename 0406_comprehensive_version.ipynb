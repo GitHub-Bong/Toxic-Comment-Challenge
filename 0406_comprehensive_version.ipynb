{
  "nbformat": 4,
  "nbformat_minor": 0,
  "metadata": {
    "colab": {
      "name": "0406-comprehensive-version.ipynb",
      "provenance": [],
      "collapsed_sections": [
        "cpKupmXWbxcG",
        "k6XUYddrcsOY",
        "aNraWWCpc0n5",
        "pewjMf-vdXmw",
        "3R7MuYVsds3B",
        "FH2j5aYtd5CP",
        "bCNDrucveHAm",
        "7KAYWRdzeQdQ",
        "Z5rJ_C3SeaFn",
        "mg00ZpjIe6Dr",
        "6QUNO4UsfGrm",
        "SPxXChVDmtFX",
        "n1aw53KK6HFw",
        "enBtd0RTD0-v",
        "vF_QsVglJ38l",
        "-QLwR9BkVPwg",
        "HBVd7yp_eqpo"
      ],
      "toc_visible": true,
      "authorship_tag": "ABX9TyMFsAEMORmTjWUVCb7Qqdnm",
      "include_colab_link": true
    },
    "kernelspec": {
      "name": "python3",
      "display_name": "Python 3"
    },
    "language_info": {
      "name": "python"
    },
    "accelerator": "GPU"
  },
  "cells": [
    {
      "cell_type": "markdown",
      "metadata": {
        "id": "view-in-github",
        "colab_type": "text"
      },
      "source": [
        "<a href=\"https://colab.research.google.com/github/GitHub-Bong/Toxic-Comment-Challenge/blob/master/0406_comprehensive_version.ipynb\" target=\"_parent\"><img src=\"https://colab.research.google.com/assets/colab-badge.svg\" alt=\"Open In Colab\"/></a>"
      ]
    },
    {
      "cell_type": "markdown",
      "metadata": {
        "id": "2_O2il_SZvPx"
      },
      "source": [
        "# Mount, Import"
      ]
    },
    {
      "cell_type": "code",
      "metadata": {
        "colab": {
          "base_uri": "https://localhost:8080/"
        },
        "id": "hwrG9oPdYt1X",
        "outputId": "1ded1806-c12f-4dbf-f4b7-eab21507c1d6"
      },
      "source": [
        "from google.colab import drive\n",
        "drive.mount('/content/drive')"
      ],
      "execution_count": null,
      "outputs": [
        {
          "output_type": "stream",
          "text": [
            "Mounted at /content/drive\n"
          ],
          "name": "stdout"
        }
      ]
    },
    {
      "cell_type": "code",
      "metadata": {
        "id": "nnfpcTjtZzeC"
      },
      "source": [
        "import tensorflow as tf\n",
        "from tensorflow import keras\n",
        "import sys, os, re, string, csv, codecs, numpy as np, pandas as pd\n",
        "import matplotlib.pyplot as plt\n",
        "%matplotlib inline\n",
        "from tensorflow.keras.preprocessing.text import Tokenizer\n",
        "from tensorflow.keras.preprocessing.sequence import pad_sequences\n",
        "from tensorflow.keras.layers import Dense, Input, LSTM, Embedding, Dropout, Activation, SpatialDropout1D, concatenate, add\n",
        "from tensorflow.keras.layers import Conv1D, GRU, Bidirectional, GlobalMaxPooling1D, GlobalAveragePooling1D\n",
        "from tensorflow.keras.models import Model, load_model\n",
        "from tensorflow.keras import initializers, regularizers, constraints, optimizers, layers"
      ],
      "execution_count": null,
      "outputs": []
    },
    {
      "cell_type": "markdown",
      "metadata": {
        "id": "ow-5df_aZ6iY"
      },
      "source": [
        "--------"
      ]
    },
    {
      "cell_type": "markdown",
      "metadata": {
        "id": "mShhEQTXZ8H4"
      },
      "source": [
        "# Load Data"
      ]
    },
    {
      "cell_type": "markdown",
      "metadata": {
        "id": "G5ShO9_DaCWP"
      },
      "source": [
        "__train 의 index__      \n",
        "['id', 'comment_text', 'toxic', 'severe_toxic', 'obscene', 'threat',\n",
        "       'insult', 'identity_hate']      \n",
        "\n",
        "\n",
        "__test 의 index__       \n",
        "['id', 'comment_text']         "
      ]
    },
    {
      "cell_type": "markdown",
      "metadata": {
        "id": "Y9JyiKnBaa6p"
      },
      "source": [
        "__'comment_text'   :      기존 데이터__\n",
        "\n",
        "\n",
        "<br/>       \n",
        "\n",
        "__'1-pre'  :      1차 전처리 거친 데이터 길이 0인 애들은 기존 데이터로 대체__    \n",
        "<br/>\n",
        "      \n",
        "__'2-trans' :      1-pre 에서 길이가 0이 된 애들 번역한 데이터__"
      ]
    },
    {
      "cell_type": "code",
      "metadata": {
        "id": "K6N-u1viZ4ab"
      },
      "source": [
        "train = pd.read_csv('/content/drive/Shareddrives/SOGANG Parrot/train.csv/train.csv')\n",
        "test = pd.read_csv('/content/drive/Shareddrives/SOGANG Parrot/test.csv/test.csv')"
      ],
      "execution_count": null,
      "outputs": []
    },
    {
      "cell_type": "code",
      "metadata": {
        "colab": {
          "base_uri": "https://localhost:8080/",
          "height": 210
        },
        "id": "aOtRPameZ7E2",
        "outputId": "b51982af-9686-4d6f-e204-a5379b5a1ffe"
      },
      "source": [
        "train.head(2)"
      ],
      "execution_count": null,
      "outputs": [
        {
          "output_type": "execute_result",
          "data": {
            "text/html": [
              "<div>\n",
              "<style scoped>\n",
              "    .dataframe tbody tr th:only-of-type {\n",
              "        vertical-align: middle;\n",
              "    }\n",
              "\n",
              "    .dataframe tbody tr th {\n",
              "        vertical-align: top;\n",
              "    }\n",
              "\n",
              "    .dataframe thead th {\n",
              "        text-align: right;\n",
              "    }\n",
              "</style>\n",
              "<table border=\"1\" class=\"dataframe\">\n",
              "  <thead>\n",
              "    <tr style=\"text-align: right;\">\n",
              "      <th></th>\n",
              "      <th>id</th>\n",
              "      <th>comment_text</th>\n",
              "      <th>toxic</th>\n",
              "      <th>severe_toxic</th>\n",
              "      <th>obscene</th>\n",
              "      <th>threat</th>\n",
              "      <th>insult</th>\n",
              "      <th>identity_hate</th>\n",
              "    </tr>\n",
              "  </thead>\n",
              "  <tbody>\n",
              "    <tr>\n",
              "      <th>0</th>\n",
              "      <td>0000997932d777bf</td>\n",
              "      <td>Explanation\\nWhy the edits made under my usern...</td>\n",
              "      <td>0</td>\n",
              "      <td>0</td>\n",
              "      <td>0</td>\n",
              "      <td>0</td>\n",
              "      <td>0</td>\n",
              "      <td>0</td>\n",
              "    </tr>\n",
              "    <tr>\n",
              "      <th>1</th>\n",
              "      <td>000103f0d9cfb60f</td>\n",
              "      <td>D'aww! He matches this background colour I'm s...</td>\n",
              "      <td>0</td>\n",
              "      <td>0</td>\n",
              "      <td>0</td>\n",
              "      <td>0</td>\n",
              "      <td>0</td>\n",
              "      <td>0</td>\n",
              "    </tr>\n",
              "  </tbody>\n",
              "</table>\n",
              "</div>"
            ],
            "text/plain": [
              "                 id  ... identity_hate\n",
              "0  0000997932d777bf  ...             0\n",
              "1  000103f0d9cfb60f  ...             0\n",
              "\n",
              "[2 rows x 8 columns]"
            ]
          },
          "metadata": {
            "tags": []
          },
          "execution_count": 115
        }
      ]
    },
    {
      "cell_type": "code",
      "metadata": {
        "colab": {
          "base_uri": "https://localhost:8080/",
          "height": 106
        },
        "id": "wuA4twGdaF0I",
        "outputId": "b70bf1d6-646c-4c38-b950-039df729412e"
      },
      "source": [
        "test.head(2)"
      ],
      "execution_count": null,
      "outputs": [
        {
          "output_type": "execute_result",
          "data": {
            "text/html": [
              "<div>\n",
              "<style scoped>\n",
              "    .dataframe tbody tr th:only-of-type {\n",
              "        vertical-align: middle;\n",
              "    }\n",
              "\n",
              "    .dataframe tbody tr th {\n",
              "        vertical-align: top;\n",
              "    }\n",
              "\n",
              "    .dataframe thead th {\n",
              "        text-align: right;\n",
              "    }\n",
              "</style>\n",
              "<table border=\"1\" class=\"dataframe\">\n",
              "  <thead>\n",
              "    <tr style=\"text-align: right;\">\n",
              "      <th></th>\n",
              "      <th>id</th>\n",
              "      <th>comment_text</th>\n",
              "    </tr>\n",
              "  </thead>\n",
              "  <tbody>\n",
              "    <tr>\n",
              "      <th>0</th>\n",
              "      <td>00001cee341fdb12</td>\n",
              "      <td>Yo bitch Ja Rule is more succesful then you'll...</td>\n",
              "    </tr>\n",
              "    <tr>\n",
              "      <th>1</th>\n",
              "      <td>0000247867823ef7</td>\n",
              "      <td>== From RfC == \\n\\n The title is fine as it is...</td>\n",
              "    </tr>\n",
              "  </tbody>\n",
              "</table>\n",
              "</div>"
            ],
            "text/plain": [
              "                 id                                       comment_text\n",
              "0  00001cee341fdb12  Yo bitch Ja Rule is more succesful then you'll...\n",
              "1  0000247867823ef7  == From RfC == \\n\\n The title is fine as it is..."
            ]
          },
          "metadata": {
            "tags": []
          },
          "execution_count": 116
        }
      ]
    },
    {
      "cell_type": "markdown",
      "metadata": {
        "id": "BAbg-8NAbwbr"
      },
      "source": [
        "-----"
      ]
    },
    {
      "cell_type": "markdown",
      "metadata": {
        "id": "cpKupmXWbxcG"
      },
      "source": [
        "# Preprocessing"
      ]
    },
    {
      "cell_type": "markdown",
      "metadata": {
        "id": "k6XUYddrcsOY"
      },
      "source": [
        "## Before Preprocessing"
      ]
    },
    {
      "cell_type": "code",
      "metadata": {
        "id": "CDPsNDxsbtMA"
      },
      "source": [
        "train['1-pre'] = train['comment_text']\n",
        "test['1-pre'] = test['comment_text']"
      ],
      "execution_count": null,
      "outputs": []
    },
    {
      "cell_type": "code",
      "metadata": {
        "colab": {
          "base_uri": "https://localhost:8080/",
          "height": 224
        },
        "id": "ayoOZcHWcDtv",
        "outputId": "785315e1-6d04-4170-e968-1db5ed0bd913"
      },
      "source": [
        "display(train.head(1)), display(test.head(1))"
      ],
      "execution_count": null,
      "outputs": [
        {
          "output_type": "display_data",
          "data": {
            "text/html": [
              "<div>\n",
              "<style scoped>\n",
              "    .dataframe tbody tr th:only-of-type {\n",
              "        vertical-align: middle;\n",
              "    }\n",
              "\n",
              "    .dataframe tbody tr th {\n",
              "        vertical-align: top;\n",
              "    }\n",
              "\n",
              "    .dataframe thead th {\n",
              "        text-align: right;\n",
              "    }\n",
              "</style>\n",
              "<table border=\"1\" class=\"dataframe\">\n",
              "  <thead>\n",
              "    <tr style=\"text-align: right;\">\n",
              "      <th></th>\n",
              "      <th>id</th>\n",
              "      <th>comment_text</th>\n",
              "      <th>toxic</th>\n",
              "      <th>severe_toxic</th>\n",
              "      <th>obscene</th>\n",
              "      <th>threat</th>\n",
              "      <th>insult</th>\n",
              "      <th>identity_hate</th>\n",
              "      <th>1-pre</th>\n",
              "    </tr>\n",
              "  </thead>\n",
              "  <tbody>\n",
              "    <tr>\n",
              "      <th>0</th>\n",
              "      <td>0000997932d777bf</td>\n",
              "      <td>Explanation\\nWhy the edits made under my usern...</td>\n",
              "      <td>0</td>\n",
              "      <td>0</td>\n",
              "      <td>0</td>\n",
              "      <td>0</td>\n",
              "      <td>0</td>\n",
              "      <td>0</td>\n",
              "      <td>Explanation\\nWhy the edits made under my usern...</td>\n",
              "    </tr>\n",
              "  </tbody>\n",
              "</table>\n",
              "</div>"
            ],
            "text/plain": [
              "                 id  ...                                              1-pre\n",
              "0  0000997932d777bf  ...  Explanation\\nWhy the edits made under my usern...\n",
              "\n",
              "[1 rows x 9 columns]"
            ]
          },
          "metadata": {
            "tags": []
          }
        },
        {
          "output_type": "display_data",
          "data": {
            "text/html": [
              "<div>\n",
              "<style scoped>\n",
              "    .dataframe tbody tr th:only-of-type {\n",
              "        vertical-align: middle;\n",
              "    }\n",
              "\n",
              "    .dataframe tbody tr th {\n",
              "        vertical-align: top;\n",
              "    }\n",
              "\n",
              "    .dataframe thead th {\n",
              "        text-align: right;\n",
              "    }\n",
              "</style>\n",
              "<table border=\"1\" class=\"dataframe\">\n",
              "  <thead>\n",
              "    <tr style=\"text-align: right;\">\n",
              "      <th></th>\n",
              "      <th>id</th>\n",
              "      <th>comment_text</th>\n",
              "      <th>1-pre</th>\n",
              "    </tr>\n",
              "  </thead>\n",
              "  <tbody>\n",
              "    <tr>\n",
              "      <th>0</th>\n",
              "      <td>00001cee341fdb12</td>\n",
              "      <td>Yo bitch Ja Rule is more succesful then you'll...</td>\n",
              "      <td>Yo bitch Ja Rule is more succesful then you'll...</td>\n",
              "    </tr>\n",
              "  </tbody>\n",
              "</table>\n",
              "</div>"
            ],
            "text/plain": [
              "                 id  ...                                              1-pre\n",
              "0  00001cee341fdb12  ...  Yo bitch Ja Rule is more succesful then you'll...\n",
              "\n",
              "[1 rows x 3 columns]"
            ]
          },
          "metadata": {
            "tags": []
          }
        },
        {
          "output_type": "execute_result",
          "data": {
            "text/plain": [
              "(None, None)"
            ]
          },
          "metadata": {
            "tags": []
          },
          "execution_count": 118
        }
      ]
    },
    {
      "cell_type": "markdown",
      "metadata": {
        "id": "aNraWWCpc0n5"
      },
      "source": [
        "## 1. Capitalization / Lower case"
      ]
    },
    {
      "cell_type": "code",
      "metadata": {
        "id": "d6JgVRUDcLuH"
      },
      "source": [
        "train['1-pre'] = train['1-pre'].apply(lambda x: x.lower())\n",
        "test['1-pre'] = test['1-pre'].apply(lambda x: x.lower())"
      ],
      "execution_count": null,
      "outputs": []
    },
    {
      "cell_type": "code",
      "metadata": {
        "colab": {
          "base_uri": "https://localhost:8080/",
          "height": 224
        },
        "id": "zUum5oFWdGgv",
        "outputId": "6f751325-cff6-46ca-d0f3-9887f2587c1f"
      },
      "source": [
        "display(train.head(1)), display(test.head(1))"
      ],
      "execution_count": null,
      "outputs": [
        {
          "output_type": "display_data",
          "data": {
            "text/html": [
              "<div>\n",
              "<style scoped>\n",
              "    .dataframe tbody tr th:only-of-type {\n",
              "        vertical-align: middle;\n",
              "    }\n",
              "\n",
              "    .dataframe tbody tr th {\n",
              "        vertical-align: top;\n",
              "    }\n",
              "\n",
              "    .dataframe thead th {\n",
              "        text-align: right;\n",
              "    }\n",
              "</style>\n",
              "<table border=\"1\" class=\"dataframe\">\n",
              "  <thead>\n",
              "    <tr style=\"text-align: right;\">\n",
              "      <th></th>\n",
              "      <th>id</th>\n",
              "      <th>comment_text</th>\n",
              "      <th>toxic</th>\n",
              "      <th>severe_toxic</th>\n",
              "      <th>obscene</th>\n",
              "      <th>threat</th>\n",
              "      <th>insult</th>\n",
              "      <th>identity_hate</th>\n",
              "      <th>1-pre</th>\n",
              "    </tr>\n",
              "  </thead>\n",
              "  <tbody>\n",
              "    <tr>\n",
              "      <th>0</th>\n",
              "      <td>0000997932d777bf</td>\n",
              "      <td>Explanation\\nWhy the edits made under my usern...</td>\n",
              "      <td>0</td>\n",
              "      <td>0</td>\n",
              "      <td>0</td>\n",
              "      <td>0</td>\n",
              "      <td>0</td>\n",
              "      <td>0</td>\n",
              "      <td>explanation\\nwhy the edits made under my usern...</td>\n",
              "    </tr>\n",
              "  </tbody>\n",
              "</table>\n",
              "</div>"
            ],
            "text/plain": [
              "                 id  ...                                              1-pre\n",
              "0  0000997932d777bf  ...  explanation\\nwhy the edits made under my usern...\n",
              "\n",
              "[1 rows x 9 columns]"
            ]
          },
          "metadata": {
            "tags": []
          }
        },
        {
          "output_type": "display_data",
          "data": {
            "text/html": [
              "<div>\n",
              "<style scoped>\n",
              "    .dataframe tbody tr th:only-of-type {\n",
              "        vertical-align: middle;\n",
              "    }\n",
              "\n",
              "    .dataframe tbody tr th {\n",
              "        vertical-align: top;\n",
              "    }\n",
              "\n",
              "    .dataframe thead th {\n",
              "        text-align: right;\n",
              "    }\n",
              "</style>\n",
              "<table border=\"1\" class=\"dataframe\">\n",
              "  <thead>\n",
              "    <tr style=\"text-align: right;\">\n",
              "      <th></th>\n",
              "      <th>id</th>\n",
              "      <th>comment_text</th>\n",
              "      <th>1-pre</th>\n",
              "    </tr>\n",
              "  </thead>\n",
              "  <tbody>\n",
              "    <tr>\n",
              "      <th>0</th>\n",
              "      <td>00001cee341fdb12</td>\n",
              "      <td>Yo bitch Ja Rule is more succesful then you'll...</td>\n",
              "      <td>yo bitch ja rule is more succesful then you'll...</td>\n",
              "    </tr>\n",
              "  </tbody>\n",
              "</table>\n",
              "</div>"
            ],
            "text/plain": [
              "                 id  ...                                              1-pre\n",
              "0  00001cee341fdb12  ...  yo bitch ja rule is more succesful then you'll...\n",
              "\n",
              "[1 rows x 3 columns]"
            ]
          },
          "metadata": {
            "tags": []
          }
        },
        {
          "output_type": "execute_result",
          "data": {
            "text/plain": [
              "(None, None)"
            ]
          },
          "metadata": {
            "tags": []
          },
          "execution_count": 120
        }
      ]
    },
    {
      "cell_type": "markdown",
      "metadata": {
        "id": "pewjMf-vdXmw"
      },
      "source": [
        "## 2. Remove ~.jpg , (UTC)"
      ]
    },
    {
      "cell_type": "code",
      "metadata": {
        "id": "N_Qf5LgBdI3S"
      },
      "source": [
        "train['1-pre'] = train['1-pre'].apply(lambda x: re.sub(r\"\\S+\\.jpg|\\(UTC\\)\", \" \", x))\n",
        "test['1-pre'] = test['1-pre'].apply(lambda x: re.sub(r\"\\S+\\.jpg|\\(UTC\\)\", \" \", x))"
      ],
      "execution_count": null,
      "outputs": []
    },
    {
      "cell_type": "code",
      "metadata": {
        "colab": {
          "base_uri": "https://localhost:8080/",
          "height": 224
        },
        "id": "DuYnyhPUdpf6",
        "outputId": "cfc76eba-2d15-47c9-8063-0f56f9c72d23"
      },
      "source": [
        "display(train.head(1)), display(test.head(1))"
      ],
      "execution_count": null,
      "outputs": [
        {
          "output_type": "display_data",
          "data": {
            "text/html": [
              "<div>\n",
              "<style scoped>\n",
              "    .dataframe tbody tr th:only-of-type {\n",
              "        vertical-align: middle;\n",
              "    }\n",
              "\n",
              "    .dataframe tbody tr th {\n",
              "        vertical-align: top;\n",
              "    }\n",
              "\n",
              "    .dataframe thead th {\n",
              "        text-align: right;\n",
              "    }\n",
              "</style>\n",
              "<table border=\"1\" class=\"dataframe\">\n",
              "  <thead>\n",
              "    <tr style=\"text-align: right;\">\n",
              "      <th></th>\n",
              "      <th>id</th>\n",
              "      <th>comment_text</th>\n",
              "      <th>toxic</th>\n",
              "      <th>severe_toxic</th>\n",
              "      <th>obscene</th>\n",
              "      <th>threat</th>\n",
              "      <th>insult</th>\n",
              "      <th>identity_hate</th>\n",
              "      <th>1-pre</th>\n",
              "    </tr>\n",
              "  </thead>\n",
              "  <tbody>\n",
              "    <tr>\n",
              "      <th>0</th>\n",
              "      <td>0000997932d777bf</td>\n",
              "      <td>Explanation\\nWhy the edits made under my usern...</td>\n",
              "      <td>0</td>\n",
              "      <td>0</td>\n",
              "      <td>0</td>\n",
              "      <td>0</td>\n",
              "      <td>0</td>\n",
              "      <td>0</td>\n",
              "      <td>explanation\\nwhy the edits made under my usern...</td>\n",
              "    </tr>\n",
              "  </tbody>\n",
              "</table>\n",
              "</div>"
            ],
            "text/plain": [
              "                 id  ...                                              1-pre\n",
              "0  0000997932d777bf  ...  explanation\\nwhy the edits made under my usern...\n",
              "\n",
              "[1 rows x 9 columns]"
            ]
          },
          "metadata": {
            "tags": []
          }
        },
        {
          "output_type": "display_data",
          "data": {
            "text/html": [
              "<div>\n",
              "<style scoped>\n",
              "    .dataframe tbody tr th:only-of-type {\n",
              "        vertical-align: middle;\n",
              "    }\n",
              "\n",
              "    .dataframe tbody tr th {\n",
              "        vertical-align: top;\n",
              "    }\n",
              "\n",
              "    .dataframe thead th {\n",
              "        text-align: right;\n",
              "    }\n",
              "</style>\n",
              "<table border=\"1\" class=\"dataframe\">\n",
              "  <thead>\n",
              "    <tr style=\"text-align: right;\">\n",
              "      <th></th>\n",
              "      <th>id</th>\n",
              "      <th>comment_text</th>\n",
              "      <th>1-pre</th>\n",
              "    </tr>\n",
              "  </thead>\n",
              "  <tbody>\n",
              "    <tr>\n",
              "      <th>0</th>\n",
              "      <td>00001cee341fdb12</td>\n",
              "      <td>Yo bitch Ja Rule is more succesful then you'll...</td>\n",
              "      <td>yo bitch ja rule is more succesful then you'll...</td>\n",
              "    </tr>\n",
              "  </tbody>\n",
              "</table>\n",
              "</div>"
            ],
            "text/plain": [
              "                 id  ...                                              1-pre\n",
              "0  00001cee341fdb12  ...  yo bitch ja rule is more succesful then you'll...\n",
              "\n",
              "[1 rows x 3 columns]"
            ]
          },
          "metadata": {
            "tags": []
          }
        },
        {
          "output_type": "execute_result",
          "data": {
            "text/plain": [
              "(None, None)"
            ]
          },
          "metadata": {
            "tags": []
          },
          "execution_count": 122
        }
      ]
    },
    {
      "cell_type": "markdown",
      "metadata": {
        "id": "3R7MuYVsds3B"
      },
      "source": [
        "## 3. Expand the Contractions"
      ]
    },
    {
      "cell_type": "code",
      "metadata": {
        "colab": {
          "base_uri": "https://localhost:8080/"
        },
        "id": "MNHkfJA7dqa_",
        "outputId": "c1058fd3-e9c9-4fe3-9a4e-d9d458b4a04c"
      },
      "source": [
        "!pip install contractions\n",
        "import contractions"
      ],
      "execution_count": null,
      "outputs": [
        {
          "output_type": "stream",
          "text": [
            "Requirement already satisfied: contractions in /usr/local/lib/python3.7/dist-packages (0.0.48)\n",
            "Requirement already satisfied: textsearch>=0.0.21 in /usr/local/lib/python3.7/dist-packages (from contractions) (0.0.21)\n",
            "Requirement already satisfied: pyahocorasick in /usr/local/lib/python3.7/dist-packages (from textsearch>=0.0.21->contractions) (1.4.2)\n",
            "Requirement already satisfied: anyascii in /usr/local/lib/python3.7/dist-packages (from textsearch>=0.0.21->contractions) (0.1.7)\n"
          ],
          "name": "stdout"
        }
      ]
    },
    {
      "cell_type": "code",
      "metadata": {
        "id": "AEepf4aWdxAo"
      },
      "source": [
        "train['1-pre'] = train['1-pre'].apply(lambda x: contractions.fix(x))\n",
        "test['1-pre'] = test['1-pre'].apply(lambda x: contractions.fix(x))"
      ],
      "execution_count": null,
      "outputs": []
    },
    {
      "cell_type": "code",
      "metadata": {
        "colab": {
          "base_uri": "https://localhost:8080/",
          "height": 224
        },
        "id": "aPojneXtd2V-",
        "outputId": "3ef9dff7-4cdf-4a95-b077-1a2d6dfe73e9"
      },
      "source": [
        "display(train.head(1)), display(test.head(1))"
      ],
      "execution_count": null,
      "outputs": [
        {
          "output_type": "display_data",
          "data": {
            "text/html": [
              "<div>\n",
              "<style scoped>\n",
              "    .dataframe tbody tr th:only-of-type {\n",
              "        vertical-align: middle;\n",
              "    }\n",
              "\n",
              "    .dataframe tbody tr th {\n",
              "        vertical-align: top;\n",
              "    }\n",
              "\n",
              "    .dataframe thead th {\n",
              "        text-align: right;\n",
              "    }\n",
              "</style>\n",
              "<table border=\"1\" class=\"dataframe\">\n",
              "  <thead>\n",
              "    <tr style=\"text-align: right;\">\n",
              "      <th></th>\n",
              "      <th>id</th>\n",
              "      <th>comment_text</th>\n",
              "      <th>toxic</th>\n",
              "      <th>severe_toxic</th>\n",
              "      <th>obscene</th>\n",
              "      <th>threat</th>\n",
              "      <th>insult</th>\n",
              "      <th>identity_hate</th>\n",
              "      <th>1-pre</th>\n",
              "    </tr>\n",
              "  </thead>\n",
              "  <tbody>\n",
              "    <tr>\n",
              "      <th>0</th>\n",
              "      <td>0000997932d777bf</td>\n",
              "      <td>Explanation\\nWhy the edits made under my usern...</td>\n",
              "      <td>0</td>\n",
              "      <td>0</td>\n",
              "      <td>0</td>\n",
              "      <td>0</td>\n",
              "      <td>0</td>\n",
              "      <td>0</td>\n",
              "      <td>explanation\\nwhy the edits made under my usern...</td>\n",
              "    </tr>\n",
              "  </tbody>\n",
              "</table>\n",
              "</div>"
            ],
            "text/plain": [
              "                 id  ...                                              1-pre\n",
              "0  0000997932d777bf  ...  explanation\\nwhy the edits made under my usern...\n",
              "\n",
              "[1 rows x 9 columns]"
            ]
          },
          "metadata": {
            "tags": []
          }
        },
        {
          "output_type": "display_data",
          "data": {
            "text/html": [
              "<div>\n",
              "<style scoped>\n",
              "    .dataframe tbody tr th:only-of-type {\n",
              "        vertical-align: middle;\n",
              "    }\n",
              "\n",
              "    .dataframe tbody tr th {\n",
              "        vertical-align: top;\n",
              "    }\n",
              "\n",
              "    .dataframe thead th {\n",
              "        text-align: right;\n",
              "    }\n",
              "</style>\n",
              "<table border=\"1\" class=\"dataframe\">\n",
              "  <thead>\n",
              "    <tr style=\"text-align: right;\">\n",
              "      <th></th>\n",
              "      <th>id</th>\n",
              "      <th>comment_text</th>\n",
              "      <th>1-pre</th>\n",
              "    </tr>\n",
              "  </thead>\n",
              "  <tbody>\n",
              "    <tr>\n",
              "      <th>0</th>\n",
              "      <td>00001cee341fdb12</td>\n",
              "      <td>Yo bitch Ja Rule is more succesful then you'll...</td>\n",
              "      <td>yo bitch ja rule is more succesful then you wi...</td>\n",
              "    </tr>\n",
              "  </tbody>\n",
              "</table>\n",
              "</div>"
            ],
            "text/plain": [
              "                 id  ...                                              1-pre\n",
              "0  00001cee341fdb12  ...  yo bitch ja rule is more succesful then you wi...\n",
              "\n",
              "[1 rows x 3 columns]"
            ]
          },
          "metadata": {
            "tags": []
          }
        },
        {
          "output_type": "execute_result",
          "data": {
            "text/plain": [
              "(None, None)"
            ]
          },
          "metadata": {
            "tags": []
          },
          "execution_count": 125
        }
      ]
    },
    {
      "cell_type": "markdown",
      "metadata": {
        "id": "FH2j5aYtd5CP"
      },
      "source": [
        "## 4. Remove URLs"
      ]
    },
    {
      "cell_type": "code",
      "metadata": {
        "id": "5Hh_ZPILd4i1"
      },
      "source": [
        "train['1-pre'] = train['1-pre'].apply(lambda x: re.sub(r\"https?://\\S+|www\\.\\S+\", \" \", x))\n",
        "test['1-pre'] = test['1-pre'].apply(lambda x: re.sub(r\"https?://\\S+|www\\.\\S+\", \" \", x))"
      ],
      "execution_count": null,
      "outputs": []
    },
    {
      "cell_type": "code",
      "metadata": {
        "colab": {
          "base_uri": "https://localhost:8080/",
          "height": 224
        },
        "id": "xT6lncDmeBE3",
        "outputId": "067dd5fb-80c7-4ce3-9598-325b74ebc98a"
      },
      "source": [
        "display(train.head(1)), display(test.head(1))"
      ],
      "execution_count": null,
      "outputs": [
        {
          "output_type": "display_data",
          "data": {
            "text/html": [
              "<div>\n",
              "<style scoped>\n",
              "    .dataframe tbody tr th:only-of-type {\n",
              "        vertical-align: middle;\n",
              "    }\n",
              "\n",
              "    .dataframe tbody tr th {\n",
              "        vertical-align: top;\n",
              "    }\n",
              "\n",
              "    .dataframe thead th {\n",
              "        text-align: right;\n",
              "    }\n",
              "</style>\n",
              "<table border=\"1\" class=\"dataframe\">\n",
              "  <thead>\n",
              "    <tr style=\"text-align: right;\">\n",
              "      <th></th>\n",
              "      <th>id</th>\n",
              "      <th>comment_text</th>\n",
              "      <th>toxic</th>\n",
              "      <th>severe_toxic</th>\n",
              "      <th>obscene</th>\n",
              "      <th>threat</th>\n",
              "      <th>insult</th>\n",
              "      <th>identity_hate</th>\n",
              "      <th>1-pre</th>\n",
              "    </tr>\n",
              "  </thead>\n",
              "  <tbody>\n",
              "    <tr>\n",
              "      <th>0</th>\n",
              "      <td>0000997932d777bf</td>\n",
              "      <td>Explanation\\nWhy the edits made under my usern...</td>\n",
              "      <td>0</td>\n",
              "      <td>0</td>\n",
              "      <td>0</td>\n",
              "      <td>0</td>\n",
              "      <td>0</td>\n",
              "      <td>0</td>\n",
              "      <td>explanation\\nwhy the edits made under my usern...</td>\n",
              "    </tr>\n",
              "  </tbody>\n",
              "</table>\n",
              "</div>"
            ],
            "text/plain": [
              "                 id  ...                                              1-pre\n",
              "0  0000997932d777bf  ...  explanation\\nwhy the edits made under my usern...\n",
              "\n",
              "[1 rows x 9 columns]"
            ]
          },
          "metadata": {
            "tags": []
          }
        },
        {
          "output_type": "display_data",
          "data": {
            "text/html": [
              "<div>\n",
              "<style scoped>\n",
              "    .dataframe tbody tr th:only-of-type {\n",
              "        vertical-align: middle;\n",
              "    }\n",
              "\n",
              "    .dataframe tbody tr th {\n",
              "        vertical-align: top;\n",
              "    }\n",
              "\n",
              "    .dataframe thead th {\n",
              "        text-align: right;\n",
              "    }\n",
              "</style>\n",
              "<table border=\"1\" class=\"dataframe\">\n",
              "  <thead>\n",
              "    <tr style=\"text-align: right;\">\n",
              "      <th></th>\n",
              "      <th>id</th>\n",
              "      <th>comment_text</th>\n",
              "      <th>1-pre</th>\n",
              "    </tr>\n",
              "  </thead>\n",
              "  <tbody>\n",
              "    <tr>\n",
              "      <th>0</th>\n",
              "      <td>00001cee341fdb12</td>\n",
              "      <td>Yo bitch Ja Rule is more succesful then you'll...</td>\n",
              "      <td>yo bitch ja rule is more succesful then you wi...</td>\n",
              "    </tr>\n",
              "  </tbody>\n",
              "</table>\n",
              "</div>"
            ],
            "text/plain": [
              "                 id  ...                                              1-pre\n",
              "0  00001cee341fdb12  ...  yo bitch ja rule is more succesful then you wi...\n",
              "\n",
              "[1 rows x 3 columns]"
            ]
          },
          "metadata": {
            "tags": []
          }
        },
        {
          "output_type": "execute_result",
          "data": {
            "text/plain": [
              "(None, None)"
            ]
          },
          "metadata": {
            "tags": []
          },
          "execution_count": 127
        }
      ]
    },
    {
      "cell_type": "markdown",
      "metadata": {
        "id": "bCNDrucveHAm"
      },
      "source": [
        "## 5. Remove HTML tags"
      ]
    },
    {
      "cell_type": "code",
      "metadata": {
        "id": "LPAN_2Z_eCzF"
      },
      "source": [
        "train['1-pre'] = train['1-pre'].apply(lambda x: re.sub(r\"<.*?>|&([a-z0-9]+|#[0-9]{1,6}|#x[0-9a-f]{1,6});\", \" \", x))\n",
        "test['1-pre'] = test['1-pre'].apply(lambda x: re.sub(r\"<.*?>|&([a-z0-9]+|#[0-9]{1,6}|#x[0-9a-f]{1,6});\", \" \", x))"
      ],
      "execution_count": null,
      "outputs": []
    },
    {
      "cell_type": "code",
      "metadata": {
        "colab": {
          "base_uri": "https://localhost:8080/",
          "height": 224
        },
        "id": "9f4I414TeNxx",
        "outputId": "78b8b7c8-3fa6-43aa-cf19-9f410f1bdf03"
      },
      "source": [
        "display(train.head(1)), display(test.head(1))"
      ],
      "execution_count": null,
      "outputs": [
        {
          "output_type": "display_data",
          "data": {
            "text/html": [
              "<div>\n",
              "<style scoped>\n",
              "    .dataframe tbody tr th:only-of-type {\n",
              "        vertical-align: middle;\n",
              "    }\n",
              "\n",
              "    .dataframe tbody tr th {\n",
              "        vertical-align: top;\n",
              "    }\n",
              "\n",
              "    .dataframe thead th {\n",
              "        text-align: right;\n",
              "    }\n",
              "</style>\n",
              "<table border=\"1\" class=\"dataframe\">\n",
              "  <thead>\n",
              "    <tr style=\"text-align: right;\">\n",
              "      <th></th>\n",
              "      <th>id</th>\n",
              "      <th>comment_text</th>\n",
              "      <th>toxic</th>\n",
              "      <th>severe_toxic</th>\n",
              "      <th>obscene</th>\n",
              "      <th>threat</th>\n",
              "      <th>insult</th>\n",
              "      <th>identity_hate</th>\n",
              "      <th>1-pre</th>\n",
              "    </tr>\n",
              "  </thead>\n",
              "  <tbody>\n",
              "    <tr>\n",
              "      <th>0</th>\n",
              "      <td>0000997932d777bf</td>\n",
              "      <td>Explanation\\nWhy the edits made under my usern...</td>\n",
              "      <td>0</td>\n",
              "      <td>0</td>\n",
              "      <td>0</td>\n",
              "      <td>0</td>\n",
              "      <td>0</td>\n",
              "      <td>0</td>\n",
              "      <td>explanation\\nwhy the edits made under my usern...</td>\n",
              "    </tr>\n",
              "  </tbody>\n",
              "</table>\n",
              "</div>"
            ],
            "text/plain": [
              "                 id  ...                                              1-pre\n",
              "0  0000997932d777bf  ...  explanation\\nwhy the edits made under my usern...\n",
              "\n",
              "[1 rows x 9 columns]"
            ]
          },
          "metadata": {
            "tags": []
          }
        },
        {
          "output_type": "display_data",
          "data": {
            "text/html": [
              "<div>\n",
              "<style scoped>\n",
              "    .dataframe tbody tr th:only-of-type {\n",
              "        vertical-align: middle;\n",
              "    }\n",
              "\n",
              "    .dataframe tbody tr th {\n",
              "        vertical-align: top;\n",
              "    }\n",
              "\n",
              "    .dataframe thead th {\n",
              "        text-align: right;\n",
              "    }\n",
              "</style>\n",
              "<table border=\"1\" class=\"dataframe\">\n",
              "  <thead>\n",
              "    <tr style=\"text-align: right;\">\n",
              "      <th></th>\n",
              "      <th>id</th>\n",
              "      <th>comment_text</th>\n",
              "      <th>1-pre</th>\n",
              "    </tr>\n",
              "  </thead>\n",
              "  <tbody>\n",
              "    <tr>\n",
              "      <th>0</th>\n",
              "      <td>00001cee341fdb12</td>\n",
              "      <td>Yo bitch Ja Rule is more succesful then you'll...</td>\n",
              "      <td>yo bitch ja rule is more succesful then you wi...</td>\n",
              "    </tr>\n",
              "  </tbody>\n",
              "</table>\n",
              "</div>"
            ],
            "text/plain": [
              "                 id  ...                                              1-pre\n",
              "0  00001cee341fdb12  ...  yo bitch ja rule is more succesful then you wi...\n",
              "\n",
              "[1 rows x 3 columns]"
            ]
          },
          "metadata": {
            "tags": []
          }
        },
        {
          "output_type": "execute_result",
          "data": {
            "text/plain": [
              "(None, None)"
            ]
          },
          "metadata": {
            "tags": []
          },
          "execution_count": 129
        }
      ]
    },
    {
      "cell_type": "markdown",
      "metadata": {
        "id": "7KAYWRdzeQdQ"
      },
      "source": [
        "## 6. Remove Non-ASCI"
      ]
    },
    {
      "cell_type": "code",
      "metadata": {
        "id": "SWxdcAFIeOX4"
      },
      "source": [
        "train['1-pre'] = train['1-pre'].apply(lambda x: re.sub(r'[^\\x00-\\x7f]',' ', x))\n",
        "test['1-pre'] = test['1-pre'].apply(lambda x: re.sub(r'[^\\x00-\\x7f]',' ', x))"
      ],
      "execution_count": null,
      "outputs": []
    },
    {
      "cell_type": "code",
      "metadata": {
        "colab": {
          "base_uri": "https://localhost:8080/",
          "height": 224
        },
        "id": "jjeTGf4IeYVe",
        "outputId": "a8690a00-ab32-4182-8a0c-a3f86e2251ff"
      },
      "source": [
        "display(train.head(1)), display(test.head(1))"
      ],
      "execution_count": null,
      "outputs": [
        {
          "output_type": "display_data",
          "data": {
            "text/html": [
              "<div>\n",
              "<style scoped>\n",
              "    .dataframe tbody tr th:only-of-type {\n",
              "        vertical-align: middle;\n",
              "    }\n",
              "\n",
              "    .dataframe tbody tr th {\n",
              "        vertical-align: top;\n",
              "    }\n",
              "\n",
              "    .dataframe thead th {\n",
              "        text-align: right;\n",
              "    }\n",
              "</style>\n",
              "<table border=\"1\" class=\"dataframe\">\n",
              "  <thead>\n",
              "    <tr style=\"text-align: right;\">\n",
              "      <th></th>\n",
              "      <th>id</th>\n",
              "      <th>comment_text</th>\n",
              "      <th>toxic</th>\n",
              "      <th>severe_toxic</th>\n",
              "      <th>obscene</th>\n",
              "      <th>threat</th>\n",
              "      <th>insult</th>\n",
              "      <th>identity_hate</th>\n",
              "      <th>1-pre</th>\n",
              "    </tr>\n",
              "  </thead>\n",
              "  <tbody>\n",
              "    <tr>\n",
              "      <th>0</th>\n",
              "      <td>0000997932d777bf</td>\n",
              "      <td>Explanation\\nWhy the edits made under my usern...</td>\n",
              "      <td>0</td>\n",
              "      <td>0</td>\n",
              "      <td>0</td>\n",
              "      <td>0</td>\n",
              "      <td>0</td>\n",
              "      <td>0</td>\n",
              "      <td>explanation\\nwhy the edits made under my usern...</td>\n",
              "    </tr>\n",
              "  </tbody>\n",
              "</table>\n",
              "</div>"
            ],
            "text/plain": [
              "                 id  ...                                              1-pre\n",
              "0  0000997932d777bf  ...  explanation\\nwhy the edits made under my usern...\n",
              "\n",
              "[1 rows x 9 columns]"
            ]
          },
          "metadata": {
            "tags": []
          }
        },
        {
          "output_type": "display_data",
          "data": {
            "text/html": [
              "<div>\n",
              "<style scoped>\n",
              "    .dataframe tbody tr th:only-of-type {\n",
              "        vertical-align: middle;\n",
              "    }\n",
              "\n",
              "    .dataframe tbody tr th {\n",
              "        vertical-align: top;\n",
              "    }\n",
              "\n",
              "    .dataframe thead th {\n",
              "        text-align: right;\n",
              "    }\n",
              "</style>\n",
              "<table border=\"1\" class=\"dataframe\">\n",
              "  <thead>\n",
              "    <tr style=\"text-align: right;\">\n",
              "      <th></th>\n",
              "      <th>id</th>\n",
              "      <th>comment_text</th>\n",
              "      <th>1-pre</th>\n",
              "    </tr>\n",
              "  </thead>\n",
              "  <tbody>\n",
              "    <tr>\n",
              "      <th>0</th>\n",
              "      <td>00001cee341fdb12</td>\n",
              "      <td>Yo bitch Ja Rule is more succesful then you'll...</td>\n",
              "      <td>yo bitch ja rule is more succesful then you wi...</td>\n",
              "    </tr>\n",
              "  </tbody>\n",
              "</table>\n",
              "</div>"
            ],
            "text/plain": [
              "                 id  ...                                              1-pre\n",
              "0  00001cee341fdb12  ...  yo bitch ja rule is more succesful then you wi...\n",
              "\n",
              "[1 rows x 3 columns]"
            ]
          },
          "metadata": {
            "tags": []
          }
        },
        {
          "output_type": "execute_result",
          "data": {
            "text/plain": [
              "(None, None)"
            ]
          },
          "metadata": {
            "tags": []
          },
          "execution_count": 131
        }
      ]
    },
    {
      "cell_type": "markdown",
      "metadata": {
        "id": "Z5rJ_C3SeaFn"
      },
      "source": [
        "## 7. Remove punctuations"
      ]
    },
    {
      "cell_type": "code",
      "metadata": {
        "id": "MoO634YmecNm"
      },
      "source": [
        "train['1-pre'] = train['1-pre'].apply(lambda x: re.sub(r'[]!\"$%&\\'()*+,./:;=#@?[\\\\^_`{|}~-]+', \" \", x))\n",
        "test['1-pre'] = test['1-pre'].apply(lambda x: re.sub(r'[]!\"$%&\\'()*+,./:;=#@?[\\\\^_`{|}~-]+', \" \", x))"
      ],
      "execution_count": null,
      "outputs": []
    },
    {
      "cell_type": "code",
      "metadata": {
        "colab": {
          "base_uri": "https://localhost:8080/",
          "height": 224
        },
        "id": "K_LNDAU9ex6X",
        "outputId": "c6323fcd-0129-45d1-9252-f244a6255f43"
      },
      "source": [
        "display(train.head(1)), display(test.head(1))"
      ],
      "execution_count": null,
      "outputs": [
        {
          "output_type": "display_data",
          "data": {
            "text/html": [
              "<div>\n",
              "<style scoped>\n",
              "    .dataframe tbody tr th:only-of-type {\n",
              "        vertical-align: middle;\n",
              "    }\n",
              "\n",
              "    .dataframe tbody tr th {\n",
              "        vertical-align: top;\n",
              "    }\n",
              "\n",
              "    .dataframe thead th {\n",
              "        text-align: right;\n",
              "    }\n",
              "</style>\n",
              "<table border=\"1\" class=\"dataframe\">\n",
              "  <thead>\n",
              "    <tr style=\"text-align: right;\">\n",
              "      <th></th>\n",
              "      <th>id</th>\n",
              "      <th>comment_text</th>\n",
              "      <th>toxic</th>\n",
              "      <th>severe_toxic</th>\n",
              "      <th>obscene</th>\n",
              "      <th>threat</th>\n",
              "      <th>insult</th>\n",
              "      <th>identity_hate</th>\n",
              "      <th>1-pre</th>\n",
              "    </tr>\n",
              "  </thead>\n",
              "  <tbody>\n",
              "    <tr>\n",
              "      <th>0</th>\n",
              "      <td>0000997932d777bf</td>\n",
              "      <td>Explanation\\nWhy the edits made under my usern...</td>\n",
              "      <td>0</td>\n",
              "      <td>0</td>\n",
              "      <td>0</td>\n",
              "      <td>0</td>\n",
              "      <td>0</td>\n",
              "      <td>0</td>\n",
              "      <td>explanation\\nwhy the edits made under my usern...</td>\n",
              "    </tr>\n",
              "  </tbody>\n",
              "</table>\n",
              "</div>"
            ],
            "text/plain": [
              "                 id  ...                                              1-pre\n",
              "0  0000997932d777bf  ...  explanation\\nwhy the edits made under my usern...\n",
              "\n",
              "[1 rows x 9 columns]"
            ]
          },
          "metadata": {
            "tags": []
          }
        },
        {
          "output_type": "display_data",
          "data": {
            "text/html": [
              "<div>\n",
              "<style scoped>\n",
              "    .dataframe tbody tr th:only-of-type {\n",
              "        vertical-align: middle;\n",
              "    }\n",
              "\n",
              "    .dataframe tbody tr th {\n",
              "        vertical-align: top;\n",
              "    }\n",
              "\n",
              "    .dataframe thead th {\n",
              "        text-align: right;\n",
              "    }\n",
              "</style>\n",
              "<table border=\"1\" class=\"dataframe\">\n",
              "  <thead>\n",
              "    <tr style=\"text-align: right;\">\n",
              "      <th></th>\n",
              "      <th>id</th>\n",
              "      <th>comment_text</th>\n",
              "      <th>1-pre</th>\n",
              "    </tr>\n",
              "  </thead>\n",
              "  <tbody>\n",
              "    <tr>\n",
              "      <th>0</th>\n",
              "      <td>00001cee341fdb12</td>\n",
              "      <td>Yo bitch Ja Rule is more succesful then you'll...</td>\n",
              "      <td>yo bitch ja rule is more succesful then you wi...</td>\n",
              "    </tr>\n",
              "  </tbody>\n",
              "</table>\n",
              "</div>"
            ],
            "text/plain": [
              "                 id  ...                                              1-pre\n",
              "0  00001cee341fdb12  ...  yo bitch ja rule is more succesful then you wi...\n",
              "\n",
              "[1 rows x 3 columns]"
            ]
          },
          "metadata": {
            "tags": []
          }
        },
        {
          "output_type": "execute_result",
          "data": {
            "text/plain": [
              "(None, None)"
            ]
          },
          "metadata": {
            "tags": []
          },
          "execution_count": 133
        }
      ]
    },
    {
      "cell_type": "markdown",
      "metadata": {
        "id": "mg00ZpjIe6Dr"
      },
      "source": [
        "## 8. Capitalization / Lower case"
      ]
    },
    {
      "cell_type": "code",
      "metadata": {
        "id": "4o08nPpPezwf"
      },
      "source": [
        "train['1-pre'] = train['1-pre'].apply(lambda x: x.lower())\n",
        "test['1-pre'] = test['1-pre'].apply(lambda x: x.lower())"
      ],
      "execution_count": null,
      "outputs": []
    },
    {
      "cell_type": "code",
      "metadata": {
        "colab": {
          "base_uri": "https://localhost:8080/",
          "height": 224
        },
        "id": "z0GHVqgefB-W",
        "outputId": "6781eca4-10c7-4fdd-c704-c7d7debd6072"
      },
      "source": [
        "display(train.head(1)), display(test.head(1))"
      ],
      "execution_count": null,
      "outputs": [
        {
          "output_type": "display_data",
          "data": {
            "text/html": [
              "<div>\n",
              "<style scoped>\n",
              "    .dataframe tbody tr th:only-of-type {\n",
              "        vertical-align: middle;\n",
              "    }\n",
              "\n",
              "    .dataframe tbody tr th {\n",
              "        vertical-align: top;\n",
              "    }\n",
              "\n",
              "    .dataframe thead th {\n",
              "        text-align: right;\n",
              "    }\n",
              "</style>\n",
              "<table border=\"1\" class=\"dataframe\">\n",
              "  <thead>\n",
              "    <tr style=\"text-align: right;\">\n",
              "      <th></th>\n",
              "      <th>id</th>\n",
              "      <th>comment_text</th>\n",
              "      <th>toxic</th>\n",
              "      <th>severe_toxic</th>\n",
              "      <th>obscene</th>\n",
              "      <th>threat</th>\n",
              "      <th>insult</th>\n",
              "      <th>identity_hate</th>\n",
              "      <th>1-pre</th>\n",
              "    </tr>\n",
              "  </thead>\n",
              "  <tbody>\n",
              "    <tr>\n",
              "      <th>0</th>\n",
              "      <td>0000997932d777bf</td>\n",
              "      <td>Explanation\\nWhy the edits made under my usern...</td>\n",
              "      <td>0</td>\n",
              "      <td>0</td>\n",
              "      <td>0</td>\n",
              "      <td>0</td>\n",
              "      <td>0</td>\n",
              "      <td>0</td>\n",
              "      <td>explanation\\nwhy the edits made under my usern...</td>\n",
              "    </tr>\n",
              "  </tbody>\n",
              "</table>\n",
              "</div>"
            ],
            "text/plain": [
              "                 id  ...                                              1-pre\n",
              "0  0000997932d777bf  ...  explanation\\nwhy the edits made under my usern...\n",
              "\n",
              "[1 rows x 9 columns]"
            ]
          },
          "metadata": {
            "tags": []
          }
        },
        {
          "output_type": "display_data",
          "data": {
            "text/html": [
              "<div>\n",
              "<style scoped>\n",
              "    .dataframe tbody tr th:only-of-type {\n",
              "        vertical-align: middle;\n",
              "    }\n",
              "\n",
              "    .dataframe tbody tr th {\n",
              "        vertical-align: top;\n",
              "    }\n",
              "\n",
              "    .dataframe thead th {\n",
              "        text-align: right;\n",
              "    }\n",
              "</style>\n",
              "<table border=\"1\" class=\"dataframe\">\n",
              "  <thead>\n",
              "    <tr style=\"text-align: right;\">\n",
              "      <th></th>\n",
              "      <th>id</th>\n",
              "      <th>comment_text</th>\n",
              "      <th>1-pre</th>\n",
              "    </tr>\n",
              "  </thead>\n",
              "  <tbody>\n",
              "    <tr>\n",
              "      <th>0</th>\n",
              "      <td>00001cee341fdb12</td>\n",
              "      <td>Yo bitch Ja Rule is more succesful then you'll...</td>\n",
              "      <td>yo bitch ja rule is more succesful then you wi...</td>\n",
              "    </tr>\n",
              "  </tbody>\n",
              "</table>\n",
              "</div>"
            ],
            "text/plain": [
              "                 id  ...                                              1-pre\n",
              "0  00001cee341fdb12  ...  yo bitch ja rule is more succesful then you wi...\n",
              "\n",
              "[1 rows x 3 columns]"
            ]
          },
          "metadata": {
            "tags": []
          }
        },
        {
          "output_type": "execute_result",
          "data": {
            "text/plain": [
              "(None, None)"
            ]
          },
          "metadata": {
            "tags": []
          },
          "execution_count": 135
        }
      ]
    },
    {
      "cell_type": "markdown",
      "metadata": {
        "id": "6QUNO4UsfGrm"
      },
      "source": [
        "## Remove stopwords"
      ]
    },
    {
      "cell_type": "code",
      "metadata": {
        "colab": {
          "base_uri": "https://localhost:8080/"
        },
        "id": "WDkNqRCAfDMg",
        "outputId": "f441c6ed-ba05-4250-b772-975d77dfd537"
      },
      "source": [
        "import nltk\n",
        "nltk.download('stopwords')\n",
        "from nltk.corpus import stopwords\n",
        "stop = stopwords.words('english')"
      ],
      "execution_count": null,
      "outputs": [
        {
          "output_type": "stream",
          "text": [
            "[nltk_data] Downloading package stopwords to /root/nltk_data...\n",
            "[nltk_data]   Package stopwords is already up-to-date!\n"
          ],
          "name": "stdout"
        }
      ]
    },
    {
      "cell_type": "code",
      "metadata": {
        "id": "o4S-d394fJ0m"
      },
      "source": [
        "train['1-pre'] = train['1-pre'].apply(lambda x: ' '.join([word for word in x.split() if word not in (stop)]))\n",
        "test['1-pre'] = test['1-pre'].apply(lambda x: ' '.join([word for word in x.split() if word not in (stop)]))"
      ],
      "execution_count": null,
      "outputs": []
    },
    {
      "cell_type": "code",
      "metadata": {
        "colab": {
          "base_uri": "https://localhost:8080/",
          "height": 258
        },
        "id": "dU-PQ5pIfRPO",
        "outputId": "6d210096-901b-4df8-8ef8-f3c1b609b499"
      },
      "source": [
        "display(train.head(1)), display(test.head(1))"
      ],
      "execution_count": null,
      "outputs": [
        {
          "output_type": "display_data",
          "data": {
            "text/html": [
              "<div>\n",
              "<style scoped>\n",
              "    .dataframe tbody tr th:only-of-type {\n",
              "        vertical-align: middle;\n",
              "    }\n",
              "\n",
              "    .dataframe tbody tr th {\n",
              "        vertical-align: top;\n",
              "    }\n",
              "\n",
              "    .dataframe thead th {\n",
              "        text-align: right;\n",
              "    }\n",
              "</style>\n",
              "<table border=\"1\" class=\"dataframe\">\n",
              "  <thead>\n",
              "    <tr style=\"text-align: right;\">\n",
              "      <th></th>\n",
              "      <th>id</th>\n",
              "      <th>comment_text</th>\n",
              "      <th>toxic</th>\n",
              "      <th>severe_toxic</th>\n",
              "      <th>obscene</th>\n",
              "      <th>threat</th>\n",
              "      <th>insult</th>\n",
              "      <th>identity_hate</th>\n",
              "      <th>1-pre</th>\n",
              "    </tr>\n",
              "  </thead>\n",
              "  <tbody>\n",
              "    <tr>\n",
              "      <th>0</th>\n",
              "      <td>0000997932d777bf</td>\n",
              "      <td>Explanation\\nWhy the edits made under my usern...</td>\n",
              "      <td>0</td>\n",
              "      <td>0</td>\n",
              "      <td>0</td>\n",
              "      <td>0</td>\n",
              "      <td>0</td>\n",
              "      <td>0</td>\n",
              "      <td>explanation edits made username hardcore metal...</td>\n",
              "    </tr>\n",
              "  </tbody>\n",
              "</table>\n",
              "</div>"
            ],
            "text/plain": [
              "                 id  ...                                              1-pre\n",
              "0  0000997932d777bf  ...  explanation edits made username hardcore metal...\n",
              "\n",
              "[1 rows x 9 columns]"
            ]
          },
          "metadata": {
            "tags": []
          }
        },
        {
          "output_type": "display_data",
          "data": {
            "text/html": [
              "<div>\n",
              "<style scoped>\n",
              "    .dataframe tbody tr th:only-of-type {\n",
              "        vertical-align: middle;\n",
              "    }\n",
              "\n",
              "    .dataframe tbody tr th {\n",
              "        vertical-align: top;\n",
              "    }\n",
              "\n",
              "    .dataframe thead th {\n",
              "        text-align: right;\n",
              "    }\n",
              "</style>\n",
              "<table border=\"1\" class=\"dataframe\">\n",
              "  <thead>\n",
              "    <tr style=\"text-align: right;\">\n",
              "      <th></th>\n",
              "      <th>id</th>\n",
              "      <th>comment_text</th>\n",
              "      <th>1-pre</th>\n",
              "    </tr>\n",
              "  </thead>\n",
              "  <tbody>\n",
              "    <tr>\n",
              "      <th>0</th>\n",
              "      <td>00001cee341fdb12</td>\n",
              "      <td>Yo bitch Ja Rule is more succesful then you'll...</td>\n",
              "      <td>yo bitch ja rule succesful ever hating sad mof...</td>\n",
              "    </tr>\n",
              "  </tbody>\n",
              "</table>\n",
              "</div>"
            ],
            "text/plain": [
              "                 id  ...                                              1-pre\n",
              "0  00001cee341fdb12  ...  yo bitch ja rule succesful ever hating sad mof...\n",
              "\n",
              "[1 rows x 3 columns]"
            ]
          },
          "metadata": {
            "tags": []
          }
        },
        {
          "output_type": "execute_result",
          "data": {
            "text/plain": [
              "(None, None)"
            ]
          },
          "metadata": {
            "tags": []
          },
          "execution_count": 138
        }
      ]
    },
    {
      "cell_type": "markdown",
      "metadata": {
        "id": "eemmXnoHh9hz"
      },
      "source": [
        "## Find zero len comment"
      ]
    },
    {
      "cell_type": "code",
      "metadata": {
        "colab": {
          "base_uri": "https://localhost:8080/"
        },
        "id": "k0C9n1TtiFC3",
        "outputId": "1a1fd505-e68f-4da9-cdeb-53174105e188"
      },
      "source": [
        "zerolen_t = list()\n",
        "num = 0\n",
        "for i in train['1-pre']:\n",
        "  if not re.search('\\S',i):\n",
        "    zerolen_t.append(num)\n",
        "  num += 1\n",
        "print(len(zerolen_t))  # train 중에 전처리 되어서 ''된 갯수 \n",
        "\n",
        "zerolen_te = list()\n",
        "num = 0\n",
        "for i in test['1-pre']:\n",
        "  if not re.search('\\S',i):\n",
        "    zerolen_te.append(num)\n",
        "  num += 1\n",
        "print(len(zerolen_te)) # test 중에 전처리 되어서 ''된 갯수 "
      ],
      "execution_count": null,
      "outputs": [
        {
          "output_type": "stream",
          "text": [
            "42\n",
            "915\n"
          ],
          "name": "stdout"
        }
      ]
    },
    {
      "cell_type": "code",
      "metadata": {
        "colab": {
          "base_uri": "https://localhost:8080/"
        },
        "id": "2_v9YcEhj1sN",
        "outputId": "b85bf199-821e-45d9-dc6e-21825a7864d1"
      },
      "source": [
        "for i in zerolen_t:\n",
        "  train['1-pre'][i] = train['comment_text'][i] # 기본 데이터로 대체\n",
        "for i in zerolen_te:\n",
        "  test['1-pre'][i] = test['comment_text'][i] # 기본 데이터로 대체"
      ],
      "execution_count": null,
      "outputs": [
        {
          "output_type": "stream",
          "text": [
            "/usr/local/lib/python3.7/dist-packages/ipykernel_launcher.py:2: SettingWithCopyWarning: \n",
            "A value is trying to be set on a copy of a slice from a DataFrame\n",
            "\n",
            "See the caveats in the documentation: https://pandas.pydata.org/pandas-docs/stable/user_guide/indexing.html#returning-a-view-versus-a-copy\n",
            "  \n"
          ],
          "name": "stderr"
        }
      ]
    },
    {
      "cell_type": "code",
      "metadata": {
        "colab": {
          "base_uri": "https://localhost:8080/"
        },
        "id": "Pru_2TYTlvks",
        "outputId": "d92c0275-5875-4266-9b87-e80fc990019e"
      },
      "source": [
        "# check\n",
        "temp_a = list()\n",
        "num = 0\n",
        "for i in train['1-pre']:\n",
        "  if not re.search('\\S',i):\n",
        "    temp_a.append(num)\n",
        "  num += 1\n",
        "print(len(temp_a)) # 이제 0\n",
        "\n",
        "temp_b= list()\n",
        "num = 0\n",
        "for i in test['1-pre']:\n",
        "  if not re.search('\\S',i):\n",
        "    temp_b.append(num)\n",
        "  num += 1\n",
        "print(len(temp_b))  # '\\u2003' 때문에 1"
      ],
      "execution_count": null,
      "outputs": [
        {
          "output_type": "stream",
          "text": [
            "0\n",
            "1\n"
          ],
          "name": "stdout"
        }
      ]
    },
    {
      "cell_type": "code",
      "metadata": {
        "id": "srdRuDOMrGqw"
      },
      "source": [
        "del temp_a, temp_b"
      ],
      "execution_count": null,
      "outputs": []
    },
    {
      "cell_type": "markdown",
      "metadata": {
        "id": "KgqB-iL6nDVo"
      },
      "source": [
        "-----------------"
      ]
    },
    {
      "cell_type": "markdown",
      "metadata": {
        "id": "KfsWWleynFgE"
      },
      "source": [
        "## Translation"
      ]
    },
    {
      "cell_type": "code",
      "metadata": {
        "colab": {
          "base_uri": "https://localhost:8080/"
        },
        "id": "0cC-WoRSnExg",
        "outputId": "ac774ea0-8dd3-4e63-9b97-2dc342187822"
      },
      "source": [
        "!pip install google_trans_new\n",
        "from google_trans_new import google_translator\n",
        "\n",
        "translator = google_translator()"
      ],
      "execution_count": null,
      "outputs": [
        {
          "output_type": "stream",
          "text": [
            "Collecting google_trans_new\n",
            "  Downloading https://files.pythonhosted.org/packages/f9/7b/9f136106dc5824dc98185c97991d3cd9b53e70a197154dd49f7b899128f6/google_trans_new-1.1.9-py3-none-any.whl\n",
            "Installing collected packages: google-trans-new\n",
            "Successfully installed google-trans-new-1.1.9\n"
          ],
          "name": "stdout"
        }
      ]
    },
    {
      "cell_type": "code",
      "metadata": {
        "id": "L85pDmjsmXcE"
      },
      "source": [
        "train['2-trans'] = train['1-pre']\n",
        "test['2-trans'] = test['1-pre']"
      ],
      "execution_count": null,
      "outputs": []
    },
    {
      "cell_type": "markdown",
      "metadata": {
        "id": "yfUhGxHSrWI-"
      },
      "source": [
        "test['1-pre'][55142] = '\\u2003'      \n",
        "translator 에서 오류발생하므로 번역하지 않음"
      ]
    },
    {
      "cell_type": "code",
      "metadata": {
        "colab": {
          "base_uri": "https://localhost:8080/"
        },
        "id": "4i2FSWAIofzT",
        "outputId": "c3fdf605-cb85-4a91-9347-79280672412a"
      },
      "source": [
        "zerolen_te.index(55142)"
      ],
      "execution_count": null,
      "outputs": [
        {
          "output_type": "execute_result",
          "data": {
            "text/plain": [
              "318"
            ]
          },
          "metadata": {
            "tags": []
          },
          "execution_count": 144
        }
      ]
    },
    {
      "cell_type": "code",
      "metadata": {
        "colab": {
          "base_uri": "https://localhost:8080/"
        },
        "id": "wUl-ot_prO0w",
        "outputId": "a0214cbc-6c9a-45e3-883f-3d39289f7bc8"
      },
      "source": [
        "zerolen_te.pop(318)"
      ],
      "execution_count": null,
      "outputs": [
        {
          "output_type": "execute_result",
          "data": {
            "text/plain": [
              "55142"
            ]
          },
          "metadata": {
            "tags": []
          },
          "execution_count": 145
        }
      ]
    },
    {
      "cell_type": "code",
      "metadata": {
        "colab": {
          "base_uri": "https://localhost:8080/"
        },
        "id": "S_Jj_qcYnVA8",
        "outputId": "0b0f987f-24dd-41ae-b2ec-a3fc7f39eb85"
      },
      "source": [
        "for i in zerolen_t:\n",
        "  train['2-trans'][i] = translator.translate(train['comment_text'][i])\n",
        "for i in zerolen_te:\n",
        "  test['2-trans'][i] = translator.translate(test['comment_text'][i])"
      ],
      "execution_count": null,
      "outputs": [
        {
          "output_type": "stream",
          "text": [
            "/usr/local/lib/python3.7/dist-packages/ipykernel_launcher.py:2: SettingWithCopyWarning: \n",
            "A value is trying to be set on a copy of a slice from a DataFrame\n",
            "\n",
            "See the caveats in the documentation: https://pandas.pydata.org/pandas-docs/stable/user_guide/indexing.html#returning-a-view-versus-a-copy\n",
            "  \n"
          ],
          "name": "stderr"
        }
      ]
    },
    {
      "cell_type": "code",
      "metadata": {
        "colab": {
          "base_uri": "https://localhost:8080/"
        },
        "id": "0TEvMY9aroMo",
        "outputId": "c987b2dc-2960-4251-ac79-8487ffda089d"
      },
      "source": [
        "# check \n",
        "print(test['comment_text'][419])\n",
        "print(test['2-trans'][419])"
      ],
      "execution_count": null,
      "outputs": [
        {
          "output_type": "stream",
          "text": [
            "Радченко ис мы дирты гаы анал сех славе!!\n",
            "Radchenko IS We are DirTa Gai Anal Sech Glory !! \n"
          ],
          "name": "stdout"
        }
      ]
    },
    {
      "cell_type": "markdown",
      "metadata": {
        "id": "TOsngnA3r6Hd"
      },
      "source": [
        "번역 후 lower()"
      ]
    },
    {
      "cell_type": "code",
      "metadata": {
        "id": "aiDmUW1KsBzw"
      },
      "source": [
        "train['2-trans'] = train['2-trans'].apply(lambda x: x.lower())\n",
        "test['2-trans'] = test['2-trans'].apply(lambda x: x.lower())"
      ],
      "execution_count": null,
      "outputs": []
    },
    {
      "cell_type": "markdown",
      "metadata": {
        "id": "y0sb78IusJfG"
      },
      "source": [
        "-------"
      ]
    },
    {
      "cell_type": "markdown",
      "metadata": {
        "id": "p9nlUvEfsKRu"
      },
      "source": [
        "# Save new Train, Test data"
      ]
    },
    {
      "cell_type": "code",
      "metadata": {
        "id": "xqhEzhUwS1Yi"
      },
      "source": [
        "train['len-2-trans'] = train['2-trans'].apply(lambda x: len(x.split()))\n",
        "test['len-2-trans'] = test['2-trans'].apply(lambda x: len(x.split()))"
      ],
      "execution_count": null,
      "outputs": []
    },
    {
      "cell_type": "code",
      "metadata": {
        "colab": {
          "base_uri": "https://localhost:8080/",
          "height": 314
        },
        "id": "WJ3TOg7RdNfG",
        "outputId": "088b29d6-e110-4e95-9548-5c6f802b263d"
      },
      "source": [
        "display(train.head(2)), display(test.head(2))"
      ],
      "execution_count": null,
      "outputs": [
        {
          "output_type": "display_data",
          "data": {
            "text/html": [
              "<div>\n",
              "<style scoped>\n",
              "    .dataframe tbody tr th:only-of-type {\n",
              "        vertical-align: middle;\n",
              "    }\n",
              "\n",
              "    .dataframe tbody tr th {\n",
              "        vertical-align: top;\n",
              "    }\n",
              "\n",
              "    .dataframe thead th {\n",
              "        text-align: right;\n",
              "    }\n",
              "</style>\n",
              "<table border=\"1\" class=\"dataframe\">\n",
              "  <thead>\n",
              "    <tr style=\"text-align: right;\">\n",
              "      <th></th>\n",
              "      <th>id</th>\n",
              "      <th>comment_text</th>\n",
              "      <th>toxic</th>\n",
              "      <th>severe_toxic</th>\n",
              "      <th>obscene</th>\n",
              "      <th>threat</th>\n",
              "      <th>insult</th>\n",
              "      <th>identity_hate</th>\n",
              "      <th>1-pre</th>\n",
              "      <th>2-trans</th>\n",
              "      <th>len-2-trans</th>\n",
              "    </tr>\n",
              "  </thead>\n",
              "  <tbody>\n",
              "    <tr>\n",
              "      <th>0</th>\n",
              "      <td>0000997932d777bf</td>\n",
              "      <td>Explanation\\nWhy the edits made under my usern...</td>\n",
              "      <td>0</td>\n",
              "      <td>0</td>\n",
              "      <td>0</td>\n",
              "      <td>0</td>\n",
              "      <td>0</td>\n",
              "      <td>0</td>\n",
              "      <td>explanation edits made username hardcore metal...</td>\n",
              "      <td>explanation edits made username hardcore metal...</td>\n",
              "      <td>27</td>\n",
              "    </tr>\n",
              "    <tr>\n",
              "      <th>1</th>\n",
              "      <td>000103f0d9cfb60f</td>\n",
              "      <td>D'aww! He matches this background colour I'm s...</td>\n",
              "      <td>0</td>\n",
              "      <td>0</td>\n",
              "      <td>0</td>\n",
              "      <td>0</td>\n",
              "      <td>0</td>\n",
              "      <td>0</td>\n",
              "      <td>aww matches background colour seemingly stuck ...</td>\n",
              "      <td>aww matches background colour seemingly stuck ...</td>\n",
              "      <td>14</td>\n",
              "    </tr>\n",
              "  </tbody>\n",
              "</table>\n",
              "</div>"
            ],
            "text/plain": [
              "                 id  ... len-2-trans\n",
              "0  0000997932d777bf  ...          27\n",
              "1  000103f0d9cfb60f  ...          14\n",
              "\n",
              "[2 rows x 11 columns]"
            ]
          },
          "metadata": {
            "tags": []
          }
        },
        {
          "output_type": "display_data",
          "data": {
            "text/html": [
              "<div>\n",
              "<style scoped>\n",
              "    .dataframe tbody tr th:only-of-type {\n",
              "        vertical-align: middle;\n",
              "    }\n",
              "\n",
              "    .dataframe tbody tr th {\n",
              "        vertical-align: top;\n",
              "    }\n",
              "\n",
              "    .dataframe thead th {\n",
              "        text-align: right;\n",
              "    }\n",
              "</style>\n",
              "<table border=\"1\" class=\"dataframe\">\n",
              "  <thead>\n",
              "    <tr style=\"text-align: right;\">\n",
              "      <th></th>\n",
              "      <th>id</th>\n",
              "      <th>comment_text</th>\n",
              "      <th>1-pre</th>\n",
              "      <th>2-trans</th>\n",
              "      <th>len-2-trans</th>\n",
              "    </tr>\n",
              "  </thead>\n",
              "  <tbody>\n",
              "    <tr>\n",
              "      <th>0</th>\n",
              "      <td>00001cee341fdb12</td>\n",
              "      <td>Yo bitch Ja Rule is more succesful then you'll...</td>\n",
              "      <td>yo bitch ja rule succesful ever hating sad mof...</td>\n",
              "      <td>yo bitch ja rule succesful ever hating sad mof...</td>\n",
              "      <td>42</td>\n",
              "    </tr>\n",
              "    <tr>\n",
              "      <th>1</th>\n",
              "      <td>0000247867823ef7</td>\n",
              "      <td>== From RfC == \\n\\n The title is fine as it is...</td>\n",
              "      <td>rfc title fine going</td>\n",
              "      <td>rfc title fine going</td>\n",
              "      <td>4</td>\n",
              "    </tr>\n",
              "  </tbody>\n",
              "</table>\n",
              "</div>"
            ],
            "text/plain": [
              "                 id  ... len-2-trans\n",
              "0  00001cee341fdb12  ...          42\n",
              "1  0000247867823ef7  ...           4\n",
              "\n",
              "[2 rows x 5 columns]"
            ]
          },
          "metadata": {
            "tags": []
          }
        },
        {
          "output_type": "execute_result",
          "data": {
            "text/plain": [
              "(None, None)"
            ]
          },
          "metadata": {
            "tags": []
          },
          "execution_count": 66
        }
      ]
    },
    {
      "cell_type": "code",
      "metadata": {
        "id": "4Pe4zQPJoYC0"
      },
      "source": [
        "train.to_csv('/content/drive/Shareddrives/SOGANG Parrot/Ho-colab/0407-add-len-translated_train.csv',index=False)\n",
        "test.to_csv('/content/drive/Shareddrives/SOGANG Parrot/Ho-colab/0407-add-len-translated_test.csv',index=False)"
      ],
      "execution_count": null,
      "outputs": []
    },
    {
      "cell_type": "code",
      "metadata": {
        "id": "loHqfjKOsR2m"
      },
      "source": [
        "train = pd.read_csv('/content/drive/Shareddrives/SOGANG Parrot/Ho-colab/0407-add-len-translated_train.csv')\n",
        "test = pd.read_csv('/content/drive/Shareddrives/SOGANG Parrot/Ho-colab/0407-add-len-translated_test.csv')"
      ],
      "execution_count": null,
      "outputs": []
    },
    {
      "cell_type": "markdown",
      "metadata": {
        "id": "gJ4JW7NohTVI"
      },
      "source": [
        "-------"
      ]
    },
    {
      "cell_type": "markdown",
      "metadata": {
        "id": "PGIjhyu_hVPQ"
      },
      "source": [
        "# Tokenization"
      ]
    },
    {
      "cell_type": "code",
      "metadata": {
        "id": "FMoDXTJehYNw"
      },
      "source": [
        "list_sentences_train = train['2-trans'] # (159571,)\n",
        "list_sentences_test = test['2-trans'] # (153164,)"
      ],
      "execution_count": null,
      "outputs": []
    },
    {
      "cell_type": "code",
      "metadata": {
        "colab": {
          "base_uri": "https://localhost:8080/"
        },
        "id": "eWQbgv_1hik8",
        "outputId": "d2a0fa0c-7981-4696-f4aa-162e8dcb8ed4"
      },
      "source": [
        "max_features = 100000\n",
        "tokenizer = Tokenizer(num_words=max_features)\n",
        "tokenizer.fit_on_texts(list_sentences_train)\n",
        "list_tokenized_train = tokenizer.texts_to_sequences(list_sentences_train)\n",
        "# list_tokenized_train[:1] = [[688,75,1,126,130, ,,, ]]\n",
        "list_tokenized_test = tokenizer.texts_to_sequences(list_sentences_test)\n",
        "# list_tokenized_test[:1] = [[2665,655,8849,656, ,,, ]]\n",
        "\n",
        "# tokenizer.word_counts = OrderedDict([('explanation', 1771),('why', 17818),('the', 496540),('edits', 9957), ,,, ])\n",
        "# tokenizer.word_index = {'the': 1,'to': 2,'of': 3,'and': 4, ,,, }\n",
        "len(tokenizer.word_index)"
      ],
      "execution_count": null,
      "outputs": [
        {
          "output_type": "execute_result",
          "data": {
            "text/plain": [
              "172069"
            ]
          },
          "metadata": {
            "tags": []
          },
          "execution_count": 72
        }
      ]
    },
    {
      "cell_type": "markdown",
      "metadata": {
        "id": "ByM7se5EhmrM"
      },
      "source": [
        "--------"
      ]
    },
    {
      "cell_type": "markdown",
      "metadata": {
        "id": "YY7lPKtqhnuN"
      },
      "source": [
        "# Padding"
      ]
    },
    {
      "cell_type": "code",
      "metadata": {
        "colab": {
          "base_uri": "https://localhost:8080/"
        },
        "id": "zabRpFxUayeQ",
        "outputId": "36384d28-4797-4e84-84d0-829c5ee6940e"
      },
      "source": [
        "train['len-2-trans'].quantile([.8])"
      ],
      "execution_count": null,
      "outputs": [
        {
          "output_type": "execute_result",
          "data": {
            "text/plain": [
              "0.8    46.0\n",
              "Name: len-2-trans, dtype: float64"
            ]
          },
          "metadata": {
            "tags": []
          },
          "execution_count": 6
        }
      ]
    },
    {
      "cell_type": "code",
      "metadata": {
        "colab": {
          "base_uri": "https://localhost:8080/",
          "height": 265
        },
        "id": "F-TxSrRhYeEL",
        "outputId": "26ca5737-3e17-4fa1-afe7-dae8fa3a5ad6"
      },
      "source": [
        "plt.hist(train['len-2-trans'].value_counts(),bins = np.arange(0,1250,50))\n",
        "plt.show()"
      ],
      "execution_count": null,
      "outputs": [
        {
          "output_type": "display_data",
          "data": {
            "image/png": "[encoded data removed]",
            "text/plain": [
              "<Figure size 432x288 with 1 Axes>"
            ]
          },
          "metadata": {
            "tags": [],
            "needs_background": "light"
          }
        }
      ]
    },
    {
      "cell_type": "code",
      "metadata": {
        "colab": {
          "base_uri": "https://localhost:8080/"
        },
        "id": "F-GA0fKVCySO",
        "outputId": "9eba9f4e-bf67-48c4-8748-fca8957b0498"
      },
      "source": [
        "test['len-2-trans'].quantile([.8])"
      ],
      "execution_count": null,
      "outputs": [
        {
          "output_type": "execute_result",
          "data": {
            "text/plain": [
              "0.8    42.0\n",
              "Name: len-2-trans, dtype: float64"
            ]
          },
          "metadata": {
            "tags": []
          },
          "execution_count": 8
        }
      ]
    },
    {
      "cell_type": "code",
      "metadata": {
        "colab": {
          "base_uri": "https://localhost:8080/",
          "height": 265
        },
        "id": "TGXa_tt_C1tR",
        "outputId": "5960b873-9380-4e8d-ff00-d77dab2ebc50"
      },
      "source": [
        "plt.hist(test['len-2-trans'].value_counts(),bins = np.arange(0,1250,50))\n",
        "plt.show()"
      ],
      "execution_count": null,
      "outputs": [
        {
          "output_type": "display_data",
          "data": {
            "image/png": "[encoded data removed]",
            "text/plain": [
              "<Figure size 432x288 with 1 Axes>"
            ]
          },
          "metadata": {
            "tags": [],
            "needs_background": "light"
          }
        }
      ]
    },
    {
      "cell_type": "code",
      "metadata": {
        "colab": {
          "base_uri": "https://localhost:8080/"
        },
        "id": "YKm4tTX5hsu8",
        "outputId": "04274cbf-f907-4e74-f5fd-1fc2903eeaab"
      },
      "source": [
        "maxlen = 50\n",
        "X_t = pad_sequences(list_tokenized_train, maxlen=maxlen) # (159571, 50)\n",
        "X_te = pad_sequences(list_tokenized_test, maxlen=maxlen) # (153164, 50)\n",
        "\n",
        "X_t.shape"
      ],
      "execution_count": null,
      "outputs": [
        {
          "output_type": "execute_result",
          "data": {
            "text/plain": [
              "(159571, 50)"
            ]
          },
          "metadata": {
            "tags": []
          },
          "execution_count": 73
        }
      ]
    },
    {
      "cell_type": "code",
      "metadata": {
        "colab": {
          "base_uri": "https://localhost:8080/"
        },
        "id": "tOj2nGyuhwkt",
        "outputId": "25d3579e-005a-4346-b7d6-702ec005588d"
      },
      "source": [
        "list_classes = [\"toxic\", \"severe_toxic\", \"obscene\", \"threat\", \"insult\", \"identity_hate\"]\n",
        "y = train[list_classes].values # y.shape (159571, 6)\n",
        "y.shape"
      ],
      "execution_count": null,
      "outputs": [
        {
          "output_type": "execute_result",
          "data": {
            "text/plain": [
              "(159571, 6)"
            ]
          },
          "metadata": {
            "tags": []
          },
          "execution_count": 74
        }
      ]
    },
    {
      "cell_type": "markdown",
      "metadata": {
        "id": "gQtIGiKfhy9M"
      },
      "source": [
        "-----------"
      ]
    },
    {
      "cell_type": "markdown",
      "metadata": {
        "id": "LyWpSWCzhz5g"
      },
      "source": [
        "# Pretrained-Embedding-matrix"
      ]
    },
    {
      "cell_type": "code",
      "metadata": {
        "colab": {
          "base_uri": "https://localhost:8080/"
        },
        "id": "fM7zTX0lh26b",
        "outputId": "9d84a543-a7b0-44d1-ed7c-d533260696b2"
      },
      "source": [
        "embedding_dict = dict()\n",
        "f = open('/content/drive/Shareddrives/SOGANG Parrot/Pretrained-Embedding-Vector/glove.twitter.27B.200d.txt/glove.twitter.27B.200d.txt', encoding=\"utf8\")\n",
        "\n",
        "for line in f:\n",
        "    word_vector = line.split()\n",
        "    word = word_vector[0]\n",
        "    word_vector_arr = np.asarray(word_vector[1:], dtype='float32') # 200\n",
        "    embedding_dict[word] = word_vector_arr\n",
        "f.close()\n",
        "print('There are %s Embedding Vectors\\n' % len(embedding_dict))\n",
        "\n",
        "print(embedding_dict['respectable'])\n",
        "print(len(embedding_dict['respectable']))\n",
        "\n",
        "embedding_matrix = np.zeros((len(tokenizer.word_index)+1, 200)) # will delete first row\n",
        "\n",
        "for word, i in tokenizer.word_index.items(): \n",
        "    temp = embedding_dict.get(word) \n",
        "    if temp is not None:\n",
        "        embedding_matrix[i] = temp \n",
        "\n",
        "print(embedding_matrix.shape)\n",
        "embedding_matrix = np.delete(embedding_matrix,0,axis=0) # delete first row\n",
        "print(embedding_matrix.shape)"
      ],
      "execution_count": null,
      "outputs": [
        {
          "output_type": "stream",
          "text": [
            "There are 1193514 Embedding Vectors\n",
            "\n",
            "[-6.4748e-01 -3.7296e-01 -3.6128e-01  7.9975e-01 -2.1890e-01  7.6152e-01\n",
            " -7.3698e-02  2.2635e-01 -7.5429e-02  6.3600e-01 -6.5914e-01 -5.1787e-01\n",
            " -6.4411e-02 -3.0796e-01  4.4071e-01  1.4543e-01 -9.9792e-02 -2.3253e-01\n",
            "  2.0882e-01 -9.3256e-02 -2.9659e-01 -1.6643e-01 -1.3184e-01 -5.5247e-01\n",
            " -6.0625e-01  9.6745e-01  3.8410e-01 -1.4236e-02  2.8774e-01  7.5652e-01\n",
            "  1.1552e-01 -4.9894e-01 -9.2585e-02 -6.7708e-02  3.1373e-01  5.6426e-01\n",
            "  1.9797e-01  4.0703e-02  2.7106e-01 -3.3045e-01  3.9652e-01  1.3718e-01\n",
            "  5.0194e-01  3.7811e-01  2.9139e-01  2.6001e-01  2.9927e-01  3.6737e-01\n",
            "  1.0638e-01  3.7086e-01  2.3767e-02  6.4266e-01 -2.4067e-01 -3.1749e-01\n",
            " -3.4070e-01  9.3053e-01  1.8900e-01 -2.7260e-01 -3.5132e-01  1.4086e-01\n",
            " -1.6232e-01  8.7983e-03 -8.7401e-02 -1.2887e-01  2.5303e-01  9.0737e-01\n",
            " -3.3149e-01  5.8059e-02 -2.3855e-01  3.5351e-01 -3.8560e-01 -4.6745e-01\n",
            " -2.2487e-01 -1.9058e-01  3.4685e-02  4.1231e-01  9.3602e-02  2.0409e-01\n",
            " -2.4806e-01  1.3415e-01 -3.3103e-02 -1.3584e-01 -2.3476e-01 -8.4288e-02\n",
            "  4.6286e-01  3.8784e-01  4.4430e-01 -2.8609e-01 -2.7041e-01 -1.9235e-01\n",
            " -1.5831e-01  9.8357e-01 -2.6385e-01  5.4559e-01  3.3843e-01  3.2157e-01\n",
            "  7.3296e-01  1.0803e-01  6.5516e-01 -3.0074e-01  2.4091e-01 -2.8064e-02\n",
            " -3.1438e-01  2.2706e-01  6.0407e-01 -1.7941e-01  3.4237e-01 -8.2516e-02\n",
            "  6.8829e-02  1.9141e-01 -3.7076e-03  1.6319e-01  5.8710e-01  9.7778e-02\n",
            " -2.8883e-02 -1.4038e-01 -4.6740e-01  5.2499e-01  2.3336e-01  5.9216e-01\n",
            " -2.7878e-02  2.9111e-01 -6.0881e-01  1.0899e-01 -4.5522e-02  2.3117e-01\n",
            "  5.4563e-01 -5.5960e-01  2.9627e-01 -3.6436e-02 -6.6415e-01  7.2335e-02\n",
            "  2.1310e-01 -4.0450e-01 -2.6190e-02  3.4587e-01  8.3901e-02 -2.2964e-01\n",
            "  2.6786e-01  2.4783e-01  3.5687e-01  7.0495e-01  1.3507e-01 -5.8846e-02\n",
            "  2.4553e-01  2.3232e-01  3.1930e-01 -1.6204e-01  4.9869e-01 -7.8123e-02\n",
            " -8.7849e-02  2.2856e-01 -1.3048e+00  1.1218e-01  4.2665e-01 -3.1402e-01\n",
            " -3.2848e-02 -1.4033e-01 -1.8119e-01  8.1331e-01  2.2846e-02  2.2617e-01\n",
            " -2.1585e-01  1.7529e-02  1.8789e-01 -3.3444e-01 -4.4278e-01 -1.8998e-01\n",
            "  2.8810e-01 -4.6224e-02  1.0201e+00 -5.7756e-01 -2.7032e-01  3.2498e-02\n",
            " -2.1147e-01  1.8717e-01  1.5862e-01 -6.0124e-01 -2.0705e-01  8.3816e-02\n",
            " -4.2300e-01 -1.5713e-01 -1.6955e-01 -4.6085e-01 -2.1368e-01  2.4863e-01\n",
            " -4.2403e-01 -1.9565e-01 -3.7347e-01 -1.8980e-01  3.9056e-04  1.1618e-01\n",
            "  5.5893e-01 -3.8291e-01  2.1319e-01 -6.4864e-01  1.2915e-01  5.3299e-02\n",
            "  5.7116e-02 -1.1572e+00]\n",
            "200\n",
            "(172070, 200)\n",
            "(172069, 200)\n"
          ],
          "name": "stdout"
        }
      ]
    },
    {
      "cell_type": "code",
      "metadata": {
        "id": "DuXn4w3WiH6o"
      },
      "source": [
        "np.save('/content/drive/Shareddrives/SOGANG Parrot/Pretrained-Embedding-Vector/0407-add-len-translated-preprocessing-200d-pretrained-embed-Glove.npy',embedding_matrix)"
      ],
      "execution_count": null,
      "outputs": []
    },
    {
      "cell_type": "code",
      "metadata": {
        "colab": {
          "base_uri": "https://localhost:8080/"
        },
        "id": "WMrt-MbRiOom",
        "outputId": "1db3442f-c174-4dec-fac1-d25df9bdef8a"
      },
      "source": [
        "embedding_matrix = np.load('/content/drive/Shareddrives/SOGANG Parrot/Pretrained-Embedding-Vector/0407-add-len-translated-preprocessing-200d-pretrained-embed-Glove.npy')\n",
        "embedding_matrix.shape"
      ],
      "execution_count": null,
      "outputs": [
        {
          "output_type": "execute_result",
          "data": {
            "text/plain": [
              "(172069, 200)"
            ]
          },
          "metadata": {
            "tags": []
          },
          "execution_count": 77
        }
      ]
    },
    {
      "cell_type": "markdown",
      "metadata": {
        "id": "6ibWUXrziUD1"
      },
      "source": [
        "-------------"
      ]
    },
    {
      "cell_type": "markdown",
      "metadata": {
        "id": "TPUrD7oBiVGN"
      },
      "source": [
        "# Model"
      ]
    },
    {
      "cell_type": "code",
      "metadata": {
        "id": "tzcqKID-iXkF"
      },
      "source": [
        "inp = Input(shape=(maxlen, )) #maxlen=70\n",
        "x = Embedding(len(tokenizer.word_index), embedding_matrix.shape[1],\n",
        "              weights=[embedding_matrix],trainable=False)(inp)\n",
        "x = SpatialDropout1D(0.2)(x)\n",
        "x = Bidirectional(GRU(128, return_sequences=True))(x)\n",
        "x = Bidirectional(LSTM(128, return_sequences=True))(x)\n",
        "avg_pool = GlobalMaxPooling1D()(x)\n",
        "max_pool = GlobalAveragePooling1D()(x)\n",
        "conc = concatenate([avg_pool, max_pool])\n",
        "conc = add([conc, Dense(512, activation='relu')(conc)])\n",
        "conc = add([conc, Dense(512, activation='relu')(conc)])\n",
        "x = Dense(6, activation=\"sigmoid\")(conc)"
      ],
      "execution_count": null,
      "outputs": []
    },
    {
      "cell_type": "code",
      "metadata": {
        "id": "SMQKwx0Hicxd"
      },
      "source": [
        "model = Model(inputs=inp, outputs=x)\n",
        "model.compile(loss='binary_crossentropy',\n",
        "                  optimizer='adam',\n",
        "                  metrics=['accuracy'])"
      ],
      "execution_count": null,
      "outputs": []
    },
    {
      "cell_type": "code",
      "metadata": {
        "colab": {
          "base_uri": "https://localhost:8080/"
        },
        "id": "3DhIVaSuic0C",
        "outputId": "2623c318-1d65-4bec-c6fc-8f734ee9b568"
      },
      "source": [
        "model.summary()"
      ],
      "execution_count": null,
      "outputs": [
        {
          "output_type": "stream",
          "text": [
            "Model: \"model\"\n",
            "__________________________________________________________________________________________________\n",
            "Layer (type)                    Output Shape         Param #     Connected to                     \n",
            "==================================================================================================\n",
            "input_1 (InputLayer)            [(None, 50)]         0                                            \n",
            "__________________________________________________________________________________________________\n",
            "embedding (Embedding)           (None, 50, 200)      34413800    input_1[0][0]                    \n",
            "__________________________________________________________________________________________________\n",
            "spatial_dropout1d (SpatialDropo (None, 50, 200)      0           embedding[0][0]                  \n",
            "__________________________________________________________________________________________________\n",
            "bidirectional (Bidirectional)   (None, 50, 256)      253440      spatial_dropout1d[0][0]          \n",
            "__________________________________________________________________________________________________\n",
            "bidirectional_1 (Bidirectional) (None, 50, 256)      394240      bidirectional[0][0]              \n",
            "__________________________________________________________________________________________________\n",
            "global_max_pooling1d (GlobalMax (None, 256)          0           bidirectional_1[0][0]            \n",
            "__________________________________________________________________________________________________\n",
            "global_average_pooling1d (Globa (None, 256)          0           bidirectional_1[0][0]            \n",
            "__________________________________________________________________________________________________\n",
            "concatenate (Concatenate)       (None, 512)          0           global_max_pooling1d[0][0]       \n",
            "                                                                 global_average_pooling1d[0][0]   \n",
            "__________________________________________________________________________________________________\n",
            "dense (Dense)                   (None, 512)          262656      concatenate[0][0]                \n",
            "__________________________________________________________________________________________________\n",
            "add (Add)                       (None, 512)          0           concatenate[0][0]                \n",
            "                                                                 dense[0][0]                      \n",
            "__________________________________________________________________________________________________\n",
            "dense_1 (Dense)                 (None, 512)          262656      add[0][0]                        \n",
            "__________________________________________________________________________________________________\n",
            "add_1 (Add)                     (None, 512)          0           add[0][0]                        \n",
            "                                                                 dense_1[0][0]                    \n",
            "__________________________________________________________________________________________________\n",
            "dense_2 (Dense)                 (None, 6)            3078        add_1[0][0]                      \n",
            "==================================================================================================\n",
            "Total params: 35,589,870\n",
            "Trainable params: 1,176,070\n",
            "Non-trainable params: 34,413,800\n",
            "__________________________________________________________________________________________________\n"
          ],
          "name": "stdout"
        }
      ]
    },
    {
      "cell_type": "code",
      "metadata": {
        "colab": {
          "base_uri": "https://localhost:8080/"
        },
        "id": "IjzXcYExixgM",
        "outputId": "10c153d9-0aaa-4733-deee-0785abb53c96"
      },
      "source": [
        "tf.keras.backend.clear_session()\n",
        "\n",
        "from tensorflow.keras.callbacks import ModelCheckpoint\n",
        "#checkpoint\n",
        "checkpoint = ModelCheckpoint(filepath='/content/drive/Shareddrives/SOGANG Parrot/Trained-Model/0407-add-len-translated-prprocessing-pretrained-embed-Glove.hdf5', monitor='val_loss', verbose=1, save_best_only=True)\n",
        "\n",
        "batch_size = 64\n",
        "epochs = 10\n",
        "hist = model.fit(X_t,y, batch_size=batch_size, epochs=epochs, callbacks=[checkpoint], validation_split=0.1)"
      ],
      "execution_count": null,
      "outputs": [
        {
          "output_type": "stream",
          "text": [
            "Epoch 1/10\n",
            "2244/2244 [==============================] - 78s 19ms/step - loss: 0.1012 - accuracy: 0.9537 - val_loss: 0.0664 - val_accuracy: 0.9940\n",
            "\n",
            "Epoch 00001: val_loss improved from inf to 0.06642, saving model to /content/drive/Shareddrives/SOGANG Parrot/Trained-Model/0407-add-len-translated-prprocessing-pretrained-embed-Glove.hdf5\n",
            "Epoch 2/10\n",
            "2244/2244 [==============================] - 41s 18ms/step - loss: 0.0632 - accuracy: 0.9935 - val_loss: 0.0603 - val_accuracy: 0.9936\n",
            "\n",
            "Epoch 00002: val_loss improved from 0.06642 to 0.06033, saving model to /content/drive/Shareddrives/SOGANG Parrot/Trained-Model/0407-add-len-translated-prprocessing-pretrained-embed-Glove.hdf5\n",
            "Epoch 3/10\n",
            "2244/2244 [==============================] - 41s 18ms/step - loss: 0.0539 - accuracy: 0.9929 - val_loss: 0.0585 - val_accuracy: 0.9940\n",
            "\n",
            "Epoch 00003: val_loss improved from 0.06033 to 0.05850, saving model to /content/drive/Shareddrives/SOGANG Parrot/Trained-Model/0407-add-len-translated-prprocessing-pretrained-embed-Glove.hdf5\n",
            "Epoch 4/10\n",
            "2244/2244 [==============================] - 41s 18ms/step - loss: 0.0503 - accuracy: 0.9938 - val_loss: 0.0581 - val_accuracy: 0.9898\n",
            "\n",
            "Epoch 00004: val_loss improved from 0.05850 to 0.05806, saving model to /content/drive/Shareddrives/SOGANG Parrot/Trained-Model/0407-add-len-translated-prprocessing-pretrained-embed-Glove.hdf5\n",
            "Epoch 5/10\n",
            "2244/2244 [==============================] - 41s 18ms/step - loss: 0.0463 - accuracy: 0.9909 - val_loss: 0.0564 - val_accuracy: 0.9925\n",
            "\n",
            "Epoch 00005: val_loss improved from 0.05806 to 0.05636, saving model to /content/drive/Shareddrives/SOGANG Parrot/Trained-Model/0407-add-len-translated-prprocessing-pretrained-embed-Glove.hdf5\n",
            "Epoch 6/10\n",
            "2244/2244 [==============================] - 40s 18ms/step - loss: 0.0429 - accuracy: 0.9896 - val_loss: 0.0580 - val_accuracy: 0.9928\n",
            "\n",
            "Epoch 00006: val_loss did not improve from 0.05636\n",
            "Epoch 7/10\n",
            "2244/2244 [==============================] - 39s 18ms/step - loss: 0.0393 - accuracy: 0.9884 - val_loss: 0.0578 - val_accuracy: 0.9931\n",
            "\n",
            "Epoch 00007: val_loss did not improve from 0.05636\n",
            "Epoch 8/10\n",
            "2244/2244 [==============================] - 39s 18ms/step - loss: 0.0364 - accuracy: 0.9905 - val_loss: 0.0602 - val_accuracy: 0.9413\n",
            "\n",
            "Epoch 00008: val_loss did not improve from 0.05636\n",
            "Epoch 9/10\n",
            "2244/2244 [==============================] - 39s 18ms/step - loss: 0.0345 - accuracy: 0.9827 - val_loss: 0.0631 - val_accuracy: 0.9742\n",
            "\n",
            "Epoch 00009: val_loss did not improve from 0.05636\n",
            "Epoch 10/10\n",
            "2244/2244 [==============================] - 39s 17ms/step - loss: 0.0321 - accuracy: 0.9765 - val_loss: 0.0663 - val_accuracy: 0.9890\n",
            "\n",
            "Epoch 00010: val_loss did not improve from 0.05636\n"
          ],
          "name": "stdout"
        }
      ]
    },
    {
      "cell_type": "markdown",
      "metadata": {
        "id": "fxLZVkkPi820"
      },
      "source": [
        "-----------"
      ]
    },
    {
      "cell_type": "markdown",
      "metadata": {
        "id": "wSXm5hQ8i91v"
      },
      "source": [
        "# Prediction"
      ]
    },
    {
      "cell_type": "code",
      "metadata": {
        "id": "vHpkYYMQi_Sw"
      },
      "source": [
        "sample_submission = pd.read_csv(\"/content/drive/Shareddrives/SOGANG Parrot/sample_submission.csv/sample_submission.csv\")\n",
        "\n",
        "sample_submission[list_classes] = model.predict(X_te)\n",
        "\n",
        "sample_submission.to_csv(\"/content/drive/Shareddrives/SOGANG Parrot/All-submission/0407-add-len-translated-prprocessing-pretrained-embed-Glove.csv\", index=False)"
      ],
      "execution_count": null,
      "outputs": []
    },
    {
      "cell_type": "markdown",
      "metadata": {
        "id": "YhCGi-vLmALi"
      },
      "source": [
        "![image.png](data:image/png;base64,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)"
      ]
    },
    {
      "cell_type": "markdown",
      "metadata": {
        "id": "EcW_Ew9CZfUs"
      },
      "source": [
        "------------"
      ]
    },
    {
      "cell_type": "markdown",
      "metadata": {
        "id": "kg2cLk0YZfQq"
      },
      "source": [
        "# TO-DO"
      ]
    },
    {
      "cell_type": "markdown",
      "metadata": {
        "id": "wn6UI4HDsHu0"
      },
      "source": [
        "\n",
        "\n",
        "*   [data-aug](https://www.kaggle.com/jagangupta/stop-the-s-toxic-comments-eda)\n",
        "*   [data-aug-2](https://www.kaggle.com/jpmiller/augmenting-the-data)\n",
        "\n"
      ]
    },
    {
      "cell_type": "code",
      "metadata": {
        "colab": {
          "base_uri": "https://localhost:8080/",
          "height": 195
        },
        "id": "niQyB8c1ZQei",
        "outputId": "94b4cec6-114a-43ee-c90f-71e1a7a0a228"
      },
      "source": [
        "print(np.argmax(train['len-2-trans']))\n",
        "print(len(train['comment_text'][32143].split()))\n",
        "train['comment_text'][32143]"
      ],
      "execution_count": null,
      "outputs": [
        {
          "output_type": "stream",
          "text": [
            "32143\n",
            "1250\n"
          ],
          "name": "stdout"
        },
        {
          "output_type": "execute_result",
          "data": {
            "application/vnd.google.colaboratory.intrinsic+json": {
              "type": "string"
            },
            "text/plain": [
              "'PIG PIG PIG PIG PIG PIG PIG PIG PIG PIG PIG PIG PIG PIG PIG PIG PIG PIG PIG PIG PIG PIG PIG PIG PIG PIG PIG PIG PIG PIG PIG PIG PIG PIG PIG PIG PIG PIG PIG PIG PIG PIG PIG PIG PIG PIG PIG PIG PIG PIG PIG PIG PIG PIG PIG PIG PIG PIG PIG PIG PIG PIG PIG PIG PIG PIG PIG PIG PIG PIG PIG PIG PIG PIG PIG PIG PIG PIG PIG PIG PIG PIG PIG PIG PIG PIG PIG PIG PIG PIG PIG PIG PIG PIG PIG PIG PIG PIG PIG PIG PIG PIG PIG PIG PIG PIG PIG PIG PIG PIG PIG PIG PIG PIG PIG PIG PIG PIG PIG PIG PIG PIG PIG PIG PIG PIG PIG PIG PIG PIG PIG PIG PIG PIG PIG PIG PIG PIG PIG PIG PIG PIG PIG PIG PIG PIG PIG PIG PIG PIG PIG PIG PIG PIG PIG PIG PIG PIG PIG PIG PIG PIG PIG PIG PIG PIG PIG PIG PIG PIG PIG PIG PIG PIG PIG PIG PIG PIG PIG PIG PIG PIG PIG PIG PIG PIG PIG PIG PIG PIG PIG PIG PIG PIG PIG PIG PIG PIG PIG PIG PIG PIG PIG PIG PIG PIG PIG PIG PIG PIG PIG PIG PIG PIG PIG PIG PIG PIG PIG PIG PIG PIG PIG PIG PIG PIG PIG PIG PIG PIG PIG PIG PIG PIG PIG PIG PIG PIG PIG PIG PIG PIG PIG PIG PIG PIG PIG PIG PIG PIG PIG PIG PIG PIG PIG PIG PIG PIG PIG PIG PIG PIG PIG PIG PIG PIG PIG PIG PIG PIG PIG PIG PIG PIG PIG PIG PIG PIG PIG PIG PIG PIG PIG PIG PIG PIG PIG PIG PIG PIG PIG PIG PIG PIG PIG PIG PIG PIG PIG PIG PIG PIG PIG PIG PIG PIG PIG PIG PIG PIG PIG PIG PIG PIG PIG PIG PIG PIG PIG PIG PIG PIG PIG PIG PIG PIG PIG PIG PIG PIG PIG PIG PIG PIG PIG PIG PIG PIG PIG PIG PIG PIG PIG PIG PIG PIG PIG PIG PIG PIG PIG PIG PIG PIG PIG PIG PIG PIG PIG PIG PIG PIG PIG PIG PIG PIG PIG PIG PIG PIG PIG PIG PIG PIG PIG PIG PIG PIG PIG PIG PIG PIG PIG PIG PIG PIG PIG PIG PIG PIG PIG PIG PIG PIG PIG PIG PIG PIG PIG PIG PIG PIG PIG PIG PIG PIG PIG PIG PIG PIG PIG PIG PIG PIG PIG PIG PIG PIG PIG PIG PIG PIG PIG PIG PIG PIG PIG PIG PIG PIG PIG PIG PIG PIG PIG PIG PIG PIG PIG PIG PIG PIG PIG PIG PIG PIG PIG PIG PIG PIG PIG PIG PIG PIG PIG PIG PIG PIG PIG PIG PIG PIG PIG PIG PIG PIG PIG PIG PIG PIG PIG PIG PIG PIG PIG PIG PIG PIG PIG PIG PIG PIG PIG PIG PIG PIG PIG PIG PIG PIG PIG PIG PIG PIG PIG PIG PIG PIG PIG PIG PIG PIG PIG PIG PIG PIG PIG PIG PIG PIG PIG PIG PIG PIG PIG PIG PIG PIG PIG PIG PIG PIG PIG PIG PIG PIG PIG PIG PIG PIG PIG PIG PIG PIG PIG PIG PIG PIG PIG PIG PIG PIG PIG PIG PIG PIG PIG PIG PIG PIG PIG PIG PIG PIG PIG PIG PIG PIG PIG PIG PIG PIG PIG PIG PIG PIG PIG PIG PIG PIG PIG PIG PIG PIG PIG PIG PIG PIG PIG PIG PIG PIG PIG PIG PIG PIG PIG PIG PIG PIG PIG PIG PIG PIG PIG PIG PIG PIG PIG PIG PIG PIG PIG PIG PIG PIG PIG PIG PIG PIG PIG PIG PIG PIG PIG PIG PIG PIG PIG PIG PIG PIG PIG PIG PIG PIG PIG PIG PIG PIG PIG PIG PIG PIG PIG PIG PIG PIG PIG PIG PIG PIG PIG PIG PIG PIG PIG PIG PIG PIG PIG PIG PIG PIG PIG PIG PIG PIG PIG PIG PIG PIG PIG PIG PIG PIG PIG PIG PIG PIG PIG PIG PIG PIG PIG PIG PIG PIG PIG PIG PIG PIG PIG PIG PIG PIG PIG PIG PIG PIG PIG PIG PIG PIG PIG PIG PIG PIG PIG PIG PIG PIG PIG PIG PIG PIG PIG PIG PIG PIG PIG PIG PIG PIG PIG PIG PIG PIG PIG PIG PIG PIG PIG PIG PIG PIG PIG PIG PIG PIG PIG PIG PIG PIG PIG PIG PIG PIG PIG PIG PIG PIG PIG PIG PIG PIG PIG PIG PIG PIG PIG PIG PIG PIG PIG PIG PIG PIG PIG PIG PIG PIG PIG PIG PIG PIG PIG PIG PIG PIG PIG PIG PIG PIG PIG PIG PIG PIG PIG PIG PIG PIG PIG PIG PIG PIG PIG PIG PIG PIG PIG PIG PIG PIG PIG PIG PIG PIG PIG PIG PIG PIG PIG PIG PIG PIG PIG PIG PIG PIG PIG PIG PIG PIG PIG PIG PIG PIG PIG PIG PIG PIG PIG PIG PIG PIG PIG PIG PIG PIG PIG PIG PIG PIG PIG PIG PIG PIG PIG PIG PIG PIG PIG PIG PIG PIG PIG PIG PIG PIG PIG PIG PIG PIG PIG PIG PIG PIG PIG PIG PIG PIG PIG PIG PIG PIG PIG PIG PIG PIG PIG PIG PIG PIG PIG PIG PIG PIG PIG PIG PIG PIG PIG PIG PIG PIG PIG PIG PIG PIG PIG PIG PIG PIG PIG PIG PIG PIG PIG PIG PIG PIG PIG PIG PIG PIG PIG PIG PIG PIG PIG PIG PIG PIG PIG PIG PIG PIG PIG PIG PIG PIG PIG PIG PIG PIG PIG PIG PIG PIG PIG PIG PIG PIG PIG PIG PIG PIG PIG PIG PIG PIG PIG PIG PIG PIG PIG PIG PIG PIG PIG PIG PIG PIG PIG PIG PIG PIG PIG PIG PIG PIG PIG PIG PIG PIG PIG PIG PIG PIG PIG PIG PIG PIG PIG PIG PIG PIG PIG PIG PIG PIG PIG PIG PIG PIG PIG PIG PIG PIG PIG PIG PIG PIG PIG PIG PIG PIG PIG PIG PIG PIG PIG PIG PIG PIG PIG PIG PIG PIG PIG PIG PIG PIG PIG PIG PIG PIG PIG PIG PIG PIG PIG PIG PIG PIG PIG PIG PIG PIG PIG PIG PIG PIG PIG PIG PIG PIG PIG PIG PIG PIG PIG PIG PIG PIG PIG PIG PIG PIG PIG PIG PIG PIG PIG PIG PIG PIG PIG PIG PIG PIG PIG PIG PIG PIG PIG PIG PIG PIG PIG PIG PIG PIG PIG PIG PIG PIG PIG PIG PIG PIG PIG PIG PIG PIG PIG PIG PIG PIG PIG PIG PIG PIG PIG PIG PIG PIG PIG PIG PIG PIG PIG PIG PIG PIG PIG PIG PIG PIG PIG PIG PIG PIG PIG PIG PIG PIG PIG PIG PIG PIG PIG PIG PIG PIG PIG PIG PIG PIG PIG PIG PIG PIG PIG PIG PIG PIG PIG PIG PIG PIG PIG PIG PIG PIG PIG PIG PIG PIG PIG PIG PIG PIG PIG PIG PIG PIG PIG PIG PIG PIG PIG PIG PIG PIG PIG PIG PIG PIG PIG PIG PIG PIG PIG PIG PIG PIG PIG PIG PIG PIG PIG PIG PIG PIG PIG PIG PIG PIG PIG PIG PIG PIG PIG PIG PIG PIG PIG PIG PIG PIG PIG PIG PIG PIG PIG PIG PIG PIG PIG PIG PIG PIG PIG PIG PIG PIG PIG PIG PIG PIG PIG PIG PIG PIG PIG PIG PIG PIG PIG PIG PIG PIG PIG PIG PIG PIG PIG PIG PIG PIG PIG PIG PIG PIG PIG PIG PIG PIG'"
            ]
          },
          "metadata": {
            "tags": []
          },
          "execution_count": 57
        }
      ]
    },
    {
      "cell_type": "markdown",
      "metadata": {
        "id": "SPxXChVDmtFX"
      },
      "source": [
        "# Model change"
      ]
    },
    {
      "cell_type": "code",
      "metadata": {
        "id": "jgoMi9Urm5Jt"
      },
      "source": [
        "train = pd.read_csv('/content/drive/Shareddrives/SOGANG Parrot/Ho-colab/0407-add-len-translated_train.csv')\n",
        "test = pd.read_csv('/content/drive/Shareddrives/SOGANG Parrot/Ho-colab/0407-add-len-translated_test.csv')"
      ],
      "execution_count": null,
      "outputs": []
    },
    {
      "cell_type": "code",
      "metadata": {
        "id": "BLmjT1E1aB6m"
      },
      "source": [
        "list_sentences_train = train['2-trans'] # (159571,)\n",
        "list_sentences_test = test['2-trans'] # (153164,)"
      ],
      "execution_count": null,
      "outputs": []
    },
    {
      "cell_type": "code",
      "metadata": {
        "colab": {
          "base_uri": "https://localhost:8080/"
        },
        "id": "faThCu9OnHws",
        "outputId": "9f2143b4-ba88-484d-be37-a790b7c99fc1"
      },
      "source": [
        "max_features = 100000\n",
        "tokenizer = Tokenizer(num_words=max_features)\n",
        "tokenizer.fit_on_texts(list_sentences_train)\n",
        "list_tokenized_train = tokenizer.texts_to_sequences(list_sentences_train)\n",
        "# list_tokenized_train[:1] = [[688,75,1,126,130, ,,, ]]\n",
        "list_tokenized_test = tokenizer.texts_to_sequences(list_sentences_test)\n",
        "# list_tokenized_test[:1] = [[2665,655,8849,656, ,,, ]]\n",
        "\n",
        "# tokenizer.word_counts = OrderedDict([('explanation', 1771),('why', 17818),('the', 496540),('edits', 9957), ,,, ])\n",
        "# tokenizer.word_index = {'the': 1,'to': 2,'of': 3,'and': 4, ,,, }\n",
        "len(tokenizer.word_index)"
      ],
      "execution_count": null,
      "outputs": [
        {
          "output_type": "execute_result",
          "data": {
            "text/plain": [
              "172069"
            ]
          },
          "metadata": {
            "tags": []
          },
          "execution_count": 6
        }
      ]
    },
    {
      "cell_type": "code",
      "metadata": {
        "colab": {
          "base_uri": "https://localhost:8080/"
        },
        "id": "bwpqD2NenJRJ",
        "outputId": "b8eade04-2ef5-43ca-f97f-b5016b68fb84"
      },
      "source": [
        "maxlen = 50\n",
        "X_t = pad_sequences(list_tokenized_train, maxlen=maxlen) # (159571, 50)\n",
        "X_te = pad_sequences(list_tokenized_test, maxlen=maxlen) # (153164, 50)\n",
        "\n",
        "X_t.shape"
      ],
      "execution_count": null,
      "outputs": [
        {
          "output_type": "execute_result",
          "data": {
            "text/plain": [
              "(159571, 50)"
            ]
          },
          "metadata": {
            "tags": []
          },
          "execution_count": 7
        }
      ]
    },
    {
      "cell_type": "code",
      "metadata": {
        "colab": {
          "base_uri": "https://localhost:8080/"
        },
        "id": "MvbunkYFnL7o",
        "outputId": "abea0007-48c1-4e14-8d9d-1494eb506f12"
      },
      "source": [
        "list_classes = [\"toxic\", \"severe_toxic\", \"obscene\", \"threat\", \"insult\", \"identity_hate\"]\n",
        "y = train[list_classes].values # y.shape (159571, 6)\n",
        "y.shape"
      ],
      "execution_count": null,
      "outputs": [
        {
          "output_type": "execute_result",
          "data": {
            "text/plain": [
              "(159571, 6)"
            ]
          },
          "metadata": {
            "tags": []
          },
          "execution_count": 8
        }
      ]
    },
    {
      "cell_type": "code",
      "metadata": {
        "colab": {
          "base_uri": "https://localhost:8080/"
        },
        "id": "Qnf1ifW5nOLn",
        "outputId": "23288265-2ac6-4ece-fa3b-2bd362bdb422"
      },
      "source": [
        "embedding_matrix = np.load('/content/drive/Shareddrives/SOGANG Parrot/Pretrained-Embedding-Vector/0407-add-len-translated-preprocessing-200d-pretrained-embed-Glove.npy')\n",
        "embedding_matrix.shape"
      ],
      "execution_count": null,
      "outputs": [
        {
          "output_type": "execute_result",
          "data": {
            "text/plain": [
              "(172069, 200)"
            ]
          },
          "metadata": {
            "tags": []
          },
          "execution_count": 9
        }
      ]
    },
    {
      "cell_type": "code",
      "metadata": {
        "id": "iMteE36bnRXP"
      },
      "source": [
        "# new one \n",
        "inp = Input(shape=(maxlen, )) #maxlen=50\n",
        "x = Embedding(len(tokenizer.word_index), embedding_matrix.shape[1],\n",
        "              weights=[embedding_matrix],trainable=False)(inp)\n",
        "x = SpatialDropout1D(0.2)(x)\n",
        "x = Bidirectional(GRU(128, return_sequences=True))(x)\n",
        "x = Bidirectional(GRU(128, return_sequences=True))(x)\n",
        "avg_pool = GlobalMaxPooling1D()(x)\n",
        "max_pool = GlobalAveragePooling1D()(x)\n",
        "conc = concatenate([avg_pool, max_pool])\n",
        "x = Dense(50, activation=\"relu\")(conc)\n",
        "x = Dropout(0.2)(x)\n",
        "x = Dense(6, activation=\"sigmoid\")(x)"
      ],
      "execution_count": null,
      "outputs": []
    },
    {
      "cell_type": "code",
      "metadata": {
        "id": "CwHnmA-cnUiG"
      },
      "source": [
        "model = Model(inputs=inp, outputs=x)\n",
        "model.compile(loss='binary_crossentropy',\n",
        "                  optimizer='adam',\n",
        "                  metrics=['accuracy'])"
      ],
      "execution_count": null,
      "outputs": []
    },
    {
      "cell_type": "code",
      "metadata": {
        "colab": {
          "base_uri": "https://localhost:8080/"
        },
        "id": "yjGFLWyinWdG",
        "outputId": "6085e4ea-c6e6-41f6-bf94-2e71366d38eb"
      },
      "source": [
        "model.summary()"
      ],
      "execution_count": null,
      "outputs": [
        {
          "output_type": "stream",
          "text": [
            "Model: \"model\"\n",
            "__________________________________________________________________________________________________\n",
            "Layer (type)                    Output Shape         Param #     Connected to                     \n",
            "==================================================================================================\n",
            "input_1 (InputLayer)            [(None, 50)]         0                                            \n",
            "__________________________________________________________________________________________________\n",
            "embedding (Embedding)           (None, 50, 200)      34413800    input_1[0][0]                    \n",
            "__________________________________________________________________________________________________\n",
            "spatial_dropout1d (SpatialDropo (None, 50, 200)      0           embedding[0][0]                  \n",
            "__________________________________________________________________________________________________\n",
            "bidirectional (Bidirectional)   (None, 50, 256)      253440      spatial_dropout1d[0][0]          \n",
            "__________________________________________________________________________________________________\n",
            "bidirectional_1 (Bidirectional) (None, 50, 256)      296448      bidirectional[0][0]              \n",
            "__________________________________________________________________________________________________\n",
            "global_max_pooling1d (GlobalMax (None, 256)          0           bidirectional_1[0][0]            \n",
            "__________________________________________________________________________________________________\n",
            "global_average_pooling1d (Globa (None, 256)          0           bidirectional_1[0][0]            \n",
            "__________________________________________________________________________________________________\n",
            "concatenate (Concatenate)       (None, 512)          0           global_max_pooling1d[0][0]       \n",
            "                                                                 global_average_pooling1d[0][0]   \n",
            "__________________________________________________________________________________________________\n",
            "dense (Dense)                   (None, 50)           25650       concatenate[0][0]                \n",
            "__________________________________________________________________________________________________\n",
            "dropout (Dropout)               (None, 50)           0           dense[0][0]                      \n",
            "__________________________________________________________________________________________________\n",
            "dense_1 (Dense)                 (None, 6)            306         dropout[0][0]                    \n",
            "==================================================================================================\n",
            "Total params: 34,989,644\n",
            "Trainable params: 575,844\n",
            "Non-trainable params: 34,413,800\n",
            "__________________________________________________________________________________________________\n"
          ],
          "name": "stdout"
        }
      ]
    },
    {
      "cell_type": "code",
      "metadata": {
        "colab": {
          "base_uri": "https://localhost:8080/"
        },
        "id": "VsOZEAl2nX4r",
        "outputId": "870eb002-8b50-43d1-e387-8b0b65ce3cb3"
      },
      "source": [
        "tf.keras.backend.clear_session()\n",
        "\n",
        "from tensorflow.keras.callbacks import ModelCheckpoint\n",
        "#checkpoint\n",
        "checkpoint = ModelCheckpoint(filepath='/content/drive/Shareddrives/SOGANG Parrot/Trained-Model/0407-ver2-add-len-translated-prprocessing-pretrained-embed-Glove.hdf5', monitor='val_loss', verbose=1, save_best_only=True)\n",
        "\n",
        "batch_size = 64\n",
        "epochs = 10\n",
        "hist = model.fit(X_t,y, batch_size=batch_size, epochs=epochs, callbacks=[checkpoint], validation_split=0.1)"
      ],
      "execution_count": null,
      "outputs": [
        {
          "output_type": "stream",
          "text": [
            "Epoch 1/10\n",
            "2244/2244 [==============================] - 83s 22ms/step - loss: 0.1241 - accuracy: 0.7492 - val_loss: 0.0686 - val_accuracy: 0.9940\n",
            "\n",
            "Epoch 00001: val_loss improved from inf to 0.06858, saving model to /content/drive/Shareddrives/SOGANG Parrot/Trained-Model/0407-ver2-add-len-translated-prprocessing-pretrained-embed-Glove.hdf5\n",
            "Epoch 2/10\n",
            "2244/2244 [==============================] - 48s 21ms/step - loss: 0.0643 - accuracy: 0.9938 - val_loss: 0.0620 - val_accuracy: 0.9940\n",
            "\n",
            "Epoch 00002: val_loss improved from 0.06858 to 0.06205, saving model to /content/drive/Shareddrives/SOGANG Parrot/Trained-Model/0407-ver2-add-len-translated-prprocessing-pretrained-embed-Glove.hdf5\n",
            "Epoch 3/10\n",
            "2244/2244 [==============================] - 48s 21ms/step - loss: 0.0583 - accuracy: 0.9940 - val_loss: 0.0606 - val_accuracy: 0.9940\n",
            "\n",
            "Epoch 00003: val_loss improved from 0.06205 to 0.06065, saving model to /content/drive/Shareddrives/SOGANG Parrot/Trained-Model/0407-ver2-add-len-translated-prprocessing-pretrained-embed-Glove.hdf5\n",
            "Epoch 4/10\n",
            "2244/2244 [==============================] - 48s 21ms/step - loss: 0.0539 - accuracy: 0.9936 - val_loss: 0.0598 - val_accuracy: 0.9940\n",
            "\n",
            "Epoch 00004: val_loss improved from 0.06065 to 0.05977, saving model to /content/drive/Shareddrives/SOGANG Parrot/Trained-Model/0407-ver2-add-len-translated-prprocessing-pretrained-embed-Glove.hdf5\n",
            "Epoch 5/10\n",
            "2244/2244 [==============================] - 48s 22ms/step - loss: 0.0500 - accuracy: 0.9941 - val_loss: 0.0594 - val_accuracy: 0.9940\n",
            "\n",
            "Epoch 00005: val_loss improved from 0.05977 to 0.05941, saving model to /content/drive/Shareddrives/SOGANG Parrot/Trained-Model/0407-ver2-add-len-translated-prprocessing-pretrained-embed-Glove.hdf5\n",
            "Epoch 6/10\n",
            "2244/2244 [==============================] - 48s 21ms/step - loss: 0.0459 - accuracy: 0.9940 - val_loss: 0.0612 - val_accuracy: 0.9940\n",
            "\n",
            "Epoch 00006: val_loss did not improve from 0.05941\n",
            "Epoch 7/10\n",
            "2244/2244 [==============================] - 48s 21ms/step - loss: 0.0430 - accuracy: 0.9938 - val_loss: 0.0605 - val_accuracy: 0.9940\n",
            "\n",
            "Epoch 00007: val_loss did not improve from 0.05941\n",
            "Epoch 8/10\n",
            "2244/2244 [==============================] - 48s 21ms/step - loss: 0.0402 - accuracy: 0.9936 - val_loss: 0.0642 - val_accuracy: 0.9940\n",
            "\n",
            "Epoch 00008: val_loss did not improve from 0.05941\n",
            "Epoch 9/10\n",
            "2244/2244 [==============================] - 48s 21ms/step - loss: 0.0381 - accuracy: 0.9929 - val_loss: 0.0648 - val_accuracy: 0.9940\n",
            "\n",
            "Epoch 00009: val_loss did not improve from 0.05941\n",
            "Epoch 10/10\n",
            "2244/2244 [==============================] - 48s 21ms/step - loss: 0.0357 - accuracy: 0.9934 - val_loss: 0.0649 - val_accuracy: 0.9938\n",
            "\n",
            "Epoch 00010: val_loss did not improve from 0.05941\n"
          ],
          "name": "stdout"
        }
      ]
    },
    {
      "cell_type": "code",
      "metadata": {
        "id": "G3y6JwxCnm_x"
      },
      "source": [
        "sample_submission = pd.read_csv(\"/content/drive/Shareddrives/SOGANG Parrot/sample_submission.csv/sample_submission.csv\")\n",
        "\n",
        "sample_submission[list_classes] = model.predict(X_te)\n",
        "\n",
        "sample_submission.to_csv(\"/content/drive/Shareddrives/SOGANG Parrot/All-submission/0407-ver2-add-len-translated-prprocessing-pretrained-embed-Glove.csv\", index=False)"
      ],
      "execution_count": null,
      "outputs": []
    },
    {
      "cell_type": "markdown",
      "metadata": {
        "id": "2kX3lOrU55dJ"
      },
      "source": [
        "![image.png](data:image/png;base64,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)"
      ]
    },
    {
      "cell_type": "markdown",
      "metadata": {
        "id": "ZoBgh1Dq6GE1"
      },
      "source": [
        "----------"
      ]
    },
    {
      "cell_type": "markdown",
      "metadata": {
        "id": "n1aw53KK6HFw"
      },
      "source": [
        "# Model change\n",
        "\n",
        "첫번째에서 LSTM 만 GRU 로 "
      ]
    },
    {
      "cell_type": "code",
      "metadata": {
        "colab": {
          "base_uri": "https://localhost:8080/"
        },
        "id": "znnFh_g97MdZ",
        "outputId": "69a48e8a-0eb4-475d-a7c1-058019f44061"
      },
      "source": [
        "train = pd.read_csv('/content/drive/Shareddrives/SOGANG Parrot/Ho-colab/0407-add-len-translated_train.csv')\n",
        "test = pd.read_csv('/content/drive/Shareddrives/SOGANG Parrot/Ho-colab/0407-add-len-translated_test.csv')\n",
        "\n",
        "list_sentences_train = train['2-trans'] # (159571,)\n",
        "list_sentences_test = test['2-trans'] # (153164,)\n",
        "\n",
        "max_features = 100000\n",
        "tokenizer = Tokenizer(num_words=max_features)\n",
        "tokenizer.fit_on_texts(list_sentences_train)\n",
        "list_tokenized_train = tokenizer.texts_to_sequences(list_sentences_train)\n",
        "# list_tokenized_train[:1] = [[688,75,1,126,130, ,,, ]]\n",
        "list_tokenized_test = tokenizer.texts_to_sequences(list_sentences_test)\n",
        "# list_tokenized_test[:1] = [[2665,655,8849,656, ,,, ]]\n",
        "\n",
        "# tokenizer.word_counts = OrderedDict([('explanation', 1771),('why', 17818),('the', 496540),('edits', 9957), ,,, ])\n",
        "# tokenizer.word_index = {'the': 1,'to': 2,'of': 3,'and': 4, ,,, }\n",
        "print(len(tokenizer.word_index))\n",
        "\n",
        "maxlen = 50\n",
        "X_t = pad_sequences(list_tokenized_train, maxlen=maxlen) # (159571, 50)\n",
        "X_te = pad_sequences(list_tokenized_test, maxlen=maxlen) # (153164, 50)\n",
        "print(X_t.shape)\n",
        "\n",
        "list_classes = [\"toxic\", \"severe_toxic\", \"obscene\", \"threat\", \"insult\", \"identity_hate\"]\n",
        "y = train[list_classes].values # y.shape (159571, 6)\n",
        "print(y.shape)\n",
        "\n",
        "embedding_matrix = np.load('/content/drive/Shareddrives/SOGANG Parrot/Pretrained-Embedding-Vector/0407-add-len-translated-preprocessing-200d-pretrained-embed-Glove.npy')\n",
        "print(embedding_matrix.shape)"
      ],
      "execution_count": null,
      "outputs": [
        {
          "output_type": "stream",
          "text": [
            "172069\n",
            "(159571, 50)\n",
            "(159571, 6)\n",
            "(172069, 200)\n"
          ],
          "name": "stdout"
        }
      ]
    },
    {
      "cell_type": "code",
      "metadata": {
        "id": "fZqnLeennuIH"
      },
      "source": [
        "inp = Input(shape=(maxlen, )) #maxlen=50\n",
        "x = Embedding(len(tokenizer.word_index), embedding_matrix.shape[1],\n",
        "              weights=[embedding_matrix],trainable=False)(inp)\n",
        "x = SpatialDropout1D(0.1)(x)\n",
        "x = Bidirectional(GRU(128, return_sequences=True))(x)\n",
        "x = Bidirectional(GRU(128, return_sequences=True))(x)\n",
        "avg_pool = GlobalMaxPooling1D()(x)\n",
        "max_pool = GlobalAveragePooling1D()(x)\n",
        "conc = concatenate([avg_pool, max_pool])\n",
        "x = Dense(512, activation=\"relu\")(conc)\n",
        "x = Dropout(0.1)(x)\n",
        "x = Dense(6, activation=\"sigmoid\")(x)"
      ],
      "execution_count": null,
      "outputs": []
    },
    {
      "cell_type": "code",
      "metadata": {
        "colab": {
          "base_uri": "https://localhost:8080/"
        },
        "id": "DSDGtPXr7Jrg",
        "outputId": "e387624d-0e6a-4129-9564-48aa24e81600"
      },
      "source": [
        "model = Model(inputs=inp, outputs=x)\n",
        "model.compile(loss='binary_crossentropy',\n",
        "                  optimizer='adam',\n",
        "                  metrics=['accuracy'])\n",
        "\n",
        "model.summary()"
      ],
      "execution_count": null,
      "outputs": [
        {
          "output_type": "stream",
          "text": [
            "Model: \"model\"\n",
            "__________________________________________________________________________________________________\n",
            "Layer (type)                    Output Shape         Param #     Connected to                     \n",
            "==================================================================================================\n",
            "input_1 (InputLayer)            [(None, 50)]         0                                            \n",
            "__________________________________________________________________________________________________\n",
            "embedding (Embedding)           (None, 50, 200)      34413800    input_1[0][0]                    \n",
            "__________________________________________________________________________________________________\n",
            "spatial_dropout1d (SpatialDropo (None, 50, 200)      0           embedding[0][0]                  \n",
            "__________________________________________________________________________________________________\n",
            "bidirectional (Bidirectional)   (None, 50, 256)      253440      spatial_dropout1d[0][0]          \n",
            "__________________________________________________________________________________________________\n",
            "bidirectional_1 (Bidirectional) (None, 50, 256)      296448      bidirectional[0][0]              \n",
            "__________________________________________________________________________________________________\n",
            "global_max_pooling1d (GlobalMax (None, 256)          0           bidirectional_1[0][0]            \n",
            "__________________________________________________________________________________________________\n",
            "global_average_pooling1d (Globa (None, 256)          0           bidirectional_1[0][0]            \n",
            "__________________________________________________________________________________________________\n",
            "concatenate (Concatenate)       (None, 512)          0           global_max_pooling1d[0][0]       \n",
            "                                                                 global_average_pooling1d[0][0]   \n",
            "__________________________________________________________________________________________________\n",
            "dense (Dense)                   (None, 512)          262656      concatenate[0][0]                \n",
            "__________________________________________________________________________________________________\n",
            "dropout (Dropout)               (None, 512)          0           dense[0][0]                      \n",
            "__________________________________________________________________________________________________\n",
            "dense_1 (Dense)                 (None, 6)            3078        dropout[0][0]                    \n",
            "==================================================================================================\n",
            "Total params: 35,229,422\n",
            "Trainable params: 815,622\n",
            "Non-trainable params: 34,413,800\n",
            "__________________________________________________________________________________________________\n"
          ],
          "name": "stdout"
        }
      ]
    },
    {
      "cell_type": "code",
      "metadata": {
        "colab": {
          "base_uri": "https://localhost:8080/"
        },
        "id": "6YYMliZh71DC",
        "outputId": "a37481de-aae2-4078-eef1-6d8dd71dbb87"
      },
      "source": [
        "tf.keras.backend.clear_session()\n",
        "\n",
        "from tensorflow.keras.callbacks import ModelCheckpoint\n",
        "#checkpoint\n",
        "checkpoint = ModelCheckpoint(filepath='/content/drive/Shareddrives/SOGANG Parrot/Trained-Model/0407-ver3-add-len-translated-prprocessing-pretrained-embed-Glove.hdf5', monitor='val_loss', verbose=1, save_best_only=True)\n",
        "\n",
        "batch_size = 64\n",
        "epochs = 10\n",
        "hist = model.fit(X_t,y, batch_size=batch_size, epochs=epochs, callbacks=[checkpoint], validation_split=0.1)"
      ],
      "execution_count": null,
      "outputs": [
        {
          "output_type": "stream",
          "text": [
            "Epoch 1/10\n",
            "2244/2244 [==============================] - 85s 23ms/step - loss: 0.1035 - accuracy: 0.9284 - val_loss: 0.0648 - val_accuracy: 0.9940\n",
            "\n",
            "Epoch 00001: val_loss improved from inf to 0.06478, saving model to /content/drive/Shareddrives/SOGANG Parrot/Trained-Model/0407-ver3-add-len-translated-prprocessing-pretrained-embed-Glove.hdf5\n",
            "Epoch 2/10\n",
            "2244/2244 [==============================] - 50s 22ms/step - loss: 0.0603 - accuracy: 0.9937 - val_loss: 0.0619 - val_accuracy: 0.9940\n",
            "\n",
            "Epoch 00002: val_loss improved from 0.06478 to 0.06195, saving model to /content/drive/Shareddrives/SOGANG Parrot/Trained-Model/0407-ver3-add-len-translated-prprocessing-pretrained-embed-Glove.hdf5\n",
            "Epoch 3/10\n",
            "2244/2244 [==============================] - 50s 22ms/step - loss: 0.0525 - accuracy: 0.9927 - val_loss: 0.0628 - val_accuracy: 0.9939\n",
            "\n",
            "Epoch 00003: val_loss did not improve from 0.06195\n",
            "Epoch 4/10\n",
            "2244/2244 [==============================] - 49s 22ms/step - loss: 0.0462 - accuracy: 0.9922 - val_loss: 0.0604 - val_accuracy: 0.9939\n",
            "\n",
            "Epoch 00004: val_loss improved from 0.06195 to 0.06037, saving model to /content/drive/Shareddrives/SOGANG Parrot/Trained-Model/0407-ver3-add-len-translated-prprocessing-pretrained-embed-Glove.hdf5\n",
            "Epoch 5/10\n",
            "2244/2244 [==============================] - 49s 22ms/step - loss: 0.0420 - accuracy: 0.9876 - val_loss: 0.0609 - val_accuracy: 0.9936\n",
            "\n",
            "Epoch 00005: val_loss did not improve from 0.06037\n",
            "Epoch 6/10\n",
            "2244/2244 [==============================] - 49s 22ms/step - loss: 0.0371 - accuracy: 0.9836 - val_loss: 0.0631 - val_accuracy: 0.9894\n",
            "\n",
            "Epoch 00006: val_loss did not improve from 0.06037\n",
            "Epoch 7/10\n",
            "2244/2244 [==============================] - 49s 22ms/step - loss: 0.0326 - accuracy: 0.9766 - val_loss: 0.0655 - val_accuracy: 0.9918\n",
            "\n",
            "Epoch 00007: val_loss did not improve from 0.06037\n",
            "Epoch 8/10\n",
            "2244/2244 [==============================] - 49s 22ms/step - loss: 0.0292 - accuracy: 0.9665 - val_loss: 0.0690 - val_accuracy: 0.9762\n",
            "\n",
            "Epoch 00008: val_loss did not improve from 0.06037\n",
            "Epoch 9/10\n",
            "2244/2244 [==============================] - 49s 22ms/step - loss: 0.0258 - accuracy: 0.9101 - val_loss: 0.0752 - val_accuracy: 0.9803\n",
            "\n",
            "Epoch 00009: val_loss did not improve from 0.06037\n",
            "Epoch 10/10\n",
            "2244/2244 [==============================] - 49s 22ms/step - loss: 0.0232 - accuracy: 0.9200 - val_loss: 0.0821 - val_accuracy: 0.9677\n",
            "\n",
            "Epoch 00010: val_loss did not improve from 0.06037\n"
          ],
          "name": "stdout"
        }
      ]
    },
    {
      "cell_type": "code",
      "metadata": {
        "id": "jFx4Eect75GQ"
      },
      "source": [
        "sample_submission = pd.read_csv(\"/content/drive/Shareddrives/SOGANG Parrot/sample_submission.csv/sample_submission.csv\")\n",
        "\n",
        "sample_submission[list_classes] = model.predict(X_te)\n",
        "\n",
        "sample_submission.to_csv(\"/content/drive/Shareddrives/SOGANG Parrot/All-submission/0407-ver3-add-len-translated-prprocessing-pretrained-embed-Glove.csv\", index=False)"
      ],
      "execution_count": null,
      "outputs": []
    },
    {
      "cell_type": "markdown",
      "metadata": {
        "id": "7DYCsy3yCnYO"
      },
      "source": [
        "![image.png](data:image/png;base64,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)"
      ]
    },
    {
      "cell_type": "markdown",
      "metadata": {
        "id": "NluAh6vQD3QO"
      },
      "source": [
        "---------"
      ]
    },
    {
      "cell_type": "markdown",
      "metadata": {
        "id": "enBtd0RTD0-v"
      },
      "source": [
        "# Model change"
      ]
    },
    {
      "cell_type": "code",
      "metadata": {
        "colab": {
          "base_uri": "https://localhost:8080/"
        },
        "id": "BZs6XWQlBk3I",
        "outputId": "6c98465a-6a2c-4853-e42c-fad53e90c87d"
      },
      "source": [
        "train = pd.read_csv('/content/drive/Shareddrives/SOGANG Parrot/Ho-colab/0407-add-len-translated_train.csv')\n",
        "test = pd.read_csv('/content/drive/Shareddrives/SOGANG Parrot/Ho-colab/0407-add-len-translated_test.csv')\n",
        "\n",
        "list_sentences_train = train['2-trans'] # (159571,)\n",
        "list_sentences_test = test['2-trans'] # (153164,)\n",
        "\n",
        "max_features = 100000\n",
        "tokenizer = Tokenizer(num_words=max_features)\n",
        "tokenizer.fit_on_texts(list_sentences_train)\n",
        "list_tokenized_train = tokenizer.texts_to_sequences(list_sentences_train)\n",
        "# list_tokenized_train[:1] = [[688,75,1,126,130, ,,, ]]\n",
        "list_tokenized_test = tokenizer.texts_to_sequences(list_sentences_test)\n",
        "# list_tokenized_test[:1] = [[2665,655,8849,656, ,,, ]]\n",
        "\n",
        "# tokenizer.word_counts = OrderedDict([('explanation', 1771),('why', 17818),('the', 496540),('edits', 9957), ,,, ])\n",
        "# tokenizer.word_index = {'the': 1,'to': 2,'of': 3,'and': 4, ,,, }\n",
        "print(len(tokenizer.word_index))\n",
        "\n",
        "maxlen = 50\n",
        "X_t = pad_sequences(list_tokenized_train, maxlen=maxlen) # (159571, 50)\n",
        "X_te = pad_sequences(list_tokenized_test, maxlen=maxlen) # (153164, 50)\n",
        "print(X_t.shape)\n",
        "\n",
        "list_classes = [\"toxic\", \"severe_toxic\", \"obscene\", \"threat\", \"insult\", \"identity_hate\"]\n",
        "y = train[list_classes].values # y.shape (159571, 6)\n",
        "print(y.shape)\n",
        "\n",
        "embedding_matrix = np.load('/content/drive/Shareddrives/SOGANG Parrot/Pretrained-Embedding-Vector/0407-add-len-translated-preprocessing-200d-pretrained-embed-Glove.npy')\n",
        "print(embedding_matrix.shape)"
      ],
      "execution_count": null,
      "outputs": [
        {
          "output_type": "stream",
          "text": [
            "172069\n",
            "(159571, 50)\n",
            "(159571, 6)\n",
            "(172069, 200)\n"
          ],
          "name": "stdout"
        }
      ]
    },
    {
      "cell_type": "code",
      "metadata": {
        "id": "GqfymPJpD8na"
      },
      "source": [
        "inp = Input(shape=(maxlen, )) #maxlen=50\n",
        "x = Embedding(len(tokenizer.word_index), embedding_matrix.shape[1],\n",
        "              weights=[embedding_matrix],trainable=False)(inp)\n",
        "x = SpatialDropout1D(0.2)(x)\n",
        "x = Bidirectional(GRU(128, return_sequences=True))(x)\n",
        "x = Conv1D(64, 3, padding='valid', kernel_initializer='glorot_uniform')(x)\n",
        "avg_pool = GlobalMaxPooling1D()(x)\n",
        "max_pool = GlobalAveragePooling1D()(x)\n",
        "conc = concatenate([avg_pool, max_pool])\n",
        "x = Dense(128, activation=\"relu\")(conc)\n",
        "x = Dropout(0.1)(x)\n",
        "x = Dense(6, activation=\"sigmoid\")(x)"
      ],
      "execution_count": null,
      "outputs": []
    },
    {
      "cell_type": "code",
      "metadata": {
        "colab": {
          "base_uri": "https://localhost:8080/"
        },
        "id": "vOumfyVUE7dP",
        "outputId": "624959a0-be58-43e1-8801-ba2ede172b06"
      },
      "source": [
        "model = Model(inputs=inp, outputs=x)\n",
        "model.compile(loss='binary_crossentropy',\n",
        "                  optimizer='adam',\n",
        "                  metrics=['accuracy'])\n",
        "\n",
        "model.summary()"
      ],
      "execution_count": null,
      "outputs": [
        {
          "output_type": "stream",
          "text": [
            "Model: \"model\"\n",
            "__________________________________________________________________________________________________\n",
            "Layer (type)                    Output Shape         Param #     Connected to                     \n",
            "==================================================================================================\n",
            "input_1 (InputLayer)            [(None, 50)]         0                                            \n",
            "__________________________________________________________________________________________________\n",
            "embedding (Embedding)           (None, 50, 200)      34413800    input_1[0][0]                    \n",
            "__________________________________________________________________________________________________\n",
            "spatial_dropout1d (SpatialDropo (None, 50, 200)      0           embedding[0][0]                  \n",
            "__________________________________________________________________________________________________\n",
            "bidirectional (Bidirectional)   (None, 50, 256)      253440      spatial_dropout1d[0][0]          \n",
            "__________________________________________________________________________________________________\n",
            "conv1d (Conv1D)                 (None, 48, 64)       49216       bidirectional[0][0]              \n",
            "__________________________________________________________________________________________________\n",
            "global_max_pooling1d (GlobalMax (None, 64)           0           conv1d[0][0]                     \n",
            "__________________________________________________________________________________________________\n",
            "global_average_pooling1d (Globa (None, 64)           0           conv1d[0][0]                     \n",
            "__________________________________________________________________________________________________\n",
            "concatenate (Concatenate)       (None, 128)          0           global_max_pooling1d[0][0]       \n",
            "                                                                 global_average_pooling1d[0][0]   \n",
            "__________________________________________________________________________________________________\n",
            "dense (Dense)                   (None, 128)          16512       concatenate[0][0]                \n",
            "__________________________________________________________________________________________________\n",
            "dropout (Dropout)               (None, 128)          0           dense[0][0]                      \n",
            "__________________________________________________________________________________________________\n",
            "dense_1 (Dense)                 (None, 6)            774         dropout[0][0]                    \n",
            "==================================================================================================\n",
            "Total params: 34,733,742\n",
            "Trainable params: 319,942\n",
            "Non-trainable params: 34,413,800\n",
            "__________________________________________________________________________________________________\n"
          ],
          "name": "stdout"
        }
      ]
    },
    {
      "cell_type": "code",
      "metadata": {
        "colab": {
          "base_uri": "https://localhost:8080/"
        },
        "id": "fqpWaGA9FBHv",
        "outputId": "8dec2199-6ecd-456c-f7ad-32f4ba8e0ce6"
      },
      "source": [
        "tf.keras.backend.clear_session()\n",
        "\n",
        "from tensorflow.keras.callbacks import ModelCheckpoint\n",
        "#checkpoint\n",
        "checkpoint = ModelCheckpoint(filepath='/content/drive/Shareddrives/SOGANG Parrot/Trained-Model/0407-ver4-add-len-translated-prprocessing-pretrained-embed-Glove.hdf5', monitor='val_loss', verbose=1, save_best_only=True)\n",
        "\n",
        "batch_size = 128\n",
        "epochs = 10\n",
        "hist = model.fit(X_t,y, batch_size=batch_size, epochs=epochs, callbacks=[checkpoint], validation_split=0.1)"
      ],
      "execution_count": null,
      "outputs": [
        {
          "output_type": "stream",
          "text": [
            "Epoch 1/10\n",
            "1122/1122 [==============================] - 76s 39ms/step - loss: 0.1207 - accuracy: 0.8557 - val_loss: 0.0720 - val_accuracy: 0.9927\n",
            "\n",
            "Epoch 00001: val_loss improved from inf to 0.07199, saving model to /content/drive/Shareddrives/SOGANG Parrot/Trained-Model/0407-ver4-add-len-translated-prprocessing-pretrained-embed-Glove.hdf5\n",
            "Epoch 2/10\n",
            "1122/1122 [==============================] - 42s 37ms/step - loss: 0.0665 - accuracy: 0.9909 - val_loss: 0.0629 - val_accuracy: 0.9937\n",
            "\n",
            "Epoch 00002: val_loss improved from 0.07199 to 0.06293, saving model to /content/drive/Shareddrives/SOGANG Parrot/Trained-Model/0407-ver4-add-len-translated-prprocessing-pretrained-embed-Glove.hdf5\n",
            "Epoch 3/10\n",
            "1122/1122 [==============================] - 40s 36ms/step - loss: 0.0585 - accuracy: 0.9936 - val_loss: 0.0608 - val_accuracy: 0.9932\n",
            "\n",
            "Epoch 00003: val_loss improved from 0.06293 to 0.06084, saving model to /content/drive/Shareddrives/SOGANG Parrot/Trained-Model/0407-ver4-add-len-translated-prprocessing-pretrained-embed-Glove.hdf5\n",
            "Epoch 4/10\n",
            "1122/1122 [==============================] - 41s 37ms/step - loss: 0.0539 - accuracy: 0.9933 - val_loss: 0.0581 - val_accuracy: 0.9935\n",
            "\n",
            "Epoch 00004: val_loss improved from 0.06084 to 0.05810, saving model to /content/drive/Shareddrives/SOGANG Parrot/Trained-Model/0407-ver4-add-len-translated-prprocessing-pretrained-embed-Glove.hdf5\n",
            "Epoch 5/10\n",
            "1122/1122 [==============================] - 41s 36ms/step - loss: 0.0505 - accuracy: 0.9928 - val_loss: 0.0607 - val_accuracy: 0.9935\n",
            "\n",
            "Epoch 00005: val_loss did not improve from 0.05810\n",
            "Epoch 6/10\n",
            "1122/1122 [==============================] - 40s 36ms/step - loss: 0.0470 - accuracy: 0.9928 - val_loss: 0.0605 - val_accuracy: 0.9938\n",
            "\n",
            "Epoch 00006: val_loss did not improve from 0.05810\n",
            "Epoch 7/10\n",
            "1122/1122 [==============================] - 40s 36ms/step - loss: 0.0449 - accuracy: 0.9919 - val_loss: 0.0601 - val_accuracy: 0.9939\n",
            "\n",
            "Epoch 00007: val_loss did not improve from 0.05810\n",
            "Epoch 8/10\n",
            "1122/1122 [==============================] - 40s 36ms/step - loss: 0.0414 - accuracy: 0.9928 - val_loss: 0.0599 - val_accuracy: 0.9925\n",
            "\n",
            "Epoch 00008: val_loss did not improve from 0.05810\n",
            "Epoch 9/10\n",
            "1122/1122 [==============================] - 40s 36ms/step - loss: 0.0388 - accuracy: 0.9916 - val_loss: 0.0632 - val_accuracy: 0.9916\n",
            "\n",
            "Epoch 00009: val_loss did not improve from 0.05810\n",
            "Epoch 10/10\n",
            "1122/1122 [==============================] - 40s 36ms/step - loss: 0.0374 - accuracy: 0.9902 - val_loss: 0.0614 - val_accuracy: 0.9887\n",
            "\n",
            "Epoch 00010: val_loss did not improve from 0.05810\n"
          ],
          "name": "stdout"
        }
      ]
    },
    {
      "cell_type": "code",
      "metadata": {
        "id": "oBXTSGqDFPFu"
      },
      "source": [
        "sample_submission = pd.read_csv(\"/content/drive/Shareddrives/SOGANG Parrot/sample_submission.csv/sample_submission.csv\")\n",
        "\n",
        "sample_submission[list_classes] = model.predict(X_te)\n",
        "\n",
        "sample_submission.to_csv(\"/content/drive/Shareddrives/SOGANG Parrot/All-submission/0407-ver4-add-len-translated-prprocessing-pretrained-embed-Glove.csv\", index=False)"
      ],
      "execution_count": null,
      "outputs": []
    },
    {
      "cell_type": "markdown",
      "metadata": {
        "id": "TBUus65WG7Oe"
      },
      "source": [
        "![image.png](data:image/png;base64,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)"
      ]
    },
    {
      "cell_type": "markdown",
      "metadata": {
        "id": "8ZvqUnQAZo_J"
      },
      "source": [
        "## HyperParameter change\n",
        "__pad 50 -> 100__"
      ]
    },
    {
      "cell_type": "code",
      "metadata": {
        "colab": {
          "base_uri": "https://localhost:8080/"
        },
        "id": "-BPcCZ2UZ6L2",
        "outputId": "77b8f158-e607-4f0e-a806-be6eabc543ff"
      },
      "source": [
        "train = pd.read_csv('/content/drive/Shareddrives/SOGANG Parrot/Ho-colab/0407-add-len-translated_train.csv')\n",
        "test = pd.read_csv('/content/drive/Shareddrives/SOGANG Parrot/Ho-colab/0407-add-len-translated_test.csv')\n",
        "\n",
        "list_sentences_train = train['2-trans'] # (159571,)\n",
        "list_sentences_test = test['2-trans'] # (153164,)\n",
        "\n",
        "max_features = 100000\n",
        "tokenizer = Tokenizer(num_words=max_features)\n",
        "tokenizer.fit_on_texts(list_sentences_train)\n",
        "list_tokenized_train = tokenizer.texts_to_sequences(list_sentences_train)\n",
        "# list_tokenized_train[:1] = [[688,75,1,126,130, ,,, ]]\n",
        "list_tokenized_test = tokenizer.texts_to_sequences(list_sentences_test)\n",
        "# list_tokenized_test[:1] = [[2665,655,8849,656, ,,, ]]\n",
        "\n",
        "# tokenizer.word_counts = OrderedDict([('explanation', 1771),('why', 17818),('the', 496540),('edits', 9957), ,,, ])\n",
        "# tokenizer.word_index = {'the': 1,'to': 2,'of': 3,'and': 4, ,,, }\n",
        "print(len(tokenizer.word_index))\n",
        "\n",
        "maxlen = 100\n",
        "X_t = pad_sequences(list_tokenized_train, maxlen=maxlen) # (159571, 100)\n",
        "X_te = pad_sequences(list_tokenized_test, maxlen=maxlen) # (153164, 100)\n",
        "print(X_t.shape)\n",
        "\n",
        "list_classes = [\"toxic\", \"severe_toxic\", \"obscene\", \"threat\", \"insult\", \"identity_hate\"]\n",
        "y = train[list_classes].values # y.shape (159571, 6)\n",
        "print(y.shape)\n",
        "\n",
        "embedding_matrix = np.load('/content/drive/Shareddrives/SOGANG Parrot/Pretrained-Embedding-Vector/0407-add-len-translated-preprocessing-200d-pretrained-embed-Glove.npy')\n",
        "print(embedding_matrix.shape)"
      ],
      "execution_count": null,
      "outputs": [
        {
          "output_type": "stream",
          "text": [
            "172069\n",
            "(159571, 100)\n",
            "(159571, 6)\n",
            "(172069, 200)\n"
          ],
          "name": "stdout"
        }
      ]
    },
    {
      "cell_type": "code",
      "metadata": {
        "id": "irHLjk2ibsLt"
      },
      "source": [
        "inp = Input(shape=(maxlen, )) #maxlen=100\n",
        "x = Embedding(len(tokenizer.word_index), embedding_matrix.shape[1],\n",
        "              weights=[embedding_matrix],trainable=False)(inp)\n",
        "x = SpatialDropout1D(0.2)(x)\n",
        "x = Bidirectional(GRU(128, return_sequences=True))(x)\n",
        "x = Conv1D(64, 3, padding='valid', kernel_initializer='glorot_uniform')(x)\n",
        "avg_pool = GlobalMaxPooling1D()(x)\n",
        "max_pool = GlobalAveragePooling1D()(x)\n",
        "conc = concatenate([avg_pool, max_pool])\n",
        "x = Dense(128, activation=\"relu\")(conc)\n",
        "x = Dropout(0.1)(x)\n",
        "x = Dense(6, activation=\"sigmoid\")(x)"
      ],
      "execution_count": null,
      "outputs": []
    },
    {
      "cell_type": "code",
      "metadata": {
        "colab": {
          "base_uri": "https://localhost:8080/"
        },
        "id": "fmOJM1cQbxdY",
        "outputId": "9324226d-92a7-49df-bd99-1b17f277da7b"
      },
      "source": [
        "model = Model(inputs=inp, outputs=x)\n",
        "model.compile(loss='binary_crossentropy',\n",
        "                  optimizer='adam',\n",
        "                  metrics=['accuracy'])\n",
        "\n",
        "model.summary()"
      ],
      "execution_count": null,
      "outputs": [
        {
          "output_type": "stream",
          "text": [
            "Model: \"model\"\n",
            "__________________________________________________________________________________________________\n",
            "Layer (type)                    Output Shape         Param #     Connected to                     \n",
            "==================================================================================================\n",
            "input_1 (InputLayer)            [(None, 100)]        0                                            \n",
            "__________________________________________________________________________________________________\n",
            "embedding (Embedding)           (None, 100, 200)     34413800    input_1[0][0]                    \n",
            "__________________________________________________________________________________________________\n",
            "spatial_dropout1d (SpatialDropo (None, 100, 200)     0           embedding[0][0]                  \n",
            "__________________________________________________________________________________________________\n",
            "bidirectional (Bidirectional)   (None, 100, 256)     253440      spatial_dropout1d[0][0]          \n",
            "__________________________________________________________________________________________________\n",
            "conv1d (Conv1D)                 (None, 98, 64)       49216       bidirectional[0][0]              \n",
            "__________________________________________________________________________________________________\n",
            "global_max_pooling1d (GlobalMax (None, 64)           0           conv1d[0][0]                     \n",
            "__________________________________________________________________________________________________\n",
            "global_average_pooling1d (Globa (None, 64)           0           conv1d[0][0]                     \n",
            "__________________________________________________________________________________________________\n",
            "concatenate (Concatenate)       (None, 128)          0           global_max_pooling1d[0][0]       \n",
            "                                                                 global_average_pooling1d[0][0]   \n",
            "__________________________________________________________________________________________________\n",
            "dense (Dense)                   (None, 128)          16512       concatenate[0][0]                \n",
            "__________________________________________________________________________________________________\n",
            "dropout (Dropout)               (None, 128)          0           dense[0][0]                      \n",
            "__________________________________________________________________________________________________\n",
            "dense_1 (Dense)                 (None, 6)            774         dropout[0][0]                    \n",
            "==================================================================================================\n",
            "Total params: 34,733,742\n",
            "Trainable params: 319,942\n",
            "Non-trainable params: 34,413,800\n",
            "__________________________________________________________________________________________________\n"
          ],
          "name": "stdout"
        }
      ]
    },
    {
      "cell_type": "code",
      "metadata": {
        "colab": {
          "base_uri": "https://localhost:8080/"
        },
        "id": "eRbRZ1RBbzmy",
        "outputId": "b9f7663f-864f-4e10-b296-97d2b059809b"
      },
      "source": [
        "tf.keras.backend.clear_session()\n",
        "\n",
        "from tensorflow.keras.callbacks import ModelCheckpoint\n",
        "#checkpoint\n",
        "checkpoint = ModelCheckpoint(filepath='/content/drive/Shareddrives/SOGANG Parrot/Trained-Model/0407-ver4-1-add-len-translated-prprocessing-pretrained-embed-Glove.hdf5', monitor='val_loss', verbose=1, save_best_only=True)\n",
        "\n",
        "batch_size = 128\n",
        "epochs = 10\n",
        "hist = model.fit(X_t,y, batch_size=batch_size, epochs=epochs, callbacks=[checkpoint], validation_split=0.1)"
      ],
      "execution_count": null,
      "outputs": [
        {
          "output_type": "stream",
          "text": [
            "Epoch 1/10\n",
            "1122/1122 [==============================] - 62s 24ms/step - loss: 0.1225 - accuracy: 0.8315 - val_loss: 0.0685 - val_accuracy: 0.9939\n",
            "\n",
            "Epoch 00001: val_loss improved from inf to 0.06845, saving model to /content/drive/Shareddrives/SOGANG Parrot/Trained-Model/0407-ver4-1-add-len-translated-prprocessing-pretrained-embed-Glove.hdf5\n",
            "Epoch 2/10\n",
            "1122/1122 [==============================] - 27s 24ms/step - loss: 0.0659 - accuracy: 0.9923 - val_loss: 0.0624 - val_accuracy: 0.9937\n",
            "\n",
            "Epoch 00002: val_loss improved from 0.06845 to 0.06236, saving model to /content/drive/Shareddrives/SOGANG Parrot/Trained-Model/0407-ver4-1-add-len-translated-prprocessing-pretrained-embed-Glove.hdf5\n",
            "Epoch 3/10\n",
            "1122/1122 [==============================] - 28s 25ms/step - loss: 0.0575 - accuracy: 0.9927 - val_loss: 0.0592 - val_accuracy: 0.9939\n",
            "\n",
            "Epoch 00003: val_loss improved from 0.06236 to 0.05916, saving model to /content/drive/Shareddrives/SOGANG Parrot/Trained-Model/0407-ver4-1-add-len-translated-prprocessing-pretrained-embed-Glove.hdf5\n",
            "Epoch 4/10\n",
            "1122/1122 [==============================] - 27s 24ms/step - loss: 0.0528 - accuracy: 0.9933 - val_loss: 0.0583 - val_accuracy: 0.9938\n",
            "\n",
            "Epoch 00004: val_loss improved from 0.05916 to 0.05826, saving model to /content/drive/Shareddrives/SOGANG Parrot/Trained-Model/0407-ver4-1-add-len-translated-prprocessing-pretrained-embed-Glove.hdf5\n",
            "Epoch 5/10\n",
            "1122/1122 [==============================] - 27s 24ms/step - loss: 0.0499 - accuracy: 0.9926 - val_loss: 0.0596 - val_accuracy: 0.9937\n",
            "\n",
            "Epoch 00005: val_loss did not improve from 0.05826\n",
            "Epoch 6/10\n",
            "1122/1122 [==============================] - 27s 24ms/step - loss: 0.0473 - accuracy: 0.9930 - val_loss: 0.0591 - val_accuracy: 0.9927\n",
            "\n",
            "Epoch 00006: val_loss did not improve from 0.05826\n",
            "Epoch 7/10\n",
            "1122/1122 [==============================] - 27s 25ms/step - loss: 0.0443 - accuracy: 0.9905 - val_loss: 0.0574 - val_accuracy: 0.9906\n",
            "\n",
            "Epoch 00007: val_loss improved from 0.05826 to 0.05735, saving model to /content/drive/Shareddrives/SOGANG Parrot/Trained-Model/0407-ver4-1-add-len-translated-prprocessing-pretrained-embed-Glove.hdf5\n",
            "Epoch 8/10\n",
            "1122/1122 [==============================] - 28s 25ms/step - loss: 0.0420 - accuracy: 0.9918 - val_loss: 0.0581 - val_accuracy: 0.9927\n",
            "\n",
            "Epoch 00008: val_loss did not improve from 0.05735\n",
            "Epoch 9/10\n",
            "1122/1122 [==============================] - 28s 25ms/step - loss: 0.0394 - accuracy: 0.9904 - val_loss: 0.0592 - val_accuracy: 0.9923\n",
            "\n",
            "Epoch 00009: val_loss did not improve from 0.05735\n",
            "Epoch 10/10\n",
            "1122/1122 [==============================] - 27s 24ms/step - loss: 0.0376 - accuracy: 0.9886 - val_loss: 0.0587 - val_accuracy: 0.9928\n",
            "\n",
            "Epoch 00010: val_loss did not improve from 0.05735\n"
          ],
          "name": "stdout"
        }
      ]
    },
    {
      "cell_type": "code",
      "metadata": {
        "id": "iVc60m-IdgJc"
      },
      "source": [
        "sample_submission = pd.read_csv(\"/content/drive/Shareddrives/SOGANG Parrot/sample_submission.csv/sample_submission.csv\")\n",
        "\n",
        "sample_submission[list_classes] = model.predict(X_te)\n",
        "\n",
        "sample_submission.to_csv(\"/content/drive/Shareddrives/SOGANG Parrot/All-submission/0407-ver4-1-add-len-translated-prprocessing-pretrained-embed-Glove.csv\", index=False)"
      ],
      "execution_count": null,
      "outputs": []
    },
    {
      "cell_type": "markdown",
      "metadata": {
        "id": "uq9I9ytePEta"
      },
      "source": [
        "![image.png](data:image/png;base64,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)"
      ]
    },
    {
      "cell_type": "markdown",
      "metadata": {
        "id": "r1vDL7Lzmyci"
      },
      "source": [
        "## HyperParameter change\n",
        "max_features 100000 -> 30000"
      ]
    },
    {
      "cell_type": "code",
      "metadata": {
        "colab": {
          "base_uri": "https://localhost:8080/"
        },
        "id": "JuM8GkWTm5UP",
        "outputId": "b454c956-8748-494f-c722-a64e3cd79173"
      },
      "source": [
        "train = pd.read_csv('/content/drive/Shareddrives/SOGANG Parrot/Ho-colab/0407-add-len-translated_train.csv')\n",
        "test = pd.read_csv('/content/drive/Shareddrives/SOGANG Parrot/Ho-colab/0407-add-len-translated_test.csv')\n",
        "\n",
        "list_sentences_train = train['2-trans'] # (159571,)\n",
        "list_sentences_test = test['2-trans'] # (153164,)\n",
        "\n",
        "max_features = 30000\n",
        "tokenizer = Tokenizer(num_words=max_features)\n",
        "tokenizer.fit_on_texts(list_sentences_train)\n",
        "list_tokenized_train = tokenizer.texts_to_sequences(list_sentences_train)\n",
        "# list_tokenized_train[:1] = [[688,75,1,126,130, ,,, ]]\n",
        "list_tokenized_test = tokenizer.texts_to_sequences(list_sentences_test)\n",
        "# list_tokenized_test[:1] = [[2665,655,8849,656, ,,, ]]\n",
        "\n",
        "# tokenizer.word_counts = OrderedDict([('explanation', 1771),('why', 17818),('the', 496540),('edits', 9957), ,,, ])\n",
        "# tokenizer.word_index = {'the': 1,'to': 2,'of': 3,'and': 4, ,,, }\n",
        "print(len(tokenizer.word_index))\n",
        "\n",
        "maxlen = 50\n",
        "X_t = pad_sequences(list_tokenized_train, maxlen=maxlen) # (159571, 50)\n",
        "X_te = pad_sequences(list_tokenized_test, maxlen=maxlen) # (153164, 50)\n",
        "print(X_t.shape)\n",
        "\n",
        "list_classes = [\"toxic\", \"severe_toxic\", \"obscene\", \"threat\", \"insult\", \"identity_hate\"]\n",
        "y = train[list_classes].values # y.shape (159571, 6)\n",
        "print(y.shape)\n",
        "\n",
        "embedding_dict = dict()\n",
        "f = open('/content/drive/Shareddrives/SOGANG Parrot/Pretrained-Embedding-Vector/glove.twitter.27B.200d.txt/glove.twitter.27B.200d.txt', encoding=\"utf8\")\n",
        "\n",
        "for line in f:\n",
        "    word_vector = line.split()\n",
        "    word = word_vector[0]\n",
        "    word_vector_arr = np.asarray(word_vector[1:], dtype='float32') # 200\n",
        "    embedding_dict[word] = word_vector_arr\n",
        "f.close()\n",
        "print('There are %s Embedding Vectors\\n' % len(embedding_dict))\n",
        "\n",
        "print(embedding_dict['respectable'])\n",
        "print(len(embedding_dict['respectable']))\n",
        "\n",
        "embedding_matrix = np.zeros((len(tokenizer.word_index)+1, 200)) # will delete first row\n",
        "\n",
        "for word, i in tokenizer.word_index.items(): \n",
        "    temp = embedding_dict.get(word) \n",
        "    if temp is not None:\n",
        "        embedding_matrix[i] = temp \n",
        "\n",
        "print(embedding_matrix.shape)\n",
        "embedding_matrix = np.delete(embedding_matrix,0,axis=0) # delete first row\n",
        "print(embedding_matrix.shape)\n",
        "\n",
        "np.save('/content/drive/Shareddrives/SOGANG Parrot/Pretrained-Embedding-Vector/0407-v2-add-len-translated-preprocessing-200d-pretrained-embed-Glove.npy',embedding_matrix)\n",
        "embedding_matrix = np.load('/content/drive/Shareddrives/SOGANG Parrot/Pretrained-Embedding-Vector/0407-v2-add-len-translated-preprocessing-200d-pretrained-embed-Glove.npy')\n",
        "print(embedding_matrix.shape)"
      ],
      "execution_count": null,
      "outputs": [
        {
          "output_type": "stream",
          "text": [
            "172069\n",
            "(159571, 50)\n",
            "(159571, 6)\n",
            "There are 1193514 Embedding Vectors\n",
            "\n",
            "[-6.4748e-01 -3.7296e-01 -3.6128e-01  7.9975e-01 -2.1890e-01  7.6152e-01\n",
            " -7.3698e-02  2.2635e-01 -7.5429e-02  6.3600e-01 -6.5914e-01 -5.1787e-01\n",
            " -6.4411e-02 -3.0796e-01  4.4071e-01  1.4543e-01 -9.9792e-02 -2.3253e-01\n",
            "  2.0882e-01 -9.3256e-02 -2.9659e-01 -1.6643e-01 -1.3184e-01 -5.5247e-01\n",
            " -6.0625e-01  9.6745e-01  3.8410e-01 -1.4236e-02  2.8774e-01  7.5652e-01\n",
            "  1.1552e-01 -4.9894e-01 -9.2585e-02 -6.7708e-02  3.1373e-01  5.6426e-01\n",
            "  1.9797e-01  4.0703e-02  2.7106e-01 -3.3045e-01  3.9652e-01  1.3718e-01\n",
            "  5.0194e-01  3.7811e-01  2.9139e-01  2.6001e-01  2.9927e-01  3.6737e-01\n",
            "  1.0638e-01  3.7086e-01  2.3767e-02  6.4266e-01 -2.4067e-01 -3.1749e-01\n",
            " -3.4070e-01  9.3053e-01  1.8900e-01 -2.7260e-01 -3.5132e-01  1.4086e-01\n",
            " -1.6232e-01  8.7983e-03 -8.7401e-02 -1.2887e-01  2.5303e-01  9.0737e-01\n",
            " -3.3149e-01  5.8059e-02 -2.3855e-01  3.5351e-01 -3.8560e-01 -4.6745e-01\n",
            " -2.2487e-01 -1.9058e-01  3.4685e-02  4.1231e-01  9.3602e-02  2.0409e-01\n",
            " -2.4806e-01  1.3415e-01 -3.3103e-02 -1.3584e-01 -2.3476e-01 -8.4288e-02\n",
            "  4.6286e-01  3.8784e-01  4.4430e-01 -2.8609e-01 -2.7041e-01 -1.9235e-01\n",
            " -1.5831e-01  9.8357e-01 -2.6385e-01  5.4559e-01  3.3843e-01  3.2157e-01\n",
            "  7.3296e-01  1.0803e-01  6.5516e-01 -3.0074e-01  2.4091e-01 -2.8064e-02\n",
            " -3.1438e-01  2.2706e-01  6.0407e-01 -1.7941e-01  3.4237e-01 -8.2516e-02\n",
            "  6.8829e-02  1.9141e-01 -3.7076e-03  1.6319e-01  5.8710e-01  9.7778e-02\n",
            " -2.8883e-02 -1.4038e-01 -4.6740e-01  5.2499e-01  2.3336e-01  5.9216e-01\n",
            " -2.7878e-02  2.9111e-01 -6.0881e-01  1.0899e-01 -4.5522e-02  2.3117e-01\n",
            "  5.4563e-01 -5.5960e-01  2.9627e-01 -3.6436e-02 -6.6415e-01  7.2335e-02\n",
            "  2.1310e-01 -4.0450e-01 -2.6190e-02  3.4587e-01  8.3901e-02 -2.2964e-01\n",
            "  2.6786e-01  2.4783e-01  3.5687e-01  7.0495e-01  1.3507e-01 -5.8846e-02\n",
            "  2.4553e-01  2.3232e-01  3.1930e-01 -1.6204e-01  4.9869e-01 -7.8123e-02\n",
            " -8.7849e-02  2.2856e-01 -1.3048e+00  1.1218e-01  4.2665e-01 -3.1402e-01\n",
            " -3.2848e-02 -1.4033e-01 -1.8119e-01  8.1331e-01  2.2846e-02  2.2617e-01\n",
            " -2.1585e-01  1.7529e-02  1.8789e-01 -3.3444e-01 -4.4278e-01 -1.8998e-01\n",
            "  2.8810e-01 -4.6224e-02  1.0201e+00 -5.7756e-01 -2.7032e-01  3.2498e-02\n",
            " -2.1147e-01  1.8717e-01  1.5862e-01 -6.0124e-01 -2.0705e-01  8.3816e-02\n",
            " -4.2300e-01 -1.5713e-01 -1.6955e-01 -4.6085e-01 -2.1368e-01  2.4863e-01\n",
            " -4.2403e-01 -1.9565e-01 -3.7347e-01 -1.8980e-01  3.9056e-04  1.1618e-01\n",
            "  5.5893e-01 -3.8291e-01  2.1319e-01 -6.4864e-01  1.2915e-01  5.3299e-02\n",
            "  5.7116e-02 -1.1572e+00]\n",
            "200\n",
            "(172070, 200)\n",
            "(172069, 200)\n",
            "(172069, 200)\n"
          ],
          "name": "stdout"
        }
      ]
    },
    {
      "cell_type": "code",
      "metadata": {
        "id": "lAcFTJYFnhBy"
      },
      "source": [
        "inp = Input(shape=(maxlen, )) #maxlen=50\n",
        "x = Embedding(len(tokenizer.word_index), embedding_matrix.shape[1],\n",
        "              weights=[embedding_matrix],trainable=False)(inp)\n",
        "x = SpatialDropout1D(0.2)(x)\n",
        "x = Bidirectional(GRU(128, return_sequences=True))(x)\n",
        "x = Conv1D(64, 3, padding='valid', kernel_initializer='glorot_uniform')(x)\n",
        "avg_pool = GlobalMaxPooling1D()(x)\n",
        "max_pool = GlobalAveragePooling1D()(x)\n",
        "conc = concatenate([avg_pool, max_pool])\n",
        "x = Dense(128, activation=\"relu\")(conc)\n",
        "x = Dropout(0.1)(x)\n",
        "x = Dense(6, activation=\"sigmoid\")(x)"
      ],
      "execution_count": null,
      "outputs": []
    },
    {
      "cell_type": "code",
      "metadata": {
        "colab": {
          "base_uri": "https://localhost:8080/"
        },
        "id": "Ia9Eym3Un7sy",
        "outputId": "d3f39364-f589-45c6-8111-fb2f5a2dec59"
      },
      "source": [
        "model = Model(inputs=inp, outputs=x)\n",
        "model.compile(loss='binary_crossentropy',\n",
        "                  optimizer='adam',\n",
        "                  metrics=['accuracy'])\n",
        "\n",
        "model.summary()"
      ],
      "execution_count": null,
      "outputs": [
        {
          "output_type": "stream",
          "text": [
            "Model: \"model\"\n",
            "__________________________________________________________________________________________________\n",
            "Layer (type)                    Output Shape         Param #     Connected to                     \n",
            "==================================================================================================\n",
            "input_1 (InputLayer)            [(None, 50)]         0                                            \n",
            "__________________________________________________________________________________________________\n",
            "embedding (Embedding)           (None, 50, 200)      34413800    input_1[0][0]                    \n",
            "__________________________________________________________________________________________________\n",
            "spatial_dropout1d (SpatialDropo (None, 50, 200)      0           embedding[0][0]                  \n",
            "__________________________________________________________________________________________________\n",
            "bidirectional (Bidirectional)   (None, 50, 256)      253440      spatial_dropout1d[0][0]          \n",
            "__________________________________________________________________________________________________\n",
            "conv1d (Conv1D)                 (None, 48, 64)       49216       bidirectional[0][0]              \n",
            "__________________________________________________________________________________________________\n",
            "global_max_pooling1d (GlobalMax (None, 64)           0           conv1d[0][0]                     \n",
            "__________________________________________________________________________________________________\n",
            "global_average_pooling1d (Globa (None, 64)           0           conv1d[0][0]                     \n",
            "__________________________________________________________________________________________________\n",
            "concatenate (Concatenate)       (None, 128)          0           global_max_pooling1d[0][0]       \n",
            "                                                                 global_average_pooling1d[0][0]   \n",
            "__________________________________________________________________________________________________\n",
            "dense (Dense)                   (None, 128)          16512       concatenate[0][0]                \n",
            "__________________________________________________________________________________________________\n",
            "dropout (Dropout)               (None, 128)          0           dense[0][0]                      \n",
            "__________________________________________________________________________________________________\n",
            "dense_1 (Dense)                 (None, 6)            774         dropout[0][0]                    \n",
            "==================================================================================================\n",
            "Total params: 34,733,742\n",
            "Trainable params: 319,942\n",
            "Non-trainable params: 34,413,800\n",
            "__________________________________________________________________________________________________\n"
          ],
          "name": "stdout"
        }
      ]
    },
    {
      "cell_type": "code",
      "metadata": {
        "colab": {
          "base_uri": "https://localhost:8080/"
        },
        "id": "Z3MCS0eCn_Si",
        "outputId": "1fa26ec3-68a3-4ca9-cd30-377b10944ce9"
      },
      "source": [
        "tf.keras.backend.clear_session()\n",
        "\n",
        "from tensorflow.keras.callbacks import ModelCheckpoint\n",
        "#checkpoint\n",
        "checkpoint = ModelCheckpoint(filepath='/content/drive/Shareddrives/SOGANG Parrot/Trained-Model/0407-ver4-v2-add-len-translated-prprocessing-pretrained-embed-Glove.hdf5', monitor='val_loss', verbose=1, save_best_only=True)\n",
        "\n",
        "batch_size = 128\n",
        "epochs = 10\n",
        "hist = model.fit(X_t,y, batch_size=batch_size, epochs=epochs, callbacks=[checkpoint], validation_split=0.1)"
      ],
      "execution_count": null,
      "outputs": [
        {
          "output_type": "stream",
          "text": [
            "Epoch 1/10\n",
            "1122/1122 [==============================] - 45s 36ms/step - loss: 0.1177 - accuracy: 0.8818 - val_loss: 0.0739 - val_accuracy: 0.9939\n",
            "\n",
            "Epoch 00001: val_loss improved from inf to 0.07391, saving model to /content/drive/Shareddrives/SOGANG Parrot/Trained-Model/0407-ver4-v2-add-len-translated-prprocessing-pretrained-embed-Glove.hdf5\n",
            "Epoch 2/10\n",
            "1122/1122 [==============================] - 39s 34ms/step - loss: 0.0658 - accuracy: 0.9931 - val_loss: 0.0630 - val_accuracy: 0.9936\n",
            "\n",
            "Epoch 00002: val_loss improved from 0.07391 to 0.06305, saving model to /content/drive/Shareddrives/SOGANG Parrot/Trained-Model/0407-ver4-v2-add-len-translated-prprocessing-pretrained-embed-Glove.hdf5\n",
            "Epoch 3/10\n",
            "1122/1122 [==============================] - 39s 35ms/step - loss: 0.0583 - accuracy: 0.9924 - val_loss: 0.0608 - val_accuracy: 0.9940\n",
            "\n",
            "Epoch 00003: val_loss improved from 0.06305 to 0.06079, saving model to /content/drive/Shareddrives/SOGANG Parrot/Trained-Model/0407-ver4-v2-add-len-translated-prprocessing-pretrained-embed-Glove.hdf5\n",
            "Epoch 4/10\n",
            "1122/1122 [==============================] - 39s 35ms/step - loss: 0.0537 - accuracy: 0.9935 - val_loss: 0.0592 - val_accuracy: 0.9939\n",
            "\n",
            "Epoch 00004: val_loss improved from 0.06079 to 0.05920, saving model to /content/drive/Shareddrives/SOGANG Parrot/Trained-Model/0407-ver4-v2-add-len-translated-prprocessing-pretrained-embed-Glove.hdf5\n",
            "Epoch 5/10\n",
            "1122/1122 [==============================] - 39s 35ms/step - loss: 0.0510 - accuracy: 0.9939 - val_loss: 0.0591 - val_accuracy: 0.9938\n",
            "\n",
            "Epoch 00005: val_loss improved from 0.05920 to 0.05910, saving model to /content/drive/Shareddrives/SOGANG Parrot/Trained-Model/0407-ver4-v2-add-len-translated-prprocessing-pretrained-embed-Glove.hdf5\n",
            "Epoch 6/10\n",
            "1122/1122 [==============================] - 39s 35ms/step - loss: 0.0477 - accuracy: 0.9927 - val_loss: 0.0594 - val_accuracy: 0.9940\n",
            "\n",
            "Epoch 00006: val_loss did not improve from 0.05910\n",
            "Epoch 7/10\n",
            "1122/1122 [==============================] - 39s 34ms/step - loss: 0.0447 - accuracy: 0.9922 - val_loss: 0.0587 - val_accuracy: 0.9933\n",
            "\n",
            "Epoch 00007: val_loss improved from 0.05910 to 0.05875, saving model to /content/drive/Shareddrives/SOGANG Parrot/Trained-Model/0407-ver4-v2-add-len-translated-prprocessing-pretrained-embed-Glove.hdf5\n",
            "Epoch 8/10\n",
            "1122/1122 [==============================] - 39s 35ms/step - loss: 0.0424 - accuracy: 0.9918 - val_loss: 0.0607 - val_accuracy: 0.9934\n",
            "\n",
            "Epoch 00008: val_loss did not improve from 0.05875\n",
            "Epoch 9/10\n",
            "1122/1122 [==============================] - 39s 34ms/step - loss: 0.0396 - accuracy: 0.9928 - val_loss: 0.0592 - val_accuracy: 0.9816\n",
            "\n",
            "Epoch 00009: val_loss did not improve from 0.05875\n",
            "Epoch 10/10\n",
            "1122/1122 [==============================] - 39s 34ms/step - loss: 0.0373 - accuracy: 0.9907 - val_loss: 0.0642 - val_accuracy: 0.9795\n",
            "\n",
            "Epoch 00010: val_loss did not improve from 0.05875\n"
          ],
          "name": "stdout"
        }
      ]
    },
    {
      "cell_type": "code",
      "metadata": {
        "id": "mwLEpMeEoL1_"
      },
      "source": [
        "sample_submission = pd.read_csv(\"/content/drive/Shareddrives/SOGANG Parrot/sample_submission.csv/sample_submission.csv\")\n",
        "\n",
        "sample_submission[list_classes] = model.predict(X_te)\n",
        "\n",
        "sample_submission.to_csv(\"/content/drive/Shareddrives/SOGANG Parrot/All-submission/0407-ver4-v2-add-len-translated-prprocessing-pretrained-embed-Glove.csv\", index=False)"
      ],
      "execution_count": null,
      "outputs": []
    },
    {
      "cell_type": "markdown",
      "metadata": {
        "id": "_Ch3XLu9rV9a"
      },
      "source": [
        "![image.png](data:image/png;base64,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)"
      ]
    },
    {
      "cell_type": "markdown",
      "metadata": {
        "id": "vF_QsVglJ38l"
      },
      "source": [
        "# Model change"
      ]
    },
    {
      "cell_type": "code",
      "metadata": {
        "colab": {
          "base_uri": "https://localhost:8080/"
        },
        "id": "jEFqwRdPJkTj",
        "outputId": "70e1e33a-dffc-4880-b967-dc60ac96746b"
      },
      "source": [
        "train = pd.read_csv('/content/drive/Shareddrives/SOGANG Parrot/Ho-colab/0407-add-len-translated_train.csv')\n",
        "test = pd.read_csv('/content/drive/Shareddrives/SOGANG Parrot/Ho-colab/0407-add-len-translated_test.csv')\n",
        "\n",
        "list_sentences_train = train['2-trans'] # (159571,)\n",
        "list_sentences_test = test['2-trans'] # (153164,)\n",
        "\n",
        "max_features = 100000\n",
        "tokenizer = Tokenizer(num_words=max_features)\n",
        "tokenizer.fit_on_texts(list_sentences_train)\n",
        "list_tokenized_train = tokenizer.texts_to_sequences(list_sentences_train)\n",
        "# list_tokenized_train[:1] = [[688,75,1,126,130, ,,, ]]\n",
        "list_tokenized_test = tokenizer.texts_to_sequences(list_sentences_test)\n",
        "# list_tokenized_test[:1] = [[2665,655,8849,656, ,,, ]]\n",
        "\n",
        "# tokenizer.word_counts = OrderedDict([('explanation', 1771),('why', 17818),('the', 496540),('edits', 9957), ,,, ])\n",
        "# tokenizer.word_index = {'the': 1,'to': 2,'of': 3,'and': 4, ,,, }\n",
        "print(len(tokenizer.word_index))\n",
        "\n",
        "maxlen = 50\n",
        "X_t = pad_sequences(list_tokenized_train, maxlen=maxlen) # (159571, 50)\n",
        "X_te = pad_sequences(list_tokenized_test, maxlen=maxlen) # (153164, 50)\n",
        "print(X_t.shape)\n",
        "\n",
        "list_classes = [\"toxic\", \"severe_toxic\", \"obscene\", \"threat\", \"insult\", \"identity_hate\"]\n",
        "y = train[list_classes].values # y.shape (159571, 6)\n",
        "print(y.shape)\n",
        "\n",
        "embedding_matrix = np.load('/content/drive/Shareddrives/SOGANG Parrot/Pretrained-Embedding-Vector/0407-add-len-translated-preprocessing-200d-pretrained-embed-Glove.npy')\n",
        "print(embedding_matrix.shape)"
      ],
      "execution_count": null,
      "outputs": [
        {
          "output_type": "stream",
          "text": [
            "172069\n",
            "(159571, 50)\n",
            "(159571, 6)\n",
            "(172069, 200)\n"
          ],
          "name": "stdout"
        }
      ]
    },
    {
      "cell_type": "code",
      "metadata": {
        "id": "JTV7lmqlJ5w9"
      },
      "source": [
        "inp = Input(shape=(maxlen, )) #maxlen=50\n",
        "x = Embedding(len(tokenizer.word_index), embedding_matrix.shape[1],\n",
        "              weights=[embedding_matrix],trainable=False)(inp)\n",
        "x = SpatialDropout1D(0.2)(x)\n",
        "x = Bidirectional(GRU(128, return_sequences=True))(x)\n",
        "x = Conv1D(64, 3, padding='valid', kernel_initializer='glorot_uniform')(x)\n",
        "avg_pool = GlobalMaxPooling1D()(x)\n",
        "max_pool = GlobalAveragePooling1D()(x)\n",
        "conc = concatenate([avg_pool, max_pool])\n",
        "# x = Dense(128, activation=\"relu\")(conc)\n",
        "# x = Dropout(0.1)(x)\n",
        "x = Dense(6, activation=\"sigmoid\")(conc)"
      ],
      "execution_count": null,
      "outputs": []
    },
    {
      "cell_type": "code",
      "metadata": {
        "colab": {
          "base_uri": "https://localhost:8080/"
        },
        "id": "v-mZnAahJ-I6",
        "outputId": "07523f6d-1cee-41c0-adb2-c565800b1e10"
      },
      "source": [
        "model = Model(inputs=inp, outputs=x)\n",
        "model.compile(loss='binary_crossentropy',\n",
        "                  optimizer='adam',\n",
        "                  metrics=['accuracy'])\n",
        "\n",
        "model.summary()"
      ],
      "execution_count": null,
      "outputs": [
        {
          "output_type": "stream",
          "text": [
            "Model: \"model\"\n",
            "__________________________________________________________________________________________________\n",
            "Layer (type)                    Output Shape         Param #     Connected to                     \n",
            "==================================================================================================\n",
            "input_1 (InputLayer)            [(None, 50)]         0                                            \n",
            "__________________________________________________________________________________________________\n",
            "embedding (Embedding)           (None, 50, 200)      34413800    input_1[0][0]                    \n",
            "__________________________________________________________________________________________________\n",
            "spatial_dropout1d (SpatialDropo (None, 50, 200)      0           embedding[0][0]                  \n",
            "__________________________________________________________________________________________________\n",
            "bidirectional (Bidirectional)   (None, 50, 256)      253440      spatial_dropout1d[0][0]          \n",
            "__________________________________________________________________________________________________\n",
            "conv1d (Conv1D)                 (None, 48, 64)       49216       bidirectional[0][0]              \n",
            "__________________________________________________________________________________________________\n",
            "global_max_pooling1d (GlobalMax (None, 64)           0           conv1d[0][0]                     \n",
            "__________________________________________________________________________________________________\n",
            "global_average_pooling1d (Globa (None, 64)           0           conv1d[0][0]                     \n",
            "__________________________________________________________________________________________________\n",
            "concatenate (Concatenate)       (None, 128)          0           global_max_pooling1d[0][0]       \n",
            "                                                                 global_average_pooling1d[0][0]   \n",
            "__________________________________________________________________________________________________\n",
            "dense (Dense)                   (None, 6)            774         concatenate[0][0]                \n",
            "==================================================================================================\n",
            "Total params: 34,717,230\n",
            "Trainable params: 303,430\n",
            "Non-trainable params: 34,413,800\n",
            "__________________________________________________________________________________________________\n"
          ],
          "name": "stdout"
        }
      ]
    },
    {
      "cell_type": "code",
      "metadata": {
        "colab": {
          "base_uri": "https://localhost:8080/"
        },
        "id": "vK8OAMQ2O9Y1",
        "outputId": "a51ca8be-2d3a-4842-acd3-c63d3698c1a3"
      },
      "source": [
        "tf.keras.backend.clear_session()\n",
        "\n",
        "from tensorflow.keras.callbacks import ModelCheckpoint\n",
        "#checkpoint\n",
        "checkpoint = ModelCheckpoint(filepath='/content/drive/Shareddrives/SOGANG Parrot/Trained-Model/0407-ver5-add-len-translated-prprocessing-pretrained-embed-Glove.hdf5', monitor='val_loss', verbose=1, save_best_only=True)\n",
        "\n",
        "batch_size = 128\n",
        "epochs = 10\n",
        "hist = model.fit(X_t,y, batch_size=batch_size, epochs=epochs, callbacks=[checkpoint], validation_split=0.1)"
      ],
      "execution_count": null,
      "outputs": [
        {
          "output_type": "stream",
          "text": [
            "Epoch 1/10\n",
            "1122/1122 [==============================] - 50s 14ms/step - loss: 0.1204 - accuracy: 0.8998 - val_loss: 0.0707 - val_accuracy: 0.9150\n",
            "\n",
            "Epoch 00001: val_loss improved from inf to 0.07072, saving model to /content/drive/Shareddrives/SOGANG Parrot/Trained-Model/0407-ver5-add-len-translated-prprocessing-pretrained-embed-Glove.hdf5\n",
            "Epoch 2/10\n",
            "1122/1122 [==============================] - 14s 13ms/step - loss: 0.0666 - accuracy: 0.9635 - val_loss: 0.0644 - val_accuracy: 0.9872\n",
            "\n",
            "Epoch 00002: val_loss improved from 0.07072 to 0.06435, saving model to /content/drive/Shareddrives/SOGANG Parrot/Trained-Model/0407-ver5-add-len-translated-prprocessing-pretrained-embed-Glove.hdf5\n",
            "Epoch 3/10\n",
            "1122/1122 [==============================] - 14s 13ms/step - loss: 0.0575 - accuracy: 0.9717 - val_loss: 0.0599 - val_accuracy: 0.9682\n",
            "\n",
            "Epoch 00003: val_loss improved from 0.06435 to 0.05986, saving model to /content/drive/Shareddrives/SOGANG Parrot/Trained-Model/0407-ver5-add-len-translated-prprocessing-pretrained-embed-Glove.hdf5\n",
            "Epoch 4/10\n",
            "1122/1122 [==============================] - 14s 13ms/step - loss: 0.0520 - accuracy: 0.9633 - val_loss: 0.0598 - val_accuracy: 0.9883\n",
            "\n",
            "Epoch 00004: val_loss improved from 0.05986 to 0.05975, saving model to /content/drive/Shareddrives/SOGANG Parrot/Trained-Model/0407-ver5-add-len-translated-prprocessing-pretrained-embed-Glove.hdf5\n",
            "Epoch 5/10\n",
            "1122/1122 [==============================] - 15s 13ms/step - loss: 0.0491 - accuracy: 0.9657 - val_loss: 0.0593 - val_accuracy: 0.9915\n",
            "\n",
            "Epoch 00005: val_loss improved from 0.05975 to 0.05934, saving model to /content/drive/Shareddrives/SOGANG Parrot/Trained-Model/0407-ver5-add-len-translated-prprocessing-pretrained-embed-Glove.hdf5\n",
            "Epoch 6/10\n",
            "1122/1122 [==============================] - 15s 13ms/step - loss: 0.0459 - accuracy: 0.9567 - val_loss: 0.0587 - val_accuracy: 0.9560\n",
            "\n",
            "Epoch 00006: val_loss improved from 0.05934 to 0.05866, saving model to /content/drive/Shareddrives/SOGANG Parrot/Trained-Model/0407-ver5-add-len-translated-prprocessing-pretrained-embed-Glove.hdf5\n",
            "Epoch 7/10\n",
            "1122/1122 [==============================] - 15s 13ms/step - loss: 0.0423 - accuracy: 0.9385 - val_loss: 0.0594 - val_accuracy: 0.9090\n",
            "\n",
            "Epoch 00007: val_loss did not improve from 0.05866\n",
            "Epoch 8/10\n",
            "1122/1122 [==============================] - 14s 13ms/step - loss: 0.0397 - accuracy: 0.9265 - val_loss: 0.0614 - val_accuracy: 0.7794\n",
            "\n",
            "Epoch 00008: val_loss did not improve from 0.05866\n",
            "Epoch 9/10\n",
            "1122/1122 [==============================] - 15s 13ms/step - loss: 0.0371 - accuracy: 0.8929 - val_loss: 0.0622 - val_accuracy: 0.9065\n",
            "\n",
            "Epoch 00009: val_loss did not improve from 0.05866\n",
            "Epoch 10/10\n",
            "1122/1122 [==============================] - 14s 13ms/step - loss: 0.0346 - accuracy: 0.8897 - val_loss: 0.0656 - val_accuracy: 0.8444\n",
            "\n",
            "Epoch 00010: val_loss did not improve from 0.05866\n"
          ],
          "name": "stdout"
        }
      ]
    },
    {
      "cell_type": "code",
      "metadata": {
        "id": "Y6010gw4PAQj"
      },
      "source": [
        "sample_submission = pd.read_csv(\"/content/drive/Shareddrives/SOGANG Parrot/sample_submission.csv/sample_submission.csv\")\n",
        "\n",
        "sample_submission[list_classes] = model.predict(X_te)\n",
        "\n",
        "sample_submission.to_csv(\"/content/drive/Shareddrives/SOGANG Parrot/All-submission/0407-ver5-add-len-translated-prprocessing-pretrained-embed-Glove.csv\", index=False)"
      ],
      "execution_count": null,
      "outputs": []
    },
    {
      "cell_type": "code",
      "metadata": {
        "colab": {
          "base_uri": "https://localhost:8080/",
          "height": 340
        },
        "id": "RH8aqiToPGVL",
        "outputId": "66f98af2-98ca-4ed1-890b-3f9440c807c9"
      },
      "source": [
        "sample_submission.head(10)"
      ],
      "execution_count": null,
      "outputs": [
        {
          "output_type": "execute_result",
          "data": {
            "text/html": [
              "<div>\n",
              "<style scoped>\n",
              "    .dataframe tbody tr th:only-of-type {\n",
              "        vertical-align: middle;\n",
              "    }\n",
              "\n",
              "    .dataframe tbody tr th {\n",
              "        vertical-align: top;\n",
              "    }\n",
              "\n",
              "    .dataframe thead th {\n",
              "        text-align: right;\n",
              "    }\n",
              "</style>\n",
              "<table border=\"1\" class=\"dataframe\">\n",
              "  <thead>\n",
              "    <tr style=\"text-align: right;\">\n",
              "      <th></th>\n",
              "      <th>id</th>\n",
              "      <th>toxic</th>\n",
              "      <th>severe_toxic</th>\n",
              "      <th>obscene</th>\n",
              "      <th>threat</th>\n",
              "      <th>insult</th>\n",
              "      <th>identity_hate</th>\n",
              "    </tr>\n",
              "  </thead>\n",
              "  <tbody>\n",
              "    <tr>\n",
              "      <th>0</th>\n",
              "      <td>00001cee341fdb12</td>\n",
              "      <td>0.997454</td>\n",
              "      <td>8.024307e-01</td>\n",
              "      <td>0.993236</td>\n",
              "      <td>1.114920e-02</td>\n",
              "      <td>0.870292</td>\n",
              "      <td>5.834671e-02</td>\n",
              "    </tr>\n",
              "    <tr>\n",
              "      <th>1</th>\n",
              "      <td>0000247867823ef7</td>\n",
              "      <td>0.005612</td>\n",
              "      <td>1.613092e-04</td>\n",
              "      <td>0.001037</td>\n",
              "      <td>3.005685e-05</td>\n",
              "      <td>0.000554</td>\n",
              "      <td>9.758793e-05</td>\n",
              "    </tr>\n",
              "    <tr>\n",
              "      <th>2</th>\n",
              "      <td>00013b17ad220c46</td>\n",
              "      <td>0.010155</td>\n",
              "      <td>6.206642e-04</td>\n",
              "      <td>0.003435</td>\n",
              "      <td>2.243146e-05</td>\n",
              "      <td>0.010444</td>\n",
              "      <td>4.942929e-04</td>\n",
              "    </tr>\n",
              "    <tr>\n",
              "      <th>3</th>\n",
              "      <td>00017563c3f7919a</td>\n",
              "      <td>0.000210</td>\n",
              "      <td>4.369850e-06</td>\n",
              "      <td>0.000007</td>\n",
              "      <td>3.227965e-08</td>\n",
              "      <td>0.000006</td>\n",
              "      <td>4.160972e-07</td>\n",
              "    </tr>\n",
              "    <tr>\n",
              "      <th>4</th>\n",
              "      <td>00017695ad8997eb</td>\n",
              "      <td>0.006923</td>\n",
              "      <td>3.036718e-04</td>\n",
              "      <td>0.001986</td>\n",
              "      <td>9.485282e-05</td>\n",
              "      <td>0.007536</td>\n",
              "      <td>2.159966e-05</td>\n",
              "    </tr>\n",
              "    <tr>\n",
              "      <th>5</th>\n",
              "      <td>0001ea8717f6de06</td>\n",
              "      <td>0.000021</td>\n",
              "      <td>6.820403e-07</td>\n",
              "      <td>0.000023</td>\n",
              "      <td>1.308400e-07</td>\n",
              "      <td>0.000104</td>\n",
              "      <td>6.359019e-07</td>\n",
              "    </tr>\n",
              "    <tr>\n",
              "      <th>6</th>\n",
              "      <td>00024115d4cbde0f</td>\n",
              "      <td>0.000139</td>\n",
              "      <td>1.766999e-06</td>\n",
              "      <td>0.000020</td>\n",
              "      <td>4.558897e-05</td>\n",
              "      <td>0.000031</td>\n",
              "      <td>2.113271e-05</td>\n",
              "    </tr>\n",
              "    <tr>\n",
              "      <th>7</th>\n",
              "      <td>000247e83dcc1211</td>\n",
              "      <td>0.969068</td>\n",
              "      <td>2.110750e-03</td>\n",
              "      <td>0.329315</td>\n",
              "      <td>1.088337e-03</td>\n",
              "      <td>0.537903</td>\n",
              "      <td>2.027326e-02</td>\n",
              "    </tr>\n",
              "    <tr>\n",
              "      <th>8</th>\n",
              "      <td>00025358d4737918</td>\n",
              "      <td>0.016457</td>\n",
              "      <td>4.065183e-04</td>\n",
              "      <td>0.004085</td>\n",
              "      <td>3.924652e-06</td>\n",
              "      <td>0.011220</td>\n",
              "      <td>6.627421e-03</td>\n",
              "    </tr>\n",
              "    <tr>\n",
              "      <th>9</th>\n",
              "      <td>00026d1092fe71cc</td>\n",
              "      <td>0.000126</td>\n",
              "      <td>9.515875e-07</td>\n",
              "      <td>0.000007</td>\n",
              "      <td>7.526357e-07</td>\n",
              "      <td>0.000032</td>\n",
              "      <td>9.083359e-06</td>\n",
              "    </tr>\n",
              "  </tbody>\n",
              "</table>\n",
              "</div>"
            ],
            "text/plain": [
              "                 id     toxic  ...    insult  identity_hate\n",
              "0  00001cee341fdb12  0.997454  ...  0.870292   5.834671e-02\n",
              "1  0000247867823ef7  0.005612  ...  0.000554   9.758793e-05\n",
              "2  00013b17ad220c46  0.010155  ...  0.010444   4.942929e-04\n",
              "3  00017563c3f7919a  0.000210  ...  0.000006   4.160972e-07\n",
              "4  00017695ad8997eb  0.006923  ...  0.007536   2.159966e-05\n",
              "5  0001ea8717f6de06  0.000021  ...  0.000104   6.359019e-07\n",
              "6  00024115d4cbde0f  0.000139  ...  0.000031   2.113271e-05\n",
              "7  000247e83dcc1211  0.969068  ...  0.537903   2.027326e-02\n",
              "8  00025358d4737918  0.016457  ...  0.011220   6.627421e-03\n",
              "9  00026d1092fe71cc  0.000126  ...  0.000032   9.083359e-06\n",
              "\n",
              "[10 rows x 7 columns]"
            ]
          },
          "metadata": {
            "tags": []
          },
          "execution_count": 8
        }
      ]
    },
    {
      "cell_type": "markdown",
      "metadata": {
        "id": "bsY8dQlVTmH0"
      },
      "source": [
        "![image.png](data:image/png;base64,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)"
      ]
    },
    {
      "cell_type": "markdown",
      "metadata": {
        "id": "-QLwR9BkVPwg"
      },
      "source": [
        "# Model change"
      ]
    },
    {
      "cell_type": "code",
      "metadata": {
        "colab": {
          "base_uri": "https://localhost:8080/"
        },
        "id": "EpMyS7zSQQje",
        "outputId": "8c1ce14f-3a5f-4638-d128-d68e222f3d73"
      },
      "source": [
        "train = pd.read_csv('/content/drive/Shareddrives/SOGANG Parrot/Ho-colab/0407-add-len-translated_train.csv')\n",
        "test = pd.read_csv('/content/drive/Shareddrives/SOGANG Parrot/Ho-colab/0407-add-len-translated_test.csv')\n",
        "\n",
        "list_sentences_train = train['2-trans'] # (159571,)\n",
        "list_sentences_test = test['2-trans'] # (153164,)\n",
        "\n",
        "max_features = 100000\n",
        "tokenizer = Tokenizer(num_words=max_features)\n",
        "tokenizer.fit_on_texts(list_sentences_train)\n",
        "list_tokenized_train = tokenizer.texts_to_sequences(list_sentences_train)\n",
        "# list_tokenized_train[:1] = [[688,75,1,126,130, ,,, ]]\n",
        "list_tokenized_test = tokenizer.texts_to_sequences(list_sentences_test)\n",
        "# list_tokenized_test[:1] = [[2665,655,8849,656, ,,, ]]\n",
        "\n",
        "# tokenizer.word_counts = OrderedDict([('explanation', 1771),('why', 17818),('the', 496540),('edits', 9957), ,,, ])\n",
        "# tokenizer.word_index = {'the': 1,'to': 2,'of': 3,'and': 4, ,,, }\n",
        "print(len(tokenizer.word_index))\n",
        "\n",
        "maxlen = 50\n",
        "X_t = pad_sequences(list_tokenized_train, maxlen=maxlen) # (159571, 50)\n",
        "X_te = pad_sequences(list_tokenized_test, maxlen=maxlen) # (153164, 50)\n",
        "print(X_t.shape)\n",
        "\n",
        "list_classes = [\"toxic\", \"severe_toxic\", \"obscene\", \"threat\", \"insult\", \"identity_hate\"]\n",
        "y = train[list_classes].values # y.shape (159571, 6)\n",
        "print(y.shape)\n",
        "\n",
        "embedding_matrix = np.load('/content/drive/Shareddrives/SOGANG Parrot/Pretrained-Embedding-Vector/0407-add-len-translated-preprocessing-200d-pretrained-embed-Glove.npy')\n",
        "print(embedding_matrix.shape)"
      ],
      "execution_count": null,
      "outputs": [
        {
          "output_type": "stream",
          "text": [
            "172069\n",
            "(159571, 50)\n",
            "(159571, 6)\n",
            "(172069, 200)\n"
          ],
          "name": "stdout"
        }
      ]
    },
    {
      "cell_type": "code",
      "metadata": {
        "id": "ZQB3XzevVUpa"
      },
      "source": [
        "inp = Input(shape=(maxlen, )) #maxlen=50\n",
        "x = Embedding(len(tokenizer.word_index), embedding_matrix.shape[1],\n",
        "              weights=[embedding_matrix],trainable=False)(inp)\n",
        "x = SpatialDropout1D(0.2)(x)\n",
        "x = Bidirectional(GRU(128, return_sequences=True, dropout=0.1))(x)\n",
        "x = Conv1D(64, 3, padding='valid', kernel_initializer='glorot_uniform')(x)\n",
        "avg_pool = GlobalMaxPooling1D()(x)\n",
        "max_pool = GlobalAveragePooling1D()(x)\n",
        "conc = concatenate([avg_pool, max_pool])\n",
        "x = Dense(128, activation=\"relu\")(conc)\n",
        "x = Dropout(0.1)(x)\n",
        "x = Dense(6, activation=\"sigmoid\")(x)"
      ],
      "execution_count": null,
      "outputs": []
    },
    {
      "cell_type": "code",
      "metadata": {
        "colab": {
          "base_uri": "https://localhost:8080/"
        },
        "id": "K1fwfkL2Vck5",
        "outputId": "6db1f67a-dbb4-4721-c0db-bb2c66cb36ef"
      },
      "source": [
        "model = Model(inputs=inp, outputs=x)\n",
        "model.compile(loss='binary_crossentropy',\n",
        "                  optimizer='adam',\n",
        "                  metrics=['accuracy'])\n",
        "\n",
        "model.summary()"
      ],
      "execution_count": null,
      "outputs": [
        {
          "output_type": "stream",
          "text": [
            "Model: \"model\"\n",
            "__________________________________________________________________________________________________\n",
            "Layer (type)                    Output Shape         Param #     Connected to                     \n",
            "==================================================================================================\n",
            "input_1 (InputLayer)            [(None, 50)]         0                                            \n",
            "__________________________________________________________________________________________________\n",
            "embedding (Embedding)           (None, 50, 200)      34413800    input_1[0][0]                    \n",
            "__________________________________________________________________________________________________\n",
            "spatial_dropout1d (SpatialDropo (None, 50, 200)      0           embedding[0][0]                  \n",
            "__________________________________________________________________________________________________\n",
            "bidirectional (Bidirectional)   (None, 50, 256)      253440      spatial_dropout1d[0][0]          \n",
            "__________________________________________________________________________________________________\n",
            "conv1d (Conv1D)                 (None, 48, 64)       49216       bidirectional[0][0]              \n",
            "__________________________________________________________________________________________________\n",
            "global_max_pooling1d (GlobalMax (None, 64)           0           conv1d[0][0]                     \n",
            "__________________________________________________________________________________________________\n",
            "global_average_pooling1d (Globa (None, 64)           0           conv1d[0][0]                     \n",
            "__________________________________________________________________________________________________\n",
            "concatenate (Concatenate)       (None, 128)          0           global_max_pooling1d[0][0]       \n",
            "                                                                 global_average_pooling1d[0][0]   \n",
            "__________________________________________________________________________________________________\n",
            "dense (Dense)                   (None, 128)          16512       concatenate[0][0]                \n",
            "__________________________________________________________________________________________________\n",
            "dropout (Dropout)               (None, 128)          0           dense[0][0]                      \n",
            "__________________________________________________________________________________________________\n",
            "dense_1 (Dense)                 (None, 6)            774         dropout[0][0]                    \n",
            "==================================================================================================\n",
            "Total params: 34,733,742\n",
            "Trainable params: 319,942\n",
            "Non-trainable params: 34,413,800\n",
            "__________________________________________________________________________________________________\n"
          ],
          "name": "stdout"
        }
      ]
    },
    {
      "cell_type": "code",
      "metadata": {
        "colab": {
          "base_uri": "https://localhost:8080/"
        },
        "id": "DIDMwrnYVeZJ",
        "outputId": "b41e9a54-d880-45ae-ab1e-1d9e0b461bd2"
      },
      "source": [
        "tf.keras.backend.clear_session()\n",
        "\n",
        "from tensorflow.keras.callbacks import ModelCheckpoint\n",
        "#checkpoint\n",
        "checkpoint = ModelCheckpoint(filepath='/content/drive/Shareddrives/SOGANG Parrot/Trained-Model/0407-ver6-add-len-translated-prprocessing-pretrained-embed-Glove.hdf5', monitor='val_loss', verbose=1, save_best_only=True)\n",
        "\n",
        "batch_size = 128\n",
        "epochs = 10\n",
        "hist = model.fit(X_t,y, batch_size=batch_size, epochs=epochs, callbacks=[checkpoint], validation_split=0.1)"
      ],
      "execution_count": null,
      "outputs": [
        {
          "output_type": "stream",
          "text": [
            "Epoch 1/10\n",
            "1122/1122 [==============================] - 19s 14ms/step - loss: 0.1225 - accuracy: 0.8410 - val_loss: 0.0705 - val_accuracy: 0.9939\n",
            "\n",
            "Epoch 00001: val_loss improved from inf to 0.07047, saving model to /content/drive/Shareddrives/SOGANG Parrot/Trained-Model/0407-ver6-add-len-translated-prprocessing-pretrained-embed-Glove.hdf5\n",
            "Epoch 2/10\n",
            "1122/1122 [==============================] - 16s 14ms/step - loss: 0.0704 - accuracy: 0.9908 - val_loss: 0.0639 - val_accuracy: 0.9940\n",
            "\n",
            "Epoch 00002: val_loss improved from 0.07047 to 0.06388, saving model to /content/drive/Shareddrives/SOGANG Parrot/Trained-Model/0407-ver6-add-len-translated-prprocessing-pretrained-embed-Glove.hdf5\n",
            "Epoch 3/10\n",
            "1122/1122 [==============================] - 16s 14ms/step - loss: 0.0622 - accuracy: 0.9939 - val_loss: 0.0626 - val_accuracy: 0.9939\n",
            "\n",
            "Epoch 00003: val_loss improved from 0.06388 to 0.06264, saving model to /content/drive/Shareddrives/SOGANG Parrot/Trained-Model/0407-ver6-add-len-translated-prprocessing-pretrained-embed-Glove.hdf5\n",
            "Epoch 4/10\n",
            "1122/1122 [==============================] - 16s 14ms/step - loss: 0.0577 - accuracy: 0.9936 - val_loss: 0.0605 - val_accuracy: 0.9939\n",
            "\n",
            "Epoch 00004: val_loss improved from 0.06264 to 0.06047, saving model to /content/drive/Shareddrives/SOGANG Parrot/Trained-Model/0407-ver6-add-len-translated-prprocessing-pretrained-embed-Glove.hdf5\n",
            "Epoch 5/10\n",
            "1122/1122 [==============================] - 16s 14ms/step - loss: 0.0536 - accuracy: 0.9937 - val_loss: 0.0602 - val_accuracy: 0.9939\n",
            "\n",
            "Epoch 00005: val_loss improved from 0.06047 to 0.06022, saving model to /content/drive/Shareddrives/SOGANG Parrot/Trained-Model/0407-ver6-add-len-translated-prprocessing-pretrained-embed-Glove.hdf5\n",
            "Epoch 6/10\n",
            "1122/1122 [==============================] - 16s 14ms/step - loss: 0.0510 - accuracy: 0.9935 - val_loss: 0.0645 - val_accuracy: 0.9939\n",
            "\n",
            "Epoch 00006: val_loss did not improve from 0.06022\n",
            "Epoch 7/10\n",
            "1122/1122 [==============================] - 16s 14ms/step - loss: 0.0485 - accuracy: 0.9931 - val_loss: 0.0592 - val_accuracy: 0.9939\n",
            "\n",
            "Epoch 00007: val_loss improved from 0.06022 to 0.05924, saving model to /content/drive/Shareddrives/SOGANG Parrot/Trained-Model/0407-ver6-add-len-translated-prprocessing-pretrained-embed-Glove.hdf5\n",
            "Epoch 8/10\n",
            "1122/1122 [==============================] - 16s 14ms/step - loss: 0.0460 - accuracy: 0.9932 - val_loss: 0.0595 - val_accuracy: 0.9919\n",
            "\n",
            "Epoch 00008: val_loss did not improve from 0.05924\n",
            "Epoch 9/10\n",
            "1122/1122 [==============================] - 16s 14ms/step - loss: 0.0446 - accuracy: 0.9918 - val_loss: 0.0613 - val_accuracy: 0.9934\n",
            "\n",
            "Epoch 00009: val_loss did not improve from 0.05924\n",
            "Epoch 10/10\n",
            "1122/1122 [==============================] - 16s 14ms/step - loss: 0.0430 - accuracy: 0.9929 - val_loss: 0.0605 - val_accuracy: 0.9928\n",
            "\n",
            "Epoch 00010: val_loss did not improve from 0.05924\n"
          ],
          "name": "stdout"
        }
      ]
    },
    {
      "cell_type": "code",
      "metadata": {
        "id": "GV3obLEcVnq9"
      },
      "source": [
        "sample_submission = pd.read_csv(\"/content/drive/Shareddrives/SOGANG Parrot/sample_submission.csv/sample_submission.csv\")\n",
        "\n",
        "sample_submission[list_classes] = model.predict(X_te)\n",
        "\n",
        "sample_submission.to_csv(\"/content/drive/Shareddrives/SOGANG Parrot/All-submission/0407-ver6-add-len-translated-prprocessing-pretrained-embed-Glove.csv\", index=False)"
      ],
      "execution_count": null,
      "outputs": []
    },
    {
      "cell_type": "markdown",
      "metadata": {
        "id": "YBF6cubonw6n"
      },
      "source": [
        "![image.png](data:image/png;base64,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)"
      ]
    },
    {
      "cell_type": "markdown",
      "metadata": {
        "id": "HBVd7yp_eqpo"
      },
      "source": [
        "# Model change"
      ]
    },
    {
      "cell_type": "code",
      "metadata": {
        "colab": {
          "base_uri": "https://localhost:8080/"
        },
        "id": "Y1QdrPDBVssp",
        "outputId": "8754665c-a176-4d6f-a7d1-7bcc6041cb5a"
      },
      "source": [
        "train = pd.read_csv('/content/drive/Shareddrives/SOGANG Parrot/Ho-colab/0407-add-len-translated_train.csv')\n",
        "test = pd.read_csv('/content/drive/Shareddrives/SOGANG Parrot/Ho-colab/0407-add-len-translated_test.csv')\n",
        "\n",
        "list_sentences_train = train['2-trans'] # (159571,)\n",
        "list_sentences_test = test['2-trans'] # (153164,)\n",
        "\n",
        "max_features = 100000\n",
        "tokenizer = Tokenizer(num_words=max_features)\n",
        "tokenizer.fit_on_texts(list_sentences_train)\n",
        "list_tokenized_train = tokenizer.texts_to_sequences(list_sentences_train)\n",
        "# list_tokenized_train[:1] = [[688,75,1,126,130, ,,, ]]\n",
        "list_tokenized_test = tokenizer.texts_to_sequences(list_sentences_test)\n",
        "# list_tokenized_test[:1] = [[2665,655,8849,656, ,,, ]]\n",
        "\n",
        "# tokenizer.word_counts = OrderedDict([('explanation', 1771),('why', 17818),('the', 496540),('edits', 9957), ,,, ])\n",
        "# tokenizer.word_index = {'the': 1,'to': 2,'of': 3,'and': 4, ,,, }\n",
        "print(len(tokenizer.word_index))\n",
        "\n",
        "maxlen = 50\n",
        "X_t = pad_sequences(list_tokenized_train, maxlen=maxlen) # (159571, 50)\n",
        "X_te = pad_sequences(list_tokenized_test, maxlen=maxlen) # (153164, 50)\n",
        "print(X_t.shape)\n",
        "\n",
        "list_classes = [\"toxic\", \"severe_toxic\", \"obscene\", \"threat\", \"insult\", \"identity_hate\"]\n",
        "y = train[list_classes].values # y.shape (159571, 6)\n",
        "print(y.shape)\n",
        "\n",
        "embedding_matrix = np.load('/content/drive/Shareddrives/SOGANG Parrot/Pretrained-Embedding-Vector/0407-add-len-translated-preprocessing-200d-pretrained-embed-Glove.npy')\n",
        "print(embedding_matrix.shape)"
      ],
      "execution_count": null,
      "outputs": [
        {
          "output_type": "stream",
          "text": [
            "172069\n",
            "(159571, 50)\n",
            "(159571, 6)\n",
            "(172069, 200)\n"
          ],
          "name": "stdout"
        }
      ]
    },
    {
      "cell_type": "code",
      "metadata": {
        "id": "C0aGhmlIeyJ5"
      },
      "source": [
        "# new one \n",
        "inp = Input(shape=(maxlen, )) #maxlen=50\n",
        "x = Embedding(len(tokenizer.word_index), embedding_matrix.shape[1],\n",
        "              weights=[embedding_matrix],trainable=False)(inp)\n",
        "x = SpatialDropout1D(0.2)(x)\n",
        "x = Bidirectional(GRU(128, return_sequences=True))(x)\n",
        "avg_pool = GlobalMaxPooling1D()(x)\n",
        "max_pool = GlobalAveragePooling1D()(x)\n",
        "conc = concatenate([avg_pool, max_pool])\n",
        "x = Dense(6, activation=\"sigmoid\")(conc)"
      ],
      "execution_count": null,
      "outputs": []
    },
    {
      "cell_type": "code",
      "metadata": {
        "colab": {
          "base_uri": "https://localhost:8080/"
        },
        "id": "J1W9MDb0e_0p",
        "outputId": "e6beaa6a-a56b-4d05-dd1c-fd78959df6fd"
      },
      "source": [
        "model = Model(inputs=inp, outputs=x)\n",
        "model.compile(loss='binary_crossentropy',\n",
        "                  optimizer='adam',\n",
        "                  metrics=['accuracy'])\n",
        "\n",
        "model.summary()"
      ],
      "execution_count": null,
      "outputs": [
        {
          "output_type": "stream",
          "text": [
            "Model: \"model\"\n",
            "__________________________________________________________________________________________________\n",
            "Layer (type)                    Output Shape         Param #     Connected to                     \n",
            "==================================================================================================\n",
            "input_1 (InputLayer)            [(None, 50)]         0                                            \n",
            "__________________________________________________________________________________________________\n",
            "embedding (Embedding)           (None, 50, 200)      34413800    input_1[0][0]                    \n",
            "__________________________________________________________________________________________________\n",
            "spatial_dropout1d (SpatialDropo (None, 50, 200)      0           embedding[0][0]                  \n",
            "__________________________________________________________________________________________________\n",
            "bidirectional (Bidirectional)   (None, 50, 256)      253440      spatial_dropout1d[0][0]          \n",
            "__________________________________________________________________________________________________\n",
            "global_max_pooling1d (GlobalMax (None, 256)          0           bidirectional[0][0]              \n",
            "__________________________________________________________________________________________________\n",
            "global_average_pooling1d (Globa (None, 256)          0           bidirectional[0][0]              \n",
            "__________________________________________________________________________________________________\n",
            "concatenate (Concatenate)       (None, 512)          0           global_max_pooling1d[0][0]       \n",
            "                                                                 global_average_pooling1d[0][0]   \n",
            "__________________________________________________________________________________________________\n",
            "dense (Dense)                   (None, 6)            3078        concatenate[0][0]                \n",
            "==================================================================================================\n",
            "Total params: 34,670,318\n",
            "Trainable params: 256,518\n",
            "Non-trainable params: 34,413,800\n",
            "__________________________________________________________________________________________________\n"
          ],
          "name": "stdout"
        }
      ]
    },
    {
      "cell_type": "code",
      "metadata": {
        "colab": {
          "base_uri": "https://localhost:8080/"
        },
        "id": "Sc2FCsvWfCBg",
        "outputId": "0ba8a5eb-8a2f-44f7-c614-dc55e828d1f0"
      },
      "source": [
        "tf.keras.backend.clear_session()\n",
        "\n",
        "from tensorflow.keras.callbacks import ModelCheckpoint\n",
        "#checkpoint\n",
        "checkpoint = ModelCheckpoint(filepath='/content/drive/Shareddrives/SOGANG Parrot/Trained-Model/0407-ver7-add-len-translated-prprocessing-pretrained-embed-Glove.hdf5', monitor='val_loss', verbose=1, save_best_only=True)\n",
        "\n",
        "batch_size = 128\n",
        "epochs = 10\n",
        "hist = model.fit(X_t,y, batch_size=batch_size, epochs=epochs, callbacks=[checkpoint], validation_split=0.1)"
      ],
      "execution_count": null,
      "outputs": [
        {
          "output_type": "stream",
          "text": [
            "Epoch 1/10\n",
            "1122/1122 [==============================] - 69s 33ms/step - loss: 0.1240 - accuracy: 0.9207 - val_loss: 0.0706 - val_accuracy: 0.9904\n",
            "\n",
            "Epoch 00001: val_loss improved from inf to 0.07057, saving model to /content/drive/Shareddrives/SOGANG Parrot/Trained-Model/0407-ver7-add-len-translated-prprocessing-pretrained-embed-Glove.hdf5\n",
            "Epoch 2/10\n",
            "1122/1122 [==============================] - 35s 32ms/step - loss: 0.0671 - accuracy: 0.9861 - val_loss: 0.0650 - val_accuracy: 0.9932\n",
            "\n",
            "Epoch 00002: val_loss improved from 0.07057 to 0.06502, saving model to /content/drive/Shareddrives/SOGANG Parrot/Trained-Model/0407-ver7-add-len-translated-prprocessing-pretrained-embed-Glove.hdf5\n",
            "Epoch 3/10\n",
            "1122/1122 [==============================] - 35s 32ms/step - loss: 0.0583 - accuracy: 0.9794 - val_loss: 0.0610 - val_accuracy: 0.9903\n",
            "\n",
            "Epoch 00003: val_loss improved from 0.06502 to 0.06103, saving model to /content/drive/Shareddrives/SOGANG Parrot/Trained-Model/0407-ver7-add-len-translated-prprocessing-pretrained-embed-Glove.hdf5\n",
            "Epoch 4/10\n",
            "1122/1122 [==============================] - 36s 32ms/step - loss: 0.0546 - accuracy: 0.9753 - val_loss: 0.0592 - val_accuracy: 0.9707\n",
            "\n",
            "Epoch 00004: val_loss improved from 0.06103 to 0.05923, saving model to /content/drive/Shareddrives/SOGANG Parrot/Trained-Model/0407-ver7-add-len-translated-prprocessing-pretrained-embed-Glove.hdf5\n",
            "Epoch 5/10\n",
            "1122/1122 [==============================] - 36s 32ms/step - loss: 0.0510 - accuracy: 0.9729 - val_loss: 0.0590 - val_accuracy: 0.9722\n",
            "\n",
            "Epoch 00005: val_loss improved from 0.05923 to 0.05904, saving model to /content/drive/Shareddrives/SOGANG Parrot/Trained-Model/0407-ver7-add-len-translated-prprocessing-pretrained-embed-Glove.hdf5\n",
            "Epoch 6/10\n",
            "1122/1122 [==============================] - 35s 32ms/step - loss: 0.0474 - accuracy: 0.9689 - val_loss: 0.0583 - val_accuracy: 0.9452\n",
            "\n",
            "Epoch 00006: val_loss improved from 0.05904 to 0.05835, saving model to /content/drive/Shareddrives/SOGANG Parrot/Trained-Model/0407-ver7-add-len-translated-prprocessing-pretrained-embed-Glove.hdf5\n",
            "Epoch 7/10\n",
            "1122/1122 [==============================] - 35s 31ms/step - loss: 0.0458 - accuracy: 0.9458 - val_loss: 0.0590 - val_accuracy: 0.9173\n",
            "\n",
            "Epoch 00007: val_loss did not improve from 0.05835\n",
            "Epoch 8/10\n",
            "1122/1122 [==============================] - 35s 31ms/step - loss: 0.0434 - accuracy: 0.9429 - val_loss: 0.0599 - val_accuracy: 0.9449\n",
            "\n",
            "Epoch 00008: val_loss did not improve from 0.05835\n",
            "Epoch 9/10\n",
            "1122/1122 [==============================] - 35s 31ms/step - loss: 0.0411 - accuracy: 0.9399 - val_loss: 0.0585 - val_accuracy: 0.9590\n",
            "\n",
            "Epoch 00009: val_loss did not improve from 0.05835\n",
            "Epoch 10/10\n",
            "1122/1122 [==============================] - 35s 32ms/step - loss: 0.0391 - accuracy: 0.9317 - val_loss: 0.0614 - val_accuracy: 0.9291\n",
            "\n",
            "Epoch 00010: val_loss did not improve from 0.05835\n"
          ],
          "name": "stdout"
        }
      ]
    },
    {
      "cell_type": "code",
      "metadata": {
        "id": "bf5oYT1zfEdK"
      },
      "source": [
        "sample_submission = pd.read_csv(\"/content/drive/Shareddrives/SOGANG Parrot/sample_submission.csv/sample_submission.csv\")\n",
        "\n",
        "sample_submission[list_classes] = model.predict(X_te)\n",
        "\n",
        "sample_submission.to_csv(\"/content/drive/Shareddrives/SOGANG Parrot/All-submission/0407-ver7-add-len-translated-prprocessing-pretrained-embed-Glove.csv\", index=False)"
      ],
      "execution_count": null,
      "outputs": []
    },
    {
      "cell_type": "markdown",
      "metadata": {
        "id": "Y712tdDflkWj"
      },
      "source": [
        "![image.png](data:image/png;base64,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)"
      ]
    },
    {
      "cell_type": "code",
      "metadata": {
        "id": "DbFrTd3QfVMO"
      },
      "source": [
        ""
      ],
      "execution_count": null,
      "outputs": []
    }
  ]
}