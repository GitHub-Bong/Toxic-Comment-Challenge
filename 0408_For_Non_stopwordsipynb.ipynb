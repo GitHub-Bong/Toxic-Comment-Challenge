{
  "nbformat": 4,
  "nbformat_minor": 0,
  "metadata": {
    "colab": {
      "name": "0408-For-Non-stopwordsipynb",
      "provenance": [],
      "collapsed_sections": [
        "Cq8VpeclxZE-",
        "yOI82mVqxsvu"
      ],
      "toc_visible": true,
      "authorship_tag": "ABX9TyNVdG5J2umZcshdY+7Ia748",
      "include_colab_link": true
    },
    "kernelspec": {
      "name": "python3",
      "display_name": "Python 3"
    },
    "language_info": {
      "name": "python"
    }
  },
  "cells": [
    {
      "cell_type": "markdown",
      "metadata": {
        "id": "view-in-github",
        "colab_type": "text"
      },
      "source": [
        "<a href=\"https://colab.research.google.com/github/GitHub-Bong/Toxic-Comment-Challenge/blob/master/0408_For_Non_stopwordsipynb.ipynb\" target=\"_parent\"><img src=\"https://colab.research.google.com/assets/colab-badge.svg\" alt=\"Open In Colab\"/></a>"
      ]
    },
    {
      "cell_type": "markdown",
      "metadata": {
        "id": "XBv5quZMwsn1"
      },
      "source": [
        "# Mount, Import"
      ]
    },
    {
      "cell_type": "code",
      "metadata": {
        "colab": {
          "base_uri": "https://localhost:8080/"
        },
        "id": "G4Fz3q2NwkEQ",
        "outputId": "2f92bf4c-a83d-4059-eee8-4e9ecf8e1996"
      },
      "source": [
        "from google.colab import drive\n",
        "drive.mount('/content/drive')"
      ],
      "execution_count": null,
      "outputs": [
        {
          "output_type": "stream",
          "text": [
            "Mounted at /content/drive\n"
          ],
          "name": "stdout"
        }
      ]
    },
    {
      "cell_type": "code",
      "metadata": {
        "id": "FHUciIL3wxnX"
      },
      "source": [
        "import tensorflow as tf\n",
        "from tensorflow import keras\n",
        "import sys, os, re, string, csv, codecs, numpy as np, pandas as pd\n",
        "import matplotlib.pyplot as plt\n",
        "%matplotlib inline\n",
        "from tensorflow.keras.preprocessing.text import Tokenizer\n",
        "from tensorflow.keras.preprocessing.sequence import pad_sequences\n",
        "from tensorflow.keras.layers import Dense, Input, LSTM, Embedding, Dropout, Activation, SpatialDropout1D, concatenate, add\n",
        "from tensorflow.keras.layers import Conv1D, GRU, Bidirectional, GlobalMaxPooling1D, GlobalAveragePooling1D\n",
        "from tensorflow.keras.models import Model, load_model\n",
        "from tensorflow.keras import initializers, regularizers, constraints, optimizers, layers"
      ],
      "execution_count": null,
      "outputs": []
    },
    {
      "cell_type": "code",
      "metadata": {
        "id": "AmoUOHt3ygrs"
      },
      "source": [
        "train = pd.read_csv('/content/drive/Shareddrives/SOGANG Parrot/Ho-colab/0407-add-len-translated_train.csv')"
      ],
      "execution_count": null,
      "outputs": []
    },
    {
      "cell_type": "code",
      "metadata": {
        "id": "DXKPMvWdzCSe"
      },
      "source": [
        "test = pd.read_csv('/content/drive/Shareddrives/SOGANG Parrot/Ho-colab/0407-add-len-translated_test.csv')"
      ],
      "execution_count": null,
      "outputs": []
    },
    {
      "cell_type": "markdown",
      "metadata": {
        "id": "8celdaX7w1Vk"
      },
      "source": [
        "----"
      ]
    },
    {
      "cell_type": "markdown",
      "metadata": {
        "id": "O_pmUjk1w2TU"
      },
      "source": [
        "# Preprocessing Augumented data"
      ]
    },
    {
      "cell_type": "markdown",
      "metadata": {
        "id": "yeFFeNlIw5Hc"
      },
      "source": [
        "## English -> French -> English"
      ]
    },
    {
      "cell_type": "code",
      "metadata": {
        "colab": {
          "base_uri": "https://localhost:8080/",
          "height": 93
        },
        "id": "QsArEq7Dw06m",
        "outputId": "7f06de48-2511-4483-d35f-22464ff22b07"
      },
      "source": [
        "train_fr = pd.read_csv('/content/drive/Shareddrives/SOGANG Parrot/Ho-colab/train_fr.csv')\n",
        "train_fr['2-trans'] = train_fr['comment_text']\n",
        "train_fr.head(1)"
      ],
      "execution_count": null,
      "outputs": [
        {
          "output_type": "execute_result",
          "data": {
            "text/html": [
              "<div>\n",
              "<style scoped>\n",
              "    .dataframe tbody tr th:only-of-type {\n",
              "        vertical-align: middle;\n",
              "    }\n",
              "\n",
              "    .dataframe tbody tr th {\n",
              "        vertical-align: top;\n",
              "    }\n",
              "\n",
              "    .dataframe thead th {\n",
              "        text-align: right;\n",
              "    }\n",
              "</style>\n",
              "<table border=\"1\" class=\"dataframe\">\n",
              "  <thead>\n",
              "    <tr style=\"text-align: right;\">\n",
              "      <th></th>\n",
              "      <th>id</th>\n",
              "      <th>comment_text</th>\n",
              "      <th>toxic</th>\n",
              "      <th>severe_toxic</th>\n",
              "      <th>obscene</th>\n",
              "      <th>threat</th>\n",
              "      <th>insult</th>\n",
              "      <th>identity_hate</th>\n",
              "      <th>2-trans</th>\n",
              "    </tr>\n",
              "  </thead>\n",
              "  <tbody>\n",
              "    <tr>\n",
              "      <th>0</th>\n",
              "      <td>0000997932d777bf</td>\n",
              "      <td>Explanation\\nWhy have the changes made under m...</td>\n",
              "      <td>0</td>\n",
              "      <td>0</td>\n",
              "      <td>0</td>\n",
              "      <td>0</td>\n",
              "      <td>0</td>\n",
              "      <td>0</td>\n",
              "      <td>Explanation\\nWhy have the changes made under m...</td>\n",
              "    </tr>\n",
              "  </tbody>\n",
              "</table>\n",
              "</div>"
            ],
            "text/plain": [
              "                 id  ...                                            2-trans\n",
              "0  0000997932d777bf  ...  Explanation\\nWhy have the changes made under m...\n",
              "\n",
              "[1 rows x 9 columns]"
            ]
          },
          "metadata": {
            "tags": []
          },
          "execution_count": 36
        }
      ]
    },
    {
      "cell_type": "code",
      "metadata": {
        "colab": {
          "base_uri": "https://localhost:8080/"
        },
        "id": "Q69xARcsw_X0",
        "outputId": "2fd9491f-64a2-4f04-f72c-95c824906252"
      },
      "source": [
        "# 1. Capitalization / Lower case\n",
        "train_fr['2-trans'] = train_fr['2-trans'].apply(lambda x: x.lower())\n",
        "# 2. Remove ~.jpg , (UTC)\n",
        "train_fr['2-trans'] = train_fr['2-trans'].apply(lambda x: re.sub(r\"\\S+\\.jpg|\\(UTC\\)\", \" \", x))\n",
        "# 3. Expand the Contractions\n",
        "!pip install contractions\n",
        "import contractions\n",
        "train_fr['2-trans'] = train_fr['2-trans'].apply(lambda x: contractions.fix(x))\n",
        "# 4. Remove URLs\n",
        "train_fr['2-trans'] = train_fr['2-trans'].apply(lambda x: re.sub(r\"https?://\\S+|www\\.\\S+\", \" \", x))\n",
        "# 5. Remove HTML tags\n",
        "train_fr['2-trans'] = train_fr['2-trans'].apply(lambda x: re.sub(r\"<.*?>|&([a-z0-9]+|#[0-9]{1,6}|#x[0-9a-f]{1,6});\", \" \", x))\n",
        "# 6. Remove Non-ASCI\n",
        "train_fr['2-trans'] = train_fr['2-trans'].apply(lambda x: re.sub(r'[^\\x00-\\x7f]',' ', x))\n",
        "# 7. Remove punctuations\n",
        "train_fr['2-trans'] = train_fr['2-trans'].apply(lambda x: re.sub(r'[]!\"$%&\\'()*+,./:;=#@?[\\\\^_`{|}~-]+', \" \", x))\n",
        "# 8. Capitalization / Lower case\n",
        "train_fr['2-trans'] = train_fr['2-trans'].apply(lambda x: x.lower())\n",
        "# # Remove stopwords\n",
        "# import nltk\n",
        "# nltk.download('stopwords')\n",
        "# from nltk.corpus import stopwords\n",
        "# stop = stopwords.words('english')\n",
        "# train_fr['2-trans'] = train_fr['2-trans'].apply(lambda x: ' '.join([word for word in x.split() if word not in (stop)]))"
      ],
      "execution_count": null,
      "outputs": [
        {
          "output_type": "stream",
          "text": [
            "Requirement already satisfied: contractions in /usr/local/lib/python3.7/dist-packages (0.0.48)\n",
            "Requirement already satisfied: textsearch>=0.0.21 in /usr/local/lib/python3.7/dist-packages (from contractions) (0.0.21)\n",
            "Requirement already satisfied: pyahocorasick in /usr/local/lib/python3.7/dist-packages (from textsearch>=0.0.21->contractions) (1.4.2)\n",
            "Requirement already satisfied: anyascii in /usr/local/lib/python3.7/dist-packages (from textsearch>=0.0.21->contractions) (0.1.7)\n"
          ],
          "name": "stdout"
        }
      ]
    },
    {
      "cell_type": "code",
      "metadata": {
        "colab": {
          "base_uri": "https://localhost:8080/"
        },
        "id": "OGftQkAyxFB9",
        "outputId": "7972b086-534c-400e-fdaf-5a5923441ae8"
      },
      "source": [
        "# Find zero len comment\n",
        "zerolen_t = list()\n",
        "num = 0\n",
        "for i in train_fr['2-trans']:\n",
        "  if not re.search('\\S',i):\n",
        "    zerolen_t.append(num)\n",
        "  num += 1\n",
        "print(len(zerolen_t))  # 전처리 되어서 ''된 갯수 "
      ],
      "execution_count": null,
      "outputs": [
        {
          "output_type": "stream",
          "text": [
            "16\n"
          ],
          "name": "stdout"
        }
      ]
    },
    {
      "cell_type": "code",
      "metadata": {
        "colab": {
          "base_uri": "https://localhost:8080/"
        },
        "id": "pq4_-4xixeud",
        "outputId": "9ab4a7c8-6015-4140-c73d-add002d932c4"
      },
      "source": [
        "# 기존 comment_text 로 교체\n",
        "for i in zerolen_t:\n",
        "  train_fr['2-trans'][i] = train_fr['comment_text'][i] # 기본 데이터로 대체"
      ],
      "execution_count": null,
      "outputs": [
        {
          "output_type": "stream",
          "text": [
            "/usr/local/lib/python3.7/dist-packages/ipykernel_launcher.py:3: SettingWithCopyWarning: \n",
            "A value is trying to be set on a copy of a slice from a DataFrame\n",
            "\n",
            "See the caveats in the documentation: https://pandas.pydata.org/pandas-docs/stable/user_guide/indexing.html#returning-a-view-versus-a-copy\n",
            "  This is separate from the ipykernel package so we can avoid doing imports until\n"
          ],
          "name": "stderr"
        }
      ]
    },
    {
      "cell_type": "markdown",
      "metadata": {
        "id": "Cq8VpeclxZE-"
      },
      "source": [
        "## English -> Deutsch -> English"
      ]
    },
    {
      "cell_type": "code",
      "metadata": {
        "colab": {
          "base_uri": "https://localhost:8080/",
          "height": 93
        },
        "id": "g7yfMAznxVa0",
        "outputId": "00564e4b-0e8c-4127-81fe-7d30266ee785"
      },
      "source": [
        "train_de = pd.read_csv('/content/drive/Shareddrives/SOGANG Parrot/Ho-colab/train_de.csv')\n",
        "train_de['2-trans'] = train_de['comment_text']\n",
        "train_de.head(1)"
      ],
      "execution_count": null,
      "outputs": [
        {
          "output_type": "execute_result",
          "data": {
            "text/html": [
              "<div>\n",
              "<style scoped>\n",
              "    .dataframe tbody tr th:only-of-type {\n",
              "        vertical-align: middle;\n",
              "    }\n",
              "\n",
              "    .dataframe tbody tr th {\n",
              "        vertical-align: top;\n",
              "    }\n",
              "\n",
              "    .dataframe thead th {\n",
              "        text-align: right;\n",
              "    }\n",
              "</style>\n",
              "<table border=\"1\" class=\"dataframe\">\n",
              "  <thead>\n",
              "    <tr style=\"text-align: right;\">\n",
              "      <th></th>\n",
              "      <th>id</th>\n",
              "      <th>comment_text</th>\n",
              "      <th>toxic</th>\n",
              "      <th>severe_toxic</th>\n",
              "      <th>obscene</th>\n",
              "      <th>threat</th>\n",
              "      <th>insult</th>\n",
              "      <th>identity_hate</th>\n",
              "      <th>2-trans</th>\n",
              "    </tr>\n",
              "  </thead>\n",
              "  <tbody>\n",
              "    <tr>\n",
              "      <th>0</th>\n",
              "      <td>0000997932d777bf</td>\n",
              "      <td>explanation\\nWhy have the edits been undone un...</td>\n",
              "      <td>0</td>\n",
              "      <td>0</td>\n",
              "      <td>0</td>\n",
              "      <td>0</td>\n",
              "      <td>0</td>\n",
              "      <td>0</td>\n",
              "      <td>explanation\\nWhy have the edits been undone un...</td>\n",
              "    </tr>\n",
              "  </tbody>\n",
              "</table>\n",
              "</div>"
            ],
            "text/plain": [
              "                 id  ...                                            2-trans\n",
              "0  0000997932d777bf  ...  explanation\\nWhy have the edits been undone un...\n",
              "\n",
              "[1 rows x 9 columns]"
            ]
          },
          "metadata": {
            "tags": []
          },
          "execution_count": 7
        }
      ]
    },
    {
      "cell_type": "code",
      "metadata": {
        "id": "21VClIg1xnre"
      },
      "source": [
        "# 1. Capitalization / Lower case\n",
        "train_de['2-trans'] = train_de['2-trans'].apply(lambda x: x.lower())\n",
        "# 2. Remove ~.jpg , (UTC)\n",
        "train_de['2-trans'] = train_de['2-trans'].apply(lambda x: re.sub(r\"\\S+\\.jpg|\\(UTC\\)\", \" \", x))\n",
        "# 3. Expand the Contractions\n",
        "train_de['2-trans'] = train_de['2-trans'].apply(lambda x: contractions.fix(x))\n",
        "# 4. Remove URLs\n",
        "train_de['2-trans'] = train_de['2-trans'].apply(lambda x: re.sub(r\"https?://\\S+|www\\.\\S+\", \" \", x))\n",
        "# 5. Remove HTML tags\n",
        "train_de['2-trans'] = train_de['2-trans'].apply(lambda x: re.sub(r\"<.*?>|&([a-z0-9]+|#[0-9]{1,6}|#x[0-9a-f]{1,6});\", \" \", x))\n",
        "# 6. Remove Non-ASCI\n",
        "train_de['2-trans'] = train_de['2-trans'].apply(lambda x: re.sub(r'[^\\x00-\\x7f]',' ', x))\n",
        "# 7. Remove punctuations\n",
        "train_de['2-trans'] = train_de['2-trans'].apply(lambda x: re.sub(r'[]!\"$%&\\'()*+,./:;=#@?[\\\\^_`{|}~-]+', \" \", x))\n",
        "# 8. Capitalization / Lower case\n",
        "train_de['2-trans'] = train_de['2-trans'].apply(lambda x: x.lower())\n",
        "# # Remove stopwords\n",
        "# train_de['2-trans'] = train_de['2-trans'].apply(lambda x: ' '.join([word for word in x.split() if word not in (stop)]))"
      ],
      "execution_count": null,
      "outputs": []
    },
    {
      "cell_type": "code",
      "metadata": {
        "colab": {
          "base_uri": "https://localhost:8080/"
        },
        "id": "_S14T_LcxpmP",
        "outputId": "f3be8837-ab97-4fec-bcdf-e2ec23d560df"
      },
      "source": [
        "# Find zero len comment\n",
        "zerolen_t = list()\n",
        "num = 0\n",
        "for i in train_de['2-trans']:\n",
        "  if not re.search('\\S',i):\n",
        "    zerolen_t.append(num)\n",
        "  num += 1\n",
        "print(len(zerolen_t))  # 전처리 되어서 ''된 갯수 \n",
        "\n",
        "# 기존 comment_text 로 교체\n",
        "for i in zerolen_t:\n",
        "  train_de['2-trans'][i] = train_de['comment_text'][i] # 기본 데이터로 대체"
      ],
      "execution_count": null,
      "outputs": [
        {
          "output_type": "stream",
          "text": [
            "22\n"
          ],
          "name": "stdout"
        },
        {
          "output_type": "stream",
          "text": [
            "/usr/local/lib/python3.7/dist-packages/ipykernel_launcher.py:12: SettingWithCopyWarning: \n",
            "A value is trying to be set on a copy of a slice from a DataFrame\n",
            "\n",
            "See the caveats in the documentation: https://pandas.pydata.org/pandas-docs/stable/user_guide/indexing.html#returning-a-view-versus-a-copy\n",
            "  if sys.path[0] == '':\n"
          ],
          "name": "stderr"
        }
      ]
    },
    {
      "cell_type": "markdown",
      "metadata": {
        "id": "yOI82mVqxsvu"
      },
      "source": [
        "## English -> Espanol -> English"
      ]
    },
    {
      "cell_type": "code",
      "metadata": {
        "colab": {
          "base_uri": "https://localhost:8080/",
          "height": 93
        },
        "id": "NWQzxDQ2xrq9",
        "outputId": "7e671b03-84fe-48de-ce6c-25c34bd2f14c"
      },
      "source": [
        "train_es = pd.read_csv('/content/drive/Shareddrives/SOGANG Parrot/Ho-colab/train_es.csv')\n",
        "train_es['2-trans'] = train_es['comment_text']\n",
        "train_es.head(1)"
      ],
      "execution_count": null,
      "outputs": [
        {
          "output_type": "execute_result",
          "data": {
            "text/html": [
              "<div>\n",
              "<style scoped>\n",
              "    .dataframe tbody tr th:only-of-type {\n",
              "        vertical-align: middle;\n",
              "    }\n",
              "\n",
              "    .dataframe tbody tr th {\n",
              "        vertical-align: top;\n",
              "    }\n",
              "\n",
              "    .dataframe thead th {\n",
              "        text-align: right;\n",
              "    }\n",
              "</style>\n",
              "<table border=\"1\" class=\"dataframe\">\n",
              "  <thead>\n",
              "    <tr style=\"text-align: right;\">\n",
              "      <th></th>\n",
              "      <th>id</th>\n",
              "      <th>comment_text</th>\n",
              "      <th>toxic</th>\n",
              "      <th>severe_toxic</th>\n",
              "      <th>obscene</th>\n",
              "      <th>threat</th>\n",
              "      <th>insult</th>\n",
              "      <th>identity_hate</th>\n",
              "      <th>2-trans</th>\n",
              "    </tr>\n",
              "  </thead>\n",
              "  <tbody>\n",
              "    <tr>\n",
              "      <th>0</th>\n",
              "      <td>0000997932d777bf</td>\n",
              "      <td>Explanation\\nWhy were the changes made under m...</td>\n",
              "      <td>0</td>\n",
              "      <td>0</td>\n",
              "      <td>0</td>\n",
              "      <td>0</td>\n",
              "      <td>0</td>\n",
              "      <td>0</td>\n",
              "      <td>Explanation\\nWhy were the changes made under m...</td>\n",
              "    </tr>\n",
              "  </tbody>\n",
              "</table>\n",
              "</div>"
            ],
            "text/plain": [
              "                 id  ...                                            2-trans\n",
              "0  0000997932d777bf  ...  Explanation\\nWhy were the changes made under m...\n",
              "\n",
              "[1 rows x 9 columns]"
            ]
          },
          "metadata": {
            "tags": []
          },
          "execution_count": 10
        }
      ]
    },
    {
      "cell_type": "code",
      "metadata": {
        "id": "AwyiS1Vvx0AO"
      },
      "source": [
        "# 1. Capitalization / Lower case\n",
        "train_es['2-trans'] = train_es['2-trans'].apply(lambda x: x.lower())\n",
        "# 2. Remove ~.jpg , (UTC)\n",
        "train_es['2-trans'] = train_es['2-trans'].apply(lambda x: re.sub(r\"\\S+\\.jpg|\\(UTC\\)\", \" \", x))\n",
        "# 3. Expand the Contractions\n",
        "train_es['2-trans'] = train_es['2-trans'].apply(lambda x: contractions.fix(x))\n",
        "# 4. Remove URLs\n",
        "train_es['2-trans'] = train_es['2-trans'].apply(lambda x: re.sub(r\"https?://\\S+|www\\.\\S+\", \" \", x))\n",
        "# 5. Remove HTML tags\n",
        "train_es['2-trans'] = train_es['2-trans'].apply(lambda x: re.sub(r\"<.*?>|&([a-z0-9]+|#[0-9]{1,6}|#x[0-9a-f]{1,6});\", \" \", x))\n",
        "# 6. Remove Non-ASCI\n",
        "train_es['2-trans'] = train_es['2-trans'].apply(lambda x: re.sub(r'[^\\x00-\\x7f]',' ', x))\n",
        "# 7. Remove punctuations\n",
        "train_es['2-trans'] = train_es['2-trans'].apply(lambda x: re.sub(r'[]!\"$%&\\'()*+,./:;=#@?[\\\\^_`{|}~-]+', \" \", x))\n",
        "# 8. Capitalization / Lower case\n",
        "train_es['2-trans'] = train_es['2-trans'].apply(lambda x: x.lower())\n",
        "# # Remove stopwords\n",
        "# train_es['2-trans'] = train_es['2-trans'].apply(lambda x: ' '.join([word for word in x.split() if word not in (stop)]))"
      ],
      "execution_count": null,
      "outputs": []
    },
    {
      "cell_type": "code",
      "metadata": {
        "colab": {
          "base_uri": "https://localhost:8080/"
        },
        "id": "LFfhzRN8x1uk",
        "outputId": "4ab758c1-a831-4252-c05e-a1c6c0ca5cb2"
      },
      "source": [
        "# Find zero len comment\n",
        "zerolen_t = list()\n",
        "num = 0\n",
        "for i in train_es['2-trans']:\n",
        "  if not re.search('\\S',i):\n",
        "    zerolen_t.append(num)\n",
        "  num += 1\n",
        "print(len(zerolen_t))  # 전처리 되어서 ''된 갯수 \n",
        "\n",
        "# 기존 comment_text 로 교체\n",
        "for i in zerolen_t:\n",
        "  train_es['2-trans'][i] = train_es['comment_text'][i] # 기본 데이터로 대체"
      ],
      "execution_count": null,
      "outputs": [
        {
          "output_type": "stream",
          "text": [
            "14\n"
          ],
          "name": "stdout"
        },
        {
          "output_type": "stream",
          "text": [
            "/usr/local/lib/python3.7/dist-packages/ipykernel_launcher.py:12: SettingWithCopyWarning: \n",
            "A value is trying to be set on a copy of a slice from a DataFrame\n",
            "\n",
            "See the caveats in the documentation: https://pandas.pydata.org/pandas-docs/stable/user_guide/indexing.html#returning-a-view-versus-a-copy\n",
            "  if sys.path[0] == '':\n"
          ],
          "name": "stderr"
        }
      ]
    },
    {
      "cell_type": "markdown",
      "metadata": {
        "id": "V9qv50Aox_Bv"
      },
      "source": [
        "## Train Data Augumentation"
      ]
    },
    {
      "cell_type": "code",
      "metadata": {
        "colab": {
          "base_uri": "https://localhost:8080/"
        },
        "id": "ghKiY41ux4VL",
        "outputId": "6768ff65-de53-45bc-f819-c36ab43484b6"
      },
      "source": [
        "toxic_train = pd.concat([train_de,train_es,train_fr])\n",
        "toxic_train.shape"
      ],
      "execution_count": null,
      "outputs": [
        {
          "output_type": "execute_result",
          "data": {
            "text/plain": [
              "(478713, 9)"
            ]
          },
          "metadata": {
            "tags": []
          },
          "execution_count": 13
        }
      ]
    },
    {
      "cell_type": "code",
      "metadata": {
        "id": "djIu3MqRyFWg"
      },
      "source": [
        "del train_de, train_es, train_fr"
      ],
      "execution_count": null,
      "outputs": []
    },
    {
      "cell_type": "code",
      "metadata": {
        "id": "GVi7Ec2MyGHc"
      },
      "source": [
        "train_augumented = pd.concat([toxic_train, train])\n",
        "\n",
        "from sklearn.utils import shuffle\n",
        "train_augumented = shuffle(train_augumented)"
      ],
      "execution_count": null,
      "outputs": []
    },
    {
      "cell_type": "code",
      "metadata": {
        "colab": {
          "base_uri": "https://localhost:8080/",
          "height": 333
        },
        "id": "l25AqGepyH6A",
        "outputId": "33a6b634-da5a-48f3-9b55-a043211889ec"
      },
      "source": [
        "train_augumented.head(4)"
      ],
      "execution_count": null,
      "outputs": [
        {
          "output_type": "execute_result",
          "data": {
            "text/html": [
              "<div>\n",
              "<style scoped>\n",
              "    .dataframe tbody tr th:only-of-type {\n",
              "        vertical-align: middle;\n",
              "    }\n",
              "\n",
              "    .dataframe tbody tr th {\n",
              "        vertical-align: top;\n",
              "    }\n",
              "\n",
              "    .dataframe thead th {\n",
              "        text-align: right;\n",
              "    }\n",
              "</style>\n",
              "<table border=\"1\" class=\"dataframe\">\n",
              "  <thead>\n",
              "    <tr style=\"text-align: right;\">\n",
              "      <th></th>\n",
              "      <th>id</th>\n",
              "      <th>comment_text</th>\n",
              "      <th>toxic</th>\n",
              "      <th>severe_toxic</th>\n",
              "      <th>obscene</th>\n",
              "      <th>threat</th>\n",
              "      <th>insult</th>\n",
              "      <th>identity_hate</th>\n",
              "      <th>2-trans</th>\n",
              "      <th>1-pre</th>\n",
              "      <th>len-2-trans</th>\n",
              "    </tr>\n",
              "  </thead>\n",
              "  <tbody>\n",
              "    <tr>\n",
              "      <th>75166</th>\n",
              "      <td>c91d6d6da368cd3a</td>\n",
              "      <td>\"== Tech News: 2014-44 ==\\n\\nLatest tech news ...</td>\n",
              "      <td>0</td>\n",
              "      <td>0</td>\n",
              "      <td>0</td>\n",
              "      <td>0</td>\n",
              "      <td>0</td>\n",
              "      <td>0</td>\n",
              "      <td>tech news 2014 44 latest tech news wikimedia t...</td>\n",
              "      <td>tech news 2014 44 latest tech news wikimedia t...</td>\n",
              "      <td>126.0</td>\n",
              "    </tr>\n",
              "    <tr>\n",
              "      <th>34408</th>\n",
              "      <td>5be585ffe22a67c9</td>\n",
              "      <td>I thought the page of the unit's feud was kool...</td>\n",
              "      <td>0</td>\n",
              "      <td>0</td>\n",
              "      <td>0</td>\n",
              "      <td>0</td>\n",
              "      <td>0</td>\n",
              "      <td>0</td>\n",
              "      <td>i thought the page of the unit s feud was kool...</td>\n",
              "      <td>NaN</td>\n",
              "      <td>NaN</td>\n",
              "    </tr>\n",
              "    <tr>\n",
              "      <th>6411</th>\n",
              "      <td>112062ec8681265b</td>\n",
              "      <td>\":::There was actually a (technically if not a...</td>\n",
              "      <td>0</td>\n",
              "      <td>0</td>\n",
              "      <td>0</td>\n",
              "      <td>0</td>\n",
              "      <td>0</td>\n",
              "      <td>0</td>\n",
              "      <td>actually technically aesthetically valid reaso...</td>\n",
              "      <td>actually technically aesthetically valid reaso...</td>\n",
              "      <td>28.0</td>\n",
              "    </tr>\n",
              "    <tr>\n",
              "      <th>114486</th>\n",
              "      <td>6456e110dd2fa62f</td>\n",
              "      <td>\"\\n\\nMy god, you are stupidity incarnate.  HOW...</td>\n",
              "      <td>1</td>\n",
              "      <td>0</td>\n",
              "      <td>1</td>\n",
              "      <td>0</td>\n",
              "      <td>1</td>\n",
              "      <td>0</td>\n",
              "      <td>god stupidity incarnate fuck picture causing s...</td>\n",
              "      <td>god stupidity incarnate fuck picture causing s...</td>\n",
              "      <td>26.0</td>\n",
              "    </tr>\n",
              "  </tbody>\n",
              "</table>\n",
              "</div>"
            ],
            "text/plain": [
              "                      id  ... len-2-trans\n",
              "75166   c91d6d6da368cd3a  ...       126.0\n",
              "34408   5be585ffe22a67c9  ...         NaN\n",
              "6411    112062ec8681265b  ...        28.0\n",
              "114486  6456e110dd2fa62f  ...        26.0\n",
              "\n",
              "[4 rows x 11 columns]"
            ]
          },
          "metadata": {
            "tags": []
          },
          "execution_count": 18
        }
      ]
    },
    {
      "cell_type": "code",
      "metadata": {
        "colab": {
          "base_uri": "https://localhost:8080/"
        },
        "id": "zLuNFDa-ypIM",
        "outputId": "8fd2a412-2b3a-416b-b7e8-bf628294546c"
      },
      "source": [
        "train_augumented.shape"
      ],
      "execution_count": null,
      "outputs": [
        {
          "output_type": "execute_result",
          "data": {
            "text/plain": [
              "(638284, 11)"
            ]
          },
          "metadata": {
            "tags": []
          },
          "execution_count": 19
        }
      ]
    },
    {
      "cell_type": "markdown",
      "metadata": {
        "id": "ZXGh2kscysQ0"
      },
      "source": [
        "# New Train Data"
      ]
    },
    {
      "cell_type": "code",
      "metadata": {
        "id": "KPMNdoGGyqP8"
      },
      "source": [
        "train_augumented.to_csv('/content/drive/Shareddrives/SOGANG Parrot/Ho-colab/0408-yes-stopwords.csv',index=False)"
      ],
      "execution_count": null,
      "outputs": []
    },
    {
      "cell_type": "code",
      "metadata": {
        "id": "q7PxbAPYyyx7"
      },
      "source": [
        "train_augumented = pd.read_csv('/content/drive/Shareddrives/SOGANG Parrot/Ho-colab/0408-yes-stopwords.csv')"
      ],
      "execution_count": null,
      "outputs": []
    },
    {
      "cell_type": "markdown",
      "metadata": {
        "id": "K17RrMWCy8ye"
      },
      "source": [
        "-----------------------"
      ]
    },
    {
      "cell_type": "markdown",
      "metadata": {
        "id": "KEuSa2Pmy_LD"
      },
      "source": [
        "# Tokenization"
      ]
    },
    {
      "cell_type": "code",
      "metadata": {
        "id": "ISWzAPIMy2yj"
      },
      "source": [
        "list_sentences_train = train_augumented['2-trans'] # (638284,)\n",
        "list_sentences_test = test['2-trans'] # (153164,)"
      ],
      "execution_count": null,
      "outputs": []
    },
    {
      "cell_type": "code",
      "metadata": {
        "colab": {
          "base_uri": "https://localhost:8080/"
        },
        "id": "ybHh2dbbzIu-",
        "outputId": "8aeea6e2-fb92-40c5-9610-e0966fcdd94f"
      },
      "source": [
        "max_features = 100000\n",
        "tokenizer = Tokenizer(num_words=max_features)\n",
        "tokenizer.fit_on_texts(list_sentences_train)\n",
        "list_tokenized_train = tokenizer.texts_to_sequences(list_sentences_train)\n",
        "# list_tokenized_train[:1] = [[688,75,1,126,130, ,,, ]]\n",
        "list_tokenized_test = tokenizer.texts_to_sequences(list_sentences_test)\n",
        "# list_tokenized_test[:1] = [[2665,655,8849,656, ,,, ]]\n",
        "\n",
        "# tokenizer.word_counts = OrderedDict([('explanation', 1771),('why', 17818),('the', 496540),('edits', 9957), ,,, ])\n",
        "# tokenizer.word_index = {'the': 1,'to': 2,'of': 3,'and': 4, ,,, }\n",
        "len(tokenizer.word_index)"
      ],
      "execution_count": null,
      "outputs": [
        {
          "output_type": "execute_result",
          "data": {
            "text/plain": [
              "206276"
            ]
          },
          "metadata": {
            "tags": []
          },
          "execution_count": 26
        }
      ]
    },
    {
      "cell_type": "markdown",
      "metadata": {
        "id": "RaoqU1-BzPD1"
      },
      "source": [
        "# Padding"
      ]
    },
    {
      "cell_type": "code",
      "metadata": {
        "colab": {
          "base_uri": "https://localhost:8080/"
        },
        "id": "fGhubCbczJh8",
        "outputId": "c2c34fb5-a482-4b5a-d3b3-a34ebd894c51"
      },
      "source": [
        "maxlen = 50\n",
        "X_t = pad_sequences(list_tokenized_train, maxlen=maxlen) # (638284, 50)\n",
        "X_te = pad_sequences(list_tokenized_test, maxlen=maxlen) # (153164, 50)\n",
        "\n",
        "X_t.shape"
      ],
      "execution_count": null,
      "outputs": [
        {
          "output_type": "execute_result",
          "data": {
            "text/plain": [
              "(638284, 50)"
            ]
          },
          "metadata": {
            "tags": []
          },
          "execution_count": 27
        }
      ]
    },
    {
      "cell_type": "code",
      "metadata": {
        "colab": {
          "base_uri": "https://localhost:8080/"
        },
        "id": "tLgT9Z-8zRjc",
        "outputId": "50246932-d87b-4a66-c37b-ee062e462346"
      },
      "source": [
        "list_classes = [\"toxic\", \"severe_toxic\", \"obscene\", \"threat\", \"insult\", \"identity_hate\"]\n",
        "y = train_augumented[list_classes].values # y.shape (159571, 6)\n",
        "y.shape"
      ],
      "execution_count": null,
      "outputs": [
        {
          "output_type": "execute_result",
          "data": {
            "text/plain": [
              "(638284, 6)"
            ]
          },
          "metadata": {
            "tags": []
          },
          "execution_count": 28
        }
      ]
    },
    {
      "cell_type": "markdown",
      "metadata": {
        "id": "ETDp399izT28"
      },
      "source": [
        "# Pretrained-Embedding-matrix"
      ]
    },
    {
      "cell_type": "code",
      "metadata": {
        "colab": {
          "base_uri": "https://localhost:8080/"
        },
        "id": "38LTnXXfzSld",
        "outputId": "b652204b-2042-432d-c2e7-cfcbfa5a38b1"
      },
      "source": [
        "embedding_dict = dict()\n",
        "f = open('/content/drive/Shareddrives/SOGANG Parrot/Pretrained-Embedding-Vector/glove.twitter.27B.200d.txt/glove.twitter.27B.200d.txt', encoding=\"utf8\")\n",
        "\n",
        "for line in f:\n",
        "    word_vector = line.split()\n",
        "    word = word_vector[0]\n",
        "    word_vector_arr = np.asarray(word_vector[1:], dtype='float32') # 200\n",
        "    embedding_dict[word] = word_vector_arr\n",
        "f.close()\n",
        "print('There are %s Embedding Vectors\\n' % len(embedding_dict))\n",
        "\n",
        "print(embedding_dict['respectable'])\n",
        "print(len(embedding_dict['respectable']))\n",
        "\n",
        "embedding_matrix = np.zeros((len(tokenizer.word_index)+1, 200)) # will delete first row\n",
        "\n",
        "for word, i in tokenizer.word_index.items(): \n",
        "    temp = embedding_dict.get(word) \n",
        "    if temp is not None:\n",
        "        embedding_matrix[i] = temp \n",
        "\n",
        "print(embedding_matrix.shape)\n",
        "embedding_matrix = np.delete(embedding_matrix,0,axis=0) # delete first row\n",
        "print(embedding_matrix.shape)"
      ],
      "execution_count": null,
      "outputs": [
        {
          "output_type": "stream",
          "text": [
            "There are 1193514 Embedding Vectors\n",
            "\n",
            "[-6.4748e-01 -3.7296e-01 -3.6128e-01  7.9975e-01 -2.1890e-01  7.6152e-01\n",
            " -7.3698e-02  2.2635e-01 -7.5429e-02  6.3600e-01 -6.5914e-01 -5.1787e-01\n",
            " -6.4411e-02 -3.0796e-01  4.4071e-01  1.4543e-01 -9.9792e-02 -2.3253e-01\n",
            "  2.0882e-01 -9.3256e-02 -2.9659e-01 -1.6643e-01 -1.3184e-01 -5.5247e-01\n",
            " -6.0625e-01  9.6745e-01  3.8410e-01 -1.4236e-02  2.8774e-01  7.5652e-01\n",
            "  1.1552e-01 -4.9894e-01 -9.2585e-02 -6.7708e-02  3.1373e-01  5.6426e-01\n",
            "  1.9797e-01  4.0703e-02  2.7106e-01 -3.3045e-01  3.9652e-01  1.3718e-01\n",
            "  5.0194e-01  3.7811e-01  2.9139e-01  2.6001e-01  2.9927e-01  3.6737e-01\n",
            "  1.0638e-01  3.7086e-01  2.3767e-02  6.4266e-01 -2.4067e-01 -3.1749e-01\n",
            " -3.4070e-01  9.3053e-01  1.8900e-01 -2.7260e-01 -3.5132e-01  1.4086e-01\n",
            " -1.6232e-01  8.7983e-03 -8.7401e-02 -1.2887e-01  2.5303e-01  9.0737e-01\n",
            " -3.3149e-01  5.8059e-02 -2.3855e-01  3.5351e-01 -3.8560e-01 -4.6745e-01\n",
            " -2.2487e-01 -1.9058e-01  3.4685e-02  4.1231e-01  9.3602e-02  2.0409e-01\n",
            " -2.4806e-01  1.3415e-01 -3.3103e-02 -1.3584e-01 -2.3476e-01 -8.4288e-02\n",
            "  4.6286e-01  3.8784e-01  4.4430e-01 -2.8609e-01 -2.7041e-01 -1.9235e-01\n",
            " -1.5831e-01  9.8357e-01 -2.6385e-01  5.4559e-01  3.3843e-01  3.2157e-01\n",
            "  7.3296e-01  1.0803e-01  6.5516e-01 -3.0074e-01  2.4091e-01 -2.8064e-02\n",
            " -3.1438e-01  2.2706e-01  6.0407e-01 -1.7941e-01  3.4237e-01 -8.2516e-02\n",
            "  6.8829e-02  1.9141e-01 -3.7076e-03  1.6319e-01  5.8710e-01  9.7778e-02\n",
            " -2.8883e-02 -1.4038e-01 -4.6740e-01  5.2499e-01  2.3336e-01  5.9216e-01\n",
            " -2.7878e-02  2.9111e-01 -6.0881e-01  1.0899e-01 -4.5522e-02  2.3117e-01\n",
            "  5.4563e-01 -5.5960e-01  2.9627e-01 -3.6436e-02 -6.6415e-01  7.2335e-02\n",
            "  2.1310e-01 -4.0450e-01 -2.6190e-02  3.4587e-01  8.3901e-02 -2.2964e-01\n",
            "  2.6786e-01  2.4783e-01  3.5687e-01  7.0495e-01  1.3507e-01 -5.8846e-02\n",
            "  2.4553e-01  2.3232e-01  3.1930e-01 -1.6204e-01  4.9869e-01 -7.8123e-02\n",
            " -8.7849e-02  2.2856e-01 -1.3048e+00  1.1218e-01  4.2665e-01 -3.1402e-01\n",
            " -3.2848e-02 -1.4033e-01 -1.8119e-01  8.1331e-01  2.2846e-02  2.2617e-01\n",
            " -2.1585e-01  1.7529e-02  1.8789e-01 -3.3444e-01 -4.4278e-01 -1.8998e-01\n",
            "  2.8810e-01 -4.6224e-02  1.0201e+00 -5.7756e-01 -2.7032e-01  3.2498e-02\n",
            " -2.1147e-01  1.8717e-01  1.5862e-01 -6.0124e-01 -2.0705e-01  8.3816e-02\n",
            " -4.2300e-01 -1.5713e-01 -1.6955e-01 -4.6085e-01 -2.1368e-01  2.4863e-01\n",
            " -4.2403e-01 -1.9565e-01 -3.7347e-01 -1.8980e-01  3.9056e-04  1.1618e-01\n",
            "  5.5893e-01 -3.8291e-01  2.1319e-01 -6.4864e-01  1.2915e-01  5.3299e-02\n",
            "  5.7116e-02 -1.1572e+00]\n",
            "200\n",
            "(206277, 200)\n",
            "(206276, 200)\n"
          ],
          "name": "stdout"
        }
      ]
    },
    {
      "cell_type": "code",
      "metadata": {
        "id": "kLWWxeANzWUk"
      },
      "source": [
        "np.save('/content/drive/Shareddrives/SOGANG Parrot/Pretrained-Embedding-Vector/0408-yes-stopwords-200d-pretrained-embed-Glove.npy',embedding_matrix)"
      ],
      "execution_count": null,
      "outputs": []
    },
    {
      "cell_type": "code",
      "metadata": {
        "colab": {
          "base_uri": "https://localhost:8080/"
        },
        "id": "qY2t15vvzZ-N",
        "outputId": "8fa30eb3-ec51-4cff-804d-a2f344a7adf4"
      },
      "source": [
        "embedding_matrix = np.load('/content/drive/Shareddrives/SOGANG Parrot/Pretrained-Embedding-Vector/0408-yes-stopwords-200d-pretrained-embed-Glove.npy')\n",
        "embedding_matrix"
      ],
      "execution_count": null,
      "outputs": [
        {
          "output_type": "execute_result",
          "data": {
            "text/plain": [
              "array([[ 0.49349999,  0.35698   ,  0.66068   , ...,  0.17705999,\n",
              "        -0.53694999, -0.29699001],\n",
              "       [ 0.61773998,  0.21046001,  0.52697998, ..., -0.011269  ,\n",
              "        -0.52165002,  0.093783  ],\n",
              "       [-0.0076446 , -0.089557  ,  0.32510999, ...,  0.17766   ,\n",
              "        -0.031884  , -0.22815999],\n",
              "       ...,\n",
              "       [ 0.        ,  0.        ,  0.        , ...,  0.        ,\n",
              "         0.        ,  0.        ],\n",
              "       [-0.54215997, -0.56734002, -0.078547  , ...,  0.22057   ,\n",
              "        -0.32414001, -0.12032   ],\n",
              "       [ 0.        ,  0.        ,  0.        , ...,  0.        ,\n",
              "         0.        ,  0.        ]])"
            ]
          },
          "metadata": {
            "tags": []
          },
          "execution_count": 31
        }
      ]
    },
    {
      "cell_type": "markdown",
      "metadata": {
        "id": "4HzJZvgsziyF"
      },
      "source": [
        "# Model"
      ]
    },
    {
      "cell_type": "code",
      "metadata": {
        "id": "Fh4Mgg2szilh"
      },
      "source": [
        "inp = Input(shape=(maxlen, )) #maxlen=50\n",
        "x = Embedding(len(tokenizer.word_index), embedding_matrix.shape[1],\n",
        "              weights=[embedding_matrix],trainable=False)(inp)\n",
        "x = SpatialDropout1D(0.2)(x)\n",
        "x = Bidirectional(GRU(128, return_sequences=True))(x)\n",
        "x = Conv1D(64, 3, padding='valid', kernel_initializer='glorot_uniform')(x)\n",
        "avg_pool = GlobalMaxPooling1D()(x)\n",
        "max_pool = GlobalAveragePooling1D()(x)\n",
        "conc = concatenate([avg_pool, max_pool])\n",
        "x = Dense(128, activation=\"relu\")(conc)\n",
        "x = Dropout(0.1)(x)\n",
        "x = Dense(6, activation=\"sigmoid\")(x)"
      ],
      "execution_count": null,
      "outputs": []
    },
    {
      "cell_type": "code",
      "metadata": {
        "colab": {
          "base_uri": "https://localhost:8080/"
        },
        "id": "Nlnnd6HJzjV0",
        "outputId": "75a80070-bcba-4086-8fee-7dc3e3ab0e7b"
      },
      "source": [
        "model = Model(inputs=inp, outputs=x)\n",
        "model.compile(loss='binary_crossentropy',\n",
        "                  optimizer='adam',\n",
        "                  metrics=['accuracy'])\n",
        "\n",
        "model.summary()"
      ],
      "execution_count": null,
      "outputs": [
        {
          "output_type": "stream",
          "text": [
            "Model: \"model\"\n",
            "__________________________________________________________________________________________________\n",
            "Layer (type)                    Output Shape         Param #     Connected to                     \n",
            "==================================================================================================\n",
            "input_1 (InputLayer)            [(None, 50)]         0                                            \n",
            "__________________________________________________________________________________________________\n",
            "embedding (Embedding)           (None, 50, 200)      41255200    input_1[0][0]                    \n",
            "__________________________________________________________________________________________________\n",
            "spatial_dropout1d (SpatialDropo (None, 50, 200)      0           embedding[0][0]                  \n",
            "__________________________________________________________________________________________________\n",
            "bidirectional (Bidirectional)   (None, 50, 256)      253440      spatial_dropout1d[0][0]          \n",
            "__________________________________________________________________________________________________\n",
            "conv1d (Conv1D)                 (None, 48, 64)       49216       bidirectional[0][0]              \n",
            "__________________________________________________________________________________________________\n",
            "global_max_pooling1d (GlobalMax (None, 64)           0           conv1d[0][0]                     \n",
            "__________________________________________________________________________________________________\n",
            "global_average_pooling1d (Globa (None, 64)           0           conv1d[0][0]                     \n",
            "__________________________________________________________________________________________________\n",
            "concatenate (Concatenate)       (None, 128)          0           global_max_pooling1d[0][0]       \n",
            "                                                                 global_average_pooling1d[0][0]   \n",
            "__________________________________________________________________________________________________\n",
            "dense (Dense)                   (None, 128)          16512       concatenate[0][0]                \n",
            "__________________________________________________________________________________________________\n",
            "dropout (Dropout)               (None, 128)          0           dense[0][0]                      \n",
            "__________________________________________________________________________________________________\n",
            "dense_1 (Dense)                 (None, 6)            774         dropout[0][0]                    \n",
            "==================================================================================================\n",
            "Total params: 41,575,142\n",
            "Trainable params: 319,942\n",
            "Non-trainable params: 41,255,200\n",
            "__________________________________________________________________________________________________\n"
          ],
          "name": "stdout"
        }
      ]
    },
    {
      "cell_type": "code",
      "metadata": {
        "colab": {
          "base_uri": "https://localhost:8080/"
        },
        "id": "rzeIYWshzpE-",
        "outputId": "79a9d276-0ec6-4109-a49e-63c234bf2b9d"
      },
      "source": [
        "tf.keras.backend.clear_session()\n",
        "\n",
        "from tensorflow.keras.callbacks import ModelCheckpoint\n",
        "#checkpoint\n",
        "checkpoint = ModelCheckpoint(filepath='/content/drive/Shareddrives/SOGANG Parrot/Trained-Model/040 8-yes-stopwords-pretrained-embed-Glove.hdf5', monitor='val_loss', verbose=1, save_best_only=True)\n",
        "\n",
        "batch_size = 128\n",
        "epochs = 10\n",
        "hist = model.fit(X_t,y, batch_size=batch_size, epochs=epochs, callbacks=[checkpoint], validation_split=0.1)"
      ],
      "execution_count": null,
      "outputs": [
        {
          "output_type": "stream",
          "text": [
            "Epoch 1/10\n",
            "4488/4488 [==============================] - 1586s 352ms/step - loss: 0.0929 - accuracy: 0.9210 - val_loss: 0.0566 - val_accuracy: 0.9938\n",
            "\n",
            "Epoch 00001: val_loss improved from inf to 0.05655, saving model to /content/drive/Shareddrives/SOGANG Parrot/Trained-Model/0408-yes-stopwords-pretrained-embed-Glove.hdf5\n",
            "Epoch 2/10\n",
            "4488/4488 [==============================] - 1615s 360ms/step - loss: 0.0573 - accuracy: 0.9895 - val_loss: 0.0547 - val_accuracy: 0.9939\n",
            "\n",
            "Epoch 00002: val_loss improved from 0.05655 to 0.05470, saving model to /content/drive/Shareddrives/SOGANG Parrot/Trained-Model/0408-yes-stopwords-pretrained-embed-Glove.hdf5\n",
            "Epoch 3/10\n",
            "4488/4488 [==============================] - 1609s 359ms/step - loss: 0.0520 - accuracy: 0.9857 - val_loss: 0.0492 - val_accuracy: 0.9938\n",
            "\n",
            "Epoch 00003: val_loss improved from 0.05470 to 0.04922, saving model to /content/drive/Shareddrives/SOGANG Parrot/Trained-Model/0408-yes-stopwords-pretrained-embed-Glove.hdf5\n",
            "Epoch 4/10\n",
            "4488/4488 [==============================] - 1604s 357ms/step - loss: 0.0480 - accuracy: 0.9868 - val_loss: 0.0472 - val_accuracy: 0.9506\n",
            "\n",
            "Epoch 00004: val_loss improved from 0.04922 to 0.04725, saving model to /content/drive/Shareddrives/SOGANG Parrot/Trained-Model/0408-yes-stopwords-pretrained-embed-Glove.hdf5\n",
            "Epoch 5/10\n",
            "4488/4488 [==============================] - 1618s 361ms/step - loss: 0.0449 - accuracy: 0.9798 - val_loss: 0.0458 - val_accuracy: 0.9932\n",
            "\n",
            "Epoch 00005: val_loss improved from 0.04725 to 0.04576, saving model to /content/drive/Shareddrives/SOGANG Parrot/Trained-Model/0408-yes-stopwords-pretrained-embed-Glove.hdf5\n",
            "Epoch 6/10\n",
            "4488/4488 [==============================] - 1618s 361ms/step - loss: 0.0430 - accuracy: 0.9764 - val_loss: 0.0450 - val_accuracy: 0.9929\n",
            "\n",
            "Epoch 00006: val_loss improved from 0.04576 to 0.04500, saving model to /content/drive/Shareddrives/SOGANG Parrot/Trained-Model/0408-yes-stopwords-pretrained-embed-Glove.hdf5\n",
            "Epoch 7/10\n",
            "4488/4488 [==============================] - 1626s 362ms/step - loss: 0.0410 - accuracy: 0.9692 - val_loss: 0.0452 - val_accuracy: 0.9911\n",
            "\n",
            "Epoch 00007: val_loss did not improve from 0.04500\n",
            "Epoch 8/10\n",
            "4488/4488 [==============================] - 1599s 356ms/step - loss: 0.0397 - accuracy: 0.9706 - val_loss: 0.0450 - val_accuracy: 0.9809\n",
            "\n",
            "Epoch 00008: val_loss did not improve from 0.04500\n",
            "Epoch 9/10\n",
            "4488/4488 [==============================] - 1598s 356ms/step - loss: 0.0384 - accuracy: 0.9698 - val_loss: 0.0452 - val_accuracy: 0.9848\n",
            "\n",
            "Epoch 00009: val_loss did not improve from 0.04500\n",
            "Epoch 10/10\n",
            "4488/4488 [==============================] - 1617s 360ms/step - loss: 0.0375 - accuracy: 0.9573 - val_loss: 0.0449 - val_accuracy: 0.9929\n",
            "\n",
            "Epoch 00010: val_loss improved from 0.04500 to 0.04491, saving model to /content/drive/Shareddrives/SOGANG Parrot/Trained-Model/0408-yes-stopwords-pretrained-embed-Glove.hdf5\n"
          ],
          "name": "stdout"
        }
      ]
    },
    {
      "cell_type": "code",
      "metadata": {
        "id": "gGAQiVzGztX-"
      },
      "source": [
        "sample_submission = pd.read_csv(\"/content/drive/Shareddrives/SOGANG Parrot/sample_submission.csv/sample_submission.csv\")\n",
        "\n",
        "sample_submission[list_classes] = model.predict(X_te)\n",
        "\n",
        "sample_submission.to_csv(\"/content/drive/Shareddrives/SOGANG Parrot/All-submission/0408-yes-stopwords-pretrained-embed-Glove.csv\", index=False)"
      ],
      "execution_count": null,
      "outputs": []
    },
    {
      "cell_type": "markdown",
      "metadata": {
        "id": "apvPAugmyOz6"
      },
      "source": [
        "![image.png](data:image/png;base64,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)"
      ]
    },
    {
      "cell_type": "code",
      "metadata": {
        "id": "H-cXbB_OzzrM"
      },
      "source": [
        ""
      ],
      "execution_count": null,
      "outputs": []
    }
  ]
}